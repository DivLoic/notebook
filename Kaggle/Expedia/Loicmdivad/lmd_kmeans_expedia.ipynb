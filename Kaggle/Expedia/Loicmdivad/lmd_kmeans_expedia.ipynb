{
 "cells": [
  {
   "cell_type": "code",
   "execution_count": 1,
   "metadata": {
    "collapsed": true
   },
   "outputs": [],
   "source": [
    "# coding: utf-8"
   ]
  },
  {
   "cell_type": "markdown",
   "metadata": {},
   "source": [
    "## import"
   ]
  },
  {
   "cell_type": "code",
   "execution_count": 1,
   "metadata": {
    "collapsed": false
   },
   "outputs": [],
   "source": [
    "import pandas as pd\n",
    "#import seaborn as sns\n",
    "import matplotlib.pyplot as plt\n",
    "# pip install ml_metrics\n",
    "#import ml_metrics as ml"
   ]
  },
  {
   "cell_type": "code",
   "execution_count": 4,
   "metadata": {
    "collapsed": true
   },
   "outputs": [],
   "source": [
    "from sklearn.cross_validation import train_test_split"
   ]
  },
  {
   "cell_type": "code",
   "execution_count": 2,
   "metadata": {
    "collapsed": true
   },
   "outputs": [],
   "source": [
    "import warnings\n",
    "%matplotlib inline\n",
    "warnings.filterwarnings(\"ignore\")\n",
    "#sns.set(style=\"white\", color_codes=True)"
   ]
  },
  {
   "cell_type": "code",
   "execution_count": null,
   "metadata": {
    "collapsed": true
   },
   "outputs": [],
   "source": [
    "## constantes\n",
    "SEED_STATE = 1\n",
    "KFOLDS_NUM = 10"
   ]
  },
  {
   "cell_type": "markdown",
   "metadata": {},
   "source": [
    "##### Kaggle dataset description for the Expedia challenge\n",
    "*checkout: [Kaggle web site](https://www.kaggle.com/c/expedia-hotel-recommendations/data)*\n",
    "\n",
    "**train.csv**\n",
    "\n",
    "Column | name |\tDescription\tData type\n",
    "-------|------|----------------------\n",
    "date_time |\tTimestamp |\tstring\n",
    "site_name |\tID of the Expedia point of sale (i.e. Expedia.com, Expedia.co.uk, Expedia.co.jp, ...) |\tint\n",
    "posa_continent |\tID of continent associated with site_name |\tint\n",
    "user_location_country |\tThe ID of the country the customer is located |\tint\n",
    "user_location_region |\tThe ID of the region the customer is located |\tint\n",
    "user_location_city |\tThe ID of the city the customer is located |\tint\n",
    "orig_destination_distance |\tPhysical distance between a hotel and a customer at the time of search. A null means the distance could not be calculated |\tdouble\n",
    "user_id |\tID of user |\tint\n",
    "is_mobile |\t1 when a user connected from a mobile device, 0 otherwise |\ttinyint\n",
    "is_package |\t1 if the click/booking was generated as a part of a package (i.e. combined with a flight), 0 otherwise |\tint\n",
    "channel |\tID of a marketing channel |\tint\n",
    "srch_ci |\tCheckin date |\tstring\n",
    "srch_co |\tCheckout date |\tstring\n",
    "srch_adults_cnt |\tThe number of adults specified in the hotel room |\tint\n",
    "srch_children_cnt |\tThe number of (extra occupancy) children specified in the hotel room |\tint\n",
    "srch_rm_cnt |\tThe number of hotel rooms specified in the search |\tint\n",
    "srch_destination_id |\tID of the destination where the hotel search was performed |\tint\n",
    "srch_destination_type_id |\tType of destination |\tint\n",
    "hotel_continent |\tHotel continent |\tint\n",
    "hotel_country |\tHotel country |\tint\n",
    "hotel_market |\tHotel market |\tint\n",
    "is_booking |\t1 if a booking, 0 if a click |\ttinyint\n",
    "cnt\t | Numer of similar events in the context of the same user session |\tbigint\n",
    "hotel_cluster |\tID of a hotel cluster |\tint\n",
    "\n",
    "\n",
    "**destination.csv**\n",
    "\n",
    "Column | name |\tDescription\tData type\n",
    "-------|------|-----------\n",
    "srch_destination_id |\tID of the destination where the hotel search was performed |\tint\n",
    "d1-d149 |\tlatent description of search regions |\tdouble"
   ]
  },
  {
   "cell_type": "markdown",
   "metadata": {},
   "source": [
    "## laod dataset"
   ]
  },
  {
   "cell_type": "code",
   "execution_count": 3,
   "metadata": {
    "collapsed": false
   },
   "outputs": [],
   "source": [
    "DATA_DEST = pd.read_csv(\"../data/destinations.csv\")\n",
    "DATA_TRAIN = pd.read_csv(\"../data/train.csv\")\n",
    "DATA_TEST = pd.read_csv(\"../data/test.csv\")"
   ]
  },
  {
   "cell_type": "code",
   "execution_count": 6,
   "metadata": {
    "collapsed": false,
    "scrolled": true
   },
   "outputs": [
    {
     "data": {
      "text/html": [
       "<div>\n",
       "<table border=\"1\" class=\"dataframe\">\n",
       "  <thead>\n",
       "    <tr style=\"text-align: right;\">\n",
       "      <th></th>\n",
       "      <th>srch_destination_id</th>\n",
       "      <th>d1</th>\n",
       "      <th>d2</th>\n",
       "      <th>d3</th>\n",
       "      <th>d4</th>\n",
       "      <th>d5</th>\n",
       "      <th>d6</th>\n",
       "      <th>d7</th>\n",
       "      <th>d8</th>\n",
       "      <th>d9</th>\n",
       "      <th>...</th>\n",
       "      <th>d140</th>\n",
       "      <th>d141</th>\n",
       "      <th>d142</th>\n",
       "      <th>d143</th>\n",
       "      <th>d144</th>\n",
       "      <th>d145</th>\n",
       "      <th>d146</th>\n",
       "      <th>d147</th>\n",
       "      <th>d148</th>\n",
       "      <th>d149</th>\n",
       "    </tr>\n",
       "  </thead>\n",
       "  <tbody>\n",
       "    <tr>\n",
       "      <th>0</th>\n",
       "      <td>0</td>\n",
       "      <td>-2.198657</td>\n",
       "      <td>-2.198657</td>\n",
       "      <td>-2.198657</td>\n",
       "      <td>-2.198657</td>\n",
       "      <td>-2.198657</td>\n",
       "      <td>-1.897627</td>\n",
       "      <td>-2.198657</td>\n",
       "      <td>-2.198657</td>\n",
       "      <td>-1.897627</td>\n",
       "      <td>...</td>\n",
       "      <td>-2.198657</td>\n",
       "      <td>-2.198657</td>\n",
       "      <td>-2.198657</td>\n",
       "      <td>-2.198657</td>\n",
       "      <td>-2.198657</td>\n",
       "      <td>-2.198657</td>\n",
       "      <td>-2.198657</td>\n",
       "      <td>-2.198657</td>\n",
       "      <td>-2.198657</td>\n",
       "      <td>-2.198657</td>\n",
       "    </tr>\n",
       "    <tr>\n",
       "      <th>1</th>\n",
       "      <td>1</td>\n",
       "      <td>-2.181690</td>\n",
       "      <td>-2.181690</td>\n",
       "      <td>-2.181690</td>\n",
       "      <td>-2.082564</td>\n",
       "      <td>-2.181690</td>\n",
       "      <td>-2.165028</td>\n",
       "      <td>-2.181690</td>\n",
       "      <td>-2.181690</td>\n",
       "      <td>-2.031597</td>\n",
       "      <td>...</td>\n",
       "      <td>-2.165028</td>\n",
       "      <td>-2.181690</td>\n",
       "      <td>-2.165028</td>\n",
       "      <td>-2.181690</td>\n",
       "      <td>-2.181690</td>\n",
       "      <td>-2.165028</td>\n",
       "      <td>-2.181690</td>\n",
       "      <td>-2.181690</td>\n",
       "      <td>-2.181690</td>\n",
       "      <td>-2.181690</td>\n",
       "    </tr>\n",
       "    <tr>\n",
       "      <th>2</th>\n",
       "      <td>2</td>\n",
       "      <td>-2.183490</td>\n",
       "      <td>-2.224164</td>\n",
       "      <td>-2.224164</td>\n",
       "      <td>-2.189562</td>\n",
       "      <td>-2.105819</td>\n",
       "      <td>-2.075407</td>\n",
       "      <td>-2.224164</td>\n",
       "      <td>-2.118483</td>\n",
       "      <td>-2.140393</td>\n",
       "      <td>...</td>\n",
       "      <td>-2.224164</td>\n",
       "      <td>-2.224164</td>\n",
       "      <td>-2.196379</td>\n",
       "      <td>-2.224164</td>\n",
       "      <td>-2.192009</td>\n",
       "      <td>-2.224164</td>\n",
       "      <td>-2.224164</td>\n",
       "      <td>-2.224164</td>\n",
       "      <td>-2.224164</td>\n",
       "      <td>-2.057548</td>\n",
       "    </tr>\n",
       "    <tr>\n",
       "      <th>3</th>\n",
       "      <td>3</td>\n",
       "      <td>-2.177409</td>\n",
       "      <td>-2.177409</td>\n",
       "      <td>-2.177409</td>\n",
       "      <td>-2.177409</td>\n",
       "      <td>-2.177409</td>\n",
       "      <td>-2.115485</td>\n",
       "      <td>-2.177409</td>\n",
       "      <td>-2.177409</td>\n",
       "      <td>-2.177409</td>\n",
       "      <td>...</td>\n",
       "      <td>-2.161081</td>\n",
       "      <td>-2.177409</td>\n",
       "      <td>-2.177409</td>\n",
       "      <td>-2.177409</td>\n",
       "      <td>-2.177409</td>\n",
       "      <td>-2.177409</td>\n",
       "      <td>-2.177409</td>\n",
       "      <td>-2.177409</td>\n",
       "      <td>-2.177409</td>\n",
       "      <td>-2.177409</td>\n",
       "    </tr>\n",
       "    <tr>\n",
       "      <th>4</th>\n",
       "      <td>4</td>\n",
       "      <td>-2.189562</td>\n",
       "      <td>-2.187783</td>\n",
       "      <td>-2.194008</td>\n",
       "      <td>-2.171153</td>\n",
       "      <td>-2.152303</td>\n",
       "      <td>-2.056618</td>\n",
       "      <td>-2.194008</td>\n",
       "      <td>-2.194008</td>\n",
       "      <td>-2.145911</td>\n",
       "      <td>...</td>\n",
       "      <td>-2.187356</td>\n",
       "      <td>-2.194008</td>\n",
       "      <td>-2.191779</td>\n",
       "      <td>-2.194008</td>\n",
       "      <td>-2.194008</td>\n",
       "      <td>-2.185161</td>\n",
       "      <td>-2.194008</td>\n",
       "      <td>-2.194008</td>\n",
       "      <td>-2.194008</td>\n",
       "      <td>-2.188037</td>\n",
       "    </tr>\n",
       "  </tbody>\n",
       "</table>\n",
       "<p>5 rows × 150 columns</p>\n",
       "</div>"
      ],
      "text/plain": [
       "   srch_destination_id        d1        d2        d3        d4        d5  \\\n",
       "0                    0 -2.198657 -2.198657 -2.198657 -2.198657 -2.198657   \n",
       "1                    1 -2.181690 -2.181690 -2.181690 -2.082564 -2.181690   \n",
       "2                    2 -2.183490 -2.224164 -2.224164 -2.189562 -2.105819   \n",
       "3                    3 -2.177409 -2.177409 -2.177409 -2.177409 -2.177409   \n",
       "4                    4 -2.189562 -2.187783 -2.194008 -2.171153 -2.152303   \n",
       "\n",
       "         d6        d7        d8        d9    ...         d140      d141  \\\n",
       "0 -1.897627 -2.198657 -2.198657 -1.897627    ...    -2.198657 -2.198657   \n",
       "1 -2.165028 -2.181690 -2.181690 -2.031597    ...    -2.165028 -2.181690   \n",
       "2 -2.075407 -2.224164 -2.118483 -2.140393    ...    -2.224164 -2.224164   \n",
       "3 -2.115485 -2.177409 -2.177409 -2.177409    ...    -2.161081 -2.177409   \n",
       "4 -2.056618 -2.194008 -2.194008 -2.145911    ...    -2.187356 -2.194008   \n",
       "\n",
       "       d142      d143      d144      d145      d146      d147      d148  \\\n",
       "0 -2.198657 -2.198657 -2.198657 -2.198657 -2.198657 -2.198657 -2.198657   \n",
       "1 -2.165028 -2.181690 -2.181690 -2.165028 -2.181690 -2.181690 -2.181690   \n",
       "2 -2.196379 -2.224164 -2.192009 -2.224164 -2.224164 -2.224164 -2.224164   \n",
       "3 -2.177409 -2.177409 -2.177409 -2.177409 -2.177409 -2.177409 -2.177409   \n",
       "4 -2.191779 -2.194008 -2.194008 -2.185161 -2.194008 -2.194008 -2.194008   \n",
       "\n",
       "       d149  \n",
       "0 -2.198657  \n",
       "1 -2.181690  \n",
       "2 -2.057548  \n",
       "3 -2.177409  \n",
       "4 -2.188037  \n",
       "\n",
       "[5 rows x 150 columns]"
      ]
     },
     "execution_count": 6,
     "metadata": {},
     "output_type": "execute_result"
    }
   ],
   "source": [
    "DATA_DEST.head(5)"
   ]
  },
  {
   "cell_type": "raw",
   "metadata": {
    "collapsed": false
   },
   "source": [
    "Nombre de colonnes présentant des N/A dans le fichier de destination: 0\n",
    "Nombre de colonnes présentant des N/A dans le fichier de recherche: 3"
   ]
  },
  {
   "cell_type": "code",
   "execution_count": 7,
   "metadata": {
    "collapsed": false
   },
   "outputs": [
    {
     "name": "stdout",
     "output_type": "stream",
     "text": [
      "100\n"
     ]
    }
   ],
   "source": [
    "print len(DATA_TRAIN[\"hotel_cluster\"].unique())"
   ]
  },
  {
   "cell_type": "code",
   "execution_count": 8,
   "metadata": {
    "collapsed": false
   },
   "outputs": [
    {
     "data": {
      "text/plain": [
       "array([1, 6, 4, 8, 3, 7, 5, 9, 0, 2])"
      ]
     },
     "execution_count": 8,
     "metadata": {},
     "output_type": "execute_result"
    }
   ],
   "source": [
    "DATA_TRAIN[\"srch_destination_type_id\"].unique()"
   ]
  },
  {
   "cell_type": "code",
   "execution_count": 9,
   "metadata": {
    "collapsed": true
   },
   "outputs": [],
   "source": [
    "DATA_TRAIN[\"date_time\"] = pd.to_datetime(DATA_TRAIN[\"date_time\"])\n",
    "DATA_TRAIN[\"year\"] = DATA_TRAIN[\"date_time\"].dt.year\n",
    "DATA_TRAIN[\"month\"] = DATA_TRAIN[\"date_time\"].dt.month"
   ]
  },
  {
   "cell_type": "code",
   "execution_count": 10,
   "metadata": {
    "collapsed": false
   },
   "outputs": [
    {
     "data": {
      "text/plain": [
       "37670293"
      ]
     },
     "execution_count": 10,
     "metadata": {},
     "output_type": "execute_result"
    }
   ],
   "source": [
    "len(DATA_TRAIN)"
   ]
  },
  {
   "cell_type": "code",
   "execution_count": 6,
   "metadata": {
    "collapsed": false
   },
   "outputs": [],
   "source": [
    "selected = DATA_TEST[\"user_id\"].unique()\n",
    "DATA_TARGET = DATA_TRAIN[DATA_TRAIN.user_id.isin(selected)]"
   ]
  },
  {
   "cell_type": "code",
   "execution_count": 8,
   "metadata": {
    "collapsed": true
   },
   "outputs": [],
   "source": [
    "DATA_KEEPT , DATA_DROPED = train_test_split(DATA_TARGET, test_size=0.90, random_state=1)"
   ]
  },
  {
   "cell_type": "code",
   "execution_count": 9,
   "metadata": {
    "collapsed": false
   },
   "outputs": [
    {
     "name": "stdout",
     "output_type": "stream",
     "text": [
      " 1181577\n",
      " 37670293\n",
      " 37214162\n",
      " 3721416\n"
     ]
    }
   ],
   "source": [
    "print \"\",len(selected)\n",
    "print \"\",len(DATA_TRAIN)\n",
    "print \"\",len(DATA_TARGET)\n",
    "print \"\",len(DATA_KEEPT)"
   ]
  },
  {
   "cell_type": "code",
   "execution_count": 11,
   "metadata": {
    "collapsed": true
   },
   "outputs": [],
   "source": [
    "# Contruction de vecteur utilisateurs\n",
    "# classsification de \"is_booking\" sur tout train.csv\n",
    "# -> cluster partypes -> proba booking cluster ->\n"
   ]
  },
  {
   "cell_type": "code",
   "execution_count": 12,
   "metadata": {
    "collapsed": false
   },
   "outputs": [],
   "source": [
    "#DATA_TRAIN.corr()[\"hotel_cluster\"]"
   ]
  },
  {
   "cell_type": "markdown",
   "metadata": {
    "collapsed": true
   },
   "source": [
    "## Sampling"
   ]
  },
  {
   "cell_type": "code",
   "execution_count": 23,
   "metadata": {
    "collapsed": false
   },
   "outputs": [],
   "source": []
  },
  {
   "cell_type": "code",
   "execution_count": 25,
   "metadata": {
    "collapsed": true
   },
   "outputs": [],
   "source": [
    "unique_user = DATA_TRAIN.user_id.unique()"
   ]
  },
  {
   "cell_type": "code",
   "execution_count": 15,
   "metadata": {
    "collapsed": false
   },
   "outputs": [
    {
     "data": {
      "text/plain": [
       "1198786"
      ]
     },
     "execution_count": 15,
     "metadata": {},
     "output_type": "execute_result"
    }
   ],
   "source": [
    "len(unique_user)"
   ]
  },
  {
   "cell_type": "code",
   "execution_count": 24,
   "metadata": {
    "collapsed": false
   },
   "outputs": [
    {
     "ename": "NameError",
     "evalue": "name 'unique_user' is not defined",
     "output_type": "error",
     "traceback": [
      "\u001b[0;31m---------------------------------------------------------------------------\u001b[0m",
      "\u001b[0;31mNameError\u001b[0m                                 Traceback (most recent call last)",
      "\u001b[0;32m<ipython-input-24-93c690b67da4>\u001b[0m in \u001b[0;36m<module>\u001b[0;34m()\u001b[0m\n\u001b[0;32m----> 1\u001b[0;31m \u001b[0mselected_users\u001b[0m\u001b[0;34m,\u001b[0m \u001b[0mdroped_users\u001b[0m \u001b[0;34m=\u001b[0m \u001b[0mtrain_test_split\u001b[0m\u001b[0;34m(\u001b[0m\u001b[0munique_user\u001b[0m\u001b[0;34m,\u001b[0m \u001b[0mtest_size\u001b[0m\u001b[0;34m=\u001b[0m\u001b[0;36m0.60\u001b[0m\u001b[0;34m,\u001b[0m \u001b[0mrandom_state\u001b[0m\u001b[0;34m=\u001b[0m\u001b[0mSEED_STATE\u001b[0m\u001b[0;34m)\u001b[0m\u001b[0;34m\u001b[0m\u001b[0m\n\u001b[0m",
      "\u001b[0;31mNameError\u001b[0m: name 'unique_user' is not defined"
     ]
    }
   ],
   "source": [
    "selected_users, droped_users = train_test_split(unique_user, test_size=0.60, random_state=SEED_STATE)"
   ]
  },
  {
   "cell_type": "code",
   "execution_count": 17,
   "metadata": {
    "collapsed": false
   },
   "outputs": [
    {
     "name": "stdout",
     "output_type": "stream",
     "text": [
      "Nombre de users selectionnés : 11987 (ex: [477886 998582 799209] ... )\n"
     ]
    }
   ],
   "source": [
    "print \"Nombre de users selectionnés : %s (ex: %s ... )\"%(len(selected_users),selected_users[:3])"
   ]
  },
  {
   "cell_type": "code",
   "execution_count": 18,
   "metadata": {
    "collapsed": false
   },
   "outputs": [
    {
     "name": "stdout",
     "output_type": "stream",
     "text": [
      "Nombre de recherches liée aux user séléectionés : 377752\n"
     ]
    }
   ],
   "source": [
    "SELECT_TRAIN = DATA_TRAIN[DATA_TRAIN.user_id.isin(selected_users)]\n",
    "print \"Nombre de recherches liée aux user séléectionés : %s\"%(len(SELECT_TRAIN))"
   ]
  },
  {
   "cell_type": "code",
   "execution_count": 19,
   "metadata": {
    "collapsed": false
   },
   "outputs": [],
   "source": [
    "# Resampling with the same pattern, the validation set is more recent\n",
    "TRAIN_SET = SELECT_TRAIN[((SELECT_TRAIN.year == 2013) | ((SELECT_TRAIN.year == 2014) & (SELECT_TRAIN.month < 8)))]\n",
    "VALID_SET = SELECT_TRAIN[((SELECT_TRAIN.year == 2014) &  (SELECT_TRAIN.month >= 8))]"
   ]
  },
  {
   "cell_type": "code",
   "execution_count": 20,
   "metadata": {
    "collapsed": true
   },
   "outputs": [],
   "source": [
    "VALID_SET = VALID_SET[VALID_SET.is_booking == True]"
   ]
  },
  {
   "cell_type": "code",
   "execution_count": null,
   "metadata": {
    "collapsed": true
   },
   "outputs": [],
   "source": []
  },
  {
   "cell_type": "markdown",
   "metadata": {},
   "source": [
    "### Features engeneering"
   ]
  },
  {
   "cell_type": "code",
   "execution_count": null,
   "metadata": {
    "collapsed": true
   },
   "outputs": [],
   "source": []
  },
  {
   "cell_type": "code",
   "execution_count": 53,
   "metadata": {
    "collapsed": true
   },
   "outputs": [],
   "source": [
    "def dataCleaning(df, toDrop=[]):\n",
    "    \n",
    "    df[\"date_time\"] = pd.to_datetime(df[\"date_time\"])\n",
    "    df[\"srch_ci\"] = pd.to_datetime(df[\"srch_ci\"], format='%Y-%m-%d', errors=\"coerce\")\n",
    "    df[\"srch_co\"] = pd.to_datetime(df[\"srch_co\"], format='%Y-%m-%d', errors=\"coerce\")\n",
    "    \n",
    "    props = {}\n",
    "    for prop in [\"month\", \"day\", \"hour\", \"minute\", \"dayofweek\", \"quarter\"]:\n",
    "        props[prop] = getattr(df[\"date_time\"].dt, prop)\n",
    "    \n",
    "    features = [p for p in df.columns if p not in [\"date_time\", \"srch_ci\", \"srch_co\"]]\n",
    "    \n",
    "    for prop in features:\n",
    "        props[prop] = df[prop]\n",
    "    \n",
    "    date_props = [\"month\", \"day\", \"dayofweek\", \"quarter\"]\n",
    "    for prop in date_props:\n",
    "        props[\"ci_{0}\".format(prop)] = getattr(df[\"srch_ci\"].dt, prop)\n",
    "        props[\"co_{0}\".format(prop)] = getattr(df[\"srch_co\"].dt, prop)\n",
    "    props[\"stay_span\"] = (df[\"srch_co\"] - df[\"srch_ci\"]).astype('timedelta64[h]')\n",
    "        \n",
    "    frame = pd.DataFrame(props)\n",
    "    \n",
    "    #frame = frame.join(dest_pca, on=\"srch_destination_id\", how='left', rsuffix=\"dest\")\n",
    "    #frame = frame.drop(\"srch_destination_iddest\", axis=1)    \n",
    "    \n",
    "    #frame = frame.drop(toDrop, axis=1)\n",
    "    orig_dest_dist_median = frame[\"orig_destination_distance\"].median()\n",
    "    frame[\"orig_destination_distance\"].fillna(orig_dest_dist_median, inplace=True)\n",
    "    \n",
    "    return frame"
   ]
  },
  {
   "cell_type": "markdown",
   "metadata": {},
   "source": [
    "### Kmeans"
   ]
  },
  {
   "cell_type": "code",
   "execution_count": 22,
   "metadata": {
    "collapsed": true
   },
   "outputs": [],
   "source": [
    "from sklearn.cluster import KMeans"
   ]
  },
  {
   "cell_type": "code",
   "execution_count": 54,
   "metadata": {
    "collapsed": false
   },
   "outputs": [],
   "source": [
    "training_set = dataCleaning(TRAIN_SET, [\"date_time\", \"srch_ci\", \"srch_co\"])\n",
    "training_set.fillna(-1, inplace=True)"
   ]
  },
  {
   "cell_type": "code",
   "execution_count": 24,
   "metadata": {
    "collapsed": false
   },
   "outputs": [
    {
     "data": {
      "text/html": [
       "<div>\n",
       "<table border=\"1\" class=\"dataframe\">\n",
       "  <thead>\n",
       "    <tr style=\"text-align: right;\">\n",
       "      <th></th>\n",
       "      <th>channel</th>\n",
       "      <th>ci_day</th>\n",
       "      <th>ci_dayofweek</th>\n",
       "      <th>ci_month</th>\n",
       "      <th>ci_quarter</th>\n",
       "      <th>cnt</th>\n",
       "      <th>co_day</th>\n",
       "      <th>co_dayofweek</th>\n",
       "      <th>co_month</th>\n",
       "      <th>co_quarter</th>\n",
       "      <th>...</th>\n",
       "      <th>srch_children_cnt</th>\n",
       "      <th>srch_destination_id</th>\n",
       "      <th>srch_destination_type_id</th>\n",
       "      <th>srch_rm_cnt</th>\n",
       "      <th>stay_span</th>\n",
       "      <th>user_id</th>\n",
       "      <th>user_location_city</th>\n",
       "      <th>user_location_country</th>\n",
       "      <th>user_location_region</th>\n",
       "      <th>year</th>\n",
       "    </tr>\n",
       "  </thead>\n",
       "  <tbody>\n",
       "    <tr>\n",
       "      <th>2596</th>\n",
       "      <td>9</td>\n",
       "      <td>29</td>\n",
       "      <td>0</td>\n",
       "      <td>4</td>\n",
       "      <td>2</td>\n",
       "      <td>3</td>\n",
       "      <td>2</td>\n",
       "      <td>3</td>\n",
       "      <td>5</td>\n",
       "      <td>2</td>\n",
       "      <td>...</td>\n",
       "      <td>0</td>\n",
       "      <td>12727</td>\n",
       "      <td>5</td>\n",
       "      <td>1</td>\n",
       "      <td>72</td>\n",
       "      <td>13459</td>\n",
       "      <td>1263</td>\n",
       "      <td>66</td>\n",
       "      <td>462</td>\n",
       "      <td>2013</td>\n",
       "    </tr>\n",
       "    <tr>\n",
       "      <th>2597</th>\n",
       "      <td>1</td>\n",
       "      <td>25</td>\n",
       "      <td>5</td>\n",
       "      <td>5</td>\n",
       "      <td>2</td>\n",
       "      <td>5</td>\n",
       "      <td>28</td>\n",
       "      <td>1</td>\n",
       "      <td>5</td>\n",
       "      <td>2</td>\n",
       "      <td>...</td>\n",
       "      <td>0</td>\n",
       "      <td>23608</td>\n",
       "      <td>6</td>\n",
       "      <td>1</td>\n",
       "      <td>72</td>\n",
       "      <td>13459</td>\n",
       "      <td>1263</td>\n",
       "      <td>66</td>\n",
       "      <td>462</td>\n",
       "      <td>2013</td>\n",
       "    </tr>\n",
       "    <tr>\n",
       "      <th>2598</th>\n",
       "      <td>1</td>\n",
       "      <td>1</td>\n",
       "      <td>6</td>\n",
       "      <td>6</td>\n",
       "      <td>2</td>\n",
       "      <td>1</td>\n",
       "      <td>6</td>\n",
       "      <td>4</td>\n",
       "      <td>6</td>\n",
       "      <td>2</td>\n",
       "      <td>...</td>\n",
       "      <td>0</td>\n",
       "      <td>12261</td>\n",
       "      <td>6</td>\n",
       "      <td>1</td>\n",
       "      <td>120</td>\n",
       "      <td>13459</td>\n",
       "      <td>1263</td>\n",
       "      <td>66</td>\n",
       "      <td>462</td>\n",
       "      <td>2014</td>\n",
       "    </tr>\n",
       "    <tr>\n",
       "      <th>2599</th>\n",
       "      <td>1</td>\n",
       "      <td>1</td>\n",
       "      <td>6</td>\n",
       "      <td>6</td>\n",
       "      <td>2</td>\n",
       "      <td>1</td>\n",
       "      <td>6</td>\n",
       "      <td>4</td>\n",
       "      <td>6</td>\n",
       "      <td>2</td>\n",
       "      <td>...</td>\n",
       "      <td>0</td>\n",
       "      <td>12261</td>\n",
       "      <td>6</td>\n",
       "      <td>1</td>\n",
       "      <td>120</td>\n",
       "      <td>13459</td>\n",
       "      <td>1263</td>\n",
       "      <td>66</td>\n",
       "      <td>462</td>\n",
       "      <td>2014</td>\n",
       "    </tr>\n",
       "    <tr>\n",
       "      <th>2600</th>\n",
       "      <td>1</td>\n",
       "      <td>1</td>\n",
       "      <td>6</td>\n",
       "      <td>6</td>\n",
       "      <td>2</td>\n",
       "      <td>1</td>\n",
       "      <td>6</td>\n",
       "      <td>4</td>\n",
       "      <td>6</td>\n",
       "      <td>2</td>\n",
       "      <td>...</td>\n",
       "      <td>0</td>\n",
       "      <td>12261</td>\n",
       "      <td>6</td>\n",
       "      <td>1</td>\n",
       "      <td>120</td>\n",
       "      <td>13459</td>\n",
       "      <td>1263</td>\n",
       "      <td>66</td>\n",
       "      <td>462</td>\n",
       "      <td>2014</td>\n",
       "    </tr>\n",
       "  </tbody>\n",
       "</table>\n",
       "<p>5 rows × 37 columns</p>\n",
       "</div>"
      ],
      "text/plain": [
       "      channel  ci_day  ci_dayofweek  ci_month  ci_quarter  cnt  co_day  \\\n",
       "2596        9      29             0         4           2    3       2   \n",
       "2597        1      25             5         5           2    5      28   \n",
       "2598        1       1             6         6           2    1       6   \n",
       "2599        1       1             6         6           2    1       6   \n",
       "2600        1       1             6         6           2    1       6   \n",
       "\n",
       "      co_dayofweek  co_month  co_quarter  ...   srch_children_cnt  \\\n",
       "2596             3         5           2  ...                   0   \n",
       "2597             1         5           2  ...                   0   \n",
       "2598             4         6           2  ...                   0   \n",
       "2599             4         6           2  ...                   0   \n",
       "2600             4         6           2  ...                   0   \n",
       "\n",
       "      srch_destination_id  srch_destination_type_id  srch_rm_cnt  stay_span  \\\n",
       "2596                12727                         5            1         72   \n",
       "2597                23608                         6            1         72   \n",
       "2598                12261                         6            1        120   \n",
       "2599                12261                         6            1        120   \n",
       "2600                12261                         6            1        120   \n",
       "\n",
       "      user_id  user_location_city  user_location_country  \\\n",
       "2596    13459                1263                     66   \n",
       "2597    13459                1263                     66   \n",
       "2598    13459                1263                     66   \n",
       "2599    13459                1263                     66   \n",
       "2600    13459                1263                     66   \n",
       "\n",
       "      user_location_region  year  \n",
       "2596                   462  2013  \n",
       "2597                   462  2013  \n",
       "2598                   462  2014  \n",
       "2599                   462  2014  \n",
       "2600                   462  2014  \n",
       "\n",
       "[5 rows x 37 columns]"
      ]
     },
     "execution_count": 24,
     "metadata": {},
     "output_type": "execute_result"
    }
   ],
   "source": [
    "training_set.head(5)"
   ]
  },
  {
   "cell_type": "code",
   "execution_count": 25,
   "metadata": {
    "collapsed": false
   },
   "outputs": [
    {
     "data": {
      "text/plain": [
       "KMeans(copy_x=True, init='k-means++', max_iter=300, n_clusters=16, n_init=10,\n",
       "    n_jobs=1, precompute_distances='auto', random_state=1, tol=0.0001,\n",
       "    verbose=0)"
      ]
     },
     "execution_count": 25,
     "metadata": {},
     "output_type": "execute_result"
    }
   ],
   "source": [
    "kmeans = KMeans(n_clusters=16, random_state=SEED_STATE)\n",
    "kmeans.fit(training_set.drop([\"user_id\", \"is_booking\", \"hotel_cluster\"], axis=1),training_set[\"hotel_cluster\"])"
   ]
  },
  {
   "cell_type": "code",
   "execution_count": 26,
   "metadata": {
    "collapsed": false
   },
   "outputs": [],
   "source": [
    "training_set[\"kmeans\"] = kmeans.predict(training_set.drop([\"user_id\", \"is_booking\", \"hotel_cluster\"], axis=1))"
   ]
  },
  {
   "cell_type": "code",
   "execution_count": 27,
   "metadata": {
    "collapsed": false
   },
   "outputs": [
    {
     "data": {
      "text/html": [
       "<div>\n",
       "<table border=\"1\" class=\"dataframe\">\n",
       "  <thead>\n",
       "    <tr style=\"text-align: right;\">\n",
       "      <th></th>\n",
       "      <th>user_id</th>\n",
       "      <th>is_booking</th>\n",
       "      <th>hotel_cluster</th>\n",
       "      <th>kmeans</th>\n",
       "    </tr>\n",
       "  </thead>\n",
       "  <tbody>\n",
       "    <tr>\n",
       "      <th>2596</th>\n",
       "      <td>13459</td>\n",
       "      <td>0</td>\n",
       "      <td>91</td>\n",
       "      <td>0</td>\n",
       "    </tr>\n",
       "    <tr>\n",
       "      <th>2597</th>\n",
       "      <td>13459</td>\n",
       "      <td>0</td>\n",
       "      <td>5</td>\n",
       "      <td>13</td>\n",
       "    </tr>\n",
       "    <tr>\n",
       "      <th>2598</th>\n",
       "      <td>13459</td>\n",
       "      <td>0</td>\n",
       "      <td>42</td>\n",
       "      <td>0</td>\n",
       "    </tr>\n",
       "    <tr>\n",
       "      <th>2599</th>\n",
       "      <td>13459</td>\n",
       "      <td>0</td>\n",
       "      <td>72</td>\n",
       "      <td>0</td>\n",
       "    </tr>\n",
       "    <tr>\n",
       "      <th>2600</th>\n",
       "      <td>13459</td>\n",
       "      <td>0</td>\n",
       "      <td>72</td>\n",
       "      <td>0</td>\n",
       "    </tr>\n",
       "    <tr>\n",
       "      <th>2601</th>\n",
       "      <td>13459</td>\n",
       "      <td>1</td>\n",
       "      <td>72</td>\n",
       "      <td>0</td>\n",
       "    </tr>\n",
       "    <tr>\n",
       "      <th>10161</th>\n",
       "      <td>55093</td>\n",
       "      <td>0</td>\n",
       "      <td>11</td>\n",
       "      <td>6</td>\n",
       "    </tr>\n",
       "    <tr>\n",
       "      <th>13317</th>\n",
       "      <td>70663</td>\n",
       "      <td>1</td>\n",
       "      <td>70</td>\n",
       "      <td>2</td>\n",
       "    </tr>\n",
       "    <tr>\n",
       "      <th>13318</th>\n",
       "      <td>70663</td>\n",
       "      <td>0</td>\n",
       "      <td>56</td>\n",
       "      <td>7</td>\n",
       "    </tr>\n",
       "    <tr>\n",
       "      <th>13319</th>\n",
       "      <td>70663</td>\n",
       "      <td>1</td>\n",
       "      <td>56</td>\n",
       "      <td>7</td>\n",
       "    </tr>\n",
       "  </tbody>\n",
       "</table>\n",
       "</div>"
      ],
      "text/plain": [
       "       user_id  is_booking  hotel_cluster  kmeans\n",
       "2596     13459           0             91       0\n",
       "2597     13459           0              5      13\n",
       "2598     13459           0             42       0\n",
       "2599     13459           0             72       0\n",
       "2600     13459           0             72       0\n",
       "2601     13459           1             72       0\n",
       "10161    55093           0             11       6\n",
       "13317    70663           1             70       2\n",
       "13318    70663           0             56       7\n",
       "13319    70663           1             56       7"
      ]
     },
     "execution_count": 27,
     "metadata": {},
     "output_type": "execute_result"
    }
   ],
   "source": [
    "training_set[[\"user_id\", \"is_booking\", \"hotel_cluster\", \"kmeans\"]].head(10)"
   ]
  },
  {
   "cell_type": "code",
   "execution_count": 28,
   "metadata": {
    "collapsed": false
   },
   "outputs": [],
   "source": [
    "def buildTheTop(df):\n",
    "    \n",
    "    top = {}\n",
    "    clusters = df[\"kmeans\"].unique()\n",
    "    for c in clusters:\n",
    "        c_df = df[df[\"kmeans\"] == c]\n",
    "        top[\"cluster_%s\"%c] = c_df.hotel_cluster.value_counts().index\n",
    "    \n",
    "    return pd.DataFrame( dict([ (k,pd.Series(v)) for k,v in top.iteritems() ]))"
   ]
  },
  {
   "cell_type": "code",
   "execution_count": 29,
   "metadata": {
    "collapsed": false
   },
   "outputs": [
    {
     "data": {
      "text/html": [
       "<div>\n",
       "<table border=\"1\" class=\"dataframe\">\n",
       "  <thead>\n",
       "    <tr style=\"text-align: right;\">\n",
       "      <th></th>\n",
       "      <th>cluster_0</th>\n",
       "      <th>cluster_1</th>\n",
       "      <th>cluster_10</th>\n",
       "      <th>cluster_11</th>\n",
       "      <th>cluster_12</th>\n",
       "      <th>cluster_13</th>\n",
       "      <th>cluster_14</th>\n",
       "      <th>cluster_15</th>\n",
       "      <th>cluster_2</th>\n",
       "      <th>cluster_3</th>\n",
       "      <th>cluster_4</th>\n",
       "      <th>cluster_5</th>\n",
       "      <th>cluster_6</th>\n",
       "      <th>cluster_7</th>\n",
       "      <th>cluster_8</th>\n",
       "      <th>cluster_9</th>\n",
       "    </tr>\n",
       "  </thead>\n",
       "  <tbody>\n",
       "    <tr>\n",
       "      <th>0</th>\n",
       "      <td>91</td>\n",
       "      <td>91</td>\n",
       "      <td>91</td>\n",
       "      <td>41</td>\n",
       "      <td>91</td>\n",
       "      <td>91</td>\n",
       "      <td>91</td>\n",
       "      <td>65</td>\n",
       "      <td>91</td>\n",
       "      <td>41</td>\n",
       "      <td>91</td>\n",
       "      <td>91</td>\n",
       "      <td>91</td>\n",
       "      <td>46</td>\n",
       "      <td>65</td>\n",
       "      <td>65</td>\n",
       "    </tr>\n",
       "    <tr>\n",
       "      <th>1</th>\n",
       "      <td>65</td>\n",
       "      <td>65</td>\n",
       "      <td>41</td>\n",
       "      <td>5</td>\n",
       "      <td>48</td>\n",
       "      <td>82</td>\n",
       "      <td>48</td>\n",
       "      <td>91</td>\n",
       "      <td>65</td>\n",
       "      <td>48</td>\n",
       "      <td>64</td>\n",
       "      <td>48</td>\n",
       "      <td>48</td>\n",
       "      <td>64</td>\n",
       "      <td>91</td>\n",
       "      <td>91</td>\n",
       "    </tr>\n",
       "    <tr>\n",
       "      <th>2</th>\n",
       "      <td>48</td>\n",
       "      <td>41</td>\n",
       "      <td>70</td>\n",
       "      <td>82</td>\n",
       "      <td>30</td>\n",
       "      <td>48</td>\n",
       "      <td>42</td>\n",
       "      <td>98</td>\n",
       "      <td>41</td>\n",
       "      <td>91</td>\n",
       "      <td>41</td>\n",
       "      <td>30</td>\n",
       "      <td>30</td>\n",
       "      <td>91</td>\n",
       "      <td>1</td>\n",
       "      <td>41</td>\n",
       "    </tr>\n",
       "    <tr>\n",
       "      <th>3</th>\n",
       "      <td>18</td>\n",
       "      <td>48</td>\n",
       "      <td>5</td>\n",
       "      <td>83</td>\n",
       "      <td>90</td>\n",
       "      <td>30</td>\n",
       "      <td>28</td>\n",
       "      <td>41</td>\n",
       "      <td>98</td>\n",
       "      <td>70</td>\n",
       "      <td>46</td>\n",
       "      <td>82</td>\n",
       "      <td>5</td>\n",
       "      <td>41</td>\n",
       "      <td>41</td>\n",
       "      <td>64</td>\n",
       "    </tr>\n",
       "    <tr>\n",
       "      <th>4</th>\n",
       "      <td>96</td>\n",
       "      <td>18</td>\n",
       "      <td>58</td>\n",
       "      <td>91</td>\n",
       "      <td>42</td>\n",
       "      <td>62</td>\n",
       "      <td>82</td>\n",
       "      <td>1</td>\n",
       "      <td>48</td>\n",
       "      <td>5</td>\n",
       "      <td>65</td>\n",
       "      <td>42</td>\n",
       "      <td>78</td>\n",
       "      <td>5</td>\n",
       "      <td>64</td>\n",
       "      <td>70</td>\n",
       "    </tr>\n",
       "    <tr>\n",
       "      <th>5</th>\n",
       "      <td>72</td>\n",
       "      <td>95</td>\n",
       "      <td>62</td>\n",
       "      <td>99</td>\n",
       "      <td>82</td>\n",
       "      <td>42</td>\n",
       "      <td>46</td>\n",
       "      <td>64</td>\n",
       "      <td>64</td>\n",
       "      <td>83</td>\n",
       "      <td>98</td>\n",
       "      <td>78</td>\n",
       "      <td>61</td>\n",
       "      <td>98</td>\n",
       "      <td>48</td>\n",
       "      <td>98</td>\n",
       "    </tr>\n",
       "    <tr>\n",
       "      <th>6</th>\n",
       "      <td>52</td>\n",
       "      <td>83</td>\n",
       "      <td>83</td>\n",
       "      <td>62</td>\n",
       "      <td>16</td>\n",
       "      <td>78</td>\n",
       "      <td>90</td>\n",
       "      <td>48</td>\n",
       "      <td>18</td>\n",
       "      <td>82</td>\n",
       "      <td>1</td>\n",
       "      <td>50</td>\n",
       "      <td>82</td>\n",
       "      <td>70</td>\n",
       "      <td>98</td>\n",
       "      <td>48</td>\n",
       "    </tr>\n",
       "  </tbody>\n",
       "</table>\n",
       "</div>"
      ],
      "text/plain": [
       "   cluster_0  cluster_1  cluster_10  cluster_11  cluster_12  cluster_13  \\\n",
       "0         91         91          91          41          91          91   \n",
       "1         65         65          41           5          48          82   \n",
       "2         48         41          70          82          30          48   \n",
       "3         18         48           5          83          90          30   \n",
       "4         96         18          58          91          42          62   \n",
       "5         72         95          62          99          82          42   \n",
       "6         52         83          83          62          16          78   \n",
       "\n",
       "   cluster_14  cluster_15  cluster_2  cluster_3  cluster_4  cluster_5  \\\n",
       "0          91          65         91         41         91         91   \n",
       "1          48          91         65         48         64         48   \n",
       "2          42          98         41         91         41         30   \n",
       "3          28          41         98         70         46         82   \n",
       "4          82           1         48          5         65         42   \n",
       "5          46          64         64         83         98         78   \n",
       "6          90          48         18         82          1         50   \n",
       "\n",
       "   cluster_6  cluster_7  cluster_8  cluster_9  \n",
       "0         91         46         65         65  \n",
       "1         48         64         91         91  \n",
       "2         30         91          1         41  \n",
       "3          5         41         41         64  \n",
       "4         78          5         64         70  \n",
       "5         61         98         48         98  \n",
       "6         82         70         98         48  "
      ]
     },
     "execution_count": 29,
     "metadata": {},
     "output_type": "execute_result"
    }
   ],
   "source": [
    "topHotelUser = buildTopCluster(training_set)\n",
    "topHotelUser.head(7)"
   ]
  },
  {
   "cell_type": "code",
   "execution_count": 30,
   "metadata": {
    "collapsed": false
   },
   "outputs": [],
   "source": [
    "def expediaPredict(df, top, n=5):\n",
    "    submition = \"%s \"*n\n",
    "    df[\"list_hotel_cluster\"] = df[\"kmeans\"].apply(lambda y: top[\"cluster_%s\"%y][:n].astype(int).tolist())#\n",
    "    df[\"str_hotel_cluster\"] = df[\"list_hotel_cluster\"].apply(lambda y: submition%tuple(y))  \n",
    "    return df"
   ]
  },
  {
   "cell_type": "code",
   "execution_count": 31,
   "metadata": {
    "collapsed": false
   },
   "outputs": [],
   "source": [
    "train_prediction = expediaPredict(training_set, topHotelUser)"
   ]
  },
  {
   "cell_type": "code",
   "execution_count": 32,
   "metadata": {
    "collapsed": false
   },
   "outputs": [
    {
     "data": {
      "text/html": [
       "<div>\n",
       "<table border=\"1\" class=\"dataframe\">\n",
       "  <thead>\n",
       "    <tr style=\"text-align: right;\">\n",
       "      <th></th>\n",
       "      <th>user_id</th>\n",
       "      <th>is_booking</th>\n",
       "      <th>hotel_cluster</th>\n",
       "      <th>kmeans</th>\n",
       "      <th>str_hotel_cluster</th>\n",
       "    </tr>\n",
       "  </thead>\n",
       "  <tbody>\n",
       "    <tr>\n",
       "      <th>2596</th>\n",
       "      <td>13459</td>\n",
       "      <td>0</td>\n",
       "      <td>91</td>\n",
       "      <td>0</td>\n",
       "      <td>91 65 48 18 96</td>\n",
       "    </tr>\n",
       "    <tr>\n",
       "      <th>2597</th>\n",
       "      <td>13459</td>\n",
       "      <td>0</td>\n",
       "      <td>5</td>\n",
       "      <td>13</td>\n",
       "      <td>91 82 48 30 62</td>\n",
       "    </tr>\n",
       "    <tr>\n",
       "      <th>2598</th>\n",
       "      <td>13459</td>\n",
       "      <td>0</td>\n",
       "      <td>42</td>\n",
       "      <td>0</td>\n",
       "      <td>91 65 48 18 96</td>\n",
       "    </tr>\n",
       "    <tr>\n",
       "      <th>2599</th>\n",
       "      <td>13459</td>\n",
       "      <td>0</td>\n",
       "      <td>72</td>\n",
       "      <td>0</td>\n",
       "      <td>91 65 48 18 96</td>\n",
       "    </tr>\n",
       "    <tr>\n",
       "      <th>2600</th>\n",
       "      <td>13459</td>\n",
       "      <td>0</td>\n",
       "      <td>72</td>\n",
       "      <td>0</td>\n",
       "      <td>91 65 48 18 96</td>\n",
       "    </tr>\n",
       "    <tr>\n",
       "      <th>2601</th>\n",
       "      <td>13459</td>\n",
       "      <td>1</td>\n",
       "      <td>72</td>\n",
       "      <td>0</td>\n",
       "      <td>91 65 48 18 96</td>\n",
       "    </tr>\n",
       "    <tr>\n",
       "      <th>10161</th>\n",
       "      <td>55093</td>\n",
       "      <td>0</td>\n",
       "      <td>11</td>\n",
       "      <td>6</td>\n",
       "      <td>91 48 30 5 78</td>\n",
       "    </tr>\n",
       "  </tbody>\n",
       "</table>\n",
       "</div>"
      ],
      "text/plain": [
       "       user_id  is_booking  hotel_cluster  kmeans str_hotel_cluster\n",
       "2596     13459           0             91       0   91 65 48 18 96 \n",
       "2597     13459           0              5      13   91 82 48 30 62 \n",
       "2598     13459           0             42       0   91 65 48 18 96 \n",
       "2599     13459           0             72       0   91 65 48 18 96 \n",
       "2600     13459           0             72       0   91 65 48 18 96 \n",
       "2601     13459           1             72       0   91 65 48 18 96 \n",
       "10161    55093           0             11       6    91 48 30 5 78 "
      ]
     },
     "execution_count": 32,
     "metadata": {},
     "output_type": "execute_result"
    }
   ],
   "source": [
    "train_prediction[[\"user_id\", \"is_booking\", \"hotel_cluster\", \"kmeans\", \"str_hotel_cluster\"]].head(7)"
   ]
  },
  {
   "cell_type": "code",
   "execution_count": 33,
   "metadata": {
    "collapsed": false
   },
   "outputs": [],
   "source": [
    "# don't do this for the validation set or the test set\n",
    "train_score = train_prediction[train_prediction[\"is_booking\"] == 1]"
   ]
  },
  {
   "cell_type": "code",
   "execution_count": 34,
   "metadata": {
    "collapsed": false
   },
   "outputs": [
    {
     "data": {
      "text/plain": [
       "1.0"
      ]
     },
     "execution_count": 34,
     "metadata": {},
     "output_type": "execute_result"
    }
   ],
   "source": [
    "ml.mapk([train_score[\"hotel_cluster\"].tolist()], train_score[\"list_hotel_cluster\"].tolist(), k=5)"
   ]
  },
  {
   "cell_type": "markdown",
   "metadata": {},
   "source": [
    "### Validation"
   ]
  },
  {
   "cell_type": "code",
   "execution_count": 35,
   "metadata": {
    "collapsed": true
   },
   "outputs": [],
   "source": [
    "validation_set = dataCleaning(VALID_SET, [\"date_time\", \"srch_ci\", \"srch_co\"])\n",
    "training_set.fillna(-1, inplace=True)"
   ]
  },
  {
   "cell_type": "code",
   "execution_count": 36,
   "metadata": {
    "collapsed": false
   },
   "outputs": [],
   "source": [
    "validation_set[\"kmeans\"] = kmeans.predict(validation_set.drop([\"user_id\", \"is_booking\", \"hotel_cluster\"], axis=1))"
   ]
  },
  {
   "cell_type": "code",
   "execution_count": 37,
   "metadata": {
    "collapsed": false
   },
   "outputs": [
    {
     "data": {
      "text/html": [
       "<div>\n",
       "<table border=\"1\" class=\"dataframe\">\n",
       "  <thead>\n",
       "    <tr style=\"text-align: right;\">\n",
       "      <th></th>\n",
       "      <th>user_id</th>\n",
       "      <th>is_booking</th>\n",
       "      <th>hotel_cluster</th>\n",
       "      <th>kmeans</th>\n",
       "    </tr>\n",
       "  </thead>\n",
       "  <tbody>\n",
       "    <tr>\n",
       "      <th>10163</th>\n",
       "      <td>55093</td>\n",
       "      <td>1</td>\n",
       "      <td>11</td>\n",
       "      <td>13</td>\n",
       "    </tr>\n",
       "    <tr>\n",
       "      <th>13336</th>\n",
       "      <td>70663</td>\n",
       "      <td>1</td>\n",
       "      <td>41</td>\n",
       "      <td>2</td>\n",
       "    </tr>\n",
       "    <tr>\n",
       "      <th>13381</th>\n",
       "      <td>70902</td>\n",
       "      <td>1</td>\n",
       "      <td>91</td>\n",
       "      <td>6</td>\n",
       "    </tr>\n",
       "    <tr>\n",
       "      <th>33434</th>\n",
       "      <td>132019</td>\n",
       "      <td>1</td>\n",
       "      <td>95</td>\n",
       "      <td>0</td>\n",
       "    </tr>\n",
       "    <tr>\n",
       "      <th>36784</th>\n",
       "      <td>142130</td>\n",
       "      <td>1</td>\n",
       "      <td>17</td>\n",
       "      <td>10</td>\n",
       "    </tr>\n",
       "    <tr>\n",
       "      <th>44612</th>\n",
       "      <td>164338</td>\n",
       "      <td>1</td>\n",
       "      <td>56</td>\n",
       "      <td>0</td>\n",
       "    </tr>\n",
       "    <tr>\n",
       "      <th>59490</th>\n",
       "      <td>204756</td>\n",
       "      <td>1</td>\n",
       "      <td>95</td>\n",
       "      <td>4</td>\n",
       "    </tr>\n",
       "  </tbody>\n",
       "</table>\n",
       "</div>"
      ],
      "text/plain": [
       "       user_id  is_booking  hotel_cluster  kmeans\n",
       "10163    55093           1             11      13\n",
       "13336    70663           1             41       2\n",
       "13381    70902           1             91       6\n",
       "33434   132019           1             95       0\n",
       "36784   142130           1             17      10\n",
       "44612   164338           1             56       0\n",
       "59490   204756           1             95       4"
      ]
     },
     "execution_count": 37,
     "metadata": {},
     "output_type": "execute_result"
    }
   ],
   "source": [
    "validation_set[[\"user_id\", \"is_booking\", \"hotel_cluster\", \"kmeans\"]].head(7)"
   ]
  },
  {
   "cell_type": "code",
   "execution_count": 38,
   "metadata": {
    "collapsed": true
   },
   "outputs": [],
   "source": [
    "valid_prediction = expediaPredict(validation_set, topHotelUser)"
   ]
  },
  {
   "cell_type": "code",
   "execution_count": 39,
   "metadata": {
    "collapsed": false
   },
   "outputs": [
    {
     "data": {
      "text/html": [
       "<div>\n",
       "<table border=\"1\" class=\"dataframe\">\n",
       "  <thead>\n",
       "    <tr style=\"text-align: right;\">\n",
       "      <th></th>\n",
       "      <th>user_id</th>\n",
       "      <th>is_booking</th>\n",
       "      <th>hotel_cluster</th>\n",
       "      <th>kmeans</th>\n",
       "      <th>str_hotel_cluster</th>\n",
       "    </tr>\n",
       "  </thead>\n",
       "  <tbody>\n",
       "    <tr>\n",
       "      <th>10163</th>\n",
       "      <td>55093</td>\n",
       "      <td>1</td>\n",
       "      <td>11</td>\n",
       "      <td>13</td>\n",
       "      <td>91 82 48 30 62</td>\n",
       "    </tr>\n",
       "    <tr>\n",
       "      <th>13336</th>\n",
       "      <td>70663</td>\n",
       "      <td>1</td>\n",
       "      <td>41</td>\n",
       "      <td>2</td>\n",
       "      <td>91 65 41 98 48</td>\n",
       "    </tr>\n",
       "    <tr>\n",
       "      <th>13381</th>\n",
       "      <td>70902</td>\n",
       "      <td>1</td>\n",
       "      <td>91</td>\n",
       "      <td>6</td>\n",
       "      <td>91 48 30 5 78</td>\n",
       "    </tr>\n",
       "    <tr>\n",
       "      <th>33434</th>\n",
       "      <td>132019</td>\n",
       "      <td>1</td>\n",
       "      <td>95</td>\n",
       "      <td>0</td>\n",
       "      <td>91 65 48 18 96</td>\n",
       "    </tr>\n",
       "    <tr>\n",
       "      <th>36784</th>\n",
       "      <td>142130</td>\n",
       "      <td>1</td>\n",
       "      <td>17</td>\n",
       "      <td>10</td>\n",
       "      <td>91 41 70 5 58</td>\n",
       "    </tr>\n",
       "    <tr>\n",
       "      <th>44612</th>\n",
       "      <td>164338</td>\n",
       "      <td>1</td>\n",
       "      <td>56</td>\n",
       "      <td>0</td>\n",
       "      <td>91 65 48 18 96</td>\n",
       "    </tr>\n",
       "    <tr>\n",
       "      <th>59490</th>\n",
       "      <td>204756</td>\n",
       "      <td>1</td>\n",
       "      <td>95</td>\n",
       "      <td>4</td>\n",
       "      <td>91 64 41 46 65</td>\n",
       "    </tr>\n",
       "    <tr>\n",
       "      <th>59492</th>\n",
       "      <td>204756</td>\n",
       "      <td>1</td>\n",
       "      <td>19</td>\n",
       "      <td>4</td>\n",
       "      <td>91 64 41 46 65</td>\n",
       "    </tr>\n",
       "    <tr>\n",
       "      <th>59495</th>\n",
       "      <td>204756</td>\n",
       "      <td>1</td>\n",
       "      <td>91</td>\n",
       "      <td>4</td>\n",
       "      <td>91 64 41 46 65</td>\n",
       "    </tr>\n",
       "    <tr>\n",
       "      <th>60315</th>\n",
       "      <td>208721</td>\n",
       "      <td>1</td>\n",
       "      <td>16</td>\n",
       "      <td>1</td>\n",
       "      <td>91 65 41 48 18</td>\n",
       "    </tr>\n",
       "    <tr>\n",
       "      <th>63022</th>\n",
       "      <td>220712</td>\n",
       "      <td>1</td>\n",
       "      <td>61</td>\n",
       "      <td>13</td>\n",
       "      <td>91 82 48 30 62</td>\n",
       "    </tr>\n",
       "    <tr>\n",
       "      <th>82492</th>\n",
       "      <td>332694</td>\n",
       "      <td>1</td>\n",
       "      <td>91</td>\n",
       "      <td>7</td>\n",
       "      <td>46 64 91 41 5</td>\n",
       "    </tr>\n",
       "    <tr>\n",
       "      <th>82494</th>\n",
       "      <td>332694</td>\n",
       "      <td>1</td>\n",
       "      <td>40</td>\n",
       "      <td>7</td>\n",
       "      <td>46 64 91 41 5</td>\n",
       "    </tr>\n",
       "    <tr>\n",
       "      <th>82505</th>\n",
       "      <td>332694</td>\n",
       "      <td>1</td>\n",
       "      <td>54</td>\n",
       "      <td>7</td>\n",
       "      <td>46 64 91 41 5</td>\n",
       "    </tr>\n",
       "    <tr>\n",
       "      <th>82513</th>\n",
       "      <td>332694</td>\n",
       "      <td>1</td>\n",
       "      <td>72</td>\n",
       "      <td>7</td>\n",
       "      <td>46 64 91 41 5</td>\n",
       "    </tr>\n",
       "    <tr>\n",
       "      <th>82515</th>\n",
       "      <td>332694</td>\n",
       "      <td>1</td>\n",
       "      <td>91</td>\n",
       "      <td>7</td>\n",
       "      <td>46 64 91 41 5</td>\n",
       "    </tr>\n",
       "    <tr>\n",
       "      <th>82519</th>\n",
       "      <td>332694</td>\n",
       "      <td>1</td>\n",
       "      <td>91</td>\n",
       "      <td>7</td>\n",
       "      <td>46 64 91 41 5</td>\n",
       "    </tr>\n",
       "    <tr>\n",
       "      <th>82528</th>\n",
       "      <td>332694</td>\n",
       "      <td>1</td>\n",
       "      <td>91</td>\n",
       "      <td>7</td>\n",
       "      <td>46 64 91 41 5</td>\n",
       "    </tr>\n",
       "    <tr>\n",
       "      <th>82534</th>\n",
       "      <td>332694</td>\n",
       "      <td>1</td>\n",
       "      <td>42</td>\n",
       "      <td>1</td>\n",
       "      <td>91 65 41 48 18</td>\n",
       "    </tr>\n",
       "    <tr>\n",
       "      <th>82755</th>\n",
       "      <td>333365</td>\n",
       "      <td>1</td>\n",
       "      <td>9</td>\n",
       "      <td>14</td>\n",
       "      <td>91 48 42 28 82</td>\n",
       "    </tr>\n",
       "  </tbody>\n",
       "</table>\n",
       "</div>"
      ],
      "text/plain": [
       "       user_id  is_booking  hotel_cluster  kmeans str_hotel_cluster\n",
       "10163    55093           1             11      13   91 82 48 30 62 \n",
       "13336    70663           1             41       2   91 65 41 98 48 \n",
       "13381    70902           1             91       6    91 48 30 5 78 \n",
       "33434   132019           1             95       0   91 65 48 18 96 \n",
       "36784   142130           1             17      10    91 41 70 5 58 \n",
       "44612   164338           1             56       0   91 65 48 18 96 \n",
       "59490   204756           1             95       4   91 64 41 46 65 \n",
       "59492   204756           1             19       4   91 64 41 46 65 \n",
       "59495   204756           1             91       4   91 64 41 46 65 \n",
       "60315   208721           1             16       1   91 65 41 48 18 \n",
       "63022   220712           1             61      13   91 82 48 30 62 \n",
       "82492   332694           1             91       7    46 64 91 41 5 \n",
       "82494   332694           1             40       7    46 64 91 41 5 \n",
       "82505   332694           1             54       7    46 64 91 41 5 \n",
       "82513   332694           1             72       7    46 64 91 41 5 \n",
       "82515   332694           1             91       7    46 64 91 41 5 \n",
       "82519   332694           1             91       7    46 64 91 41 5 \n",
       "82528   332694           1             91       7    46 64 91 41 5 \n",
       "82534   332694           1             42       1   91 65 41 48 18 \n",
       "82755   333365           1              9      14   91 48 42 28 82 "
      ]
     },
     "execution_count": 39,
     "metadata": {},
     "output_type": "execute_result"
    }
   ],
   "source": [
    "valid_prediction[[\"user_id\", \"is_booking\", \"hotel_cluster\", \"kmeans\", \"str_hotel_cluster\"]].head(20)"
   ]
  },
  {
   "cell_type": "code",
   "execution_count": 49,
   "metadata": {
    "collapsed": false
   },
   "outputs": [
    {
     "data": {
      "text/plain": [
       "1.0"
      ]
     },
     "execution_count": 49,
     "metadata": {},
     "output_type": "execute_result"
    }
   ],
   "source": [
    "ml.mapk([valid_prediction[\"hotel_cluster\"].tolist()], valid_prediction[\"list_hotel_cluster\"].tolist(), k=1)"
   ]
  },
  {
   "cell_type": "code",
   "execution_count": 12,
   "metadata": {
    "collapsed": true
   },
   "outputs": [],
   "source": [
    "### Test"
   ]
  },
  {
   "cell_type": "code",
   "execution_count": 13,
   "metadata": {
    "collapsed": true
   },
   "outputs": [],
   "source": [
    "DATA_TEST = pd.read_csv(\"../data/test.csv\")"
   ]
  },
  {
   "cell_type": "code",
   "execution_count": 18,
   "metadata": {
    "collapsed": false
   },
   "outputs": [
    {
     "data": {
      "text/html": [
       "<div>\n",
       "<table border=\"1\" class=\"dataframe\">\n",
       "  <thead>\n",
       "    <tr style=\"text-align: right;\">\n",
       "      <th></th>\n",
       "      <th>id</th>\n",
       "      <th>date_time</th>\n",
       "      <th>site_name</th>\n",
       "      <th>posa_continent</th>\n",
       "      <th>user_location_country</th>\n",
       "      <th>user_location_region</th>\n",
       "      <th>user_location_city</th>\n",
       "      <th>orig_destination_distance</th>\n",
       "      <th>user_id</th>\n",
       "      <th>is_mobile</th>\n",
       "      <th>...</th>\n",
       "      <th>srch_ci</th>\n",
       "      <th>srch_co</th>\n",
       "      <th>srch_adults_cnt</th>\n",
       "      <th>srch_children_cnt</th>\n",
       "      <th>srch_rm_cnt</th>\n",
       "      <th>srch_destination_id</th>\n",
       "      <th>srch_destination_type_id</th>\n",
       "      <th>hotel_continent</th>\n",
       "      <th>hotel_country</th>\n",
       "      <th>hotel_market</th>\n",
       "    </tr>\n",
       "  </thead>\n",
       "  <tbody>\n",
       "    <tr>\n",
       "      <th>0</th>\n",
       "      <td>0</td>\n",
       "      <td>2015-09-03 17:09:54</td>\n",
       "      <td>2</td>\n",
       "      <td>3</td>\n",
       "      <td>66</td>\n",
       "      <td>174</td>\n",
       "      <td>37449</td>\n",
       "      <td>5539.0567</td>\n",
       "      <td>1</td>\n",
       "      <td>1</td>\n",
       "      <td>...</td>\n",
       "      <td>2016-05-19</td>\n",
       "      <td>2016-05-23</td>\n",
       "      <td>2</td>\n",
       "      <td>0</td>\n",
       "      <td>1</td>\n",
       "      <td>12243</td>\n",
       "      <td>6</td>\n",
       "      <td>6</td>\n",
       "      <td>204</td>\n",
       "      <td>27</td>\n",
       "    </tr>\n",
       "  </tbody>\n",
       "</table>\n",
       "<p>1 rows × 22 columns</p>\n",
       "</div>"
      ],
      "text/plain": [
       "   id            date_time  site_name  posa_continent  user_location_country  \\\n",
       "0   0  2015-09-03 17:09:54          2               3                     66   \n",
       "\n",
       "   user_location_region  user_location_city  orig_destination_distance  \\\n",
       "0                   174               37449                  5539.0567   \n",
       "\n",
       "   user_id  is_mobile      ...          srch_ci     srch_co srch_adults_cnt  \\\n",
       "0        1          1      ...       2016-05-19  2016-05-23               2   \n",
       "\n",
       "  srch_children_cnt  srch_rm_cnt  srch_destination_id  \\\n",
       "0                 0            1                12243   \n",
       "\n",
       "   srch_destination_type_id  hotel_continent  hotel_country  hotel_market  \n",
       "0                         6                6            204            27  \n",
       "\n",
       "[1 rows x 22 columns]"
      ]
     },
     "execution_count": 18,
     "metadata": {},
     "output_type": "execute_result"
    }
   ],
   "source": [
    "DATA_TEST.head(1)"
   ]
  },
  {
   "cell_type": "code",
   "execution_count": 15,
   "metadata": {
    "collapsed": false
   },
   "outputs": [
    {
     "data": {
      "text/plain": [
       "2528243"
      ]
     },
     "execution_count": 15,
     "metadata": {},
     "output_type": "execute_result"
    }
   ],
   "source": [
    "len(DATA_TEST)"
   ]
  },
  {
   "cell_type": "code",
   "execution_count": 16,
   "metadata": {
    "collapsed": true
   },
   "outputs": [],
   "source": [
    "tids = DATA_TEST[\"user_id\"].unique()"
   ]
  },
  {
   "cell_type": "code",
   "execution_count": 17,
   "metadata": {
    "collapsed": false
   },
   "outputs": [
    {
     "data": {
      "text/plain": [
       "1181577"
      ]
     },
     "execution_count": 17,
     "metadata": {},
     "output_type": "execute_result"
    }
   ],
   "source": [
    "len(tids)"
   ]
  },
  {
   "cell_type": "code",
   "execution_count": 19,
   "metadata": {
    "collapsed": true
   },
   "outputs": [],
   "source": [
    "SMALL_TRAIN = DATA_TRAIN[DATA_TRAIN.user_id.isin(tids)]"
   ]
  },
  {
   "cell_type": "code",
   "execution_count": 20,
   "metadata": {
    "collapsed": false
   },
   "outputs": [
    {
     "data": {
      "text/plain": [
       "37214162"
      ]
     },
     "execution_count": 20,
     "metadata": {},
     "output_type": "execute_result"
    }
   ],
   "source": [
    "len(SMALL_TRAIN)"
   ]
  },
  {
   "cell_type": "code",
   "execution_count": 21,
   "metadata": {
    "collapsed": false
   },
   "outputs": [
    {
     "data": {
      "text/plain": [
       "37670293"
      ]
     },
     "execution_count": 21,
     "metadata": {},
     "output_type": "execute_result"
    }
   ],
   "source": [
    "len(DATA_TRAIN)"
   ]
  },
  {
   "cell_type": "markdown",
   "metadata": {
    "collapsed": false
   },
   "source": [
    "### Dummy algo"
   ]
  },
  {
   "cell_type": "code",
   "execution_count": 251,
   "metadata": {
    "collapsed": false
   },
   "outputs": [
    {
     "name": "stdout",
     "output_type": "stream",
     "text": [
      "Here is the dummy error of the dummy alg : 0.0696456268123\n"
     ]
    }
   ],
   "source": [
    "# pip install ml_metrics\n",
    "import ml_metrics as ml\n",
    "\n",
    "most_common_clusters = list(TRAIN_SET.hotel_cluster.value_counts().head().index)\n",
    "dummy_predictions = [most_common_clusters for i in range(VALID_SET.shape[0])]\n",
    "#[[91, 48, 41, 65, 64],\n",
    "# [91, 48, 41, 65, 64],\n",
    "# [91, 48, 41, 65, 64],\n",
    "# ... ]\n",
    "\n",
    "dummy_target = [[l] for l in VALID_SET[\"hotel_cluster\"]]\n",
    "\n",
    "print \"Here is the dummy error of the dummy alg : %s\"%ml.mapk(dummy_target, dummy_predictions, k=5)"
   ]
  },
  {
   "cell_type": "code",
   "execution_count": null,
   "metadata": {
    "collapsed": false
   },
   "outputs": [],
   "source": []
  },
  {
   "cell_type": "markdown",
   "metadata": {
    "collapsed": true
   },
   "source": [
    "### Features engeneering"
   ]
  },
  {
   "cell_type": "code",
   "execution_count": 27,
   "metadata": {
    "collapsed": true
   },
   "outputs": [],
   "source": [
    "from sklearn.decomposition import PCA\n",
    "pca = PCA(n_components=3)\n",
    "dest_small = pca.fit_transform(DATA_DEST[[\"d{0}\".format(i + 1) for i in range(149)]])\n",
    "dest_small = pd.DataFrame(dest_small)\n",
    "dest_small[\"srch_destination_id\"] = DATA_DEST[\"srch_destination_id\"]"
   ]
  },
  {
   "cell_type": "code",
   "execution_count": 28,
   "metadata": {
    "collapsed": false
   },
   "outputs": [
    {
     "data": {
      "text/html": [
       "<div>\n",
       "<table border=\"1\" class=\"dataframe\">\n",
       "  <thead>\n",
       "    <tr style=\"text-align: right;\">\n",
       "      <th></th>\n",
       "      <th>0</th>\n",
       "      <th>1</th>\n",
       "      <th>2</th>\n",
       "      <th>srch_destination_id</th>\n",
       "    </tr>\n",
       "  </thead>\n",
       "  <tbody>\n",
       "    <tr>\n",
       "      <th>0</th>\n",
       "      <td>0.044268</td>\n",
       "      <td>-0.169419</td>\n",
       "      <td>-0.032522</td>\n",
       "      <td>0</td>\n",
       "    </tr>\n",
       "    <tr>\n",
       "      <th>1</th>\n",
       "      <td>0.440761</td>\n",
       "      <td>-0.077405</td>\n",
       "      <td>0.091572</td>\n",
       "      <td>1</td>\n",
       "    </tr>\n",
       "    <tr>\n",
       "      <th>2</th>\n",
       "      <td>-0.001033</td>\n",
       "      <td>-0.020677</td>\n",
       "      <td>-0.012108</td>\n",
       "      <td>2</td>\n",
       "    </tr>\n",
       "    <tr>\n",
       "      <th>3</th>\n",
       "      <td>0.480467</td>\n",
       "      <td>0.040345</td>\n",
       "      <td>0.019320</td>\n",
       "      <td>3</td>\n",
       "    </tr>\n",
       "    <tr>\n",
       "      <th>4</th>\n",
       "      <td>0.207253</td>\n",
       "      <td>0.042694</td>\n",
       "      <td>0.011744</td>\n",
       "      <td>4</td>\n",
       "    </tr>\n",
       "  </tbody>\n",
       "</table>\n",
       "</div>"
      ],
      "text/plain": [
       "          0         1         2  srch_destination_id\n",
       "0  0.044268 -0.169419 -0.032522                    0\n",
       "1  0.440761 -0.077405  0.091572                    1\n",
       "2 -0.001033 -0.020677 -0.012108                    2\n",
       "3  0.480467  0.040345  0.019320                    3\n",
       "4  0.207253  0.042694  0.011744                    4"
      ]
     },
     "execution_count": 28,
     "metadata": {},
     "output_type": "execute_result"
    }
   ],
   "source": [
    "dest_small.head(5)"
   ]
  },
  {
   "cell_type": "code",
   "execution_count": 29,
   "metadata": {
    "collapsed": false
   },
   "outputs": [],
   "source": [
    "def calc_fast_features(df):\n",
    "    df[\"date_time\"] = pd.to_datetime(df[\"date_time\"])\n",
    "    df[\"srch_ci\"] = pd.to_datetime(df[\"srch_ci\"], format='%Y-%m-%d', errors=\"coerce\")\n",
    "    df[\"srch_co\"] = pd.to_datetime(df[\"srch_co\"], format='%Y-%m-%d', errors=\"coerce\")\n",
    "    \n",
    "    props = {}\n",
    "    for prop in [\"month\", \"day\", \"hour\", \"minute\", \"dayofweek\", \"quarter\"]:\n",
    "        props[prop] = getattr(df[\"date_time\"].dt, prop)\n",
    "    \n",
    "    carryover = [p for p in df.columns if p not in [\"date_time\", \"srch_ci\", \"srch_co\"]]\n",
    "    for prop in carryover:\n",
    "        props[prop] = df[prop]\n",
    "    \n",
    "    date_props = [\"month\", \"day\", \"dayofweek\", \"quarter\"]\n",
    "    for prop in date_props:\n",
    "        props[\"ci_{0}\".format(prop)] = getattr(df[\"srch_ci\"].dt, prop)\n",
    "        props[\"co_{0}\".format(prop)] = getattr(df[\"srch_co\"].dt, prop)\n",
    "    props[\"stay_span\"] = (df[\"srch_co\"] - df[\"srch_ci\"]).astype('timedelta64[h]')\n",
    "        \n",
    "    ret = pd.DataFrame(props)\n",
    "    \n",
    "    ret = ret.join(dest_small, on=\"srch_destination_id\", how='left', rsuffix=\"dest\")\n",
    "    ret = ret.drop(\"srch_destination_iddest\", axis=1)\n",
    "    return ret\n",
    "\n",
    "#df = calc_fast_features(t1)\n",
    "#df.fillna(-1, inplace=True)"
   ]
  },
  {
   "cell_type": "code",
   "execution_count": 31,
   "metadata": {
    "collapsed": false,
    "scrolled": true
   },
   "outputs": [
    {
     "data": {
      "text/html": [
       "<div>\n",
       "<table border=\"1\" class=\"dataframe\">\n",
       "  <thead>\n",
       "    <tr style=\"text-align: right;\">\n",
       "      <th></th>\n",
       "      <th>channel</th>\n",
       "      <th>ci_day</th>\n",
       "      <th>ci_dayofweek</th>\n",
       "      <th>ci_month</th>\n",
       "      <th>ci_quarter</th>\n",
       "      <th>cnt</th>\n",
       "      <th>co_day</th>\n",
       "      <th>co_dayofweek</th>\n",
       "      <th>co_month</th>\n",
       "      <th>co_quarter</th>\n",
       "      <th>...</th>\n",
       "      <th>srch_rm_cnt</th>\n",
       "      <th>stay_span</th>\n",
       "      <th>user_id</th>\n",
       "      <th>user_location_city</th>\n",
       "      <th>user_location_country</th>\n",
       "      <th>user_location_region</th>\n",
       "      <th>year</th>\n",
       "      <th>0</th>\n",
       "      <th>1</th>\n",
       "      <th>2</th>\n",
       "    </tr>\n",
       "  </thead>\n",
       "  <tbody>\n",
       "    <tr>\n",
       "      <th>2596</th>\n",
       "      <td>9</td>\n",
       "      <td>29</td>\n",
       "      <td>0</td>\n",
       "      <td>4</td>\n",
       "      <td>2</td>\n",
       "      <td>3</td>\n",
       "      <td>2</td>\n",
       "      <td>3</td>\n",
       "      <td>5</td>\n",
       "      <td>2</td>\n",
       "      <td>...</td>\n",
       "      <td>1</td>\n",
       "      <td>72</td>\n",
       "      <td>13459</td>\n",
       "      <td>1263</td>\n",
       "      <td>66</td>\n",
       "      <td>462</td>\n",
       "      <td>2013</td>\n",
       "      <td>-0.558787</td>\n",
       "      <td>0.302728</td>\n",
       "      <td>0.043319</td>\n",
       "    </tr>\n",
       "    <tr>\n",
       "      <th>2597</th>\n",
       "      <td>1</td>\n",
       "      <td>25</td>\n",
       "      <td>5</td>\n",
       "      <td>5</td>\n",
       "      <td>2</td>\n",
       "      <td>5</td>\n",
       "      <td>28</td>\n",
       "      <td>1</td>\n",
       "      <td>5</td>\n",
       "      <td>2</td>\n",
       "      <td>...</td>\n",
       "      <td>1</td>\n",
       "      <td>72</td>\n",
       "      <td>13459</td>\n",
       "      <td>1263</td>\n",
       "      <td>66</td>\n",
       "      <td>462</td>\n",
       "      <td>2013</td>\n",
       "      <td>-0.339104</td>\n",
       "      <td>0.246993</td>\n",
       "      <td>0.159985</td>\n",
       "    </tr>\n",
       "    <tr>\n",
       "      <th>2598</th>\n",
       "      <td>1</td>\n",
       "      <td>1</td>\n",
       "      <td>6</td>\n",
       "      <td>6</td>\n",
       "      <td>2</td>\n",
       "      <td>1</td>\n",
       "      <td>6</td>\n",
       "      <td>4</td>\n",
       "      <td>6</td>\n",
       "      <td>2</td>\n",
       "      <td>...</td>\n",
       "      <td>1</td>\n",
       "      <td>120</td>\n",
       "      <td>13459</td>\n",
       "      <td>1263</td>\n",
       "      <td>66</td>\n",
       "      <td>462</td>\n",
       "      <td>2014</td>\n",
       "      <td>-0.219883</td>\n",
       "      <td>0.139836</td>\n",
       "      <td>-0.162701</td>\n",
       "    </tr>\n",
       "    <tr>\n",
       "      <th>2599</th>\n",
       "      <td>1</td>\n",
       "      <td>1</td>\n",
       "      <td>6</td>\n",
       "      <td>6</td>\n",
       "      <td>2</td>\n",
       "      <td>1</td>\n",
       "      <td>6</td>\n",
       "      <td>4</td>\n",
       "      <td>6</td>\n",
       "      <td>2</td>\n",
       "      <td>...</td>\n",
       "      <td>1</td>\n",
       "      <td>120</td>\n",
       "      <td>13459</td>\n",
       "      <td>1263</td>\n",
       "      <td>66</td>\n",
       "      <td>462</td>\n",
       "      <td>2014</td>\n",
       "      <td>-0.219883</td>\n",
       "      <td>0.139836</td>\n",
       "      <td>-0.162701</td>\n",
       "    </tr>\n",
       "    <tr>\n",
       "      <th>2600</th>\n",
       "      <td>1</td>\n",
       "      <td>1</td>\n",
       "      <td>6</td>\n",
       "      <td>6</td>\n",
       "      <td>2</td>\n",
       "      <td>1</td>\n",
       "      <td>6</td>\n",
       "      <td>4</td>\n",
       "      <td>6</td>\n",
       "      <td>2</td>\n",
       "      <td>...</td>\n",
       "      <td>1</td>\n",
       "      <td>120</td>\n",
       "      <td>13459</td>\n",
       "      <td>1263</td>\n",
       "      <td>66</td>\n",
       "      <td>462</td>\n",
       "      <td>2014</td>\n",
       "      <td>-0.219883</td>\n",
       "      <td>0.139836</td>\n",
       "      <td>-0.162701</td>\n",
       "    </tr>\n",
       "  </tbody>\n",
       "</table>\n",
       "<p>5 rows × 40 columns</p>\n",
       "</div>"
      ],
      "text/plain": [
       "      channel  ci_day  ci_dayofweek  ci_month  ci_quarter  cnt  co_day  \\\n",
       "2596        9      29             0         4           2    3       2   \n",
       "2597        1      25             5         5           2    5      28   \n",
       "2598        1       1             6         6           2    1       6   \n",
       "2599        1       1             6         6           2    1       6   \n",
       "2600        1       1             6         6           2    1       6   \n",
       "\n",
       "      co_dayofweek  co_month  co_quarter    ...     srch_rm_cnt  stay_span  \\\n",
       "2596             3         5           2    ...               1         72   \n",
       "2597             1         5           2    ...               1         72   \n",
       "2598             4         6           2    ...               1        120   \n",
       "2599             4         6           2    ...               1        120   \n",
       "2600             4         6           2    ...               1        120   \n",
       "\n",
       "      user_id  user_location_city  user_location_country  \\\n",
       "2596    13459                1263                     66   \n",
       "2597    13459                1263                     66   \n",
       "2598    13459                1263                     66   \n",
       "2599    13459                1263                     66   \n",
       "2600    13459                1263                     66   \n",
       "\n",
       "      user_location_region  year         0         1         2  \n",
       "2596                   462  2013 -0.558787  0.302728  0.043319  \n",
       "2597                   462  2013 -0.339104  0.246993  0.159985  \n",
       "2598                   462  2014 -0.219883  0.139836 -0.162701  \n",
       "2599                   462  2014 -0.219883  0.139836 -0.162701  \n",
       "2600                   462  2014 -0.219883  0.139836 -0.162701  \n",
       "\n",
       "[5 rows x 40 columns]"
      ]
     },
     "execution_count": 31,
     "metadata": {},
     "output_type": "execute_result"
    }
   ],
   "source": [
    "neo_df = calc_fast_features(TRAIN_SET)\n",
    "neo_df.fillna(-1, inplace=True)\n",
    "neo_df.head(5)"
   ]
  },
  {
   "cell_type": "markdown",
   "metadata": {},
   "source": [
    "### Tree based methods"
   ]
  },
  {
   "cell_type": "code",
   "execution_count": 34,
   "metadata": {
    "collapsed": false
   },
   "outputs": [
    {
     "data": {
      "text/plain": [
       "array([ 0.06770873,  0.06540906,  0.06761409])"
      ]
     },
     "execution_count": 34,
     "metadata": {},
     "output_type": "execute_result"
    }
   ],
   "source": [
    "predictors = [c for c in neo_df.columns if c not in [\"hotel_cluster\"]]\n",
    "from sklearn import cross_validation\n",
    "from sklearn.ensemble import RandomForestClassifier\n",
    "\n",
    "clf = RandomForestClassifier(n_estimators=10, min_weight_fraction_leaf=0.1)\n",
    "scores = cross_validation.cross_val_score(clf, neo_df[predictors], neo_df['hotel_cluster'], cv=3)\n",
    "scores"
   ]
  },
  {
   "cell_type": "code",
   "execution_count": 36,
   "metadata": {
    "collapsed": true
   },
   "outputs": [],
   "source": [
    "from sklearn.cross_validation import KFold\n",
    "from itertools import chain"
   ]
  },
  {
   "cell_type": "code",
   "execution_count": 37,
   "metadata": {
    "collapsed": false
   },
   "outputs": [
    {
     "name": "stdout",
     "output_type": "stream",
     "text": [
      "Help on built-in function from_iterable:\n",
      "\n",
      "from_iterable(...)\n",
      "    chain.from_iterable(iterable) --> chain object\n",
      "    \n",
      "    Alternate chain() contructor taking a single iterable argument\n",
      "    that evaluates lazily.\n",
      "\n"
     ]
    }
   ],
   "source": [
    "help(chain.from_iterable)"
   ]
  },
  {
   "cell_type": "code",
   "execution_count": null,
   "metadata": {
    "collapsed": false
   },
   "outputs": [],
   "source": [
    "all_probs = []\n",
    "unique_clusters = neo_df[\"hotel_cluster\"].unique()\n",
    "for cluster in unique_clusters:\n",
    "    neo_df[\"target\"] = 1\n",
    "    neo_df[\"target\"][neo_df[\"hotel_cluster\"] != cluster] = 0\n",
    "    predictors = [col for col in neo_df if col not in ['hotel_cluster', \"target\"]]\n",
    "    probs = []\n",
    "    cv = KFold(len(neo_df[\"target\"]), n_folds=2)\n",
    "    clf = RandomForestClassifier(n_estimators=10, min_weight_fraction_leaf=0.1)\n",
    "    for i, (tr, te) in enumerate(cv):\n",
    "        clf.fit(neo_df[predictors].iloc[tr], neo_df[\"target\"].iloc[tr])\n",
    "        preds = clf.predict_proba(neo_df[predictors].iloc[te])\n",
    "        probs.append([p[1] for p in preds])\n",
    "    full_probs = chain.from_iterable(probs)\n",
    "    all_probs.append(list(full_probs))\n",
    "\n",
    "prediction_frame = pd.DataFrame(all_probs).T\n",
    "prediction_frame.columns = unique_clusters\n",
    "def find_top_5(row):\n",
    "    return list(row.nlargest(5).index)\n",
    "\n",
    "preds = []\n",
    "for index, row in prediction_frame.iterrows():\n",
    "    preds.append(find_top_5(row))\n",
    "\n",
    "ml.mapk([[l] for l in VALID_SET.iloc(\"hotel_cluster\")], preds, k=5)"
   ]
  },
  {
   "cell_type": "code",
   "execution_count": 55,
   "metadata": {
    "collapsed": false
   },
   "outputs": [
    {
     "data": {
      "text/plain": [
       "<pandas.core.indexing._iLocIndexer at 0x13b09e710>"
      ]
     },
     "execution_count": 55,
     "metadata": {},
     "output_type": "execute_result"
    }
   ],
   "source": [
    "VALID_SET.iloc(\"hotel_cluster\")"
   ]
  },
  {
   "cell_type": "code",
   "execution_count": 26,
   "metadata": {
    "collapsed": true
   },
   "outputs": [],
   "source": [
    "from sklearn.cross_validation import train_test_split"
   ]
  },
  {
   "cell_type": "code",
   "execution_count": null,
   "metadata": {
    "collapsed": true
   },
   "outputs": [],
   "source": [
    "set_a, set_b = train_test_split(DATA_TRAIN, test_size=0.80, random_state=SEED_STATE)"
   ]
  },
  {
   "cell_type": "code",
   "execution_count": 28,
   "metadata": {
    "collapsed": false
   },
   "outputs": [
    {
     "data": {
      "text/plain": [
       "15068117"
      ]
     },
     "execution_count": 28,
     "metadata": {},
     "output_type": "execute_result"
    }
   ],
   "source": [
    "len(set_a)"
   ]
  },
  {
   "cell_type": "code",
   "execution_count": null,
   "metadata": {
    "collapsed": true
   },
   "outputs": [],
   "source": []
  }
 ],
 "metadata": {
  "kernelspec": {
   "display_name": "Python 2",
   "language": "python",
   "name": "python2"
  },
  "language_info": {
   "codemirror_mode": {
    "name": "ipython",
    "version": 2
   },
   "file_extension": ".py",
   "mimetype": "text/x-python",
   "name": "python",
   "nbconvert_exporter": "python",
   "pygments_lexer": "ipython2",
   "version": "2.7.11"
  }
 },
 "nbformat": 4,
 "nbformat_minor": 0
}
