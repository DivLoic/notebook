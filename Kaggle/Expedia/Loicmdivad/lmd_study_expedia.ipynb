{
 "cells": [
  {
   "cell_type": "code",
   "execution_count": 2,
   "metadata": {
    "collapsed": true
   },
   "outputs": [],
   "source": [
    "# coding: utf8"
   ]
  },
  {
   "cell_type": "markdown",
   "metadata": {},
   "source": [
    "## import"
   ]
  },
  {
   "cell_type": "code",
   "execution_count": 3,
   "metadata": {
    "collapsed": false
   },
   "outputs": [],
   "source": [
    "import pandas as pd\n",
    "import seaborn as sns\n",
    "import matplotlib.pyplot as plt"
   ]
  },
  {
   "cell_type": "code",
   "execution_count": 4,
   "metadata": {
    "collapsed": true
   },
   "outputs": [],
   "source": [
    "import warnings\n",
    "%matplotlib inline\n",
    "warnings.filterwarnings(\"ignore\")\n",
    "sns.set(style=\"white\", color_codes=True)"
   ]
  },
  {
   "cell_type": "code",
   "execution_count": 5,
   "metadata": {
    "collapsed": true
   },
   "outputs": [],
   "source": [
    "from sklearn.cross_validation import train_test_split"
   ]
  },
  {
   "cell_type": "markdown",
   "metadata": {},
   "source": [
    "## constantes"
   ]
  },
  {
   "cell_type": "code",
   "execution_count": 6,
   "metadata": {
    "collapsed": true
   },
   "outputs": [],
   "source": [
    "SEED_STATE = 1\n",
    "KFOLDS_NUM = 10"
   ]
  },
  {
   "cell_type": "markdown",
   "metadata": {},
   "source": [
    "##### Kaggle dataset description for the Expedia challenge\n",
    "*checkout: [Kaggle web site](https://www.kaggle.com/c/expedia-hotel-recommendations/data)*\n",
    "\n",
    "**train.csv**\n",
    "\n",
    "Column | name |\tDescription\tData type\n",
    "-------|------|----------------------\n",
    "date_time |\tTimestamp |\tstring\n",
    "site_name |\tID of the Expedia point of sale (i.e. Expedia.com, Expedia.co.uk, Expedia.co.jp, ...) |\tint\n",
    "posa_continent |\tID of continent associated with site_name |\tint\n",
    "user_location_country |\tThe ID of the country the customer is located |\tint\n",
    "user_location_region |\tThe ID of the region the customer is located |\tint\n",
    "user_location_city |\tThe ID of the city the customer is located |\tint\n",
    "orig_destination_distance |\tPhysical distance between a hotel and a customer at the time of search. A null means the distance could not be calculated |\tdouble\n",
    "user_id |\tID of user |\tint\n",
    "is_mobile |\t1 when a user connected from a mobile device, 0 otherwise |\ttinyint\n",
    "is_package |\t1 if the click/booking was generated as a part of a package (i.e. combined with a flight), 0 otherwise |\tint\n",
    "channel |\tID of a marketing channel |\tint\n",
    "srch_ci |\tCheckin date |\tstring\n",
    "srch_co |\tCheckout date |\tstring\n",
    "srch_adults_cnt |\tThe number of adults specified in the hotel room |\tint\n",
    "srch_children_cnt |\tThe number of (extra occupancy) children specified in the hotel room |\tint\n",
    "srch_rm_cnt |\tThe number of hotel rooms specified in the search |\tint\n",
    "srch_destination_id |\tID of the destination where the hotel search was performed |\tint\n",
    "srch_destination_type_id |\tType of destination |\tint\n",
    "hotel_continent |\tHotel continent |\tint\n",
    "hotel_country |\tHotel country |\tint\n",
    "hotel_market |\tHotel market |\tint\n",
    "is_booking |\t1 if a booking, 0 if a click |\ttinyint\n",
    "cnt\t | Numer of similar events in the context of the same user session |\tbigint\n",
    "hotel_cluster |\tID of a hotel cluster |\tint\n",
    "\n",
    "\n",
    "**destination.csv**\n",
    "\n",
    "Column | name |\tDescription\tData type\n",
    "-------|------|-----------\n",
    "srch_destination_id |\tID of the destination where the hotel search was performed |\tint\n",
    "d1-d149 |\tlatent description of search regions |\tdouble"
   ]
  },
  {
   "cell_type": "markdown",
   "metadata": {},
   "source": [
    "## laod dataset"
   ]
  },
  {
   "cell_type": "code",
   "execution_count": 7,
   "metadata": {
    "collapsed": false
   },
   "outputs": [],
   "source": [
    "DATA_TEST = pd.read_csv(\"../data/test.csv\")\n",
    "DATA_DEST = pd.read_csv(\"../data/destinations.csv\")\n",
    "DATA_TRAIN = pd.read_csv(\"../data/train.csv\")"
   ]
  },
  {
   "cell_type": "code",
   "execution_count": 8,
   "metadata": {
    "collapsed": false,
    "scrolled": true
   },
   "outputs": [
    {
     "data": {
      "text/html": [
       "<div>\n",
       "<table border=\"1\" class=\"dataframe\">\n",
       "  <thead>\n",
       "    <tr style=\"text-align: right;\">\n",
       "      <th></th>\n",
       "      <th>srch_destination_id</th>\n",
       "      <th>d1</th>\n",
       "      <th>d2</th>\n",
       "      <th>d3</th>\n",
       "      <th>d4</th>\n",
       "      <th>d5</th>\n",
       "      <th>d6</th>\n",
       "      <th>d7</th>\n",
       "      <th>d8</th>\n",
       "      <th>d9</th>\n",
       "      <th>...</th>\n",
       "      <th>d140</th>\n",
       "      <th>d141</th>\n",
       "      <th>d142</th>\n",
       "      <th>d143</th>\n",
       "      <th>d144</th>\n",
       "      <th>d145</th>\n",
       "      <th>d146</th>\n",
       "      <th>d147</th>\n",
       "      <th>d148</th>\n",
       "      <th>d149</th>\n",
       "    </tr>\n",
       "  </thead>\n",
       "  <tbody>\n",
       "    <tr>\n",
       "      <th>0</th>\n",
       "      <td>0</td>\n",
       "      <td>-2.198657</td>\n",
       "      <td>-2.198657</td>\n",
       "      <td>-2.198657</td>\n",
       "      <td>-2.198657</td>\n",
       "      <td>-2.198657</td>\n",
       "      <td>-1.897627</td>\n",
       "      <td>-2.198657</td>\n",
       "      <td>-2.198657</td>\n",
       "      <td>-1.897627</td>\n",
       "      <td>...</td>\n",
       "      <td>-2.198657</td>\n",
       "      <td>-2.198657</td>\n",
       "      <td>-2.198657</td>\n",
       "      <td>-2.198657</td>\n",
       "      <td>-2.198657</td>\n",
       "      <td>-2.198657</td>\n",
       "      <td>-2.198657</td>\n",
       "      <td>-2.198657</td>\n",
       "      <td>-2.198657</td>\n",
       "      <td>-2.198657</td>\n",
       "    </tr>\n",
       "    <tr>\n",
       "      <th>1</th>\n",
       "      <td>1</td>\n",
       "      <td>-2.181690</td>\n",
       "      <td>-2.181690</td>\n",
       "      <td>-2.181690</td>\n",
       "      <td>-2.082564</td>\n",
       "      <td>-2.181690</td>\n",
       "      <td>-2.165028</td>\n",
       "      <td>-2.181690</td>\n",
       "      <td>-2.181690</td>\n",
       "      <td>-2.031597</td>\n",
       "      <td>...</td>\n",
       "      <td>-2.165028</td>\n",
       "      <td>-2.181690</td>\n",
       "      <td>-2.165028</td>\n",
       "      <td>-2.181690</td>\n",
       "      <td>-2.181690</td>\n",
       "      <td>-2.165028</td>\n",
       "      <td>-2.181690</td>\n",
       "      <td>-2.181690</td>\n",
       "      <td>-2.181690</td>\n",
       "      <td>-2.181690</td>\n",
       "    </tr>\n",
       "    <tr>\n",
       "      <th>2</th>\n",
       "      <td>2</td>\n",
       "      <td>-2.183490</td>\n",
       "      <td>-2.224164</td>\n",
       "      <td>-2.224164</td>\n",
       "      <td>-2.189562</td>\n",
       "      <td>-2.105819</td>\n",
       "      <td>-2.075407</td>\n",
       "      <td>-2.224164</td>\n",
       "      <td>-2.118483</td>\n",
       "      <td>-2.140393</td>\n",
       "      <td>...</td>\n",
       "      <td>-2.224164</td>\n",
       "      <td>-2.224164</td>\n",
       "      <td>-2.196379</td>\n",
       "      <td>-2.224164</td>\n",
       "      <td>-2.192009</td>\n",
       "      <td>-2.224164</td>\n",
       "      <td>-2.224164</td>\n",
       "      <td>-2.224164</td>\n",
       "      <td>-2.224164</td>\n",
       "      <td>-2.057548</td>\n",
       "    </tr>\n",
       "    <tr>\n",
       "      <th>3</th>\n",
       "      <td>3</td>\n",
       "      <td>-2.177409</td>\n",
       "      <td>-2.177409</td>\n",
       "      <td>-2.177409</td>\n",
       "      <td>-2.177409</td>\n",
       "      <td>-2.177409</td>\n",
       "      <td>-2.115485</td>\n",
       "      <td>-2.177409</td>\n",
       "      <td>-2.177409</td>\n",
       "      <td>-2.177409</td>\n",
       "      <td>...</td>\n",
       "      <td>-2.161081</td>\n",
       "      <td>-2.177409</td>\n",
       "      <td>-2.177409</td>\n",
       "      <td>-2.177409</td>\n",
       "      <td>-2.177409</td>\n",
       "      <td>-2.177409</td>\n",
       "      <td>-2.177409</td>\n",
       "      <td>-2.177409</td>\n",
       "      <td>-2.177409</td>\n",
       "      <td>-2.177409</td>\n",
       "    </tr>\n",
       "    <tr>\n",
       "      <th>4</th>\n",
       "      <td>4</td>\n",
       "      <td>-2.189562</td>\n",
       "      <td>-2.187783</td>\n",
       "      <td>-2.194008</td>\n",
       "      <td>-2.171153</td>\n",
       "      <td>-2.152303</td>\n",
       "      <td>-2.056618</td>\n",
       "      <td>-2.194008</td>\n",
       "      <td>-2.194008</td>\n",
       "      <td>-2.145911</td>\n",
       "      <td>...</td>\n",
       "      <td>-2.187356</td>\n",
       "      <td>-2.194008</td>\n",
       "      <td>-2.191779</td>\n",
       "      <td>-2.194008</td>\n",
       "      <td>-2.194008</td>\n",
       "      <td>-2.185161</td>\n",
       "      <td>-2.194008</td>\n",
       "      <td>-2.194008</td>\n",
       "      <td>-2.194008</td>\n",
       "      <td>-2.188037</td>\n",
       "    </tr>\n",
       "  </tbody>\n",
       "</table>\n",
       "<p>5 rows × 150 columns</p>\n",
       "</div>"
      ],
      "text/plain": [
       "   srch_destination_id        d1        d2        d3        d4        d5  \\\n",
       "0                    0 -2.198657 -2.198657 -2.198657 -2.198657 -2.198657   \n",
       "1                    1 -2.181690 -2.181690 -2.181690 -2.082564 -2.181690   \n",
       "2                    2 -2.183490 -2.224164 -2.224164 -2.189562 -2.105819   \n",
       "3                    3 -2.177409 -2.177409 -2.177409 -2.177409 -2.177409   \n",
       "4                    4 -2.189562 -2.187783 -2.194008 -2.171153 -2.152303   \n",
       "\n",
       "         d6        d7        d8        d9    ...         d140      d141  \\\n",
       "0 -1.897627 -2.198657 -2.198657 -1.897627    ...    -2.198657 -2.198657   \n",
       "1 -2.165028 -2.181690 -2.181690 -2.031597    ...    -2.165028 -2.181690   \n",
       "2 -2.075407 -2.224164 -2.118483 -2.140393    ...    -2.224164 -2.224164   \n",
       "3 -2.115485 -2.177409 -2.177409 -2.177409    ...    -2.161081 -2.177409   \n",
       "4 -2.056618 -2.194008 -2.194008 -2.145911    ...    -2.187356 -2.194008   \n",
       "\n",
       "       d142      d143      d144      d145      d146      d147      d148  \\\n",
       "0 -2.198657 -2.198657 -2.198657 -2.198657 -2.198657 -2.198657 -2.198657   \n",
       "1 -2.165028 -2.181690 -2.181690 -2.165028 -2.181690 -2.181690 -2.181690   \n",
       "2 -2.196379 -2.224164 -2.192009 -2.224164 -2.224164 -2.224164 -2.224164   \n",
       "3 -2.177409 -2.177409 -2.177409 -2.177409 -2.177409 -2.177409 -2.177409   \n",
       "4 -2.191779 -2.194008 -2.194008 -2.185161 -2.194008 -2.194008 -2.194008   \n",
       "\n",
       "       d149  \n",
       "0 -2.198657  \n",
       "1 -2.181690  \n",
       "2 -2.057548  \n",
       "3 -2.177409  \n",
       "4 -2.188037  \n",
       "\n",
       "[5 rows x 150 columns]"
      ]
     },
     "execution_count": 8,
     "metadata": {},
     "output_type": "execute_result"
    }
   ],
   "source": [
    "DATA_DEST.head(5)"
   ]
  },
  {
   "cell_type": "code",
   "execution_count": 9,
   "metadata": {
    "collapsed": false
   },
   "outputs": [
    {
     "name": "stdout",
     "output_type": "stream",
     "text": [
      "Number of destination ids:  62106\n"
     ]
    }
   ],
   "source": [
    "print \"Number of destination ids: \",len(DATA_DEST.srch_destination_id)"
   ]
  },
  {
   "cell_type": "code",
   "execution_count": 10,
   "metadata": {
    "collapsed": false
   },
   "outputs": [
    {
     "name": "stdout",
     "output_type": "stream",
     "text": [
      "Nombre de colonnes présentant des N/A dans le fichier de destination: 0\n",
      "Nombre de colonnes présentant des N/A dans le fichier de recherche: 3\n"
     ]
    }
   ],
   "source": [
    "print \"Nombre de colonnes présentant des N/A dans le fichier de destination: %i\"%\\\n",
    "len(filter(lambda y: y != 0, DATA_DEST.isnull().sum()))\n",
    "print \"Nombre de colonnes présentant des N/A dans le fichier de recherche: %i\"%\\\n",
    "len(filter(lambda y: y != 0, DATA_TRAIN.isnull().sum()))"
   ]
  },
  {
   "cell_type": "code",
   "execution_count": 11,
   "metadata": {
    "collapsed": false
   },
   "outputs": [
    {
     "name": "stdout",
     "output_type": "stream",
     "text": [
      "100\n"
     ]
    }
   ],
   "source": [
    "print len(DATA_TRAIN[\"hotel_cluster\"].unique())"
   ]
  },
  {
   "cell_type": "code",
   "execution_count": 12,
   "metadata": {
    "collapsed": false
   },
   "outputs": [
    {
     "data": {
      "text/plain": [
       "array([1, 6, 4, 8, 3, 7, 5, 9, 0, 2])"
      ]
     },
     "execution_count": 12,
     "metadata": {},
     "output_type": "execute_result"
    }
   ],
   "source": [
    "DATA_TRAIN[\"srch_destination_type_id\"].unique()"
   ]
  },
  {
   "cell_type": "code",
   "execution_count": 10,
   "metadata": {
    "collapsed": true
   },
   "outputs": [],
   "source": [
    "DATA_TRAIN[\"date_time\"] = pd.to_datetime(DATA_TRAIN[\"date_time\"])\n",
    "DATA_TRAIN[\"year\"] = DATA_TRAIN[\"date_time\"].dt.year\n",
    "DATA_TRAIN[\"month\"] = DATA_TRAIN[\"date_time\"].dt.month"
   ]
  },
  {
   "cell_type": "code",
   "execution_count": 14,
   "metadata": {
    "collapsed": true
   },
   "outputs": [],
   "source": [
    "# Contruction de vecteur utilisateurs\n",
    "# classsification de \"is_booking\" sur tout train.csv\n",
    "# -> cluster partypes -> proba booking cluster ->\n"
   ]
  },
  {
   "cell_type": "code",
   "execution_count": 16,
   "metadata": {
    "collapsed": false
   },
   "outputs": [],
   "source": [
    "#DATA_TRAIN.corr()[\"hotel_cluster\"]"
   ]
  },
  {
   "cell_type": "markdown",
   "metadata": {
    "collapsed": true
   },
   "source": [
    "## Sampling"
   ]
  },
  {
   "cell_type": "code",
   "execution_count": 11,
   "metadata": {
    "collapsed": true
   },
   "outputs": [],
   "source": [
    "selected = DATA_TEST[\"user_id\"].unique()\n",
    "DATA_TRAIN = DATA_TRAIN[DATA_TRAIN.user_id.isin(selected)]\n",
    "TARGET_TRAIN, DUMP_TRAIN =  train_test_split(DATA_TRAIN, test_size=0.20, random_state=1)"
   ]
  },
  {
   "cell_type": "code",
   "execution_count": 12,
   "metadata": {
    "collapsed": false
   },
   "outputs": [
    {
     "name": "stdout",
     "output_type": "stream",
     "text": [
      " 1181577\n",
      " 37214162\n",
      " 29771329\n"
     ]
    }
   ],
   "source": [
    "print \"\",len(selected)\n",
    "print \"\",len(DATA_TRAIN)\n",
    "print \"\",len(TARGET_TRAIN)"
   ]
  },
  {
   "cell_type": "code",
   "execution_count": 13,
   "metadata": {
    "collapsed": true
   },
   "outputs": [],
   "source": [
    "selected_users, test_users = train_test_split(selected, test_size=0.99, random_state=SEED_STATE)"
   ]
  },
  {
   "cell_type": "code",
   "execution_count": 14,
   "metadata": {
    "collapsed": false
   },
   "outputs": [
    {
     "name": "stdout",
     "output_type": "stream",
     "text": [
      "Nombre de users selectionnés : 11815 (ex: [ 57222 305851 367900] ... )\n"
     ]
    }
   ],
   "source": [
    "print \"Nombre de users selectionnés : %s (ex: %s ... )\"%(len(selected_users),selected_users[:3])"
   ]
  },
  {
   "cell_type": "code",
   "execution_count": 15,
   "metadata": {
    "collapsed": false
   },
   "outputs": [
    {
     "name": "stdout",
     "output_type": "stream",
     "text": [
      "Nombre de recherches liée aux user séléectionés : 379145\n"
     ]
    }
   ],
   "source": [
    "SELECT_TRAIN = DATA_TRAIN[DATA_TRAIN.user_id.isin(selected_users)]\n",
    "print \"Nombre de recherches liée aux user séléectionés : %s\"%(len(SELECT_TRAIN))"
   ]
  },
  {
   "cell_type": "code",
   "execution_count": 16,
   "metadata": {
    "collapsed": false
   },
   "outputs": [],
   "source": [
    "# Resampling with the same pattern, the validation set is more recent\n",
    "TRAIN_SET = SELECT_TRAIN[((SELECT_TRAIN.year == 2013) | ((SELECT_TRAIN.year == 2014) & (SELECT_TRAIN.month < 8)))]\n",
    "VALID_SET = SELECT_TRAIN[((SELECT_TRAIN.year == 2014) &  (SELECT_TRAIN.month >= 8))]"
   ]
  },
  {
   "cell_type": "code",
   "execution_count": 17,
   "metadata": {
    "collapsed": false
   },
   "outputs": [
    {
     "name": "stdout",
     "output_type": "stream",
     "text": [
      "Number of request to predict 9766\n"
     ]
    }
   ],
   "source": [
    "VALID_SET = VALID_SET[VALID_SET.is_booking == True]\n",
    "print \"Number of request to predict\",len(VALID_SET)"
   ]
  },
  {
   "cell_type": "code",
   "execution_count": null,
   "metadata": {
    "collapsed": true
   },
   "outputs": [],
   "source": []
  },
  {
   "cell_type": "markdown",
   "metadata": {
    "collapsed": false
   },
   "source": [
    "### Dummy algo"
   ]
  },
  {
   "cell_type": "code",
   "execution_count": 26,
   "metadata": {
    "collapsed": false
   },
   "outputs": [
    {
     "name": "stdout",
     "output_type": "stream",
     "text": [
      "Here is the dummy error of the dummy alg : 0.0696456268123\n"
     ]
    }
   ],
   "source": [
    "# pip install ml_metrics\n",
    "import ml_metrics as ml\n",
    "\n",
    "most_common_clusters = list(TRAIN_SET.hotel_cluster.value_counts().head().index)\n",
    "dummy_predictions = [most_common_clusters for i in range(VALID_SET.shape[0])]\n",
    "#[[91, 48, 41, 65, 64],\n",
    "# [91, 48, 41, 65, 64],\n",
    "# [91, 48, 41, 65, 64],\n",
    "# ... ]\n",
    "\n",
    "dummy_target = [[l] for l in VALID_SET[\"hotel_cluster\"]]\n",
    "\n",
    "print \"Here is the dummy error of the dummy alg : %s\"%ml.mapk(dummy_target, dummy_predictions, k=5)"
   ]
  },
  {
   "cell_type": "markdown",
   "metadata": {
    "collapsed": false
   },
   "source": [
    "## Top cluster "
   ]
  },
  {
   "cell_type": "markdown",
   "metadata": {},
   "source": [
    "### Search destination id grouping"
   ]
  },
  {
   "cell_type": "code",
   "execution_count": 18,
   "metadata": {
    "collapsed": false
   },
   "outputs": [
    {
     "data": {
      "text/html": [
       "<div>\n",
       "<table border=\"1\" class=\"dataframe\">\n",
       "  <thead>\n",
       "    <tr style=\"text-align: right;\">\n",
       "      <th></th>\n",
       "      <th>user_id</th>\n",
       "      <th>user_location_region</th>\n",
       "      <th>srch_destination_id</th>\n",
       "      <th>srch_destination_type_id</th>\n",
       "      <th>hotel_cluster</th>\n",
       "    </tr>\n",
       "  </thead>\n",
       "  <tbody>\n",
       "    <tr>\n",
       "      <th>2394</th>\n",
       "      <td>10643</td>\n",
       "      <td>135</td>\n",
       "      <td>8268</td>\n",
       "      <td>1</td>\n",
       "      <td>18</td>\n",
       "    </tr>\n",
       "    <tr>\n",
       "      <th>2395</th>\n",
       "      <td>10643</td>\n",
       "      <td>135</td>\n",
       "      <td>8824</td>\n",
       "      <td>1</td>\n",
       "      <td>66</td>\n",
       "    </tr>\n",
       "    <tr>\n",
       "      <th>2396</th>\n",
       "      <td>10643</td>\n",
       "      <td>135</td>\n",
       "      <td>8824</td>\n",
       "      <td>1</td>\n",
       "      <td>30</td>\n",
       "    </tr>\n",
       "    <tr>\n",
       "      <th>2397</th>\n",
       "      <td>10643</td>\n",
       "      <td>135</td>\n",
       "      <td>12239</td>\n",
       "      <td>6</td>\n",
       "      <td>37</td>\n",
       "    </tr>\n",
       "    <tr>\n",
       "      <th>2398</th>\n",
       "      <td>10643</td>\n",
       "      <td>135</td>\n",
       "      <td>12654</td>\n",
       "      <td>5</td>\n",
       "      <td>71</td>\n",
       "    </tr>\n",
       "  </tbody>\n",
       "</table>\n",
       "</div>"
      ],
      "text/plain": [
       "      user_id  user_location_region  srch_destination_id  \\\n",
       "2394    10643                   135                 8268   \n",
       "2395    10643                   135                 8824   \n",
       "2396    10643                   135                 8824   \n",
       "2397    10643                   135                12239   \n",
       "2398    10643                   135                12654   \n",
       "\n",
       "      srch_destination_type_id  hotel_cluster  \n",
       "2394                         1             18  \n",
       "2395                         1             66  \n",
       "2396                         1             30  \n",
       "2397                         6             37  \n",
       "2398                         5             71  "
      ]
     },
     "execution_count": 18,
     "metadata": {},
     "output_type": "execute_result"
    }
   ],
   "source": [
    "TRAIN_SET[[\"user_id\",\"user_location_region\",\"srch_destination_id\",\"srch_destination_type_id\",\"hotel_cluster\"]].head()"
   ]
  },
  {
   "cell_type": "code",
   "execution_count": 19,
   "metadata": {
    "collapsed": false
   },
   "outputs": [
    {
     "data": {
      "text/plain": [
       "[91, 41, 48, 64, 5]"
      ]
     },
     "execution_count": 19,
     "metadata": {},
     "output_type": "execute_result"
    }
   ],
   "source": [
    "GLOBAL_RANK_HOTEL = TRAIN_SET[\"hotel_cluster\"].value_counts().index.tolist()\n",
    "GLOBAL_RANK_HOTEL[:5]"
   ]
  },
  {
   "cell_type": "code",
   "execution_count": 20,
   "metadata": {
    "collapsed": true
   },
   "outputs": [],
   "source": [
    "topagg = {}"
   ]
  },
  {
   "cell_type": "code",
   "execution_count": 21,
   "metadata": {
    "collapsed": false
   },
   "outputs": [],
   "source": [
    "groups = TRAIN_SET.groupby([\"srch_destination_id\", \"hotel_cluster\"])\n",
    "\n",
    "for name, group in groups:\n",
    "    \n",
    "    dest_id = name[0]\n",
    "    cluster_id = name[1]\n",
    "    \n",
    "    clicks = len(group.is_booking[group.is_booking == False])\n",
    "    bookings = len(group.is_booking[group.is_booking == True])\n",
    "    \n",
    "    score = bookings + .15 * clicks\n",
    "    \n",
    "    if dest_id not in topagg.keys():\n",
    "        topagg[dest_id] = {}\n",
    "    \n",
    "    topagg[dest_id][cluster_id] = score"
   ]
  },
  {
   "cell_type": "code",
   "execution_count": 22,
   "metadata": {
    "collapsed": false
   },
   "outputs": [
    {
     "data": {
      "text/plain": [
       "{7: 0.15,\n",
       " 32: 0.15,\n",
       " 42: 0.6,\n",
       " 43: 0.44999999999999996,\n",
       " 48: 1.6,\n",
       " 60: 0.15,\n",
       " 76: 0.15,\n",
       " 91: 0.3}"
      ]
     },
     "execution_count": 22,
     "metadata": {},
     "output_type": "execute_result"
    }
   ],
   "source": [
    "topagg[8]"
   ]
  },
  {
   "cell_type": "code",
   "execution_count": 23,
   "metadata": {
    "collapsed": false
   },
   "outputs": [
    {
     "data": {
      "text/plain": [
       "[32, 7, 42, 43, 76, 48, 91, 60]"
      ]
     },
     "execution_count": 23,
     "metadata": {},
     "output_type": "execute_result"
    }
   ],
   "source": [
    "topagg[8].keys()"
   ]
  },
  {
   "cell_type": "code",
   "execution_count": 24,
   "metadata": {
    "collapsed": false
   },
   "outputs": [
    {
     "data": {
      "text/plain": [
       "[48, 42, 43, 91, 32, 7, 76, 60]"
      ]
     },
     "execution_count": 24,
     "metadata": {},
     "output_type": "execute_result"
    }
   ],
   "source": [
    "import operator\n",
    "[i[0] for i in sorted(topagg[8].items(), key=operator.itemgetter(1), reverse=True)]"
   ]
  },
  {
   "cell_type": "code",
   "execution_count": 35,
   "metadata": {
    "collapsed": false
   },
   "outputs": [],
   "source": [
    "df_top_col=[]\n",
    "for dest_id in sorted(topagg.keys()):\n",
    "    df_top_col.append([i[0] for i in sorted(topagg[dest_id].items(), key=operator.itemgetter(1), reverse=True)])"
   ]
  },
  {
   "cell_type": "code",
   "execution_count": 36,
   "metadata": {
    "collapsed": false
   },
   "outputs": [
    {
     "data": {
      "text/html": [
       "<div>\n",
       "<table border=\"1\" class=\"dataframe\">\n",
       "  <thead>\n",
       "    <tr style=\"text-align: right;\">\n",
       "      <th></th>\n",
       "      <th>hotel_cluster_top</th>\n",
       "      <th>srch_destination_id</th>\n",
       "    </tr>\n",
       "  </thead>\n",
       "  <tbody>\n",
       "    <tr>\n",
       "      <th>0</th>\n",
       "      <td>[25, 82, 30]</td>\n",
       "      <td>4</td>\n",
       "    </tr>\n",
       "    <tr>\n",
       "      <th>1</th>\n",
       "      <td>[48, 42, 43, 91, 32, 7, 76, 60]</td>\n",
       "      <td>8</td>\n",
       "    </tr>\n",
       "    <tr>\n",
       "      <th>2</th>\n",
       "      <td>[51]</td>\n",
       "      <td>11</td>\n",
       "    </tr>\n",
       "    <tr>\n",
       "      <th>3</th>\n",
       "      <td>[20]</td>\n",
       "      <td>14</td>\n",
       "    </tr>\n",
       "    <tr>\n",
       "      <th>4</th>\n",
       "      <td>[85, 5, 47]</td>\n",
       "      <td>16</td>\n",
       "    </tr>\n",
       "  </tbody>\n",
       "</table>\n",
       "</div>"
      ],
      "text/plain": [
       "                 hotel_cluster_top  srch_destination_id\n",
       "0                     [25, 82, 30]                    4\n",
       "1  [48, 42, 43, 91, 32, 7, 76, 60]                    8\n",
       "2                             [51]                   11\n",
       "3                             [20]                   14\n",
       "4                      [85, 5, 47]                   16"
      ]
     },
     "execution_count": 36,
     "metadata": {},
     "output_type": "execute_result"
    }
   ],
   "source": [
    "df_top = pd.DataFrame({\"srch_destination_id\": sorted(topagg.keys()), \"hotel_cluster_top\":df_top_col})\n",
    "df_top.head(5)"
   ]
  },
  {
   "cell_type": "code",
   "execution_count": 47,
   "metadata": {
    "collapsed": true
   },
   "outputs": [],
   "source": [
    "def complet(x):\n",
    "    n = 0\n",
    "    while len(x) < 5:\n",
    "        hc = GLOBAL_RANK_HOTEL[n]\n",
    "        n = n + 1\n",
    "        if hc not in x:\n",
    "            x.append(hc)\n",
    "    \n",
    "    return x"
   ]
  },
  {
   "cell_type": "code",
   "execution_count": 53,
   "metadata": {
    "collapsed": true
   },
   "outputs": [],
   "source": [
    "def reformat(x):\n",
    "    pattern = \"%s \"*5\n",
    "    return pattern%tuple(x[:5])"
   ]
  },
  {
   "cell_type": "code",
   "execution_count": 54,
   "metadata": {
    "collapsed": false,
    "scrolled": true
   },
   "outputs": [],
   "source": [
    "df_top[\"hotel_cluster_top\"] = df_top[\"hotel_cluster_top\"].apply(complet)\n",
    "df_top[\"hotel_cluster_top\"] = df_top[\"hotel_cluster_top\"].apply(lambda y: y[:5])\n",
    "df_top[\"str_hotel_cluster\"] = df_top[\"hotel_cluster_top\"].apply(reformat)"
   ]
  },
  {
   "cell_type": "code",
   "execution_count": 56,
   "metadata": {
    "collapsed": false
   },
   "outputs": [
    {
     "data": {
      "text/html": [
       "<div>\n",
       "<table border=\"1\" class=\"dataframe\">\n",
       "  <thead>\n",
       "    <tr style=\"text-align: right;\">\n",
       "      <th></th>\n",
       "      <th>hotel_cluster_top</th>\n",
       "      <th>srch_destination_id</th>\n",
       "      <th>str_hotel_cluster</th>\n",
       "    </tr>\n",
       "  </thead>\n",
       "  <tbody>\n",
       "    <tr>\n",
       "      <th>0</th>\n",
       "      <td>[25, 82, 30, 91, 41]</td>\n",
       "      <td>4</td>\n",
       "      <td>25 82 30 91 41</td>\n",
       "    </tr>\n",
       "    <tr>\n",
       "      <th>1</th>\n",
       "      <td>[48, 42, 43, 91, 32]</td>\n",
       "      <td>8</td>\n",
       "      <td>48 42 43 91 32</td>\n",
       "    </tr>\n",
       "    <tr>\n",
       "      <th>2</th>\n",
       "      <td>[51, 91, 41, 48, 64]</td>\n",
       "      <td>11</td>\n",
       "      <td>51 91 41 48 64</td>\n",
       "    </tr>\n",
       "    <tr>\n",
       "      <th>3</th>\n",
       "      <td>[20, 91, 41, 48, 64]</td>\n",
       "      <td>14</td>\n",
       "      <td>20 91 41 48 64</td>\n",
       "    </tr>\n",
       "    <tr>\n",
       "      <th>4</th>\n",
       "      <td>[85, 5, 47, 91, 41]</td>\n",
       "      <td>16</td>\n",
       "      <td>85 5 47 91 41</td>\n",
       "    </tr>\n",
       "  </tbody>\n",
       "</table>\n",
       "</div>"
      ],
      "text/plain": [
       "      hotel_cluster_top  srch_destination_id str_hotel_cluster\n",
       "0  [25, 82, 30, 91, 41]                    4   25 82 30 91 41 \n",
       "1  [48, 42, 43, 91, 32]                    8   48 42 43 91 32 \n",
       "2  [51, 91, 41, 48, 64]                   11   51 91 41 48 64 \n",
       "3  [20, 91, 41, 48, 64]                   14   20 91 41 48 64 \n",
       "4   [85, 5, 47, 91, 41]                   16    85 5 47 91 41 "
      ]
     },
     "execution_count": 56,
     "metadata": {},
     "output_type": "execute_result"
    }
   ],
   "source": [
    "df_top.head(5)"
   ]
  },
  {
   "cell_type": "code",
   "execution_count": 61,
   "metadata": {
    "collapsed": false
   },
   "outputs": [],
   "source": [
    "VALID_SET = VALID_SET.join(df_top, on=\"srch_destination_id\", how=\"left\", rsuffix=\"_\")\n",
    "VALID_SET[\"str_hotel_cluster\"].fillna(\"91 41 48 64 5\", inplace=True)"
   ]
  },
  {
   "cell_type": "markdown",
   "metadata": {
    "collapsed": true
   },
   "source": [
    "### Features engeneering"
   ]
  },
  {
   "cell_type": "code",
   "execution_count": 27,
   "metadata": {
    "collapsed": true
   },
   "outputs": [],
   "source": [
    "from sklearn.decomposition import PCA\n",
    "pca = PCA(n_components=3)\n",
    "dest_small = pca.fit_transform(DATA_DEST[[\"d{0}\".format(i + 1) for i in range(149)]])\n",
    "dest_small = pd.DataFrame(dest_small)\n",
    "dest_small[\"srch_destination_id\"] = DATA_DEST[\"srch_destination_id\"]"
   ]
  },
  {
   "cell_type": "code",
   "execution_count": 28,
   "metadata": {
    "collapsed": false
   },
   "outputs": [
    {
     "data": {
      "text/html": [
       "<div>\n",
       "<table border=\"1\" class=\"dataframe\">\n",
       "  <thead>\n",
       "    <tr style=\"text-align: right;\">\n",
       "      <th></th>\n",
       "      <th>0</th>\n",
       "      <th>1</th>\n",
       "      <th>2</th>\n",
       "      <th>srch_destination_id</th>\n",
       "    </tr>\n",
       "  </thead>\n",
       "  <tbody>\n",
       "    <tr>\n",
       "      <th>0</th>\n",
       "      <td>0.044268</td>\n",
       "      <td>-0.169419</td>\n",
       "      <td>-0.032522</td>\n",
       "      <td>0</td>\n",
       "    </tr>\n",
       "    <tr>\n",
       "      <th>1</th>\n",
       "      <td>0.440761</td>\n",
       "      <td>-0.077405</td>\n",
       "      <td>0.091572</td>\n",
       "      <td>1</td>\n",
       "    </tr>\n",
       "    <tr>\n",
       "      <th>2</th>\n",
       "      <td>-0.001033</td>\n",
       "      <td>-0.020677</td>\n",
       "      <td>-0.012108</td>\n",
       "      <td>2</td>\n",
       "    </tr>\n",
       "    <tr>\n",
       "      <th>3</th>\n",
       "      <td>0.480467</td>\n",
       "      <td>0.040345</td>\n",
       "      <td>0.019320</td>\n",
       "      <td>3</td>\n",
       "    </tr>\n",
       "    <tr>\n",
       "      <th>4</th>\n",
       "      <td>0.207253</td>\n",
       "      <td>0.042694</td>\n",
       "      <td>0.011744</td>\n",
       "      <td>4</td>\n",
       "    </tr>\n",
       "  </tbody>\n",
       "</table>\n",
       "</div>"
      ],
      "text/plain": [
       "          0         1         2  srch_destination_id\n",
       "0  0.044268 -0.169419 -0.032522                    0\n",
       "1  0.440761 -0.077405  0.091572                    1\n",
       "2 -0.001033 -0.020677 -0.012108                    2\n",
       "3  0.480467  0.040345  0.019320                    3\n",
       "4  0.207253  0.042694  0.011744                    4"
      ]
     },
     "execution_count": 28,
     "metadata": {},
     "output_type": "execute_result"
    }
   ],
   "source": [
    "dest_small.head(5)"
   ]
  },
  {
   "cell_type": "code",
   "execution_count": 29,
   "metadata": {
    "collapsed": false
   },
   "outputs": [],
   "source": [
    "def calc_fast_features(df):\n",
    "    df[\"date_time\"] = pd.to_datetime(df[\"date_time\"])\n",
    "    df[\"srch_ci\"] = pd.to_datetime(df[\"srch_ci\"], format='%Y-%m-%d', errors=\"coerce\")\n",
    "    df[\"srch_co\"] = pd.to_datetime(df[\"srch_co\"], format='%Y-%m-%d', errors=\"coerce\")\n",
    "    \n",
    "    props = {}\n",
    "    for prop in [\"month\", \"day\", \"hour\", \"minute\", \"dayofweek\", \"quarter\"]:\n",
    "        props[prop] = getattr(df[\"date_time\"].dt, prop)\n",
    "    \n",
    "    carryover = [p for p in df.columns if p not in [\"date_time\", \"srch_ci\", \"srch_co\"]]\n",
    "    for prop in carryover:\n",
    "        props[prop] = df[prop]\n",
    "    \n",
    "    date_props = [\"month\", \"day\", \"dayofweek\", \"quarter\"]\n",
    "    for prop in date_props:\n",
    "        props[\"ci_{0}\".format(prop)] = getattr(df[\"srch_ci\"].dt, prop)\n",
    "        props[\"co_{0}\".format(prop)] = getattr(df[\"srch_co\"].dt, prop)\n",
    "    props[\"stay_span\"] = (df[\"srch_co\"] - df[\"srch_ci\"]).astype('timedelta64[h]')\n",
    "        \n",
    "    ret = pd.DataFrame(props)\n",
    "    \n",
    "    ret = ret.join(dest_small, on=\"srch_destination_id\", how='left', rsuffix=\"dest\")\n",
    "    ret = ret.drop(\"srch_destination_iddest\", axis=1)\n",
    "    return ret\n",
    "\n",
    "#df = calc_fast_features(t1)\n",
    "#df.fillna(-1, inplace=True)"
   ]
  },
  {
   "cell_type": "code",
   "execution_count": null,
   "metadata": {
    "collapsed": true
   },
   "outputs": [],
   "source": [
    "def dataClean(df):\n",
    "\n",
    "    df[\"date_time\"] = pd.to_datetime(df[\"date_time\"])\n",
    "    df[\"srch_ci\"] = pd.to_datetime(df[\"srch_ci\"], format=\"%Y-%m-%d\", errors=\"coerce\")\n",
    "    df[\"srch_co\"] = pd.to_datetime(df[\"srch_co\"], format=\"%Y-%m-%d\", errors=\"coerce\")\n",
    "\n",
    "    props = {}\n",
    "    for prop in [\"month\", \"day\", \"hour\", \"minute\", \"dayofweek\", \"quarter\"]:\n",
    "        props[prop] = getattr(df[\"date_time\"].dt, prop)\n",
    "    \n",
    "    features = [p for p in df.columns if p not in [\"date_time\", \"srch_ci\", \"srch_co\"]]\n",
    "    \n",
    "    for prop in features:\n",
    "        props[prop] = df[prop]\n",
    "    \n",
    "    date_props = [\"month\", \"day\", \"dayofweek\", \"quarter\"]\n",
    "    for prop in date_props:\n",
    "        props[\"ci_{0}\".format(prop)] = getattr(df[\"srch_ci\"].dt, prop)\n",
    "        props[\"co_{0}\".format(prop)] = getattr(df[\"srch_co\"].dt, prop)\n",
    "    props[\"stay_span\"] = (df[\"srch_co\"] - df[\"srch_ci\"]).astype('timedelta64[h]')\n",
    "        \n",
    "    frame = pd.DataFrame(props)\n",
    "    \n",
    "    #frame = frame.join(dest_pca, on=\"srch_destination_id\", how='left', rsuffix=\"dest\")\n",
    "    #frame = frame.drop(\"srch_destination_iddest\", axis=1)    \n",
    "    \n",
    "    #frame = frame.drop(toDrop, axis=1)\n",
    "    orig_dest_dist_median = frame[\"orig_destination_distance\"].median()\n",
    "    frame[\"orig_destination_distance\"].fillna(orig_dest_dist_median, inplace=True)\n",
    "    \n",
    "    return frame"
   ]
  },
  {
   "cell_type": "code",
   "execution_count": 31,
   "metadata": {
    "collapsed": false,
    "scrolled": true
   },
   "outputs": [
    {
     "data": {
      "text/html": [
       "<div>\n",
       "<table border=\"1\" class=\"dataframe\">\n",
       "  <thead>\n",
       "    <tr style=\"text-align: right;\">\n",
       "      <th></th>\n",
       "      <th>channel</th>\n",
       "      <th>ci_day</th>\n",
       "      <th>ci_dayofweek</th>\n",
       "      <th>ci_month</th>\n",
       "      <th>ci_quarter</th>\n",
       "      <th>cnt</th>\n",
       "      <th>co_day</th>\n",
       "      <th>co_dayofweek</th>\n",
       "      <th>co_month</th>\n",
       "      <th>co_quarter</th>\n",
       "      <th>...</th>\n",
       "      <th>srch_rm_cnt</th>\n",
       "      <th>stay_span</th>\n",
       "      <th>user_id</th>\n",
       "      <th>user_location_city</th>\n",
       "      <th>user_location_country</th>\n",
       "      <th>user_location_region</th>\n",
       "      <th>year</th>\n",
       "      <th>0</th>\n",
       "      <th>1</th>\n",
       "      <th>2</th>\n",
       "    </tr>\n",
       "  </thead>\n",
       "  <tbody>\n",
       "    <tr>\n",
       "      <th>2596</th>\n",
       "      <td>9</td>\n",
       "      <td>29</td>\n",
       "      <td>0</td>\n",
       "      <td>4</td>\n",
       "      <td>2</td>\n",
       "      <td>3</td>\n",
       "      <td>2</td>\n",
       "      <td>3</td>\n",
       "      <td>5</td>\n",
       "      <td>2</td>\n",
       "      <td>...</td>\n",
       "      <td>1</td>\n",
       "      <td>72</td>\n",
       "      <td>13459</td>\n",
       "      <td>1263</td>\n",
       "      <td>66</td>\n",
       "      <td>462</td>\n",
       "      <td>2013</td>\n",
       "      <td>-0.558787</td>\n",
       "      <td>0.302728</td>\n",
       "      <td>0.043319</td>\n",
       "    </tr>\n",
       "    <tr>\n",
       "      <th>2597</th>\n",
       "      <td>1</td>\n",
       "      <td>25</td>\n",
       "      <td>5</td>\n",
       "      <td>5</td>\n",
       "      <td>2</td>\n",
       "      <td>5</td>\n",
       "      <td>28</td>\n",
       "      <td>1</td>\n",
       "      <td>5</td>\n",
       "      <td>2</td>\n",
       "      <td>...</td>\n",
       "      <td>1</td>\n",
       "      <td>72</td>\n",
       "      <td>13459</td>\n",
       "      <td>1263</td>\n",
       "      <td>66</td>\n",
       "      <td>462</td>\n",
       "      <td>2013</td>\n",
       "      <td>-0.339104</td>\n",
       "      <td>0.246993</td>\n",
       "      <td>0.159985</td>\n",
       "    </tr>\n",
       "    <tr>\n",
       "      <th>2598</th>\n",
       "      <td>1</td>\n",
       "      <td>1</td>\n",
       "      <td>6</td>\n",
       "      <td>6</td>\n",
       "      <td>2</td>\n",
       "      <td>1</td>\n",
       "      <td>6</td>\n",
       "      <td>4</td>\n",
       "      <td>6</td>\n",
       "      <td>2</td>\n",
       "      <td>...</td>\n",
       "      <td>1</td>\n",
       "      <td>120</td>\n",
       "      <td>13459</td>\n",
       "      <td>1263</td>\n",
       "      <td>66</td>\n",
       "      <td>462</td>\n",
       "      <td>2014</td>\n",
       "      <td>-0.219883</td>\n",
       "      <td>0.139836</td>\n",
       "      <td>-0.162701</td>\n",
       "    </tr>\n",
       "    <tr>\n",
       "      <th>2599</th>\n",
       "      <td>1</td>\n",
       "      <td>1</td>\n",
       "      <td>6</td>\n",
       "      <td>6</td>\n",
       "      <td>2</td>\n",
       "      <td>1</td>\n",
       "      <td>6</td>\n",
       "      <td>4</td>\n",
       "      <td>6</td>\n",
       "      <td>2</td>\n",
       "      <td>...</td>\n",
       "      <td>1</td>\n",
       "      <td>120</td>\n",
       "      <td>13459</td>\n",
       "      <td>1263</td>\n",
       "      <td>66</td>\n",
       "      <td>462</td>\n",
       "      <td>2014</td>\n",
       "      <td>-0.219883</td>\n",
       "      <td>0.139836</td>\n",
       "      <td>-0.162701</td>\n",
       "    </tr>\n",
       "    <tr>\n",
       "      <th>2600</th>\n",
       "      <td>1</td>\n",
       "      <td>1</td>\n",
       "      <td>6</td>\n",
       "      <td>6</td>\n",
       "      <td>2</td>\n",
       "      <td>1</td>\n",
       "      <td>6</td>\n",
       "      <td>4</td>\n",
       "      <td>6</td>\n",
       "      <td>2</td>\n",
       "      <td>...</td>\n",
       "      <td>1</td>\n",
       "      <td>120</td>\n",
       "      <td>13459</td>\n",
       "      <td>1263</td>\n",
       "      <td>66</td>\n",
       "      <td>462</td>\n",
       "      <td>2014</td>\n",
       "      <td>-0.219883</td>\n",
       "      <td>0.139836</td>\n",
       "      <td>-0.162701</td>\n",
       "    </tr>\n",
       "  </tbody>\n",
       "</table>\n",
       "<p>5 rows × 40 columns</p>\n",
       "</div>"
      ],
      "text/plain": [
       "      channel  ci_day  ci_dayofweek  ci_month  ci_quarter  cnt  co_day  \\\n",
       "2596        9      29             0         4           2    3       2   \n",
       "2597        1      25             5         5           2    5      28   \n",
       "2598        1       1             6         6           2    1       6   \n",
       "2599        1       1             6         6           2    1       6   \n",
       "2600        1       1             6         6           2    1       6   \n",
       "\n",
       "      co_dayofweek  co_month  co_quarter    ...     srch_rm_cnt  stay_span  \\\n",
       "2596             3         5           2    ...               1         72   \n",
       "2597             1         5           2    ...               1         72   \n",
       "2598             4         6           2    ...               1        120   \n",
       "2599             4         6           2    ...               1        120   \n",
       "2600             4         6           2    ...               1        120   \n",
       "\n",
       "      user_id  user_location_city  user_location_country  \\\n",
       "2596    13459                1263                     66   \n",
       "2597    13459                1263                     66   \n",
       "2598    13459                1263                     66   \n",
       "2599    13459                1263                     66   \n",
       "2600    13459                1263                     66   \n",
       "\n",
       "      user_location_region  year         0         1         2  \n",
       "2596                   462  2013 -0.558787  0.302728  0.043319  \n",
       "2597                   462  2013 -0.339104  0.246993  0.159985  \n",
       "2598                   462  2014 -0.219883  0.139836 -0.162701  \n",
       "2599                   462  2014 -0.219883  0.139836 -0.162701  \n",
       "2600                   462  2014 -0.219883  0.139836 -0.162701  \n",
       "\n",
       "[5 rows x 40 columns]"
      ]
     },
     "execution_count": 31,
     "metadata": {},
     "output_type": "execute_result"
    }
   ],
   "source": [
    "neo_df = calc_fast_features(TRAIN_SET)\n",
    "neo_df.fillna(-1, inplace=True)\n",
    "neo_df.head(5)"
   ]
  },
  {
   "cell_type": "markdown",
   "metadata": {},
   "source": [
    "### Tree based methods"
   ]
  },
  {
   "cell_type": "code",
   "execution_count": 34,
   "metadata": {
    "collapsed": false
   },
   "outputs": [
    {
     "data": {
      "text/plain": [
       "array([ 0.06770873,  0.06540906,  0.06761409])"
      ]
     },
     "execution_count": 34,
     "metadata": {},
     "output_type": "execute_result"
    }
   ],
   "source": [
    "predictors = [c for c in neo_df.columns if c not in [\"hotel_cluster\"]]\n",
    "from sklearn import cross_validation\n",
    "from sklearn.ensemble import RandomForestClassifier\n",
    "\n",
    "clf = RandomForestClassifier(n_estimators=10, min_weight_fraction_leaf=0.1)\n",
    "scores = cross_validation.cross_val_score(clf, neo_df[predictors], neo_df['hotel_cluster'], cv=3)\n",
    "scores"
   ]
  },
  {
   "cell_type": "code",
   "execution_count": 36,
   "metadata": {
    "collapsed": true
   },
   "outputs": [],
   "source": [
    "from sklearn.cross_validation import KFold\n",
    "from itertools import chain"
   ]
  },
  {
   "cell_type": "code",
   "execution_count": 37,
   "metadata": {
    "collapsed": false
   },
   "outputs": [
    {
     "name": "stdout",
     "output_type": "stream",
     "text": [
      "Help on built-in function from_iterable:\n",
      "\n",
      "from_iterable(...)\n",
      "    chain.from_iterable(iterable) --> chain object\n",
      "    \n",
      "    Alternate chain() contructor taking a single iterable argument\n",
      "    that evaluates lazily.\n",
      "\n"
     ]
    }
   ],
   "source": [
    "help(chain.from_iterable)"
   ]
  },
  {
   "cell_type": "code",
   "execution_count": 60,
   "metadata": {
    "collapsed": false
   },
   "outputs": [
    {
     "data": {
      "text/plain": [
       "0.046297794861420195"
      ]
     },
     "execution_count": 60,
     "metadata": {},
     "output_type": "execute_result"
    }
   ],
   "source": [
    "all_probs = []\n",
    "unique_clusters = neo_df[\"hotel_cluster\"].unique()\n",
    "for cluster in unique_clusters:\n",
    "    neo_df[\"target\"] = 1\n",
    "    neo_df[\"target\"][neo_df[\"hotel_cluster\"] != cluster] = 0\n",
    "    predictors = [col for col in neo_df if col not in ['hotel_cluster', \"target\"]]\n",
    "    probs = []\n",
    "    cv = KFold(len(neo_df[\"target\"]), n_folds=2)\n",
    "    clf = RandomForestClassifier(n_estimators=10, min_weight_fraction_leaf=0.1)\n",
    "    for i, (tr, te) in enumerate(cv):\n",
    "        clf.fit(neo_df[predictors].iloc[tr], neo_df[\"target\"].iloc[tr])\n",
    "        preds = clf.predict_proba(neo_df[predictors].iloc[te])\n",
    "        probs.append([p[1] for p in preds])\n",
    "    full_probs = chain.from_iterable(probs)\n",
    "    all_probs.append(list(full_probs))\n",
    "\n",
    "prediction_frame = pd.DataFrame(all_probs).T\n",
    "prediction_frame.columns = unique_clusters\n",
    "def find_top_5(row):\n",
    "    return list(row.nlargest(5).index)\n",
    "\n",
    "preds = []\n",
    "for index, row in prediction_frame.iterrows():\n",
    "    preds.append(find_top_5(row))\n",
    "\n",
    "ml.mapk([[l] for l in VALID_SET.iloc[:][\"hotel_cluster\"]], preds, k=5)"
   ]
  },
  {
   "cell_type": "code",
   "execution_count": null,
   "metadata": {
    "collapsed": true
   },
   "outputs": [],
   "source": []
  }
 ],
 "metadata": {
  "kernelspec": {
   "display_name": "Python 2",
   "language": "python",
   "name": "python2"
  },
  "language_info": {
   "codemirror_mode": {
    "name": "ipython",
    "version": 2
   },
   "file_extension": ".py",
   "mimetype": "text/x-python",
   "name": "python",
   "nbconvert_exporter": "python",
   "pygments_lexer": "ipython2",
   "version": "2.7.11"
  }
 },
 "nbformat": 4,
 "nbformat_minor": 0
}
