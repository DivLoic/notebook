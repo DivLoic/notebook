{
 "cells": [
  {
   "cell_type": "code",
   "execution_count": null,
   "metadata": {
    "collapsed": true
   },
   "outputs": [],
   "source": []
  },
  {
   "cell_type": "code",
   "execution_count": 1,
   "metadata": {
    "collapsed": false
   },
   "outputs": [],
   "source": [
    "# ### imports\n",
    "import logging\n",
    "import numpy as np\n",
    "import pandas as pd\n",
    "import tensorflow as tf\n",
    "\n",
    "from optparse import OptionParser\n",
    "from sklearn.cross_validation import train_test_split"
   ]
  },
  {
   "cell_type": "code",
   "execution_count": 2,
   "metadata": {
    "collapsed": false
   },
   "outputs": [],
   "source": [
    "# ### constant\n",
    "step = 50\n",
    "inf, sup = (0, step)\n",
    "plitting = 0.20\n",
    "LOG_FORMAT = '%(asctime)s [ %(levelname)s ] : %(message)s'"
   ]
  },
  {
   "cell_type": "code",
   "execution_count": 3,
   "metadata": {
    "collapsed": false
   },
   "outputs": [],
   "source": [
    "# ### Datasets\n",
    "DATA = ( pd.DataFrame.from_csv(\"data/train.csv\")\n",
    "        .apply(lambda d: d / 255.0)\n",
    "        .astype(np.float32)\n",
    "       )\n",
    "\n",
    "DATA_TRAIN, DATA_VALID = train_test_split(DATA, test_size=plitting, random_state=42)\n",
    "\n",
    "DATA_TEST = ( pd.DataFrame.from_csv(\"data/test.csv\", index_col=None)\n",
    "             .apply(lambda d: d / 255.0)\n",
    "             .astype(np.float32)\n",
    "            )"
   ]
  },
  {
   "cell_type": "code",
   "execution_count": 4,
   "metadata": {
    "collapsed": false
   },
   "outputs": [
    {
     "name": "stdout",
     "output_type": "stream",
     "text": [
      "Splitting the dataset at 20.0 %\n",
      "Size of the dataset DATA_TRAIN : 33600\n",
      "Size of the dataset DATA_VALID : 8400\n",
      "Size of the dataset DATA_TESTS : 28000\n",
      "List of Nan values in the training set: []\n",
      "List of Nan values in the testing  set: []\n"
     ]
    }
   ],
   "source": [
    "\n",
    "print(\"Splitting the dataset at %s %%\"%(plitting * 100))\n",
    "\n",
    "print(\"Size of the dataset DATA_TRAIN : %s\"%len(DATA_TRAIN))\n",
    "print(\"Size of the dataset DATA_VALID : %s\"%len(DATA_VALID))\n",
    "\n",
    "print(\"Size of the dataset DATA_TESTS : %s\"%len(DATA_TEST))\n",
    "\n",
    "print(\"List of Nan values in the training set: %s\"%filter(lambda y: y != 0, DATA.isnull().sum()))\n",
    "print(\"List of Nan values in the testing  set: %s\"%filter(lambda y: y != 0, DATA_TEST.isnull().sum()))\n"
   ]
  },
  {
   "cell_type": "code",
   "execution_count": 5,
   "metadata": {
    "collapsed": false
   },
   "outputs": [],
   "source": [
    "tf.logging.set_verbosity(tf.logging.ERROR) #enable_centered_bias=True,\n",
    "\n",
    "feature_columns = [tf.contrib.layers.real_valued_column(\"\", dimension=784)]\n",
    "\n",
    "\n",
    "classifier = tf.contrib.learn.DNNClassifier(feature_columns=feature_columns,\n",
    "                                            hidden_units=[64, 128, 128],\n",
    "                                            n_classes=10,\n",
    "                                            model_dir=\"tmp/mnist_model\")\n"
   ]
  },
  {
   "cell_type": "code",
   "execution_count": 6,
   "metadata": {
    "collapsed": false,
    "scrolled": true
   },
   "outputs": [
    {
     "name": "stdout",
     "output_type": "stream",
     "text": [
      "2000) \t Trainning  accuracy: 0.977411\n",
      "2000) \t Validation accuracy: 0.964286\n",
      "4000) \t Trainning  accuracy: 0.987887\n",
      "4000) \t Validation accuracy: 0.969762\n",
      "6000) \t Trainning  accuracy: 0.993988\n",
      "6000) \t Validation accuracy: 0.970595\n",
      "8000) \t Trainning  accuracy: 0.996756\n",
      "8000) \t Validation accuracy: 0.969405\n",
      "10000) \t Trainning  accuracy: 0.999494\n",
      "10000) \t Validation accuracy: 0.971310\n",
      "12000) \t Trainning  accuracy: 0.999881\n",
      "12000) \t Validation accuracy: 0.972619\n",
      "14000) \t Trainning  accuracy: 0.999940\n",
      "14000) \t Validation accuracy: 0.972619\n",
      "16000) \t Trainning  accuracy: 1.000000\n",
      "16000) \t Validation accuracy: 0.972619\n",
      "18000) \t Trainning  accuracy: 1.000000\n",
      "18000) \t Validation accuracy: 0.972857\n",
      "20000) \t Trainning  accuracy: 1.000000\n",
      "20000) \t Validation accuracy: 0.973095\n"
     ]
    }
   ],
   "source": [
    "for i in range(1,11):\n",
    "    \n",
    "    classifier.fit(x=DATA_TRAIN.as_matrix() , y=DATA_TRAIN.index.tolist(), steps=2000, batch_size=50)\n",
    "    \n",
    "    acc_train = classifier.evaluate(x=DATA_TRAIN.as_matrix(), y=DATA_TRAIN.index.tolist())[\"accuracy\"]\n",
    "    acc_valid = classifier.evaluate(x=DATA_VALID.as_matrix(), y=DATA_VALID.index.tolist())[\"accuracy\"]\n",
    "    \n",
    "    print \"%s) \\t Trainning  accuracy: %f\"%(i*2000, acc_train)\n",
    "    print \"%s) \\t Validation accuracy: %f\"%(i*2000, acc_valid)"
   ]
  },
  {
   "cell_type": "code",
   "execution_count": 7,
   "metadata": {
    "collapsed": true
   },
   "outputs": [],
   "source": [
    "#labels = classifier.predict(x=DATA_TEST.as_matrix())"
   ]
  },
  {
   "cell_type": "code",
   "execution_count": null,
   "metadata": {
    "collapsed": false
   },
   "outputs": [],
   "source": []
  },
  {
   "cell_type": "code",
   "execution_count": 8,
   "metadata": {
    "collapsed": true
   },
   "outputs": [],
   "source": [
    "#df_result = pd.DataFrame({'ImageId': range(1, len(labels)+1), 'Label': labels})\n",
    "#df_result.to_csv('data/prediction_six.csv', index=False)"
   ]
  },
  {
   "cell_type": "code",
   "execution_count": null,
   "metadata": {
    "collapsed": true
   },
   "outputs": [],
   "source": []
  }
 ],
 "metadata": {
  "kernelspec": {
   "display_name": "Python 2",
   "language": "python",
   "name": "python2"
  },
  "language_info": {
   "codemirror_mode": {
    "name": "ipython",
    "version": 2
   },
   "file_extension": ".py",
   "mimetype": "text/x-python",
   "name": "python",
   "nbconvert_exporter": "python",
   "pygments_lexer": "ipython2",
   "version": "2.7.12"
  }
 },
 "nbformat": 4,
 "nbformat_minor": 0
}
