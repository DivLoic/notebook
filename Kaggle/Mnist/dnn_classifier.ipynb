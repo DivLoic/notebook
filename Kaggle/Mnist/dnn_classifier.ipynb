{
 "cells": [
  {
   "cell_type": "code",
   "execution_count": null,
   "metadata": {
    "collapsed": true
   },
   "outputs": [],
   "source": []
  },
  {
   "cell_type": "code",
   "execution_count": 1,
   "metadata": {
    "collapsed": false
   },
   "outputs": [],
   "source": [
    "# ### imports\n",
    "import logging\n",
    "import numpy as np\n",
    "import pandas as pd\n",
    "import tensorflow as tf\n",
    "\n",
    "%matplotlib inline\n",
    "import matplotlib.pyplot as plt\n",
    "\n",
    "from optparse import OptionParser\n",
    "from sklearn.cross_validation import train_test_split"
   ]
  },
  {
   "cell_type": "code",
   "execution_count": 2,
   "metadata": {
    "collapsed": false
   },
   "outputs": [],
   "source": [
    "# ### constant\n",
    "step = 50\n",
    "inf, sup = (0, step)\n",
    "plitting = 0.20\n",
    "LOG_FORMAT = '%(asctime)s [ %(levelname)s ] : %(message)s'"
   ]
  },
  {
   "cell_type": "code",
   "execution_count": 3,
   "metadata": {
    "collapsed": false
   },
   "outputs": [],
   "source": [
    "# ### Datasets\n",
    "DATA = ( pd.DataFrame.from_csv(\"data/train.csv\")\n",
    "        .apply(lambda d: d / 255.0)\n",
    "        .astype(np.float32)\n",
    "       )\n",
    "\n",
    "DATA_TRAIN, DATA_VALID = train_test_split(DATA, test_size=plitting, random_state=42)\n",
    "\n",
    "DATA_TEST = ( pd.DataFrame.from_csv(\"data/test.csv\", index_col=None)\n",
    "             .apply(lambda d: d / 255.0)\n",
    "             .astype(np.float32)\n",
    "            )"
   ]
  },
  {
   "cell_type": "code",
   "execution_count": 4,
   "metadata": {
    "collapsed": false
   },
   "outputs": [
    {
     "name": "stdout",
     "output_type": "stream",
     "text": [
      "Splitting the dataset at 20.0 %\n",
      "Size of the dataset DATA_TRAIN : 33600\n",
      "Size of the dataset DATA_VALID : 8400\n",
      "Size of the dataset DATA_TESTS : 28000\n",
      "List of Nan values in the training set: []\n",
      "List of Nan values in the testing  set: []\n"
     ]
    }
   ],
   "source": [
    "\n",
    "print(\"Splitting the dataset at %s %%\"%(plitting * 100))\n",
    "\n",
    "print(\"Size of the dataset DATA_TRAIN : %s\"%len(DATA_TRAIN))\n",
    "print(\"Size of the dataset DATA_VALID : %s\"%len(DATA_VALID))\n",
    "\n",
    "print(\"Size of the dataset DATA_TESTS : %s\"%len(DATA_TEST))\n",
    "\n",
    "print(\"List of Nan values in the training set: %s\"%filter(lambda y: y != 0, DATA.isnull().sum()))\n",
    "print(\"List of Nan values in the testing  set: %s\"%filter(lambda y: y != 0, DATA_TEST.isnull().sum()))\n"
   ]
  },
  {
   "cell_type": "code",
   "execution_count": 5,
   "metadata": {
    "collapsed": false
   },
   "outputs": [],
   "source": [
    "tf.logging.set_verbosity(tf.logging.ERROR) #enable_centered_bias=True,\n",
    "\n",
    "feature_columns = [tf.contrib.layers.real_valued_column(\"\", dimension=784)]\n",
    "\n",
    "classifier = tf.contrib.learn.DNNClassifier(feature_columns=feature_columns,\n",
    "                                            hidden_units=[32, 64],\n",
    "                                            n_classes=10,\n",
    "                                            dropout=0.1,   \n",
    "                                            model_dir=\"tmp/mnist_model\")"
   ]
  },
  {
   "cell_type": "code",
   "execution_count": 6,
   "metadata": {
    "collapsed": false
   },
   "outputs": [],
   "source": [
    "#help(classifier.fit)\n",
    "T_ACCURACIES = list()\n",
    "V_ACCURACIES = list()"
   ]
  },
  {
   "cell_type": "code",
   "execution_count": 7,
   "metadata": {
    "collapsed": false,
    "scrolled": false
   },
   "outputs": [
    {
     "name": "stdout",
     "output_type": "stream",
     "text": [
      "2000) \t Trainning  accuracy: 0.956161\n",
      "2000) \t Validation accuracy: 0.944405\n",
      "4000) \t Trainning  accuracy: 0.969434\n",
      "4000) \t Validation accuracy: 0.957500\n",
      "6000) \t Trainning  accuracy: 0.973482\n",
      "6000) \t Validation accuracy: 0.958214\n",
      "8000) \t Trainning  accuracy: 0.977649\n",
      "8000) \t Validation accuracy: 0.961429\n",
      "10000) \t Trainning  accuracy: 0.981339\n",
      "10000) \t Validation accuracy: 0.962024\n",
      "12000) \t Trainning  accuracy: 0.982768\n",
      "12000) \t Validation accuracy: 0.963214\n",
      "14000) \t Trainning  accuracy: 0.984643\n",
      "14000) \t Validation accuracy: 0.963690\n",
      "16000) \t Trainning  accuracy: 0.986815\n",
      "16000) \t Validation accuracy: 0.964286\n",
      "18000) \t Trainning  accuracy: 0.987202\n",
      "18000) \t Validation accuracy: 0.963929\n",
      "20000) \t Trainning  accuracy: 0.988304\n",
      "20000) \t Validation accuracy: 0.964048\n"
     ]
    }
   ],
   "source": [
    "for i in range(1,11):\n",
    "    \n",
    "    classifier.fit(x=DATA_TRAIN.as_matrix() , y=DATA_TRAIN.index.tolist(), steps=2000, batch_size=50)\n",
    "    \n",
    "    acc_train = classifier.evaluate(x=DATA_TRAIN.as_matrix(), y=DATA_TRAIN.index.tolist())[\"accuracy\"]\n",
    "    acc_valid = classifier.evaluate(x=DATA_VALID.as_matrix(), y=DATA_VALID.index.tolist())[\"accuracy\"]\n",
    "    \n",
    "    T_ACCURACIES.append(acc_train)\n",
    "    V_ACCURACIES.append(acc_valid)\n",
    "    \n",
    "    print \"%s) \\t Trainning  accuracy: %f\"%(i*2000, acc_train)\n",
    "    print \"%s) \\t Validation accuracy: %f\"%(i*2000, acc_valid)"
   ]
  },
  {
   "cell_type": "code",
   "execution_count": 8,
   "metadata": {
    "collapsed": false
   },
   "outputs": [
    {
     "data": {
      "text/plain": [
       "[<matplotlib.lines.Line2D at 0x123afb310>]"
      ]
     },
     "execution_count": 8,
     "metadata": {},
     "output_type": "execute_result"
    },
    {
     "data": {
      "image/png": "[encoded data removed]",
      "text/plain": [
       "<matplotlib.figure.Figure at 0x11de92190>"
      ]
     },
     "metadata": {},
     "output_type": "display_data"
    }
   ],
   "source": [
    "plt.figure(1)\n",
    "plt.ylim(ymax = 1.01, ymin = 0.92)\n",
    "plt.plot(range(len(T_ACCURACIES)), T_ACCURACIES, '-ob', label='Training')\n",
    "plt.plot(range(len(V_ACCURACIES)), V_ACCURACIES, '-or', label='Validation')"
   ]
  },
  {
   "cell_type": "code",
   "execution_count": 9,
   "metadata": {
    "collapsed": false
   },
   "outputs": [
    {
     "name": "stdout",
     "output_type": "stream",
     "text": [
      "Number of errors: \t  302\n"
     ]
    }
   ],
   "source": [
    "ERROR_DF = DATA_VALID.reset_index()\n",
    "ERROR_DF[\"prediction\"] = classifier.predict(x=DATA_VALID.as_matrix())\n",
    "ERROR_DF = ERROR_DF[(ERROR_DF.prediction != ERROR_DF.label)]\n",
    "ERROR_DF.index = range(len(ERROR_DF))\n",
    "print \"Number of errors: \\t \", len(ERROR_DF)"
   ]
  },
  {
   "cell_type": "code",
   "execution_count": 10,
   "metadata": {
    "collapsed": false
   },
   "outputs": [
    {
     "data": {
      "text/html": [
       "<div>\n",
       "<table border=\"1\" class=\"dataframe\">\n",
       "  <thead>\n",
       "    <tr style=\"text-align: right;\">\n",
       "      <th></th>\n",
       "      <th>prediction</th>\n",
       "      <th>label</th>\n",
       "    </tr>\n",
       "  </thead>\n",
       "  <tbody>\n",
       "    <tr>\n",
       "      <th>0</th>\n",
       "      <td>3</td>\n",
       "      <td>9</td>\n",
       "    </tr>\n",
       "    <tr>\n",
       "      <th>1</th>\n",
       "      <td>8</td>\n",
       "      <td>9</td>\n",
       "    </tr>\n",
       "    <tr>\n",
       "      <th>2</th>\n",
       "      <td>8</td>\n",
       "      <td>3</td>\n",
       "    </tr>\n",
       "    <tr>\n",
       "      <th>3</th>\n",
       "      <td>6</td>\n",
       "      <td>4</td>\n",
       "    </tr>\n",
       "    <tr>\n",
       "      <th>4</th>\n",
       "      <td>5</td>\n",
       "      <td>8</td>\n",
       "    </tr>\n",
       "  </tbody>\n",
       "</table>\n",
       "</div>"
      ],
      "text/plain": [
       "   prediction  label\n",
       "0           3      9\n",
       "1           8      9\n",
       "2           8      3\n",
       "3           6      4\n",
       "4           5      8"
      ]
     },
     "execution_count": 10,
     "metadata": {},
     "output_type": "execute_result"
    }
   ],
   "source": [
    "ERROR_DF[[\"prediction\", \"label\"]].head()"
   ]
  },
  {
   "cell_type": "code",
   "execution_count": 11,
   "metadata": {
    "collapsed": false
   },
   "outputs": [],
   "source": [
    "def to_digit(df, idx, i=28, j=28):\n",
    "    return df.iloc[idx,:].reshape((i, j))\n",
    "\n",
    "def show_digit(digit):\n",
    "    print \"label: \", ERROR_DF.label[digit]\n",
    "    print \"predict: \", ERROR_DF.prediction[digit]\n",
    "    plt.figure(2, figsize=(4, 4))\n",
    "    plt.imshow(\n",
    "        to_digit(ERROR_DF.drop([\"prediction\", \"label\"], axis=1), digit),\n",
    "        cmap=plt.cm.gray_r, interpolation='nearest'\n",
    "    )\n",
    "    plt.show()"
   ]
  },
  {
   "cell_type": "code",
   "execution_count": 12,
   "metadata": {
    "collapsed": false
   },
   "outputs": [
    {
     "name": "stdout",
     "output_type": "stream",
     "text": [
      "label:  5\n",
      "predict:  9\n"
     ]
    },
    {
     "data": {
      "image/png": "[encoded data removed]",
      "text/plain": [
       "<matplotlib.figure.Figure at 0x11b1d15d0>"
      ]
     },
     "metadata": {},
     "output_type": "display_data"
    }
   ],
   "source": [
    "show_digit(5)"
   ]
  },
  {
   "cell_type": "code",
   "execution_count": 13,
   "metadata": {
    "collapsed": true
   },
   "outputs": [],
   "source": [
    "labels = classifier.predict(x=DATA_TEST.as_matrix())"
   ]
  },
  {
   "cell_type": "code",
   "execution_count": 14,
   "metadata": {
    "collapsed": true
   },
   "outputs": [],
   "source": [
    "df_result = pd.DataFrame({'ImageId': range(1, len(labels)+1), 'Label': labels})\n",
    "df_result.to_csv('data/prediction_seven.csv', index=False)"
   ]
  },
  {
   "cell_type": "code",
   "execution_count": null,
   "metadata": {
    "collapsed": true
   },
   "outputs": [],
   "source": []
  }
 ],
 "metadata": {
  "kernelspec": {
   "display_name": "Python 2",
   "language": "python",
   "name": "python2"
  },
  "language_info": {
   "codemirror_mode": {
    "name": "ipython",
    "version": 2
   },
   "file_extension": ".py",
   "mimetype": "text/x-python",
   "name": "python",
   "nbconvert_exporter": "python",
   "pygments_lexer": "ipython2",
   "version": "2.7.12"
  }
 },
 "nbformat": 4,
 "nbformat_minor": 0
}
