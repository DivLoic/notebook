{
 "cells": [
  {
   "cell_type": "code",
   "execution_count": 1,
   "metadata": {
    "collapsed": true
   },
   "outputs": [],
   "source": [
    "# coding: utf8"
   ]
  },
  {
   "cell_type": "code",
   "execution_count": 2,
   "metadata": {
    "collapsed": true
   },
   "outputs": [],
   "source": [
    "import math\n",
    "import random\n",
    "import pandas as pd\n",
    "import numpy  as np\n",
    "import seaborn as sb\n",
    "import matplotlib.pyplot as plt"
   ]
  },
  {
   "cell_type": "code",
   "execution_count": 3,
   "metadata": {
    "collapsed": true
   },
   "outputs": [],
   "source": [
    "from __future__ import division\n",
    "from sklearn.ensemble import GradientBoostingClassifier\n",
    "from sklearn.cross_validation import StratifiedKFold\n",
    "from sklearn.cross_validation import train_test_split"
   ]
  },
  {
   "cell_type": "code",
   "execution_count": 4,
   "metadata": {
    "collapsed": true
   },
   "outputs": [],
   "source": [
    "import warnings\n",
    "%matplotlib inline\n",
    "warnings.filterwarnings(\"ignore\")\n",
    "sb.set(style=\"white\", color_codes=True)"
   ]
  },
  {
   "cell_type": "code",
   "execution_count": 5,
   "metadata": {
    "collapsed": true
   },
   "outputs": [],
   "source": [
    "SEED_STATE = 1\n",
    "KFOLDS_NUM = 8"
   ]
  },
  {
   "cell_type": "code",
   "execution_count": 6,
   "metadata": {
    "collapsed": false
   },
   "outputs": [],
   "source": [
    "# TODO define the cost function\n",
    "def kaggleLogLoss(np_target, np_predict):\n",
    "    \"\"\"\n",
    "    \"\"\"\n",
    "    np_target = np.array(np_target.tolist())\n",
    "    np_predict = np.array(np_predict.tolist())\n",
    "    \n",
    "    def limit(p):\n",
    "        return max(min(p,1e-15),1 - 1e-15)\n",
    "    \n",
    "    predict = []\n",
    "    for idx, p in enumerate(np_predict):\n",
    "        predict.append(limit(p))\n",
    "    predict = np.array(predict)\n",
    "    \n",
    "    t1 = np.prod([np_target, np.log(predict)], axis=0)\n",
    "    t2 = np.prod([(1 - np_target),(1 - np.log(predict))], axis=0)\n",
    "    \n",
    "    return sum(np.sum([t1, t2], axis=0)) / len(np_target) \n"
   ]
  },
  {
   "cell_type": "markdown",
   "metadata": {},
   "source": [
    "## Loading the data"
   ]
  },
  {
   "cell_type": "code",
   "execution_count": 9,
   "metadata": {
    "collapsed": true
   },
   "outputs": [],
   "source": [
    "claims = pd.read_csv('train.csv')"
   ]
  },
  {
   "cell_type": "code",
   "execution_count": 10,
   "metadata": {
    "collapsed": false
   },
   "outputs": [
    {
     "data": {
      "text/html": [
       "<div>\n",
       "<table border=\"1\" class=\"dataframe\">\n",
       "  <thead>\n",
       "    <tr style=\"text-align: right;\">\n",
       "      <th></th>\n",
       "      <th>ID</th>\n",
       "      <th>target</th>\n",
       "      <th>v1</th>\n",
       "      <th>v2</th>\n",
       "      <th>v3</th>\n",
       "      <th>v4</th>\n",
       "      <th>v5</th>\n",
       "      <th>v6</th>\n",
       "      <th>v7</th>\n",
       "      <th>v8</th>\n",
       "      <th>...</th>\n",
       "      <th>v122</th>\n",
       "      <th>v123</th>\n",
       "      <th>v124</th>\n",
       "      <th>v125</th>\n",
       "      <th>v126</th>\n",
       "      <th>v127</th>\n",
       "      <th>v128</th>\n",
       "      <th>v129</th>\n",
       "      <th>v130</th>\n",
       "      <th>v131</th>\n",
       "    </tr>\n",
       "  </thead>\n",
       "  <tbody>\n",
       "    <tr>\n",
       "      <th>0</th>\n",
       "      <td>3</td>\n",
       "      <td>1</td>\n",
       "      <td>1.335739</td>\n",
       "      <td>8.727474</td>\n",
       "      <td>C</td>\n",
       "      <td>3.921026</td>\n",
       "      <td>7.915266</td>\n",
       "      <td>2.599278</td>\n",
       "      <td>3.176895</td>\n",
       "      <td>0.012941</td>\n",
       "      <td>...</td>\n",
       "      <td>8.000000</td>\n",
       "      <td>1.989780</td>\n",
       "      <td>0.035754</td>\n",
       "      <td>AU</td>\n",
       "      <td>1.804126</td>\n",
       "      <td>3.113719</td>\n",
       "      <td>2.024285</td>\n",
       "      <td>0</td>\n",
       "      <td>0.636365</td>\n",
       "      <td>2.857144</td>\n",
       "    </tr>\n",
       "    <tr>\n",
       "      <th>1</th>\n",
       "      <td>4</td>\n",
       "      <td>1</td>\n",
       "      <td>NaN</td>\n",
       "      <td>NaN</td>\n",
       "      <td>C</td>\n",
       "      <td>NaN</td>\n",
       "      <td>9.191265</td>\n",
       "      <td>NaN</td>\n",
       "      <td>NaN</td>\n",
       "      <td>2.301630</td>\n",
       "      <td>...</td>\n",
       "      <td>NaN</td>\n",
       "      <td>NaN</td>\n",
       "      <td>0.598896</td>\n",
       "      <td>AF</td>\n",
       "      <td>NaN</td>\n",
       "      <td>NaN</td>\n",
       "      <td>1.957825</td>\n",
       "      <td>0</td>\n",
       "      <td>NaN</td>\n",
       "      <td>NaN</td>\n",
       "    </tr>\n",
       "    <tr>\n",
       "      <th>2</th>\n",
       "      <td>5</td>\n",
       "      <td>1</td>\n",
       "      <td>0.943877</td>\n",
       "      <td>5.310079</td>\n",
       "      <td>C</td>\n",
       "      <td>4.410969</td>\n",
       "      <td>5.326159</td>\n",
       "      <td>3.979592</td>\n",
       "      <td>3.928571</td>\n",
       "      <td>0.019645</td>\n",
       "      <td>...</td>\n",
       "      <td>9.333333</td>\n",
       "      <td>2.477596</td>\n",
       "      <td>0.013452</td>\n",
       "      <td>AE</td>\n",
       "      <td>1.773709</td>\n",
       "      <td>3.922193</td>\n",
       "      <td>1.120468</td>\n",
       "      <td>2</td>\n",
       "      <td>0.883118</td>\n",
       "      <td>1.176472</td>\n",
       "    </tr>\n",
       "    <tr>\n",
       "      <th>3</th>\n",
       "      <td>6</td>\n",
       "      <td>1</td>\n",
       "      <td>0.797415</td>\n",
       "      <td>8.304757</td>\n",
       "      <td>C</td>\n",
       "      <td>4.225930</td>\n",
       "      <td>11.627438</td>\n",
       "      <td>2.097700</td>\n",
       "      <td>1.987549</td>\n",
       "      <td>0.171947</td>\n",
       "      <td>...</td>\n",
       "      <td>7.018256</td>\n",
       "      <td>1.812795</td>\n",
       "      <td>0.002267</td>\n",
       "      <td>CJ</td>\n",
       "      <td>1.415230</td>\n",
       "      <td>2.954381</td>\n",
       "      <td>1.990847</td>\n",
       "      <td>1</td>\n",
       "      <td>1.677108</td>\n",
       "      <td>1.034483</td>\n",
       "    </tr>\n",
       "    <tr>\n",
       "      <th>4</th>\n",
       "      <td>8</td>\n",
       "      <td>1</td>\n",
       "      <td>NaN</td>\n",
       "      <td>NaN</td>\n",
       "      <td>C</td>\n",
       "      <td>NaN</td>\n",
       "      <td>NaN</td>\n",
       "      <td>NaN</td>\n",
       "      <td>NaN</td>\n",
       "      <td>NaN</td>\n",
       "      <td>...</td>\n",
       "      <td>NaN</td>\n",
       "      <td>NaN</td>\n",
       "      <td>NaN</td>\n",
       "      <td>Z</td>\n",
       "      <td>NaN</td>\n",
       "      <td>NaN</td>\n",
       "      <td>NaN</td>\n",
       "      <td>0</td>\n",
       "      <td>NaN</td>\n",
       "      <td>NaN</td>\n",
       "    </tr>\n",
       "  </tbody>\n",
       "</table>\n",
       "<p>5 rows × 133 columns</p>\n",
       "</div>"
      ],
      "text/plain": [
       "   ID  target        v1        v2 v3        v4         v5        v6        v7  \\\n",
       "0   3       1  1.335739  8.727474  C  3.921026   7.915266  2.599278  3.176895   \n",
       "1   4       1       NaN       NaN  C       NaN   9.191265       NaN       NaN   \n",
       "2   5       1  0.943877  5.310079  C  4.410969   5.326159  3.979592  3.928571   \n",
       "3   6       1  0.797415  8.304757  C  4.225930  11.627438  2.097700  1.987549   \n",
       "4   8       1       NaN       NaN  C       NaN        NaN       NaN       NaN   \n",
       "\n",
       "         v8    ...         v122      v123      v124  v125      v126      v127  \\\n",
       "0  0.012941    ...     8.000000  1.989780  0.035754    AU  1.804126  3.113719   \n",
       "1  2.301630    ...          NaN       NaN  0.598896    AF       NaN       NaN   \n",
       "2  0.019645    ...     9.333333  2.477596  0.013452    AE  1.773709  3.922193   \n",
       "3  0.171947    ...     7.018256  1.812795  0.002267    CJ  1.415230  2.954381   \n",
       "4       NaN    ...          NaN       NaN       NaN     Z       NaN       NaN   \n",
       "\n",
       "       v128  v129      v130      v131  \n",
       "0  2.024285     0  0.636365  2.857144  \n",
       "1  1.957825     0       NaN       NaN  \n",
       "2  1.120468     2  0.883118  1.176472  \n",
       "3  1.990847     1  1.677108  1.034483  \n",
       "4       NaN     0       NaN       NaN  \n",
       "\n",
       "[5 rows x 133 columns]"
      ]
     },
     "execution_count": 10,
     "metadata": {},
     "output_type": "execute_result"
    }
   ],
   "source": [
    "claims.head()"
   ]
  },
  {
   "cell_type": "markdown",
   "metadata": {},
   "source": [
    "#### Do we have only numerical values ?"
   ]
  },
  {
   "cell_type": "raw",
   "metadata": {},
   "source": [
    "### Nop! possible split?!"
   ]
  },
  {
   "cell_type": "code",
   "execution_count": 11,
   "metadata": {
    "collapsed": false
   },
   "outputs": [
    {
     "name": "stdout",
     "output_type": "stream",
     "text": [
      "<class 'pandas.core.frame.DataFrame'>\n",
      "Int64Index: 114321 entries, 0 to 114320\n",
      "Columns: 133 entries, ID to v131\n",
      "dtypes: float64(108), int64(6), object(19)\n",
      "memory usage: 116.9+ MB\n"
     ]
    }
   ],
   "source": [
    "null_serie = claims.isnull().sum()\n",
    "claims.info()"
   ]
  },
  {
   "cell_type": "markdown",
   "metadata": {},
   "source": [
    "#### Is the dataset is balanced ?"
   ]
  },
  {
   "cell_type": "raw",
   "metadata": {},
   "source": [
    "### Nop! Reminder ===> balance before the split ^^"
   ]
  },
  {
   "cell_type": "code",
   "execution_count": 12,
   "metadata": {
    "collapsed": false
   },
   "outputs": [
    {
     "name": "stdout",
     "output_type": "stream",
     "text": [
      "Number of safe approval :  87021\n",
      "Number of risky approval:  27300\n"
     ]
    },
    {
     "data": {
      "text/plain": [
       "([<matplotlib.patches.Wedge at 0x101bf3450>,\n",
       "  <matplotlib.patches.Wedge at 0x10bffa290>],\n",
       " [<matplotlib.text.Text at 0x10c010310>,\n",
       "  <matplotlib.text.Text at 0x10bfe4610>],\n",
       " [<matplotlib.text.Text at 0x10c006190>,\n",
       "  <matplotlib.text.Text at 0x10c314f10>])"
      ]
     },
     "execution_count": 12,
     "metadata": {},
     "output_type": "execute_result"
    },
    {
     "data": {
      "image/png": "[encoded data removed]",
      "text/plain": [
       "<matplotlib.figure.Figure at 0x10bedd610>"
      ]
     },
     "metadata": {},
     "output_type": "display_data"
    }
   ],
   "source": [
    "df_ones = claims [claims[\"target\"] == 1]\n",
    "df_zeros = claims [claims[\"target\"] == 0]\n",
    "\n",
    "print \"Number of safe approval : \", len(df_ones)\n",
    "print \"Number of risky approval: \",len(df_zeros)\n",
    "plt.axis('equal')\n",
    "plt.pie([len(df_ones), len(df_zeros)], labels=[\"safe\", \"risky\"],\n",
    "        colors=['gold', 'lightcoral'], autopct='%1.1f%%', shadow=True,\n",
    "        startangle=90, explode = (0, 0.2))\n"
   ]
  },
  {
   "cell_type": "markdown",
   "metadata": {},
   "source": [
    "#### Do have missing values ?!"
   ]
  },
  {
   "cell_type": "raw",
   "metadata": {
    "collapsed": false
   },
   "source": [
    "sb.distplot(claims[\"v12\"].dropna())\n",
    "sb.kdeplot(np.random.normal(6.881304, 9.244945e-01, 49832))"
   ]
  },
  {
   "cell_type": "code",
   "execution_count": 13,
   "metadata": {
    "collapsed": false
   },
   "outputs": [
    {
     "name": "stdout",
     "output_type": "stream",
     "text": [
      "Number of missing values:\t49832\n",
      "Number of real values:\t64489\n"
     ]
    },
    {
     "data": {
      "text/plain": [
       "count    1.142350e+05\n",
       "mean     6.881304e+00\n",
       "std      9.244945e-01\n",
       "min      5.143224e-07\n",
       "25%      6.322471e+00\n",
       "50%      6.612969e+00\n",
       "75%      7.019983e+00\n",
       "max      1.871055e+01\n",
       "Name: v12, dtype: float64"
      ]
     },
     "execution_count": 13,
     "metadata": {},
     "output_type": "execute_result"
    }
   ],
   "source": [
    "print \"Number of missing values:\\t\",null_serie[\"v7\"]\n",
    "print \"Number of real values:\\t\",len(claims[\"v7\"].dropna())\n",
    "claims[\"v12\"].describe()"
   ]
  },
  {
   "cell_type": "code",
   "execution_count": 14,
   "metadata": {
    "collapsed": false
   },
   "outputs": [
    {
     "name": "stdout",
     "output_type": "stream",
     "text": [
      "Here the differents types columns in the df:  ['object', 'int64', 'float64']\n",
      "Number of interger columns: \t  4\n",
      "Number of letters  columns: \t  19\n"
     ]
    }
   ],
   "source": [
    "all_features = claims.drop([\"ID\", \"target\"] ,axis=1).columns\n",
    "dict_types = all_features.to_series().groupby(claims.dtypes).groups\n",
    "dict_types = {k.name: v for k, v in dict_types.items()}\n",
    "print \"Here the differents types columns in the df: \",dict_types.keys()\n",
    "int_columns = dict_types[u'int64']\n",
    "cat_columns = dict_types[u'object']\n",
    "float_columns = dict_types[u'float64']\n",
    "print \"Number of interger columns: \\t \",len(int_columns)\n",
    "print \"Number of letters  columns: \\t \",len(cat_columns)"
   ]
  },
  {
   "cell_type": "code",
   "execution_count": 15,
   "metadata": {
    "collapsed": false
   },
   "outputs": [],
   "source": [
    "#sb.boxplot(x=\"target\", y=\"v72\", data=claims[int_columns + [\"target\"]])\n",
    "#claims[int_columns + [\"target\"]].boxplot(by=\"target\")"
   ]
  },
  {
   "cell_type": "markdown",
   "metadata": {},
   "source": [
    "## Cleaning the Data"
   ]
  },
  {
   "cell_type": "raw",
   "metadata": {},
   "source": [
    "#### BALANCING !"
   ]
  },
  {
   "cell_type": "code",
   "execution_count": 16,
   "metadata": {
    "collapsed": false
   },
   "outputs": [
    {
     "name": "stdout",
     "output_type": "stream",
     "text": [
      "Simple claim(27847) vs Risky claims(27300)\n"
     ]
    }
   ],
   "source": [
    "df_ones_drop, df_ones_keep = train_test_split(df_ones, test_size=0.32, random_state=SEED_STATE) \n",
    "print \"Simple claim(%i) vs Risky claims(%i)\"%(len(df_ones_keep),len(df_zeros))"
   ]
  },
  {
   "cell_type": "raw",
   "metadata": {},
   "source": [
    "claims = pd.concat([df_zeros, df_ones_keep])\n",
    "np.random.seed(SEED_STATE)\n",
    "claims = claims.iloc[np.random.permutation(len(claims))]"
   ]
  },
  {
   "cell_type": "code",
   "execution_count": 17,
   "metadata": {
    "collapsed": false
   },
   "outputs": [
    {
     "data": {
      "text/plain": [
       "([<matplotlib.patches.Wedge at 0x10c341ad0>,\n",
       "  <matplotlib.patches.Wedge at 0x10c34fdd0>],\n",
       " [<matplotlib.text.Text at 0x10c34f4d0>,\n",
       "  <matplotlib.text.Text at 0x10c35a810>],\n",
       " [<matplotlib.text.Text at 0x10c34f990>,\n",
       "  <matplotlib.text.Text at 0x10c35ac90>])"
      ]
     },
     "execution_count": 17,
     "metadata": {},
     "output_type": "execute_result"
    },
    {
     "data": {
      "image/png": "[encoded data removed]",
      "text/plain": [
       "<matplotlib.figure.Figure at 0x10c21ad50>"
      ]
     },
     "metadata": {},
     "output_type": "display_data"
    }
   ],
   "source": [
    "plt.axis('equal')\n",
    "plt.pie([len(df_ones_keep), len(df_zeros)], labels=[\"safe\", \"risky\"],\n",
    "        colors=['gold', 'lightcoral'], autopct='%1.1f%%', shadow=True,\n",
    "        startangle=90, explode = (0, 0.1))"
   ]
  },
  {
   "cell_type": "code",
   "execution_count": 18,
   "metadata": {
    "collapsed": false
   },
   "outputs": [
    {
     "data": {
      "text/html": [
       "<div>\n",
       "<table border=\"1\" class=\"dataframe\">\n",
       "  <thead>\n",
       "    <tr style=\"text-align: right;\">\n",
       "      <th></th>\n",
       "      <th>ID</th>\n",
       "      <th>target</th>\n",
       "      <th>v1</th>\n",
       "      <th>v2</th>\n",
       "      <th>v3</th>\n",
       "      <th>v4</th>\n",
       "      <th>v5</th>\n",
       "      <th>v6</th>\n",
       "      <th>v7</th>\n",
       "      <th>v8</th>\n",
       "      <th>...</th>\n",
       "      <th>v122</th>\n",
       "      <th>v123</th>\n",
       "      <th>v124</th>\n",
       "      <th>v125</th>\n",
       "      <th>v126</th>\n",
       "      <th>v127</th>\n",
       "      <th>v128</th>\n",
       "      <th>v129</th>\n",
       "      <th>v130</th>\n",
       "      <th>v131</th>\n",
       "    </tr>\n",
       "  </thead>\n",
       "  <tbody>\n",
       "    <tr>\n",
       "      <th>80106</th>\n",
       "      <td>159983</td>\n",
       "      <td>0</td>\n",
       "      <td>NaN</td>\n",
       "      <td>NaN</td>\n",
       "      <td>C</td>\n",
       "      <td>NaN</td>\n",
       "      <td>NaN</td>\n",
       "      <td>NaN</td>\n",
       "      <td>NaN</td>\n",
       "      <td>NaN</td>\n",
       "      <td>...</td>\n",
       "      <td>NaN</td>\n",
       "      <td>NaN</td>\n",
       "      <td>NaN</td>\n",
       "      <td>AK</td>\n",
       "      <td>NaN</td>\n",
       "      <td>NaN</td>\n",
       "      <td>NaN</td>\n",
       "      <td>0</td>\n",
       "      <td>NaN</td>\n",
       "      <td>NaN</td>\n",
       "    </tr>\n",
       "    <tr>\n",
       "      <th>85173</th>\n",
       "      <td>170083</td>\n",
       "      <td>1</td>\n",
       "      <td>NaN</td>\n",
       "      <td>NaN</td>\n",
       "      <td>C</td>\n",
       "      <td>NaN</td>\n",
       "      <td>NaN</td>\n",
       "      <td>NaN</td>\n",
       "      <td>NaN</td>\n",
       "      <td>NaN</td>\n",
       "      <td>...</td>\n",
       "      <td>NaN</td>\n",
       "      <td>NaN</td>\n",
       "      <td>NaN</td>\n",
       "      <td>BD</td>\n",
       "      <td>NaN</td>\n",
       "      <td>NaN</td>\n",
       "      <td>NaN</td>\n",
       "      <td>0</td>\n",
       "      <td>NaN</td>\n",
       "      <td>NaN</td>\n",
       "    </tr>\n",
       "    <tr>\n",
       "      <th>53398</th>\n",
       "      <td>106729</td>\n",
       "      <td>1</td>\n",
       "      <td>0.522894</td>\n",
       "      <td>6.551627</td>\n",
       "      <td>NaN</td>\n",
       "      <td>6.141825</td>\n",
       "      <td>10.209255</td>\n",
       "      <td>2.634257</td>\n",
       "      <td>2.719050</td>\n",
       "      <td>0.862119</td>\n",
       "      <td>...</td>\n",
       "      <td>6.633663</td>\n",
       "      <td>1.844494</td>\n",
       "      <td>2.505030e-01</td>\n",
       "      <td>AK</td>\n",
       "      <td>2.204729</td>\n",
       "      <td>2.734595</td>\n",
       "      <td>3.090974</td>\n",
       "      <td>0</td>\n",
       "      <td>0.923077</td>\n",
       "      <td>0.900900</td>\n",
       "    </tr>\n",
       "    <tr>\n",
       "      <th>66390</th>\n",
       "      <td>132477</td>\n",
       "      <td>0</td>\n",
       "      <td>2.029251</td>\n",
       "      <td>11.593458</td>\n",
       "      <td>C</td>\n",
       "      <td>5.066750</td>\n",
       "      <td>8.957633</td>\n",
       "      <td>2.266911</td>\n",
       "      <td>3.046922</td>\n",
       "      <td>0.065173</td>\n",
       "      <td>...</td>\n",
       "      <td>5.343511</td>\n",
       "      <td>1.801544</td>\n",
       "      <td>8.257478e-02</td>\n",
       "      <td>BW</td>\n",
       "      <td>1.522677</td>\n",
       "      <td>2.239488</td>\n",
       "      <td>2.716741</td>\n",
       "      <td>0</td>\n",
       "      <td>0.768001</td>\n",
       "      <td>3.750000</td>\n",
       "    </tr>\n",
       "    <tr>\n",
       "      <th>3886</th>\n",
       "      <td>7738</td>\n",
       "      <td>1</td>\n",
       "      <td>2.032036</td>\n",
       "      <td>7.153166</td>\n",
       "      <td>C</td>\n",
       "      <td>3.789430</td>\n",
       "      <td>6.570276</td>\n",
       "      <td>1.812357</td>\n",
       "      <td>2.132723</td>\n",
       "      <td>0.091289</td>\n",
       "      <td>...</td>\n",
       "      <td>8.396947</td>\n",
       "      <td>3.527629</td>\n",
       "      <td>5.767355e-07</td>\n",
       "      <td>BE</td>\n",
       "      <td>1.203240</td>\n",
       "      <td>3.398169</td>\n",
       "      <td>1.253247</td>\n",
       "      <td>1</td>\n",
       "      <td>2.163089</td>\n",
       "      <td>1.904761</td>\n",
       "    </tr>\n",
       "  </tbody>\n",
       "</table>\n",
       "<p>5 rows × 133 columns</p>\n",
       "</div>"
      ],
      "text/plain": [
       "           ID  target        v1         v2   v3        v4         v5  \\\n",
       "80106  159983       0       NaN        NaN    C       NaN        NaN   \n",
       "85173  170083       1       NaN        NaN    C       NaN        NaN   \n",
       "53398  106729       1  0.522894   6.551627  NaN  6.141825  10.209255   \n",
       "66390  132477       0  2.029251  11.593458    C  5.066750   8.957633   \n",
       "3886     7738       1  2.032036   7.153166    C  3.789430   6.570276   \n",
       "\n",
       "             v6        v7        v8    ...         v122      v123  \\\n",
       "80106       NaN       NaN       NaN    ...          NaN       NaN   \n",
       "85173       NaN       NaN       NaN    ...          NaN       NaN   \n",
       "53398  2.634257  2.719050  0.862119    ...     6.633663  1.844494   \n",
       "66390  2.266911  3.046922  0.065173    ...     5.343511  1.801544   \n",
       "3886   1.812357  2.132723  0.091289    ...     8.396947  3.527629   \n",
       "\n",
       "               v124  v125      v126      v127      v128  v129      v130  \\\n",
       "80106           NaN    AK       NaN       NaN       NaN     0       NaN   \n",
       "85173           NaN    BD       NaN       NaN       NaN     0       NaN   \n",
       "53398  2.505030e-01    AK  2.204729  2.734595  3.090974     0  0.923077   \n",
       "66390  8.257478e-02    BW  1.522677  2.239488  2.716741     0  0.768001   \n",
       "3886   5.767355e-07    BE  1.203240  3.398169  1.253247     1  2.163089   \n",
       "\n",
       "           v131  \n",
       "80106       NaN  \n",
       "85173       NaN  \n",
       "53398  0.900900  \n",
       "66390  3.750000  \n",
       "3886   1.904761  \n",
       "\n",
       "[5 rows x 133 columns]"
      ]
     },
     "execution_count": 18,
     "metadata": {},
     "output_type": "execute_result"
    }
   ],
   "source": [
    "claims.head(5)"
   ]
  },
  {
   "cell_type": "code",
   "execution_count": null,
   "metadata": {
    "collapsed": true
   },
   "outputs": [],
   "source": []
  },
  {
   "cell_type": "code",
   "execution_count": 19,
   "metadata": {
    "collapsed": false
   },
   "outputs": [],
   "source": [
    "float_claims = claims[float_columns + [\"ID\", \"target\"]]"
   ]
  },
  {
   "cell_type": "code",
   "execution_count": 36,
   "metadata": {
    "collapsed": false
   },
   "outputs": [
    {
     "name": "stdout",
     "output_type": "stream",
     "text": [
      " Here are the 3 col with the more missing values ['v119', 'v85', 'v102']\n"
     ]
    }
   ],
   "source": [
    "col_dead =  float_claims.isnull().sum()\n",
    "col_dead.sort()\n",
    "print \"Here are the 3 col with the more missing values\",col_dead[-3:].index.tolist()"
   ]
  },
  {
   "cell_type": "code",
   "execution_count": 20,
   "metadata": {
    "collapsed": false
   },
   "outputs": [],
   "source": [
    "def ramdom_fill(column_items):\n",
    "    \"\"\"\n",
    "    \"\"\"\n",
    "    final_col = []\n",
    "    real = column_items[1].copy()\n",
    "    real = real.dropna().tolist()\n",
    "    \n",
    "    #description = column_items[1].describe()\n",
    "   \n",
    "    #std = description[\"std\"]\n",
    "    #mean = description[\"mean\"]\n",
    "    \n",
    "    for i, element in enumerate(column_items[1]):\n",
    "        if math.isnan(element):\n",
    "            r = random.randint(0, len(real)-1)\n",
    "            final_col.append(0)\n",
    "        else:\n",
    "            final_col.append(element)\n",
    "\n",
    "    return pd.Series(final_col, index=column_items[1].index.tolist())    "
   ]
  },
  {
   "cell_type": "code",
   "execution_count": 21,
   "metadata": {
    "collapsed": true
   },
   "outputs": [],
   "source": [
    "### Start cleaning"
   ]
  },
  {
   "cell_type": "code",
   "execution_count": 22,
   "metadata": {
    "collapsed": false
   },
   "outputs": [],
   "source": [
    "for item in float_claims.iteritems():\n",
    "    float_claims[item[0]] = float_claims[item[0]].fillna(item[1].mean())"
   ]
  },
  {
   "cell_type": "code",
   "execution_count": 23,
   "metadata": {
    "collapsed": false
   },
   "outputs": [
    {
     "data": {
      "text/html": [
       "<div>\n",
       "<table border=\"1\" class=\"dataframe\">\n",
       "  <thead>\n",
       "    <tr style=\"text-align: right;\">\n",
       "      <th></th>\n",
       "      <th>v1</th>\n",
       "      <th>v2</th>\n",
       "      <th>v4</th>\n",
       "      <th>v5</th>\n",
       "      <th>v6</th>\n",
       "      <th>v7</th>\n",
       "      <th>v8</th>\n",
       "      <th>v9</th>\n",
       "      <th>v10</th>\n",
       "      <th>v11</th>\n",
       "      <th>...</th>\n",
       "      <th>v122</th>\n",
       "      <th>v123</th>\n",
       "      <th>v124</th>\n",
       "      <th>v126</th>\n",
       "      <th>v127</th>\n",
       "      <th>v128</th>\n",
       "      <th>v130</th>\n",
       "      <th>v131</th>\n",
       "      <th>ID</th>\n",
       "      <th>target</th>\n",
       "    </tr>\n",
       "  </thead>\n",
       "  <tbody>\n",
       "    <tr>\n",
       "      <th>80106</th>\n",
       "      <td>1.633798</td>\n",
       "      <td>7.412986</td>\n",
       "      <td>4.106904</td>\n",
       "      <td>8.720868</td>\n",
       "      <td>2.425609</td>\n",
       "      <td>2.469036</td>\n",
       "      <td>1.526655</td>\n",
       "      <td>9.036545</td>\n",
       "      <td>1.050327</td>\n",
       "      <td>15.446440</td>\n",
       "      <td>...</td>\n",
       "      <td>6.815795</td>\n",
       "      <td>3.631367</td>\n",
       "      <td>9.345157e-01</td>\n",
       "      <td>1.672753</td>\n",
       "      <td>3.224474</td>\n",
       "      <td>2.015928</td>\n",
       "      <td>1.957429</td>\n",
       "      <td>1.718859</td>\n",
       "      <td>159983</td>\n",
       "      <td>0</td>\n",
       "    </tr>\n",
       "    <tr>\n",
       "      <th>85173</th>\n",
       "      <td>1.633798</td>\n",
       "      <td>7.412986</td>\n",
       "      <td>4.106904</td>\n",
       "      <td>8.720868</td>\n",
       "      <td>2.425609</td>\n",
       "      <td>2.469036</td>\n",
       "      <td>1.526655</td>\n",
       "      <td>9.036545</td>\n",
       "      <td>1.969366</td>\n",
       "      <td>15.446440</td>\n",
       "      <td>...</td>\n",
       "      <td>6.815795</td>\n",
       "      <td>3.631367</td>\n",
       "      <td>9.345157e-01</td>\n",
       "      <td>1.672753</td>\n",
       "      <td>3.224474</td>\n",
       "      <td>2.015928</td>\n",
       "      <td>1.957429</td>\n",
       "      <td>1.718859</td>\n",
       "      <td>170083</td>\n",
       "      <td>1</td>\n",
       "    </tr>\n",
       "    <tr>\n",
       "      <th>53398</th>\n",
       "      <td>0.522894</td>\n",
       "      <td>6.551627</td>\n",
       "      <td>6.141825</td>\n",
       "      <td>10.209255</td>\n",
       "      <td>2.634257</td>\n",
       "      <td>2.719050</td>\n",
       "      <td>0.862119</td>\n",
       "      <td>8.712871</td>\n",
       "      <td>6.564552</td>\n",
       "      <td>15.454546</td>\n",
       "      <td>...</td>\n",
       "      <td>6.633663</td>\n",
       "      <td>1.844494</td>\n",
       "      <td>2.505030e-01</td>\n",
       "      <td>2.204729</td>\n",
       "      <td>2.734595</td>\n",
       "      <td>3.090974</td>\n",
       "      <td>0.923077</td>\n",
       "      <td>0.900900</td>\n",
       "      <td>106729</td>\n",
       "      <td>1</td>\n",
       "    </tr>\n",
       "    <tr>\n",
       "      <th>66390</th>\n",
       "      <td>2.029251</td>\n",
       "      <td>11.593458</td>\n",
       "      <td>5.066750</td>\n",
       "      <td>8.957633</td>\n",
       "      <td>2.266911</td>\n",
       "      <td>3.046922</td>\n",
       "      <td>0.065173</td>\n",
       "      <td>7.022901</td>\n",
       "      <td>2.078774</td>\n",
       "      <td>15.979112</td>\n",
       "      <td>...</td>\n",
       "      <td>5.343511</td>\n",
       "      <td>1.801544</td>\n",
       "      <td>8.257478e-02</td>\n",
       "      <td>1.522677</td>\n",
       "      <td>2.239488</td>\n",
       "      <td>2.716741</td>\n",
       "      <td>0.768001</td>\n",
       "      <td>3.750000</td>\n",
       "      <td>132477</td>\n",
       "      <td>0</td>\n",
       "    </tr>\n",
       "    <tr>\n",
       "      <th>3886</th>\n",
       "      <td>2.032036</td>\n",
       "      <td>7.153166</td>\n",
       "      <td>3.789430</td>\n",
       "      <td>6.570276</td>\n",
       "      <td>1.812357</td>\n",
       "      <td>2.132723</td>\n",
       "      <td>0.091289</td>\n",
       "      <td>10.687022</td>\n",
       "      <td>3.916850</td>\n",
       "      <td>15.297619</td>\n",
       "      <td>...</td>\n",
       "      <td>8.396947</td>\n",
       "      <td>3.527629</td>\n",
       "      <td>5.767355e-07</td>\n",
       "      <td>1.203240</td>\n",
       "      <td>3.398169</td>\n",
       "      <td>1.253247</td>\n",
       "      <td>2.163089</td>\n",
       "      <td>1.904761</td>\n",
       "      <td>7738</td>\n",
       "      <td>1</td>\n",
       "    </tr>\n",
       "  </tbody>\n",
       "</table>\n",
       "<p>5 rows × 110 columns</p>\n",
       "</div>"
      ],
      "text/plain": [
       "             v1         v2        v4         v5        v6        v7        v8  \\\n",
       "80106  1.633798   7.412986  4.106904   8.720868  2.425609  2.469036  1.526655   \n",
       "85173  1.633798   7.412986  4.106904   8.720868  2.425609  2.469036  1.526655   \n",
       "53398  0.522894   6.551627  6.141825  10.209255  2.634257  2.719050  0.862119   \n",
       "66390  2.029251  11.593458  5.066750   8.957633  2.266911  3.046922  0.065173   \n",
       "3886   2.032036   7.153166  3.789430   6.570276  1.812357  2.132723  0.091289   \n",
       "\n",
       "              v9       v10        v11   ...        v122      v123  \\\n",
       "80106   9.036545  1.050327  15.446440   ...    6.815795  3.631367   \n",
       "85173   9.036545  1.969366  15.446440   ...    6.815795  3.631367   \n",
       "53398   8.712871  6.564552  15.454546   ...    6.633663  1.844494   \n",
       "66390   7.022901  2.078774  15.979112   ...    5.343511  1.801544   \n",
       "3886   10.687022  3.916850  15.297619   ...    8.396947  3.527629   \n",
       "\n",
       "               v124      v126      v127      v128      v130      v131      ID  \\\n",
       "80106  9.345157e-01  1.672753  3.224474  2.015928  1.957429  1.718859  159983   \n",
       "85173  9.345157e-01  1.672753  3.224474  2.015928  1.957429  1.718859  170083   \n",
       "53398  2.505030e-01  2.204729  2.734595  3.090974  0.923077  0.900900  106729   \n",
       "66390  8.257478e-02  1.522677  2.239488  2.716741  0.768001  3.750000  132477   \n",
       "3886   5.767355e-07  1.203240  3.398169  1.253247  2.163089  1.904761    7738   \n",
       "\n",
       "       target  \n",
       "80106       0  \n",
       "85173       1  \n",
       "53398       1  \n",
       "66390       0  \n",
       "3886        1  \n",
       "\n",
       "[5 rows x 110 columns]"
      ]
     },
     "execution_count": 23,
     "metadata": {},
     "output_type": "execute_result"
    }
   ],
   "source": [
    "float_claims.head(5)"
   ]
  },
  {
   "cell_type": "code",
   "execution_count": 24,
   "metadata": {
    "collapsed": false
   },
   "outputs": [
    {
     "name": "stdout",
     "output_type": "stream",
     "text": [
      "<class 'pandas.core.frame.DataFrame'>\n",
      "Int64Index: 55147 entries, 80106 to 40352\n",
      "Columns: 110 entries, v1 to target\n",
      "dtypes: float64(108), int64(2)\n",
      "memory usage: 46.7 MB\n"
     ]
    }
   ],
   "source": [
    "float_claims.info()"
   ]
  },
  {
   "cell_type": "code",
   "execution_count": 25,
   "metadata": {
    "collapsed": true
   },
   "outputs": [],
   "source": [
    "train_float_claim, test_float_claim = train_test_split(float_claims, \n",
    "                                                       test_size=0.2, \n",
    "                                                       random_state=SEED_STATE) "
   ]
  },
  {
   "cell_type": "code",
   "execution_count": 26,
   "metadata": {
    "collapsed": false
   },
   "outputs": [],
   "source": [
    "Boost = GradientBoostingClassifier(n_estimators=10,\n",
    "                                   max_depth=50, \n",
    "                                   random_state=SEED_STATE)"
   ]
  },
  {
   "cell_type": "code",
   "execution_count": 27,
   "metadata": {
    "collapsed": false
   },
   "outputs": [
    {
     "data": {
      "text/plain": [
       "GradientBoostingClassifier(init=None, learning_rate=0.1, loss='deviance',\n",
       "              max_depth=50, max_features=None, max_leaf_nodes=None,\n",
       "              min_samples_leaf=1, min_samples_split=2,\n",
       "              min_weight_fraction_leaf=0.0, n_estimators=10,\n",
       "              presort='auto', random_state=1, subsample=1.0, verbose=0,\n",
       "              warm_start=False)"
      ]
     },
     "execution_count": 27,
     "metadata": {},
     "output_type": "execute_result"
    }
   ],
   "source": [
    "Boost.fit(train_float_claim.drop([\"ID\", \"target\"], axis=1) , train_float_claim[\"target\"])"
   ]
  },
  {
   "cell_type": "code",
   "execution_count": 28,
   "metadata": {
    "collapsed": false
   },
   "outputs": [],
   "source": [
    "test_x = test_float_claim.drop([\"ID\", \"target\"], axis=1)\n",
    "test_y = test_float_claim[\"target\"]"
   ]
  },
  {
   "cell_type": "code",
   "execution_count": 29,
   "metadata": {
    "collapsed": false
   },
   "outputs": [],
   "source": [
    "#Boost.score(test_x, test_y)"
   ]
  },
  {
   "cell_type": "code",
   "execution_count": 30,
   "metadata": {
    "collapsed": false
   },
   "outputs": [
    {
     "name": "stdout",
     "output_type": "stream",
     "text": [
      "Help on method predict_proba in module sklearn.ensemble.gradient_boosting:\n",
      "\n",
      "predict_proba(self, X) method of sklearn.ensemble.gradient_boosting.GradientBoostingClassifier instance\n",
      "    Predict class probabilities for X.\n",
      "    \n",
      "    Parameters\n",
      "    ----------\n",
      "    X : array-like of shape = [n_samples, n_features]\n",
      "        The input samples.\n",
      "    \n",
      "    Raises\n",
      "    ------\n",
      "    AttributeError\n",
      "        If the ``loss`` does not support probabilities.\n",
      "    \n",
      "    Returns\n",
      "    -------\n",
      "    p : array of shape = [n_samples]\n",
      "        The class probabilities of the input samples. The order of the\n",
      "        classes corresponds to that in the attribute `classes_`.\n",
      "\n"
     ]
    }
   ],
   "source": [
    "help(Boost.predict_proba)"
   ]
  },
  {
   "cell_type": "code",
   "execution_count": 31,
   "metadata": {
    "collapsed": false
   },
   "outputs": [],
   "source": [
    "result = test_float_claim[[\"ID\", \"target\"]]\n",
    "result[\"PredictedProb\"] = Boost.predict_proba(test_x)[:,1].tolist()"
   ]
  },
  {
   "cell_type": "code",
   "execution_count": 51,
   "metadata": {
    "collapsed": false
   },
   "outputs": [
    {
     "data": {
      "text/html": [
       "<div>\n",
       "<table border=\"1\" class=\"dataframe\">\n",
       "  <thead>\n",
       "    <tr style=\"text-align: right;\">\n",
       "      <th></th>\n",
       "      <th>ID</th>\n",
       "      <th>target</th>\n",
       "      <th>PredictedProb</th>\n",
       "    </tr>\n",
       "  </thead>\n",
       "  <tbody>\n",
       "    <tr>\n",
       "      <th>61234</th>\n",
       "      <td>122251</td>\n",
       "      <td>0</td>\n",
       "      <td>0.638849</td>\n",
       "    </tr>\n",
       "    <tr>\n",
       "      <th>49687</th>\n",
       "      <td>99252</td>\n",
       "      <td>1</td>\n",
       "      <td>0.822651</td>\n",
       "    </tr>\n",
       "    <tr>\n",
       "      <th>102089</th>\n",
       "      <td>204055</td>\n",
       "      <td>1</td>\n",
       "      <td>0.498604</td>\n",
       "    </tr>\n",
       "    <tr>\n",
       "      <th>99167</th>\n",
       "      <td>198222</td>\n",
       "      <td>0</td>\n",
       "      <td>0.433890</td>\n",
       "    </tr>\n",
       "  </tbody>\n",
       "</table>\n",
       "</div>"
      ],
      "text/plain": [
       "            ID  target  PredictedProb\n",
       "61234   122251       0       0.638849\n",
       "49687    99252       1       0.822651\n",
       "102089  204055       1       0.498604\n",
       "99167   198222       0       0.433890"
      ]
     },
     "execution_count": 51,
     "metadata": {},
     "output_type": "execute_result"
    }
   ],
   "source": [
    "result.head(4)"
   ]
  },
  {
   "cell_type": "code",
   "execution_count": 33,
   "metadata": {
    "collapsed": false
   },
   "outputs": [
    {
     "data": {
      "text/plain": [
       "-0.49755213055303715"
      ]
     },
     "execution_count": 33,
     "metadata": {},
     "output_type": "execute_result"
    }
   ],
   "source": [
    "kaggleLogLoss(result[\"target\"], result[\"PredictedProb\"])"
   ]
  },
  {
   "cell_type": "code",
   "execution_count": null,
   "metadata": {
    "collapsed": true
   },
   "outputs": [],
   "source": []
  },
  {
   "cell_type": "code",
   "execution_count": null,
   "metadata": {
    "collapsed": true
   },
   "outputs": [],
   "source": []
  },
  {
   "cell_type": "code",
   "execution_count": 34,
   "metadata": {
    "collapsed": true
   },
   "outputs": [],
   "source": [
    "submition = pd.read_csv('test.csv')"
   ]
  },
  {
   "cell_type": "code",
   "execution_count": 35,
   "metadata": {
    "collapsed": false
   },
   "outputs": [
    {
     "data": {
      "text/html": [
       "<div>\n",
       "<table border=\"1\" class=\"dataframe\">\n",
       "  <thead>\n",
       "    <tr style=\"text-align: right;\">\n",
       "      <th></th>\n",
       "      <th>ID</th>\n",
       "      <th>v1</th>\n",
       "      <th>v2</th>\n",
       "      <th>v3</th>\n",
       "      <th>v4</th>\n",
       "      <th>v5</th>\n",
       "      <th>v6</th>\n",
       "      <th>v7</th>\n",
       "      <th>v8</th>\n",
       "      <th>v9</th>\n",
       "      <th>...</th>\n",
       "      <th>v122</th>\n",
       "      <th>v123</th>\n",
       "      <th>v124</th>\n",
       "      <th>v125</th>\n",
       "      <th>v126</th>\n",
       "      <th>v127</th>\n",
       "      <th>v128</th>\n",
       "      <th>v129</th>\n",
       "      <th>v130</th>\n",
       "      <th>v131</th>\n",
       "    </tr>\n",
       "  </thead>\n",
       "  <tbody>\n",
       "    <tr>\n",
       "      <th>0</th>\n",
       "      <td>0</td>\n",
       "      <td>1.375465e+00</td>\n",
       "      <td>11.361141</td>\n",
       "      <td>C</td>\n",
       "      <td>4.200778</td>\n",
       "      <td>6.57700</td>\n",
       "      <td>2.081784</td>\n",
       "      <td>1.784386</td>\n",
       "      <td>0.011094</td>\n",
       "      <td>9.523810</td>\n",
       "      <td>...</td>\n",
       "      <td>7.619048</td>\n",
       "      <td>1.815241</td>\n",
       "      <td>1.112270e-07</td>\n",
       "      <td>AF</td>\n",
       "      <td>1.292368</td>\n",
       "      <td>3.903345</td>\n",
       "      <td>1.485925</td>\n",
       "      <td>0</td>\n",
       "      <td>2.333334</td>\n",
       "      <td>1.428572e+00</td>\n",
       "    </tr>\n",
       "    <tr>\n",
       "      <th>1</th>\n",
       "      <td>1</td>\n",
       "      <td>NaN</td>\n",
       "      <td>NaN</td>\n",
       "      <td>C</td>\n",
       "      <td>NaN</td>\n",
       "      <td>NaN</td>\n",
       "      <td>NaN</td>\n",
       "      <td>NaN</td>\n",
       "      <td>NaN</td>\n",
       "      <td>NaN</td>\n",
       "      <td>...</td>\n",
       "      <td>NaN</td>\n",
       "      <td>NaN</td>\n",
       "      <td>NaN</td>\n",
       "      <td>I</td>\n",
       "      <td>NaN</td>\n",
       "      <td>NaN</td>\n",
       "      <td>NaN</td>\n",
       "      <td>0</td>\n",
       "      <td>NaN</td>\n",
       "      <td>NaN</td>\n",
       "    </tr>\n",
       "    <tr>\n",
       "      <th>2</th>\n",
       "      <td>2</td>\n",
       "      <td>-4.903407e-07</td>\n",
       "      <td>8.201529</td>\n",
       "      <td>C</td>\n",
       "      <td>4.544371</td>\n",
       "      <td>6.55010</td>\n",
       "      <td>1.558442</td>\n",
       "      <td>2.467532</td>\n",
       "      <td>0.007164</td>\n",
       "      <td>7.142858</td>\n",
       "      <td>...</td>\n",
       "      <td>5.714286</td>\n",
       "      <td>1.970928</td>\n",
       "      <td>1.412265e-02</td>\n",
       "      <td>AV</td>\n",
       "      <td>1.128724</td>\n",
       "      <td>5.844156</td>\n",
       "      <td>1.475892</td>\n",
       "      <td>0</td>\n",
       "      <td>1.263157</td>\n",
       "      <td>-6.380022e-07</td>\n",
       "    </tr>\n",
       "    <tr>\n",
       "      <th>3</th>\n",
       "      <td>7</td>\n",
       "      <td>2.661870e+00</td>\n",
       "      <td>3.041241</td>\n",
       "      <td>C</td>\n",
       "      <td>1.657216</td>\n",
       "      <td>9.77308</td>\n",
       "      <td>2.078337</td>\n",
       "      <td>1.430855</td>\n",
       "      <td>1.252157</td>\n",
       "      <td>7.959596</td>\n",
       "      <td>...</td>\n",
       "      <td>4.404040</td>\n",
       "      <td>8.163614</td>\n",
       "      <td>1.100329e+00</td>\n",
       "      <td>B</td>\n",
       "      <td>1.988688</td>\n",
       "      <td>1.558753</td>\n",
       "      <td>2.448814</td>\n",
       "      <td>0</td>\n",
       "      <td>5.385474</td>\n",
       "      <td>1.493777e+00</td>\n",
       "    </tr>\n",
       "    <tr>\n",
       "      <th>4</th>\n",
       "      <td>10</td>\n",
       "      <td>1.252822e+00</td>\n",
       "      <td>11.283352</td>\n",
       "      <td>C</td>\n",
       "      <td>4.638388</td>\n",
       "      <td>8.52051</td>\n",
       "      <td>2.302484</td>\n",
       "      <td>3.510159</td>\n",
       "      <td>0.074263</td>\n",
       "      <td>7.612904</td>\n",
       "      <td>...</td>\n",
       "      <td>6.580644</td>\n",
       "      <td>1.325654</td>\n",
       "      <td>2.584588e-01</td>\n",
       "      <td>A</td>\n",
       "      <td>1.863796</td>\n",
       "      <td>2.666478</td>\n",
       "      <td>2.374275</td>\n",
       "      <td>0</td>\n",
       "      <td>0.681672</td>\n",
       "      <td>2.264151e+00</td>\n",
       "    </tr>\n",
       "  </tbody>\n",
       "</table>\n",
       "<p>5 rows × 132 columns</p>\n",
       "</div>"
      ],
      "text/plain": [
       "   ID            v1         v2 v3        v4       v5        v6        v7  \\\n",
       "0   0  1.375465e+00  11.361141  C  4.200778  6.57700  2.081784  1.784386   \n",
       "1   1           NaN        NaN  C       NaN      NaN       NaN       NaN   \n",
       "2   2 -4.903407e-07   8.201529  C  4.544371  6.55010  1.558442  2.467532   \n",
       "3   7  2.661870e+00   3.041241  C  1.657216  9.77308  2.078337  1.430855   \n",
       "4  10  1.252822e+00  11.283352  C  4.638388  8.52051  2.302484  3.510159   \n",
       "\n",
       "         v8        v9      ...           v122      v123          v124  v125  \\\n",
       "0  0.011094  9.523810      ...       7.619048  1.815241  1.112270e-07    AF   \n",
       "1       NaN       NaN      ...            NaN       NaN           NaN     I   \n",
       "2  0.007164  7.142858      ...       5.714286  1.970928  1.412265e-02    AV   \n",
       "3  1.252157  7.959596      ...       4.404040  8.163614  1.100329e+00     B   \n",
       "4  0.074263  7.612904      ...       6.580644  1.325654  2.584588e-01     A   \n",
       "\n",
       "       v126      v127      v128  v129      v130          v131  \n",
       "0  1.292368  3.903345  1.485925     0  2.333334  1.428572e+00  \n",
       "1       NaN       NaN       NaN     0       NaN           NaN  \n",
       "2  1.128724  5.844156  1.475892     0  1.263157 -6.380022e-07  \n",
       "3  1.988688  1.558753  2.448814     0  5.385474  1.493777e+00  \n",
       "4  1.863796  2.666478  2.374275     0  0.681672  2.264151e+00  \n",
       "\n",
       "[5 rows x 132 columns]"
      ]
     },
     "execution_count": 35,
     "metadata": {},
     "output_type": "execute_result"
    }
   ],
   "source": [
    "submition.head(5)"
   ]
  },
  {
   "cell_type": "code",
   "execution_count": 46,
   "metadata": {
    "collapsed": true
   },
   "outputs": [],
   "source": []
  },
  {
   "cell_type": "code",
   "execution_count": 48,
   "metadata": {
    "collapsed": false
   },
   "outputs": [],
   "source": [
    "\n"
   ]
  },
  {
   "cell_type": "code",
   "execution_count": null,
   "metadata": {
    "collapsed": true
   },
   "outputs": [],
   "source": [
    "\n",
    "cv_set = StratifiedKFold(float_claims.index.tolist(), KFOLDS_NUM, random_state=SEED_STATE)\n",
    "\n",
    "verbose = False \n",
    "cross_train_error = []\n",
    "cross_valid_error = []\n",
    "\n",
    "estimators = 20\n",
    "# ct -> cross_train\n",
    "# cv -> cross_valid\n",
    "\n",
    "iterration = 0\n",
    "cv_iterration = 0\n",
    "\n",
    "for param in range(0,10,1):\n",
    "    if(verbose): print \"========= Running Cross Validation on estimators: \",estimators\n",
    "    cv_iterration = train_score = valid_score = 0\n",
    "    iterration = iterration + 1\n",
    "    \n",
    "    for ct, cv in cv_set:\n",
    "        cv_iterration = cv_iterration + 1\n",
    "\n",
    "    \n",
    "        if(verbose): print \"::::::::: Running Cross Validation,\" + \\\n",
    "        \"iteration n°%i, use value: %i :::::::::\"%(cv_iterration, param)\n",
    "    \n",
    "        cross_train_set = float_claims[float_claims.index.isin(ct)]\n",
    "        cross_valid_set = float_claims[float_claims.index.isin(cv)]\n",
    "    \n",
    "        #cross_forest = RandomForestClassifier(n_estimators=estimators,\n",
    "        #                                      max_depth=10,\n",
    "        #                                      min_samples_split=50,\n",
    "        #                                      random_state=1)\n",
    "    \n",
    "        #cross_forest.fit(cross_train_set.drop(target, axis=1), cross_train_set[target])\n",
    "    \n",
    "        train_score = train_score + cross_forest.score(\n",
    "            cross_train_set.drop(target, axis=1), \n",
    "            cross_train_set[target])\n",
    "        \n",
    "        valid_score = valid_score + cross_forest.score(\n",
    "            cross_valid_set.drop(target, axis=1), \n",
    "            cross_valid_set[target])\n",
    "    \n",
    "    \n",
    "    train_error = 1 - (train_score / 10)\n",
    "    test_error = 1 - (valid_score / 10)\n",
    "    \n",
    "    print \"Iterration n° %i => Estimator: %i Sum of errors\"%(cv_iterration, estimators) + \\\n",
    "    \" train(%.3f) , valid(%.3f) \"%(train_error, test_error)\n",
    "    cross_train_error.append(train_error)#/cross_vadlidation_set.n_folds)\n",
    "    cross_valid_error.append(test_error)#/cross_vadlidation_set.n_folds)\n",
    "\n",
    "minerr = min(cross_valid_error)\n",
    "minerr_idx = cross_valid_error.index(minerr)\n",
    "print \"========= End of the Crossvalidation over estimators\"\n",
    "print \"========= The minimum vaidation error: (idx: %i, err: %.3f)\"%(minerr_idx, minerr)"
   ]
  }
 ],
 "metadata": {
  "kernelspec": {
   "display_name": "Python 2",
   "language": "python",
   "name": "python2"
  },
  "language_info": {
   "codemirror_mode": {
    "name": "ipython",
    "version": 2
   },
   "file_extension": ".py",
   "mimetype": "text/x-python",
   "name": "python",
   "nbconvert_exporter": "python",
   "pygments_lexer": "ipython2",
   "version": "2.7.11"
  }
 },
 "nbformat": 4,
 "nbformat_minor": 0
}
