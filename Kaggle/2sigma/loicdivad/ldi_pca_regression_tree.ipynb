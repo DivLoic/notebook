{
 "cells": [
  {
   "cell_type": "code",
   "execution_count": 2,
   "metadata": {
    "collapsed": true
   },
   "outputs": [],
   "source": [
    "# conding: utf-8"
   ]
  },
  {
   "cell_type": "raw",
   "metadata": {},
   "source": [
    "\"\"\"\n",
    "    author: Loïc M. DIVAD\n",
    "    date: 2016-12-04\n",
    "    see also: https://www.kaggle.com/c/two-sigma-financial-modeling\n",
    "\"\"\""
   ]
  },
  {
   "cell_type": "markdown",
   "metadata": {},
   "source": [
    "## imports"
   ]
  },
  {
   "cell_type": "code",
   "execution_count": 3,
   "metadata": {
    "collapsed": true
   },
   "outputs": [],
   "source": [
    "import math\n",
    "import numpy as np\n",
    "import pandas as pd\n",
    "import seaborn as sbn\n",
    "import matplotlib.pyplot as plt"
   ]
  },
  {
   "cell_type": "code",
   "execution_count": 4,
   "metadata": {
    "collapsed": true
   },
   "outputs": [],
   "source": [
    "from sklearn.decomposition import PCA\n",
    "from sklearn.tree import DecisionTreeRegressor\n",
    "from sklearn.cross_validation import train_test_split"
   ]
  },
  {
   "cell_type": "markdown",
   "metadata": {},
   "source": [
    "## functions"
   ]
  },
  {
   "cell_type": "code",
   "execution_count": 5,
   "metadata": {
    "collapsed": true
   },
   "outputs": [],
   "source": [
    "def sign(a):\n",
    "    return -1 if a < 0 else 1\n",
    "\n",
    "def r_score(model, x, y):\n",
    "    \"\"\"\n",
    "        model: model fitted\n",
    "        x: target labels\n",
    "        y: target values\n",
    "    \"\"\"\n",
    "    r2 = model.score(x, y)\n",
    "    return sign(r2) * math.sqrt(abs(r2))"
   ]
  },
  {
   "cell_type": "code",
   "execution_count": 6,
   "metadata": {
    "collapsed": true
   },
   "outputs": [],
   "source": [
    "with pd.HDFStore(\"../data/train.h5\", \"r\") as data:\n",
    "    DATA = data.get(\"train\")"
   ]
  },
  {
   "cell_type": "code",
   "execution_count": 14,
   "metadata": {
    "collapsed": false
   },
   "outputs": [
    {
     "data": {
      "text/html": [
       "<div>\n",
       "<table border=\"1\" class=\"dataframe\">\n",
       "  <thead>\n",
       "    <tr style=\"text-align: right;\">\n",
       "      <th></th>\n",
       "      <th>id</th>\n",
       "      <th>timestamp</th>\n",
       "      <th>derived_0</th>\n",
       "      <th>derived_1</th>\n",
       "      <th>derived_2</th>\n",
       "      <th>derived_3</th>\n",
       "      <th>derived_4</th>\n",
       "      <th>fundamental_0</th>\n",
       "      <th>fundamental_1</th>\n",
       "      <th>fundamental_2</th>\n",
       "      <th>...</th>\n",
       "      <th>technical_36</th>\n",
       "      <th>technical_37</th>\n",
       "      <th>technical_38</th>\n",
       "      <th>technical_39</th>\n",
       "      <th>technical_40</th>\n",
       "      <th>technical_41</th>\n",
       "      <th>technical_42</th>\n",
       "      <th>technical_43</th>\n",
       "      <th>technical_44</th>\n",
       "      <th>y</th>\n",
       "    </tr>\n",
       "  </thead>\n",
       "  <tbody>\n",
       "    <tr>\n",
       "      <th>0</th>\n",
       "      <td>10</td>\n",
       "      <td>0</td>\n",
       "      <td>0.370326</td>\n",
       "      <td>-0.006316</td>\n",
       "      <td>0.222831</td>\n",
       "      <td>-0.213030</td>\n",
       "      <td>0.729277</td>\n",
       "      <td>-0.335633</td>\n",
       "      <td>0.113292</td>\n",
       "      <td>1.621238</td>\n",
       "      <td>...</td>\n",
       "      <td>0.775208</td>\n",
       "      <td>0.0</td>\n",
       "      <td>0.0</td>\n",
       "      <td>0.0</td>\n",
       "      <td>-0.414776</td>\n",
       "      <td>0.0</td>\n",
       "      <td>0.0</td>\n",
       "      <td>-2.0</td>\n",
       "      <td>0.0</td>\n",
       "      <td>-0.011753</td>\n",
       "    </tr>\n",
       "    <tr>\n",
       "      <th>1</th>\n",
       "      <td>11</td>\n",
       "      <td>0</td>\n",
       "      <td>0.014765</td>\n",
       "      <td>-0.038064</td>\n",
       "      <td>-0.017425</td>\n",
       "      <td>0.320652</td>\n",
       "      <td>-0.034134</td>\n",
       "      <td>0.004413</td>\n",
       "      <td>0.114285</td>\n",
       "      <td>-0.210185</td>\n",
       "      <td>...</td>\n",
       "      <td>0.025590</td>\n",
       "      <td>0.0</td>\n",
       "      <td>0.0</td>\n",
       "      <td>0.0</td>\n",
       "      <td>-0.273607</td>\n",
       "      <td>0.0</td>\n",
       "      <td>0.0</td>\n",
       "      <td>-2.0</td>\n",
       "      <td>0.0</td>\n",
       "      <td>-0.001240</td>\n",
       "    </tr>\n",
       "    <tr>\n",
       "      <th>2</th>\n",
       "      <td>12</td>\n",
       "      <td>0</td>\n",
       "      <td>-0.010622</td>\n",
       "      <td>-0.050577</td>\n",
       "      <td>3.379575</td>\n",
       "      <td>-0.157525</td>\n",
       "      <td>-0.068550</td>\n",
       "      <td>-0.155937</td>\n",
       "      <td>1.219439</td>\n",
       "      <td>-0.764516</td>\n",
       "      <td>...</td>\n",
       "      <td>0.151881</td>\n",
       "      <td>0.0</td>\n",
       "      <td>0.0</td>\n",
       "      <td>0.0</td>\n",
       "      <td>-0.175710</td>\n",
       "      <td>0.0</td>\n",
       "      <td>0.0</td>\n",
       "      <td>-2.0</td>\n",
       "      <td>0.0</td>\n",
       "      <td>-0.020940</td>\n",
       "    </tr>\n",
       "    <tr>\n",
       "      <th>3</th>\n",
       "      <td>25</td>\n",
       "      <td>0</td>\n",
       "      <td>0.000000</td>\n",
       "      <td>0.000000</td>\n",
       "      <td>0.000000</td>\n",
       "      <td>0.000000</td>\n",
       "      <td>0.000000</td>\n",
       "      <td>0.178495</td>\n",
       "      <td>0.000000</td>\n",
       "      <td>-0.007262</td>\n",
       "      <td>...</td>\n",
       "      <td>1.035936</td>\n",
       "      <td>0.0</td>\n",
       "      <td>0.0</td>\n",
       "      <td>0.0</td>\n",
       "      <td>-0.211506</td>\n",
       "      <td>0.0</td>\n",
       "      <td>0.0</td>\n",
       "      <td>-2.0</td>\n",
       "      <td>0.0</td>\n",
       "      <td>-0.015959</td>\n",
       "    </tr>\n",
       "    <tr>\n",
       "      <th>4</th>\n",
       "      <td>26</td>\n",
       "      <td>0</td>\n",
       "      <td>0.176693</td>\n",
       "      <td>-0.025284</td>\n",
       "      <td>-0.057680</td>\n",
       "      <td>0.015100</td>\n",
       "      <td>0.180894</td>\n",
       "      <td>0.139445</td>\n",
       "      <td>-0.125687</td>\n",
       "      <td>-0.018707</td>\n",
       "      <td>...</td>\n",
       "      <td>0.630232</td>\n",
       "      <td>0.0</td>\n",
       "      <td>0.0</td>\n",
       "      <td>0.0</td>\n",
       "      <td>-0.001957</td>\n",
       "      <td>0.0</td>\n",
       "      <td>0.0</td>\n",
       "      <td>0.0</td>\n",
       "      <td>0.0</td>\n",
       "      <td>-0.007338</td>\n",
       "    </tr>\n",
       "  </tbody>\n",
       "</table>\n",
       "<p>5 rows × 111 columns</p>\n",
       "</div>"
      ],
      "text/plain": [
       "   id  timestamp  derived_0  derived_1  derived_2  derived_3  derived_4  \\\n",
       "0  10          0   0.370326  -0.006316   0.222831  -0.213030   0.729277   \n",
       "1  11          0   0.014765  -0.038064  -0.017425   0.320652  -0.034134   \n",
       "2  12          0  -0.010622  -0.050577   3.379575  -0.157525  -0.068550   \n",
       "3  25          0   0.000000   0.000000   0.000000   0.000000   0.000000   \n",
       "4  26          0   0.176693  -0.025284  -0.057680   0.015100   0.180894   \n",
       "\n",
       "   fundamental_0  fundamental_1  fundamental_2    ...     technical_36  \\\n",
       "0      -0.335633       0.113292       1.621238    ...         0.775208   \n",
       "1       0.004413       0.114285      -0.210185    ...         0.025590   \n",
       "2      -0.155937       1.219439      -0.764516    ...         0.151881   \n",
       "3       0.178495       0.000000      -0.007262    ...         1.035936   \n",
       "4       0.139445      -0.125687      -0.018707    ...         0.630232   \n",
       "\n",
       "   technical_37  technical_38  technical_39  technical_40  technical_41  \\\n",
       "0           0.0           0.0           0.0     -0.414776           0.0   \n",
       "1           0.0           0.0           0.0     -0.273607           0.0   \n",
       "2           0.0           0.0           0.0     -0.175710           0.0   \n",
       "3           0.0           0.0           0.0     -0.211506           0.0   \n",
       "4           0.0           0.0           0.0     -0.001957           0.0   \n",
       "\n",
       "   technical_42  technical_43  technical_44         y  \n",
       "0           0.0          -2.0           0.0 -0.011753  \n",
       "1           0.0          -2.0           0.0 -0.001240  \n",
       "2           0.0          -2.0           0.0 -0.020940  \n",
       "3           0.0          -2.0           0.0 -0.015959  \n",
       "4           0.0           0.0           0.0 -0.007338  \n",
       "\n",
       "[5 rows x 111 columns]"
      ]
     },
     "execution_count": 14,
     "metadata": {},
     "output_type": "execute_result"
    }
   ],
   "source": [
    "#DATA_MEANS = DATA.mean()\n",
    "DATA.fillna(0, inplace=True)\n",
    "DATA.head()"
   ]
  },
  {
   "cell_type": "markdown",
   "metadata": {},
   "source": [
    "## decomposition"
   ]
  },
  {
   "cell_type": "code",
   "execution_count": null,
   "metadata": {
    "collapsed": false
   },
   "outputs": [],
   "source": [
    "N_PCA = 16\n",
    "pca = PCA(n_components=N_PCA)\n",
    "pca_series = pca.fit_transform(DATA.drop([\"id\", \"timestamp\", \"y\"], axis=1))"
   ]
  },
  {
   "cell_type": "code",
   "execution_count": null,
   "metadata": {
    "collapsed": true
   },
   "outputs": [],
   "source": [
    "pca_data = pd.DataFrame(pca_series)\n",
    "pca_cols = ['pca_%i'%i for i in range(16)]\n",
    "pca_data.columns = pca_cols\n",
    "pca_data['y'] = DATA.y"
   ]
  },
  {
   "cell_type": "code",
   "execution_count": 37,
   "metadata": {
    "collapsed": false
   },
   "outputs": [
    {
     "data": {
      "text/html": [
       "<div>\n",
       "<table border=\"1\" class=\"dataframe\">\n",
       "  <thead>\n",
       "    <tr style=\"text-align: right;\">\n",
       "      <th></th>\n",
       "      <th>pca_0</th>\n",
       "      <th>pca_1</th>\n",
       "      <th>pca_2</th>\n",
       "      <th>pca_3</th>\n",
       "      <th>pca_4</th>\n",
       "      <th>pca_5</th>\n",
       "      <th>pca_6</th>\n",
       "      <th>pca_7</th>\n",
       "      <th>pca_8</th>\n",
       "      <th>pca_9</th>\n",
       "      <th>pca_10</th>\n",
       "      <th>pca_11</th>\n",
       "      <th>pca_12</th>\n",
       "      <th>pca_13</th>\n",
       "      <th>pca_14</th>\n",
       "      <th>pca_15</th>\n",
       "      <th>y</th>\n",
       "    </tr>\n",
       "  </thead>\n",
       "  <tbody>\n",
       "    <tr>\n",
       "      <th>0</th>\n",
       "      <td>7.025244e+13</td>\n",
       "      <td>-9.443947e+11</td>\n",
       "      <td>-7.690958e+11</td>\n",
       "      <td>-87345528.0</td>\n",
       "      <td>-83019224.0</td>\n",
       "      <td>-346602112.0</td>\n",
       "      <td>-405677344.0</td>\n",
       "      <td>-560804864.0</td>\n",
       "      <td>93713656.0</td>\n",
       "      <td>-217763856.0</td>\n",
       "      <td>144555376.0</td>\n",
       "      <td>-9.377616e+06</td>\n",
       "      <td>152421824.0</td>\n",
       "      <td>-319614624.0</td>\n",
       "      <td>-510856160.0</td>\n",
       "      <td>-3.983390e+06</td>\n",
       "      <td>-0.011753</td>\n",
       "    </tr>\n",
       "    <tr>\n",
       "      <th>1</th>\n",
       "      <td>6.765066e+13</td>\n",
       "      <td>-9.413881e+11</td>\n",
       "      <td>-7.769983e+11</td>\n",
       "      <td>-109680864.0</td>\n",
       "      <td>-505652288.0</td>\n",
       "      <td>-31164050.0</td>\n",
       "      <td>339087808.0</td>\n",
       "      <td>38756624.0</td>\n",
       "      <td>-345962976.0</td>\n",
       "      <td>-136709904.0</td>\n",
       "      <td>-48266204.0</td>\n",
       "      <td>-8.684914e+06</td>\n",
       "      <td>81958008.0</td>\n",
       "      <td>-77783856.0</td>\n",
       "      <td>76160728.0</td>\n",
       "      <td>-9.005951e+05</td>\n",
       "      <td>-0.001240</td>\n",
       "    </tr>\n",
       "    <tr>\n",
       "      <th>2</th>\n",
       "      <td>7.090139e+13</td>\n",
       "      <td>-9.426091e+11</td>\n",
       "      <td>-7.728511e+11</td>\n",
       "      <td>-305789056.0</td>\n",
       "      <td>-518950016.0</td>\n",
       "      <td>-116932120.0</td>\n",
       "      <td>167009328.0</td>\n",
       "      <td>35020836.0</td>\n",
       "      <td>-61218308.0</td>\n",
       "      <td>224831136.0</td>\n",
       "      <td>-13917292.0</td>\n",
       "      <td>-8.638020e+06</td>\n",
       "      <td>-6113353.0</td>\n",
       "      <td>-198659200.0</td>\n",
       "      <td>-198082544.0</td>\n",
       "      <td>-1.457946e+06</td>\n",
       "      <td>-0.020940</td>\n",
       "    </tr>\n",
       "    <tr>\n",
       "      <th>3</th>\n",
       "      <td>7.089455e+13</td>\n",
       "      <td>-7.750121e+09</td>\n",
       "      <td>1.805344e+08</td>\n",
       "      <td>-35244064.0</td>\n",
       "      <td>-288725088.0</td>\n",
       "      <td>18889320.0</td>\n",
       "      <td>-392872480.0</td>\n",
       "      <td>30961712.0</td>\n",
       "      <td>40370344.0</td>\n",
       "      <td>126052208.0</td>\n",
       "      <td>32557010.0</td>\n",
       "      <td>2.510962e+03</td>\n",
       "      <td>138579792.0</td>\n",
       "      <td>33967968.0</td>\n",
       "      <td>379891744.0</td>\n",
       "      <td>2.567451e+06</td>\n",
       "      <td>-0.015959</td>\n",
       "    </tr>\n",
       "    <tr>\n",
       "      <th>4</th>\n",
       "      <td>6.950582e+13</td>\n",
       "      <td>-9.685481e+11</td>\n",
       "      <td>-7.728469e+11</td>\n",
       "      <td>-520303584.0</td>\n",
       "      <td>-322812576.0</td>\n",
       "      <td>-12745655.0</td>\n",
       "      <td>273235360.0</td>\n",
       "      <td>-24428322.0</td>\n",
       "      <td>-222379888.0</td>\n",
       "      <td>-175087456.0</td>\n",
       "      <td>-77109856.0</td>\n",
       "      <td>-8.993822e+06</td>\n",
       "      <td>101012136.0</td>\n",
       "      <td>43213280.0</td>\n",
       "      <td>303975616.0</td>\n",
       "      <td>6.557054e+05</td>\n",
       "      <td>-0.007338</td>\n",
       "    </tr>\n",
       "  </tbody>\n",
       "</table>\n",
       "</div>"
      ],
      "text/plain": [
       "          pca_0         pca_1         pca_2        pca_3        pca_4  \\\n",
       "0  7.025244e+13 -9.443947e+11 -7.690958e+11  -87345528.0  -83019224.0   \n",
       "1  6.765066e+13 -9.413881e+11 -7.769983e+11 -109680864.0 -505652288.0   \n",
       "2  7.090139e+13 -9.426091e+11 -7.728511e+11 -305789056.0 -518950016.0   \n",
       "3  7.089455e+13 -7.750121e+09  1.805344e+08  -35244064.0 -288725088.0   \n",
       "4  6.950582e+13 -9.685481e+11 -7.728469e+11 -520303584.0 -322812576.0   \n",
       "\n",
       "         pca_5        pca_6        pca_7        pca_8        pca_9  \\\n",
       "0 -346602112.0 -405677344.0 -560804864.0   93713656.0 -217763856.0   \n",
       "1  -31164050.0  339087808.0   38756624.0 -345962976.0 -136709904.0   \n",
       "2 -116932120.0  167009328.0   35020836.0  -61218308.0  224831136.0   \n",
       "3   18889320.0 -392872480.0   30961712.0   40370344.0  126052208.0   \n",
       "4  -12745655.0  273235360.0  -24428322.0 -222379888.0 -175087456.0   \n",
       "\n",
       "        pca_10        pca_11       pca_12       pca_13       pca_14  \\\n",
       "0  144555376.0 -9.377616e+06  152421824.0 -319614624.0 -510856160.0   \n",
       "1  -48266204.0 -8.684914e+06   81958008.0  -77783856.0   76160728.0   \n",
       "2  -13917292.0 -8.638020e+06   -6113353.0 -198659200.0 -198082544.0   \n",
       "3   32557010.0  2.510962e+03  138579792.0   33967968.0  379891744.0   \n",
       "4  -77109856.0 -8.993822e+06  101012136.0   43213280.0  303975616.0   \n",
       "\n",
       "         pca_15         y  \n",
       "0 -3.983390e+06 -0.011753  \n",
       "1 -9.005951e+05 -0.001240  \n",
       "2 -1.457946e+06 -0.020940  \n",
       "3  2.567451e+06 -0.015959  \n",
       "4  6.557054e+05 -0.007338  "
      ]
     },
     "execution_count": 37,
     "metadata": {},
     "output_type": "execute_result"
    }
   ],
   "source": [
    "pca_data.head()"
   ]
  },
  {
   "cell_type": "markdown",
   "metadata": {},
   "source": [
    "## Sampling"
   ]
  },
  {
   "cell_type": "code",
   "execution_count": 15,
   "metadata": {
    "collapsed": false
   },
   "outputs": [],
   "source": [
    "DATA_TRAIN, DATA_VALID = train_test_split(DATA, test_size=0.2, random_state=42)"
   ]
  },
  {
   "cell_type": "code",
   "execution_count": 16,
   "metadata": {
    "collapsed": true
   },
   "outputs": [],
   "source": [
    "features = [\"technical_30\", \"fundamental_11\", \"technical_20\"]"
   ]
  },
  {
   "cell_type": "code",
   "execution_count": 21,
   "metadata": {
    "collapsed": false
   },
   "outputs": [],
   "source": [
    "tree = DecisionTreeRegressor()"
   ]
  },
  {
   "cell_type": "code",
   "execution_count": 23,
   "metadata": {
    "collapsed": false
   },
   "outputs": [
    {
     "data": {
      "text/plain": [
       "DecisionTreeRegressor(criterion='mse', max_depth=None, max_features=None,\n",
       "           max_leaf_nodes=None, min_samples_leaf=1, min_samples_split=2,\n",
       "           min_weight_fraction_leaf=0.0, presort=False, random_state=None,\n",
       "           splitter='best')"
      ]
     },
     "execution_count": 23,
     "metadata": {},
     "output_type": "execute_result"
    }
   ],
   "source": [
    "tree.fit(DATA_TRAIN.drop(['id', 'y', 'timestamp'], axis=1), DATA_TRAIN.y)"
   ]
  },
  {
   "cell_type": "code",
   "execution_count": 20,
   "metadata": {
    "collapsed": false
   },
   "outputs": [
    {
     "data": {
      "text/plain": [
       "-0.9562045686561513"
      ]
     },
     "execution_count": 20,
     "metadata": {},
     "output_type": "execute_result"
    }
   ],
   "source": [
    "r_score(tree, DATA_VALID[features], DATA_VALID.y)"
   ]
  },
  {
   "cell_type": "code",
   "execution_count": null,
   "metadata": {
    "collapsed": true
   },
   "outputs": [],
   "source": []
  }
 ],
 "metadata": {
  "kernelspec": {
   "display_name": "Python 2",
   "language": "python",
   "name": "python2"
  },
  "language_info": {
   "codemirror_mode": {
    "name": "ipython",
    "version": 2
   },
   "file_extension": ".py",
   "mimetype": "text/x-python",
   "name": "python",
   "nbconvert_exporter": "python",
   "pygments_lexer": "ipython2",
   "version": "2.7.12"
  }
 },
 "nbformat": 4,
 "nbformat_minor": 0
}
