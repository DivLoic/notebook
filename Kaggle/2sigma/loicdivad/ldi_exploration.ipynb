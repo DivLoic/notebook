{
 "cells": [
  {
   "cell_type": "code",
   "execution_count": 1,
   "metadata": {
    "collapsed": true
   },
   "outputs": [],
   "source": [
    "# conding: utf-8"
   ]
  },
  {
   "cell_type": "raw",
   "metadata": {
    "collapsed": false
   },
   "source": [
    "\"\"\"\n",
    "    author: Loïc M. DIVAD\n",
    "    date: 2016-12-04\n",
    "    see also: https://www.kaggle.com/c/two-sigma-financial-modeling\n",
    "\"\"\""
   ]
  },
  {
   "cell_type": "code",
   "execution_count": 2,
   "metadata": {
    "collapsed": true
   },
   "outputs": [],
   "source": [
    "%matplotlib inline\n",
    "\n",
    "import math\n",
    "import numpy as np\n",
    "import pandas as pd\n",
    "import seaborn as sbn\n",
    "import matplotlib.pyplot as plt"
   ]
  },
  {
   "cell_type": "code",
   "execution_count": 3,
   "metadata": {
    "collapsed": false
   },
   "outputs": [],
   "source": [
    "from sklearn.metrics import r2_score\n",
    "from sklearn.preprocessing import PolynomialFeatures\n",
    "from sklearn.cross_validation import train_test_split\n",
    "from sklearn.linear_model import RidgeCV, LassoLarsCV, LinearRegression"
   ]
  },
  {
   "cell_type": "markdown",
   "metadata": {},
   "source": [
    "### Functions"
   ]
  },
  {
   "cell_type": "code",
   "execution_count": 4,
   "metadata": {
    "collapsed": false
   },
   "outputs": [],
   "source": [
    "def sign(a):\n",
    "    return -1 if a < 0 else 1\n",
    "\n",
    "def r_score(model, x, y):\n",
    "    \"\"\"\n",
    "        model: model fitted\n",
    "        x: target labels\n",
    "        y: target values\n",
    "    \"\"\"\n",
    "    r2 = model.score(x, y)\n",
    "    return sign(r2) * math.sqrt(abs(r2))\n",
    "              \n",
    "\n",
    "def make_plynomial_df(df, n=2):\n",
    "    \"\"\" \"\"\"\n",
    "    poly = PolynomialFeatures(n)\n",
    "    ployDf = pd.DataFrame(poly.fit_transform(df)).drop([0], axis=1)\n",
    "    #timestamp = df[\"timestamp\"]\n",
    "    #ployDf[\"timestamp\"] = timestamp\n",
    "    \n",
    "    return ployDf"
   ]
  },
  {
   "cell_type": "code",
   "execution_count": 5,
   "metadata": {
    "collapsed": false
   },
   "outputs": [
    {
     "data": {
      "text/plain": [
       "0.94860813704496794"
      ]
     },
     "execution_count": 5,
     "metadata": {},
     "output_type": "execute_result"
    }
   ],
   "source": [
    "### test\n",
    "y_true = np.array([3, -0.5, 2, 7])\n",
    "y_pred = np.array([2.5, 0.0, 2, 8])\n",
    "\n",
    "r2_score(y_true, y_pred) # 0.94860813704496794"
   ]
  },
  {
   "cell_type": "code",
   "execution_count": 6,
   "metadata": {
    "collapsed": false
   },
   "outputs": [
    {
     "data": {
      "text/html": [
       "<div>\n",
       "<table border=\"1\" class=\"dataframe\">\n",
       "  <thead>\n",
       "    <tr style=\"text-align: right;\">\n",
       "      <th></th>\n",
       "      <th>1</th>\n",
       "      <th>2</th>\n",
       "      <th>3</th>\n",
       "      <th>4</th>\n",
       "      <th>5</th>\n",
       "    </tr>\n",
       "  </thead>\n",
       "  <tbody>\n",
       "    <tr>\n",
       "      <th>0</th>\n",
       "      <td>3.0</td>\n",
       "      <td>9.0</td>\n",
       "      <td>27.0</td>\n",
       "      <td>81.0</td>\n",
       "      <td>243.0</td>\n",
       "    </tr>\n",
       "    <tr>\n",
       "      <th>1</th>\n",
       "      <td>3.0</td>\n",
       "      <td>9.0</td>\n",
       "      <td>27.0</td>\n",
       "      <td>81.0</td>\n",
       "      <td>243.0</td>\n",
       "    </tr>\n",
       "    <tr>\n",
       "      <th>2</th>\n",
       "      <td>3.0</td>\n",
       "      <td>9.0</td>\n",
       "      <td>27.0</td>\n",
       "      <td>81.0</td>\n",
       "      <td>243.0</td>\n",
       "    </tr>\n",
       "    <tr>\n",
       "      <th>3</th>\n",
       "      <td>3.0</td>\n",
       "      <td>9.0</td>\n",
       "      <td>27.0</td>\n",
       "      <td>81.0</td>\n",
       "      <td>243.0</td>\n",
       "    </tr>\n",
       "  </tbody>\n",
       "</table>\n",
       "</div>"
      ],
      "text/plain": [
       "     1    2     3     4      5\n",
       "0  3.0  9.0  27.0  81.0  243.0\n",
       "1  3.0  9.0  27.0  81.0  243.0\n",
       "2  3.0  9.0  27.0  81.0  243.0\n",
       "3  3.0  9.0  27.0  81.0  243.0"
      ]
     },
     "execution_count": 6,
     "metadata": {},
     "output_type": "execute_result"
    }
   ],
   "source": [
    "fooDf = pd.DataFrame({'col_': [3, 3, 3, 3]})\n",
    "make_plynomial_df(fooDf, 5)"
   ]
  },
  {
   "cell_type": "markdown",
   "metadata": {},
   "source": [
    "### The Dataset"
   ]
  },
  {
   "cell_type": "code",
   "execution_count": 7,
   "metadata": {
    "collapsed": false
   },
   "outputs": [],
   "source": [
    "with pd.HDFStore(\"../data/train.h5\", \"r\") as data:\n",
    "    DATA = data.get(\"train\")"
   ]
  },
  {
   "cell_type": "code",
   "execution_count": 8,
   "metadata": {
    "collapsed": false
   },
   "outputs": [
    {
     "data": {
      "text/html": [
       "<div>\n",
       "<table border=\"1\" class=\"dataframe\">\n",
       "  <thead>\n",
       "    <tr style=\"text-align: right;\">\n",
       "      <th></th>\n",
       "      <th>id</th>\n",
       "      <th>timestamp</th>\n",
       "      <th>derived_0</th>\n",
       "      <th>derived_1</th>\n",
       "      <th>derived_2</th>\n",
       "      <th>derived_3</th>\n",
       "      <th>derived_4</th>\n",
       "      <th>fundamental_0</th>\n",
       "      <th>fundamental_1</th>\n",
       "      <th>fundamental_2</th>\n",
       "      <th>...</th>\n",
       "      <th>technical_36</th>\n",
       "      <th>technical_37</th>\n",
       "      <th>technical_38</th>\n",
       "      <th>technical_39</th>\n",
       "      <th>technical_40</th>\n",
       "      <th>technical_41</th>\n",
       "      <th>technical_42</th>\n",
       "      <th>technical_43</th>\n",
       "      <th>technical_44</th>\n",
       "      <th>y</th>\n",
       "    </tr>\n",
       "  </thead>\n",
       "  <tbody>\n",
       "    <tr>\n",
       "      <th>0</th>\n",
       "      <td>10</td>\n",
       "      <td>0</td>\n",
       "      <td>0.370326</td>\n",
       "      <td>-0.006316</td>\n",
       "      <td>0.222831</td>\n",
       "      <td>-0.213030</td>\n",
       "      <td>0.729277</td>\n",
       "      <td>-0.335633</td>\n",
       "      <td>0.113292</td>\n",
       "      <td>1.621238</td>\n",
       "      <td>...</td>\n",
       "      <td>0.775208</td>\n",
       "      <td>NaN</td>\n",
       "      <td>NaN</td>\n",
       "      <td>NaN</td>\n",
       "      <td>-0.414776</td>\n",
       "      <td>NaN</td>\n",
       "      <td>NaN</td>\n",
       "      <td>-2.0</td>\n",
       "      <td>NaN</td>\n",
       "      <td>-0.011753</td>\n",
       "    </tr>\n",
       "    <tr>\n",
       "      <th>1</th>\n",
       "      <td>11</td>\n",
       "      <td>0</td>\n",
       "      <td>0.014765</td>\n",
       "      <td>-0.038064</td>\n",
       "      <td>-0.017425</td>\n",
       "      <td>0.320652</td>\n",
       "      <td>-0.034134</td>\n",
       "      <td>0.004413</td>\n",
       "      <td>0.114285</td>\n",
       "      <td>-0.210185</td>\n",
       "      <td>...</td>\n",
       "      <td>0.025590</td>\n",
       "      <td>NaN</td>\n",
       "      <td>NaN</td>\n",
       "      <td>NaN</td>\n",
       "      <td>-0.273607</td>\n",
       "      <td>NaN</td>\n",
       "      <td>NaN</td>\n",
       "      <td>-2.0</td>\n",
       "      <td>NaN</td>\n",
       "      <td>-0.001240</td>\n",
       "    </tr>\n",
       "    <tr>\n",
       "      <th>2</th>\n",
       "      <td>12</td>\n",
       "      <td>0</td>\n",
       "      <td>-0.010622</td>\n",
       "      <td>-0.050577</td>\n",
       "      <td>3.379575</td>\n",
       "      <td>-0.157525</td>\n",
       "      <td>-0.068550</td>\n",
       "      <td>-0.155937</td>\n",
       "      <td>1.219439</td>\n",
       "      <td>-0.764516</td>\n",
       "      <td>...</td>\n",
       "      <td>0.151881</td>\n",
       "      <td>NaN</td>\n",
       "      <td>NaN</td>\n",
       "      <td>NaN</td>\n",
       "      <td>-0.175710</td>\n",
       "      <td>NaN</td>\n",
       "      <td>NaN</td>\n",
       "      <td>-2.0</td>\n",
       "      <td>NaN</td>\n",
       "      <td>-0.020940</td>\n",
       "    </tr>\n",
       "    <tr>\n",
       "      <th>3</th>\n",
       "      <td>25</td>\n",
       "      <td>0</td>\n",
       "      <td>NaN</td>\n",
       "      <td>NaN</td>\n",
       "      <td>NaN</td>\n",
       "      <td>NaN</td>\n",
       "      <td>NaN</td>\n",
       "      <td>0.178495</td>\n",
       "      <td>NaN</td>\n",
       "      <td>-0.007262</td>\n",
       "      <td>...</td>\n",
       "      <td>1.035936</td>\n",
       "      <td>NaN</td>\n",
       "      <td>NaN</td>\n",
       "      <td>NaN</td>\n",
       "      <td>-0.211506</td>\n",
       "      <td>NaN</td>\n",
       "      <td>NaN</td>\n",
       "      <td>-2.0</td>\n",
       "      <td>NaN</td>\n",
       "      <td>-0.015959</td>\n",
       "    </tr>\n",
       "    <tr>\n",
       "      <th>4</th>\n",
       "      <td>26</td>\n",
       "      <td>0</td>\n",
       "      <td>0.176693</td>\n",
       "      <td>-0.025284</td>\n",
       "      <td>-0.057680</td>\n",
       "      <td>0.015100</td>\n",
       "      <td>0.180894</td>\n",
       "      <td>0.139445</td>\n",
       "      <td>-0.125687</td>\n",
       "      <td>-0.018707</td>\n",
       "      <td>...</td>\n",
       "      <td>0.630232</td>\n",
       "      <td>NaN</td>\n",
       "      <td>NaN</td>\n",
       "      <td>NaN</td>\n",
       "      <td>-0.001957</td>\n",
       "      <td>NaN</td>\n",
       "      <td>NaN</td>\n",
       "      <td>0.0</td>\n",
       "      <td>NaN</td>\n",
       "      <td>-0.007338</td>\n",
       "    </tr>\n",
       "  </tbody>\n",
       "</table>\n",
       "<p>5 rows × 111 columns</p>\n",
       "</div>"
      ],
      "text/plain": [
       "   id  timestamp  derived_0  derived_1  derived_2  derived_3  derived_4  \\\n",
       "0  10          0   0.370326  -0.006316   0.222831  -0.213030   0.729277   \n",
       "1  11          0   0.014765  -0.038064  -0.017425   0.320652  -0.034134   \n",
       "2  12          0  -0.010622  -0.050577   3.379575  -0.157525  -0.068550   \n",
       "3  25          0        NaN        NaN        NaN        NaN        NaN   \n",
       "4  26          0   0.176693  -0.025284  -0.057680   0.015100   0.180894   \n",
       "\n",
       "   fundamental_0  fundamental_1  fundamental_2    ...     technical_36  \\\n",
       "0      -0.335633       0.113292       1.621238    ...         0.775208   \n",
       "1       0.004413       0.114285      -0.210185    ...         0.025590   \n",
       "2      -0.155937       1.219439      -0.764516    ...         0.151881   \n",
       "3       0.178495            NaN      -0.007262    ...         1.035936   \n",
       "4       0.139445      -0.125687      -0.018707    ...         0.630232   \n",
       "\n",
       "   technical_37  technical_38  technical_39  technical_40  technical_41  \\\n",
       "0           NaN           NaN           NaN     -0.414776           NaN   \n",
       "1           NaN           NaN           NaN     -0.273607           NaN   \n",
       "2           NaN           NaN           NaN     -0.175710           NaN   \n",
       "3           NaN           NaN           NaN     -0.211506           NaN   \n",
       "4           NaN           NaN           NaN     -0.001957           NaN   \n",
       "\n",
       "   technical_42  technical_43  technical_44         y  \n",
       "0           NaN          -2.0           NaN -0.011753  \n",
       "1           NaN          -2.0           NaN -0.001240  \n",
       "2           NaN          -2.0           NaN -0.020940  \n",
       "3           NaN          -2.0           NaN -0.015959  \n",
       "4           NaN           0.0           NaN -0.007338  \n",
       "\n",
       "[5 rows x 111 columns]"
      ]
     },
     "execution_count": 8,
     "metadata": {},
     "output_type": "execute_result"
    }
   ],
   "source": [
    "DATA.head()"
   ]
  },
  {
   "cell_type": "code",
   "execution_count": 9,
   "metadata": {
    "collapsed": false
   },
   "outputs": [
    {
     "name": "stdout",
     "output_type": "stream",
     "text": [
      "Number of entries :\t  1710756\n",
      "Number of features :\t  109\n"
     ]
    }
   ],
   "source": [
    "print \"Number of entries :\\t \",len(DATA)\n",
    "print \"Number of features :\\t \",len(DATA.columns) - 2 #- non-features: id & y"
   ]
  },
  {
   "cell_type": "code",
   "execution_count": 10,
   "metadata": {
    "collapsed": false
   },
   "outputs": [
    {
     "name": "stdout",
     "output_type": "stream",
     "text": [
      "Number of unique ID 1424\n"
     ]
    }
   ],
   "source": [
    "print \"Number of unique ID\",len(DATA.id.unique())"
   ]
  },
  {
   "cell_type": "code",
   "execution_count": 11,
   "metadata": {
    "collapsed": false
   },
   "outputs": [
    {
     "data": {
      "text/html": [
       "<div>\n",
       "<table border=\"1\" class=\"dataframe\">\n",
       "  <thead>\n",
       "    <tr style=\"text-align: right;\">\n",
       "      <th></th>\n",
       "      <th>id</th>\n",
       "      <th>timestamp</th>\n",
       "      <th>derived_0</th>\n",
       "      <th>derived_1</th>\n",
       "      <th>derived_2</th>\n",
       "      <th>derived_3</th>\n",
       "      <th>derived_4</th>\n",
       "      <th>fundamental_0</th>\n",
       "      <th>fundamental_1</th>\n",
       "      <th>fundamental_2</th>\n",
       "      <th>...</th>\n",
       "      <th>technical_36</th>\n",
       "      <th>technical_37</th>\n",
       "      <th>technical_38</th>\n",
       "      <th>technical_39</th>\n",
       "      <th>technical_40</th>\n",
       "      <th>technical_41</th>\n",
       "      <th>technical_42</th>\n",
       "      <th>technical_43</th>\n",
       "      <th>technical_44</th>\n",
       "      <th>y</th>\n",
       "    </tr>\n",
       "  </thead>\n",
       "  <tbody>\n",
       "    <tr>\n",
       "      <th>count</th>\n",
       "      <td>1.710756e+06</td>\n",
       "      <td>1.710756e+06</td>\n",
       "      <td>1.637797e+06</td>\n",
       "      <td>1.629727e+06</td>\n",
       "      <td>1.312105e+06</td>\n",
       "      <td>1.561285e+06</td>\n",
       "      <td>1.304298e+06</td>\n",
       "      <td>1.686809e+06</td>\n",
       "      <td>1.031686e+06</td>\n",
       "      <td>1.341916e+06</td>\n",
       "      <td>...</td>\n",
       "      <td>1.708204e+06</td>\n",
       "      <td>1.691591e+06</td>\n",
       "      <td>1.691591e+06</td>\n",
       "      <td>1.690740e+06</td>\n",
       "      <td>1.708520e+06</td>\n",
       "      <td>1.666567e+06</td>\n",
       "      <td>1.690755e+06</td>\n",
       "      <td>1.706070e+06</td>\n",
       "      <td>1.473977e+06</td>\n",
       "      <td>1.710756e+06</td>\n",
       "    </tr>\n",
       "    <tr>\n",
       "      <th>mean</th>\n",
       "      <td>1.093858e+03</td>\n",
       "      <td>9.456257e+02</td>\n",
       "      <td>-4.536046e+00</td>\n",
       "      <td>7.729436e+11</td>\n",
       "      <td>-3.320328e-01</td>\n",
       "      <td>-5.046012e-01</td>\n",
       "      <td>1.801661e+01</td>\n",
       "      <td>-2.040938e-02</td>\n",
       "      <td>-5.703754e+08</td>\n",
       "      <td>-1.622954e-01</td>\n",
       "      <td>...</td>\n",
       "      <td>-8.584833e-02</td>\n",
       "      <td>-9.103397e-02</td>\n",
       "      <td>-8.156685e-02</td>\n",
       "      <td>-7.287001e-02</td>\n",
       "      <td>4.908321e-02</td>\n",
       "      <td>5.236218e-03</td>\n",
       "      <td>-1.699966e-02</td>\n",
       "      <td>-9.735299e-01</td>\n",
       "      <td>3.881475e-04</td>\n",
       "      <td>2.217509e-04</td>\n",
       "    </tr>\n",
       "    <tr>\n",
       "      <th>std</th>\n",
       "      <td>6.308563e+02</td>\n",
       "      <td>5.195685e+02</td>\n",
       "      <td>2.497382e+02</td>\n",
       "      <td>7.620606e+13</td>\n",
       "      <td>6.519810e+01</td>\n",
       "      <td>1.020749e+02</td>\n",
       "      <td>9.258360e+02</td>\n",
       "      <td>2.494859e-01</td>\n",
       "      <td>7.502322e+10</td>\n",
       "      <td>3.668150e+00</td>\n",
       "      <td>...</td>\n",
       "      <td>6.125852e-01</td>\n",
       "      <td>2.471038e-01</td>\n",
       "      <td>2.346534e-01</td>\n",
       "      <td>2.235729e-01</td>\n",
       "      <td>3.102316e-01</td>\n",
       "      <td>1.133733e-01</td>\n",
       "      <td>2.116284e-01</td>\n",
       "      <td>9.605551e-01</td>\n",
       "      <td>3.011983e-02</td>\n",
       "      <td>2.240643e-02</td>\n",
       "    </tr>\n",
       "    <tr>\n",
       "      <th>min</th>\n",
       "      <td>0.000000e+00</td>\n",
       "      <td>0.000000e+00</td>\n",
       "      <td>-2.017497e+04</td>\n",
       "      <td>-7.375435e-02</td>\n",
       "      <td>-9.848880e+03</td>\n",
       "      <td>-3.434176e+04</td>\n",
       "      <td>-8.551914e+03</td>\n",
       "      <td>-2.344957e+00</td>\n",
       "      <td>-1.043737e+13</td>\n",
       "      <td>-1.077101e+03</td>\n",
       "      <td>...</td>\n",
       "      <td>-1.687572e+00</td>\n",
       "      <td>-1.000000e+00</td>\n",
       "      <td>-1.000000e+00</td>\n",
       "      <td>-1.000000e+00</td>\n",
       "      <td>-5.250904e-01</td>\n",
       "      <td>-4.449529e-01</td>\n",
       "      <td>-1.000000e+00</td>\n",
       "      <td>-2.000000e+00</td>\n",
       "      <td>-1.265686e-01</td>\n",
       "      <td>-8.609413e-02</td>\n",
       "    </tr>\n",
       "    <tr>\n",
       "      <th>25%</th>\n",
       "      <td>5.500000e+02</td>\n",
       "      <td>5.040000e+02</td>\n",
       "      <td>-1.449710e-01</td>\n",
       "      <td>-2.956479e-02</td>\n",
       "      <td>-5.967524e-02</td>\n",
       "      <td>-1.655826e-01</td>\n",
       "      <td>-1.057050e-01</td>\n",
       "      <td>-1.996543e-01</td>\n",
       "      <td>-1.960470e-01</td>\n",
       "      <td>-2.280967e-01</td>\n",
       "      <td>...</td>\n",
       "      <td>-4.050297e-01</td>\n",
       "      <td>-4.651562e-04</td>\n",
       "      <td>-1.992532e-04</td>\n",
       "      <td>-2.203252e-05</td>\n",
       "      <td>-1.521701e-01</td>\n",
       "      <td>-7.377038e-02</td>\n",
       "      <td>-3.887695e-15</td>\n",
       "      <td>-2.000000e+00</td>\n",
       "      <td>-1.998819e-02</td>\n",
       "      <td>-9.561389e-03</td>\n",
       "    </tr>\n",
       "  </tbody>\n",
       "</table>\n",
       "<p>5 rows × 111 columns</p>\n",
       "</div>"
      ],
      "text/plain": [
       "                 id     timestamp     derived_0     derived_1     derived_2  \\\n",
       "count  1.710756e+06  1.710756e+06  1.637797e+06  1.629727e+06  1.312105e+06   \n",
       "mean   1.093858e+03  9.456257e+02 -4.536046e+00  7.729436e+11 -3.320328e-01   \n",
       "std    6.308563e+02  5.195685e+02  2.497382e+02  7.620606e+13  6.519810e+01   \n",
       "min    0.000000e+00  0.000000e+00 -2.017497e+04 -7.375435e-02 -9.848880e+03   \n",
       "25%    5.500000e+02  5.040000e+02 -1.449710e-01 -2.956479e-02 -5.967524e-02   \n",
       "\n",
       "          derived_3     derived_4  fundamental_0  fundamental_1  \\\n",
       "count  1.561285e+06  1.304298e+06   1.686809e+06   1.031686e+06   \n",
       "mean  -5.046012e-01  1.801661e+01  -2.040938e-02  -5.703754e+08   \n",
       "std    1.020749e+02  9.258360e+02   2.494859e-01   7.502322e+10   \n",
       "min   -3.434176e+04 -8.551914e+03  -2.344957e+00  -1.043737e+13   \n",
       "25%   -1.655826e-01 -1.057050e-01  -1.996543e-01  -1.960470e-01   \n",
       "\n",
       "       fundamental_2      ...       technical_36  technical_37  technical_38  \\\n",
       "count   1.341916e+06      ...       1.708204e+06  1.691591e+06  1.691591e+06   \n",
       "mean   -1.622954e-01      ...      -8.584833e-02 -9.103397e-02 -8.156685e-02   \n",
       "std     3.668150e+00      ...       6.125852e-01  2.471038e-01  2.346534e-01   \n",
       "min    -1.077101e+03      ...      -1.687572e+00 -1.000000e+00 -1.000000e+00   \n",
       "25%    -2.280967e-01      ...      -4.050297e-01 -4.651562e-04 -1.992532e-04   \n",
       "\n",
       "       technical_39  technical_40  technical_41  technical_42  technical_43  \\\n",
       "count  1.690740e+06  1.708520e+06  1.666567e+06  1.690755e+06  1.706070e+06   \n",
       "mean  -7.287001e-02  4.908321e-02  5.236218e-03 -1.699966e-02 -9.735299e-01   \n",
       "std    2.235729e-01  3.102316e-01  1.133733e-01  2.116284e-01  9.605551e-01   \n",
       "min   -1.000000e+00 -5.250904e-01 -4.449529e-01 -1.000000e+00 -2.000000e+00   \n",
       "25%   -2.203252e-05 -1.521701e-01 -7.377038e-02 -3.887695e-15 -2.000000e+00   \n",
       "\n",
       "       technical_44             y  \n",
       "count  1.473977e+06  1.710756e+06  \n",
       "mean   3.881475e-04  2.217509e-04  \n",
       "std    3.011983e-02  2.240643e-02  \n",
       "min   -1.265686e-01 -8.609413e-02  \n",
       "25%   -1.998819e-02 -9.561389e-03  \n",
       "\n",
       "[5 rows x 111 columns]"
      ]
     },
     "execution_count": 11,
     "metadata": {},
     "output_type": "execute_result"
    }
   ],
   "source": [
    "desc = DATA.describe()\n",
    "desc.head()"
   ]
  },
  {
   "cell_type": "markdown",
   "metadata": {},
   "source": [
    "#### Lets look at the Nan"
   ]
  },
  {
   "cell_type": "code",
   "execution_count": 12,
   "metadata": {
    "collapsed": false
   },
   "outputs": [],
   "source": [
    "firts_feature, last_feature = (0, 6) \n",
    "feature_window = None # (firts_feature, last_feature) #"
   ]
  },
  {
   "cell_type": "code",
   "execution_count": 13,
   "metadata": {
    "collapsed": false
   },
   "outputs": [],
   "source": [
    "nans = DATA.isnull().sum().to_dict()\n",
    "nans = pd.DataFrame({'feature': nans.keys(), 'numNan': nans.values()})"
   ]
  },
  {
   "cell_type": "code",
   "execution_count": 14,
   "metadata": {
    "collapsed": false
   },
   "outputs": [
    {
     "data": {
      "image/png": "[encoded data removed]",
      "text/plain": [
       "<matplotlib.figure.Figure at 0x1170d3990>"
      ]
     },
     "metadata": {},
     "output_type": "display_data"
    }
   ],
   "source": [
    "f, ax = plt.subplots(figsize=(40, 8))\n",
    "\n",
    "sbn.set_color_codes(\"pastel\")\n",
    "\n",
    "sbn.barplot(x=\"feature\", y=\"numNan\", data=nans, label=\"Null\", color=\"b\")\n",
    "\n",
    "ax.legend(ncol=2, loc=\"lower right\", frameon=True)\n",
    "\n",
    "ax.set(xlim=feature_window, ylabel=\"\", xlabel=\"Number of Null per features\")\n",
    "\n",
    "sbn.despine(left=True, bottom=True)"
   ]
  },
  {
   "cell_type": "code",
   "execution_count": 15,
   "metadata": {
    "collapsed": false
   },
   "outputs": [
    {
     "name": "stdout",
     "output_type": "stream",
     "text": [
      "The 3 five the most scattered features :[u'fundamental_5', u'fundamental_38', u'fundamental_6'] \n"
     ]
    }
   ],
   "source": [
    "print \"The 3 five the most scattered features :%s \"%nans.sort_values(\"numNan\", ascending=False)[\"feature\"][:3].tolist()"
   ]
  },
  {
   "cell_type": "raw",
   "metadata": {},
   "source": [
    "# fillNa for each features "
   ]
  },
  {
   "cell_type": "code",
   "execution_count": 16,
   "metadata": {
    "collapsed": false
   },
   "outputs": [
    {
     "data": {
      "text/html": [
       "<div>\n",
       "<table border=\"1\" class=\"dataframe\">\n",
       "  <thead>\n",
       "    <tr style=\"text-align: right;\">\n",
       "      <th></th>\n",
       "      <th>id</th>\n",
       "      <th>timestamp</th>\n",
       "      <th>derived_0</th>\n",
       "      <th>derived_1</th>\n",
       "      <th>derived_2</th>\n",
       "      <th>derived_3</th>\n",
       "      <th>derived_4</th>\n",
       "      <th>fundamental_0</th>\n",
       "      <th>fundamental_1</th>\n",
       "      <th>fundamental_2</th>\n",
       "      <th>...</th>\n",
       "      <th>technical_36</th>\n",
       "      <th>technical_37</th>\n",
       "      <th>technical_38</th>\n",
       "      <th>technical_39</th>\n",
       "      <th>technical_40</th>\n",
       "      <th>technical_41</th>\n",
       "      <th>technical_42</th>\n",
       "      <th>technical_43</th>\n",
       "      <th>technical_44</th>\n",
       "      <th>y</th>\n",
       "    </tr>\n",
       "  </thead>\n",
       "  <tbody>\n",
       "    <tr>\n",
       "      <th>0</th>\n",
       "      <td>10</td>\n",
       "      <td>0</td>\n",
       "      <td>0.370326</td>\n",
       "      <td>-6.316399e-03</td>\n",
       "      <td>0.222831</td>\n",
       "      <td>-0.213030</td>\n",
       "      <td>0.729277</td>\n",
       "      <td>-0.335633</td>\n",
       "      <td>1.132921e-01</td>\n",
       "      <td>1.621238</td>\n",
       "      <td>...</td>\n",
       "      <td>0.775208</td>\n",
       "      <td>-0.091034</td>\n",
       "      <td>-0.081567</td>\n",
       "      <td>-0.07287</td>\n",
       "      <td>-0.414776</td>\n",
       "      <td>0.005236</td>\n",
       "      <td>-0.017</td>\n",
       "      <td>-2.0</td>\n",
       "      <td>0.000388</td>\n",
       "      <td>-0.011753</td>\n",
       "    </tr>\n",
       "    <tr>\n",
       "      <th>1</th>\n",
       "      <td>11</td>\n",
       "      <td>0</td>\n",
       "      <td>0.014765</td>\n",
       "      <td>-3.806422e-02</td>\n",
       "      <td>-0.017425</td>\n",
       "      <td>0.320652</td>\n",
       "      <td>-0.034134</td>\n",
       "      <td>0.004413</td>\n",
       "      <td>1.142851e-01</td>\n",
       "      <td>-0.210185</td>\n",
       "      <td>...</td>\n",
       "      <td>0.025590</td>\n",
       "      <td>-0.091034</td>\n",
       "      <td>-0.081567</td>\n",
       "      <td>-0.07287</td>\n",
       "      <td>-0.273607</td>\n",
       "      <td>0.005236</td>\n",
       "      <td>-0.017</td>\n",
       "      <td>-2.0</td>\n",
       "      <td>0.000388</td>\n",
       "      <td>-0.001240</td>\n",
       "    </tr>\n",
       "    <tr>\n",
       "      <th>2</th>\n",
       "      <td>12</td>\n",
       "      <td>0</td>\n",
       "      <td>-0.010622</td>\n",
       "      <td>-5.057707e-02</td>\n",
       "      <td>3.379575</td>\n",
       "      <td>-0.157525</td>\n",
       "      <td>-0.068550</td>\n",
       "      <td>-0.155937</td>\n",
       "      <td>1.219439e+00</td>\n",
       "      <td>-0.764516</td>\n",
       "      <td>...</td>\n",
       "      <td>0.151881</td>\n",
       "      <td>-0.091034</td>\n",
       "      <td>-0.081567</td>\n",
       "      <td>-0.07287</td>\n",
       "      <td>-0.175710</td>\n",
       "      <td>0.005236</td>\n",
       "      <td>-0.017</td>\n",
       "      <td>-2.0</td>\n",
       "      <td>0.000388</td>\n",
       "      <td>-0.020940</td>\n",
       "    </tr>\n",
       "    <tr>\n",
       "      <th>3</th>\n",
       "      <td>25</td>\n",
       "      <td>0</td>\n",
       "      <td>-4.536046</td>\n",
       "      <td>7.729436e+11</td>\n",
       "      <td>-0.332033</td>\n",
       "      <td>-0.504601</td>\n",
       "      <td>18.016613</td>\n",
       "      <td>0.178495</td>\n",
       "      <td>-5.703754e+08</td>\n",
       "      <td>-0.007262</td>\n",
       "      <td>...</td>\n",
       "      <td>1.035936</td>\n",
       "      <td>-0.091034</td>\n",
       "      <td>-0.081567</td>\n",
       "      <td>-0.07287</td>\n",
       "      <td>-0.211506</td>\n",
       "      <td>0.005236</td>\n",
       "      <td>-0.017</td>\n",
       "      <td>-2.0</td>\n",
       "      <td>0.000388</td>\n",
       "      <td>-0.015959</td>\n",
       "    </tr>\n",
       "    <tr>\n",
       "      <th>4</th>\n",
       "      <td>26</td>\n",
       "      <td>0</td>\n",
       "      <td>0.176693</td>\n",
       "      <td>-2.528418e-02</td>\n",
       "      <td>-0.057680</td>\n",
       "      <td>0.015100</td>\n",
       "      <td>0.180894</td>\n",
       "      <td>0.139445</td>\n",
       "      <td>-1.256869e-01</td>\n",
       "      <td>-0.018707</td>\n",
       "      <td>...</td>\n",
       "      <td>0.630232</td>\n",
       "      <td>-0.091034</td>\n",
       "      <td>-0.081567</td>\n",
       "      <td>-0.07287</td>\n",
       "      <td>-0.001957</td>\n",
       "      <td>0.005236</td>\n",
       "      <td>-0.017</td>\n",
       "      <td>0.0</td>\n",
       "      <td>0.000388</td>\n",
       "      <td>-0.007338</td>\n",
       "    </tr>\n",
       "  </tbody>\n",
       "</table>\n",
       "<p>5 rows × 111 columns</p>\n",
       "</div>"
      ],
      "text/plain": [
       "   id  timestamp  derived_0     derived_1  derived_2  derived_3  derived_4  \\\n",
       "0  10          0   0.370326 -6.316399e-03   0.222831  -0.213030   0.729277   \n",
       "1  11          0   0.014765 -3.806422e-02  -0.017425   0.320652  -0.034134   \n",
       "2  12          0  -0.010622 -5.057707e-02   3.379575  -0.157525  -0.068550   \n",
       "3  25          0  -4.536046  7.729436e+11  -0.332033  -0.504601  18.016613   \n",
       "4  26          0   0.176693 -2.528418e-02  -0.057680   0.015100   0.180894   \n",
       "\n",
       "   fundamental_0  fundamental_1  fundamental_2    ...     technical_36  \\\n",
       "0      -0.335633   1.132921e-01       1.621238    ...         0.775208   \n",
       "1       0.004413   1.142851e-01      -0.210185    ...         0.025590   \n",
       "2      -0.155937   1.219439e+00      -0.764516    ...         0.151881   \n",
       "3       0.178495  -5.703754e+08      -0.007262    ...         1.035936   \n",
       "4       0.139445  -1.256869e-01      -0.018707    ...         0.630232   \n",
       "\n",
       "   technical_37  technical_38  technical_39  technical_40  technical_41  \\\n",
       "0     -0.091034     -0.081567      -0.07287     -0.414776      0.005236   \n",
       "1     -0.091034     -0.081567      -0.07287     -0.273607      0.005236   \n",
       "2     -0.091034     -0.081567      -0.07287     -0.175710      0.005236   \n",
       "3     -0.091034     -0.081567      -0.07287     -0.211506      0.005236   \n",
       "4     -0.091034     -0.081567      -0.07287     -0.001957      0.005236   \n",
       "\n",
       "   technical_42  technical_43  technical_44         y  \n",
       "0        -0.017          -2.0      0.000388 -0.011753  \n",
       "1        -0.017          -2.0      0.000388 -0.001240  \n",
       "2        -0.017          -2.0      0.000388 -0.020940  \n",
       "3        -0.017          -2.0      0.000388 -0.015959  \n",
       "4        -0.017           0.0      0.000388 -0.007338  \n",
       "\n",
       "[5 rows x 111 columns]"
      ]
     },
     "execution_count": 16,
     "metadata": {},
     "output_type": "execute_result"
    }
   ],
   "source": [
    "DATA_MEANS = DATA.mean()\n",
    "DATA.fillna(DATA_MEANS, inplace=True)\n",
    "DATA.head()"
   ]
  },
  {
   "cell_type": "code",
   "execution_count": 17,
   "metadata": {
    "collapsed": true
   },
   "outputs": [],
   "source": [
    "r = DATA.corr()[\"y\"]"
   ]
  },
  {
   "cell_type": "code",
   "execution_count": 18,
   "metadata": {
    "collapsed": false
   },
   "outputs": [
    {
     "name": "stdout",
     "output_type": "stream",
     "text": [
      "technical_0       0.004280\n",
      "fundamental_18    0.005079\n",
      "fundamental_51    0.005243\n",
      "fundamental_53    0.005945\n",
      "fundamental_11    0.007381\n",
      "technical_30      0.014248\n",
      "Name: y, dtype: float64\n"
     ]
    }
   ],
   "source": [
    "print r.sort_values()[104:-1]\n",
    "features = r.sort_values()[104:-1].keys()"
   ]
  },
  {
   "cell_type": "code",
   "execution_count": 19,
   "metadata": {
    "collapsed": false
   },
   "outputs": [
    {
     "data": {
      "text/plain": [
       "0.0012459407"
      ]
     },
     "execution_count": 19,
     "metadata": {},
     "output_type": "execute_result"
    }
   ],
   "source": [
    "DATA_MEANS.technical_30"
   ]
  },
  {
   "cell_type": "code",
   "execution_count": 20,
   "metadata": {
    "collapsed": false
   },
   "outputs": [
    {
     "data": {
      "text/plain": [
       "<seaborn.axisgrid.PairGrid at 0x1451f46d0>"
      ]
     },
     "execution_count": 20,
     "metadata": {},
     "output_type": "execute_result"
    },
    {
     "data": {
      "image/png": "[encoded data removed]",
      "text/plain": [
       "<matplotlib.figure.Figure at 0x145300050>"
      ]
     },
     "metadata": {},
     "output_type": "display_data"
    }
   ],
   "source": [
    "sbn.pairplot(DATA[0:1000], kind=\"reg\", size=4.0, y_vars=[\"y\"],\n",
    "            x_vars=[\"technical_30\", \"fundamental_11\", 'fundamental_53'])"
   ]
  },
  {
   "cell_type": "markdown",
   "metadata": {},
   "source": [
    "### Data Sampling"
   ]
  },
  {
   "cell_type": "code",
   "execution_count": 21,
   "metadata": {
    "collapsed": true
   },
   "outputs": [],
   "source": [
    "DATA_TRAIN, DATA_VALID = train_test_split(DATA, test_size=0.2, random_state=42)"
   ]
  },
  {
   "cell_type": "code",
   "execution_count": 22,
   "metadata": {
    "collapsed": false
   },
   "outputs": [
    {
     "name": "stdout",
     "output_type": "stream",
     "text": [
      "Number of data points on the trainning  set :\t1368604\n",
      "Number of data points on the validation set :\t342152\n"
     ]
    }
   ],
   "source": [
    "print \"Number of data points on the trainning  set :\\t\",len(DATA_TRAIN)\n",
    "print \"Number of data points on the validation set :\\t\",len(DATA_VALID)"
   ]
  },
  {
   "cell_type": "markdown",
   "metadata": {},
   "source": [
    "### Fitting the firts model"
   ]
  },
  {
   "cell_type": "markdown",
   "metadata": {},
   "source": [
    "> *Mais?! il est ou le model... * "
   ]
  },
  {
   "cell_type": "markdown",
   "metadata": {},
   "source": [
    "### Linear Model"
   ]
  },
  {
   "cell_type": "code",
   "execution_count": 23,
   "metadata": {
    "collapsed": false
   },
   "outputs": [
    {
     "name": "stdout",
     "output_type": "stream",
     "text": [
      "Univariate Linear Regression\n",
      "technical_0: Score ~> 0.00155470\n",
      "fundamental_18: Score ~> 0.00414287\n",
      "fundamental_51: Score ~> 0.00806597\n",
      "fundamental_53: Score ~> 0.00676562\n",
      "fundamental_11: Score ~> 0.01059306\n",
      "technical_30: Score ~> 0.01618535\n"
     ]
    }
   ],
   "source": [
    "print \"Univariate Linear Regression\"\n",
    "for f in features: \n",
    "    lm = LinearRegression()\n",
    "    lm.fit(X=DATA_TRAIN[[f]], y=DATA_TRAIN[\"y\"])\n",
    "    print f + \": Score ~> %.8f\"%r_score(lm, DATA_VALID[[f]],DATA_VALID.y)    "
   ]
  },
  {
   "cell_type": "markdown",
   "metadata": {},
   "source": [
    "### Multi Linear Model"
   ]
  },
  {
   "cell_type": "code",
   "execution_count": 24,
   "metadata": {
    "collapsed": false
   },
   "outputs": [
    {
     "name": "stdout",
     "output_type": "stream",
     "text": [
      "[u'technical_30']\n",
      "Score : 0.01616385\n",
      "[u'fundamental_11', u'technical_30']\n",
      "Score : 0.02007021\n",
      "[u'fundamental_53', u'fundamental_11', u'technical_30']\n",
      "Score : 0.02129935\n",
      "[u'fundamental_51', u'fundamental_53', u'fundamental_11', u'technical_30']\n",
      "Score : 0.02135462\n",
      "[u'fundamental_18', u'fundamental_51', u'fundamental_53', u'fundamental_11', u'technical_30']\n",
      "Score : 0.02115850\n",
      "[u'technical_0', u'fundamental_18', u'fundamental_51', u'fundamental_53', u'fundamental_11', u'technical_30']\n",
      "Score : 0.02110112\n"
     ]
    }
   ],
   "source": [
    "for  f, feature in enumerate(features): \n",
    "    f += 1\n",
    "    scope = features[-f:].tolist()\n",
    "    lmr = RidgeCV(cv=8)\n",
    "    lmr.fit(X=DATA_TRAIN[scope], y=DATA_TRAIN[\"y\"])\n",
    "    print scope\n",
    "    print \"Score : %.8f\"%r_score(lmr, DATA_VALID[scope], DATA_VALID[\"y\"])\n",
    "    "
   ]
  },
  {
   "cell_type": "markdown",
   "metadata": {},
   "source": [
    "### Polinomial Features"
   ]
  },
  {
   "cell_type": "code",
   "execution_count": 25,
   "metadata": {
    "collapsed": false,
    "scrolled": false
   },
   "outputs": [
    {
     "name": "stdout",
     "output_type": "stream",
     "text": [
      "Power: 1, score: 0.02007021\n",
      "Power: 2, score: 0.01958942\n",
      "Power: 3, score: 0.01790884\n",
      "Power: 4, score: 0.01827278\n"
     ]
    }
   ],
   "source": [
    "POLY_RESULT = list()\n",
    "feature = ['technical_30', 'fundamental_11']\n",
    "for n in range(1,5):\n",
    "    lmp = RidgeCV(cv=12, gcv_mode='svd')    \n",
    "    lmp.fit(make_plynomial_df(DATA_TRAIN[feature], n), DATA_TRAIN.y)\n",
    "    tmp_score = r_score(lmp, make_plynomial_df(DATA_VALID[feature], n), DATA_VALID.y)\n",
    "    POLY_RESULT.append(tmp_score)\n",
    "    if n <= 10:\n",
    "        print \"Power: %i, score: %.8f\"%(n, tmp_score)"
   ]
  },
  {
   "cell_type": "code",
   "execution_count": null,
   "metadata": {
    "collapsed": true
   },
   "outputs": [],
   "source": []
  },
  {
   "cell_type": "code",
   "execution_count": null,
   "metadata": {
    "collapsed": true
   },
   "outputs": [],
   "source": []
  },
  {
   "cell_type": "code",
   "execution_count": 27,
   "metadata": {
    "collapsed": false
   },
   "outputs": [],
   "source": [
    "#DATA_VALID['technical_30'][2000], [x for x in range(0,2000,1)]"
   ]
  },
  {
   "cell_type": "code",
   "execution_count": 28,
   "metadata": {
    "collapsed": false
   },
   "outputs": [],
   "source": [
    "sbn.set(style=\"ticks\")"
   ]
  },
  {
   "cell_type": "code",
   "execution_count": 29,
   "metadata": {
    "collapsed": false
   },
   "outputs": [
    {
     "data": {
      "text/plain": [
       "<matplotlib.axes._subplots.AxesSubplot at 0x1455aa2d0>"
      ]
     },
     "execution_count": 29,
     "metadata": {},
     "output_type": "execute_result"
    },
    {
     "data": {
      "image/png": "[encoded data removed]",
      "text/plain": [
       "<matplotlib.figure.Figure at 0x1455a6c10>"
      ]
     },
     "metadata": {},
     "output_type": "display_data"
    }
   ],
   "source": [
    "sbn.stripplot(x=\"technical_30\", y=\"y\", data=DATA_TRAIN[:1000])\n",
    "# color=sbn.xkcd_rgb[\"cool blue\"]"
   ]
  },
  {
   "cell_type": "code",
   "execution_count": 30,
   "metadata": {
    "collapsed": true
   },
   "outputs": [],
   "source": [
    "lm = RidgeCV(cv=8, gcv_mode=\"svd\")\n",
    "#lm = SGDRegressor(penalty=\"l2\", learning_rate=\"optimal\")"
   ]
  },
  {
   "cell_type": "code",
   "execution_count": 31,
   "metadata": {
    "collapsed": false
   },
   "outputs": [
    {
     "data": {
      "text/plain": [
       "RidgeCV(alphas=(0.1, 1.0, 10.0), cv=8, fit_intercept=True, gcv_mode='svd',\n",
       "    normalize=False, scoring=None, store_cv_values=False)"
      ]
     },
     "execution_count": 31,
     "metadata": {},
     "output_type": "execute_result"
    }
   ],
   "source": [
    "lm.fit(X=DATA_TRAIN[features], y=DATA_TRAIN[\"y\"])"
   ]
  },
  {
   "cell_type": "code",
   "execution_count": 32,
   "metadata": {
    "collapsed": false
   },
   "outputs": [
    {
     "data": {
      "text/plain": [
       "0.0004452573558663131"
      ]
     },
     "execution_count": 32,
     "metadata": {},
     "output_type": "execute_result"
    }
   ],
   "source": [
    "lm.score(DATA_VALID[features], y=DATA_VALID[\"y\"])"
   ]
  },
  {
   "cell_type": "code",
   "execution_count": 33,
   "metadata": {
    "collapsed": false
   },
   "outputs": [
    {
     "data": {
      "text/plain": [
       "0.0004452573558663131"
      ]
     },
     "execution_count": 33,
     "metadata": {},
     "output_type": "execute_result"
    }
   ],
   "source": [
    "lm.score(DATA_VALID[features], y=DATA_VALID[\"y\"])"
   ]
  },
  {
   "cell_type": "code",
   "execution_count": 34,
   "metadata": {
    "collapsed": false
   },
   "outputs": [],
   "source": [
    "poly = PolynomialFeatures(2)\n",
    "POLY_DATA_TRAIN = poly.fit_transform(DATA_TRAIN[features])\n",
    "POLY_DATA_VALID = poly.fit_transform(DATA_VALID[features])"
   ]
  },
  {
   "cell_type": "code",
   "execution_count": null,
   "metadata": {
    "collapsed": false
   },
   "outputs": [],
   "source": [
    "lm.fit(X=pd.DataFrame(POLY_DATA_TRAIN), y=POLY_DATA_VALID[\"y\"])"
   ]
  },
  {
   "cell_type": "code",
   "execution_count": 37,
   "metadata": {
    "collapsed": false
   },
   "outputs": [
    {
     "data": {
      "text/html": [
       "<div>\n",
       "<table border=\"1\" class=\"dataframe\">\n",
       "  <thead>\n",
       "    <tr style=\"text-align: right;\">\n",
       "      <th></th>\n",
       "      <th>technical_0</th>\n",
       "      <th>fundamental_18</th>\n",
       "      <th>fundamental_51</th>\n",
       "      <th>fundamental_53</th>\n",
       "      <th>fundamental_11</th>\n",
       "      <th>technical_30</th>\n",
       "    </tr>\n",
       "  </thead>\n",
       "  <tbody>\n",
       "    <tr>\n",
       "      <th>1547084</th>\n",
       "      <td>-1.000000</td>\n",
       "      <td>-5.349580</td>\n",
       "      <td>-0.305044</td>\n",
       "      <td>0.176273</td>\n",
       "      <td>-18.108379</td>\n",
       "      <td>0.000000</td>\n",
       "    </tr>\n",
       "    <tr>\n",
       "      <th>46691</th>\n",
       "      <td>0.000000</td>\n",
       "      <td>0.647519</td>\n",
       "      <td>0.036735</td>\n",
       "      <td>0.326105</td>\n",
       "      <td>0.955911</td>\n",
       "      <td>0.004960</td>\n",
       "    </tr>\n",
       "    <tr>\n",
       "      <th>8743</th>\n",
       "      <td>-0.109202</td>\n",
       "      <td>-0.040132</td>\n",
       "      <td>0.324943</td>\n",
       "      <td>-0.123799</td>\n",
       "      <td>-0.253491</td>\n",
       "      <td>0.004730</td>\n",
       "    </tr>\n",
       "    <tr>\n",
       "      <th>4190</th>\n",
       "      <td>-0.109202</td>\n",
       "      <td>-0.361865</td>\n",
       "      <td>0.045393</td>\n",
       "      <td>-0.435243</td>\n",
       "      <td>-0.430554</td>\n",
       "      <td>0.004489</td>\n",
       "    </tr>\n",
       "    <tr>\n",
       "      <th>892780</th>\n",
       "      <td>-0.000022</td>\n",
       "      <td>-1.121807</td>\n",
       "      <td>-0.008689</td>\n",
       "      <td>0.369749</td>\n",
       "      <td>0.046858</td>\n",
       "      <td>0.000000</td>\n",
       "    </tr>\n",
       "  </tbody>\n",
       "</table>\n",
       "</div>"
      ],
      "text/plain": [
       "         technical_0  fundamental_18  fundamental_51  fundamental_53  \\\n",
       "1547084    -1.000000       -5.349580       -0.305044        0.176273   \n",
       "46691       0.000000        0.647519        0.036735        0.326105   \n",
       "8743       -0.109202       -0.040132        0.324943       -0.123799   \n",
       "4190       -0.109202       -0.361865        0.045393       -0.435243   \n",
       "892780     -0.000022       -1.121807       -0.008689        0.369749   \n",
       "\n",
       "         fundamental_11  technical_30  \n",
       "1547084      -18.108379      0.000000  \n",
       "46691          0.955911      0.004960  \n",
       "8743          -0.253491      0.004730  \n",
       "4190          -0.430554      0.004489  \n",
       "892780         0.046858      0.000000  "
      ]
     },
     "execution_count": 37,
     "metadata": {},
     "output_type": "execute_result"
    }
   ],
   "source": [
    "#makePlynomialDf(DATA_TRAIN[features])\n",
    "DATA_TRAIN[features].head()"
   ]
  },
  {
   "cell_type": "code",
   "execution_count": 38,
   "metadata": {
    "collapsed": false
   },
   "outputs": [],
   "source": [
    "corrNonNul = {}\n",
    "\n",
    "for col in DATA.columns:\n",
    "    if col not in [\"id\", \"y\", \"timestamp\"]:\n",
    "        colSerie = DATA[[col, \"y\"]].dropna()\n",
    "        corrNonNul[col] = colSerie.corr()[\"y\"][col]\n",
    "\n",
    "corrNonNul = pd.Series(corrNonNul)"
   ]
  },
  {
   "cell_type": "code",
   "execution_count": null,
   "metadata": {
    "collapsed": true
   },
   "outputs": [],
   "source": []
  }
 ],
 "metadata": {
  "kernelspec": {
   "display_name": "Python 2",
   "language": "python",
   "name": "python2"
  },
  "language_info": {
   "codemirror_mode": {
    "name": "ipython",
    "version": 2
   },
   "file_extension": ".py",
   "mimetype": "text/x-python",
   "name": "python",
   "nbconvert_exporter": "python",
   "pygments_lexer": "ipython2",
   "version": "2.7.12"
  }
 },
 "nbformat": 4,
 "nbformat_minor": 0
}
