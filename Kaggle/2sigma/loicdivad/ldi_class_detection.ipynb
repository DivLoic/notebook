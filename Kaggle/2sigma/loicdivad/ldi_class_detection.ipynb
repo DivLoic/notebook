{
 "cells": [
  {
   "cell_type": "code",
   "execution_count": 1,
   "metadata": {
    "collapsed": true
   },
   "outputs": [],
   "source": [
    "# conding: utf-8"
   ]
  },
  {
   "cell_type": "raw",
   "metadata": {},
   "source": [
    "\"\"\"\n",
    "    author: Loïc M. DIVAD\n",
    "    date: 2016-12-18\n",
    "    see also: https://www.kaggle.com/c/two-sigma-financial-modeling\n",
    "\"\"\""
   ]
  },
  {
   "cell_type": "markdown",
   "metadata": {},
   "source": [
    "### Imports"
   ]
  },
  {
   "cell_type": "code",
   "execution_count": 2,
   "metadata": {
    "collapsed": true
   },
   "outputs": [],
   "source": [
    "%matplotlib inline\n",
    "\n",
    "import math\n",
    "import numpy as np\n",
    "import pandas as pd\n",
    "import seaborn as sbn\n",
    "import matplotlib.pyplot as plt"
   ]
  },
  {
   "cell_type": "code",
   "execution_count": 3,
   "metadata": {
    "collapsed": true
   },
   "outputs": [],
   "source": [
    "from sklearn.metrics import r2_score\n",
    "from sklearn.preprocessing import PolynomialFeatures\n",
    "from sklearn.cross_validation import train_test_split\n",
    "from sklearn.linear_model import RidgeCV, LassoLarsCV, LinearRegression"
   ]
  },
  {
   "cell_type": "markdown",
   "metadata": {},
   "source": [
    "### Functions"
   ]
  },
  {
   "cell_type": "code",
   "execution_count": 63,
   "metadata": {
    "collapsed": false
   },
   "outputs": [
    {
     "name": "stdout",
     "output_type": "stream",
     "text": [
      "\n"
     ]
    }
   ],
   "source": [
    "def sign(a):\n",
    "    return -1 if a < 0 else 1\n",
    "\n",
    "def r_score(model, x, y):\n",
    "    \"\"\"\n",
    "        model: model fitted\n",
    "        x: target labels\n",
    "        y: target values\n",
    "    \"\"\"\n",
    "    r2 = model.score(x, y)\n",
    "    return sign(r2) * math.sqrt(abs(r2))"
   ]
  },
  {
   "cell_type": "markdown",
   "metadata": {},
   "source": [
    "### The dummy model"
   ]
  },
  {
   "cell_type": "code",
   "execution_count": 129,
   "metadata": {
    "collapsed": false
   },
   "outputs": [
    {
     "name": "stdout",
     "output_type": "stream",
     "text": [
      "THE DUMMY SCORE:  0.0213546205104\n"
     ]
    }
   ],
   "source": [
    "with pd.HDFStore(\"../data/train.h5\", \"r\") as data:\n",
    "    DATA = data.get(\"train\")\n",
    "\n",
    "MEANS = DATA.mean()\n",
    "DATA.fillna(MEANS, inplace=True)\n",
    "DATA_TRAIN, DATA_VALID = train_test_split(DATA, test_size=0.2, random_state=42)\n",
    "\n",
    "DUMMY_FEATURES = pd.Series([u'fundamental_51', u'fundamental_53', u'fundamental_11', u'technical_30'])\n",
    "ridge_model = RidgeCV(cv=8, gcv_mode='svd')\n",
    "ridge_model.fit(DATA_TRAIN[DUMMY_FEATURES], DATA_TRAIN.y)\n",
    "\n",
    "print \"THE DUMMY SCORE: \", r_score(ridge_model, DATA_VALID[DUMMY_FEATURES], DATA_VALID.y)\n"
   ]
  },
  {
   "cell_type": "code",
   "execution_count": null,
   "metadata": {
    "collapsed": true
   },
   "outputs": [],
   "source": []
  },
  {
   "cell_type": "markdown",
   "metadata": {},
   "source": [
    "### Data"
   ]
  },
  {
   "cell_type": "code",
   "execution_count": 77,
   "metadata": {
    "collapsed": true
   },
   "outputs": [],
   "source": [
    "with pd.HDFStore(\"../data/train.h5\", \"r\") as data:\n",
    "    DATA = data.get(\"train\")"
   ]
  },
  {
   "cell_type": "code",
   "execution_count": 78,
   "metadata": {
    "collapsed": false
   },
   "outputs": [
    {
     "data": {
      "text/html": [
       "<div>\n",
       "<table border=\"1\" class=\"dataframe\">\n",
       "  <thead>\n",
       "    <tr style=\"text-align: right;\">\n",
       "      <th></th>\n",
       "      <th>id</th>\n",
       "      <th>timestamp</th>\n",
       "      <th>derived_0</th>\n",
       "      <th>derived_1</th>\n",
       "      <th>derived_2</th>\n",
       "      <th>derived_3</th>\n",
       "      <th>derived_4</th>\n",
       "      <th>fundamental_0</th>\n",
       "      <th>fundamental_1</th>\n",
       "      <th>fundamental_2</th>\n",
       "      <th>...</th>\n",
       "      <th>technical_36</th>\n",
       "      <th>technical_37</th>\n",
       "      <th>technical_38</th>\n",
       "      <th>technical_39</th>\n",
       "      <th>technical_40</th>\n",
       "      <th>technical_41</th>\n",
       "      <th>technical_42</th>\n",
       "      <th>technical_43</th>\n",
       "      <th>technical_44</th>\n",
       "      <th>y</th>\n",
       "    </tr>\n",
       "  </thead>\n",
       "  <tbody>\n",
       "    <tr>\n",
       "      <th>0</th>\n",
       "      <td>10</td>\n",
       "      <td>0</td>\n",
       "      <td>0.370326</td>\n",
       "      <td>-0.006316</td>\n",
       "      <td>0.222831</td>\n",
       "      <td>-0.213030</td>\n",
       "      <td>0.729277</td>\n",
       "      <td>-0.335633</td>\n",
       "      <td>0.113292</td>\n",
       "      <td>1.621238</td>\n",
       "      <td>...</td>\n",
       "      <td>0.775208</td>\n",
       "      <td>NaN</td>\n",
       "      <td>NaN</td>\n",
       "      <td>NaN</td>\n",
       "      <td>-0.414776</td>\n",
       "      <td>NaN</td>\n",
       "      <td>NaN</td>\n",
       "      <td>-2.0</td>\n",
       "      <td>NaN</td>\n",
       "      <td>-0.011753</td>\n",
       "    </tr>\n",
       "    <tr>\n",
       "      <th>1</th>\n",
       "      <td>11</td>\n",
       "      <td>0</td>\n",
       "      <td>0.014765</td>\n",
       "      <td>-0.038064</td>\n",
       "      <td>-0.017425</td>\n",
       "      <td>0.320652</td>\n",
       "      <td>-0.034134</td>\n",
       "      <td>0.004413</td>\n",
       "      <td>0.114285</td>\n",
       "      <td>-0.210185</td>\n",
       "      <td>...</td>\n",
       "      <td>0.025590</td>\n",
       "      <td>NaN</td>\n",
       "      <td>NaN</td>\n",
       "      <td>NaN</td>\n",
       "      <td>-0.273607</td>\n",
       "      <td>NaN</td>\n",
       "      <td>NaN</td>\n",
       "      <td>-2.0</td>\n",
       "      <td>NaN</td>\n",
       "      <td>-0.001240</td>\n",
       "    </tr>\n",
       "    <tr>\n",
       "      <th>2</th>\n",
       "      <td>12</td>\n",
       "      <td>0</td>\n",
       "      <td>-0.010622</td>\n",
       "      <td>-0.050577</td>\n",
       "      <td>3.379575</td>\n",
       "      <td>-0.157525</td>\n",
       "      <td>-0.068550</td>\n",
       "      <td>-0.155937</td>\n",
       "      <td>1.219439</td>\n",
       "      <td>-0.764516</td>\n",
       "      <td>...</td>\n",
       "      <td>0.151881</td>\n",
       "      <td>NaN</td>\n",
       "      <td>NaN</td>\n",
       "      <td>NaN</td>\n",
       "      <td>-0.175710</td>\n",
       "      <td>NaN</td>\n",
       "      <td>NaN</td>\n",
       "      <td>-2.0</td>\n",
       "      <td>NaN</td>\n",
       "      <td>-0.020940</td>\n",
       "    </tr>\n",
       "    <tr>\n",
       "      <th>3</th>\n",
       "      <td>25</td>\n",
       "      <td>0</td>\n",
       "      <td>NaN</td>\n",
       "      <td>NaN</td>\n",
       "      <td>NaN</td>\n",
       "      <td>NaN</td>\n",
       "      <td>NaN</td>\n",
       "      <td>0.178495</td>\n",
       "      <td>NaN</td>\n",
       "      <td>-0.007262</td>\n",
       "      <td>...</td>\n",
       "      <td>1.035936</td>\n",
       "      <td>NaN</td>\n",
       "      <td>NaN</td>\n",
       "      <td>NaN</td>\n",
       "      <td>-0.211506</td>\n",
       "      <td>NaN</td>\n",
       "      <td>NaN</td>\n",
       "      <td>-2.0</td>\n",
       "      <td>NaN</td>\n",
       "      <td>-0.015959</td>\n",
       "    </tr>\n",
       "    <tr>\n",
       "      <th>4</th>\n",
       "      <td>26</td>\n",
       "      <td>0</td>\n",
       "      <td>0.176693</td>\n",
       "      <td>-0.025284</td>\n",
       "      <td>-0.057680</td>\n",
       "      <td>0.015100</td>\n",
       "      <td>0.180894</td>\n",
       "      <td>0.139445</td>\n",
       "      <td>-0.125687</td>\n",
       "      <td>-0.018707</td>\n",
       "      <td>...</td>\n",
       "      <td>0.630232</td>\n",
       "      <td>NaN</td>\n",
       "      <td>NaN</td>\n",
       "      <td>NaN</td>\n",
       "      <td>-0.001957</td>\n",
       "      <td>NaN</td>\n",
       "      <td>NaN</td>\n",
       "      <td>0.0</td>\n",
       "      <td>NaN</td>\n",
       "      <td>-0.007338</td>\n",
       "    </tr>\n",
       "  </tbody>\n",
       "</table>\n",
       "<p>5 rows × 111 columns</p>\n",
       "</div>"
      ],
      "text/plain": [
       "   id  timestamp  derived_0  derived_1  derived_2  derived_3  derived_4  \\\n",
       "0  10          0   0.370326  -0.006316   0.222831  -0.213030   0.729277   \n",
       "1  11          0   0.014765  -0.038064  -0.017425   0.320652  -0.034134   \n",
       "2  12          0  -0.010622  -0.050577   3.379575  -0.157525  -0.068550   \n",
       "3  25          0        NaN        NaN        NaN        NaN        NaN   \n",
       "4  26          0   0.176693  -0.025284  -0.057680   0.015100   0.180894   \n",
       "\n",
       "   fundamental_0  fundamental_1  fundamental_2    ...     technical_36  \\\n",
       "0      -0.335633       0.113292       1.621238    ...         0.775208   \n",
       "1       0.004413       0.114285      -0.210185    ...         0.025590   \n",
       "2      -0.155937       1.219439      -0.764516    ...         0.151881   \n",
       "3       0.178495            NaN      -0.007262    ...         1.035936   \n",
       "4       0.139445      -0.125687      -0.018707    ...         0.630232   \n",
       "\n",
       "   technical_37  technical_38  technical_39  technical_40  technical_41  \\\n",
       "0           NaN           NaN           NaN     -0.414776           NaN   \n",
       "1           NaN           NaN           NaN     -0.273607           NaN   \n",
       "2           NaN           NaN           NaN     -0.175710           NaN   \n",
       "3           NaN           NaN           NaN     -0.211506           NaN   \n",
       "4           NaN           NaN           NaN     -0.001957           NaN   \n",
       "\n",
       "   technical_42  technical_43  technical_44         y  \n",
       "0           NaN          -2.0           NaN -0.011753  \n",
       "1           NaN          -2.0           NaN -0.001240  \n",
       "2           NaN          -2.0           NaN -0.020940  \n",
       "3           NaN          -2.0           NaN -0.015959  \n",
       "4           NaN           0.0           NaN -0.007338  \n",
       "\n",
       "[5 rows x 111 columns]"
      ]
     },
     "execution_count": 78,
     "metadata": {},
     "output_type": "execute_result"
    }
   ],
   "source": [
    "DATA.head()"
   ]
  },
  {
   "cell_type": "code",
   "execution_count": 111,
   "metadata": {
    "collapsed": true
   },
   "outputs": [],
   "source": [
    "non_tranning_features = [\"id\", \"y\", \"timestamp\"] "
   ]
  },
  {
   "cell_type": "code",
   "execution_count": 112,
   "metadata": {
    "collapsed": false
   },
   "outputs": [
    {
     "name": "stdout",
     "output_type": "stream",
     "text": [
      "Number of entries :\t  1710756\n",
      "Number of features :\t  109\n"
     ]
    }
   ],
   "source": [
    "print \"Number of entries :\\t \",len(DATA)\n",
    "print \"Number of features :\\t \",len(DATA.columns) - 2 #- non-features: id & y"
   ]
  },
  {
   "cell_type": "code",
   "execution_count": 113,
   "metadata": {
    "collapsed": false
   },
   "outputs": [
    {
     "name": "stdout",
     "output_type": "stream",
     "text": [
      "Number of nan values in the technical_30 column:  4764\n",
      "Number of valid values in the technical_30 column:  1705992\n"
     ]
    }
   ],
   "source": [
    "DATA_TECH_30 = DATA[(pd.isnull(DATA.technical_30) == False)]\n",
    "print \"Number of nan values in the technical_30 column: \",DATA.technical_30.isnull().sum()\n",
    "print \"Number of valid values in the technical_30 column: \",len(DATA_TECH_30)"
   ]
  },
  {
   "cell_type": "code",
   "execution_count": 114,
   "metadata": {
    "collapsed": false
   },
   "outputs": [
    {
     "data": {
      "text/plain": [
       "Index([u'id', u'technical_40', u'technical_34', u'technical_30',\n",
       "       u'technical_22', u'technical_21', u'technical_20', u'technical_13',\n",
       "       u'technical_7', u'y', u'timestamp'],\n",
       "      dtype='object')"
      ]
     },
     "execution_count": 114,
     "metadata": {},
     "output_type": "execute_result"
    }
   ],
   "source": [
    "features_30 = (DATA_TECH_30.isnull().sum().sort_values()[:11].keys())\n",
    "features_30"
   ]
  },
  {
   "cell_type": "code",
   "execution_count": 115,
   "metadata": {
    "collapsed": false
   },
   "outputs": [],
   "source": [
    "DATA_TECH_30 = DATA_TECH_30[(features_30 | DUMMY_FEATURES).unique()]"
   ]
  },
  {
   "cell_type": "raw",
   "metadata": {},
   "source": [
    "DATA_TECH_30 = DATA_TECH_30[features_30]\n",
    "DATA_TECH_30_ZERO_20 = DATA_TECH_30[((DATA_TECH_30.technical_20) != np.float(0))]\n",
    "DATA_TECH_30_ZERO_13 = DATA_TECH_30[((DATA_TECH_30.technical_13) != np.float(0))]\n",
    "DATA_TECH_30_ZERO_13_20 = DATA_TECH_30[\n",
    "        (DATA_TECH_30.technical_13 == np.float(0)) & ((DATA_TECH_30.technical_20) == np.float(0))\n",
    "    ]\n",
    "print \"Dataframe without the default 0 on the technical_20 column : \",len(DATA_TECH_30_ZERO_20)\n",
    "print \"Dataframe without the default 0 on the technical_13 column : \",len(DATA_TECH_30_ZERO_13)\n",
    "print \"Dataframe without the default 0 on the technical_13&20 column : \",len(DATA_TECH_30_ZERO_13_20)"
   ]
  },
  {
   "cell_type": "code",
   "execution_count": 117,
   "metadata": {
    "collapsed": false
   },
   "outputs": [
    {
     "name": "stdout",
     "output_type": "stream",
     "text": [
      "Number of zeros in id : 1638\n",
      "Number of zeros in technical_40 : 0\n",
      "Number of zeros in technical_34 : 566128\n",
      "Number of zeros in technical_30 : 1137099\n",
      "Number of zeros in technical_22 : 569167\n",
      "Number of zeros in technical_21 : 0\n",
      "Number of zeros in technical_20 : 1139564\n",
      "Number of zeros in technical_13 : 1135321\n",
      "Number of zeros in technical_7 : 22257\n",
      "Number of zeros in y : 15\n",
      "Number of zeros in timestamp : 749\n"
     ]
    }
   ],
   "source": [
    "#DATA_TECH_30 = DATA_TECH_30[(DATA_TECH_30.technical_30 != 0)] \n",
    "for f in features_30:\n",
    "    print \"Number of zeros in %s : %i\"%(f,(DATA_TECH_30[f] == 0).astype(int).sum())"
   ]
  },
  {
   "cell_type": "code",
   "execution_count": 44,
   "metadata": {
    "collapsed": false
   },
   "outputs": [
    {
     "data": {
      "text/plain": [
       "<matplotlib.axes._subplots.AxesSubplot at 0x17a6ffd10>"
      ]
     },
     "execution_count": 44,
     "metadata": {},
     "output_type": "execute_result"
    },
    {
     "data": {
      "image/png": "[encoded data removed]",
      "text/plain": [
       "<matplotlib.figure.Figure at 0x179b56cd0>"
      ]
     },
     "metadata": {},
     "output_type": "display_data"
    }
   ],
   "source": [
    "sbn.distplot(DATA.y)"
   ]
  },
  {
   "cell_type": "code",
   "execution_count": null,
   "metadata": {
    "collapsed": false
   },
   "outputs": [],
   "source": [
    "# NO outlier\n",
    "DATA_TECH_30 = DATA_TECH_30[abs(DATA_TECH_30.y - np.mean(DATA_TECH_30.y)) < np.std(DATA.y) * 2.5]"
   ]
  },
  {
   "cell_type": "code",
   "execution_count": 56,
   "metadata": {
    "collapsed": false
   },
   "outputs": [
    {
     "data": {
      "text/html": [
       "<div>\n",
       "<table border=\"1\" class=\"dataframe\">\n",
       "  <thead>\n",
       "    <tr style=\"text-align: right;\">\n",
       "      <th></th>\n",
       "      <th>id</th>\n",
       "      <th>technical_40</th>\n",
       "      <th>technical_34</th>\n",
       "      <th>technical_30</th>\n",
       "      <th>technical_22</th>\n",
       "      <th>technical_21</th>\n",
       "      <th>technical_20</th>\n",
       "      <th>technical_13</th>\n",
       "      <th>technical_7</th>\n",
       "      <th>y</th>\n",
       "      <th>timestamp</th>\n",
       "    </tr>\n",
       "  </thead>\n",
       "  <tbody>\n",
       "    <tr>\n",
       "      <th>0</th>\n",
       "      <td>10</td>\n",
       "      <td>-0.414776</td>\n",
       "      <td>0.0</td>\n",
       "      <td>0.0</td>\n",
       "      <td>0.0</td>\n",
       "      <td>-0.142453</td>\n",
       "      <td>0.000000</td>\n",
       "      <td>0.001652</td>\n",
       "      <td>-0.273957</td>\n",
       "      <td>-0.011753</td>\n",
       "      <td>0</td>\n",
       "    </tr>\n",
       "    <tr>\n",
       "      <th>1</th>\n",
       "      <td>11</td>\n",
       "      <td>-0.273607</td>\n",
       "      <td>0.5</td>\n",
       "      <td>0.0</td>\n",
       "      <td>-0.5</td>\n",
       "      <td>-0.309356</td>\n",
       "      <td>0.000000</td>\n",
       "      <td>0.004317</td>\n",
       "      <td>-0.159432</td>\n",
       "      <td>-0.001240</td>\n",
       "      <td>0</td>\n",
       "    </tr>\n",
       "    <tr>\n",
       "      <th>2</th>\n",
       "      <td>12</td>\n",
       "      <td>-0.175710</td>\n",
       "      <td>-0.5</td>\n",
       "      <td>0.0</td>\n",
       "      <td>-0.5</td>\n",
       "      <td>0.122841</td>\n",
       "      <td>0.006942</td>\n",
       "      <td>0.000000</td>\n",
       "      <td>-0.227811</td>\n",
       "      <td>-0.020940</td>\n",
       "      <td>0</td>\n",
       "    </tr>\n",
       "    <tr>\n",
       "      <th>3</th>\n",
       "      <td>25</td>\n",
       "      <td>-0.211506</td>\n",
       "      <td>-0.5</td>\n",
       "      <td>0.0</td>\n",
       "      <td>0.0</td>\n",
       "      <td>0.812678</td>\n",
       "      <td>0.006766</td>\n",
       "      <td>0.000000</td>\n",
       "      <td>-0.106334</td>\n",
       "      <td>-0.015959</td>\n",
       "      <td>0</td>\n",
       "    </tr>\n",
       "    <tr>\n",
       "      <th>4</th>\n",
       "      <td>26</td>\n",
       "      <td>-0.001957</td>\n",
       "      <td>0.5</td>\n",
       "      <td>0.0</td>\n",
       "      <td>-0.5</td>\n",
       "      <td>-0.411145</td>\n",
       "      <td>0.006236</td>\n",
       "      <td>0.000000</td>\n",
       "      <td>0.000000</td>\n",
       "      <td>-0.007338</td>\n",
       "      <td>0</td>\n",
       "    </tr>\n",
       "  </tbody>\n",
       "</table>\n",
       "</div>"
      ],
      "text/plain": [
       "   id  technical_40  technical_34  technical_30  technical_22  technical_21  \\\n",
       "0  10     -0.414776           0.0           0.0           0.0     -0.142453   \n",
       "1  11     -0.273607           0.5           0.0          -0.5     -0.309356   \n",
       "2  12     -0.175710          -0.5           0.0          -0.5      0.122841   \n",
       "3  25     -0.211506          -0.5           0.0           0.0      0.812678   \n",
       "4  26     -0.001957           0.5           0.0          -0.5     -0.411145   \n",
       "\n",
       "   technical_20  technical_13  technical_7         y  timestamp  \n",
       "0      0.000000      0.001652    -0.273957 -0.011753          0  \n",
       "1      0.000000      0.004317    -0.159432 -0.001240          0  \n",
       "2      0.006942      0.000000    -0.227811 -0.020940          0  \n",
       "3      0.006766      0.000000    -0.106334 -0.015959          0  \n",
       "4      0.006236      0.000000     0.000000 -0.007338          0  "
      ]
     },
     "execution_count": 56,
     "metadata": {},
     "output_type": "execute_result"
    }
   ],
   "source": [
    "DATA_TECH_30.head()"
   ]
  },
  {
   "cell_type": "code",
   "execution_count": 57,
   "metadata": {
    "collapsed": false
   },
   "outputs": [
    {
     "data": {
      "text/html": [
       "<div>\n",
       "<table border=\"1\" class=\"dataframe\">\n",
       "  <thead>\n",
       "    <tr style=\"text-align: right;\">\n",
       "      <th></th>\n",
       "      <th>technical_40</th>\n",
       "      <th>technical_34</th>\n",
       "      <th>technical_30</th>\n",
       "      <th>technical_22</th>\n",
       "      <th>technical_21</th>\n",
       "      <th>technical_20</th>\n",
       "      <th>technical_13</th>\n",
       "      <th>technical_7</th>\n",
       "      <th>y</th>\n",
       "    </tr>\n",
       "  </thead>\n",
       "  <tbody>\n",
       "    <tr>\n",
       "      <th>technical_40</th>\n",
       "      <td>1.000000</td>\n",
       "      <td>0.123454</td>\n",
       "      <td>0.150921</td>\n",
       "      <td>0.609501</td>\n",
       "      <td>-0.001343</td>\n",
       "      <td>0.153541</td>\n",
       "      <td>-0.097789</td>\n",
       "      <td>0.669450</td>\n",
       "      <td>-0.020476</td>\n",
       "    </tr>\n",
       "    <tr>\n",
       "      <th>technical_34</th>\n",
       "      <td>0.123454</td>\n",
       "      <td>1.000000</td>\n",
       "      <td>0.008635</td>\n",
       "      <td>0.058385</td>\n",
       "      <td>-0.004083</td>\n",
       "      <td>-0.012769</td>\n",
       "      <td>-0.013231</td>\n",
       "      <td>0.076847</td>\n",
       "      <td>0.002147</td>\n",
       "    </tr>\n",
       "    <tr>\n",
       "      <th>technical_30</th>\n",
       "      <td>0.150921</td>\n",
       "      <td>0.008635</td>\n",
       "      <td>1.000000</td>\n",
       "      <td>0.202774</td>\n",
       "      <td>-0.066643</td>\n",
       "      <td>-0.236387</td>\n",
       "      <td>-0.225121</td>\n",
       "      <td>0.145220</td>\n",
       "      <td>0.001420</td>\n",
       "    </tr>\n",
       "    <tr>\n",
       "      <th>technical_22</th>\n",
       "      <td>0.609501</td>\n",
       "      <td>0.058385</td>\n",
       "      <td>0.202774</td>\n",
       "      <td>1.000000</td>\n",
       "      <td>0.001275</td>\n",
       "      <td>0.226626</td>\n",
       "      <td>-0.138570</td>\n",
       "      <td>0.533796</td>\n",
       "      <td>-0.017387</td>\n",
       "    </tr>\n",
       "    <tr>\n",
       "      <th>technical_21</th>\n",
       "      <td>-0.001343</td>\n",
       "      <td>-0.004083</td>\n",
       "      <td>-0.066643</td>\n",
       "      <td>0.001275</td>\n",
       "      <td>1.000000</td>\n",
       "      <td>0.042192</td>\n",
       "      <td>-0.001787</td>\n",
       "      <td>0.004637</td>\n",
       "      <td>0.002630</td>\n",
       "    </tr>\n",
       "    <tr>\n",
       "      <th>technical_20</th>\n",
       "      <td>0.153541</td>\n",
       "      <td>-0.012769</td>\n",
       "      <td>-0.236387</td>\n",
       "      <td>0.226626</td>\n",
       "      <td>0.042192</td>\n",
       "      <td>1.000000</td>\n",
       "      <td>-0.252662</td>\n",
       "      <td>0.156109</td>\n",
       "      <td>-0.022041</td>\n",
       "    </tr>\n",
       "    <tr>\n",
       "      <th>technical_13</th>\n",
       "      <td>-0.097789</td>\n",
       "      <td>-0.013231</td>\n",
       "      <td>-0.225121</td>\n",
       "      <td>-0.138570</td>\n",
       "      <td>-0.001787</td>\n",
       "      <td>-0.252662</td>\n",
       "      <td>1.000000</td>\n",
       "      <td>-0.073972</td>\n",
       "      <td>0.002297</td>\n",
       "    </tr>\n",
       "    <tr>\n",
       "      <th>technical_7</th>\n",
       "      <td>0.669450</td>\n",
       "      <td>0.076847</td>\n",
       "      <td>0.145220</td>\n",
       "      <td>0.533796</td>\n",
       "      <td>0.004637</td>\n",
       "      <td>0.156109</td>\n",
       "      <td>-0.073972</td>\n",
       "      <td>1.000000</td>\n",
       "      <td>-0.016377</td>\n",
       "    </tr>\n",
       "    <tr>\n",
       "      <th>y</th>\n",
       "      <td>-0.020476</td>\n",
       "      <td>0.002147</td>\n",
       "      <td>0.001420</td>\n",
       "      <td>-0.017387</td>\n",
       "      <td>0.002630</td>\n",
       "      <td>-0.022041</td>\n",
       "      <td>0.002297</td>\n",
       "      <td>-0.016377</td>\n",
       "      <td>1.000000</td>\n",
       "    </tr>\n",
       "  </tbody>\n",
       "</table>\n",
       "</div>"
      ],
      "text/plain": [
       "              technical_40  technical_34  technical_30  technical_22  \\\n",
       "technical_40      1.000000      0.123454      0.150921      0.609501   \n",
       "technical_34      0.123454      1.000000      0.008635      0.058385   \n",
       "technical_30      0.150921      0.008635      1.000000      0.202774   \n",
       "technical_22      0.609501      0.058385      0.202774      1.000000   \n",
       "technical_21     -0.001343     -0.004083     -0.066643      0.001275   \n",
       "technical_20      0.153541     -0.012769     -0.236387      0.226626   \n",
       "technical_13     -0.097789     -0.013231     -0.225121     -0.138570   \n",
       "technical_7       0.669450      0.076847      0.145220      0.533796   \n",
       "y                -0.020476      0.002147      0.001420     -0.017387   \n",
       "\n",
       "              technical_21  technical_20  technical_13  technical_7         y  \n",
       "technical_40     -0.001343      0.153541     -0.097789     0.669450 -0.020476  \n",
       "technical_34     -0.004083     -0.012769     -0.013231     0.076847  0.002147  \n",
       "technical_30     -0.066643     -0.236387     -0.225121     0.145220  0.001420  \n",
       "technical_22      0.001275      0.226626     -0.138570     0.533796 -0.017387  \n",
       "technical_21      1.000000      0.042192     -0.001787     0.004637  0.002630  \n",
       "technical_20      0.042192      1.000000     -0.252662     0.156109 -0.022041  \n",
       "technical_13     -0.001787     -0.252662      1.000000    -0.073972  0.002297  \n",
       "technical_7       0.004637      0.156109     -0.073972     1.000000 -0.016377  \n",
       "y                 0.002630     -0.022041      0.002297    -0.016377  1.000000  "
      ]
     },
     "execution_count": 57,
     "metadata": {},
     "output_type": "execute_result"
    }
   ],
   "source": [
    "DATA_TECH_30.drop([\"id\", \"timestamp\"], axis=1).corr()"
   ]
  },
  {
   "cell_type": "code",
   "execution_count": 58,
   "metadata": {
    "collapsed": false,
    "scrolled": false
   },
   "outputs": [
    {
     "data": {
      "text/plain": [
       "<seaborn.axisgrid.PairGrid at 0x179900090>"
      ]
     },
     "execution_count": 58,
     "metadata": {},
     "output_type": "execute_result"
    },
    {
     "data": {
      "image/png": "[encoded data removed]",
      "text/plain": [
       "<matplotlib.figure.Figure at 0x1799000d0>"
      ]
     },
     "metadata": {},
     "output_type": "display_data"
    }
   ],
   "source": [
    "sbn.pairplot(\n",
    "    DATA_TECH_30[3000:6000], kind=\"reg\", size=4.0, y_vars=['y'],\n",
    "    x_vars=['technical_30', 'technical_7', 'technical_21', 'technical_40']\n",
    ")\n",
    "# size=4.0,"
   ]
  },
  {
   "cell_type": "code",
   "execution_count": 118,
   "metadata": {
    "collapsed": true
   },
   "outputs": [],
   "source": [
    " x_vars=['technical_30', 'technical_7', 'technical_21', 'technical_40']"
   ]
  },
  {
   "cell_type": "code",
   "execution_count": 119,
   "metadata": {
    "collapsed": true
   },
   "outputs": [],
   "source": [
    "lm = RidgeCV(cv=8)"
   ]
  },
  {
   "cell_type": "code",
   "execution_count": 120,
   "metadata": {
    "collapsed": false
   },
   "outputs": [
    {
     "data": {
      "text/plain": [
       "RidgeCV(alphas=(0.1, 1.0, 10.0), cv=8, fit_intercept=True, gcv_mode=None,\n",
       "    normalize=False, scoring=None, store_cv_values=False)"
      ]
     },
     "execution_count": 120,
     "metadata": {},
     "output_type": "execute_result"
    }
   ],
   "source": [
    "lm.fit(DATA_TECH_30[x_vars], DATA_TECH_30.y)"
   ]
  },
  {
   "cell_type": "code",
   "execution_count": 131,
   "metadata": {
    "collapsed": false
   },
   "outputs": [],
   "source": [
    "DATA_VALID = DATA_VALID[(DATA_VALID.technical_30.isnull() == False)]"
   ]
  },
  {
   "cell_type": "code",
   "execution_count": 132,
   "metadata": {
    "collapsed": false
   },
   "outputs": [
    {
     "data": {
      "text/plain": [
       "342152"
      ]
     },
     "execution_count": 132,
     "metadata": {},
     "output_type": "execute_result"
    }
   ],
   "source": [
    "len(DATA_VALID)"
   ]
  },
  {
   "cell_type": "code",
   "execution_count": 127,
   "metadata": {
    "collapsed": false
   },
   "outputs": [
    {
     "data": {
      "text/plain": [
       "0.01770827620290024"
      ]
     },
     "execution_count": 127,
     "metadata": {},
     "output_type": "execute_result"
    }
   ],
   "source": [
    "r_score(lm, DATA_VALID[x_vars], DATA_VALID.y)"
   ]
  },
  {
   "cell_type": "code",
   "execution_count": 128,
   "metadata": {
    "collapsed": false
   },
   "outputs": [
    {
     "data": {
      "text/plain": [
       "0.021354620510393964"
      ]
     },
     "execution_count": 128,
     "metadata": {},
     "output_type": "execute_result"
    }
   ],
   "source": [
    "r_score(ridge_model, DATA_VALID[DUMMY_FEATURES], DATA_VALID.y)"
   ]
  },
  {
   "cell_type": "code",
   "execution_count": null,
   "metadata": {
    "collapsed": true
   },
   "outputs": [],
   "source": []
  }
 ],
 "metadata": {
  "kernelspec": {
   "display_name": "Python 2",
   "language": "python",
   "name": "python2"
  },
  "language_info": {
   "codemirror_mode": {
    "name": "ipython",
    "version": 2
   },
   "file_extension": ".py",
   "mimetype": "text/x-python",
   "name": "python",
   "nbconvert_exporter": "python",
   "pygments_lexer": "ipython2",
   "version": "2.7.12"
  }
 },
 "nbformat": 4,
 "nbformat_minor": 0
}
