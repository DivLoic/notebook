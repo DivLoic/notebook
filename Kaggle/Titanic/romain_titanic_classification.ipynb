{
 "cells": [
  {
   "cell_type": "code",
   "execution_count": 3,
   "metadata": {
    "collapsed": false
   },
   "outputs": [
    {
     "name": "stderr",
     "output_type": "stream",
     "text": [
      "A newer version of GraphLab Create (v1.8.3) is available! Your current version is v1.8.2.\n",
      "\n",
      "You can use pip to upgrade the graphlab-create package. For more information see https://dato.com/products/create/upgrade.\n"
     ]
    }
   ],
   "source": [
    "import graphlab\n",
    "import numpy as np\n",
    "import itertools"
   ]
  },
  {
   "cell_type": "code",
   "execution_count": 4,
   "metadata": {
    "collapsed": false
   },
   "outputs": [
    {
     "name": "stderr",
     "output_type": "stream",
     "text": [
      "[INFO] GraphLab Create v1.8.2 started. Logging: /tmp/graphlab_server_1457113496.log\n"
     ]
    }
   ],
   "source": [
    "dataset = graphlab.SFrame.read_csv('train.csv', verbose=False)"
   ]
  },
  {
   "cell_type": "code",
   "execution_count": 14,
   "metadata": {
    "collapsed": true
   },
   "outputs": [],
   "source": [
    "def guess_age(ini_df):\n",
    "    \n",
    "    # Sampling\n",
    "    df_age_null = ini_df[ini_df['Age'] == None]\n",
    "    df_age = ini_df.dropna('Age', how=\"all\")\n",
    "    df_age_train, df_age_test = df_age.random_split(.8 ,seed=1)\n",
    "    \n",
    "    # allfeatures\n",
    "    all_features = ['Survived', 'Pclass', 'Name','Sex', 'SibSp', 'Parch', 'Fare', 'Ticket', 'Embarked']\n",
    "    \n",
    "    #build the model\n",
    "    model_age = graphlab.linear_regression.create(\n",
    "        df_age_train, \n",
    "        target='Age', \n",
    "        features=all_features,\n",
    "        l1_penalty=0, \n",
    "        l2_penalty=0.03, \n",
    "        verbose=False,\n",
    "        max_iterations=100\n",
    "    )\n",
    "    \n",
    "    df = df_age_null\n",
    "    df['Age'] = model_age.predict(df)\n",
    "    \n",
    "    df['Age'] = df['Age'].apply(lambda y: float(round(y)))\n",
    "    \n",
    "    #print type(df['Age'])\n",
    "    #print df_age\n",
    "    #print df_age.head()\n",
    "    return df_age.append(df) #df_age"
   ]
  },
  {
   "cell_type": "code",
   "execution_count": 15,
   "metadata": {
    "collapsed": false
   },
   "outputs": [
    {
     "data": {
      "application/javascript": [
       "$(\"head\").append($(\"<link/>\").attr({\n",
       "  rel:  \"stylesheet\",\n",
       "  type: \"text/css\",\n",
       "  href: \"//cdnjs.cloudflare.com/ajax/libs/font-awesome/4.1.0/css/font-awesome.min.css\"\n",
       "}));\n",
       "$(\"head\").append($(\"<link/>\").attr({\n",
       "  rel:  \"stylesheet\",\n",
       "  type: \"text/css\",\n",
       "  href: \"//dato.com/files/canvas/1.8.2/css/canvas.css\"\n",
       "}));\n",
       "\n",
       "            (function(){\n",
       "\n",
       "                var e = null;\n",
       "                if (typeof element == 'undefined') {\n",
       "                    var scripts = document.getElementsByTagName('script');\n",
       "                    var thisScriptTag = scripts[scripts.length-1];\n",
       "                    var parentDiv = thisScriptTag.parentNode;\n",
       "                    e = document.createElement('div');\n",
       "                    parentDiv.appendChild(e);\n",
       "                } else {\n",
       "                    e = element[0];\n",
       "                }\n",
       "\n",
       "                if (typeof requirejs !== 'undefined') {\n",
       "                    // disable load timeout; ipython_app.js is large and can take a while to load.\n",
       "                    requirejs.config({waitSeconds: 0});\n",
       "                }\n",
       "\n",
       "                require(['//dato.com/files/canvas/1.8.2/js/ipython_app.js'], function(IPythonApp){\n",
       "                    var app = new IPythonApp();\n",
       "                    app.attachView('sarray','Categorical', {\"ipython\": true, \"sketch\": {\"std\": 0.4863193178670998, \"complete\": true, \"min\": 0.0, \"max\": 1.0, \"quantile\": [0.0, 0.0, 0.0, 0.0, 0.0, 0.0, 0.0, 0.0, 0.0, 0.0, 0.0, 0.0, 0.0, 0.0, 0.0, 0.0, 0.0, 0.0, 0.0, 0.0, 0.0, 0.0, 0.0, 0.0, 0.0, 0.0, 0.0, 0.0, 0.0, 0.0, 0.0, 0.0, 0.0, 0.0, 0.0, 0.0, 0.0, 0.0, 0.0, 0.0, 0.0, 0.0, 0.0, 0.0, 0.0, 0.0, 0.0, 0.0, 0.0, 0.0, 0.0, 0.0, 0.0, 0.0, 0.0, 0.0, 0.0, 0.0, 0.0, 0.0, 0.0, 0.0, 1.0, 1.0, 1.0, 1.0, 1.0, 1.0, 1.0, 1.0, 1.0, 1.0, 1.0, 1.0, 1.0, 1.0, 1.0, 1.0, 1.0, 1.0, 1.0, 1.0, 1.0, 1.0, 1.0, 1.0, 1.0, 1.0, 1.0, 1.0, 1.0, 1.0, 1.0, 1.0, 1.0, 1.0, 1.0, 1.0, 1.0, 1.0, 1.0], \"median\": 0.0, \"numeric\": true, \"num_unique\": 2, \"num_undefined\": 0, \"var\": 0.23650647893072124, \"progress\": 1.0, \"size\": 891, \"frequent_items\": {\"0\": {\"frequency\": 549, \"value\": 0}, \"1\": {\"frequency\": 342, \"value\": 1}}, \"mean\": 0.3838383838383839}, \"selected_variable\": {\"name\": [\"<SArray>\"], \"dtype\": \"int\", \"view_component\": \"Categorical\", \"view_file\": \"sarray\", \"descriptives\": {\"rows\": 891}, \"type\": \"SArray\", \"view_components\": [\"Numeric\", \"Categorical\"]}, \"histogram\": {\"progress\": 1.0, \"histogram\": {\"max\": 1.0, \"bins\": [549, 0, 0, 0, 0, 0, 0, 0, 0, 0, 0, 342], \"min\": 0.0}, \"min\": 0, \"complete\": 1, \"max\": 1}}, e);\n",
       "                });\n",
       "            })();\n",
       "        "
      ]
     },
     "metadata": {},
     "output_type": "display_data"
    }
   ],
   "source": [
    "graphlab.canvas.set_target('ipynb')\n",
    "dataset['Survived'].show(view='Categorical')"
   ]
  },
  {
   "cell_type": "code",
   "execution_count": 19,
   "metadata": {
    "collapsed": false
   },
   "outputs": [
    {
     "name": "stdout",
     "output_type": "stream",
     "text": [
      "891\n",
      "891\n"
     ]
    }
   ],
   "source": [
    "print dataset.num_rows()\n",
    "#dataset_2=dataset.dropna('Age',how=\"all\")\n",
    "#print dataset_2.num_rows()\n",
    "\n",
    "dataset_age = guess_age(dataset) \n",
    "\n",
    "print dataset_age.num_rows()\n",
    "#print dataset_age.tail()\n",
    "\n",
    "train_data,test_data = dataset_age.random_split(.8, seed=0)"
   ]
  },
  {
   "cell_type": "code",
   "execution_count": 20,
   "metadata": {
    "collapsed": true
   },
   "outputs": [],
   "source": [
    "all_features=['Pclass','Sex','Age','SibSp','Parch','Ticket','Fare','Cabin','Embarked']"
   ]
  },
  {
   "cell_type": "markdown",
   "metadata": {},
   "source": [
    "# Selection"
   ]
  },
  {
   "cell_type": "markdown",
   "metadata": {},
   "source": [
    "## Permutation"
   ]
  },
  {
   "cell_type": "code",
   "execution_count": 21,
   "metadata": {
    "collapsed": false
   },
   "outputs": [],
   "source": [
    "tab_general=[]\n",
    "\n",
    "#for i in range(2, len(all_features)):\n",
    "for i in range(2, 2):\n",
    "    print i\n",
    "    list_permu_current=list(itertools.permutations(all_features, i))\n",
    "    accuracy_tab=[]\n",
    "    \n",
    "    for x in range(0, len(list_permu_current)):\n",
    "        array_feature_current=list(list_permu_current[x])\n",
    "        print array_feature_current\n",
    "        current_model=graphlab.logistic_classifier.create(train_data,target='Survived',\n",
    "                                                     features=array_feature_current,\n",
    "                                                    validation_set=test_data,verbose=False)\n",
    "        accuracy_current=current_model.evaluate(test_data)['accuracy']\n",
    "        accuracy_tab.append(accuracy_current)\n",
    "        print accuracy_current\n",
    "        print str(x) +'/'+ str(len(list_permu_current))\n",
    "    \n",
    "    print max(accuracy_tab)\n",
    "    index_max=accuracy_tab.index(max(accuracy_tab)) \n",
    "    print list_permu_current[index_max]\n",
    "    tab_general.append(list_permu_current[index_max])"
   ]
  },
  {
   "cell_type": "code",
   "execution_count": null,
   "metadata": {
    "collapsed": true
   },
   "outputs": [],
   "source": []
  },
  {
   "cell_type": "markdown",
   "metadata": {},
   "source": [
    "## Backward"
   ]
  },
  {
   "cell_type": "code",
   "execution_count": 25,
   "metadata": {
    "collapsed": true
   },
   "outputs": [],
   "source": [
    "def getArrayAccuracy(all_features,target_feature,train_data,test_data,method):\n",
    "    all_features=np.array(all_features)\n",
    "    number_feature=len(all_features)\n",
    "    array_feature_current_gen=all_features\n",
    "\n",
    "    accuracy_general=[]\n",
    "    while number_feature>2:\n",
    "        print '-------------------------------'\n",
    "        accuracy_tab=[]\n",
    "        print \"array_feature_current_gen : \" + str(array_feature_current_gen)\n",
    "\n",
    "        for x in range(0, len(array_feature_current_gen)):\n",
    "\n",
    "            array_feature_current = np.delete(array_feature_current_gen, x)\n",
    "            #print array_feature_current\n",
    "            if(method==\"LOG_CLA\"):\n",
    "                current_model=graphlab.logistic_classifier.create(train_data,target=target_feature,features=array_feature_current,validation_set=test_data,verbose=False)\n",
    "                accuracy_current=current_model.evaluate(test_data)['f1_score']\n",
    "                \n",
    "            accuracy_tab.append(accuracy_current)\n",
    "            #print accuracy_current\n",
    "            #print str(x+1) +'/'+ str(len(array_feature_current_gen))\n",
    "\n",
    "        accuracy_general.append(max(accuracy_tab))\n",
    "        print \"max : \"+ str(max(accuracy_tab))\n",
    "        index_max=accuracy_tab.index(max(accuracy_tab)) \n",
    "        #print index_max\n",
    "        print \"element a supprimer : \" +array_feature_current_gen[index_max]\n",
    "\n",
    "        number_feature=number_feature-1\n",
    "        array_feature_current_gen=np.delete(array_feature_current_gen, index_max)\n",
    "    \n",
    "    return accuracy_general"
   ]
  },
  {
   "cell_type": "code",
   "execution_count": 26,
   "metadata": {
    "collapsed": false
   },
   "outputs": [
    {
     "name": "stdout",
     "output_type": "stream",
     "text": [
      "-------------------------------\n",
      "array_feature_current_gen : ['Pclass' 'Sex' 'Age' 'SibSp' 'Parch' 'Ticket' 'Fare' 'Cabin' 'Embarked']\n",
      "max : 0.776315789474\n",
      "element a supprimer : Cabin\n",
      "-------------------------------\n",
      "array_feature_current_gen : ['Pclass' 'Sex' 'Age' 'SibSp' 'Parch' 'Ticket' 'Fare' 'Embarked']\n",
      "max : 0.78431372549\n",
      "element a supprimer : Pclass\n",
      "-------------------------------\n",
      "array_feature_current_gen : ['Sex' 'Age' 'SibSp' 'Parch' 'Ticket' 'Fare' 'Embarked']\n",
      "max : 0.78431372549\n",
      "element a supprimer : Age\n",
      "-------------------------------\n",
      "array_feature_current_gen : ['Sex' 'SibSp' 'Parch' 'Ticket' 'Fare' 'Embarked']\n",
      "max : 0.78431372549\n",
      "element a supprimer : SibSp\n",
      "-------------------------------\n",
      "array_feature_current_gen : ['Sex' 'Parch' 'Ticket' 'Fare' 'Embarked']\n",
      "max : 0.78431372549\n",
      "element a supprimer : Parch\n",
      "-------------------------------\n",
      "array_feature_current_gen : ['Sex' 'Ticket' 'Fare' 'Embarked']\n",
      "max : 0.78431372549\n",
      "element a supprimer : Fare\n",
      "-------------------------------\n",
      "array_feature_current_gen : ['Sex' 'Ticket' 'Embarked']\n",
      "max : 0.776315789474\n",
      "element a supprimer : Embarked\n"
     ]
    }
   ],
   "source": [
    "accuracy_general=getArrayAccuracy(all_features,\"Survived\",train_data,test_data,\"LOG_CLA\")"
   ]
  },
  {
   "cell_type": "code",
   "execution_count": null,
   "metadata": {
    "collapsed": true
   },
   "outputs": [],
   "source": [
    "import matplotlib.pyplot as plt\n",
    "t = np.arange(len(all_features), 2, -1)\n",
    "plt.plot(t, accuracy_general)\n",
    "plt.xlim(len(all_features), 2) \n",
    "plt.show()"
   ]
  },
  {
   "cell_type": "code",
   "execution_count": null,
   "metadata": {
    "collapsed": false
   },
   "outputs": [],
   "source": [
    "accuracy_general.show(view='Categorical')"
   ]
  },
  {
   "cell_type": "code",
   "execution_count": null,
   "metadata": {
    "collapsed": true
   },
   "outputs": [],
   "source": []
  }
 ],
 "metadata": {
  "kernelspec": {
   "display_name": "Python 2",
   "language": "python",
   "name": "python2"
  },
  "language_info": {
   "codemirror_mode": {
    "name": "ipython",
    "version": 2
   },
   "file_extension": ".py",
   "mimetype": "text/x-python",
   "name": "python",
   "nbconvert_exporter": "python",
   "pygments_lexer": "ipython2",
   "version": "2.7.11"
  }
 },
 "nbformat": 4,
 "nbformat_minor": 0
}
