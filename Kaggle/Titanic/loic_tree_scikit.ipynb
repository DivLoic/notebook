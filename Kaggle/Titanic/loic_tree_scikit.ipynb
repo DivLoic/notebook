{
 "cells": [
  {
   "cell_type": "code",
   "execution_count": 1,
   "metadata": {
    "collapsed": true
   },
   "outputs": [],
   "source": [
    "# coding: utf8"
   ]
  },
  {
   "cell_type": "code",
   "execution_count": 2,
   "metadata": {
    "collapsed": false
   },
   "outputs": [],
   "source": [
    "import math\n",
    "import pandas as pd\n",
    "import numpy  as np\n",
    "import seaborn as sb\n",
    "import matplotlib.pyplot as plt"
   ]
  },
  {
   "cell_type": "code",
   "execution_count": 3,
   "metadata": {
    "collapsed": true
   },
   "outputs": [],
   "source": [
    "from __future__ import division\n",
    "from sklearn.metrics import f1_score\n",
    "from sklearn.ensemble import RandomForestClassifier\n",
    "from sklearn.cross_validation import StratifiedKFold\n",
    "from sklearn.cross_validation import train_test_split"
   ]
  },
  {
   "cell_type": "code",
   "execution_count": 4,
   "metadata": {
    "collapsed": false
   },
   "outputs": [],
   "source": [
    "import warnings\n",
    "%matplotlib inline\n",
    "warnings.filterwarnings(\"ignore\")\n",
    "sb.set(style=\"white\", color_codes=True)"
   ]
  },
  {
   "cell_type": "markdown",
   "metadata": {},
   "source": [
    "## Load the Data"
   ]
  },
  {
   "cell_type": "code",
   "execution_count": 10,
   "metadata": {
    "collapsed": false
   },
   "outputs": [],
   "source": [
    "titanic = pd.read_csv(\"data/train.csv\")"
   ]
  },
  {
   "cell_type": "code",
   "execution_count": 11,
   "metadata": {
    "collapsed": false
   },
   "outputs": [],
   "source": [
    "INIT_DF = pd.read_csv(\"data/train.csv\")"
   ]
  },
  {
   "cell_type": "code",
   "execution_count": 12,
   "metadata": {
    "collapsed": false
   },
   "outputs": [
    {
     "data": {
      "text/html": [
       "<div>\n",
       "<table border=\"1\" class=\"dataframe\">\n",
       "  <thead>\n",
       "    <tr style=\"text-align: right;\">\n",
       "      <th></th>\n",
       "      <th>PassengerId</th>\n",
       "      <th>Survived</th>\n",
       "      <th>Pclass</th>\n",
       "      <th>Name</th>\n",
       "      <th>Sex</th>\n",
       "      <th>Age</th>\n",
       "      <th>SibSp</th>\n",
       "      <th>Parch</th>\n",
       "      <th>Ticket</th>\n",
       "      <th>Fare</th>\n",
       "      <th>Cabin</th>\n",
       "      <th>Embarked</th>\n",
       "    </tr>\n",
       "  </thead>\n",
       "  <tbody>\n",
       "    <tr>\n",
       "      <th>0</th>\n",
       "      <td>1</td>\n",
       "      <td>0</td>\n",
       "      <td>3</td>\n",
       "      <td>Braund, Mr. Owen Harris</td>\n",
       "      <td>male</td>\n",
       "      <td>22</td>\n",
       "      <td>1</td>\n",
       "      <td>0</td>\n",
       "      <td>A/5 21171</td>\n",
       "      <td>7.2500</td>\n",
       "      <td>NaN</td>\n",
       "      <td>S</td>\n",
       "    </tr>\n",
       "    <tr>\n",
       "      <th>1</th>\n",
       "      <td>2</td>\n",
       "      <td>1</td>\n",
       "      <td>1</td>\n",
       "      <td>Cumings, Mrs. John Bradley (Florence Briggs Th...</td>\n",
       "      <td>female</td>\n",
       "      <td>38</td>\n",
       "      <td>1</td>\n",
       "      <td>0</td>\n",
       "      <td>PC 17599</td>\n",
       "      <td>71.2833</td>\n",
       "      <td>C85</td>\n",
       "      <td>C</td>\n",
       "    </tr>\n",
       "    <tr>\n",
       "      <th>2</th>\n",
       "      <td>3</td>\n",
       "      <td>1</td>\n",
       "      <td>3</td>\n",
       "      <td>Heikkinen, Miss. Laina</td>\n",
       "      <td>female</td>\n",
       "      <td>26</td>\n",
       "      <td>0</td>\n",
       "      <td>0</td>\n",
       "      <td>STON/O2. 3101282</td>\n",
       "      <td>7.9250</td>\n",
       "      <td>NaN</td>\n",
       "      <td>S</td>\n",
       "    </tr>\n",
       "    <tr>\n",
       "      <th>3</th>\n",
       "      <td>4</td>\n",
       "      <td>1</td>\n",
       "      <td>1</td>\n",
       "      <td>Futrelle, Mrs. Jacques Heath (Lily May Peel)</td>\n",
       "      <td>female</td>\n",
       "      <td>35</td>\n",
       "      <td>1</td>\n",
       "      <td>0</td>\n",
       "      <td>113803</td>\n",
       "      <td>53.1000</td>\n",
       "      <td>C123</td>\n",
       "      <td>S</td>\n",
       "    </tr>\n",
       "    <tr>\n",
       "      <th>4</th>\n",
       "      <td>5</td>\n",
       "      <td>0</td>\n",
       "      <td>3</td>\n",
       "      <td>Allen, Mr. William Henry</td>\n",
       "      <td>male</td>\n",
       "      <td>35</td>\n",
       "      <td>0</td>\n",
       "      <td>0</td>\n",
       "      <td>373450</td>\n",
       "      <td>8.0500</td>\n",
       "      <td>NaN</td>\n",
       "      <td>S</td>\n",
       "    </tr>\n",
       "  </tbody>\n",
       "</table>\n",
       "</div>"
      ],
      "text/plain": [
       "   PassengerId  Survived  Pclass  \\\n",
       "0            1         0       3   \n",
       "1            2         1       1   \n",
       "2            3         1       3   \n",
       "3            4         1       1   \n",
       "4            5         0       3   \n",
       "\n",
       "                                                Name     Sex  Age  SibSp  \\\n",
       "0                            Braund, Mr. Owen Harris    male   22      1   \n",
       "1  Cumings, Mrs. John Bradley (Florence Briggs Th...  female   38      1   \n",
       "2                             Heikkinen, Miss. Laina  female   26      0   \n",
       "3       Futrelle, Mrs. Jacques Heath (Lily May Peel)  female   35      1   \n",
       "4                           Allen, Mr. William Henry    male   35      0   \n",
       "\n",
       "   Parch            Ticket     Fare Cabin Embarked  \n",
       "0      0         A/5 21171   7.2500   NaN        S  \n",
       "1      0          PC 17599  71.2833   C85        C  \n",
       "2      0  STON/O2. 3101282   7.9250   NaN        S  \n",
       "3      0            113803  53.1000  C123        S  \n",
       "4      0            373450   8.0500   NaN        S  "
      ]
     },
     "execution_count": 12,
     "metadata": {},
     "output_type": "execute_result"
    }
   ],
   "source": [
    "INIT_DF.head()"
   ]
  },
  {
   "cell_type": "markdown",
   "metadata": {},
   "source": [
    "## Missing data ?! Data cleaning"
   ]
  },
  {
   "cell_type": "code",
   "execution_count": 13,
   "metadata": {
    "collapsed": false
   },
   "outputs": [
    {
     "name": "stdout",
     "output_type": "stream",
     "text": [
      "All the Nan are here !\n"
     ]
    },
    {
     "data": {
      "text/plain": [
       "PassengerId      0\n",
       "Survived         0\n",
       "Pclass           0\n",
       "Name             0\n",
       "Sex              0\n",
       "Age            177\n",
       "SibSp            0\n",
       "Parch            0\n",
       "Ticket           0\n",
       "Fare             0\n",
       "Cabin          687\n",
       "Embarked         2\n",
       "dtype: int64"
      ]
     },
     "execution_count": 13,
     "metadata": {},
     "output_type": "execute_result"
    }
   ],
   "source": [
    "print \"All the Nan are here !\"\n",
    "titanic.isnull().sum()"
   ]
  },
  {
   "cell_type": "markdown",
   "metadata": {},
   "source": [
    "### Data cleaning: Fix Age \n",
    "*Solution* : replace Nan with the mean\n",
    "\n",
    "**TOTRY** : Random Gaussien variable\n",
    "\n",
    "**TOTRY** : Verify the result of skiping data point\n"
   ]
  },
  {
   "cell_type": "code",
   "execution_count": 14,
   "metadata": {
    "collapsed": false
   },
   "outputs": [
    {
     "data": {
      "text/plain": [
       "count    714.000000\n",
       "mean      29.699118\n",
       "std       14.526497\n",
       "min        0.420000\n",
       "25%       20.125000\n",
       "50%       28.000000\n",
       "75%       38.000000\n",
       "max       80.000000\n",
       "Name: Age, dtype: float64"
      ]
     },
     "execution_count": 14,
     "metadata": {},
     "output_type": "execute_result"
    }
   ],
   "source": [
    "titanic[\"Age\"].describe()"
   ]
  },
  {
   "cell_type": "code",
   "execution_count": 15,
   "metadata": {
    "collapsed": false
   },
   "outputs": [],
   "source": [
    "def gaussian(x, mu, sig):\n",
    "    return np.exp(-np.power(x - mu, 2.) / (2 * np.power(sig, 2.)))\n",
    "\n",
    "g = np.random.normal(29.699118, 14.526497, 100000)\n",
    "fake_age = np.random.normal(29, 14, 117) "
   ]
  },
  {
   "cell_type": "code",
   "execution_count": 16,
   "metadata": {
    "collapsed": false
   },
   "outputs": [
    {
     "data": {
      "image/png": "[encoded data removed]",
      "text/plain": [
       "<matplotlib.figure.Figure at 0x10c44fa50>"
      ]
     },
     "metadata": {},
     "output_type": "display_data"
    }
   ],
   "source": [
    "sb.distplot(titanic[\"Age\"].dropna());\n",
    "sb.kdeplot(g);"
   ]
  },
  {
   "cell_type": "code",
   "execution_count": 17,
   "metadata": {
    "collapsed": false
   },
   "outputs": [
    {
     "name": "stdout",
     "output_type": "stream",
     "text": [
      "The mean of the feature Age is :  29.6991176471\n",
      "All the Nan are replaced with 30.00\n"
     ]
    }
   ],
   "source": [
    "mean_age = titanic[\"Age\"].mean()\n",
    "print \"The mean of the feature Age is : \",mean_age\n",
    "print \"All the Nan are replaced with %.2f\"%math.ceil(mean_age)\n",
    "titanic[\"Age\"] = titanic[\"Age\"].fillna(int(mean_age))"
   ]
  },
  {
   "cell_type": "markdown",
   "metadata": {},
   "source": [
    "### Data cleaning: Fix the Cabin number\n",
    "**TOTRY** : Binary vectors (ex: Embarked.C, Embarked.S, Embarked.Q)"
   ]
  },
  {
   "cell_type": "code",
   "execution_count": 18,
   "metadata": {
    "collapsed": false
   },
   "outputs": [],
   "source": [
    "titanic[\"Age\"] = titanic[\"Age\"].fillna(mean_age)\n",
    "titanic[\"Cabin\"] = titanic[\"Cabin\"].fillna(\"unknow\")\n",
    "titanic[\"Cabin\"] = map(lambda y: y[0].upper(), titanic[\"Cabin\"])"
   ]
  },
  {
   "cell_type": "code",
   "execution_count": 19,
   "metadata": {
    "collapsed": false
   },
   "outputs": [
    {
     "name": "stdout",
     "output_type": "stream",
     "text": [
      "All bridge:  ['A', 'B', 'C', 'D', 'E', 'F', 'G', 'T', 'U']\n",
      "T is an Upper class room and U stand for Unknow\n"
     ]
    }
   ],
   "source": [
    "bridges = sorted(titanic[\"Cabin\"].unique())\n",
    "print \"All bridge: \",bridges\n",
    "print \"T is an Upper class room and U stand for Unknow\""
   ]
  },
  {
   "cell_type": "markdown",
   "metadata": {},
   "source": [
    "### Data cleaning: Embarked place"
   ]
  },
  {
   "cell_type": "code",
   "execution_count": 20,
   "metadata": {
    "collapsed": false
   },
   "outputs": [],
   "source": [
    "titanic[\"Embarked\"] = titanic[\"Embarked\"].fillna(\"C\")"
   ]
  },
  {
   "cell_type": "markdown",
   "metadata": {},
   "source": [
    "### Features Engineering"
   ]
  },
  {
   "cell_type": "code",
   "execution_count": 21,
   "metadata": {
    "collapsed": false
   },
   "outputs": [],
   "source": [
    "titanic[\"Sex\"] = titanic[\"Sex\"].map({'female': 0, 'male': 1}).astype(int) # femal = 0; male = 1"
   ]
  },
  {
   "cell_type": "code",
   "execution_count": 22,
   "metadata": {
    "collapsed": false
   },
   "outputs": [],
   "source": [
    "for place in ['C', 'Q', 'S']:\n",
    "    titanic[\"Embarked.%s\"%place] = map(lambda y: 1 if y == place else 0, titanic[\"Embarked\"])"
   ]
  },
  {
   "cell_type": "code",
   "execution_count": 23,
   "metadata": {
    "collapsed": true
   },
   "outputs": [],
   "source": [
    "for pcl in ['1', '2', '3']:\n",
    "    titanic[\"Pclass.%s\"%pcl] = map(lambda y: 1 if y == int(pcl) else 0, titanic[\"Pclass\"])"
   ]
  },
  {
   "cell_type": "code",
   "execution_count": 24,
   "metadata": {
    "collapsed": true
   },
   "outputs": [],
   "source": [
    "for bridge in bridges:\n",
    "    titanic[\"Cabin.%s\"%bridge] = map(lambda y: 1 if y == bridge else 0, titanic[\"Cabin\"])"
   ]
  },
  {
   "cell_type": "code",
   "execution_count": 25,
   "metadata": {
    "collapsed": false
   },
   "outputs": [],
   "source": [
    "#titanic[titanic.index.isin([10, 20, 30])]"
   ]
  },
  {
   "cell_type": "code",
   "execution_count": 26,
   "metadata": {
    "collapsed": true
   },
   "outputs": [],
   "source": [
    "#titanic = titanic.drop(\"Embarked\", axis=1)\n",
    "#titanic = titanic.drop(\"Pclass\", axis=1)\n",
    "#titanic = titanic.drop(\"PCabin\", axis=1)"
   ]
  },
  {
   "cell_type": "markdown",
   "metadata": {},
   "source": [
    "### Feature selection"
   ]
  },
  {
   "cell_type": "code",
   "execution_count": 27,
   "metadata": {
    "collapsed": false
   },
   "outputs": [
    {
     "data": {
      "text/plain": [
       "<seaborn.axisgrid.PairGrid at 0x10c86b950>"
      ]
     },
     "execution_count": 27,
     "metadata": {},
     "output_type": "execute_result"
    },
    {
     "data": {
      "image/png": "[encoded data removed]",
      "text/plain": [
       "<matplotlib.figure.Figure at 0x10c0e0e90>"
      ]
     },
     "metadata": {},
     "output_type": "display_data"
    }
   ],
   "source": [
    "target   = \"Survived\"\n",
    "features = [\"Pclass\", \"Sex\", \"Age\", \"SibSp\", \"Parch\", \"Fare\"]\n",
    "sb.pairplot(titanic[features + [target]], hue=\"Survived\", size=2, vars=features)"
   ]
  },
  {
   "cell_type": "code",
   "execution_count": 28,
   "metadata": {
    "collapsed": false
   },
   "outputs": [],
   "source": [
    "target = \"Survived\"\n",
    "non_features = [\"Pclass\", \"Cabin\", \"PassengerId\", \"Name\", \"Ticket\", \"Embarked\"]\n",
    "# we drop PassengerId, Name, Ticket\n",
    "titanic  = titanic.drop(non_features, axis=1)"
   ]
  },
  {
   "cell_type": "code",
   "execution_count": 29,
   "metadata": {
    "collapsed": false
   },
   "outputs": [
    {
     "data": {
      "text/plain": [
       "['Survived',\n",
       " 'Sex',\n",
       " 'Age',\n",
       " 'SibSp',\n",
       " 'Parch',\n",
       " 'Fare',\n",
       " 'Embarked.C',\n",
       " 'Embarked.Q',\n",
       " 'Embarked.S',\n",
       " 'Pclass.1',\n",
       " 'Pclass.2',\n",
       " 'Pclass.3',\n",
       " 'Cabin.A',\n",
       " 'Cabin.B',\n",
       " 'Cabin.C',\n",
       " 'Cabin.D',\n",
       " 'Cabin.E',\n",
       " 'Cabin.F',\n",
       " 'Cabin.G',\n",
       " 'Cabin.T',\n",
       " 'Cabin.U']"
      ]
     },
     "execution_count": 29,
     "metadata": {},
     "output_type": "execute_result"
    }
   ],
   "source": [
    "titanic.columns.tolist()"
   ]
  },
  {
   "cell_type": "markdown",
   "metadata": {},
   "source": [
    "### Sampling"
   ]
  },
  {
   "cell_type": "markdown",
   "metadata": {},
   "source": [
    "/!\\ take care /!\\ Should we balance the number of Survivor or not???\n",
    "\n",
    "**TOTRY**: drop positive data point (+1-%50, 0-%50)"
   ]
  },
  {
   "cell_type": "code",
   "execution_count": 30,
   "metadata": {
    "collapsed": false
   },
   "outputs": [
    {
     "name": "stdout",
     "output_type": "stream",
     "text": [
      "There are Only 38 % of people survivors\n",
      "There are 61 % of people that not survived\n"
     ]
    }
   ],
   "source": [
    "print \"There are Only %i %% of people survivors\"%(len(titanic[titanic[\"Survived\"] == 1])/ len(titanic)*100)\n",
    "print \"There are %i %% of people that not survived\"%(len(titanic[titanic[\"Survived\"] == 0]) / len(titanic)*100)"
   ]
  },
  {
   "cell_type": "code",
   "execution_count": 31,
   "metadata": {
    "collapsed": false
   },
   "outputs": [
    {
     "name": "stdout",
     "output_type": "stream",
     "text": [
      "Total number of data points: \t891\n",
      "Number of positiv output: \t342\n",
      "Number of negetiv output: \t549\n"
     ]
    }
   ],
   "source": [
    "print \"Total number of data points: \\t%i\"%len(titanic)\n",
    "print \"Number of positiv output: \\t%i\"%(len(titanic[titanic[\"Survived\"] == 1]))\n",
    "print \"Number of negetiv output: \\t%i\"%(len(titanic[titanic[\"Survived\"] == 0]))"
   ]
  },
  {
   "cell_type": "raw",
   "metadata": {},
   "source": [
    "### Any way let's split it !!!"
   ]
  },
  {
   "cell_type": "code",
   "execution_count": 32,
   "metadata": {
    "collapsed": false
   },
   "outputs": [
    {
     "name": "stdout",
     "output_type": "stream",
     "text": [
      "Size of the total dataset: \t891\n",
      "Size of the training dataset: \t712\n",
      "Size of the test dataset:\t179\n"
     ]
    }
   ],
   "source": [
    "train_data, test_data = train_test_split(titanic, test_size=0.2, random_state=1)\n",
    "print \"Size of the total dataset: \\t%i\"%len(titanic)\n",
    "print \"Size of the training dataset: \\t%i\"%len(train_data)\n",
    "print \"Size of the test dataset:\\t%i\"%len(test_data)"
   ]
  },
  {
   "cell_type": "code",
   "execution_count": 33,
   "metadata": {
    "collapsed": false
   },
   "outputs": [
    {
     "data": {
      "text/html": [
       "<div>\n",
       "<table border=\"1\" class=\"dataframe\">\n",
       "  <thead>\n",
       "    <tr style=\"text-align: right;\">\n",
       "      <th></th>\n",
       "      <th>Survived</th>\n",
       "      <th>Sex</th>\n",
       "      <th>Age</th>\n",
       "      <th>SibSp</th>\n",
       "      <th>Parch</th>\n",
       "      <th>Fare</th>\n",
       "      <th>Embarked.C</th>\n",
       "      <th>Embarked.Q</th>\n",
       "      <th>Embarked.S</th>\n",
       "      <th>Pclass.1</th>\n",
       "      <th>...</th>\n",
       "      <th>Pclass.3</th>\n",
       "      <th>Cabin.A</th>\n",
       "      <th>Cabin.B</th>\n",
       "      <th>Cabin.C</th>\n",
       "      <th>Cabin.D</th>\n",
       "      <th>Cabin.E</th>\n",
       "      <th>Cabin.F</th>\n",
       "      <th>Cabin.G</th>\n",
       "      <th>Cabin.T</th>\n",
       "      <th>Cabin.U</th>\n",
       "    </tr>\n",
       "  </thead>\n",
       "  <tbody>\n",
       "    <tr>\n",
       "      <th>301</th>\n",
       "      <td>1</td>\n",
       "      <td>1</td>\n",
       "      <td>29</td>\n",
       "      <td>2</td>\n",
       "      <td>0</td>\n",
       "      <td>23.2500</td>\n",
       "      <td>0</td>\n",
       "      <td>1</td>\n",
       "      <td>0</td>\n",
       "      <td>0</td>\n",
       "      <td>...</td>\n",
       "      <td>1</td>\n",
       "      <td>0</td>\n",
       "      <td>0</td>\n",
       "      <td>0</td>\n",
       "      <td>0</td>\n",
       "      <td>0</td>\n",
       "      <td>0</td>\n",
       "      <td>0</td>\n",
       "      <td>0</td>\n",
       "      <td>1</td>\n",
       "    </tr>\n",
       "    <tr>\n",
       "      <th>309</th>\n",
       "      <td>1</td>\n",
       "      <td>0</td>\n",
       "      <td>30</td>\n",
       "      <td>0</td>\n",
       "      <td>0</td>\n",
       "      <td>56.9292</td>\n",
       "      <td>1</td>\n",
       "      <td>0</td>\n",
       "      <td>0</td>\n",
       "      <td>1</td>\n",
       "      <td>...</td>\n",
       "      <td>0</td>\n",
       "      <td>0</td>\n",
       "      <td>0</td>\n",
       "      <td>0</td>\n",
       "      <td>0</td>\n",
       "      <td>1</td>\n",
       "      <td>0</td>\n",
       "      <td>0</td>\n",
       "      <td>0</td>\n",
       "      <td>0</td>\n",
       "    </tr>\n",
       "    <tr>\n",
       "      <th>516</th>\n",
       "      <td>1</td>\n",
       "      <td>0</td>\n",
       "      <td>34</td>\n",
       "      <td>0</td>\n",
       "      <td>0</td>\n",
       "      <td>10.5000</td>\n",
       "      <td>0</td>\n",
       "      <td>0</td>\n",
       "      <td>1</td>\n",
       "      <td>0</td>\n",
       "      <td>...</td>\n",
       "      <td>0</td>\n",
       "      <td>0</td>\n",
       "      <td>0</td>\n",
       "      <td>0</td>\n",
       "      <td>0</td>\n",
       "      <td>0</td>\n",
       "      <td>1</td>\n",
       "      <td>0</td>\n",
       "      <td>0</td>\n",
       "      <td>0</td>\n",
       "    </tr>\n",
       "    <tr>\n",
       "      <th>120</th>\n",
       "      <td>0</td>\n",
       "      <td>1</td>\n",
       "      <td>21</td>\n",
       "      <td>2</td>\n",
       "      <td>0</td>\n",
       "      <td>73.5000</td>\n",
       "      <td>0</td>\n",
       "      <td>0</td>\n",
       "      <td>1</td>\n",
       "      <td>0</td>\n",
       "      <td>...</td>\n",
       "      <td>0</td>\n",
       "      <td>0</td>\n",
       "      <td>0</td>\n",
       "      <td>0</td>\n",
       "      <td>0</td>\n",
       "      <td>0</td>\n",
       "      <td>0</td>\n",
       "      <td>0</td>\n",
       "      <td>0</td>\n",
       "      <td>1</td>\n",
       "    </tr>\n",
       "    <tr>\n",
       "      <th>570</th>\n",
       "      <td>1</td>\n",
       "      <td>1</td>\n",
       "      <td>62</td>\n",
       "      <td>0</td>\n",
       "      <td>0</td>\n",
       "      <td>10.5000</td>\n",
       "      <td>0</td>\n",
       "      <td>0</td>\n",
       "      <td>1</td>\n",
       "      <td>0</td>\n",
       "      <td>...</td>\n",
       "      <td>0</td>\n",
       "      <td>0</td>\n",
       "      <td>0</td>\n",
       "      <td>0</td>\n",
       "      <td>0</td>\n",
       "      <td>0</td>\n",
       "      <td>0</td>\n",
       "      <td>0</td>\n",
       "      <td>0</td>\n",
       "      <td>1</td>\n",
       "    </tr>\n",
       "    <tr>\n",
       "      <th>730</th>\n",
       "      <td>1</td>\n",
       "      <td>0</td>\n",
       "      <td>29</td>\n",
       "      <td>0</td>\n",
       "      <td>0</td>\n",
       "      <td>211.3375</td>\n",
       "      <td>0</td>\n",
       "      <td>0</td>\n",
       "      <td>1</td>\n",
       "      <td>1</td>\n",
       "      <td>...</td>\n",
       "      <td>0</td>\n",
       "      <td>0</td>\n",
       "      <td>1</td>\n",
       "      <td>0</td>\n",
       "      <td>0</td>\n",
       "      <td>0</td>\n",
       "      <td>0</td>\n",
       "      <td>0</td>\n",
       "      <td>0</td>\n",
       "      <td>0</td>\n",
       "    </tr>\n",
       "    <tr>\n",
       "      <th>228</th>\n",
       "      <td>0</td>\n",
       "      <td>1</td>\n",
       "      <td>18</td>\n",
       "      <td>0</td>\n",
       "      <td>0</td>\n",
       "      <td>13.0000</td>\n",
       "      <td>0</td>\n",
       "      <td>0</td>\n",
       "      <td>1</td>\n",
       "      <td>0</td>\n",
       "      <td>...</td>\n",
       "      <td>0</td>\n",
       "      <td>0</td>\n",
       "      <td>0</td>\n",
       "      <td>0</td>\n",
       "      <td>0</td>\n",
       "      <td>0</td>\n",
       "      <td>0</td>\n",
       "      <td>0</td>\n",
       "      <td>0</td>\n",
       "      <td>1</td>\n",
       "    </tr>\n",
       "    <tr>\n",
       "      <th>563</th>\n",
       "      <td>0</td>\n",
       "      <td>1</td>\n",
       "      <td>29</td>\n",
       "      <td>0</td>\n",
       "      <td>0</td>\n",
       "      <td>8.0500</td>\n",
       "      <td>0</td>\n",
       "      <td>0</td>\n",
       "      <td>1</td>\n",
       "      <td>0</td>\n",
       "      <td>...</td>\n",
       "      <td>1</td>\n",
       "      <td>0</td>\n",
       "      <td>0</td>\n",
       "      <td>0</td>\n",
       "      <td>0</td>\n",
       "      <td>0</td>\n",
       "      <td>0</td>\n",
       "      <td>0</td>\n",
       "      <td>0</td>\n",
       "      <td>1</td>\n",
       "    </tr>\n",
       "    <tr>\n",
       "      <th>311</th>\n",
       "      <td>1</td>\n",
       "      <td>0</td>\n",
       "      <td>18</td>\n",
       "      <td>2</td>\n",
       "      <td>2</td>\n",
       "      <td>262.3750</td>\n",
       "      <td>1</td>\n",
       "      <td>0</td>\n",
       "      <td>0</td>\n",
       "      <td>1</td>\n",
       "      <td>...</td>\n",
       "      <td>0</td>\n",
       "      <td>0</td>\n",
       "      <td>1</td>\n",
       "      <td>0</td>\n",
       "      <td>0</td>\n",
       "      <td>0</td>\n",
       "      <td>0</td>\n",
       "      <td>0</td>\n",
       "      <td>0</td>\n",
       "      <td>0</td>\n",
       "    </tr>\n",
       "    <tr>\n",
       "      <th>613</th>\n",
       "      <td>0</td>\n",
       "      <td>1</td>\n",
       "      <td>29</td>\n",
       "      <td>0</td>\n",
       "      <td>0</td>\n",
       "      <td>7.7500</td>\n",
       "      <td>0</td>\n",
       "      <td>1</td>\n",
       "      <td>0</td>\n",
       "      <td>0</td>\n",
       "      <td>...</td>\n",
       "      <td>1</td>\n",
       "      <td>0</td>\n",
       "      <td>0</td>\n",
       "      <td>0</td>\n",
       "      <td>0</td>\n",
       "      <td>0</td>\n",
       "      <td>0</td>\n",
       "      <td>0</td>\n",
       "      <td>0</td>\n",
       "      <td>1</td>\n",
       "    </tr>\n",
       "  </tbody>\n",
       "</table>\n",
       "<p>10 rows × 21 columns</p>\n",
       "</div>"
      ],
      "text/plain": [
       "     Survived  Sex  Age  SibSp  Parch      Fare  Embarked.C  Embarked.Q  \\\n",
       "301         1    1   29      2      0   23.2500           0           1   \n",
       "309         1    0   30      0      0   56.9292           1           0   \n",
       "516         1    0   34      0      0   10.5000           0           0   \n",
       "120         0    1   21      2      0   73.5000           0           0   \n",
       "570         1    1   62      0      0   10.5000           0           0   \n",
       "730         1    0   29      0      0  211.3375           0           0   \n",
       "228         0    1   18      0      0   13.0000           0           0   \n",
       "563         0    1   29      0      0    8.0500           0           0   \n",
       "311         1    0   18      2      2  262.3750           1           0   \n",
       "613         0    1   29      0      0    7.7500           0           1   \n",
       "\n",
       "     Embarked.S  Pclass.1   ...     Pclass.3  Cabin.A  Cabin.B  Cabin.C  \\\n",
       "301           0         0   ...            1        0        0        0   \n",
       "309           0         1   ...            0        0        0        0   \n",
       "516           1         0   ...            0        0        0        0   \n",
       "120           1         0   ...            0        0        0        0   \n",
       "570           1         0   ...            0        0        0        0   \n",
       "730           1         1   ...            0        0        1        0   \n",
       "228           1         0   ...            0        0        0        0   \n",
       "563           1         0   ...            1        0        0        0   \n",
       "311           0         1   ...            0        0        1        0   \n",
       "613           0         0   ...            1        0        0        0   \n",
       "\n",
       "     Cabin.D  Cabin.E  Cabin.F  Cabin.G  Cabin.T  Cabin.U  \n",
       "301        0        0        0        0        0        1  \n",
       "309        0        1        0        0        0        0  \n",
       "516        0        0        1        0        0        0  \n",
       "120        0        0        0        0        0        1  \n",
       "570        0        0        0        0        0        1  \n",
       "730        0        0        0        0        0        0  \n",
       "228        0        0        0        0        0        1  \n",
       "563        0        0        0        0        0        1  \n",
       "311        0        0        0        0        0        0  \n",
       "613        0        0        0        0        0        1  \n",
       "\n",
       "[10 rows x 21 columns]"
      ]
     },
     "execution_count": 33,
     "metadata": {},
     "output_type": "execute_result"
    }
   ],
   "source": [
    "train_data.head(10)"
   ]
  },
  {
   "cell_type": "markdown",
   "metadata": {},
   "source": [
    "### Build the model"
   ]
  },
  {
   "cell_type": "code",
   "execution_count": 27,
   "metadata": {
    "collapsed": false
   },
   "outputs": [
    {
     "data": {
      "text/plain": [
       "RandomForestClassifier(bootstrap=True, class_weight=None, criterion='gini',\n",
       "            max_depth=10, max_features='auto', max_leaf_nodes=None,\n",
       "            min_samples_leaf=1, min_samples_split=50,\n",
       "            min_weight_fraction_leaf=0.0, n_estimators=200, n_jobs=1,\n",
       "            oob_score=False, random_state=1, verbose=0, warm_start=False)"
      ]
     },
     "execution_count": 27,
     "metadata": {},
     "output_type": "execute_result"
    }
   ],
   "source": [
    "response = test_data.copy()\n",
    "forest = RandomForestClassifier(n_estimators=200, max_depth=10, min_samples_split=50, random_state=1)\n",
    "forest.fit(train_data.drop(target, axis=1), train_data[target])"
   ]
  },
  {
   "cell_type": "markdown",
   "metadata": {},
   "source": [
    "### Make a predition"
   ]
  },
  {
   "cell_type": "code",
   "execution_count": 28,
   "metadata": {
    "collapsed": true
   },
   "outputs": [],
   "source": [
    "response[\"prediction\"] = forest.predict(test_data.drop(target, axis=1)).astype(int)"
   ]
  },
  {
   "cell_type": "code",
   "execution_count": 29,
   "metadata": {
    "collapsed": false
   },
   "outputs": [
    {
     "name": "stdout",
     "output_type": "stream",
     "text": [
      "< 99 > Data Points miss classified => train score: 0.861%\n",
      "< 39 > Data Points miss classified => test  score: 0.782%\n",
      "\n",
      "F1 Score from the test set 0.692913385827\n"
     ]
    }
   ],
   "source": [
    "# miss classified\n",
    "test_miss = len(response[response[\"prediction\"] !=  response[target]])\n",
    "train_miss = np.abs(train_data[target] - forest.predict(train_data.drop(target, axis=1))).sum()\n",
    "\n",
    "# classification score\n",
    "train_score = forest.score(train_data.drop(target, axis=1), train_data[target])\n",
    "test_score = forest.score(test_data.drop(target, axis=1), test_data[target])\n",
    "\n",
    "print \"< %i > Data Points miss classified => train score: %.3f%%\"%(train_miss, train_score) \n",
    "print \"< %i > Data Points miss classified => test  score: %.3f%%\"%(test_miss, test_score) \n",
    "print \"\"\n",
    "print \"F1 Score from the test set\", f1_score(response[\"prediction\"], response[target])"
   ]
  },
  {
   "cell_type": "markdown",
   "metadata": {},
   "source": [
    "### Assessing performances"
   ]
  },
  {
   "cell_type": "code",
   "execution_count": 30,
   "metadata": {
    "collapsed": true
   },
   "outputs": [],
   "source": [
    "from sklearn.metrics import confusion_matrix"
   ]
  },
  {
   "cell_type": "code",
   "execution_count": 31,
   "metadata": {
    "collapsed": true
   },
   "outputs": [],
   "source": [
    "def plot_confusion_matrix(cm, title='Confusion matrix', cmap=plt.cm.Blues):\n",
    "    plt.imshow(cm, interpolation='nearest', cmap=cmap)\n",
    "    plt.title(title)\n",
    "    plt.colorbar()\n",
    "    tick_marks = np.arange(2)\n",
    "    plt.xticks(tick_marks, [\"Survived\", \"Dead\"])\n",
    "    plt.yticks(tick_marks, [\"Survived\", \"Dead\"])\n",
    "    plt.tight_layout()\n",
    "    plt.ylabel('True label')\n",
    "    plt.xlabel('Predicted label')"
   ]
  },
  {
   "cell_type": "code",
   "execution_count": 32,
   "metadata": {
    "collapsed": false
   },
   "outputs": [
    {
     "data": {
      "text/html": [
       "<div>\n",
       "<table border=\"1\" class=\"dataframe\">\n",
       "  <thead>\n",
       "    <tr style=\"text-align: right;\">\n",
       "      <th></th>\n",
       "      <th>Guess Survived</th>\n",
       "      <th>Guess Dead</th>\n",
       "    </tr>\n",
       "  </thead>\n",
       "  <tbody>\n",
       "    <tr>\n",
       "      <th>Realy Survived</th>\n",
       "      <td>0.53</td>\n",
       "      <td>0.05</td>\n",
       "    </tr>\n",
       "    <tr>\n",
       "      <th>Realy Dead</th>\n",
       "      <td>0.16</td>\n",
       "      <td>0.24</td>\n",
       "    </tr>\n",
       "  </tbody>\n",
       "</table>\n",
       "</div>"
      ],
      "text/plain": [
       "                Guess Survived  Guess Dead\n",
       "Realy Survived            0.53        0.05\n",
       "Realy Dead                0.16        0.24"
      ]
     },
     "execution_count": 32,
     "metadata": {},
     "output_type": "execute_result"
    }
   ],
   "source": [
    "tab = confusion_matrix(response[target], response[\"prediction\"]) / len(response)\n",
    "f = np.vectorize(lambda y:   math.floor(100 * y) / 100 , otypes=[np.float])\n",
    "table = pd.DataFrame(f(tab)).rename(columns={0: \"Guess Survived\", 1: \"Guess Dead\"})\n",
    "table = table.rename(index={0: \"Realy Survived\", 1: \"Realy Dead\"})\n",
    "table.head()"
   ]
  },
  {
   "cell_type": "code",
   "execution_count": 33,
   "metadata": {
    "collapsed": false
   },
   "outputs": [
    {
     "data": {
      "image/png": "[encoded data removed]",
      "text/plain": [
       "<matplotlib.figure.Figure at 0x10ef71410>"
      ]
     },
     "metadata": {},
     "output_type": "display_data"
    }
   ],
   "source": [
    "plot_confusion_matrix(tab)"
   ]
  },
  {
   "cell_type": "markdown",
   "metadata": {},
   "source": [
    "### ------------------------- Tunning parameters -------------------------"
   ]
  },
  {
   "cell_type": "markdown",
   "metadata": {
    "collapsed": true
   },
   "source": [
    "#### Cross validate the n estimator"
   ]
  },
  {
   "cell_type": "code",
   "execution_count": 34,
   "metadata": {
    "collapsed": false
   },
   "outputs": [],
   "source": [
    "cross_vadlidation_set = StratifiedKFold(titanic[target].tolist(), 10, random_state=1)"
   ]
  },
  {
   "cell_type": "code",
   "execution_count": 53,
   "metadata": {
    "collapsed": false
   },
   "outputs": [
    {
     "name": "stdout",
     "output_type": "stream",
     "text": [
      "Iterration n° 10 => Estimator: 800 Sum of errors train(0.152) , valid(0.182) \n",
      "Iterration n° 10 => Estimator: 820 Sum of errors train(0.151) , valid(0.182) \n",
      "Iterration n° 10 => Estimator: 840 Sum of errors train(0.152) , valid(0.183) \n",
      "Iterration n° 10 => Estimator: 860 Sum of errors train(0.152) , valid(0.183) \n",
      "Iterration n° 10 => Estimator: 880 Sum of errors train(0.151) , valid(0.182) \n",
      "Iterration n° 10 => Estimator: 900 Sum of errors train(0.151) , valid(0.179) \n",
      "Iterration n° 10 => Estimator: 920 Sum of errors train(0.151) , valid(0.183) \n",
      "Iterration n° 10 => Estimator: 940 Sum of errors train(0.151) , valid(0.182) \n",
      "Iterration n° 10 => Estimator: 960 Sum of errors train(0.151) , valid(0.182) \n",
      "Iterration n° 10 => Estimator: 980 Sum of errors train(0.151) , valid(0.182) \n",
      "========= End of the Crossvalidation over estimators\n",
      "========= The minimum vaidation error: (idx: 5, err: 0.179)\n"
     ]
    }
   ],
   "source": [
    "verbose = False \n",
    "cross_train_error = []\n",
    "cross_valid_error = []\n",
    "\n",
    "estimators = 20\n",
    "# ct -> cross_train\n",
    "# cv -> cross_valid\n",
    "\n",
    "iterration = 0\n",
    "cv_iterration = 0\n",
    "\n",
    "for estimators in range(800,1000,20):\n",
    "    if(verbose): print \"========= Running Cross Validation on estimators: \",estimators\n",
    "    cv_iterration = train_score = valid_score = 0\n",
    "    iterration = iterration + 1\n",
    "    \n",
    "    for ct, cv in cross_vadlidation_set:\n",
    "        cv_iterration = cv_iterration + 1\n",
    "\n",
    "    \n",
    "        if(verbose): print \"::::::::: Running Cross Validation on estimators,\" + \\\n",
    "        \"%i used value: %i :::::::::\"%(cv_iterration, estimators)\n",
    "    \n",
    "        cross_train_set = titanic[titanic.index.isin(ct)]\n",
    "        cross_valid_set = titanic[titanic.index.isin(cv)]\n",
    "    \n",
    "        cross_forest = RandomForestClassifier(n_estimators=estimators,\n",
    "                                              max_depth=10,\n",
    "                                              min_samples_split=50,\n",
    "                                              random_state=1)\n",
    "    \n",
    "        cross_forest.fit(cross_train_set.drop(target, axis=1), cross_train_set[target])\n",
    "    \n",
    "        train_score = train_score + cross_forest.score(\n",
    "            cross_train_set.drop(target, axis=1), \n",
    "            cross_train_set[target])\n",
    "        \n",
    "        valid_score = valid_score + cross_forest.score(\n",
    "            cross_valid_set.drop(target, axis=1), \n",
    "            cross_valid_set[target])\n",
    "    \n",
    "    \n",
    "    train_error = 1 - (train_score / 10)\n",
    "    test_error = 1 - (valid_score / 10)\n",
    "    \n",
    "    print \"Iterration n° %i => Estimator: %i Sum of errors\"%(cv_iterration, estimators) + \\\n",
    "    \" train(%.3f) , valid(%.3f) \"%(train_error, test_error)\n",
    "    cross_train_error.append(train_error)#/cross_vadlidation_set.n_folds)\n",
    "    cross_valid_error.append(test_error)#/cross_vadlidation_set.n_folds)\n",
    "\n",
    "minerr = min(cross_valid_error)\n",
    "minerr_idx = cross_valid_error.index(minerr)\n",
    "print \"========= End of the Crossvalidation over estimators\"\n",
    "print \"========= The minimum vaidation error: (idx: %i, err: %.3f)\"%(minerr_idx, minerr)"
   ]
  },
  {
   "cell_type": "code",
   "execution_count": 45,
   "metadata": {
    "collapsed": true
   },
   "outputs": [],
   "source": [
    "#df[df.index.map(lambda x: x[0] in stk_list)]"
   ]
  },
  {
   "cell_type": "code",
   "execution_count": 54,
   "metadata": {
    "collapsed": false
   },
   "outputs": [
    {
     "data": {
      "text/plain": [
       "[<matplotlib.lines.Line2D at 0x11242ea90>]"
      ]
     },
     "execution_count": 54,
     "metadata": {},
     "output_type": "execute_result"
    },
    {
     "data": {
      "image/png": "[encoded data removed]",
      "text/plain": [
       "<matplotlib.figure.Figure at 0x112481710>"
      ]
     },
     "metadata": {},
     "output_type": "display_data"
    }
   ],
   "source": [
    "plt.figure()\n",
    "plt.title(\"Cross validation on estimator\")\n",
    "plt.plot(range(800,1000,20), cross_train_error, 'o-', color=\"r\", label=\"Training error\")\n",
    "plt.plot(range(800,1000,20), cross_valid_error, 'o-', color=\"g\", label=\"Cross-validation error\")"
   ]
  },
  {
   "cell_type": "code",
   "execution_count": 56,
   "metadata": {
    "collapsed": false
   },
   "outputs": [
    {
     "name": "stdout",
     "output_type": "stream",
     "text": [
      "Iterration n° 10 => Depth: 3 Sum of errors train(0.193) , valid(0.209) \n",
      "Iterration n° 10 => Depth: 4 Sum of errors train(0.171) , valid(0.201) \n",
      "Iterration n° 10 => Depth: 5 Sum of errors train(0.161) , valid(0.187) \n",
      "Iterration n° 10 => Depth: 6 Sum of errors train(0.157) , valid(0.184) \n",
      "Iterration n° 10 => Depth: 7 Sum of errors train(0.156) , valid(0.183) \n",
      "Iterration n° 10 => Depth: 8 Sum of errors train(0.155) , valid(0.181) \n",
      "Iterration n° 10 => Depth: 9 Sum of errors train(0.153) , valid(0.181) \n",
      "Iterration n° 10 => Depth: 10 Sum of errors train(0.151) , valid(0.179) \n",
      "Iterration n° 10 => Depth: 11 Sum of errors train(0.150) , valid(0.182) \n",
      "Iterration n° 10 => Depth: 12 Sum of errors train(0.150) , valid(0.182) \n",
      "Iterration n° 10 => Depth: 13 Sum of errors train(0.149) , valid(0.183) \n",
      "Iterration n° 10 => Depth: 14 Sum of errors train(0.149) , valid(0.182) \n",
      "========= End of the Crossvalidation over Depth\n",
      "========= The minimum vaidation error: (idx: 7, err: 0.179417)\n"
     ]
    }
   ],
   "source": [
    "verbose = False \n",
    "cross_train_error = []\n",
    "cross_valid_error = []\n",
    "\n",
    "estimators = 20\n",
    "# ct -> cross_train\n",
    "# cv -> cross_valid\n",
    "\n",
    "iterration = 0\n",
    "cv_iterration = 0\n",
    "\n",
    "for depth in range(3,15,1):\n",
    "    if(verbose): print \"========= Running Cross Validation on max_depth: \",estimators\n",
    "    cv_iterration = train_score = valid_score = 0\n",
    "    iterration = iterration + 1\n",
    "    \n",
    "    for ct, cv in cross_vadlidation_set:\n",
    "        cv_iterration = cv_iterration + 1\n",
    "\n",
    "    \n",
    "        if(verbose): print \"::::::::: Running Cross Validation on estimators,\" + \\\n",
    "        \"%i used value: %i :::::::::\"%(cv_iterration, estimators)\n",
    "    \n",
    "        cross_train_set = titanic[titanic.index.isin(ct)]\n",
    "        cross_valid_set = titanic[titanic.index.isin(cv)]\n",
    "    \n",
    "        cross_forest = RandomForestClassifier(n_estimators=900,\n",
    "                                              max_depth=depth,\n",
    "                                              min_samples_split=50,\n",
    "                                              random_state=1)\n",
    "    \n",
    "        cross_forest.fit(cross_train_set.drop(target, axis=1), cross_train_set[target])\n",
    "    \n",
    "        train_score = train_score + cross_forest.score(\n",
    "            cross_train_set.drop(target, axis=1), \n",
    "            cross_train_set[target])\n",
    "        \n",
    "        valid_score = valid_score + cross_forest.score(\n",
    "            cross_valid_set.drop(target, axis=1), \n",
    "            cross_valid_set[target])\n",
    "    \n",
    "    \n",
    "    train_error = 1 - (train_score / 10)\n",
    "    test_error = 1 - (valid_score / 10)\n",
    "    \n",
    "    print \"Iterration n° %i => Depth: %i Sum of errors\"%(iterration, depth) + \\\n",
    "    \" train(%.3f) , valid(%.3f) \"%(train_error, test_error)\n",
    "    cross_train_error.append(train_error)#/cross_vadlidation_set.n_folds)\n",
    "    cross_valid_error.append(test_error)#/cross_vadlidation_set.n_folds)\n",
    "    \n",
    "minerr = min(cross_valid_error)\n",
    "minerr_idx = cross_valid_error.index(minerr)\n",
    "print \"========= End of the Crossvalidation over Depth\"\n",
    "print \"========= The minimum vaidation error: (idx: %i, err: %.6f)\"%(minerr_idx, minerr)"
   ]
  },
  {
   "cell_type": "code",
   "execution_count": 58,
   "metadata": {
    "collapsed": false
   },
   "outputs": [
    {
     "data": {
      "text/plain": [
       "[<matplotlib.lines.Line2D at 0x1123e2550>]"
      ]
     },
     "execution_count": 58,
     "metadata": {},
     "output_type": "execute_result"
    },
    {
     "data": {
      "image/png": "[encoded data removed]",
      "text/plain": [
       "<matplotlib.figure.Figure at 0x1124bf990>"
      ]
     },
     "metadata": {},
     "output_type": "display_data"
    }
   ],
   "source": [
    "plt.figure()\n",
    "plt.title(\"Cross validation on Depth\")\n",
    "plt.plot(range(3,15,1), cross_train_error, 'o-', color=\"r\", label=\"Training error\")\n",
    "plt.plot(range(3,15,1), cross_valid_error, 'o-', color=\"g\", label=\"Cross-validation error\")"
   ]
  },
  {
   "cell_type": "code",
   "execution_count": 61,
   "metadata": {
    "collapsed": false
   },
   "outputs": [
    {
     "name": "stdout",
     "output_type": "stream",
     "text": [
      "Iterration n° 1 => Depth: 14 Sum of errors train(0.101) , valid(0.174) \n",
      "Iterration n° 2 => Depth: 14 Sum of errors train(0.128) , valid(0.174) \n",
      "Iterration n° 3 => Depth: 14 Sum of errors train(0.139) , valid(0.176) \n",
      "Iterration n° 4 => Depth: 14 Sum of errors train(0.145) , valid(0.176) \n",
      "Iterration n° 5 => Depth: 14 Sum of errors train(0.151) , valid(0.179) \n",
      "Iterration n° 6 => Depth: 14 Sum of errors train(0.158) , valid(0.182) \n",
      "Iterration n° 7 => Depth: 14 Sum of errors train(0.163) , valid(0.188) \n",
      "Iterration n° 8 => Depth: 14 Sum of errors train(0.167) , valid(0.196) \n",
      "Iterration n° 9 => Depth: 14 Sum of errors train(0.174) , valid(0.204) \n",
      "Iterration n° 10 => Depth: 14 Sum of errors train(0.179) , valid(0.205) \n",
      "Iterration n° 11 => Depth: 14 Sum of errors train(0.178) , valid(0.204) \n",
      "Iterration n° 12 => Depth: 14 Sum of errors train(0.178) , valid(0.211) \n",
      "Iterration n° 13 => Depth: 14 Sum of errors train(0.181) , valid(0.216) \n",
      "Iterration n° 14 => Depth: 14 Sum of errors train(0.182) , valid(0.219) \n",
      "Iterration n° 15 => Depth: 14 Sum of errors train(0.185) , valid(0.214) \n",
      "Iterration n° 16 => Depth: 14 Sum of errors train(0.187) , valid(0.216) \n",
      "Iterration n° 17 => Depth: 14 Sum of errors train(0.191) , valid(0.218) \n",
      "Iterration n° 18 => Depth: 14 Sum of errors train(0.199) , valid(0.215) \n",
      "Iterration n° 19 => Depth: 14 Sum of errors train(0.202) , valid(0.218) \n",
      "Iterration n° 20 => Depth: 14 Sum of errors train(0.204) , valid(0.231) \n",
      "Iterration n° 21 => Depth: 14 Sum of errors train(0.209) , valid(0.237) \n",
      "Iterration n° 22 => Depth: 14 Sum of errors train(0.214) , valid(0.242) \n",
      "Iterration n° 23 => Depth: 14 Sum of errors train(0.214) , valid(0.238) \n",
      "Iterration n° 24 => Depth: 14 Sum of errors train(0.213) , valid(0.238) \n",
      "Iterration n° 25 => Depth: 14 Sum of errors train(0.213) , valid(0.232) \n",
      "Iterration n° 26 => Depth: 14 Sum of errors train(0.214) , valid(0.229) \n",
      "Iterration n° 27 => Depth: 14 Sum of errors train(0.211) , valid(0.229) \n",
      "Iterration n° 28 => Depth: 14 Sum of errors train(0.209) , valid(0.222) \n",
      "Iterration n° 29 => Depth: 14 Sum of errors train(0.210) , valid(0.223) \n",
      "========= End of the Crossvalidation over Depth\n",
      "========= The minimum vaidation error: (idx: 0, err: 0.173824)\n"
     ]
    }
   ],
   "source": [
    "verbose = False \n",
    "cross_train_error = []\n",
    "cross_valid_error = []\n",
    "\n",
    "estimators = 20\n",
    "# ct -> cross_train\n",
    "# cv -> cross_valid\n",
    "\n",
    "iterration = 0\n",
    "cv_iterration = 0\n",
    "\n",
    "for min_split in range(10,300,10):\n",
    "    if(verbose): print \"========= Running Cross Validation on max_depth: \",estimators\n",
    "    cv_iterration = train_score = valid_score = 0\n",
    "    iterration = iterration + 1\n",
    "    \n",
    "    for ct, cv in cross_vadlidation_set:\n",
    "        cv_iterration = cv_iterration + 1\n",
    "\n",
    "    \n",
    "        if(verbose): print \"::::::::: Running Cross Validation on estimators,\" + \\\n",
    "        \"%i used value: %i :::::::::\"%(cv_iterration, estimators)\n",
    "    \n",
    "        cross_train_set = titanic[titanic.index.isin(ct)]\n",
    "        cross_valid_set = titanic[titanic.index.isin(cv)]\n",
    "    \n",
    "        cross_forest = RandomForestClassifier(n_estimators=900,\n",
    "                                              max_depth=10,\n",
    "                                              min_samples_split=min_split,\n",
    "                                              random_state=1)\n",
    "    \n",
    "        cross_forest.fit(cross_train_set.drop(target, axis=1), cross_train_set[target])\n",
    "    \n",
    "        train_score = train_score + cross_forest.score(\n",
    "            cross_train_set.drop(target, axis=1), \n",
    "            cross_train_set[target])\n",
    "        \n",
    "        valid_score = valid_score + cross_forest.score(\n",
    "            cross_valid_set.drop(target, axis=1), \n",
    "            cross_valid_set[target])\n",
    "    \n",
    "    \n",
    "    train_error = 1 - (train_score / 10)\n",
    "    test_error = 1 - (valid_score / 10)\n",
    "    \n",
    "    print \"Iterration n° %i => Min Split: %i Sum of errors\"%(iterration, min_split) + \\\n",
    "    \" train(%.3f) , valid(%.3f) \"%(train_error, test_error)\n",
    "    cross_train_error.append(train_error)#/cross_vadlidation_set.n_folds)\n",
    "    cross_valid_error.append(test_error)#/cross_vadlidation_set.n_folds)\n",
    "    \n",
    "minerr = min(cross_valid_error)\n",
    "minerr_idx = cross_valid_error.index(minerr)\n",
    "print \"========= End of the Crossvalidation over Depth\"\n",
    "print \"========= The minimum vaidation error: (idx: %i, err: %.6f)\"%(minerr_idx, minerr)"
   ]
  },
  {
   "cell_type": "code",
   "execution_count": 63,
   "metadata": {
    "collapsed": false
   },
   "outputs": [
    {
     "data": {
      "text/plain": [
       "[<matplotlib.lines.Line2D at 0x11275ffd0>]"
      ]
     },
     "execution_count": 63,
     "metadata": {},
     "output_type": "execute_result"
    },
    {
     "data": {
      "image/png": "[encoded data removed]",
      "text/plain": [
       "<matplotlib.figure.Figure at 0x112503fd0>"
      ]
     },
     "metadata": {},
     "output_type": "display_data"
    }
   ],
   "source": [
    "plt.figure()\n",
    "plt.title(\"Cross validation on Min sample split\")\n",
    "plt.plot(range(10,300,10), cross_train_error, 'o-', color=\"r\", label=\"Training error\")\n",
    "plt.plot(range(10,300,10), cross_valid_error, 'o-', color=\"g\", label=\"Cross-validation error\")"
   ]
  },
  {
   "cell_type": "code",
   "execution_count": null,
   "metadata": {
    "collapsed": true
   },
   "outputs": [],
   "source": []
  }
 ],
 "metadata": {
  "kernelspec": {
   "display_name": "Python 2",
   "language": "python",
   "name": "python2"
  },
  "language_info": {
   "codemirror_mode": {
    "name": "ipython",
    "version": 2
   },
   "file_extension": ".py",
   "mimetype": "text/x-python",
   "name": "python",
   "nbconvert_exporter": "python",
   "pygments_lexer": "ipython2",
   "version": "2.7.11"
  }
 },
 "nbformat": 4,
 "nbformat_minor": 0
}
