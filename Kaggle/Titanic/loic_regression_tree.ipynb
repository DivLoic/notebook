{
 "cells": [
  {
   "cell_type": "code",
   "execution_count": 37,
   "metadata": {
    "collapsed": true
   },
   "outputs": [],
   "source": [
    "# coding: utf8"
   ]
  },
  {
   "cell_type": "code",
   "execution_count": 38,
   "metadata": {
    "collapsed": true
   },
   "outputs": [],
   "source": [
    "import math\n",
    "import pandas as pd\n",
    "import numpy  as np\n",
    "import seaborn as sb\n",
    "import matplotlib.pyplot as plt"
   ]
  },
  {
   "cell_type": "code",
   "execution_count": 39,
   "metadata": {
    "collapsed": true
   },
   "outputs": [],
   "source": [
    "from sklearn.tree import DecisionTreeRegressor\n",
    "from sklearn.cross_validation import StratifiedKFold\n",
    "from sklearn.cross_validation import train_test_split"
   ]
  },
  {
   "cell_type": "code",
   "execution_count": 40,
   "metadata": {
    "collapsed": true
   },
   "outputs": [],
   "source": [
    "import warnings\n",
    "%matplotlib inline\n",
    "warnings.filterwarnings(\"ignore\")\n",
    "sb.set(style=\"white\", color_codes=True)"
   ]
  },
  {
   "cell_type": "markdown",
   "metadata": {},
   "source": [
    "## Constantes"
   ]
  },
  {
   "cell_type": "code",
   "execution_count": 41,
   "metadata": {
    "collapsed": true
   },
   "outputs": [],
   "source": [
    "NON_FEATURES = [\"Pclass\", \"Cabin\", \"Name\", \"Ticket\", \"Embarked\", \"Cabin.U\"]\n",
    "SEED_STATE = 1\n",
    "KFOLDS_NUM = 10"
   ]
  },
  {
   "cell_type": "markdown",
   "metadata": {},
   "source": [
    "## Functions"
   ]
  },
  {
   "cell_type": "code",
   "execution_count": 42,
   "metadata": {
    "collapsed": true
   },
   "outputs": [],
   "source": [
    "def binary(df, column, values=[\"1\", \"0\"]):\n",
    "    \"\"\"\n",
    "    params\n",
    "    ----------\n",
    "\n",
    "    return\n",
    "    ----------\n",
    "    \"\"\"\n",
    "    for value in values:\n",
    "            df[\"%s.%s\"%(column,value)] = map(lambda y: 1 if y == value else 0, df[column])\n",
    "    return df"
   ]
  },
  {
   "cell_type": "code",
   "execution_count": 43,
   "metadata": {
    "collapsed": false
   },
   "outputs": [],
   "source": [
    "def dataCleaning(df, inPlace=True, toDrop=NON_FEATURES):\n",
    "    \"\"\"\n",
    "        \n",
    "    \"\"\"\n",
    "    #median_age = df[\"Age\"].median()\n",
    "    #df[\"Age\"].fillna(median_age, inplace=True)\n",
    "    df[\"Cabin\"].fillna(\"unknow\", inplace=inPlace)\n",
    "    df[\"Cabin\"] = map(lambda y: y[0].upper(), df[\"Cabin\"])\n",
    "    \n",
    "    df[\"Embarked\"].fillna(\"C\", inplace=inPlace)\n",
    "    \n",
    "    df[\"Sex\"] = df[\"Sex\"].map({'female': 0, 'male': 1}).astype(int)\n",
    "    \n",
    "    bridges = sorted(df[\"Cabin\"].unique())\n",
    "    \n",
    "    df = binary(df, column=\"Embarked\", values=['C', 'Q', 'S'])\n",
    "    df = binary(df, column=\"Pclass\", values=['1', '2', '3'])\n",
    "    df = binary(df, column=\"Cabin\", values=bridges)\n",
    "    \n",
    "    return df.drop(toDrop, axis=1)"
   ]
  },
  {
   "cell_type": "code",
   "execution_count": 44,
   "metadata": {
    "collapsed": true
   },
   "outputs": [],
   "source": [
    "def rmse(actual, pred):\n",
    "    return np.sqrt(( actual - pred )**2).sum() / len(actual)"
   ]
  },
  {
   "cell_type": "markdown",
   "metadata": {},
   "source": [
    "## Dataset"
   ]
  },
  {
   "cell_type": "code",
   "execution_count": 45,
   "metadata": {
    "collapsed": false
   },
   "outputs": [],
   "source": [
    "train = pd.read_csv(\"data/train.csv\").drop([\"Survived\"], axis=1)\n",
    "test = pd.read_csv(\"data/test.csv\")"
   ]
  },
  {
   "cell_type": "code",
   "execution_count": 46,
   "metadata": {
    "collapsed": false
   },
   "outputs": [],
   "source": [
    "train = dataCleaning(train)\n",
    "test = dataCleaning(test)"
   ]
  },
  {
   "cell_type": "code",
   "execution_count": 47,
   "metadata": {
    "collapsed": false
   },
   "outputs": [
    {
     "name": "stdout",
     "output_type": "stream",
     "text": [
      "Nombre de N/A 177 / 891\n",
      "Nombre de N/A 86 / 418\n"
     ]
    }
   ],
   "source": [
    "print \"Nombre de N/A %s / %s\"%(train.isnull().sum()[2],len(train))\n",
    "print \"Nombre de N/A %s / %s\"%(test.isnull().sum()[2],len(test))"
   ]
  },
  {
   "cell_type": "code",
   "execution_count": 48,
   "metadata": {
    "collapsed": false
   },
   "outputs": [
    {
     "data": {
      "text/html": [
       "<div>\n",
       "<table border=\"1\" class=\"dataframe\">\n",
       "  <thead>\n",
       "    <tr style=\"text-align: right;\">\n",
       "      <th></th>\n",
       "      <th>PassengerId</th>\n",
       "      <th>Sex</th>\n",
       "      <th>Age</th>\n",
       "      <th>SibSp</th>\n",
       "      <th>Parch</th>\n",
       "      <th>Fare</th>\n",
       "      <th>Embarked.C</th>\n",
       "      <th>Embarked.Q</th>\n",
       "      <th>Embarked.S</th>\n",
       "      <th>Pclass.1</th>\n",
       "      <th>Pclass.2</th>\n",
       "      <th>Pclass.3</th>\n",
       "      <th>Cabin.A</th>\n",
       "      <th>Cabin.B</th>\n",
       "      <th>Cabin.C</th>\n",
       "      <th>Cabin.D</th>\n",
       "      <th>Cabin.E</th>\n",
       "      <th>Cabin.F</th>\n",
       "      <th>Cabin.G</th>\n",
       "      <th>Cabin.T</th>\n",
       "    </tr>\n",
       "  </thead>\n",
       "  <tbody>\n",
       "    <tr>\n",
       "      <th>887</th>\n",
       "      <td>888</td>\n",
       "      <td>0</td>\n",
       "      <td>19</td>\n",
       "      <td>0</td>\n",
       "      <td>0</td>\n",
       "      <td>30.00</td>\n",
       "      <td>0</td>\n",
       "      <td>0</td>\n",
       "      <td>1</td>\n",
       "      <td>0</td>\n",
       "      <td>0</td>\n",
       "      <td>0</td>\n",
       "      <td>0</td>\n",
       "      <td>1</td>\n",
       "      <td>0</td>\n",
       "      <td>0</td>\n",
       "      <td>0</td>\n",
       "      <td>0</td>\n",
       "      <td>0</td>\n",
       "      <td>0</td>\n",
       "    </tr>\n",
       "    <tr>\n",
       "      <th>888</th>\n",
       "      <td>889</td>\n",
       "      <td>0</td>\n",
       "      <td>NaN</td>\n",
       "      <td>1</td>\n",
       "      <td>2</td>\n",
       "      <td>23.45</td>\n",
       "      <td>0</td>\n",
       "      <td>0</td>\n",
       "      <td>1</td>\n",
       "      <td>0</td>\n",
       "      <td>0</td>\n",
       "      <td>0</td>\n",
       "      <td>0</td>\n",
       "      <td>0</td>\n",
       "      <td>0</td>\n",
       "      <td>0</td>\n",
       "      <td>0</td>\n",
       "      <td>0</td>\n",
       "      <td>0</td>\n",
       "      <td>0</td>\n",
       "    </tr>\n",
       "    <tr>\n",
       "      <th>889</th>\n",
       "      <td>890</td>\n",
       "      <td>1</td>\n",
       "      <td>26</td>\n",
       "      <td>0</td>\n",
       "      <td>0</td>\n",
       "      <td>30.00</td>\n",
       "      <td>1</td>\n",
       "      <td>0</td>\n",
       "      <td>0</td>\n",
       "      <td>0</td>\n",
       "      <td>0</td>\n",
       "      <td>0</td>\n",
       "      <td>0</td>\n",
       "      <td>0</td>\n",
       "      <td>1</td>\n",
       "      <td>0</td>\n",
       "      <td>0</td>\n",
       "      <td>0</td>\n",
       "      <td>0</td>\n",
       "      <td>0</td>\n",
       "    </tr>\n",
       "    <tr>\n",
       "      <th>890</th>\n",
       "      <td>891</td>\n",
       "      <td>1</td>\n",
       "      <td>32</td>\n",
       "      <td>0</td>\n",
       "      <td>0</td>\n",
       "      <td>7.75</td>\n",
       "      <td>0</td>\n",
       "      <td>1</td>\n",
       "      <td>0</td>\n",
       "      <td>0</td>\n",
       "      <td>0</td>\n",
       "      <td>0</td>\n",
       "      <td>0</td>\n",
       "      <td>0</td>\n",
       "      <td>0</td>\n",
       "      <td>0</td>\n",
       "      <td>0</td>\n",
       "      <td>0</td>\n",
       "      <td>0</td>\n",
       "      <td>0</td>\n",
       "    </tr>\n",
       "  </tbody>\n",
       "</table>\n",
       "</div>"
      ],
      "text/plain": [
       "     PassengerId  Sex  Age  SibSp  Parch   Fare  Embarked.C  Embarked.Q  \\\n",
       "887          888    0   19      0      0  30.00           0           0   \n",
       "888          889    0  NaN      1      2  23.45           0           0   \n",
       "889          890    1   26      0      0  30.00           1           0   \n",
       "890          891    1   32      0      0   7.75           0           1   \n",
       "\n",
       "     Embarked.S  Pclass.1  Pclass.2  Pclass.3  Cabin.A  Cabin.B  Cabin.C  \\\n",
       "887           1         0         0         0        0        1        0   \n",
       "888           1         0         0         0        0        0        0   \n",
       "889           0         0         0         0        0        0        1   \n",
       "890           0         0         0         0        0        0        0   \n",
       "\n",
       "     Cabin.D  Cabin.E  Cabin.F  Cabin.G  Cabin.T  \n",
       "887        0        0        0        0        0  \n",
       "888        0        0        0        0        0  \n",
       "889        0        0        0        0        0  \n",
       "890        0        0        0        0        0  "
      ]
     },
     "execution_count": 48,
     "metadata": {},
     "output_type": "execute_result"
    }
   ],
   "source": [
    "train.tail(4)"
   ]
  },
  {
   "cell_type": "code",
   "execution_count": 49,
   "metadata": {
    "collapsed": false
   },
   "outputs": [
    {
     "data": {
      "text/html": [
       "<div>\n",
       "<table border=\"1\" class=\"dataframe\">\n",
       "  <thead>\n",
       "    <tr style=\"text-align: right;\">\n",
       "      <th></th>\n",
       "      <th>PassengerId</th>\n",
       "      <th>Sex</th>\n",
       "      <th>Age</th>\n",
       "      <th>SibSp</th>\n",
       "      <th>Parch</th>\n",
       "      <th>Fare</th>\n",
       "      <th>Embarked.C</th>\n",
       "      <th>Embarked.Q</th>\n",
       "      <th>Embarked.S</th>\n",
       "      <th>Pclass.1</th>\n",
       "      <th>Pclass.2</th>\n",
       "      <th>Pclass.3</th>\n",
       "      <th>Cabin.A</th>\n",
       "      <th>Cabin.B</th>\n",
       "      <th>Cabin.C</th>\n",
       "      <th>Cabin.D</th>\n",
       "      <th>Cabin.E</th>\n",
       "      <th>Cabin.F</th>\n",
       "      <th>Cabin.G</th>\n",
       "    </tr>\n",
       "  </thead>\n",
       "  <tbody>\n",
       "    <tr>\n",
       "      <th>414</th>\n",
       "      <td>1306</td>\n",
       "      <td>0</td>\n",
       "      <td>39.0</td>\n",
       "      <td>0</td>\n",
       "      <td>0</td>\n",
       "      <td>108.9000</td>\n",
       "      <td>1</td>\n",
       "      <td>0</td>\n",
       "      <td>0</td>\n",
       "      <td>0</td>\n",
       "      <td>0</td>\n",
       "      <td>0</td>\n",
       "      <td>0</td>\n",
       "      <td>0</td>\n",
       "      <td>1</td>\n",
       "      <td>0</td>\n",
       "      <td>0</td>\n",
       "      <td>0</td>\n",
       "      <td>0</td>\n",
       "    </tr>\n",
       "    <tr>\n",
       "      <th>415</th>\n",
       "      <td>1307</td>\n",
       "      <td>1</td>\n",
       "      <td>38.5</td>\n",
       "      <td>0</td>\n",
       "      <td>0</td>\n",
       "      <td>7.2500</td>\n",
       "      <td>0</td>\n",
       "      <td>0</td>\n",
       "      <td>1</td>\n",
       "      <td>0</td>\n",
       "      <td>0</td>\n",
       "      <td>0</td>\n",
       "      <td>0</td>\n",
       "      <td>0</td>\n",
       "      <td>0</td>\n",
       "      <td>0</td>\n",
       "      <td>0</td>\n",
       "      <td>0</td>\n",
       "      <td>0</td>\n",
       "    </tr>\n",
       "    <tr>\n",
       "      <th>416</th>\n",
       "      <td>1308</td>\n",
       "      <td>1</td>\n",
       "      <td>NaN</td>\n",
       "      <td>0</td>\n",
       "      <td>0</td>\n",
       "      <td>8.0500</td>\n",
       "      <td>0</td>\n",
       "      <td>0</td>\n",
       "      <td>1</td>\n",
       "      <td>0</td>\n",
       "      <td>0</td>\n",
       "      <td>0</td>\n",
       "      <td>0</td>\n",
       "      <td>0</td>\n",
       "      <td>0</td>\n",
       "      <td>0</td>\n",
       "      <td>0</td>\n",
       "      <td>0</td>\n",
       "      <td>0</td>\n",
       "    </tr>\n",
       "    <tr>\n",
       "      <th>417</th>\n",
       "      <td>1309</td>\n",
       "      <td>1</td>\n",
       "      <td>NaN</td>\n",
       "      <td>1</td>\n",
       "      <td>1</td>\n",
       "      <td>22.3583</td>\n",
       "      <td>1</td>\n",
       "      <td>0</td>\n",
       "      <td>0</td>\n",
       "      <td>0</td>\n",
       "      <td>0</td>\n",
       "      <td>0</td>\n",
       "      <td>0</td>\n",
       "      <td>0</td>\n",
       "      <td>0</td>\n",
       "      <td>0</td>\n",
       "      <td>0</td>\n",
       "      <td>0</td>\n",
       "      <td>0</td>\n",
       "    </tr>\n",
       "  </tbody>\n",
       "</table>\n",
       "</div>"
      ],
      "text/plain": [
       "     PassengerId  Sex   Age  SibSp  Parch      Fare  Embarked.C  Embarked.Q  \\\n",
       "414         1306    0  39.0      0      0  108.9000           1           0   \n",
       "415         1307    1  38.5      0      0    7.2500           0           0   \n",
       "416         1308    1   NaN      0      0    8.0500           0           0   \n",
       "417         1309    1   NaN      1      1   22.3583           1           0   \n",
       "\n",
       "     Embarked.S  Pclass.1  Pclass.2  Pclass.3  Cabin.A  Cabin.B  Cabin.C  \\\n",
       "414           0         0         0         0        0        0        1   \n",
       "415           1         0         0         0        0        0        0   \n",
       "416           1         0         0         0        0        0        0   \n",
       "417           0         0         0         0        0        0        0   \n",
       "\n",
       "     Cabin.D  Cabin.E  Cabin.F  Cabin.G  \n",
       "414        0        0        0        0  \n",
       "415        0        0        0        0  \n",
       "416        0        0        0        0  \n",
       "417        0        0        0        0  "
      ]
     },
     "execution_count": 49,
     "metadata": {},
     "output_type": "execute_result"
    }
   ],
   "source": [
    "test.tail(4)"
   ]
  },
  {
   "cell_type": "code",
   "execution_count": 50,
   "metadata": {
    "collapsed": false
   },
   "outputs": [
    {
     "name": "stdout",
     "output_type": "stream",
     "text": [
      "Nombre de N/A 0 / 714\n",
      "Nombre de N/A 0 / 331\n"
     ]
    }
   ],
   "source": [
    "train.dropna(inplace=True)\n",
    "test.dropna(inplace=True)\n",
    "print \"Nombre de N/A %s / %s\"%(train.isnull().sum()[2],len(train))\n",
    "print \"Nombre de N/A %s / %s\"%(test.isnull().sum()[2],len(test))"
   ]
  },
  {
   "cell_type": "code",
   "execution_count": 51,
   "metadata": {
    "collapsed": true
   },
   "outputs": [],
   "source": [
    "titanic = pd.concat([train, test])"
   ]
  },
  {
   "cell_type": "code",
   "execution_count": 52,
   "metadata": {
    "collapsed": false
   },
   "outputs": [
    {
     "data": {
      "text/plain": [
       "1045"
      ]
     },
     "execution_count": 52,
     "metadata": {},
     "output_type": "execute_result"
    }
   ],
   "source": [
    "len(titanic)"
   ]
  },
  {
   "cell_type": "code",
   "execution_count": 53,
   "metadata": {
    "collapsed": false
   },
   "outputs": [],
   "source": [
    "dataset = titanic.iloc[np.random.permutation(len(titanic))].drop(\"Cabin.T\", axis=1)\n",
    "train_data, test_data = train_test_split(dataset, test_size=0.2, random_state=1)"
   ]
  },
  {
   "cell_type": "code",
   "execution_count": 92,
   "metadata": {
    "collapsed": false
   },
   "outputs": [
    {
     "data": {
      "text/plain": [
       "DecisionTreeRegressor(criterion='mse', max_depth=None, max_features=None,\n",
       "           max_leaf_nodes=None, min_samples_leaf=1, min_samples_split=25,\n",
       "           min_weight_fraction_leaf=0.0, presort=False, random_state=None,\n",
       "           splitter='best')"
      ]
     },
     "execution_count": 92,
     "metadata": {},
     "output_type": "execute_result"
    }
   ],
   "source": [
    "reg_tree = DecisionTreeRegressor(min_samples_split=25)\n",
    "reg_tree.fit(train_data.drop(\"Age\", axis=1),train_data[\"Age\"])"
   ]
  },
  {
   "cell_type": "code",
   "execution_count": 93,
   "metadata": {
    "collapsed": false
   },
   "outputs": [
    {
     "data": {
      "text/plain": [
       "0.11220906741643077"
      ]
     },
     "execution_count": 93,
     "metadata": {},
     "output_type": "execute_result"
    }
   ],
   "source": [
    "reg_tree.score(test_data.drop(\"Age\", axis=1), test_data[\"Age\"])"
   ]
  },
  {
   "cell_type": "code",
   "execution_count": 94,
   "metadata": {
    "collapsed": false
   },
   "outputs": [
    {
     "data": {
      "text/plain": [
       "7.464723845084419"
      ]
     },
     "execution_count": 94,
     "metadata": {},
     "output_type": "execute_result"
    }
   ],
   "source": [
    "rmse(train_data[\"Age\"], reg_tree.predict(train_data.drop(\"Age\", axis=1)))"
   ]
  },
  {
   "cell_type": "code",
   "execution_count": 95,
   "metadata": {
    "collapsed": false
   },
   "outputs": [
    {
     "data": {
      "text/plain": [
       "10.537472803612344"
      ]
     },
     "execution_count": 95,
     "metadata": {},
     "output_type": "execute_result"
    }
   ],
   "source": [
    "rmse(test_data[\"Age\"], reg_tree.predict(test_data.drop(\"Age\", axis=1)))"
   ]
  },
  {
   "cell_type": "raw",
   "metadata": {
    "collapsed": false
   },
   "source": [
    "reg_tree.score(test_data.drop(\"Age\", axis=1),test_data[\"Age\"])\n",
    "#-0.0067072307323583491"
   ]
  },
  {
   "cell_type": "code",
   "execution_count": 58,
   "metadata": {
    "collapsed": false
   },
   "outputs": [],
   "source": [
    "result_data = pd.DataFrame()\n",
    "result_data[\"Age\"] = test_data[\"Age\"]\n",
    "result_data[\"Prediction\"] = reg_tree.predict(test_data.drop(\"Age\", axis=1))"
   ]
  },
  {
   "cell_type": "code",
   "execution_count": 97,
   "metadata": {
    "collapsed": false
   },
   "outputs": [
    {
     "data": {
      "text/html": [
       "<div>\n",
       "<table border=\"1\" class=\"dataframe\">\n",
       "  <thead>\n",
       "    <tr style=\"text-align: right;\">\n",
       "      <th></th>\n",
       "      <th>Age</th>\n",
       "      <th>Prediction</th>\n",
       "    </tr>\n",
       "  </thead>\n",
       "  <tbody>\n",
       "    <tr>\n",
       "      <th>810</th>\n",
       "      <td>26.0</td>\n",
       "      <td>25.076923</td>\n",
       "    </tr>\n",
       "    <tr>\n",
       "      <th>130</th>\n",
       "      <td>33.0</td>\n",
       "      <td>32.500000</td>\n",
       "    </tr>\n",
       "    <tr>\n",
       "      <th>35</th>\n",
       "      <td>18.5</td>\n",
       "      <td>26.928571</td>\n",
       "    </tr>\n",
       "    <tr>\n",
       "      <th>479</th>\n",
       "      <td>2.0</td>\n",
       "      <td>18.000000</td>\n",
       "    </tr>\n",
       "    <tr>\n",
       "      <th>342</th>\n",
       "      <td>28.0</td>\n",
       "      <td>29.590909</td>\n",
       "    </tr>\n",
       "  </tbody>\n",
       "</table>\n",
       "</div>"
      ],
      "text/plain": [
       "      Age  Prediction\n",
       "810  26.0   25.076923\n",
       "130  33.0   32.500000\n",
       "35   18.5   26.928571\n",
       "479   2.0   18.000000\n",
       "342  28.0   29.590909"
      ]
     },
     "execution_count": 97,
     "metadata": {},
     "output_type": "execute_result"
    }
   ],
   "source": [
    "result_data[[\"Age\", \"Prediction\"]].head(5)"
   ]
  },
  {
   "cell_type": "markdown",
   "metadata": {
    "collapsed": true
   },
   "source": [
    "## Cross validation"
   ]
  },
  {
   "cell_type": "code",
   "execution_count": 120,
   "metadata": {
    "collapsed": false
   },
   "outputs": [],
   "source": [
    "cv_titanic = titanic.dropna()\n",
    "iterration = 0\n",
    "cv_iterration = 0\n",
    "\n",
    "verbose = False\n",
    "cross_train_error = []\n",
    "cross_valid_error = []"
   ]
  },
  {
   "cell_type": "code",
   "execution_count": 121,
   "metadata": {
    "collapsed": false
   },
   "outputs": [],
   "source": [
    "cv_set = StratifiedKFold( cv_titanic.index.tolist(), KFOLDS_NUM, random_state=SEED_STATE, shuffle=True)"
   ]
  },
  {
   "cell_type": "code",
   "execution_count": 172,
   "metadata": {
    "collapsed": false,
    "scrolled": false
   },
   "outputs": [
    {
     "name": "stdout",
     "output_type": "stream",
     "text": [
      "========= Running Cross Validation on the size:  1\n",
      "========= Running Cross Validation on the size:  5\n",
      "========= Running Cross Validation on the size:  9\n",
      "========= Running Cross Validation on the size:  13\n",
      "========= Running Cross Validation on the size:  17\n",
      "========= Running Cross Validation on the size:  21\n",
      "========= Running Cross Validation on the size:  25\n",
      "========= Running Cross Validation on the size:  29\n",
      "========= Running Cross Validation on the size:  33\n",
      "========= Running Cross Validation on the size:  37\n",
      "========= Running Cross Validation on the size:  41\n",
      "========= Running Cross Validation on the size:  45\n",
      "========= Running Cross Validation on the size:  49\n",
      "========= Running Cross Validation on the size:  53\n",
      "========= Running Cross Validation on the size:  57\n",
      "========= Running Cross Validation on the size:  61\n",
      "========= Running Cross Validation on the size:  65\n",
      "========= Running Cross Validation on the size:  69\n"
     ]
    }
   ],
   "source": [
    "for leaf_size in xrange(1, 70, 4):\n",
    "    \n",
    "    if(True): print \"========= Running Cross Validation on the size: \",leaf_size\n",
    "    cv_train_error = []\n",
    "    cv_valid_error = []\n",
    "    \n",
    "    cv_iterration = train_score = valid_score = 0\n",
    "    iterration = iterration + 1\n",
    "    \n",
    "    for ct, cv in cv_set:\n",
    "        cv_iterration = cv_iterration + 1\n",
    "        \n",
    "        if(verbose): print \"::::::::: Running Cross Validation,\" + \\\n",
    "            \"iteration n°%i, use leaf size: %i :::::::::\"%(cv_iterration, leaf_size)\n",
    "        \n",
    "        cross_train_set = cv_titanic[cv_titanic.index.isin(ct)]\n",
    "        cross_valid_set = cv_titanic[cv_titanic.index.isin(cv)]\n",
    "        \n",
    "        cv_tree = DecisionTreeRegressor(min_samples_split=11, random_state=SEED_STATE, min_samples_leaf=leaf_size)\n",
    "        cv_tree.fit(cross_train_set.drop(\"Age\", axis=1), cross_train_set[\"Age\"])\n",
    "        \n",
    "        train_error = rmse(\n",
    "            cross_train_set[\"Age\"],\n",
    "            cv_tree.predict(cross_train_set.drop(\"Age\", axis=1))\n",
    "        )\n",
    "        \n",
    "        valid_error = rmse(\n",
    "            cross_valid_set[\"Age\"],\n",
    "            cv_tree.predict(cross_valid_set.drop(\"Age\", axis=1))\n",
    "        )\n",
    "        \n",
    "        cv_train_error.append(train_error)\n",
    "        cv_valid_error.append(valid_error)\n",
    "        \n",
    "        \n",
    "        \n",
    "        if(verbose): print \"::::::::: train error = %s \"%train_error + \\\n",
    "            \" validation error = %s :::::::::\"%valid_error\n",
    "    \n",
    "    cross_train_error.append(np.mean(cv_train_error))\n",
    "    cross_valid_error.append(np.mean(cv_valid_error))\n",
    "    \n",
    "    if(verbose): print \"::::::::: train error = %s \"%train_error + \\\n",
    "            \" validation error = %s :::::::::\"%valid_error\n",
    "    \n",
    "    #print np.mean(cv_train_error)\n",
    "    #print np.mean(cv_valid_error)\n",
    "        \n",
    "        \n",
    "    "
   ]
  },
  {
   "cell_type": "code",
   "execution_count": 173,
   "metadata": {
    "collapsed": false
   },
   "outputs": [],
   "source": [
    "#cross_valid_error"
   ]
  },
  {
   "cell_type": "code",
   "execution_count": 174,
   "metadata": {
    "collapsed": false
   },
   "outputs": [],
   "source": [
    "cv_error_df = pd.DataFrame({'cross_train_error': cross_train_error , 'cross_valid_error': cross_valid_error})"
   ]
  },
  {
   "cell_type": "code",
   "execution_count": 175,
   "metadata": {
    "collapsed": false
   },
   "outputs": [
    {
     "data": {
      "text/plain": [
       "4"
      ]
     },
     "execution_count": 175,
     "metadata": {},
     "output_type": "execute_result"
    }
   ],
   "source": [
    "np.argmin(cross_valid_error)"
   ]
  },
  {
   "cell_type": "code",
   "execution_count": 176,
   "metadata": {
    "collapsed": false
   },
   "outputs": [
    {
     "data": {
      "image/png": "[encoded data removed]",
      "text/plain": [
       "<matplotlib.figure.Figure at 0x110155d10>"
      ]
     },
     "metadata": {},
     "output_type": "display_data"
    }
   ],
   "source": [
    "cv_error_df.plot(figsize=(15, 10))\n",
    "cross_train_error = []\n",
    "cross_valid_error = []"
   ]
  },
  {
   "cell_type": "code",
   "execution_count": null,
   "metadata": {
    "collapsed": true
   },
   "outputs": [],
   "source": []
  }
 ],
 "metadata": {
  "kernelspec": {
   "display_name": "Python 2",
   "language": "python",
   "name": "python2"
  },
  "language_info": {
   "codemirror_mode": {
    "name": "ipython",
    "version": 2
   },
   "file_extension": ".py",
   "mimetype": "text/x-python",
   "name": "python",
   "nbconvert_exporter": "python",
   "pygments_lexer": "ipython2",
   "version": "2.7.11"
  }
 },
 "nbformat": 4,
 "nbformat_minor": 0
}
