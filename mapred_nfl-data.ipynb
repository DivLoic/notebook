{
 "metadata": {
  "name": "",
  "signature": "sha256:08aa6eb13d2f26e1a64cc257d828db0bb73bd1174d6b29e71d998cd53f377e72"
 },
 "nbformat": 3,
 "nbformat_minor": 0,
 "worksheets": [
  {
   "cells": [
    {
     "cell_type": "code",
     "collapsed": false,
     "input": [
      "# this a batch mode of the streamin mapreduce example "
     ],
     "language": "python",
     "metadata": {},
     "outputs": []
    },
    {
     "cell_type": "code",
     "collapsed": false,
     "input": [
      "# batch mode\n",
      "##imports\n",
      "import os\n",
      "import linecache\n",
      "import csv\n",
      "##define\n",
      "nflFile = os.environ['APP_DATA'] + '/sources/unixstadiums.csv'\n",
      "#ops\n",
      "\n",
      "rows = []\n",
      "for r in range(1,32):\n",
      "    rows.append(linecache.getline(nflFile,r).rstrip('\\n'))\n",
      "#with open(nflFile, 'r') as nfl:\n",
      "#    for line in nfl:\n",
      "#        rows.append(line)\n",
      "        "
     ],
     "language": "python",
     "metadata": {},
     "outputs": []
    },
    {
     "cell_type": "markdown",
     "metadata": {},
     "source": [
      "rows"
     ]
    },
    {
     "cell_type": "code",
     "collapsed": false,
     "input": [
      "#maper"
     ],
     "language": "python",
     "metadata": {},
     "outputs": []
    },
    {
     "cell_type": "code",
     "collapsed": false,
     "input": [
      "#! /usr/bin/env python\n",
      "\n",
      "import sys\n",
      "\n",
      "\n",
      "# -- Stadium Data\n",
      "# Stadium\n",
      "# Stadium Capacity    \n",
      "# expanded capacity (standing)   \n",
      "# Location    \n",
      "# Playing surface \n",
      "# Is Artificial Turf  \n",
      "# Team    \n",
      "# Opened  \n",
      "# Weather \n",
      "# Station Roof Type\n",
      "# elevation\n",
      "\n",
      "maped = []\n",
      "#for line in sys.stdin:\n",
      "for line in rows:\n",
      "    line = line.strip()\n",
      "    unpacked = line.split(\",\")\n",
      "    stadium, capacity, expanded, location, surface, turf, team, opened, weather, roof, elevation = line.split(\",\")\n",
      "    results = [turf, \"1\"]\n",
      "    maped.append(results)\n",
      "    print(\"\\t\".join(results))"
     ],
     "language": "python",
     "metadata": {},
     "outputs": []
    },
    {
     "cell_type": "code",
     "collapsed": false,
     "input": [
      "#reducer"
     ],
     "language": "python",
     "metadata": {},
     "outputs": []
    },
    {
     "cell_type": "code",
     "collapsed": false,
     "input": [
      "#! /usr/bin/env python\n",
      "\n",
      "import sys\n",
      "\n",
      "last_turf = None\n",
      "turf_count = 0\n",
      "\n",
      "# Example input (notice how they're IN ORDER):\n",
      "# FALSE 1\n",
      "# FALSE 1\n",
      "# FALSE 1\n",
      "# FALSE 1\n",
      "# TRUE 1\n",
      "# TRUE 1\n",
      "# UNKNOWN 1\n",
      "# UNKNOWN 1\n",
      "\n",
      "# keys come grouped together\n",
      "# so we need to keep track of state a little bit\n",
      "# thus when the key changes (turf), we need to reset\n",
      "# our counter, and write out the count we've accumulated\n",
      "\n",
      "#for line in sys.stdin:\n",
      "    #line = line.strip()\n",
      "    #turf, count = line.split(\"\\t\")\n",
      "\n",
      "    #count = int(count)\n",
      "for line in maped:\n",
      "    turf = line[0]\n",
      "    count = int(line[1])\n",
      "    \n",
      "    # if this is the first iteration\n",
      "    if not last_turf:\n",
      "        last_turf = turf\n",
      "\n",
      "    # if they're the same, log it\n",
      "    if turf == last_turf:\n",
      "        turf_count += count\n",
      "    else:\n",
      "        # \n",
      "        result = [last_turf, turf_count]\n",
      "        print(\"\\t\".join(str(v) for v in result))\n",
      "        last_turf = turf\n",
      "        turf_count = 1\n",
      "\n",
      "# this is to catch the final value that we output\n",
      "print(\"\\t\".join(str(v) for v in [last_turf, turf_count]))"
     ],
     "language": "python",
     "metadata": {},
     "outputs": []
    },
    {
     "cell_type": "code",
     "collapsed": false,
     "input": [],
     "language": "python",
     "metadata": {},
     "outputs": []
    }
   ],
   "metadata": {}
  }
 ]
}