{
 "cells": [
  {
   "cell_type": "markdown",
   "metadata": {},
   "source": [
    "# Code test \n",
    "###### From Yoan B. Blog post"
   ]
  },
  {
   "cell_type": "code",
   "execution_count": 2,
   "metadata": {
    "collapsed": true
   },
   "outputs": [],
   "source": [
    "import tensorflow as tf\n",
    " \n",
    "# Create a Constant op that produces a 1x2 matrix.\n",
    "matrix1 = tf.constant([[3., 3.]])\n",
    " \n",
    "# Create another Constant that produces a 2x1 matrix.\n",
    "matrix2 = tf.constant([[2.], [2.]])\n",
    " \n",
    "# Create a matmul op that performs the matrix multiplication of matrix1 by matrix2.\n",
    "product = tf.matmul(matrix1, matrix2)"
   ]
  },
  {
   "cell_type": "code",
   "execution_count": 3,
   "metadata": {
    "collapsed": false
   },
   "outputs": [
    {
     "name": "stdout",
     "output_type": "stream",
     "text": [
      "[[ 12.]]\n",
      "[[ 3.  3.]]\n"
     ]
    }
   ],
   "source": [
    "# Launch the default graph.\n",
    "sess = tf.Session()\n",
    " \n",
    "# Call the session 'run()' method to run the matmul op.\n",
    "result = sess.run(product)\n",
    "print(result)\n",
    " \n",
    "# You can call multiple operations at the same time\n",
    "res_product, res_matrix1 = sess.run([product, matrix1])\n",
    "print(res_matrix1)\n",
    " \n",
    "# Close the session\n",
    "sess.close()"
   ]
  },
  {
   "cell_type": "code",
   "execution_count": 7,
   "metadata": {
    "collapsed": false
   },
   "outputs": [
    {
     "name": "stdout",
     "output_type": "stream",
     "text": [
      "[[ 12.]]\n"
     ]
    }
   ],
   "source": [
    "with tf.Session() as sess:\n",
    "    result = sess.run(product)\n",
    "    print(result)"
   ]
  },
  {
   "cell_type": "code",
   "execution_count": 10,
   "metadata": {
    "collapsed": false
   },
   "outputs": [
    {
     "name": "stdout",
     "output_type": "stream",
     "text": [
      "[ 14.]\n"
     ]
    }
   ],
   "source": [
    "# Instanciation of two Placeholders\n",
    "input1 = tf.placeholder(tf.float32)\n",
    "input2 = tf.placeholder(tf.float32)\n",
    " \n",
    "# Multiplication operation\n",
    "output = tf.mul(input1, input2)\n",
    " \n",
    "# Graph execution, we need to feed the placeholders\n",
    "with tf.Session() as sess:\n",
    "    result = sess.run(output, feed_dict={input1: [7.], input2: [2.]})\n",
    "    print result"
   ]
  },
  {
   "cell_type": "code",
   "execution_count": null,
   "metadata": {
    "collapsed": false
   },
   "outputs": [],
   "source": []
  },
  {
   "cell_type": "code",
   "execution_count": null,
   "metadata": {
    "collapsed": true
   },
   "outputs": [],
   "source": []
  }
 ],
 "metadata": {
  "kernelspec": {
   "display_name": "Python 2",
   "language": "python",
   "name": "python2"
  },
  "language_info": {
   "codemirror_mode": {
    "name": "ipython",
    "version": 2
   },
   "file_extension": ".py",
   "mimetype": "text/x-python",
   "name": "python",
   "nbconvert_exporter": "python",
   "pygments_lexer": "ipython2",
   "version": "2.7.12"
  }
 },
 "nbformat": 4,
 "nbformat_minor": 0
}
