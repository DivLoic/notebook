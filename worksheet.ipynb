{
 "metadata": {
  "name": "",
  "signature": "sha256:0c3fa1c319fda41b5c3b2e6c48884de00c034364dbd22f21352ed139902cbf92"
 },
 "nbformat": 3,
 "nbformat_minor": 0,
 "worksheets": [
  {
   "cells": [
    {
     "cell_type": "code",
     "collapsed": false,
     "input": [],
     "language": "python",
     "metadata": {},
     "outputs": []
    }
   ],
   "metadata": {}
  }
 ]
}