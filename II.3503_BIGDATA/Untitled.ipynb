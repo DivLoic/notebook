{
 "cells": [
  {
   "cell_type": "code",
   "execution_count": 1,
   "metadata": {
    "collapsed": true
   },
   "outputs": [],
   "source": [
    "# coding: utf8"
   ]
  },
  {
   "cell_type": "markdown",
   "metadata": {},
   "source": [
    "# Import"
   ]
  },
  {
   "cell_type": "code",
   "execution_count": 3,
   "metadata": {
    "collapsed": true
   },
   "outputs": [],
   "source": [
    "import os\n",
    "import pandas as pd\n",
    "import numpy as np\n",
    "import matplotlib.pyplot as plt"
   ]
  },
  {
   "cell_type": "markdown",
   "metadata": {},
   "source": [
    "# Configuration"
   ]
  },
  {
   "cell_type": "code",
   "execution_count": 5,
   "metadata": {
    "collapsed": false
   },
   "outputs": [
    {
     "name": "stdout",
     "output_type": "stream",
     "text": [
      "The local folder path :  /home/lmdadm/scripts/notebook/II.3503_BIGDATA\n",
      "The local data folder :  /home/lmdadm/scripts/notebook/II.3503_BIGDATA/data/csv/\n",
      "Number of files found :  100\n"
     ]
    }
   ],
   "source": [
    "WORKDIR = os.getcwd()\n",
    "DATASTORE = WORKDIR + u'/data/csv/'\n",
    "EXEMPLE = u'100.csv'\n",
    "DATAFRAMES = []\n",
    "print u'The local folder path : ',WORKDIR \n",
    "print u'The local data folder : ',DATASTORE\n",
    "print u'Number of files found : ', len(os.listdir(DATASTORE))"
   ]
  },
  {
   "cell_type": "code",
   "execution_count": 6,
   "metadata": {
    "collapsed": false
   },
   "outputs": [
    {
     "data": {
      "text/plain": [
       "2016"
      ]
     },
     "execution_count": 6,
     "metadata": {},
     "output_type": "execute_result"
    }
   ],
   "source": [
    "54433 - 52417"
   ]
  },
  {
   "cell_type": "code",
   "execution_count": 7,
   "metadata": {
    "collapsed": true
   },
   "outputs": [],
   "source": [
    "### Exemple de traitement d'un fichier.\n",
    "###### Chaque ficher sera manipulé de ma même façon\n",
    "###### et le dataframe résultant sera ajouté à un liste"
   ]
  },
  {
   "cell_type": "code",
   "execution_count": 8,
   "metadata": {
    "collapsed": false
   },
   "outputs": [
    {
     "data": {
      "text/html": [
       "<div>\n",
       "<table border=\"1\" class=\"dataframe\">\n",
       "  <thead>\n",
       "    <tr style=\"text-align: right;\">\n",
       "      <th></th>\n",
       "      <th>timestamp</th>\n",
       "      <th>dttm_utc</th>\n",
       "      <th>value</th>\n",
       "      <th>estimated</th>\n",
       "      <th>anomaly</th>\n",
       "    </tr>\n",
       "  </thead>\n",
       "  <tbody>\n",
       "    <tr>\n",
       "      <th>0</th>\n",
       "      <td>1341158400</td>\n",
       "      <td>2012-07-01 16:00:00</td>\n",
       "      <td>1.8383</td>\n",
       "      <td>0</td>\n",
       "      <td></td>\n",
       "    </tr>\n",
       "    <tr>\n",
       "      <th>1</th>\n",
       "      <td>1341158700</td>\n",
       "      <td>2012-07-01 16:05:00</td>\n",
       "      <td>1.8383</td>\n",
       "      <td>0</td>\n",
       "      <td></td>\n",
       "    </tr>\n",
       "    <tr>\n",
       "      <th>2</th>\n",
       "      <td>1341159000</td>\n",
       "      <td>2012-07-01 16:10:00</td>\n",
       "      <td>2.1009</td>\n",
       "      <td>0</td>\n",
       "      <td></td>\n",
       "    </tr>\n",
       "    <tr>\n",
       "      <th>3</th>\n",
       "      <td>1341159300</td>\n",
       "      <td>2012-07-01 16:15:00</td>\n",
       "      <td>1.8383</td>\n",
       "      <td>0</td>\n",
       "      <td></td>\n",
       "    </tr>\n",
       "    <tr>\n",
       "      <th>4</th>\n",
       "      <td>1341159600</td>\n",
       "      <td>2012-07-01 16:20:00</td>\n",
       "      <td>1.8383</td>\n",
       "      <td>0</td>\n",
       "      <td></td>\n",
       "    </tr>\n",
       "  </tbody>\n",
       "</table>\n",
       "</div>"
      ],
      "text/plain": [
       "    timestamp             dttm_utc   value  estimated anomaly\n",
       "0  1341158400  2012-07-01 16:00:00  1.8383          0        \n",
       "1  1341158700  2012-07-01 16:05:00  1.8383          0        \n",
       "2  1341159000  2012-07-01 16:10:00  2.1009          0        \n",
       "3  1341159300  2012-07-01 16:15:00  1.8383          0        \n",
       "4  1341159600  2012-07-01 16:20:00  1.8383          0        "
      ]
     },
     "execution_count": 8,
     "metadata": {},
     "output_type": "execute_result"
    }
   ],
   "source": [
    "exdf = pd.read_csv(DATASTORE + EXEMPLE, skiprows=52607, nrows=2016)\n",
    "# on réalise l'étude sur une semaine => 2016 lignes\n",
    "exdf.columns = [u'timestamp',u'dttm_utc',u'value',u'estimated',u'anomaly']\n",
    "exdf = exdf.fillna(value='')\n",
    "exdf.head()"
   ]
  },
  {
   "cell_type": "code",
   "execution_count": 9,
   "metadata": {
    "collapsed": true
   },
   "outputs": [],
   "source": [
    "def loadCsv(filename):\n",
    "    df = pd.read_csv(DATASTORE + filename, skiprows=52607, nrows=2016)\n",
    "    df.columns = [u'timestamp',u'dttm_utc',u'value',u'estimated',u'anomaly']\n",
    "    df = df.fillna(value='')\n",
    "    return df"
   ]
  },
  {
   "cell_type": "code",
   "execution_count": 10,
   "metadata": {
    "collapsed": false
   },
   "outputs": [
    {
     "name": "stdout",
     "output_type": "stream",
     "text": [
      "Nombre d élements : 100\n"
     ]
    }
   ],
   "source": [
    "try: \n",
    "    assert len(DATAFRAMES) == 0\n",
    "    for f in os.listdir(DATASTORE):\n",
    "        DATAFRAMES.append(loadCsv(f))\n",
    "    print u'Nombre d élements :',len(DATAFRAMES)\n",
    "except AssertionError as ae:\n",
    "    print u'AssertionError: Le df n\\'est pas vide.' \n",
    "    print u'Nombre d élements :',len(DATAFRAMES)"
   ]
  },
  {
   "cell_type": "markdown",
   "metadata": {},
   "source": [
    "# Test sur les ordres de grandeurs"
   ]
  },
  {
   "cell_type": "code",
   "execution_count": 12,
   "metadata": {
    "collapsed": false
   },
   "outputs": [
    {
     "data": {
      "text/plain": [
       "'2012-07-04 14:50:00'"
      ]
     },
     "execution_count": 12,
     "metadata": {},
     "output_type": "execute_result"
    }
   ],
   "source": [
    "DATAFRAMES[0][u'dttm_utc'][850]\n",
    "# 850 -> Mercredi 4 Juillet 2012 à 15:50"
   ]
  },
  {
   "cell_type": "code",
   "execution_count": 13,
   "metadata": {
    "collapsed": false
   },
   "outputs": [
    {
     "data": {
      "text/plain": [
       "4315.1340999999984"
      ]
     },
     "execution_count": 13,
     "metadata": {},
     "output_type": "execute_result"
    }
   ],
   "source": [
    "# Somme de pour tous les sites sur une datetime\n",
    "mapped = map(lambda y: y[u'value'][850], DATAFRAMES)\n",
    "reduced = reduce(lambda x, y: x + y, mapped)\n",
    "reduced"
   ]
  },
  {
   "cell_type": "code",
   "execution_count": null,
   "metadata": {
    "collapsed": true
   },
   "outputs": [],
   "source": []
  }
 ],
 "metadata": {
  "kernelspec": {
   "display_name": "Python 2",
   "language": "python",
   "name": "python2"
  },
  "language_info": {
   "codemirror_mode": {
    "name": "ipython",
    "version": 2
   },
   "file_extension": ".py",
   "mimetype": "text/x-python",
   "name": "python",
   "nbconvert_exporter": "python",
   "pygments_lexer": "ipython2",
   "version": "2.7.10"
  }
 },
 "nbformat": 4,
 "nbformat_minor": 0
}
