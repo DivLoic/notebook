{
 "cells": [
  {
   "cell_type": "code",
   "execution_count": 45,
   "metadata": {
    "collapsed": true
   },
   "outputs": [],
   "source": [
    "%matplotlib inline\n",
    "import pandas as pd\n",
    "import numpy as np\n",
    "import matplotlib.pyplot as plt"
   ]
  },
  {
   "cell_type": "code",
   "execution_count": 46,
   "metadata": {
    "collapsed": true
   },
   "outputs": [],
   "source": [
    "FOLDER = u'/Users/LoicMDIVAD/Documents/BIG_DATA_ISEP/data/project/'\n",
    "FILE = u'meta/all_sites.csv'\n",
    "EXEMPLE = u'csv/100.csv'"
   ]
  },
  {
   "cell_type": "code",
   "execution_count": 47,
   "metadata": {
    "collapsed": false
   },
   "outputs": [],
   "source": [
    "df = pd.read_csv(FOLDER + FILE)\n",
    "dfx = pd.read_csv(FOLDER + EXEMPLE)[2000:4000]"
   ]
  },
  {
   "cell_type": "code",
   "execution_count": 48,
   "metadata": {
    "collapsed": false
   },
   "outputs": [
    {
     "data": {
      "text/html": [
       "<div style=\"max-height:1000px;max-width:1500px;overflow:auto;\">\n",
       "<table border=\"1\" class=\"dataframe\">\n",
       "  <thead>\n",
       "    <tr style=\"text-align: right;\">\n",
       "      <th></th>\n",
       "      <th>SITE_ID</th>\n",
       "      <th>INDUSTRY</th>\n",
       "      <th>SUB_INDUSTRY</th>\n",
       "      <th>SQ_FT</th>\n",
       "      <th>LAT</th>\n",
       "      <th>LNG</th>\n",
       "      <th>TIME_ZONE</th>\n",
       "      <th>TZ_OFFSET</th>\n",
       "    </tr>\n",
       "  </thead>\n",
       "  <tbody>\n",
       "    <tr>\n",
       "      <th>0</th>\n",
       "      <td>  6</td>\n",
       "      <td> Commercial Property</td>\n",
       "      <td> Shopping Center/Shopping Mall</td>\n",
       "      <td>  161532</td>\n",
       "      <td> 34.783001</td>\n",
       "      <td>-106.895250</td>\n",
       "      <td>   America/Denver</td>\n",
       "      <td> -06:00</td>\n",
       "    </tr>\n",
       "    <tr>\n",
       "      <th>1</th>\n",
       "      <td>  8</td>\n",
       "      <td> Commercial Property</td>\n",
       "      <td> Shopping Center/Shopping Mall</td>\n",
       "      <td>  823966</td>\n",
       "      <td> 40.320247</td>\n",
       "      <td> -76.404942</td>\n",
       "      <td> America/New_York</td>\n",
       "      <td> -04:00</td>\n",
       "    </tr>\n",
       "    <tr>\n",
       "      <th>2</th>\n",
       "      <td>  9</td>\n",
       "      <td> Commercial Property</td>\n",
       "      <td>              Corporate Office</td>\n",
       "      <td>  169420</td>\n",
       "      <td> 40.946751</td>\n",
       "      <td> -74.742087</td>\n",
       "      <td> America/New_York</td>\n",
       "      <td> -04:00</td>\n",
       "    </tr>\n",
       "    <tr>\n",
       "      <th>3</th>\n",
       "      <td> 10</td>\n",
       "      <td> Commercial Property</td>\n",
       "      <td> Shopping Center/Shopping Mall</td>\n",
       "      <td> 1029798</td>\n",
       "      <td> 39.732504</td>\n",
       "      <td> -75.006861</td>\n",
       "      <td> America/New_York</td>\n",
       "      <td> -04:00</td>\n",
       "    </tr>\n",
       "    <tr>\n",
       "      <th>4</th>\n",
       "      <td> 12</td>\n",
       "      <td> Commercial Property</td>\n",
       "      <td>             Business Services</td>\n",
       "      <td>  179665</td>\n",
       "      <td> 39.694541</td>\n",
       "      <td> -74.899166</td>\n",
       "      <td> America/New_York</td>\n",
       "      <td> -04:00</td>\n",
       "    </tr>\n",
       "  </tbody>\n",
       "</table>\n",
       "</div>"
      ],
      "text/plain": [
       "   SITE_ID             INDUSTRY                   SUB_INDUSTRY    SQ_FT  \\\n",
       "0        6  Commercial Property  Shopping Center/Shopping Mall   161532   \n",
       "1        8  Commercial Property  Shopping Center/Shopping Mall   823966   \n",
       "2        9  Commercial Property               Corporate Office   169420   \n",
       "3       10  Commercial Property  Shopping Center/Shopping Mall  1029798   \n",
       "4       12  Commercial Property              Business Services   179665   \n",
       "\n",
       "         LAT         LNG         TIME_ZONE TZ_OFFSET  \n",
       "0  34.783001 -106.895250    America/Denver    -06:00  \n",
       "1  40.320247  -76.404942  America/New_York    -04:00  \n",
       "2  40.946751  -74.742087  America/New_York    -04:00  \n",
       "3  39.732504  -75.006861  America/New_York    -04:00  \n",
       "4  39.694541  -74.899166  America/New_York    -04:00  "
      ]
     },
     "execution_count": 48,
     "metadata": {},
     "output_type": "execute_result"
    }
   ],
   "source": [
    "df.head()"
   ]
  },
  {
   "cell_type": "code",
   "execution_count": 49,
   "metadata": {
    "collapsed": false
   },
   "outputs": [
    {
     "name": "stdout",
     "output_type": "stream",
     "text": [
      "['America/Chicago', 'America/Denver', 'America/Los_Angeles', 'America/New_York', 'America/Phoenix']\n"
     ]
    }
   ],
   "source": [
    "print(list(np.unique(df[u'TIME_ZONE'].values)))"
   ]
  },
  {
   "cell_type": "code",
   "execution_count": 50,
   "metadata": {
    "collapsed": false
   },
   "outputs": [
    {
     "name": "stdout",
     "output_type": "stream",
     "text": [
      "['Commercial Property', 'Education', 'Food Sales & Storage', 'Light Industrial']\n"
     ]
    }
   ],
   "source": [
    "print(list(np.unique(df[u'INDUSTRY'].values)))"
   ]
  },
  {
   "cell_type": "code",
   "execution_count": 51,
   "metadata": {
    "collapsed": false
   },
   "outputs": [
    {
     "name": "stdout",
     "output_type": "stream",
     "text": [
      "La catégorie INDUSTRY=[Commercial Property] présente: (( 25 )) sites.\n",
      "La catégorie INDUSTRY=[Education] présente: (( 25 )) sites.\n",
      "La catégorie INDUSTRY=[Food Sales & Storage] présente: (( 25 )) sites.\n",
      "La catégorie INDUSTRY=[Light Industrial] présente: (( 25 )) sites.\n"
     ]
    }
   ],
   "source": [
    "field = u'INDUSTRY'\n",
    "dfToList = list(np.unique(df[field].values))\n",
    "for i in dfToList:\n",
    "    d = df[df[field] == i]\n",
    "    print(u'La catégorie %s=[%s] présente: (( %i )) sites.'%(field,i,len(d)))"
   ]
  },
  {
   "cell_type": "code",
   "execution_count": 52,
   "metadata": {
    "collapsed": false
   },
   "outputs": [
    {
     "data": {
      "text/html": [
       "<div style=\"max-height:1000px;max-width:1500px;overflow:auto;\">\n",
       "<table border=\"1\" class=\"dataframe\">\n",
       "  <thead>\n",
       "    <tr style=\"text-align: right;\">\n",
       "      <th></th>\n",
       "      <th>timestamp</th>\n",
       "      <th>dttm_utc</th>\n",
       "      <th>value</th>\n",
       "      <th>estimated</th>\n",
       "      <th>anomaly</th>\n",
       "    </tr>\n",
       "  </thead>\n",
       "  <tbody>\n",
       "    <tr>\n",
       "      <th>2000</th>\n",
       "      <td> 1325976300</td>\n",
       "      <td> 2012-01-07 22:45:00</td>\n",
       "      <td> 2.6262</td>\n",
       "      <td> 0</td>\n",
       "      <td>NaN</td>\n",
       "    </tr>\n",
       "    <tr>\n",
       "      <th>2001</th>\n",
       "      <td> 1325976600</td>\n",
       "      <td> 2012-01-07 22:50:00</td>\n",
       "      <td> 2.3636</td>\n",
       "      <td> 0</td>\n",
       "      <td>NaN</td>\n",
       "    </tr>\n",
       "    <tr>\n",
       "      <th>2002</th>\n",
       "      <td> 1325976900</td>\n",
       "      <td> 2012-01-07 22:55:00</td>\n",
       "      <td> 2.8888</td>\n",
       "      <td> 0</td>\n",
       "      <td>NaN</td>\n",
       "    </tr>\n",
       "    <tr>\n",
       "      <th>2003</th>\n",
       "      <td> 1325977200</td>\n",
       "      <td> 2012-01-07 23:00:00</td>\n",
       "      <td> 2.6262</td>\n",
       "      <td> 0</td>\n",
       "      <td>NaN</td>\n",
       "    </tr>\n",
       "    <tr>\n",
       "      <th>2004</th>\n",
       "      <td> 1325977500</td>\n",
       "      <td> 2012-01-07 23:05:00</td>\n",
       "      <td> 3.6767</td>\n",
       "      <td> 0</td>\n",
       "      <td>NaN</td>\n",
       "    </tr>\n",
       "  </tbody>\n",
       "</table>\n",
       "</div>"
      ],
      "text/plain": [
       "       timestamp             dttm_utc   value  estimated  anomaly\n",
       "2000  1325976300  2012-01-07 22:45:00  2.6262          0      NaN\n",
       "2001  1325976600  2012-01-07 22:50:00  2.3636          0      NaN\n",
       "2002  1325976900  2012-01-07 22:55:00  2.8888          0      NaN\n",
       "2003  1325977200  2012-01-07 23:00:00  2.6262          0      NaN\n",
       "2004  1325977500  2012-01-07 23:05:00  3.6767          0      NaN"
      ]
     },
     "execution_count": 52,
     "metadata": {},
     "output_type": "execute_result"
    }
   ],
   "source": [
    "dfx.head()"
   ]
  },
  {
   "cell_type": "code",
   "execution_count": 53,
   "metadata": {
    "collapsed": false
   },
   "outputs": [
    {
     "data": {
      "text/plain": [
       "<matplotlib.axes._subplots.AxesSubplot at 0x103baeed0>"
      ]
     },
     "execution_count": 53,
     "metadata": {},
     "output_type": "execute_result"
    },
    {
     "data": {
      "image/png": "[encoded data removed]",
      "text/plain": [
       "<matplotlib.figure.Figure at 0x106cfc390>"
      ]
     },
     "metadata": {},
     "output_type": "display_data"
    }
   ],
   "source": [
    "dfx.plot(x='timestamp' , y='value', kind=u'line')"
   ]
  },
  {
   "cell_type": "code",
   "execution_count": null,
   "metadata": {
    "collapsed": true
   },
   "outputs": [],
   "source": []
  }
 ],
 "metadata": {
  "kernelspec": {
   "display_name": "Python 2",
   "language": "python",
   "name": "python2"
  },
  "language_info": {
   "codemirror_mode": {
    "name": "ipython",
    "version": 2
   },
   "file_extension": ".py",
   "mimetype": "text/x-python",
   "name": "python",
   "nbconvert_exporter": "python",
   "pygments_lexer": "ipython2",
   "version": "2.7.10"
  }
 },
 "nbformat": 4,
 "nbformat_minor": 0
}
