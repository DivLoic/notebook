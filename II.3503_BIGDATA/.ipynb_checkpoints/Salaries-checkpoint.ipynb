{
 "cells": [
  {
   "cell_type": "code",
   "execution_count": 1,
   "metadata": {
    "collapsed": true
   },
   "outputs": [],
   "source": [
    "%matplotlib inline\n",
    "import pandas as pd\n",
    "import numpy as np\n",
    "import matplotlib.pyplot as plt"
   ]
  },
  {
   "cell_type": "code",
   "execution_count": 6,
   "metadata": {
    "collapsed": true
   },
   "outputs": [],
   "source": [
    "FOLDER = u'/Users/LoicMDIVAD/Documents/BIG_DATA_ISEP/data/'\n",
    "FILE = u'Salaries.csv'\n",
    "columns=['yearID','teamID','lgID','playerID','salary']\n",
    "#EXEMPLE = u'csv/100.csv'"
   ]
  },
  {
   "cell_type": "code",
   "execution_count": 7,
   "metadata": {
    "collapsed": false
   },
   "outputs": [
    {
     "data": {
      "text/html": [
       "<div style=\"max-height:1000px;max-width:1500px;overflow:auto;\">\n",
       "<table border=\"1\" class=\"dataframe\">\n",
       "  <thead>\n",
       "    <tr style=\"text-align: right;\">\n",
       "      <th></th>\n",
       "      <th>yearID</th>\n",
       "      <th>teamID</th>\n",
       "      <th>lgID</th>\n",
       "      <th>playerID</th>\n",
       "      <th>salary</th>\n",
       "    </tr>\n",
       "  </thead>\n",
       "  <tbody>\n",
       "    <tr>\n",
       "      <th>0</th>\n",
       "      <td> 1980</td>\n",
       "      <td> TOR</td>\n",
       "      <td> AL</td>\n",
       "      <td> stiebda01</td>\n",
       "      <td>  55000</td>\n",
       "    </tr>\n",
       "    <tr>\n",
       "      <th>1</th>\n",
       "      <td> 1981</td>\n",
       "      <td> NYA</td>\n",
       "      <td> AL</td>\n",
       "      <td> jacksre01</td>\n",
       "      <td> 588000</td>\n",
       "    </tr>\n",
       "    <tr>\n",
       "      <th>2</th>\n",
       "      <td> 1981</td>\n",
       "      <td> TOR</td>\n",
       "      <td> AL</td>\n",
       "      <td> stiebda01</td>\n",
       "      <td>  85000</td>\n",
       "    </tr>\n",
       "    <tr>\n",
       "      <th>3</th>\n",
       "      <td> 1982</td>\n",
       "      <td> TOR</td>\n",
       "      <td> AL</td>\n",
       "      <td> stiebda01</td>\n",
       "      <td> 250000</td>\n",
       "    </tr>\n",
       "    <tr>\n",
       "      <th>4</th>\n",
       "      <td> 1983</td>\n",
       "      <td> TOR</td>\n",
       "      <td> AL</td>\n",
       "      <td> stiebda01</td>\n",
       "      <td> 450000</td>\n",
       "    </tr>\n",
       "  </tbody>\n",
       "</table>\n",
       "</div>"
      ],
      "text/plain": [
       "   yearID teamID lgID   playerID  salary\n",
       "0    1980    TOR   AL  stiebda01   55000\n",
       "1    1981    NYA   AL  jacksre01  588000\n",
       "2    1981    TOR   AL  stiebda01   85000\n",
       "3    1982    TOR   AL  stiebda01  250000\n",
       "4    1983    TOR   AL  stiebda01  450000"
      ]
     },
     "execution_count": 7,
     "metadata": {},
     "output_type": "execute_result"
    }
   ],
   "source": [
    "df = pd.DataFrame(pd.read_csv(FOLDER + FILE))\n",
    "df.columns = pd.MultiIndex.from_tuples(zip(columns))\n",
    "df.head()"
   ]
  },
  {
   "cell_type": "code",
   "execution_count": 8,
   "metadata": {
    "collapsed": false
   },
   "outputs": [],
   "source": [
    "df_team = df['teamID'].unique()\n",
    "df_lg = df['lgID'].unique()\n",
    "df_player = df['playerID'].unique()"
   ]
  },
  {
   "cell_type": "code",
   "execution_count": 9,
   "metadata": {
    "collapsed": false
   },
   "outputs": [
    {
     "name": "stdout",
     "output_type": "stream",
     "text": [
      "Le Dataset Salary.csv présente 34 team\n",
      "Le Dataset Salary.csv présente 2 lg\n",
      "Le Dataset Salary.csv présente 4195 player\n"
     ]
    }
   ],
   "source": [
    "print u'Le Dataset Salary.csv présente %i team'% len(df_team)\n",
    "print u'Le Dataset Salary.csv présente %i lg'% len(df_lg)\n",
    "print u'Le Dataset Salary.csv présente %i player'% len(df_player)"
   ]
  },
  {
   "cell_type": "code",
   "execution_count": 10,
   "metadata": {
    "collapsed": false
   },
   "outputs": [
    {
     "data": {
      "text/plain": [
       "array(['TOR', 'NYA', 'ATL', 'BAL', 'BOS', 'CAL', 'CHA', 'CHN', 'CIN',\n",
       "       'CLE', 'DET', 'HOU', 'KCA', 'LAN', 'MIN', 'ML4', 'MON', 'NYN',\n",
       "       'OAK', 'PHI', 'PIT', 'SDN', 'SEA', 'SFN', 'SLN', 'TEX', 'COL',\n",
       "       'FLO', 'ANA', 'ARI', 'MIL', 'TBA', 'LAA', 'WAS'], dtype=object)"
      ]
     },
     "execution_count": 10,
     "metadata": {},
     "output_type": "execute_result"
    }
   ],
   "source": [
    "#df_industry.unique() # 4 In\n",
    "df_team\n",
    "#df_time_zone "
   ]
  },
  {
   "cell_type": "code",
   "execution_count": 11,
   "metadata": {
    "collapsed": false
   },
   "outputs": [],
   "source": [
    "l = 0"
   ]
  },
  {
   "cell_type": "code",
   "execution_count": 12,
   "metadata": {
    "collapsed": false
   },
   "outputs": [
    {
     "name": "stdout",
     "output_type": "stream",
     "text": [
      "742 lignes - - -> Equipe: TOR\n",
      "767 lignes - - -> Equipe: NYA\n",
      "756 lignes - - -> Equipe: ATL\n",
      "775 lignes - - -> Equipe: BAL\n",
      "762 lignes - - -> Equipe: BOS\n",
      "368 lignes - - -> Equipe: CAL\n",
      "732 lignes - - -> Equipe: CHA\n",
      "744 lignes - - -> Equipe: CHN\n",
      "763 lignes - - -> Equipe: CIN\n",
      "781 lignes - - -> Equipe: CLE\n",
      "737 lignes - - -> Equipe: DET\n",
      "728 lignes - - -> Equipe: HOU\n",
      "766 lignes - - -> Equipe: KCA\n",
      "769 lignes - - -> Equipe: LAN\n",
      "699 lignes - - -> Equipe: MIN\n",
      "381 lignes - - -> Equipe: ML4\n",
      "577 lignes - - -> Equipe: MON\n",
      "751 lignes - - -> Equipe: NYN\n",
      "766 lignes - - -> Equipe: OAK\n",
      "775 lignes - - -> Equipe: PHI\n",
      "766 lignes - - -> Equipe: PIT\n",
      "749 lignes - - -> Equipe: SDN\n",
      "735 lignes - - -> Equipe: SEA\n",
      "735 lignes - - -> Equipe: SFN\n",
      "775 lignes - - -> Equipe: SLN\n",
      "747 lignes - - -> Equipe: TEX\n",
      "536 lignes - - -> Equipe: COL\n",
      "563 lignes - - -> Equipe: FLO\n",
      "247 lignes - - -> Equipe: ANA\n",
      "375 lignes - - -> Equipe: ARI\n",
      "371 lignes - - -> Equipe: MIL\n",
      "379 lignes - - -> Equipe: TBA\n",
      "170 lignes - - -> Equipe: LAA\n",
      "176 lignes - - -> Equipe: WAS\n"
     ]
    }
   ],
   "source": [
    "for idx, col in enumerate(df_team):\n",
    "    lines = len(df[df['teamID'] == col].index)\n",
    "    l += lines\n",
    "    print '%s lignes - - -> Equipe: %s'%(lines, col)"
   ]
  },
  {
   "cell_type": "code",
   "execution_count": 13,
   "metadata": {
    "collapsed": false
   },
   "outputs": [
    {
     "data": {
      "text/plain": [
       "21463"
      ]
     },
     "execution_count": 13,
     "metadata": {},
     "output_type": "execute_result"
    }
   ],
   "source": [
    "l"
   ]
  },
  {
   "cell_type": "code",
   "execution_count": null,
   "metadata": {
    "collapsed": true
   },
   "outputs": [],
   "source": []
  }
 ],
 "metadata": {
  "kernelspec": {
   "display_name": "Python 2",
   "language": "python",
   "name": "python2"
  },
  "language_info": {
   "codemirror_mode": {
    "name": "ipython",
    "version": 2
   },
   "file_extension": ".py",
   "mimetype": "text/x-python",
   "name": "python",
   "nbconvert_exporter": "python",
   "pygments_lexer": "ipython2",
   "version": "2.7.10"
  }
 },
 "nbformat": 4,
 "nbformat_minor": 0
}
