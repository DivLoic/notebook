{
 "metadata": {
  "name": "",
  "signature": "sha256:63d5eae715d46e8c28719b76026b3e6169a0a3966d4d815d117e70471b056422"
 },
 "nbformat": 3,
 "nbformat_minor": 0,
 "worksheets": [
  {
   "cells": [
    {
     "cell_type": "code",
     "collapsed": false,
     "input": [
      "a = 7 // float(2)\n",
      "print(a)"
     ],
     "language": "python",
     "metadata": {},
     "outputs": [
      {
       "output_type": "stream",
       "stream": "stdout",
       "text": [
        "3.0\n"
       ]
      }
     ],
     "prompt_number": 2
    },
    {
     "cell_type": "code",
     "collapsed": false,
     "input": [
      "import time as t\n",
      "t.ctime()"
     ],
     "language": "python",
     "metadata": {},
     "outputs": [
      {
       "metadata": {},
       "output_type": "pyout",
       "prompt_number": 3,
       "text": [
        "'Wed Jan 21 21:38:18 2015'"
       ]
      }
     ],
     "prompt_number": 3
    },
    {
     "cell_type": "code",
     "collapsed": false,
     "input": [
      "s = \"aaaa\" + \"0000\"\n",
      "print(s)\n",
      "\n",
      "#s = \"a\" * 4 + \"0\" * 4  \n",
      "#print(s)\n",
      "\n",
      "s = \"aaaa0000\"\n",
      "print(s)\n",
      "\n",
      "s = \"%s%s\" % (\"aaaa\", \"0000\")\n",
      "print(s)"
     ],
     "language": "python",
     "metadata": {},
     "outputs": [
      {
       "output_type": "stream",
       "stream": "stdout",
       "text": [
        "aaaa0000\n",
        "aaaa0000\n",
        "aaaa0000\n"
       ]
      }
     ],
     "prompt_number": 6
    },
    {
     "cell_type": "code",
     "collapsed": false,
     "input": [
      "s = \"12345678\"\n",
      "s[1:-1:2]"
     ],
     "language": "python",
     "metadata": {},
     "outputs": [
      {
       "metadata": {},
       "output_type": "pyout",
       "prompt_number": 7,
       "text": [
        "'246'"
       ]
      }
     ],
     "prompt_number": 7
    },
    {
     "cell_type": "code",
     "collapsed": false,
     "input": [
      "l = [3, 0, 1]\n",
      "\n",
      "l = l + l[:2]\n",
      "\n",
      "m = l.sort()\n",
      "\n",
      "l.pop()\n",
      "\n",
      "print(m)"
     ],
     "language": "python",
     "metadata": {},
     "outputs": [
      {
       "output_type": "stream",
       "stream": "stdout",
       "text": [
        "None\n"
       ]
      }
     ],
     "prompt_number": 8
    },
    {
     "cell_type": "code",
     "collapsed": false,
     "input": [
      "rectangle = (30.0, 70.0)\n",
      "longueur = rectangle[-1]\n",
      "#largeur = rectangle[2]\n",
      "#rectangle[1] = 20 \n",
      "print(rectangle)"
     ],
     "language": "python",
     "metadata": {},
     "outputs": [
      {
       "output_type": "stream",
       "stream": "stdout",
       "text": [
        "(30.0, 70.0)\n"
       ]
      }
     ],
     "prompt_number": 13
    },
    {
     "cell_type": "code",
     "collapsed": false,
     "input": [
      "rectangle = dict (longueur=130.0, largeur=70.0)\n",
      "print(rectangle[\"longueur\"] > 20 )\n",
      "print(\"largeur\" in rectangle )\n",
      "print(len(rectangle) == 2 )\n",
      "rectangle[\"largeur\"] = 20 "
     ],
     "language": "python",
     "metadata": {},
     "outputs": [
      {
       "output_type": "stream",
       "stream": "stdout",
       "text": [
        "True\n",
        "True\n",
        "True\n"
       ]
      }
     ],
     "prompt_number": 18
    },
    {
     "cell_type": "code",
     "collapsed": false,
     "input": [
      "def test(a, n=2):\n",
      "    out = a\n",
      "    for k in range(1, n):\n",
      "        out += a\n",
      "    return out\n",
      "\n",
      "print(test('a'))\n",
      "print(test([1, 2], 1))\n",
      "print(test(n=10, a=3))\n",
      "#test()"
     ],
     "language": "python",
     "metadata": {},
     "outputs": [
      {
       "output_type": "stream",
       "stream": "stdout",
       "text": [
        "aa\n",
        "[1, 2]\n",
        "30\n"
       ]
      }
     ],
     "prompt_number": 24
    },
    {
     "cell_type": "code",
     "collapsed": false,
     "input": [],
     "language": "python",
     "metadata": {},
     "outputs": []
    }
   ],
   "metadata": {}
  }
 ]
}