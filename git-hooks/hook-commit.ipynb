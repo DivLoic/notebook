{
 "cells": [
  {
   "cell_type": "code",
   "execution_count": 1,
   "metadata": {
    "collapsed": true
   },
   "outputs": [],
   "source": [
    "#!/usr/bin/python"
   ]
  },
  {
   "cell_type": "code",
   "execution_count": 2,
   "metadata": {
    "collapsed": true
   },
   "outputs": [],
   "source": [
    "# coding: utf-8"
   ]
  },
  {
   "cell_type": "raw",
   "metadata": {
    "collapsed": false
   },
   "source": [
    "\"\"\"\n",
    "simple function to create a custum git-hook.\n",
    "Author : Loic M. Divad\n",
    "Date : 19 Apr 2017\n",
    "please see https://github.com/DivLoic/notebook/blob/master/git-hooks/pre-commit.ipynb\n",
    "\"\"\""
   ]
  },
  {
   "cell_type": "code",
   "execution_count": 3,
   "metadata": {
    "collapsed": true
   },
   "outputs": [],
   "source": [
    "import re\n",
    "import fileinput\n",
    "import subprocess\n",
    "from IPython.display import Markdown, display\n",
    "from urllib import quote_plus\n",
    "\n",
    "GITHUB_USER=\"DivLoic\"\n",
    "BRACH_PATTERN=r\"branch[=,/]([\\w,%,-]*)[/,)]\""
   ]
  },
  {
   "cell_type": "code",
   "execution_count": 4,
   "metadata": {
    "collapsed": false
   },
   "outputs": [
    {
     "name": "stdout",
     "output_type": "stream",
     "text": [
      "Help on function sub in module re:\n",
      "\n",
      "sub(pattern, repl, string, count=0, flags=0)\n",
      "    Return the string obtained by replacing the leftmost\n",
      "    non-overlapping occurrences of the pattern in string by the\n",
      "    replacement repl.  repl can be either a string or a callable;\n",
      "    if a string, backslash escapes in it are processed.  If it is\n",
      "    a callable, it's passed the match object and must return\n",
      "    a replacement string to be used.\n",
      "\n"
     ]
    }
   ],
   "source": [
    "help(re.sub)"
   ]
  },
  {
   "cell_type": "code",
   "execution_count": 32,
   "metadata": {
    "collapsed": false
   },
   "outputs": [],
   "source": [
    "def applyBranch(line, branch_name, pattern=\"{{branch}}\"):\n",
    "    return line.replace(pattern, quote_plus(branch_name))\n",
    "\n",
    "def unapplyBranch(line, branch_name, pattern=\"{{branch}}\"):\n",
    "    return line.replace(quote_plus(branch_name), pattern)\n",
    "\n",
    "def extractBranch(line):\n",
    "    match = re.search(BRACH_PATTERN, line)\n",
    "    return match.group(1) if match else None\n",
    "\n",
    "def checkoutBranch(line, pattern=\"{{branch}}\"):\n",
    "    branch = extractBranch(line)\n",
    "    return line.replace(branch, pattern) if branch else line\n",
    "    \n",
    "def editRmd(file_name, branch_name, func):\n",
    "    stream = fileinput.FileInput(file_name, inplace=True)\n",
    "    for line in stream:\n",
    "        print func(line, branch_name),\n",
    "        \n",
    "    stream.close()\n",
    "    \n",
    "def reverseRmd(file_name, func):\n",
    "    stream = fileinput.FileInput(file_name, inplace=True)\n",
    "    for line in stream:\n",
    "        print func(line, branch_name),\n",
    "        \n",
    "    stream.close()"
   ]
  },
  {
   "cell_type": "code",
   "execution_count": 24,
   "metadata": {
    "collapsed": false
   },
   "outputs": [],
   "source": [
    "BRANCH = subprocess.check_output([\"git\", \"rev-parse\", \"--abbrev-ref\", \"HEAD\"]).strip()"
   ]
  },
  {
   "cell_type": "code",
   "execution_count": 25,
   "metadata": {
    "collapsed": false
   },
   "outputs": [
    {
     "data": {
      "text/plain": [
       "'master'"
      ]
     },
     "execution_count": 25,
     "metadata": {},
     "output_type": "execute_result"
    }
   ],
   "source": [
    "BRANCH"
   ]
  },
  {
   "cell_type": "code",
   "execution_count": 26,
   "metadata": {
    "collapsed": false
   },
   "outputs": [
    {
     "data": {
      "text/plain": [
       "''"
      ]
     },
     "execution_count": 26,
     "metadata": {},
     "output_type": "execute_result"
    }
   ],
   "source": [
    "subprocess.check_output([\"git\", \"add\", \"README.md\"])"
   ]
  },
  {
   "cell_type": "markdown",
   "metadata": {
    "collapsed": true
   },
   "source": [
    "### Test the hooks funcitons"
   ]
  },
  {
   "cell_type": "code",
   "execution_count": 27,
   "metadata": {
    "collapsed": false
   },
   "outputs": [],
   "source": [
    "import sys\n",
    "import unittest\n",
    "from unittest import TestCase\n",
    "\n",
    "import __main__"
   ]
  },
  {
   "cell_type": "code",
   "execution_count": 28,
   "metadata": {
    "collapsed": true
   },
   "outputs": [],
   "source": [
    "class TestApplyBranch(unittest.TestCase):\n",
    "    \n",
    "    def test_setup_branch(self):\n",
    "        # given \n",
    "        branch = \"feature/everything-is-awsome\"\n",
    "        line = \"[![Build Status](https://travis-ci.org/DivLoic/kafka-connect-satori.svg?branch={{branch}})]\\\n",
    "(https://travis-ci.org/DivLoic/kafka-connect-satori)\"\n",
    "        \n",
    "        # when\n",
    "        result = applyBranch(line, branch_name=branch)\n",
    "        \n",
    "        # then\n",
    "        self.assertEqual(\n",
    "            result, \n",
    "            \"[![Build Status](https://travis-ci.org/DivLoic/kafka-connect-satori.svg?branch\\\n",
    "=feature%2Feverything-is-awsome)](https://travis-ci.org/DivLoic/kafka-connect-satori)\")"
   ]
  },
  {
   "cell_type": "code",
   "execution_count": 29,
   "metadata": {
    "collapsed": true
   },
   "outputs": [],
   "source": [
    "class TestUnApplyBranch(unittest.TestCase):\n",
    "    \n",
    "    def test_delete_branch_param(self):\n",
    "        # given \n",
    "        branch = \"master\"\n",
    "        line1 = \"[![Build Status](https://travis-ci.org/DivLoic/kafka-connect-satori.svg?branch=master)]\\\n",
    "(https://travis-ci.org/DivLoic/kafka-connect-satori)\"\n",
    "        \n",
    "        # when\n",
    "        result1 = unapplyBranch(line1, branch_name=branch)\n",
    "        \n",
    "        # then\n",
    "        self.assertEqual(\n",
    "            result1, \n",
    "            \"[![Build Status](https://travis-ci.org/DivLoic/kafka-connect-satori.svg?branch\\\n",
    "={{branch}})](https://travis-ci.org/DivLoic/kafka-connect-satori)\")\n",
    "        \n",
    "    def test_delete_branch_segment(self):\n",
    "        # given\n",
    "        branch = \"master\"\n",
    "        line2 = \"[![codecov](https://codecov.io/gh/DivLoic/kafka-connect-satori/branch/master/graph/badge.svg)]\\\n",
    "(https://codecov.io/gh/DivLoic/kafka-connect-satori)\"\n",
    "        \n",
    "        # when\n",
    "        result2 = unapplyBranch(line2, branch_name=branch)\n",
    "        \n",
    "        # then\n",
    "        self.assertEqual(\n",
    "            result2,\n",
    "            \"[![codecov](https://codecov.io/gh/DivLoic/kafka-connect-satori/branch/{{branch}}/graph/badge.svg)]\\\n",
    "(https://codecov.io/gh/DivLoic/kafka-connect-satori)\")"
   ]
  },
  {
   "cell_type": "code",
   "execution_count": 30,
   "metadata": {
    "collapsed": false
   },
   "outputs": [],
   "source": [
    "class TestCheckoutBranch(unittest.TestCase):\n",
    "    \n",
    "    def test_extract_branch(self):\n",
    "    \n",
    "        # given \n",
    "        line1 = \"[![Build Status](https://travis-ci.org/DivLoic/kafka-connect-satori.svg?branch=devel)]\\\n",
    "(https://travis-ci.org/DivLoic/kafka-connect-satori)\"\n",
    "\n",
    "        line2 = \"[![codecov](https://codecov.io/gh/DivLoic/kafka-connect-satori/\\\n",
    "branch/feature2%Ffoo-bar/graph/badge.svg)](https://codecov.io/gh/DivLoic/kafka-connect-satori)\"\n",
    "\n",
    "        # when \n",
    "        result1 = extractBranch(line1)\n",
    "        result2 = extractBranch(line2)\n",
    "\n",
    "        # then\n",
    "        self.assertEqual(result1, \"devel\")\n",
    "        self.assertEqual(result2, \"feature2%Ffoo-bar\")\n",
    "        \n",
    "    \n",
    "    def test_checkout_branch(self):\n",
    "    \n",
    "        # given \n",
    "        line1 = \"[![Build Status](https://travis-ci.org/DivLoic/kafka-connect-satori.svg?branch=devel)]\\\n",
    "(https://travis-ci.org/DivLoic/kafka-connect-satori)\"\n",
    "\n",
    "        line2 = \"[![codecov](https://codecov.io/gh/DivLoic/kafka-connect-satori/\\\n",
    "branch/feature2%Ffoo-bar/graph/badge.svg)](https://codecov.io/gh/DivLoic/kafka-connect-satori)\"\n",
    "        \n",
    "        line3 = \"some random line of readme\"\n",
    "\n",
    "        # when \n",
    "        result1 = checkoutBranch(line1)\n",
    "        result2 = checkoutBranch(line2)\n",
    "        result3 = checkoutBranch(line3)\n",
    "\n",
    "        # then\n",
    "        self.assertEqual(result1, \"[![Build Status](https://travis-ci.org/DivLoic/kafka-connect-satori.svg?\\\n",
    "branch={{branch}})](https://travis-ci.org/DivLoic/kafka-connect-satori)\")\n",
    "        \n",
    "        self.assertEqual(result2, \"[![codecov](https://codecov.io/gh/DivLoic/kafka-connect-satori/\\\n",
    "branch/{{branch}}/graph/badge.svg)](https://codecov.io/gh/DivLoic/kafka-connect-satori)\")\n",
    "        \n",
    "        self.assertEqual(result3, \"some random line of readme\")\n",
    "    "
   ]
  },
  {
   "cell_type": "code",
   "execution_count": 31,
   "metadata": {
    "collapsed": false
   },
   "outputs": [
    {
     "name": "stderr",
     "output_type": "stream",
     "text": [
      "test_setup_branch (__main__.TestApplyBranch) ... ok\n",
      "test_checkout_branch (__main__.TestCheckoutBranch) ... ok\n",
      "test_extract_branch (__main__.TestCheckoutBranch) ... ok\n",
      "test_delete_branch_param (__main__.TestUnApplyBranch) ... ok\n",
      "test_delete_branch_segment (__main__.TestUnApplyBranch) ... ok\n",
      "\n",
      "----------------------------------------------------------------------\n",
      "Ran 5 tests in 0.004s\n",
      "\n",
      "OK\n"
     ]
    }
   ],
   "source": [
    "unittest.main(argv=['ignored', '-v'], exit=False);"
   ]
  },
  {
   "cell_type": "code",
   "execution_count": 14,
   "metadata": {
    "collapsed": false
   },
   "outputs": [
    {
     "data": {
      "text/plain": [
       "'[![Build Status](https://travis-ci.org/DivLoic/kafka-connect-satori.svg?branch={{branch}})](https://travis-ci.org/DivLoic/kafka-connect-satori)'"
      ]
     },
     "execution_count": 14,
     "metadata": {},
     "output_type": "execute_result"
    }
   ],
   "source": [
    "checkoutBranch(\"[![Build Status](https://travis-ci.org/DivLoic/kafka-connect-satori.svg?branch=devel)]\\\n",
    "(https://travis-ci.org/DivLoic/kafka-connect-satori)\")"
   ]
  },
  {
   "cell_type": "code",
   "execution_count": 15,
   "metadata": {
    "collapsed": false
   },
   "outputs": [
    {
     "data": {
      "text/markdown": [
       "[![Build Status](https://travis-ci.org/DivLoic/kafka-connect-satori.svg?branch=devel)](https://travis-ci.org/DivLoic/kafka-connect-satori)"
      ],
      "text/plain": [
       "<IPython.core.display.Markdown object>"
      ]
     },
     "metadata": {},
     "output_type": "display_data"
    },
    {
     "data": {
      "text/markdown": [
       "[![codecov](https://codecov.io/gh/DivLoic/kafka-connect-satori/branch/devel/graph/badge.svg)](https://codecov.io/gh/DivLoic/kafka-connect-satori)"
      ],
      "text/plain": [
       "<IPython.core.display.Markdown object>"
      ]
     },
     "metadata": {},
     "output_type": "display_data"
    }
   ],
   "source": [
    "display(Markdown(\"[![Build Status](https://travis-ci.org/DivLoic/kafka-connect-satori.svg?branch\\\n",
    "=devel)](https://travis-ci.org/DivLoic/kafka-connect-satori)\"))\n",
    "display(Markdown(\"[![codecov](https://codecov.io/gh/DivLoic/kafka-connect-satori/branch/devel/graph/badge.svg)]\\\n",
    "(https://codecov.io/gh/DivLoic/kafka-connect-satori)\"))"
   ]
  },
  {
   "cell_type": "markdown",
   "metadata": {},
   "source": [
    "### Apply the hook functions"
   ]
  },
  {
   "cell_type": "markdown",
   "metadata": {},
   "source": [
    "#### pre commit "
   ]
  },
  {
   "cell_type": "code",
   "execution_count": 16,
   "metadata": {
    "collapsed": false
   },
   "outputs": [],
   "source": [
    "editRmd(\"README.md\", BRANCH, applyBranch)"
   ]
  },
  {
   "cell_type": "markdown",
   "metadata": {},
   "source": [
    "#### post commit"
   ]
  },
  {
   "cell_type": "code",
   "execution_count": 17,
   "metadata": {
    "collapsed": true
   },
   "outputs": [],
   "source": [
    "editRmd(\"README.md\", BRANCH, unapplyBranch)"
   ]
  },
  {
   "cell_type": "code",
   "execution_count": null,
   "metadata": {
    "collapsed": true
   },
   "outputs": [],
   "source": [
    "#### post checkout"
   ]
  },
  {
   "cell_type": "code",
   "execution_count": null,
   "metadata": {
    "collapsed": true
   },
   "outputs": [],
   "source": [
    "reverseRmd(\"README.md\", checkoutBranch)"
   ]
  },
  {
   "cell_type": "code",
   "execution_count": 46,
   "metadata": {
    "collapsed": true
   },
   "outputs": [],
   "source": [
    "emoji_ok = u'\\xF0\\x9F\\x91\\x8C'\n",
    "emoji_book = u'\\xF0\\x9F\\x93\\x91'\n",
    "emoji_memo = u'\\xF0\\x9F\\x93\\x9D'\n",
    "emoji_beer = u'\\U0001F37A'\n",
    "\n",
    "e1 = u'\\U0001F37A'\n",
    "e2 = u'\\U0001F37B' \n",
    "e3 = u'\\U0001F389'\n",
    "#import re\n",
    "#line = re.sub(r\"branch[=|\\/]()\", \"feauture/foo/bar\" % fileIn, line)"
   ]
  },
  {
   "cell_type": "code",
   "execution_count": 50,
   "metadata": {
    "collapsed": false
   },
   "outputs": [
    {
     "name": "stdout",
     "output_type": "stream",
     "text": [
      "🍺🍺🍻🎉 git-hook (pre-checkout) correctly apply after checkout\n"
     ]
    }
   ],
   "source": [
    "print u'{}{}{}{} git-hook (pre-checkout) correctly apply after checkout'.format( e1, e1, e2, e3)"
   ]
  },
  {
   "cell_type": "code",
   "execution_count": null,
   "metadata": {
    "collapsed": true
   },
   "outputs": [],
   "source": []
  }
 ],
 "metadata": {
  "kernelspec": {
   "display_name": "Python 2",
   "language": "python",
   "name": "python2"
  },
  "language_info": {
   "codemirror_mode": {
    "name": "ipython",
    "version": 2
   },
   "file_extension": ".py",
   "mimetype": "text/x-python",
   "name": "python",
   "nbconvert_exporter": "python",
   "pygments_lexer": "ipython2",
   "version": "2.7.12"
  }
 },
 "nbformat": 4,
 "nbformat_minor": 0
}
