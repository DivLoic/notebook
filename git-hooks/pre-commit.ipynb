{
 "cells": [
  {
   "cell_type": "code",
   "execution_count": 1,
   "metadata": {
    "collapsed": true
   },
   "outputs": [],
   "source": [
    "#!/usr/bin/python"
   ]
  },
  {
   "cell_type": "code",
   "execution_count": null,
   "metadata": {
    "collapsed": true
   },
   "outputs": [],
   "source": [
    "\"\"\"\n",
    "\n",
    "\"\"\""
   ]
  },
  {
   "cell_type": "code",
   "execution_count": 3,
   "metadata": {
    "collapsed": true
   },
   "outputs": [],
   "source": [
    "import fileinput\n",
    "import subprocess\n",
    "\n",
    "GITHUB_USER=\"DivLoic\""
   ]
  },
  {
   "cell_type": "code",
   "execution_count": 44,
   "metadata": {
    "collapsed": true
   },
   "outputs": [],
   "source": [
    "def applyBranch(line, branch_name, pattern=\"{{branch}}\"):\n",
    "    return line.replace(pattern, branch_name)\n",
    "\n",
    "def unapplyBranch(line, branch_name, pattern=\"{{branch}}\"):\n",
    "    return line.replace(branch_name, pattern)\n",
    "\n",
    "def editRmd(file_name, branch_name, func):\n",
    "    with fileinput.FileInput(file_name, inplace=True, backup='.bak') as file:\n",
    "        for line in file:\n",
    "            print(func(line, branch_name), end='')"
   ]
  },
  {
   "cell_type": "code",
   "execution_count": 4,
   "metadata": {
    "collapsed": false
   },
   "outputs": [
    {
     "data": {
      "text/plain": [
       "'master'"
      ]
     },
     "execution_count": 4,
     "metadata": {},
     "output_type": "execute_result"
    }
   ],
   "source": [
    "subprocess.check_output([\"git\", \"rev-parse\", \"--abbrev-ref\", \"HEAD\"]).strip()"
   ]
  },
  {
   "cell_type": "code",
   "execution_count": 5,
   "metadata": {
    "collapsed": true
   },
   "outputs": [],
   "source": []
  },
  {
   "cell_type": "code",
   "execution_count": null,
   "metadata": {
    "collapsed": true
   },
   "outputs": [],
   "source": [
    "subprocess.check_output([\"git\", \"add\", \"README.md\" ])"
   ]
  },
  {
   "cell_type": "code",
   "execution_count": null,
   "metadata": {
    "collapsed": true
   },
   "outputs": [],
   "source": [
    "### test the hooks funcitons"
   ]
  },
  {
   "cell_type": "code",
   "execution_count": 15,
   "metadata": {
    "collapsed": false
   },
   "outputs": [],
   "source": [
    "import sys\n",
    "import unittest\n",
    "from unittest import TestCase\n",
    "\n",
    "from IPython.display import Markdown, display\n",
    "\n",
    "import __main__"
   ]
  },
  {
   "cell_type": "code",
   "execution_count": 45,
   "metadata": {
    "collapsed": true
   },
   "outputs": [],
   "source": [
    "class TestApplyBranch(unittest.TestCase):\n",
    "    \n",
    "    def test_setup_branche(self):\n",
    "        # given \n",
    "        branch = \"feature/everything-is-awsome\"\n",
    "        line = \"[![Build Status](https://travis-ci.org/DivLoic/kafka-connect-satori.svg?branch={{branch}})]\\\n",
    "(https://travis-ci.org/DivLoic/kafka-connect-satori)\"\n",
    "        \n",
    "        # when\n",
    "        result = applyBranch(line, branch_name=branch)\n",
    "        \n",
    "        # then\n",
    "        self.assertEqual(\n",
    "            result, \n",
    "            \"[![Build Status](https://travis-ci.org/DivLoic/kafka-connect-satori.svg?branch\\\n",
    "=feature/everything-is-awsome)](https://travis-ci.org/DivLoic/kafka-connect-satori)\")"
   ]
  },
  {
   "cell_type": "code",
   "execution_count": 46,
   "metadata": {
    "collapsed": true
   },
   "outputs": [],
   "source": [
    "class TestUnApplyBranch(unittest.TestCase):\n",
    "    \n",
    "    def test_delete_branche_param(self):\n",
    "        # given \n",
    "        branch = \"master\"\n",
    "        line1 = \"[![Build Status](https://travis-ci.org/DivLoic/kafka-connect-satori.svg?branch=master)]\\\n",
    "(https://travis-ci.org/DivLoic/kafka-connect-satori)\"\n",
    "        \n",
    "        # when\n",
    "        result1 = unapplyBranch(line1, branch_name=branch)\n",
    "        \n",
    "        # then\n",
    "        self.assertEqual(\n",
    "            result1, \n",
    "            \"[![Build Status](https://travis-ci.org/DivLoic/kafka-connect-satori.svg?branch\\\n",
    "={{branch}})](https://travis-ci.org/DivLoic/kafka-connect-satori)\")\n",
    "        \n",
    "    def test_delete_branche_segment(self):\n",
    "        # given\n",
    "        branch = \"master\"\n",
    "        line2 = \"[![codecov](https://codecov.io/gh/DivLoic/kafka-connect-satori/branch/master/graph/badge.svg)]\\\n",
    "(https://codecov.io/gh/DivLoic/kafka-connect-satori)\"\n",
    "        \n",
    "        # when\n",
    "        result2 = unapplyBranch(line2, branch_name=branch)\n",
    "        \n",
    "        # then\n",
    "        self.assertEqual(\n",
    "            result2,\n",
    "            \"[![codecov](https://codecov.io/gh/DivLoic/kafka-connect-satori/branch/{{branch}}/graph/badge.svg)]\\\n",
    "(https://codecov.io/gh/DivLoic/kafka-connect-satori)\")"
   ]
  },
  {
   "cell_type": "code",
   "execution_count": 48,
   "metadata": {
    "collapsed": false
   },
   "outputs": [
    {
     "name": "stderr",
     "output_type": "stream",
     "text": [
      "test_setup_branche (__main__.TestApplyBranch) ... ok\n",
      "test_delete_branche_param (__main__.TestUnApplyBranch) ... ok\n",
      "test_delete_branche_segment (__main__.TestUnApplyBranch) ... ok\n",
      "\n",
      "----------------------------------------------------------------------\n",
      "Ran 3 tests in 0.002s\n",
      "\n",
      "OK\n"
     ]
    }
   ],
   "source": [
    "unittest.main(argv=['ignored', '-v'], exit=False);"
   ]
  },
  {
   "cell_type": "code",
   "execution_count": 60,
   "metadata": {
    "collapsed": false
   },
   "outputs": [
    {
     "data": {
      "text/markdown": [
       "[![Build Status](https://travis-ci.org/DivLoic/kafka-connect-satori.svg?branch=devel)](https://travis-ci.org/DivLoic/kafka-connect-satori)"
      ],
      "text/plain": [
       "<IPython.core.display.Markdown object>"
      ]
     },
     "metadata": {},
     "output_type": "display_data"
    },
    {
     "data": {
      "text/markdown": [
       "[![codecov](https://codecov.io/gh/DivLoic/kafka-connect-satori/branch/devel/graph/badge.svg)](https://codecov.io/gh/DivLoic/kafka-connect-satori)"
      ],
      "text/plain": [
       "<IPython.core.display.Markdown object>"
      ]
     },
     "metadata": {},
     "output_type": "display_data"
    }
   ],
   "source": [
    "display(Markdown(\"[![Build Status](https://travis-ci.org/DivLoic/kafka-connect-satori.svg?branch\\\n",
    "=devel)](https://travis-ci.org/DivLoic/kafka-connect-satori)\"))\n",
    "display(Markdown(\"[![codecov](https://codecov.io/gh/DivLoic/kafka-connect-satori/branch/devel/graph/badge.svg)]\\\n",
    "(https://codecov.io/gh/DivLoic/kafka-connect-satori)\"))"
   ]
  },
  {
   "cell_type": "code",
   "execution_count": null,
   "metadata": {
    "collapsed": true
   },
   "outputs": [],
   "source": []
  }
 ],
 "metadata": {
  "kernelspec": {
   "display_name": "Python 2",
   "language": "python",
   "name": "python2"
  },
  "language_info": {
   "codemirror_mode": {
    "name": "ipython",
    "version": 2
   },
   "file_extension": ".py",
   "mimetype": "text/x-python",
   "name": "python",
   "nbconvert_exporter": "python",
   "pygments_lexer": "ipython2",
   "version": "2.7.12"
  }
 },
 "nbformat": 4,
 "nbformat_minor": 0
}
