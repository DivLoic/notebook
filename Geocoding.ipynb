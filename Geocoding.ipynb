{
 "cells": [
  {
   "cell_type": "code",
   "execution_count": null,
   "metadata": {
    "collapsed": true
   },
   "outputs": [],
   "source": [
    "# coding: utf8"
   ]
  },
  {
   "cell_type": "code",
   "execution_count": 7,
   "metadata": {
    "collapsed": true
   },
   "outputs": [],
   "source": [
    "###\n",
    "# https://maps.googleapis.com/maps/api/geocode/json?address=1600+Amphitheatre+Parkway,+Mountain+View,+CA\n",
    "###"
   ]
  },
  {
   "cell_type": "markdown",
   "metadata": {},
   "source": [
    "#Import & Definition"
   ]
  },
  {
   "cell_type": "code",
   "execution_count": 81,
   "metadata": {
    "collapsed": true
   },
   "outputs": [],
   "source": [
    "import sys\n",
    "import os\n",
    "import csv\n",
    "import pandas as pd"
   ]
  },
  {
   "cell_type": "code",
   "execution_count": 82,
   "metadata": {
    "collapsed": false
   },
   "outputs": [],
   "source": [
    "DATA_DIR = u'/home/lmdadm/data/db/'\n",
    "FILE = u'accidentologie.csv'\n",
    "TARGET = u'https://maps.googleapis.com/maps/api/geocode/json?address='"
   ]
  },
  {
   "cell_type": "markdown",
   "metadata": {},
   "source": [
    "# Utils"
   ]
  },
  {
   "cell_type": "code",
   "execution_count": 133,
   "metadata": {
    "collapsed": false
   },
   "outputs": [],
   "source": [
    "class crossair:\n",
    "    \"\"\" Match the road, build an url, request to google and fill the couchbase\"\"\"\n",
    "    \n",
    "    def __init__(self, path, bucket, t):\n",
    "        import pprint\n",
    "        \n",
    "        self.source = path\n",
    "        self.bucket = bucket\n",
    "        self.stock = []\n",
    "        self.target = t\n",
    "        self.p = pprint.PrettyPrinter(indent=2)\n",
    "        #self.df = pd.read_csv(self.source, delimiter=';', encoding='utf_8')\n",
    "        with open(self.source) as csv:\n",
    "            for line in csv:\n",
    "                row = line.split(';')\n",
    "                self.stock.append(row[4])\n",
    "        \n",
    "    \n",
    "    def _req(self, street):\n",
    "        \"\"\" just convert the street 99, AVENUE NIEL\n",
    "            In a valid url: https://maps.googleapis.com/maps/api/geocode/json?address=99,+AVENUE+NIEL+PARIS\n",
    "            String street: ...\n",
    "        \"\"\" \n",
    "        street = street.strip()\n",
    "        if(street[0] == ','):\n",
    "            street = street[1:]\n",
    "        \n",
    "        query = street.replace(' ', '+')\n",
    "        #self.p.pprint(query)\n",
    "        return self.target + query + '+PARIS'\n",
    "    \n",
    "    def rollUp(self):\n",
    "        import urllib2\n",
    "        import json\n",
    "        err = []\n",
    "        urls = []\n",
    "        \n",
    "        for s in self.stock:\n",
    "            res = urllib2.urlopen(self._req(s)).read()\n",
    "            doc = json.loads(res)\n",
    "            flag = doc.pop('status')\n",
    "            if(flag == 'OK'):\n",
    "                del doc['results'][0]['address_components']\n",
    "                self.insert(doc)\n",
    "                print('')\n",
    "            else:\n",
    "                pass\n",
    "        self.p.pprint(flag)\n",
    "        \n",
    "    def insert(self, doc):\n",
    "        print(doc)\n",
    "        "
   ]
  },
  {
   "cell_type": "code",
   "execution_count": 134,
   "metadata": {
    "collapsed": false
   },
   "outputs": [],
   "source": [
    "cr = crossair(DATA_DIR + FILE,'Geocoding', TARGET)"
   ]
  },
  {
   "cell_type": "code",
   "execution_count": 135,
   "metadata": {
    "collapsed": false,
    "scrolled": false
   },
   "outputs": [
    {
     "name": "stdout",
     "output_type": "stream",
     "text": [
      "u'OK'\n"
     ]
    }
   ],
   "source": [
    "cr.rollUp()"
   ]
  },
  {
   "cell_type": "code",
   "execution_count": 86,
   "metadata": {
    "collapsed": false
   },
   "outputs": [
    {
     "name": "stdout",
     "output_type": "stream",
     "text": [
      "'37,+RUE+DE+RIVOLI'\n"
     ]
    },
    {
     "data": {
      "text/plain": [
       "u'https://maps.googleapis.com/maps/api/geocode/json?address=37,+RUE+DE+RIVOLI'"
      ]
     },
     "execution_count": 86,
     "metadata": {},
     "output_type": "execute_result"
    }
   ],
   "source": [
    "cr._req('37, RUE DE RIVOLI')"
   ]
  },
  {
   "cell_type": "code",
   "execution_count": null,
   "metadata": {
    "collapsed": true
   },
   "outputs": [],
   "source": []
  }
 ],
 "metadata": {
  "kernelspec": {
   "display_name": "Python 2",
   "language": "python",
   "name": "python2"
  },
  "language_info": {
   "codemirror_mode": {
    "name": "ipython",
    "version": 2
   },
   "file_extension": ".py",
   "mimetype": "text/x-python",
   "name": "python",
   "nbconvert_exporter": "python",
   "pygments_lexer": "ipython2",
   "version": "2.7.10"
  }
 },
 "nbformat": 4,
 "nbformat_minor": 0
}
