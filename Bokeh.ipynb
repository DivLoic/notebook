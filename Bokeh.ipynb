{
 "cells": [
  {
   "cell_type": "code",
   "execution_count": 1,
   "metadata": {
    "collapsed": true
   },
   "outputs": [],
   "source": [
    "# -*- coding: utf-8 -*-"
   ]
  },
  {
   "cell_type": "code",
   "execution_count": 2,
   "metadata": {
    "collapsed": false
   },
   "outputs": [],
   "source": [
    "from bokeh.plotting import figure, output_notebook, show"
   ]
  },
  {
   "cell_type": "code",
   "execution_count": 3,
   "metadata": {
    "collapsed": false
   },
   "outputs": [],
   "source": [
    "# prepare some data\n",
    "x = [1, 2, 3, 4, 5]\n",
    "y = [6, 7, 2, 4, 5]"
   ]
  },
  {
   "cell_type": "code",
   "execution_count": 4,
   "metadata": {
    "collapsed": false
   },
   "outputs": [
    {
     "data": {
      "text/html": [
       "\n",
       "    <div class=\"bk-banner\">\n",
       "        <a href=\"http://bokeh.pydata.org\" target=\"_blank\" class=\"bk-logo bk-logo-small bk-logo-notebook\"></a>\n",
       "        <span id=\"5b127a36-57ca-4d8a-bacc-c30c6a8f3326\">Loading BokehJS ...</span>\n",
       "    </div>"
      ]
     },
     "metadata": {},
     "output_type": "display_data"
    },
    {
     "data": {
      "application/javascript": [
       "\n",
       "(function(global) {\n",
       "  function now() {\n",
       "    return new Date();\n",
       "  }\n",
       "\n",
       "  if (typeof (window._bokeh_onload_callbacks) === \"undefined\") {\n",
       "    window._bokeh_onload_callbacks = [];\n",
       "  }\n",
       "\n",
       "  function run_callbacks() {\n",
       "    window._bokeh_onload_callbacks.forEach(function(callback) { callback() });\n",
       "    delete window._bokeh_onload_callbacks\n",
       "    console.info(\"Bokeh: all callbacks have finished\");\n",
       "  }\n",
       "\n",
       "  function load_libs(js_urls, callback) {\n",
       "    window._bokeh_onload_callbacks.push(callback);\n",
       "    if (window._bokeh_is_loading > 0) {\n",
       "      console.log(\"Bokeh: BokehJS is being loaded, scheduling callback at\", now());\n",
       "      return null;\n",
       "    }\n",
       "    if (js_urls == null || js_urls.length === 0) {\n",
       "      run_callbacks();\n",
       "      return null;\n",
       "    }\n",
       "    console.log(\"Bokeh: BokehJS not loaded, scheduling load and callback at\", now());\n",
       "    window._bokeh_is_loading = js_urls.length;\n",
       "    for (var i = 0; i < js_urls.length; i++) {\n",
       "      var url = js_urls[i];\n",
       "      var s = document.createElement('script');\n",
       "      s.src = url;\n",
       "      s.async = false;\n",
       "      s.onreadystatechange = s.onload = function() {\n",
       "        window._bokeh_is_loading--;\n",
       "        if (window._bokeh_is_loading === 0) {\n",
       "          console.log(\"Bokeh: all BokehJS libraries loaded\");\n",
       "          run_callbacks()\n",
       "        }\n",
       "      };\n",
       "      s.onerror = function() {\n",
       "        console.warn(\"failed to load library \" + url);\n",
       "      };\n",
       "      console.log(\"Bokeh: injecting script tag for BokehJS library: \", url);\n",
       "      document.getElementsByTagName(\"head\")[0].appendChild(s);\n",
       "    }\n",
       "  };\n",
       "\n",
       "  var js_urls = ['https://cdn.pydata.org/bokeh/release/bokeh-0.11.1.min.js', 'https://cdn.pydata.org/bokeh/release/bokeh-widgets-0.11.1.min.js', 'https://cdn.pydata.org/bokeh/release/bokeh-compiler-0.11.1.min.js'];\n",
       "\n",
       "  var inline_js = [\n",
       "    function(Bokeh) {\n",
       "      Bokeh.set_log_level(\"info\");\n",
       "    },\n",
       "    \n",
       "    function(Bokeh) {\n",
       "      Bokeh.$(\"#5b127a36-57ca-4d8a-bacc-c30c6a8f3326\").text(\"BokehJS successfully loaded\");\n",
       "    },\n",
       "    function(Bokeh) {\n",
       "      console.log(\"Bokeh: injecting CSS: https://cdn.pydata.org/bokeh/release/bokeh-0.11.1.min.css\");\n",
       "      Bokeh.embed.inject_css(\"https://cdn.pydata.org/bokeh/release/bokeh-0.11.1.min.css\");\n",
       "      console.log(\"Bokeh: injecting CSS: https://cdn.pydata.org/bokeh/release/bokeh-widgets-0.11.1.min.css\");\n",
       "      Bokeh.embed.inject_css(\"https://cdn.pydata.org/bokeh/release/bokeh-widgets-0.11.1.min.css\");\n",
       "    }\n",
       "  ];\n",
       "\n",
       "  function run_inline_js() {\n",
       "    for (var i = 0; i < inline_js.length; i++) {\n",
       "      inline_js[i](window.Bokeh);\n",
       "    }\n",
       "  }\n",
       "\n",
       "  if (window._bokeh_is_loading === 0) {\n",
       "    console.log(\"Bokeh: BokehJS loaded, going straight to plotting\");\n",
       "    run_inline_js();\n",
       "  } else {\n",
       "    load_libs(js_urls, function() {\n",
       "      console.log(\"Bokeh: BokehJS plotting callback run at\", now());\n",
       "      run_inline_js();\n",
       "    });\n",
       "  }\n",
       "}(this));"
      ]
     },
     "metadata": {},
     "output_type": "display_data"
    }
   ],
   "source": [
    "# output to static HTML file\n",
    "#output_file(\"lines.html\", title=\"line plot example\")\n",
    "output_notebook()"
   ]
  },
  {
   "cell_type": "code",
   "execution_count": 5,
   "metadata": {
    "collapsed": true
   },
   "outputs": [],
   "source": [
    "# create a new plot with a title and axis labels\n",
    "p = figure(title=\"simple line example\", x_axis_label='x', y_axis_label='y')"
   ]
  },
  {
   "cell_type": "code",
   "execution_count": 6,
   "metadata": {
    "collapsed": false
   },
   "outputs": [
    {
     "data": {
      "text/plain": [
       "<bokeh.models.renderers.GlyphRenderer at 0x110d40790>"
      ]
     },
     "execution_count": 6,
     "metadata": {},
     "output_type": "execute_result"
    }
   ],
   "source": [
    "# add a line renderer with legend and line thickness\n",
    "p.line(x, y, legend=\"Temp.\", line_width=3)"
   ]
  },
  {
   "cell_type": "code",
   "execution_count": 7,
   "metadata": {
    "collapsed": false
   },
   "outputs": [
    {
     "data": {
      "text/html": [
       "\n",
       "\n",
       "    <div class=\"plotdiv\" id=\"dba9230d-c424-49fe-9cb8-2b1f2bc34f4f\"></div>\n",
       "<script type=\"text/javascript\">\n",
       "  \n",
       "  (function(global) {\n",
       "    function now() {\n",
       "      return new Date();\n",
       "    }\n",
       "  \n",
       "    if (typeof (window._bokeh_onload_callbacks) === \"undefined\") {\n",
       "      window._bokeh_onload_callbacks = [];\n",
       "    }\n",
       "  \n",
       "    function run_callbacks() {\n",
       "      window._bokeh_onload_callbacks.forEach(function(callback) { callback() });\n",
       "      delete window._bokeh_onload_callbacks\n",
       "      console.info(\"Bokeh: all callbacks have finished\");\n",
       "    }\n",
       "  \n",
       "    function load_libs(js_urls, callback) {\n",
       "      window._bokeh_onload_callbacks.push(callback);\n",
       "      if (window._bokeh_is_loading > 0) {\n",
       "        console.log(\"Bokeh: BokehJS is being loaded, scheduling callback at\", now());\n",
       "        return null;\n",
       "      }\n",
       "      if (js_urls == null || js_urls.length === 0) {\n",
       "        run_callbacks();\n",
       "        return null;\n",
       "      }\n",
       "      console.log(\"Bokeh: BokehJS not loaded, scheduling load and callback at\", now());\n",
       "      window._bokeh_is_loading = js_urls.length;\n",
       "      for (var i = 0; i < js_urls.length; i++) {\n",
       "        var url = js_urls[i];\n",
       "        var s = document.createElement('script');\n",
       "        s.src = url;\n",
       "        s.async = false;\n",
       "        s.onreadystatechange = s.onload = function() {\n",
       "          window._bokeh_is_loading--;\n",
       "          if (window._bokeh_is_loading === 0) {\n",
       "            console.log(\"Bokeh: all BokehJS libraries loaded\");\n",
       "            run_callbacks()\n",
       "          }\n",
       "        };\n",
       "        s.onerror = function() {\n",
       "          console.warn(\"failed to load library \" + url);\n",
       "        };\n",
       "        console.log(\"Bokeh: injecting script tag for BokehJS library: \", url);\n",
       "        document.getElementsByTagName(\"head\")[0].appendChild(s);\n",
       "      }\n",
       "    };var element = document.getElementById(\"dba9230d-c424-49fe-9cb8-2b1f2bc34f4f\");\n",
       "    if (element == null) {\n",
       "      console.log(\"Bokeh: ERROR: autoload.js configured with elementid 'dba9230d-c424-49fe-9cb8-2b1f2bc34f4f' but no matching script tag was found. \")\n",
       "      return false;\n",
       "    }\n",
       "  \n",
       "    var js_urls = [];\n",
       "  \n",
       "    var inline_js = [\n",
       "      function(Bokeh) {\n",
       "        Bokeh.$(function() {\n",
       "            var docs_json = {\"7653498c-0f25-434b-8149-c0faaf08968d\":{\"roots\":{\"references\":[{\"attributes\":{\"bottom_units\":\"screen\",\"fill_alpha\":{\"value\":0.5},\"fill_color\":{\"value\":\"lightgrey\"},\"left_units\":\"screen\",\"level\":\"overlay\",\"line_alpha\":{\"value\":1.0},\"line_color\":{\"value\":\"black\"},\"line_dash\":[4,4],\"line_width\":{\"value\":2},\"plot\":null,\"render_mode\":\"css\",\"right_units\":\"screen\",\"top_units\":\"screen\"},\"id\":\"1f909e58-7866-4c0f-aef4-9eae10745989\",\"type\":\"BoxAnnotation\"},{\"attributes\":{\"dimension\":1,\"plot\":{\"id\":\"dba5c7f2-3885-4abc-a25d-926f4bdb2c1e\",\"subtype\":\"Figure\",\"type\":\"Plot\"},\"ticker\":{\"id\":\"d2c79631-e54b-456a-8a37-8287defb9250\",\"type\":\"BasicTicker\"}},\"id\":\"bfb85f1c-cf7d-4cc1-a4da-99939f0bcab1\",\"type\":\"Grid\"},{\"attributes\":{\"plot\":{\"id\":\"dba5c7f2-3885-4abc-a25d-926f4bdb2c1e\",\"subtype\":\"Figure\",\"type\":\"Plot\"},\"ticker\":{\"id\":\"8aa60668-53a4-4f9c-aec6-e7af866c53e0\",\"type\":\"BasicTicker\"}},\"id\":\"96559edd-b1c5-491e-836f-40fbcf72415b\",\"type\":\"Grid\"},{\"attributes\":{\"callback\":null},\"id\":\"ab62596e-c0fe-40bd-a02e-3ad9d90d64f9\",\"type\":\"DataRange1d\"},{\"attributes\":{\"plot\":{\"id\":\"dba5c7f2-3885-4abc-a25d-926f4bdb2c1e\",\"subtype\":\"Figure\",\"type\":\"Plot\"}},\"id\":\"79c82cc6-5509-4a37-b39c-f4b02b6705ee\",\"type\":\"WheelZoomTool\"},{\"attributes\":{},\"id\":\"421238ea-263f-42a3-a22f-867a1ecad555\",\"type\":\"BasicTickFormatter\"},{\"attributes\":{},\"id\":\"14d2849f-c36d-432a-9ea7-1c3effc6bc70\",\"type\":\"ToolEvents\"},{\"attributes\":{},\"id\":\"8aa60668-53a4-4f9c-aec6-e7af866c53e0\",\"type\":\"BasicTicker\"},{\"attributes\":{\"below\":[{\"id\":\"f5f3cb11-6ad8-431f-b937-edbf06c58785\",\"type\":\"LinearAxis\"}],\"left\":[{\"id\":\"8064f82b-b970-4f42-a4a9-2aa4a4f91767\",\"type\":\"LinearAxis\"}],\"renderers\":[{\"id\":\"f5f3cb11-6ad8-431f-b937-edbf06c58785\",\"type\":\"LinearAxis\"},{\"id\":\"96559edd-b1c5-491e-836f-40fbcf72415b\",\"type\":\"Grid\"},{\"id\":\"8064f82b-b970-4f42-a4a9-2aa4a4f91767\",\"type\":\"LinearAxis\"},{\"id\":\"bfb85f1c-cf7d-4cc1-a4da-99939f0bcab1\",\"type\":\"Grid\"},{\"id\":\"1f909e58-7866-4c0f-aef4-9eae10745989\",\"type\":\"BoxAnnotation\"},{\"id\":\"6506f918-946c-4190-88f5-4aac8f532aa1\",\"type\":\"Legend\"},{\"id\":\"f5620f63-7ccb-4378-a12e-11c183f0ea4d\",\"type\":\"GlyphRenderer\"}],\"title\":\"simple line example\",\"tool_events\":{\"id\":\"14d2849f-c36d-432a-9ea7-1c3effc6bc70\",\"type\":\"ToolEvents\"},\"tools\":[{\"id\":\"fb0de7dd-c56f-44a7-9f91-857e0f155d48\",\"type\":\"PanTool\"},{\"id\":\"79c82cc6-5509-4a37-b39c-f4b02b6705ee\",\"type\":\"WheelZoomTool\"},{\"id\":\"05843bca-a158-45ba-bdd4-09b4c16086af\",\"type\":\"BoxZoomTool\"},{\"id\":\"123a01a1-bb1f-4650-b873-e6d2dfe0152c\",\"type\":\"PreviewSaveTool\"},{\"id\":\"24641e06-4c54-4c81-ae55-ded9b209f959\",\"type\":\"ResizeTool\"},{\"id\":\"37c45839-a5d4-45f5-b863-98abe50952e7\",\"type\":\"ResetTool\"},{\"id\":\"e03078df-11de-4d5e-b3a2-23295d06cb2e\",\"type\":\"HelpTool\"}],\"x_range\":{\"id\":\"ab62596e-c0fe-40bd-a02e-3ad9d90d64f9\",\"type\":\"DataRange1d\"},\"y_range\":{\"id\":\"0057a842-4dae-468e-9552-32e0ac8eaced\",\"type\":\"DataRange1d\"}},\"id\":\"dba5c7f2-3885-4abc-a25d-926f4bdb2c1e\",\"subtype\":\"Figure\",\"type\":\"Plot\"},{\"attributes\":{\"callback\":null},\"id\":\"0057a842-4dae-468e-9552-32e0ac8eaced\",\"type\":\"DataRange1d\"},{\"attributes\":{\"data_source\":{\"id\":\"23bc9c59-3674-4440-a48e-56dfa0b99624\",\"type\":\"ColumnDataSource\"},\"glyph\":{\"id\":\"03458061-923a-4de2-972c-5be251c9fba5\",\"type\":\"Line\"},\"hover_glyph\":null,\"nonselection_glyph\":{\"id\":\"ea647114-c51c-4e62-86ac-ddeafa50fd7b\",\"type\":\"Line\"},\"selection_glyph\":null},\"id\":\"f5620f63-7ccb-4378-a12e-11c183f0ea4d\",\"type\":\"GlyphRenderer\"},{\"attributes\":{\"plot\":{\"id\":\"dba5c7f2-3885-4abc-a25d-926f4bdb2c1e\",\"subtype\":\"Figure\",\"type\":\"Plot\"}},\"id\":\"e03078df-11de-4d5e-b3a2-23295d06cb2e\",\"type\":\"HelpTool\"},{\"attributes\":{},\"id\":\"374a0984-9779-43f6-85b3-ec50e32351b3\",\"type\":\"BasicTickFormatter\"},{\"attributes\":{\"axis_label\":\"y\",\"formatter\":{\"id\":\"421238ea-263f-42a3-a22f-867a1ecad555\",\"type\":\"BasicTickFormatter\"},\"plot\":{\"id\":\"dba5c7f2-3885-4abc-a25d-926f4bdb2c1e\",\"subtype\":\"Figure\",\"type\":\"Plot\"},\"ticker\":{\"id\":\"d2c79631-e54b-456a-8a37-8287defb9250\",\"type\":\"BasicTicker\"}},\"id\":\"8064f82b-b970-4f42-a4a9-2aa4a4f91767\",\"type\":\"LinearAxis\"},{\"attributes\":{\"legends\":[[\"Temp.\",[{\"id\":\"f5620f63-7ccb-4378-a12e-11c183f0ea4d\",\"type\":\"GlyphRenderer\"}]]],\"plot\":{\"id\":\"dba5c7f2-3885-4abc-a25d-926f4bdb2c1e\",\"subtype\":\"Figure\",\"type\":\"Plot\"}},\"id\":\"6506f918-946c-4190-88f5-4aac8f532aa1\",\"type\":\"Legend\"},{\"attributes\":{\"overlay\":{\"id\":\"1f909e58-7866-4c0f-aef4-9eae10745989\",\"type\":\"BoxAnnotation\"},\"plot\":{\"id\":\"dba5c7f2-3885-4abc-a25d-926f4bdb2c1e\",\"subtype\":\"Figure\",\"type\":\"Plot\"}},\"id\":\"05843bca-a158-45ba-bdd4-09b4c16086af\",\"type\":\"BoxZoomTool\"},{\"attributes\":{\"callback\":null,\"column_names\":[\"y\",\"x\"],\"data\":{\"x\":[1,2,3,4,5],\"y\":[6,7,2,4,5]}},\"id\":\"23bc9c59-3674-4440-a48e-56dfa0b99624\",\"type\":\"ColumnDataSource\"},{\"attributes\":{\"plot\":{\"id\":\"dba5c7f2-3885-4abc-a25d-926f4bdb2c1e\",\"subtype\":\"Figure\",\"type\":\"Plot\"}},\"id\":\"fb0de7dd-c56f-44a7-9f91-857e0f155d48\",\"type\":\"PanTool\"},{\"attributes\":{\"plot\":{\"id\":\"dba5c7f2-3885-4abc-a25d-926f4bdb2c1e\",\"subtype\":\"Figure\",\"type\":\"Plot\"}},\"id\":\"37c45839-a5d4-45f5-b863-98abe50952e7\",\"type\":\"ResetTool\"},{\"attributes\":{\"plot\":{\"id\":\"dba5c7f2-3885-4abc-a25d-926f4bdb2c1e\",\"subtype\":\"Figure\",\"type\":\"Plot\"}},\"id\":\"123a01a1-bb1f-4650-b873-e6d2dfe0152c\",\"type\":\"PreviewSaveTool\"},{\"attributes\":{\"axis_label\":\"x\",\"formatter\":{\"id\":\"374a0984-9779-43f6-85b3-ec50e32351b3\",\"type\":\"BasicTickFormatter\"},\"plot\":{\"id\":\"dba5c7f2-3885-4abc-a25d-926f4bdb2c1e\",\"subtype\":\"Figure\",\"type\":\"Plot\"},\"ticker\":{\"id\":\"8aa60668-53a4-4f9c-aec6-e7af866c53e0\",\"type\":\"BasicTicker\"}},\"id\":\"f5f3cb11-6ad8-431f-b937-edbf06c58785\",\"type\":\"LinearAxis\"},{\"attributes\":{\"line_alpha\":{\"value\":0.1},\"line_color\":{\"value\":\"#1f77b4\"},\"line_width\":{\"value\":3},\"x\":{\"field\":\"x\"},\"y\":{\"field\":\"y\"}},\"id\":\"ea647114-c51c-4e62-86ac-ddeafa50fd7b\",\"type\":\"Line\"},{\"attributes\":{\"plot\":{\"id\":\"dba5c7f2-3885-4abc-a25d-926f4bdb2c1e\",\"subtype\":\"Figure\",\"type\":\"Plot\"}},\"id\":\"24641e06-4c54-4c81-ae55-ded9b209f959\",\"type\":\"ResizeTool\"},{\"attributes\":{\"line_color\":{\"value\":\"#1f77b4\"},\"line_width\":{\"value\":3},\"x\":{\"field\":\"x\"},\"y\":{\"field\":\"y\"}},\"id\":\"03458061-923a-4de2-972c-5be251c9fba5\",\"type\":\"Line\"},{\"attributes\":{},\"id\":\"d2c79631-e54b-456a-8a37-8287defb9250\",\"type\":\"BasicTicker\"}],\"root_ids\":[\"dba5c7f2-3885-4abc-a25d-926f4bdb2c1e\"]},\"title\":\"Bokeh Application\",\"version\":\"0.11.1\"}};\n",
       "            var render_items = [{\"docid\":\"7653498c-0f25-434b-8149-c0faaf08968d\",\"elementid\":\"dba9230d-c424-49fe-9cb8-2b1f2bc34f4f\",\"modelid\":\"dba5c7f2-3885-4abc-a25d-926f4bdb2c1e\",\"notebook_comms_target\":\"a340f0f8-1142-4ed1-bab0-4fbaa76823c3\"}];\n",
       "            \n",
       "            Bokeh.embed.embed_items(docs_json, render_items);\n",
       "        });\n",
       "      },\n",
       "      function(Bokeh) {\n",
       "      }\n",
       "    ];\n",
       "  \n",
       "    function run_inline_js() {\n",
       "      for (var i = 0; i < inline_js.length; i++) {\n",
       "        inline_js[i](window.Bokeh);\n",
       "      }\n",
       "    }\n",
       "  \n",
       "    if (window._bokeh_is_loading === 0) {\n",
       "      console.log(\"Bokeh: BokehJS loaded, going straight to plotting\");\n",
       "      run_inline_js();\n",
       "    } else {\n",
       "      load_libs(js_urls, function() {\n",
       "        console.log(\"Bokeh: BokehJS plotting callback run at\", now());\n",
       "        run_inline_js();\n",
       "      });\n",
       "    }\n",
       "  }(this));\n",
       "</script>"
      ]
     },
     "metadata": {},
     "output_type": "display_data"
    },
    {
     "data": {
      "text/html": [
       "<p><code>&lt;Bokeh Notebook handle for <strong>In[7]</strong>&gt;</code></p>"
      ],
      "text/plain": [
       "<bokeh.io._CommsHandle at 0x111c46650>"
      ]
     },
     "execution_count": 7,
     "metadata": {},
     "output_type": "execute_result"
    }
   ],
   "source": [
    "# show the results\n",
    "show(p)"
   ]
  },
  {
   "cell_type": "code",
   "execution_count": null,
   "metadata": {
    "collapsed": true
   },
   "outputs": [],
   "source": []
  }
 ],
 "metadata": {
  "kernelspec": {
   "display_name": "Python 2",
   "language": "python",
   "name": "python2"
  },
  "language_info": {
   "codemirror_mode": {
    "name": "ipython",
    "version": 2
   },
   "file_extension": ".py",
   "mimetype": "text/x-python",
   "name": "python",
   "nbconvert_exporter": "python",
   "pygments_lexer": "ipython2",
   "version": "2.7.12"
  }
 },
 "nbformat": 4,
 "nbformat_minor": 0
}
