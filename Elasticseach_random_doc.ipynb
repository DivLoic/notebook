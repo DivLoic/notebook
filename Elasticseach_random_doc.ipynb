{
 "cells": [
  {
   "cell_type": "code",
   "execution_count": 66,
   "metadata": {
    "collapsed": true
   },
   "outputs": [],
   "source": [
    "import os\n",
    "import numpy\n",
    "import random\n",
    "import json\n",
    "from datetime import datetime\n",
    "from pyes import *"
   ]
  },
  {
   "cell_type": "code",
   "execution_count": 67,
   "metadata": {
    "collapsed": false
   },
   "outputs": [],
   "source": [
    "conn = ES(\"127.0.0.1:9200\")"
   ]
  },
  {
   "cell_type": "code",
   "execution_count": 68,
   "metadata": {
    "collapsed": true
   },
   "outputs": [],
   "source": [
    "users = [\"USER_A01\", \"USER_B02\", \"USER_C03\", \"USER_D04\", \"USER_E05\"]\n",
    "pages = [\"PageX\", \"PageY\", \"PageZ\"]\n",
    "types = [\"Fire\", \"Water\", \"Fly\", \"Plante\", \"Fight\"]\n"
   ]
  },
  {
   "cell_type": "code",
   "execution_count": null,
   "metadata": {
    "collapsed": false
   },
   "outputs": [],
   "source": []
  },
  {
   "cell_type": "code",
   "execution_count": 69,
   "metadata": {
    "collapsed": false
   },
   "outputs": [],
   "source": [
    "def rbool():\n",
    "    return bool(random.getrandbits(1))\n",
    "\n",
    "def relement(array=[]):\n",
    "    idx = random.randint(0, len(array)-1) \n",
    "    return array[idx]\n",
    "\n",
    "def rconcat(array=[]):\n",
    "    n = random.randint(0, len(array)-1)\n",
    "    random.shuffle(array)\n",
    "    return ','.join(array[0:n])\n",
    "\n",
    "def rhash():\n",
    "    return os.urandom(16).encode('hex')\n",
    "\n",
    "def rdate():\n",
    "    year = random.randint(2014, 2015)\n",
    "    month = random.randint(1, 12)\n",
    "    day = random.randint(1, 28)\n",
    "    return datetime(year, month, day).isoformat()"
   ]
  },
  {
   "cell_type": "code",
   "execution_count": 70,
   "metadata": {
    "collapsed": false
   },
   "outputs": [],
   "source": [
    "doc_exemple = {'id': '',\n",
    "               'timestamp': '',\n",
    "               'pages': '',\n",
    "               'type': '',\n",
    "               'query': {'order': '', 'mapping': '', 'emptytabs': [], 'hash': ''},\n",
    "               'useless': 'one',\n",
    "               'useless': 'two'\n",
    "              }"
   ]
  },
  {
   "cell_type": "code",
   "execution_count": 72,
   "metadata": {
    "collapsed": false
   },
   "outputs": [],
   "source": [
    "for i in range(1,1000) :\n",
    "        doc = doc_exemple.copy()\n",
    "        doc['id'] = rhash()\n",
    "        doc['timestamp'] = rdate()\n",
    "        doc['page'] = relement(pages)\n",
    "        doc['type'] = rconcat(types)\n",
    "        doc['query']['order'] = rbool()\n",
    "        doc['query']['mapping'] = rbool()\n",
    "        \n",
    "        info = {'info': json.dumps(doc)}\n",
    "        \n",
    "        conn.index(info, 'random', 'kyc')\n",
    "        "
   ]
  },
  {
   "cell_type": "code",
   "execution_count": null,
   "metadata": {
    "collapsed": true
   },
   "outputs": [],
   "source": []
  }
 ],
 "metadata": {
  "kernelspec": {
   "display_name": "Python 2",
   "language": "python",
   "name": "python2"
  },
  "language_info": {
   "codemirror_mode": {
    "name": "ipython",
    "version": 2
   },
   "file_extension": ".py",
   "mimetype": "text/x-python",
   "name": "python",
   "nbconvert_exporter": "python",
   "pygments_lexer": "ipython2",
   "version": "2.7.10"
  }
 },
 "nbformat": 4,
 "nbformat_minor": 0
}
