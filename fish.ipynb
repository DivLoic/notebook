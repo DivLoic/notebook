{
 "cells": [
  {
   "cell_type": "code",
   "execution_count": 22,
   "metadata": {
    "collapsed": true
   },
   "outputs": [],
   "source": [
    "# coding: utf8"
   ]
  },
  {
   "cell_type": "code",
   "execution_count": 23,
   "metadata": {
    "collapsed": true
   },
   "outputs": [],
   "source": [
    "import os\n",
    "import sys"
   ]
  },
  {
   "cell_type": "code",
   "execution_count": 24,
   "metadata": {
    "collapsed": true
   },
   "outputs": [],
   "source": [
    "# config"
   ]
  },
  {
   "cell_type": "code",
   "execution_count": 25,
   "metadata": {
    "collapsed": true
   },
   "outputs": [],
   "source": [
    "def isPS1(line):\n",
    "    return True if line.find('PS1') != -1 else False"
   ]
  },
  {
   "cell_type": "code",
   "execution_count": 26,
   "metadata": {
    "collapsed": true
   },
   "outputs": [],
   "source": [
    "def linePattern(cmd, line):\n",
    "    if cmd == 'comment':\n",
    "        return True if line[0] == '#' else False\n",
    "    elif cmd == 'export':\n",
    "        if (line.find('PATH') != -1): return False\n",
    "        return True if line.split(' ')[0] == 'export' else False\n",
    "    elif cmd == 'alias':\n",
    "        return True if line.split(' ')[0] == 'alias' else False\n",
    "    elif cmd == 'PATH':\n",
    "        return True if line.find('PATH') != -1 else False\n",
    "    pass"
   ]
  },
  {
   "cell_type": "code",
   "execution_count": 27,
   "metadata": {
    "collapsed": true
   },
   "outputs": [],
   "source": [
    "# process"
   ]
  },
  {
   "cell_type": "code",
   "execution_count": 28,
   "metadata": {
    "collapsed": false
   },
   "outputs": [],
   "source": [
    "if __name__ == '__main__':\n",
    "    FISHING_NET = []\n",
    "    profile = os.path.abspath(os.environ['HOME'] + '/.bash_profile')\n",
    "    fishfile = os.path.abspath(os.environ['HOME'] + '/.fish_profile')\n",
    "    \n",
    "    with open(profile, 'r') as bash:\n",
    "        for line in bash:\n",
    "            if linePattern('comment', line) or line == '\\n' or isPS1(line):\n",
    "                continue\n",
    "            elif linePattern('export', line):\n",
    "                FISHING_NET.append(line.replace('export', 'set -x').replace('=', ' '))\n",
    "            elif linePattern('alias', line):\n",
    "                FISHING_NET.append(line.replace('=', ' '))\n",
    "            elif linePattern('PATH', line):\n",
    "                FISHING_NET.append( \\\n",
    "                    line.replace('export PATH=', 'set -gx PATH ') \\\n",
    "                    .replace(':$PATH', ' $PATH') \\\n",
    "                )\n",
    "            else:\n",
    "                pass\n",
    "            \n",
    "    with open(fishfile, 'w') as f:\n",
    "        for l in FISHING_NET:\n",
    "            f.write(l)\n",
    "    \n",
    "    print 'fish export available at ~/.fish_profile.'"
   ]
  },
  {
   "cell_type": "code",
   "execution_count": null,
   "metadata": {
    "collapsed": false
   },
   "outputs": [],
   "source": []
  },
  {
   "cell_type": "code",
   "execution_count": null,
   "metadata": {
    "collapsed": true
   },
   "outputs": [],
   "source": []
  }
 ],
 "metadata": {
  "kernelspec": {
   "display_name": "Python 2",
   "language": "python",
   "name": "python2"
  },
  "language_info": {
   "codemirror_mode": {
    "name": "ipython",
    "version": 2
   },
   "file_extension": ".py",
   "mimetype": "text/x-python",
   "name": "python",
   "nbconvert_exporter": "python",
   "pygments_lexer": "ipython2",
   "version": "2.7.10"
  }
 },
 "nbformat": 4,
 "nbformat_minor": 0
}
