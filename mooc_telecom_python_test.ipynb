{
 "cells": [
  {
   "cell_type": "code",
   "execution_count": null,
   "metadata": {
    "collapsed": true
   },
   "outputs": [],
   "source": [
    "# -*- coding: utf-8 -*-"
   ]
  },
  {
   "cell_type": "markdown",
   "metadata": {},
   "source": [
    "##MOOC TELECOM PARIS: PYTHON TEST1"
   ]
  },
  {
   "cell_type": "code",
   "execution_count": null,
   "metadata": {
    "collapsed": false
   },
   "outputs": [],
   "source": [
    "a = 7 // float(2)\n",
    "print(a)"
   ]
  },
  {
   "cell_type": "code",
   "execution_count": null,
   "metadata": {
    "collapsed": false
   },
   "outputs": [],
   "source": [
    "import time as t\n",
    "t.ctime()"
   ]
  },
  {
   "cell_type": "code",
   "execution_count": null,
   "metadata": {
    "collapsed": false
   },
   "outputs": [],
   "source": [
    "s = \"aaaa\" + \"0000\"\n",
    "print(s)\n",
    "\n",
    "#s = \"a\" * 4 + \"0\" * 4  \n",
    "#print(s)\n",
    "\n",
    "s = \"aaaa0000\"\n",
    "print(s)\n",
    "\n",
    "s = \"%s%s\" % (\"aaaa\", \"0000\")\n",
    "print(s)"
   ]
  },
  {
   "cell_type": "code",
   "execution_count": null,
   "metadata": {
    "collapsed": false
   },
   "outputs": [],
   "source": [
    "s = \"12345678\"\n",
    "s[1:-1:2]"
   ]
  },
  {
   "cell_type": "code",
   "execution_count": null,
   "metadata": {
    "collapsed": false
   },
   "outputs": [],
   "source": [
    "l = [3, 0, 1]\n",
    "\n",
    "l = l + l[:2]\n",
    "\n",
    "m = l.sort()\n",
    "\n",
    "l.pop()\n",
    "\n",
    "print(m)"
   ]
  },
  {
   "cell_type": "code",
   "execution_count": null,
   "metadata": {
    "collapsed": false
   },
   "outputs": [],
   "source": [
    "rectangle = (30.0, 70.0)\n",
    "longueur = rectangle[-1]\n",
    "#largeur = rectangle[2]\n",
    "#rectangle[1] = 20 \n",
    "print(rectangle)"
   ]
  },
  {
   "cell_type": "code",
   "execution_count": null,
   "metadata": {
    "collapsed": false
   },
   "outputs": [],
   "source": [
    "rectangle = dict (longueur=130.0, largeur=70.0)\n",
    "print(rectangle[\"longueur\"] > 20 )\n",
    "print(\"largeur\" in rectangle )\n",
    "print(len(rectangle) == 2 )\n",
    "rectangle[\"largeur\"] = 20 "
   ]
  },
  {
   "cell_type": "code",
   "execution_count": null,
   "metadata": {
    "collapsed": false
   },
   "outputs": [],
   "source": [
    "def test(a, n=2):\n",
    "    out = a\n",
    "    for k in range(1, n):\n",
    "        out += a\n",
    "    return out\n",
    "\n",
    "print(test('a'))\n",
    "print(test([1, 2], 1))\n",
    "print(test(n=10, a=3))\n",
    "#test()"
   ]
  },
  {
   "cell_type": "markdown",
   "metadata": {
    "collapsed": false
   },
   "source": [
    "##MOOC TELECOM PARIS: PYTHON TEST1"
   ]
  },
  {
   "cell_type": "code",
   "execution_count": null,
   "metadata": {
    "collapsed": false
   },
   "outputs": [],
   "source": [
    "import numpy as np\n",
    "v = np.array([0, 2, 4, 6])\n",
    "###\n",
    "print(len(v))\n",
    "print(v.ndim)\n",
    "print(v.shape)\n",
    "print(v[1])"
   ]
  },
  {
   "cell_type": "code",
   "execution_count": null,
   "metadata": {
    "collapsed": false
   },
   "outputs": [],
   "source": [
    "a = np.array([ [0, 2], [4, 6]], dtype=np.float64)\n",
    "###\n",
    "print(type(a))\n",
    "print(a.ndim)\n",
    "print(a.size)"
   ]
  },
  {
   "cell_type": "code",
   "execution_count": null,
   "metadata": {
    "collapsed": false
   },
   "outputs": [],
   "source": [
    "M = np.array([ [0, 2], [4, 6]]) \n",
    "r = M[0, :]\n",
    "a = r[1]\n",
    "print(a)"
   ]
  },
  {
   "cell_type": "code",
   "execution_count": null,
   "metadata": {
    "collapsed": false
   },
   "outputs": [],
   "source": [
    "y = np.array([0, 0, 0, 1, 1, 1])\n",
    "y1 = y[y == 1]\n",
    "y[y < 1] = -1.0\n",
    "print(y1)\n",
    "y.dtype"
   ]
  },
  {
   "cell_type": "code",
   "execution_count": null,
   "metadata": {
    "collapsed": true
   },
   "outputs": [],
   "source": [
    "import matplotlib.pyplot as plt\n",
    "x = np.linspace(0, 5, 100)\n",
    "y = x ** 2\n",
    "plt.plot(x, y)\n",
    "plt.show()"
   ]
  },
  {
   "cell_type": "code",
   "execution_count": null,
   "metadata": {
    "collapsed": true
   },
   "outputs": [],
   "source": [
    "a = np.arange(3)\n",
    "###\n",
    "print(a.dtype)\n",
    "print(a + 1.0)"
   ]
  },
  {
   "cell_type": "code",
   "execution_count": null,
   "metadata": {
    "collapsed": true
   },
   "outputs": [],
   "source": [
    "a = np.ones((5, 5))\n",
    "v = np.dot(a, np.ones(5))\n",
    "###\n",
    "print(v)\n",
    "print(np.diag(a))"
   ]
  },
  {
   "cell_type": "code",
   "execution_count": null,
   "metadata": {
    "collapsed": true
   },
   "outputs": [],
   "source": [
    "a = np.arange(20)\n",
    "a = a.reshape(4, 5)\n",
    "###\n",
    "np.max(a)\n",
    "np.min(a, axis=0)\n",
    "np.min(a)\n",
    "print(a[:,0])"
   ]
  },
  {
   "cell_type": "code",
   "execution_count": null,
   "metadata": {
    "collapsed": true
   },
   "outputs": [],
   "source": []
  }
 ],
 "metadata": {
  "kernelspec": {
   "display_name": "Python 2",
   "language": "python",
   "name": "python2"
  },
  "language_info": {
   "codemirror_mode": {
    "name": "ipython",
    "version": 2
   },
   "file_extension": ".py",
   "mimetype": "text/x-python",
   "name": "python",
   "nbconvert_exporter": "python",
   "pygments_lexer": "ipython2",
   "version": "2.7.10"
  }
 },
 "nbformat": 4,
 "nbformat_minor": 0
}
