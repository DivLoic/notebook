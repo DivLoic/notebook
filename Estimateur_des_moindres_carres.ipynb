{
 "metadata": {
  "name": "",
  "signature": "sha256:c5cc2ed270018929109c3cac537bb15bcbf8c952300419527617ed19f15fb61e"
 },
 "nbformat": 3,
 "nbformat_minor": 0,
 "worksheets": [
  {
   "cells": [
    {
     "cell_type": "code",
     "collapsed": false,
     "input": [],
     "language": "python",
     "metadata": {},
     "outputs": [],
     "prompt_number": 0
    },
    {
     "cell_type": "markdown",
     "metadata": {},
     "source": [
      "###Imports"
     ]
    },
    {
     "cell_type": "code",
     "collapsed": false,
     "input": [
      "import numpy as np"
     ],
     "language": "python",
     "metadata": {},
     "outputs": [],
     "prompt_number": 2
    },
    {
     "cell_type": "code",
     "collapsed": false,
     "input": [
      "y = np.ones((1,8))\n",
      "print(y)\n",
      "I8 = np.identity(8)\n",
      "E = I8\n",
      "E[0,7] += 1\n",
      "print(E)\n",
      "\n"
     ],
     "language": "python",
     "metadata": {},
     "outputs": [
      {
       "output_type": "stream",
       "stream": "stdout",
       "text": [
        "[[ 1.  1.  1.  1.  1.  1.  1.  1.]]\n",
        "[[ 1.  0.  0.  0.  0.  0.  0.  1.]\n",
        " [ 0.  1.  0.  0.  0.  0.  0.  0.]\n",
        " [ 0.  0.  1.  0.  0.  0.  0.  0.]\n",
        " [ 0.  0.  0.  1.  0.  0.  0.  0.]\n",
        " [ 0.  0.  0.  0.  1.  0.  0.  0.]\n",
        " [ 0.  0.  0.  0.  0.  1.  0.  0.]\n",
        " [ 0.  0.  0.  0.  0.  0.  1.  0.]\n",
        " [ 0.  0.  0.  0.  0.  0.  0.  1.]]\n"
       ]
      }
     ],
     "prompt_number": 14
    },
    {
     "cell_type": "code",
     "collapsed": false,
     "input": [
      "np.dot(E.T,E)"
     ],
     "language": "python",
     "metadata": {},
     "outputs": [
      {
       "metadata": {},
       "output_type": "pyout",
       "prompt_number": 4,
       "text": [
        "array([[ 1.,  0.,  0.,  0.,  0.,  0.,  0.,  1.],\n",
        "       [ 0.,  1.,  0.,  0.,  0.,  0.,  0.,  0.],\n",
        "       [ 0.,  0.,  1.,  0.,  0.,  0.,  0.,  0.],\n",
        "       [ 0.,  0.,  0.,  1.,  0.,  0.,  0.,  0.],\n",
        "       [ 0.,  0.,  0.,  0.,  1.,  0.,  0.,  0.],\n",
        "       [ 0.,  0.,  0.,  0.,  0.,  1.,  0.,  0.],\n",
        "       [ 0.,  0.,  0.,  0.,  0.,  0.,  1.,  0.],\n",
        "       [ 1.,  0.,  0.,  0.,  0.,  0.,  0.,  2.]])"
       ]
      }
     ],
     "prompt_number": 4
    },
    {
     "cell_type": "code",
     "collapsed": false,
     "input": [
      "X = np.linalg.inv(np.dot(E.T,E))\n",
      "np.linalg.inv(np.dot(E.T,E))"
     ],
     "language": "python",
     "metadata": {},
     "outputs": [
      {
       "metadata": {},
       "output_type": "pyout",
       "prompt_number": 6,
       "text": [
        "array([[ 2.,  0.,  0.,  0.,  0.,  0.,  0., -1.],\n",
        "       [ 0.,  1.,  0.,  0.,  0.,  0.,  0.,  0.],\n",
        "       [ 0.,  0.,  1.,  0.,  0.,  0.,  0.,  0.],\n",
        "       [ 0.,  0.,  0.,  1.,  0.,  0.,  0.,  0.],\n",
        "       [ 0.,  0.,  0.,  0.,  1.,  0.,  0.,  0.],\n",
        "       [ 0.,  0.,  0.,  0.,  0.,  1.,  0.,  0.],\n",
        "       [ 0.,  0.,  0.,  0.,  0.,  0.,  1.,  0.],\n",
        "       [-1.,  0.,  0.,  0.,  0.,  0.,  0.,  1.]])"
       ]
      }
     ],
     "prompt_number": 6
    },
    {
     "cell_type": "code",
     "collapsed": false,
     "input": [
      "X2 = np.dot(X,E.T)\n",
      "np.dot(X,E.T)"
     ],
     "language": "python",
     "metadata": {},
     "outputs": [
      {
       "metadata": {},
       "output_type": "pyout",
       "prompt_number": 9,
       "text": [
        "array([[ 1.,  0.,  0.,  0.,  0.,  0.,  0., -1.],\n",
        "       [ 0.,  1.,  0.,  0.,  0.,  0.,  0.,  0.],\n",
        "       [ 0.,  0.,  1.,  0.,  0.,  0.,  0.,  0.],\n",
        "       [ 0.,  0.,  0.,  1.,  0.,  0.,  0.,  0.],\n",
        "       [ 0.,  0.,  0.,  0.,  1.,  0.,  0.,  0.],\n",
        "       [ 0.,  0.,  0.,  0.,  0.,  1.,  0.,  0.],\n",
        "       [ 0.,  0.,  0.,  0.,  0.,  0.,  1.,  0.],\n",
        "       [ 0.,  0.,  0.,  0.,  0.,  0.,  0.,  1.]])"
       ]
      }
     ],
     "prompt_number": 9
    },
    {
     "cell_type": "code",
     "collapsed": false,
     "input": [
      "B = np.dot(X2,y.T)\n",
      "np.dot(X2,y.T)"
     ],
     "language": "python",
     "metadata": {},
     "outputs": [
      {
       "metadata": {},
       "output_type": "pyout",
       "prompt_number": 16,
       "text": [
        "array([[ 0.],\n",
        "       [ 1.],\n",
        "       [ 1.],\n",
        "       [ 1.],\n",
        "       [ 1.],\n",
        "       [ 1.],\n",
        "       [ 1.],\n",
        "       [ 1.]])"
       ]
      }
     ],
     "prompt_number": 16
    },
    {
     "cell_type": "code",
     "collapsed": false,
     "input": [
      "SBi = B.sum()\n",
      "print(SBi)"
     ],
     "language": "python",
     "metadata": {},
     "outputs": [
      {
       "output_type": "stream",
       "stream": "stdout",
       "text": [
        "7.0\n"
       ]
      }
     ],
     "prompt_number": 20
    },
    {
     "cell_type": "code",
     "collapsed": false,
     "input": [],
     "language": "python",
     "metadata": {},
     "outputs": [],
     "prompt_number": 22
    },
    {
     "cell_type": "markdown",
     "metadata": {},
     "source": [
      "#Vin blanc"
     ]
    },
    {
     "cell_type": "code",
     "collapsed": false,
     "input": [
      "import csv\n",
      "import os\n",
      "\n",
      "dataSet = os.environ['APP'] +'/data/wine.csv'\n",
      "\n",
      "with open(dataSet, 'rb') as csvfile:\n",
      "    X = []\n",
      "    wine = csv.reader(csvfile, delimiter=';')\n",
      "    for line in wine:\n",
      "        X.append(line)\n",
      "        "
     ],
     "language": "python",
     "metadata": {},
     "outputs": [],
     "prompt_number": 197
    },
    {
     "cell_type": "code",
     "collapsed": false,
     "input": [
      "head = X.pop(0)"
     ],
     "language": "python",
     "metadata": {},
     "outputs": [],
     "prompt_number": 198
    },
    {
     "cell_type": "code",
     "collapsed": false,
     "input": [
      "#X = np.array(X)\n",
      "#X.shape\n",
      "print(X[:4])"
     ],
     "language": "python",
     "metadata": {},
     "outputs": [
      {
       "output_type": "stream",
       "stream": "stdout",
       "text": [
        "[['7', '0.27', '0.36', '20.7', '0.045', '45', '170', '1.001', '3', '0.45', '8.8', '6'], ['6.3', '0.3', '0.34', '1.6', '0.049', '14', '132', '0.994', '3.3', '0.49', '9.5', '6'], ['8.1', '0.28', '0.4', '6.9', '0.05', '30', '97', '0.9951', '3.26', '0.44', '10.1', '6'], ['7.2', '0.23', '0.32', '8.5', '0.058', '47', '186', '0.9956', '3.19', '0.4', '9.9', '6']]\n"
       ]
      }
     ],
     "prompt_number": 199
    },
    {
     "cell_type": "code",
     "collapsed": false,
     "input": [
      "y = []\n",
      "for line in X:\n",
      "    i12 = line.pop(11)\n",
      "    y.append(i12)"
     ],
     "language": "python",
     "metadata": {},
     "outputs": [],
     "prompt_number": 200
    },
    {
     "cell_type": "code",
     "collapsed": false,
     "input": [
      "y = np.array(y)\n",
      "X = np.array(X)\n",
      "y = y.astype(float)\n",
      "X = X.astype(float)\n",
      "\n",
      "print(y.shape)\n",
      "print(X.shape)\n"
     ],
     "language": "python",
     "metadata": {},
     "outputs": [
      {
       "output_type": "stream",
       "stream": "stdout",
       "text": [
        "(4898,)\n",
        "(4898, 11)\n"
       ]
      }
     ],
     "prompt_number": 201
    },
    {
     "cell_type": "code",
     "collapsed": false,
     "input": [
      "X"
     ],
     "language": "python",
     "metadata": {},
     "outputs": [
      {
       "metadata": {},
       "output_type": "pyout",
       "prompt_number": 202,
       "text": [
        "array([[  7.  ,   0.27,   0.36, ...,   3.  ,   0.45,   8.8 ],\n",
        "       [  6.3 ,   0.3 ,   0.34, ...,   3.3 ,   0.49,   9.5 ],\n",
        "       [  8.1 ,   0.28,   0.4 , ...,   3.26,   0.44,  10.1 ],\n",
        "       ..., \n",
        "       [  6.5 ,   0.24,   0.19, ...,   2.99,   0.46,   9.4 ],\n",
        "       [  5.5 ,   0.29,   0.3 , ...,   3.34,   0.38,  12.8 ],\n",
        "       [  6.  ,   0.21,   0.38, ...,   3.26,   0.32,  11.8 ]])"
       ]
      }
     ],
     "prompt_number": 202
    },
    {
     "cell_type": "code",
     "collapsed": false,
     "input": [
      "M = np.dot(X.T,X)"
     ],
     "language": "python",
     "metadata": {},
     "outputs": [],
     "prompt_number": 203
    },
    {
     "cell_type": "code",
     "collapsed": false,
     "input": [
      "M = np.dot(np.linalg.inv(M),X.T)"
     ],
     "language": "python",
     "metadata": {},
     "outputs": [],
     "prompt_number": 204
    },
    {
     "cell_type": "code",
     "collapsed": false,
     "input": [
      "B = np.dot(M,y)"
     ],
     "language": "python",
     "metadata": {},
     "outputs": [],
     "prompt_number": 205
    },
    {
     "cell_type": "code",
     "collapsed": false,
     "input": [
      "B.shape"
     ],
     "language": "python",
     "metadata": {},
     "outputs": [
      {
       "metadata": {},
       "output_type": "pyout",
       "prompt_number": 206,
       "text": [
        "(11,)"
       ]
      }
     ],
     "prompt_number": 206
    },
    {
     "cell_type": "code",
     "collapsed": false,
     "input": [
      "N = np.dot(X,B) - y\n",
      "np.dot(X,B) - y"
     ],
     "language": "python",
     "metadata": {},
     "outputs": [
      {
       "metadata": {},
       "output_type": "pyout",
       "prompt_number": 208,
       "text": [
        "array([-0.39801466, -0.70815697, -0.32887745, ..., -0.60797479,\n",
        "       -0.42924447,  0.31167295])"
       ]
      }
     ],
     "prompt_number": 208
    },
    {
     "cell_type": "code",
     "collapsed": false,
     "input": [
      "s = 0\n",
      "for n in N:\n",
      "    s += n*n"
     ],
     "language": "python",
     "metadata": {},
     "outputs": [],
     "prompt_number": 209
    },
    {
     "cell_type": "code",
     "collapsed": false,
     "input": [
      "s"
     ],
     "language": "python",
     "metadata": {},
     "outputs": [
      {
       "metadata": {},
       "output_type": "pyout",
       "prompt_number": 210,
       "text": [
        "2794.3435114292593"
       ]
      }
     ],
     "prompt_number": 210
    },
    {
     "cell_type": "code",
     "collapsed": false,
     "input": [],
     "language": "python",
     "metadata": {},
     "outputs": []
    }
   ],
   "metadata": {}
  }
 ]
}