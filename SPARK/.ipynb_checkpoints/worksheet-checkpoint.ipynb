{
 "cells": [
  {
   "cell_type": "code",
   "execution_count": 2,
   "metadata": {
    "collapsed": false
   },
   "outputs": [],
   "source": [
    "import json\n",
    "from couchbase.bucket import Bucket\n",
    "bucket = Bucket('couchbase://91.121.193.238/spark')"
   ]
  },
  {
   "cell_type": "code",
   "execution_count": null,
   "metadata": {
    "collapsed": true
   },
   "outputs": [],
   "source": []
  },
  {
   "cell_type": "code",
   "execution_count": 17,
   "metadata": {
    "collapsed": false
   },
   "outputs": [],
   "source": [
    "line1 = '{\"_spk_results\":{\\\n",
    "\"AVENUE DES CHAMPS ELYSEES\": [29, 30, 36],\\\n",
    "\"BOULEVARD VOLTAIRE\": [29, 22, 21],\\\n",
    "\"BOULEVARD DE MAGENTA\": [31, 23, 44]}}'\n",
    "\n",
    "j1 = json.loads(line1)"
   ]
  },
  {
   "cell_type": "code",
   "execution_count": 18,
   "metadata": {
    "collapsed": true
   },
   "outputs": [],
   "source": [
    "line2 = '{\"_spk_results\":{\\\n",
    "\"AVENUE DES CHAMPS ELYSEES\": [29, 32, 35],\\\n",
    "\"BOULEVARD VOLTAIRE\": [26, 31, 30],\\\n",
    "\"BOULEVARD DE MAGENTA\": [15, 26, 28]}}'\n",
    "\n",
    "j2 = json.loads(line2)"
   ]
  },
  {
   "cell_type": "code",
   "execution_count": 25,
   "metadata": {
    "collapsed": true
   },
   "outputs": [],
   "source": [
    "line3 = '{\"_spk_results\" :[\\\n",
    "{\"label\": \"VL\", \"count\": 6265},\\\n",
    "{\"label\": \"Scoo\", \"count\": 2858},\\\n",
    "{\"label\": \"VU\", \"count\": 974},\\\n",
    "{\"label\": \"Bicy\", \"count\": 761},\\\n",
    "{\"label\": \"Cyclo\", \"count\": 653},\\\n",
    "{\"label\": \"Moto\", \"count\": 1639},\\\n",
    "{\"label\": \"Bus\", \"count\": 133},\\\n",
    "{\"label\": \"Autre\", \"count\": 486}\\\n",
    "]}'\\\n",
    "\n",
    "j3 = json.loads(line3)"
   ]
  },
  {
   "cell_type": "code",
   "execution_count": 27,
   "metadata": {
    "collapsed": true
   },
   "outputs": [],
   "source": [
    "line4 = '{\"_spk_results\":{\"116\": \"716\",\\\n",
    "\"112\": \"571\",\\\n",
    "\"117\": \"520\",\\\n",
    "\"120\": \"518\",\\\n",
    "\"108\": \"482\",\\\n",
    "\"113\": \"461\",\\\n",
    "\"118\": \"432\",\\\n",
    "\"111\": \"425\",\\\n",
    "\"115\": \"396\",\\\n",
    "\"119\": \"384\",\\\n",
    "\"114\": \"372\",\\\n",
    "\"110\": \"322\",\\\n",
    "\"107\": \"237\",\\\n",
    "\"109\": \"219\",\\\n",
    "\"105\": \"185\",\\\n",
    "\"106\": \"174\",\\\n",
    "\"104\": \"171\",\\\n",
    "\"101\": \"168\",\\\n",
    "\"103\": \"122\",\\\n",
    "\"102\": \"102\"}}'\n",
    "\n",
    "j4 = json.loads(line4)"
   ]
  },
  {
   "cell_type": "code",
   "execution_count": 3,
   "metadata": {
    "collapsed": false
   },
   "outputs": [],
   "source": [
    "line5 = '{\"_spk_results\":{\"116\": \"650\",\\\n",
    "\"117\": \"518\",\\\n",
    "\"112\": \"504\",\\\n",
    "\"113\": \"466\",\\\n",
    "\"118\": \"452\",\\\n",
    "\"108\": \"442\",\\\n",
    "\"120\": \"413\",\\\n",
    "\"115\": \"392\",\\\n",
    "\"111\": \"383\",\\\n",
    "\"114\": \"359\",\\\n",
    "\"119\": \"351\",\\\n",
    "\"110\": \"335\",\\\n",
    "\"109\": \"212\",\\\n",
    "\"107\": \"205\",\\\n",
    "\"101\": \"200\",\\\n",
    "\"105\": \"180\",\\\n",
    "\"106\": \"179\",\\\n",
    "\"104\": \"167\",\\\n",
    "\"103\": \"124\",\\\n",
    "\"102\": \"121\"}}'\n",
    "\n",
    "j5 = json.loads(line5)"
   ]
  },
  {
   "cell_type": "code",
   "execution_count": 5,
   "metadata": {
    "collapsed": true
   },
   "outputs": [],
   "source": [
    "line6 = '{\"_spk_results\":{\"116\": \"1366\",\\\n",
    "\"112\": \"1075\",\\\n",
    "\"117\": \"1038\",\\\n",
    "\"120\": \"931\",\\\n",
    "\"113\": \"927\",\\\n",
    "\"108\": \"924\",\\\n",
    "\"118\": \"884\",\\\n",
    "\"111\": \"808\",\\\n",
    "\"115\": \"788\",\\\n",
    "\"119\": \"735\",\\\n",
    "\"114\": \"731\",\\\n",
    "\"110\": \"657\",\\\n",
    "\"107\": \"442\",\\\n",
    "\"109\": \"431\",\\\n",
    "\"101\": \"368\",\\\n",
    "\"105\": \"365\",\\\n",
    "\"106\": \"353\",\\\n",
    "\"104\": \"338\",\\\n",
    "\"103\": \"246\",\\\n",
    "\"102\": \"223\"}}'\n",
    "\n",
    "j6 = json.loads(line6)"
   ]
  },
  {
   "cell_type": "code",
   "execution_count": 9,
   "metadata": {
    "collapsed": false
   },
   "outputs": [],
   "source": [
    "line7 = '{\"_spk_results\" : [{\"axes\": [{\"axis\": \"17\", \"value\": 101},\\\n",
    "     {\"axis\": \"20\", \"value\": 125},\\\n",
    "     {\"axis\": \"16\", \"value\": 112},\\\n",
    "     {\"axis\": \"13\", \"value\": 86},\\\n",
    "     {\"axis\": \"12\", \"value\": 76},\\\n",
    "     {\"axis\": \"18\", \"value\": 63},\\\n",
    "     {\"axis\": \"14\", \"value\": 64},\\\n",
    "     {\"axis\": \"19\", \"value\": 59},\\\n",
    "     {\"axis\": \"15\", \"value\": 43}],\\\n",
    "    \"className\": \"INTERIEUR\"},\\\n",
    "   {\"axes\": [{\"axis\": \"16\", \"value\": 123},\\\n",
    "     {\"axis\": \"13\", \"value\": 80},\\\n",
    "     {\"axis\": \"14\", \"value\": 69},\\\n",
    "     {\"axis\": \"18\", \"value\": 75},\\\n",
    "     {\"axis\": \"19\", \"value\": 70},\\\n",
    "     {\"axis\": \"12\", \"value\": 68},\\\n",
    "     {\"axis\": \"17\", \"value\": 57},\\\n",
    "     {\"axis\": \"20\", \"value\": 64},\\\n",
    "     {\"axis\": \"15\", \"value\": 38}],\\\n",
    "    \"className\": \"EXTERIEUR\"}]}'\n",
    "\n",
    "j7 = json.loads(line7)"
   ]
  },
  {
   "cell_type": "code",
   "execution_count": 4,
   "metadata": {
    "collapsed": false
   },
   "outputs": [
    {
     "data": {
      "text/plain": [
       "OperationResult<RC=0x0, Key=u'_spk5', CAS=0x34c156d8f61d0000>"
      ]
     },
     "execution_count": 4,
     "metadata": {},
     "output_type": "execute_result"
    }
   ],
   "source": [
    "#bucket.insert('_spk1', j1)\n",
    "#bucket.insert('_spk2', j2)\n",
    "#bucket.insert('_spk3', j3)\n",
    "#bucket.insert('_spk4', j4)\n",
    "#bucket.insert('_spk5', j5)\n",
    "bucket.insert('_spk6', j6)\n",
    "#bucket.insert('_spk7', j7)"
   ]
  },
  {
   "cell_type": "code",
   "execution_count": null,
   "metadata": {
    "collapsed": true
   },
   "outputs": [],
   "source": []
  }
 ],
 "metadata": {
  "kernelspec": {
   "display_name": "Python 2",
   "language": "python",
   "name": "python2"
  },
  "language_info": {
   "codemirror_mode": {
    "name": "ipython",
    "version": 2
   },
   "file_extension": ".py",
   "mimetype": "text/x-python",
   "name": "python",
   "nbconvert_exporter": "python",
   "pygments_lexer": "ipython2",
   "version": "2.7.10"
  }
 },
 "nbformat": 4,
 "nbformat_minor": 0
}
