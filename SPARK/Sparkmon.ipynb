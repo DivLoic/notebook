{
 "cells": [
  {
   "cell_type": "code",
   "execution_count": 1,
   "metadata": {
    "collapsed": false
   },
   "outputs": [
    {
     "name": "stdout",
     "output_type": "stream",
     "text": [
      "Populating the interactive namespace from numpy and matplotlib\n"
     ]
    }
   ],
   "source": [
    "\n",
    "##\n",
    "#\n",
    "# -- Sparkmon pour Spark - Monster\n",
    "#\n",
    "# -- Script written by DIVAD Loïc: https://github.com/DivLoic\n",
    "##\n",
    "#%pylab inline"
   ]
  },
  {
   "cell_type": "code",
   "execution_count": 6,
   "metadata": {
    "collapsed": false
   },
   "outputs": [],
   "source": [
    "class sparkmon:\n",
    "    \"\"\"\n",
    "        Objet  \n",
    "    \"\"\"\n",
    "    \n",
    "    def __init__(self, path, target):\n",
    "        \"\"\"initialising the object.\n",
    "        \"\"\"\n",
    "        import pprint\n",
    "        import json\n",
    "        #import pyspark\n",
    "        self.pp = pprint.PrettyPrinter(indent=4)\n",
    "        \n",
    "        self.rdd = sc.textFile(\"hdfs:/\" + path)\n",
    "        self.target = target\n",
    "        \n",
    "    def _feedBack(self, res, folder, prod):\n",
    "        \"\"\" Utility function to display the result or store them in hdfs.\n",
    "            Boolean Prod: False, display the result as list / true, store the result in hdfs as a text file.\n",
    "            String folder: place to store the result in hdfs.\n",
    "            spark RDD res: result of a spark .cach(), collect() or reduce()\n",
    "        \"\"\"\n",
    "        if(prod):\n",
    "            res.saveAsTextFile(\"hdfs:/\" + self.target + folder)\n",
    "        else:\n",
    "            l = res.collect()\n",
    "            self.pp.pprint(l)\n",
    "        \n",
    "    def crachCount(self, pivot=True, prod=False):\n",
    "        \"\"\" Easest Map / Reduce ever \n",
    "            Boolean pivot: we consider (or not) the secound street of the fork\n",
    "        \"\"\"\n",
    "        if(pivot):\n",
    "            res = self.rdd.map(lambda line: line.split(\";\"))\\\n",
    "            .flatMap(lambda y: [(y[8],1),(y[9],1)])\\\n",
    "            .filter(lambda y: y[0] != '')\\\n",
    "            .reduceByKey(lambda a, b: a + b)\\\n",
    "            .sortBy(lambda y: y[1], ascending=False)\n",
    "        else:\n",
    "            res = self.rdd.map(lambda line: line.split(\";\"))\\\n",
    "            .map(lambda y: (y[8],1))\\\n",
    "            .filter(lambda y: y != '')\\\n",
    "            .reduceByKey(lambda a, b: a + b)\\\n",
    "            .sortBy(lambda y: y[1], ascending=False)\n",
    "            \n",
    "        self._feedBack(res, '/global/', prod)\n",
    "        \n",
    "        return res.collect()\n",
    "        \n",
    "        \n",
    "    def byRingz(self, year=\"2012\", prod=False):\n",
    "        \"\"\" Analysis of the number of crash evert quarter.\n",
    "            String year: fortamt \"yyyy\" for 2012 -> 12 / 0 for the entire scope.\n",
    "        \"\"\"\n",
    "        pattern = 'BD PERIPHERIQUE'\n",
    "        inter = 'INTERIEUR'\n",
    "        exter = 'EXTERIEUR'\n",
    "        \n",
    "        res = self.rdd.map(lambda line: line.split(\";\"))\\\n",
    "            .filter(lambda y: y[0][:4] == year if year != '0' else y[0])\\\n",
    "            .filter(lambda y: y[8].find(pattern) != -1 or y[8].find(pattern) != -1)\\\n",
    "            .map(lambda y: (y[8]+'_'+y[3] ,1) if y[8].find(pattern)!= -1 else (y[9]+'_'+y[3],1))\\\n",
    "            .reduceByKey(lambda a, b: a + b)\\\n",
    "            .sortBy(lambda y: y[1])\n",
    "            \n",
    "        self._feedBack(res, '/ringz/', prod)    \n",
    "        \n",
    "    def byDept(self, year=\"2012\", prod=False):\n",
    "        \"\"\" Count the number of crach by dept.\n",
    "            String year: the year support of the analysis. all the row availabale if scope = 0\n",
    "        \"\"\"\n",
    "        res = self.rdd.map(lambda line: line.split(\";\"))\\\n",
    "            .filter(lambda y: y[0][:4] == year if year != '0' else y[0])\\\n",
    "            .filter(lambda y: y[0] != 'com')\\\n",
    "            .map(lambda y: (y[3], 1))\\\n",
    "            .reduceByKey(lambda a, b: a + b)\\\n",
    "            .sortBy(lambda y: y[1],ascending=False)\n",
    "    \n",
    "        self._feedBack(res, '/dept/', prod)\n",
    "        \n",
    "    def byCart(self, prod=False):\n",
    "        \"\"\" We can also take the type of vehicule as axis\n",
    "        \"\"\"\n",
    "        res = self.rdd.map(lambda line: line.split(\";\"))\\\n",
    "            .filter(lambda y: y[0] != '')\\\n",
    "            .map(lambda y: (y[10], 1))\\\n",
    "            .reduceByKey(lambda a, b: a + b)\\\n",
    "            .sortBy(lambda y: y[1],)\n",
    "    \n",
    "        self._feedBack(res, '/cart/', prod)\n",
    "        \n",
    "    def topThree(self, year='2012', prod=False):\n",
    "        top = self.rdd.map(lambda line: line.split(\";\"))\\\n",
    "            .flatMap(lambda y: [(y[8],1),(y[9],1)])\\\n",
    "            .filter(lambda y: y[0].find('PERIPHERIQUE') == -1 and y[0] != '')\\\n",
    "            .reduceByKey(lambda a, b: a + b)\\\n",
    "            .sortBy(lambda y: y[1], ascending=False)\\\n",
    "            .collect()\n",
    "            \n",
    "        top = top[:3]   \n",
    "        top = [t[0] for t in top]\n",
    "        #print(top)\n",
    "        \n",
    "        res = self.rdd.map(lambda line: line.split(\";\"))\\\n",
    "                .filter(lambda y: y[0][:4] == year)\\\n",
    "                .flatMap(lambda y: [(y[8],y[0]),(y[9],y[0])])\\\n",
    "                .filter(lambda y: y[0] in top)\\\n",
    "                .map(lambda y: (y[0] + '_' + y[1][5:7], 1))\\\n",
    "                .reduceByKey(lambda a, b: a + b)\\\n",
    "                .sortBy(lambda y: y[0])\n",
    "                \n",
    "        self._feedBack(res, '/three/', prod)\n",
    "                 \n",
    "                 "
   ]
  },
  {
   "cell_type": "code",
   "execution_count": null,
   "metadata": {
    "collapsed": true
   },
   "outputs": [],
   "source": [
    "#.filter(lambda y: y[0][:3] == year)\\\n"
   ]
  }
 ],
 "metadata": {
  "kernelspec": {
   "display_name": "Python 2",
   "language": "python",
   "name": "python2"
  },
  "language_info": {
   "codemirror_mode": {
    "name": "ipython",
    "version": 2
   },
   "file_extension": ".py",
   "mimetype": "text/x-python",
   "name": "python",
   "nbconvert_exporter": "python",
   "pygments_lexer": "ipython2",
   "version": "2.7.9"
  }
 },
 "nbformat": 4,
 "nbformat_minor": 0
}
