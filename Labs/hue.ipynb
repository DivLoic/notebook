{
 "cells": [
  {
   "cell_type": "code",
   "execution_count": null,
   "metadata": {
    "collapsed": true
   },
   "outputs": [],
   "source": [
    "import org.apache.spark.sql.Row\n",
    "import org.apache.spark.sql.DataFrame\n",
    "import org.apache.spark.sql.functions.unix_timestamp\n",
    "\n",
    "println(sc.version)"
   ]
  },
  {
   "cell_type": "code",
   "execution_count": null,
   "metadata": {
    "collapsed": true
   },
   "outputs": [],
   "source": [
    "def mapRdd(df: DataFrame) = {\n",
    "    val schema = df.schema.toList\n",
    "    df.rdd.map(\n",
    "        row => schema.map {\n",
    "                field => field.name -> row.get(row.fieldIndex(field.name))\n",
    "            }\n",
    "    ).map(_.toMap).collect()\n",
    "}   \n",
    "\n",
    "\n",
    "val timestamp = unix_timestamp($\"ts\", \"yyyy-MM-dd HH:mm:ss.SSS\").cast(\"double\").alias(\"timestamp\")"
   ]
  },
  {
   "cell_type": "code",
   "execution_count": null,
   "metadata": {
    "collapsed": true
   },
   "outputs": [],
   "source": [
    "import org.apache.kudu.spark.kudu._\n",
    "import sqlContext.implicits._\n",
    "\n",
    "val table = \"mowers\"\n",
    "val masters = List(\n",
    "    \"ip-10-0-0-118.us-west-2.compute.internal:7051\",\n",
    "    \"ip-10-0-0-135.us-west-2.compute.internal:7051\",\n",
    "    \"ip-10-0-0-136.us-west-2.compute.internal:7051\"\n",
    ").mkString(\",\")\n",
    "\n",
    "val kuduContext = new KuduContext(masters)\n",
    "\n",
    "kuduContext.tableExists(table)"
   ]
  },
  {
   "cell_type": "code",
   "execution_count": null,
   "metadata": {
    "collapsed": true
   },
   "outputs": [],
   "source": [
    "CREATE DATABASE xke;"
   ]
  },
  {
   "cell_type": "raw",
   "metadata": {},
   "source": [
    "\n",
    "CREATE TABLE xke.mowers (\n",
    "    host STRING,\n",
    "    ts STRING,\n",
    "    heat FLOAT,\n",
    "    speed FLOAT,\n",
    "    revolution FLOAT,\n",
    "    cooling BOOLEAN,\n",
    "    elapsed FLOAT,\n",
    "    PRIMARY KEY(host, ts)\n",
    ")\n",
    "PARTITION BY HASH(host) PARTITIONS 4, RANGE(ts) (\n",
    "    PARTITION \"2017-04-07\" <= VALUES < \"2017-04-08\",\n",
    "    PARTITION \"2017-04-08\" <= VALUES < \"2017-04-09\",\n",
    "    PARTITION \"2017-04-09\" <= VALUES\n",
    "    -- PARTITION \"2017-04-09\" <= VALUES < \"2017-04-10\",\n",
    "    -- PARTITION \"2017-04-10\" <= VALUES < \"2017-04-11\",\n",
    "    -- PARTITION \"2017-04-11\" <= VALUES\n",
    ")\n",
    "STORED AS KUDU"
   ]
  },
  {
   "cell_type": "code",
   "execution_count": null,
   "metadata": {
    "collapsed": true
   },
   "outputs": [],
   "source": [
    "kuduContext.tableExists(table)"
   ]
  },
  {
   "cell_type": "code",
   "execution_count": null,
   "metadata": {
    "collapsed": true
   },
   "outputs": [],
   "source": [
    "-- TBLPROPERTIES(\n",
    "--  'kudu.table_name' = 'mowers'\n",
    "-- );"
   ]
  },
  {
   "cell_type": "code",
   "execution_count": null,
   "metadata": {
    "collapsed": true
   },
   "outputs": [],
   "source": [
    "SELECT * FROM xke.mowers LIMIT 50;"
   ]
  },
  {
   "cell_type": "code",
   "execution_count": null,
   "metadata": {
    "collapsed": true
   },
   "outputs": [],
   "source": [
    "-- wrong insert\n",
    "INSERT INTO xke.mowers VALUES(\"foo\", \"2017-02-01 10:10:00.200\", 0.0, 0.0, 0.0, false, 0.0);\n",
    "SELECT * FROM xke.mowers WHERE host = \"foo\";"
   ]
  },
  {
   "cell_type": "code",
   "execution_count": null,
   "metadata": {
    "collapsed": true
   },
   "outputs": [],
   "source": [
    "val kuduOpt = Map(\"kudu.master\" -> masters, \"kudu.table\" -> table)"
   ]
  },
  {
   "cell_type": "code",
   "execution_count": null,
   "metadata": {
    "collapsed": true
   },
   "outputs": [],
   "source": [
    "val df = sqlContext.read.options(kuduOpt).kudu"
   ]
  },
  {
   "cell_type": "code",
   "execution_count": null,
   "metadata": {
    "collapsed": true
   },
   "outputs": [],
   "source": [
    "df.printSchema"
   ]
  },
  {
   "cell_type": "code",
   "execution_count": null,
   "metadata": {
    "collapsed": true
   },
   "outputs": [],
   "source": [
    "val heats = (df.filter($\"host\" === \"actor-mower-1\")\n",
    "    .select($\"heat\", timestamp)\n",
    "    .sort($\"timestamp\".desc).limit(600)\n",
    "    .sort($\"timestamp\"))\n",
    "    \n",
    "val res1 = mapRdd(heats)\n",
    "%table res1"
   ]
  },
  {
   "cell_type": "code",
   "execution_count": null,
   "metadata": {
    "collapsed": true
   },
   "outputs": [],
   "source": []
  },
  {
   "cell_type": "code",
   "execution_count": null,
   "metadata": {
    "collapsed": true
   },
   "outputs": [],
   "source": []
  },
  {
   "cell_type": "code",
   "execution_count": null,
   "metadata": {
    "collapsed": true
   },
   "outputs": [],
   "source": [
    "val heatMean = df.filter($\"cooling\").filter($\"elapsed\" >= 20.0).groupBy($\"host\").mean(\"heat\")\n",
    "val res2 = mapRdd(heatMean)\n",
    "%table res2"
   ]
  },
  {
   "cell_type": "code",
   "execution_count": null,
   "metadata": {
    "collapsed": true
   },
   "outputs": [],
   "source": [
    "UPDATE xke.mowers SET hoho = \"Cloud\" WHERE tag = \"-1\" AND ts >= '2017-02-01';"
   ]
  }
 ],
 "metadata": {
  "kernelspec": {
   "display_name": "Scala 2.11",
   "language": "scala211",
   "name": "scala211"
  },
  "language_info": {
   "codemirror_mode": "text/x-scala",
   "file_extension": ".scala",
   "mimetype": "text/x-scala",
   "name": "scala211",
   "pygments_lexer": "scala",
   "version": "2.11.8"
  }
 },
 "nbformat": 4,
 "nbformat_minor": 0
}
