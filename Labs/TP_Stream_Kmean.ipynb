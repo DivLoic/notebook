{
 "cells": [
  {
   "cell_type": "code",
   "execution_count": 1,
   "metadata": {
    "collapsed": false
   },
   "outputs": [
    {
     "data": {
      "text/html": [
       "\n",
       "    <div class=\"bk-banner\">\n",
       "        <a href=\"http://bokeh.pydata.org\" target=\"_blank\" class=\"bk-logo bk-logo-small bk-logo-notebook\"></a>\n",
       "        <span id=\"c5620aa1-a429-4d30-acb1-57483c3a02cc\">Loading BokehJS ...</span>\n",
       "    </div>"
      ]
     },
     "metadata": {},
     "output_type": "display_data"
    },
    {
     "data": {
      "application/javascript": [
       "\n",
       "(function(global) {\n",
       "  function now() {\n",
       "    return new Date();\n",
       "  }\n",
       "\n",
       "  if (typeof (window._bokeh_onload_callbacks) === \"undefined\") {\n",
       "    window._bokeh_onload_callbacks = [];\n",
       "  }\n",
       "\n",
       "  function run_callbacks() {\n",
       "    window._bokeh_onload_callbacks.forEach(function(callback) { callback() });\n",
       "    delete window._bokeh_onload_callbacks\n",
       "    console.info(\"Bokeh: all callbacks have finished\");\n",
       "  }\n",
       "\n",
       "  function load_libs(js_urls, callback) {\n",
       "    window._bokeh_onload_callbacks.push(callback);\n",
       "    if (window._bokeh_is_loading > 0) {\n",
       "      console.log(\"Bokeh: BokehJS is being loaded, scheduling callback at\", now());\n",
       "      return null;\n",
       "    }\n",
       "    if (js_urls == null || js_urls.length === 0) {\n",
       "      run_callbacks();\n",
       "      return null;\n",
       "    }\n",
       "    console.log(\"Bokeh: BokehJS not loaded, scheduling load and callback at\", now());\n",
       "    window._bokeh_is_loading = js_urls.length;\n",
       "    for (var i = 0; i < js_urls.length; i++) {\n",
       "      var url = js_urls[i];\n",
       "      var s = document.createElement('script');\n",
       "      s.src = url;\n",
       "      s.async = false;\n",
       "      s.onreadystatechange = s.onload = function() {\n",
       "        window._bokeh_is_loading--;\n",
       "        if (window._bokeh_is_loading === 0) {\n",
       "          console.log(\"Bokeh: all BokehJS libraries loaded\");\n",
       "          run_callbacks()\n",
       "        }\n",
       "      };\n",
       "      s.onerror = function() {\n",
       "        console.warn(\"failed to load library \" + url);\n",
       "      };\n",
       "      console.log(\"Bokeh: injecting script tag for BokehJS library: \", url);\n",
       "      document.getElementsByTagName(\"head\")[0].appendChild(s);\n",
       "    }\n",
       "  };\n",
       "\n",
       "  var js_urls = ['https://cdn.pydata.org/bokeh/release/bokeh-0.11.1.min.js', 'https://cdn.pydata.org/bokeh/release/bokeh-widgets-0.11.1.min.js', 'https://cdn.pydata.org/bokeh/release/bokeh-compiler-0.11.1.min.js'];\n",
       "\n",
       "  var inline_js = [\n",
       "    function(Bokeh) {\n",
       "      Bokeh.set_log_level(\"info\");\n",
       "    },\n",
       "    \n",
       "    function(Bokeh) {\n",
       "      Bokeh.$(\"#c5620aa1-a429-4d30-acb1-57483c3a02cc\").text(\"BokehJS successfully loaded\");\n",
       "    },\n",
       "    function(Bokeh) {\n",
       "      console.log(\"Bokeh: injecting CSS: https://cdn.pydata.org/bokeh/release/bokeh-0.11.1.min.css\");\n",
       "      Bokeh.embed.inject_css(\"https://cdn.pydata.org/bokeh/release/bokeh-0.11.1.min.css\");\n",
       "      console.log(\"Bokeh: injecting CSS: https://cdn.pydata.org/bokeh/release/bokeh-widgets-0.11.1.min.css\");\n",
       "      Bokeh.embed.inject_css(\"https://cdn.pydata.org/bokeh/release/bokeh-widgets-0.11.1.min.css\");\n",
       "    }\n",
       "  ];\n",
       "\n",
       "  function run_inline_js() {\n",
       "    for (var i = 0; i < inline_js.length; i++) {\n",
       "      inline_js[i](window.Bokeh);\n",
       "    }\n",
       "  }\n",
       "\n",
       "  if (window._bokeh_is_loading === 0) {\n",
       "    console.log(\"Bokeh: BokehJS loaded, going straight to plotting\");\n",
       "    run_inline_js();\n",
       "  } else {\n",
       "    load_libs(js_urls, function() {\n",
       "      console.log(\"Bokeh: BokehJS plotting callback run at\", now());\n",
       "      run_inline_js();\n",
       "    });\n",
       "  }\n",
       "}(this));"
      ]
     },
     "metadata": {},
     "output_type": "display_data"
    }
   ],
   "source": [
    "import pandas as pd\n",
    "import seaborn as sns\n",
    "\n",
    "from bokeh.io import push_notebook, output_notebook, show\n",
    "from bokeh.plotting import figure\n",
    "output_notebook()"
   ]
  },
  {
   "cell_type": "code",
   "execution_count": 27,
   "metadata": {
    "collapsed": true
   },
   "outputs": [],
   "source": [
    "FILE = \"/Users/loicmdivad/workspace/scala/ActorGen/Kmean.csv\""
   ]
  },
  {
   "cell_type": "code",
   "execution_count": 28,
   "metadata": {
    "collapsed": false
   },
   "outputs": [],
   "source": [
    "df = pd.read_csv(FILE, sep=',')"
   ]
  },
  {
   "cell_type": "code",
   "execution_count": 29,
   "metadata": {
    "collapsed": false
   },
   "outputs": [
    {
     "data": {
      "text/html": [
       "<div>\n",
       "<table border=\"1\" class=\"dataframe\">\n",
       "  <thead>\n",
       "    <tr style=\"text-align: right;\">\n",
       "      <th></th>\n",
       "      <th>id</th>\n",
       "      <th>x</th>\n",
       "      <th>y</th>\n",
       "    </tr>\n",
       "  </thead>\n",
       "  <tbody>\n",
       "    <tr>\n",
       "      <th>0</th>\n",
       "      <td>K1</td>\n",
       "      <td>0.143827</td>\n",
       "      <td>0.047145</td>\n",
       "    </tr>\n",
       "    <tr>\n",
       "      <th>1</th>\n",
       "      <td>K0</td>\n",
       "      <td>3.583448</td>\n",
       "      <td>13.666277</td>\n",
       "    </tr>\n",
       "    <tr>\n",
       "      <th>2</th>\n",
       "      <td>K2</td>\n",
       "      <td>11.908615</td>\n",
       "      <td>7.628898</td>\n",
       "    </tr>\n",
       "    <tr>\n",
       "      <th>3</th>\n",
       "      <td>K2</td>\n",
       "      <td>9.397424</td>\n",
       "      <td>7.612788</td>\n",
       "    </tr>\n",
       "    <tr>\n",
       "      <th>4</th>\n",
       "      <td>K1</td>\n",
       "      <td>0.952399</td>\n",
       "      <td>4.461736</td>\n",
       "    </tr>\n",
       "  </tbody>\n",
       "</table>\n",
       "</div>"
      ],
      "text/plain": [
       "   id          x          y\n",
       "0  K1   0.143827   0.047145\n",
       "1  K0   3.583448  13.666277\n",
       "2  K2  11.908615   7.628898\n",
       "3  K2   9.397424   7.612788\n",
       "4  K1   0.952399   4.461736"
      ]
     },
     "execution_count": 29,
     "metadata": {},
     "output_type": "execute_result"
    }
   ],
   "source": [
    "df.head()"
   ]
  },
  {
   "cell_type": "code",
   "execution_count": 30,
   "metadata": {
    "collapsed": false
   },
   "outputs": [
    {
     "data": {
      "text/html": [
       "\n",
       "\n",
       "    <div class=\"plotdiv\" id=\"eabd57b4-fd70-4d2a-8afe-f1a62a2443cb\"></div>\n",
       "<script type=\"text/javascript\">\n",
       "  \n",
       "  (function(global) {\n",
       "    function now() {\n",
       "      return new Date();\n",
       "    }\n",
       "  \n",
       "    if (typeof (window._bokeh_onload_callbacks) === \"undefined\") {\n",
       "      window._bokeh_onload_callbacks = [];\n",
       "    }\n",
       "  \n",
       "    function run_callbacks() {\n",
       "      window._bokeh_onload_callbacks.forEach(function(callback) { callback() });\n",
       "      delete window._bokeh_onload_callbacks\n",
       "      console.info(\"Bokeh: all callbacks have finished\");\n",
       "    }\n",
       "  \n",
       "    function load_libs(js_urls, callback) {\n",
       "      window._bokeh_onload_callbacks.push(callback);\n",
       "      if (window._bokeh_is_loading > 0) {\n",
       "        console.log(\"Bokeh: BokehJS is being loaded, scheduling callback at\", now());\n",
       "        return null;\n",
       "      }\n",
       "      if (js_urls == null || js_urls.length === 0) {\n",
       "        run_callbacks();\n",
       "        return null;\n",
       "      }\n",
       "      console.log(\"Bokeh: BokehJS not loaded, scheduling load and callback at\", now());\n",
       "      window._bokeh_is_loading = js_urls.length;\n",
       "      for (var i = 0; i < js_urls.length; i++) {\n",
       "        var url = js_urls[i];\n",
       "        var s = document.createElement('script');\n",
       "        s.src = url;\n",
       "        s.async = false;\n",
       "        s.onreadystatechange = s.onload = function() {\n",
       "          window._bokeh_is_loading--;\n",
       "          if (window._bokeh_is_loading === 0) {\n",
       "            console.log(\"Bokeh: all BokehJS libraries loaded\");\n",
       "            run_callbacks()\n",
       "          }\n",
       "        };\n",
       "        s.onerror = function() {\n",
       "          console.warn(\"failed to load library \" + url);\n",
       "        };\n",
       "        console.log(\"Bokeh: injecting script tag for BokehJS library: \", url);\n",
       "        document.getElementsByTagName(\"head\")[0].appendChild(s);\n",
       "      }\n",
       "    };var element = document.getElementById(\"eabd57b4-fd70-4d2a-8afe-f1a62a2443cb\");\n",
       "    if (element == null) {\n",
       "      console.log(\"Bokeh: ERROR: autoload.js configured with elementid 'eabd57b4-fd70-4d2a-8afe-f1a62a2443cb' but no matching script tag was found. \")\n",
       "      return false;\n",
       "    }\n",
       "  \n",
       "    var js_urls = [];\n",
       "  \n",
       "    var inline_js = [\n",
       "      function(Bokeh) {\n",
       "        Bokeh.$(function() {\n",
       "            var docs_json = {\"ec92ef4d-e48a-4d88-a025-e010d28e0bf0\":{\"roots\":{\"references\":[{\"attributes\":{\"plot\":{\"id\":\"35555809-2b8c-403b-9f3e-cd7c20984f30\",\"subtype\":\"Figure\",\"type\":\"Plot\"}},\"id\":\"c82ac87c-dae0-4d0b-ad35-707c025fd462\",\"type\":\"HelpTool\"},{\"attributes\":{\"plot\":{\"id\":\"5074032b-a087-4bf2-9030-d771ce3ea291\",\"subtype\":\"Figure\",\"type\":\"Plot\"}},\"id\":\"fc4cfd47-531d-4542-b37b-63be1e303214\",\"type\":\"PreviewSaveTool\"},{\"attributes\":{\"axis_label\":\"y\",\"formatter\":{\"id\":\"13aadb21-c4d0-49e0-8922-17662109c273\",\"type\":\"BasicTickFormatter\"},\"plot\":{\"id\":\"35555809-2b8c-403b-9f3e-cd7c20984f30\",\"subtype\":\"Figure\",\"type\":\"Plot\"},\"ticker\":{\"id\":\"d461a5df-40d2-4678-ae8d-5f27ffa9956b\",\"type\":\"BasicTicker\"}},\"id\":\"6fb69af7-c0a6-461f-9925-a2429f74c52c\",\"type\":\"LinearAxis\"},{\"attributes\":{\"callback\":null,\"column_names\":[\"y\",\"x\",\"line_color\",\"fill_color\"],\"data\":{\"fill_color\":[\"blue\",\"red\",\"green\",\"red\",\"green\",\"blue\",\"red\",\"green\",\"blue\",\"red\",\"green\",\"red\",\"green\",\"red\",\"blue\",\"green\",\"red\",\"red\",\"blue\",\"green\",\"blue\",\"blue\",\"red\",\"green\",\"red\",\"green\",\"red\",\"blue\",\"blue\",\"red\",\"green\"],\"line_color\":[\"blue\",\"red\",\"green\",\"red\",\"green\",\"blue\",\"red\",\"green\",\"blue\",\"red\",\"green\",\"red\",\"green\",\"red\",\"blue\",\"green\",\"red\",\"red\",\"blue\",\"green\",\"blue\",\"blue\",\"red\",\"green\",\"red\",\"green\",\"red\",\"blue\",\"blue\",\"red\",\"green\"],\"x\":[10.738749268263307,0.35801992359979096,0.9500062978395108,3.0140961845133454,1.7222881476181902,8.347450502413567,2.9429690705772478,1.1260309366807648,8.01066066612329,5.649308711504697,0.6561668447698306,2.9760063910946712,2.380423217394,1.8951233759809658,9.83369868940322,-0.9533089432058829,3.39271130922079,4.24480850058618,10.076458267891356,0.5792266247637508,8.76884405704329,9.585090288455074,1.3220257520558614,2.4690770664648123,3.0445461703010297,4.671605528134274,5.293273233593514,7.967044260936644,8.982891918254786,3.3405970915392365,1.2337751247401123],\"y\":[5.451755928213711,10.404793766430107,2.8735624713618924,9.75007012814203,5.849997496311276,5.115443898845982,11.574813273232882,4.195327341120622,8.29931331010906,10.61015973175893,0.22485724939858365,7.411556806413929,1.7070472917817519,10.879422426538413,8.577788356666996,3.5003690807617285,10.9267633223789,14.207465636423295,4.764306946315238,4.126608873164084,6.758935788426798,6.884575736985941,9.378571202689406,0.6393662223366011,10.448755313556841,1.6600261523772042,9.137129751484213,6.062789720854456,5.795841439804483,7.2429942391273165,1.6963758943228038]}},\"id\":\"1d3ebd97-fee4-49f8-afb1-5bd49dd19b75\",\"type\":\"ColumnDataSource\"},{\"attributes\":{\"plot\":{\"id\":\"2bd22feb-e80d-4d9b-8aa4-34a1d95b312f\",\"subtype\":\"Figure\",\"type\":\"Plot\"}},\"id\":\"a26db03c-998c-4155-8527-f708f6c1f91b\",\"type\":\"HelpTool\"},{\"attributes\":{\"plot\":{\"id\":\"cd2c2f6f-392d-4676-8c8d-beb231b9476f\",\"subtype\":\"Figure\",\"type\":\"Plot\"}},\"id\":\"ae5509ba-405a-4396-9dc1-6c3bd1b4dd30\",\"type\":\"ResizeTool\"},{\"attributes\":{\"plot\":{\"id\":\"6d38d003-1d41-42f4-9a1a-aff1d6e20dd9\",\"subtype\":\"Figure\",\"type\":\"Plot\"}},\"id\":\"da913247-37a5-4c00-9ea9-548094f2ad47\",\"type\":\"PreviewSaveTool\"},{\"attributes\":{},\"id\":\"117781f1-2b1a-42fb-b45e-145c9c9b9140\",\"type\":\"BasicTicker\"},{\"attributes\":{\"plot\":{\"id\":\"eb2ed2ae-c7db-4586-bd59-6b77fce2f46f\",\"subtype\":\"Figure\",\"type\":\"Plot\"}},\"id\":\"c75189e8-ace0-4530-b19d-0249e3045591\",\"type\":\"PanTool\"},{\"attributes\":{\"plot\":{\"id\":\"26b14274-243c-4d5c-b2a6-dfc61bd23aa5\",\"subtype\":\"Figure\",\"type\":\"Plot\"}},\"id\":\"ed63048c-c618-444a-9bbc-95be000c96f0\",\"type\":\"ResetTool\"},{\"attributes\":{\"below\":[{\"id\":\"97f9a0ff-6511-4683-afc7-728bde561a71\",\"type\":\"LinearAxis\"}],\"left\":[{\"id\":\"012b5cbe-d151-405e-9ed5-c8e0debc07eb\",\"type\":\"LinearAxis\"}],\"renderers\":[{\"id\":\"97f9a0ff-6511-4683-afc7-728bde561a71\",\"type\":\"LinearAxis\"},{\"id\":\"4c201485-0c60-41dd-a8a2-63d86f4e57e1\",\"type\":\"Grid\"},{\"id\":\"012b5cbe-d151-405e-9ed5-c8e0debc07eb\",\"type\":\"LinearAxis\"},{\"id\":\"ab26d55c-92df-48bd-acc9-011f6337b897\",\"type\":\"Grid\"},{\"id\":\"4db8eb76-88bc-4272-ae70-74280210a23f\",\"type\":\"BoxAnnotation\"}],\"title\":\"...\",\"tool_events\":{\"id\":\"98b181e8-988e-4ea8-9528-1260bc5ce0fe\",\"type\":\"ToolEvents\"},\"tools\":[{\"id\":\"03189520-cd4c-4c6a-a9c1-e78674a95b82\",\"type\":\"PanTool\"},{\"id\":\"40124547-7e18-4cf5-bb74-ffd80d2014fd\",\"type\":\"WheelZoomTool\"},{\"id\":\"a7210148-12b1-4fab-bd6a-db0d713b00c1\",\"type\":\"BoxZoomTool\"},{\"id\":\"f34a4591-8af5-4e18-a853-b9904c17165f\",\"type\":\"PreviewSaveTool\"},{\"id\":\"29eb253f-a9c7-4334-ae24-c07660e9ed8c\",\"type\":\"ResizeTool\"},{\"id\":\"ed63048c-c618-444a-9bbc-95be000c96f0\",\"type\":\"ResetTool\"},{\"id\":\"64ab71cd-3ab4-4595-82c1-a1c2735722d3\",\"type\":\"HelpTool\"}],\"x_range\":{\"id\":\"28bf120f-50fc-4b5b-a3bb-8edaf3548432\",\"type\":\"DataRange1d\"},\"y_range\":{\"id\":\"82ceae3f-0838-4a39-b173-db7b656f09ac\",\"type\":\"DataRange1d\"}},\"id\":\"26b14274-243c-4d5c-b2a6-dfc61bd23aa5\",\"subtype\":\"Figure\",\"type\":\"Plot\"},{\"attributes\":{\"callback\":null,\"column_names\":[\"y\",\"x\",\"line_color\",\"fill_color\"],\"data\":{\"fill_color\":[\"green\",\"red\",\"blue\",\"blue\",\"green\",\"blue\",\"red\",\"green\",\"red\",\"blue\",\"red\",\"green\",\"blue\",\"red\",\"green\",\"blue\",\"green\",\"blue\",\"green\",\"red\",\"blue\",\"green\",\"red\",\"blue\",\"green\",\"red\",\"blue\",\"green\",\"red\",\"green\",\"red\",\"blue\",\"green\",\"green\",\"green\",\"red\",\"blue\",\"red\",\"blue\",\"blue\",\"green\",\"green\",\"red\",\"blue\",\"red\",\"blue\",\"green\",\"red\",\"blue\",\"green\",\"green\",\"blue\",\"red\",\"blue\",\"green\",\"blue\",\"red\",\"blue\",\"green\",\"red\",\"blue\",\"red\",\"green\",\"blue\",\"red\",\"green\",\"red\",\"blue\",\"red\",\"green\",\"blue\",\"blue\",\"red\",\"green\",\"red\",\"green\",\"blue\",\"red\",\"blue\",\"red\",\"green\",\"green\",\"blue\",\"blue\",\"red\",\"blue\",\"green\",\"green\",\"red\",\"blue\",\"blue\",\"blue\",\"green\",\"red\",\"blue\",\"red\",\"green\",\"blue\",\"green\",\"blue\",\"red\",\"green\",\"red\",\"green\",\"red\",\"blue\",\"blue\",\"green\",\"red\",\"green\",\"blue\",\"red\",\"green\",\"blue\",\"red\",\"blue\",\"red\",\"blue\",\"green\",\"blue\",\"red\",\"green\",\"blue\",\"red\",\"red\",\"green\",\"blue\",\"green\",\"blue\",\"red\",\"green\"],\"line_color\":[\"green\",\"red\",\"blue\",\"blue\",\"green\",\"blue\",\"red\",\"green\",\"red\",\"blue\",\"red\",\"green\",\"blue\",\"red\",\"green\",\"blue\",\"green\",\"blue\",\"green\",\"red\",\"blue\",\"green\",\"red\",\"blue\",\"green\",\"red\",\"blue\",\"green\",\"red\",\"green\",\"red\",\"blue\",\"green\",\"green\",\"green\",\"red\",\"blue\",\"red\",\"blue\",\"blue\",\"green\",\"green\",\"red\",\"blue\",\"red\",\"blue\",\"green\",\"red\",\"blue\",\"green\",\"green\",\"blue\",\"red\",\"blue\",\"green\",\"blue\",\"red\",\"blue\",\"green\",\"red\",\"blue\",\"red\",\"green\",\"blue\",\"red\",\"green\",\"red\",\"blue\",\"red\",\"green\",\"blue\",\"blue\",\"red\",\"green\",\"red\",\"green\",\"blue\",\"red\",\"blue\",\"red\",\"green\",\"green\",\"blue\",\"blue\",\"red\",\"blue\",\"green\",\"green\",\"red\",\"blue\",\"blue\",\"blue\",\"green\",\"red\",\"blue\",\"red\",\"green\",\"blue\",\"green\",\"blue\",\"red\",\"green\",\"red\",\"green\",\"red\",\"blue\",\"blue\",\"green\",\"red\",\"green\",\"blue\",\"red\",\"green\",\"blue\",\"red\",\"blue\",\"red\",\"blue\",\"green\",\"blue\",\"red\",\"green\",\"blue\",\"red\",\"red\",\"green\",\"blue\",\"green\",\"blue\",\"red\",\"green\"],\"x\":[0.14382731745827204,3.583447621388108,11.908614674084726,9.397423707138776,0.9523994154474118,11.168569165862376,1.8146049208596384,0.6259992214486503,4.522815864553788,13.001025579394119,5.609164509803691,3.2584368773346823,11.596178927950609,5.274368185287626,2.4826044689669438,12.954054882801735,2.213140849510804,10.163283712915835,2.5205724883608327,2.2649564814264918,6.6048890497872845,0.21167071121780626,5.252390863759301,13.952728734192767,1.9759715456940856,4.714679924755604,13.176578608464935,1.0429048225247235,2.6559631876703342,0.9374705162761008,3.5496037938233704,12.914270755185266,0.1427940116113211,1.6187778417693746,1.4690236962498124,6.62155784947068,11.732375171134091,5.815171972664184,10.574192860314644,12.124144589777082,2.62169019094957,1.0332264903893185,5.058587505759137,14.441772491059654,2.87688174814951,10.713572437024954,0.3976624153133179,2.4501762017379454,7.784506639550258,3.5535337720153306,0.3114873774729219,10.41789584305208,6.632991527416537,8.19167923507021,2.851334160559216,11.221734498176955,3.6184930440770966,13.4915932747838,1.3206683886398694,3.1200141530905787,11.553256613490115,4.8180702261156965,2.8863384614777887,12.098570000031525,4.546460219799255,2.0260853615262384,4.368240239070259,9.45853914869611,5.011425404541576,1.5831351313978759,11.73657114656407,12.515432396558644,2.7690739392464576,2.123760469973535,3.5622043869855697,3.822412297287253,11.492627356963098,6.784090116913811,9.437107507657458,5.082601771388411,0.05611526520017418,2.150174215712001,13.530955314600554,13.332919540040493,5.255747988616145,10.336612192398269,-1.0820163029084409,4.132312294100702,4.850365517039272,10.785265528096067,10.813997574490301,12.67918389647279,3.1176824289759058,4.738466090194226,13.149799118849288,6.548825066992457,1.0608201905633807,12.316594229645105,1.096876961965761,9.299191571203668,3.558522695207328,-3.0040119200051545,4.090572833269803,2.064881609141197,2.207707771176749,10.820292201092837,13.249784309993364,1.420902409760305,1.6532797524440284,1.4359794166993702,7.969678832800912,4.115423458696588,2.9474076514927123,10.168637524588428,4.847238396146375,10.339398029323236,2.8096161353593825,7.975622098055368,1.7838668982650774,12.311497515956063,6.53843967721434,1.110288844754403,10.065215761179251,5.50112100260758,6.282242810663552,0.6605070832656655,11.816809754774466,3.8898131911036606,11.742127707133449,5.242831510376507,3.9715646865312015],\"y\":[0.04714486241756122,13.666277147855293,7.628898027272822,7.612788221944696,4.461736019022742,5.928457290208435,11.028363986628252,3.7514454921806815,16.32877373525183,7.4806584176713065,13.120009154442661,1.6725035742890444,9.276062741652787,12.390621129402952,3.6978722514999087,6.603706315793167,3.360289579884524,9.7114289278585,4.038955683132614,13.51017587736388,7.152289168160587,0.7079751802678032,15.179450030074262,8.021877735978514,2.7339452649582445,8.859853267395264,7.122312053260249,2.2210233680384124,12.804571870568301,4.322347286939247,11.782887348903387,9.076785191679768,4.3478702412050785,3.274665123304737,1.5723711970882779,14.415349205062682,6.6163648376011,9.497339310851707,7.5244816644392465,4.760651775924373,1.8456873909579887,4.168935084786542,12.960531183225415,7.433347435028906,11.918969463597136,7.699065740823192,0.21959235706444732,12.327539565331886,7.7425196559156255,-0.3779882033972104,3.4455645888325463,9.232563593886468,11.267422663994989,10.390693573561453,5.1737148432265405,7.266676021888312,10.204101413512241,6.474150775424695,7.3392257570914445,11.469798286703591,7.640349853693224,13.825001458261475,5.393457096860759,6.903799147317286,10.725644643795524,2.0394148010279016,13.0584163632581,8.573770474251795,12.397700181902795,2.9695516013507515,8.698348184013962,7.1876463910347095,10.982149275837276,3.2115370205020097,12.294031380977843,2.8887593791151542,6.344451508389256,9.73166566581676,5.716763591652943,14.977260468907788,-0.1015780319645514,3.2625209833911804,9.327173880393133,10.930289199159713,10.746772990715504,7.353164439981549,4.6939900969274095,2.2861166740850343,13.971115436420787,4.8467045845603804,9.12803976972819,6.892757233697793,1.3759217987750847,15.26525432317239,6.675525785950093,12.885532974347024,2.573599467097465,5.433657264550717,0.6519244691447851,6.887091259417536,14.348906762584633,4.330458154239624,10.494556176803805,0.6096408211595126,12.947838843316651,8.141009100298731,6.280448940009289,0.5725827944242954,12.408403876775866,3.084822095030774,5.504082622544097,11.547044734575673,2.9209574805388474,6.309470161560593,9.505985853116897,9.22659150607088,11.221845814452486,8.68666843327895,4.743613826924137,8.778624188745649,12.744031850541154,3.0889695498852823,7.370075799766719,13.083809911202595,13.541304716337953,3.8490727305559354,9.995108442049027,2.34846911516466,4.13941400040369,14.429030971149068,2.303252775199669]}},\"id\":\"3d14d6bb-3a22-429d-96a7-a5af7a6f9dca\",\"type\":\"ColumnDataSource\"},{\"attributes\":{\"plot\":{\"id\":\"cd2c2f6f-392d-4676-8c8d-beb231b9476f\",\"subtype\":\"Figure\",\"type\":\"Plot\"}},\"id\":\"11b7645c-59b1-460e-a76e-7eece2a78132\",\"type\":\"PanTool\"},{\"attributes\":{\"data_source\":{\"id\":\"1d3ebd97-fee4-49f8-afb1-5bd49dd19b75\",\"type\":\"ColumnDataSource\"},\"glyph\":{\"id\":\"58804069-cf30-4b74-968e-fdbb4d072624\",\"type\":\"Circle\"},\"hover_glyph\":null,\"nonselection_glyph\":{\"id\":\"15486148-969d-4059-addb-09d00a9de3bc\",\"type\":\"Circle\"},\"selection_glyph\":null},\"id\":\"0027cc7f-f413-4d0a-8d4f-b71786a0fc08\",\"type\":\"GlyphRenderer\"},{\"attributes\":{},\"id\":\"858aae18-fb1e-4998-94c3-ed588a02c4fd\",\"type\":\"BasicTicker\"},{\"attributes\":{\"overlay\":{\"id\":\"19d4c56d-1c3b-40c0-a29b-4667e8f1778d\",\"type\":\"BoxAnnotation\"},\"plot\":{\"id\":\"eb2ed2ae-c7db-4586-bd59-6b77fce2f46f\",\"subtype\":\"Figure\",\"type\":\"Plot\"}},\"id\":\"15d1bc8e-8275-4901-aea0-c5425a34fbf9\",\"type\":\"BoxZoomTool\"},{\"attributes\":{\"dimension\":1,\"plot\":{\"id\":\"26b14274-243c-4d5c-b2a6-dfc61bd23aa5\",\"subtype\":\"Figure\",\"type\":\"Plot\"},\"ticker\":{\"id\":\"2550c363-9c49-4a3e-aab4-385d59ba83df\",\"type\":\"BasicTicker\"}},\"id\":\"ab26d55c-92df-48bd-acc9-011f6337b897\",\"type\":\"Grid\"},{\"attributes\":{},\"id\":\"c217bc03-5e2b-4fe8-9445-65939ad88450\",\"type\":\"BasicTickFormatter\"},{\"attributes\":{},\"id\":\"1a95107f-942b-409f-babe-5be9f877d3a0\",\"type\":\"BasicTickFormatter\"},{\"attributes\":{\"overlay\":{\"id\":\"75513afa-2d3f-45d4-8e5c-79679613cab6\",\"type\":\"BoxAnnotation\"},\"plot\":{\"id\":\"2bd22feb-e80d-4d9b-8aa4-34a1d95b312f\",\"subtype\":\"Figure\",\"type\":\"Plot\"}},\"id\":\"833f17c3-2742-4124-9a6b-c7bf6a9d60af\",\"type\":\"BoxZoomTool\"},{\"attributes\":{\"plot\":{\"id\":\"a17d40ed-dc66-4163-81fa-d38a9240c4a0\",\"subtype\":\"Figure\",\"type\":\"Plot\"}},\"id\":\"d4f40d71-341d-4034-bdfa-f42630f69c0c\",\"type\":\"PanTool\"},{\"attributes\":{\"plot\":{\"id\":\"ff84ddd6-bae0-4e2b-b1be-8fab5838765f\",\"subtype\":\"Figure\",\"type\":\"Plot\"},\"ticker\":{\"id\":\"2d4fc5ca-8bdb-488a-bc15-1b66fd4732ea\",\"type\":\"BasicTicker\"}},\"id\":\"466d7dd4-c340-4d78-a8d4-ad3bc689b9b3\",\"type\":\"Grid\"},{\"attributes\":{\"callback\":null},\"id\":\"aad9dd45-1c37-4035-801c-70ea5528ddf2\",\"type\":\"DataRange1d\"},{\"attributes\":{\"axis_label\":\"y\",\"formatter\":{\"id\":\"c217bc03-5e2b-4fe8-9445-65939ad88450\",\"type\":\"BasicTickFormatter\"},\"plot\":{\"id\":\"ff84ddd6-bae0-4e2b-b1be-8fab5838765f\",\"subtype\":\"Figure\",\"type\":\"Plot\"},\"ticker\":{\"id\":\"ce384f53-0b7c-482e-89d5-70d4b44b0b7e\",\"type\":\"BasicTicker\"}},\"id\":\"581ce15d-dd51-4182-a8cb-a2d326f7af72\",\"type\":\"LinearAxis\"},{\"attributes\":{\"fill_alpha\":{\"value\":0.1},\"fill_color\":{\"value\":\"#1f77b4\"},\"line_alpha\":{\"value\":0.1},\"line_color\":{\"value\":\"#1f77b4\"},\"size\":{\"units\":\"screen\",\"value\":10},\"x\":{\"field\":\"x\"},\"y\":{\"field\":\"y\"}},\"id\":\"3eb45d87-fabd-42ef-9fde-aef392d10f9a\",\"type\":\"Circle\"},{\"attributes\":{},\"id\":\"4f5ba5d6-4d9d-4d60-b441-049eef3b79eb\",\"type\":\"BasicTicker\"},{\"attributes\":{\"plot\":{\"id\":\"eb2ed2ae-c7db-4586-bd59-6b77fce2f46f\",\"subtype\":\"Figure\",\"type\":\"Plot\"},\"ticker\":{\"id\":\"f87bfda6-9ff4-4e74-b837-c6fbf80c44e3\",\"type\":\"BasicTicker\"}},\"id\":\"04d87bb1-cf00-4550-925b-8ca4c822ca44\",\"type\":\"Grid\"},{\"attributes\":{\"plot\":{\"id\":\"6d38d003-1d41-42f4-9a1a-aff1d6e20dd9\",\"subtype\":\"Figure\",\"type\":\"Plot\"}},\"id\":\"4797858d-db68-4baf-834b-91fdab307bb4\",\"type\":\"HelpTool\"},{\"attributes\":{\"axis_label\":\"y\",\"formatter\":{\"id\":\"1a95107f-942b-409f-babe-5be9f877d3a0\",\"type\":\"BasicTickFormatter\"},\"plot\":{\"id\":\"a17d40ed-dc66-4163-81fa-d38a9240c4a0\",\"subtype\":\"Figure\",\"type\":\"Plot\"},\"ticker\":{\"id\":\"9b7d5704-a988-4c01-9df8-25cf4fe78303\",\"type\":\"BasicTicker\"}},\"id\":\"5e1d397b-3848-4c30-b787-6583d6ee21c9\",\"type\":\"LinearAxis\"},{\"attributes\":{\"overlay\":{\"id\":\"ff1a456d-a04c-40ce-8325-30f84eb6385c\",\"type\":\"BoxAnnotation\"},\"plot\":{\"id\":\"cd2c2f6f-392d-4676-8c8d-beb231b9476f\",\"subtype\":\"Figure\",\"type\":\"Plot\"}},\"id\":\"d7bfaef7-c9fa-473b-b667-719750379ea6\",\"type\":\"BoxZoomTool\"},{\"attributes\":{\"plot\":{\"id\":\"26b14274-243c-4d5c-b2a6-dfc61bd23aa5\",\"subtype\":\"Figure\",\"type\":\"Plot\"},\"ticker\":{\"id\":\"858aae18-fb1e-4998-94c3-ed588a02c4fd\",\"type\":\"BasicTicker\"}},\"id\":\"4c201485-0c60-41dd-a8a2-63d86f4e57e1\",\"type\":\"Grid\"},{\"attributes\":{\"below\":[{\"id\":\"88eb7750-ff5a-4c8d-9446-448ee233e40c\",\"type\":\"LinearAxis\"}],\"left\":[{\"id\":\"6fb69af7-c0a6-461f-9925-a2429f74c52c\",\"type\":\"LinearAxis\"}],\"renderers\":[{\"id\":\"88eb7750-ff5a-4c8d-9446-448ee233e40c\",\"type\":\"LinearAxis\"},{\"id\":\"ba18af0b-9a70-44f0-9c58-b1764c957c11\",\"type\":\"Grid\"},{\"id\":\"6fb69af7-c0a6-461f-9925-a2429f74c52c\",\"type\":\"LinearAxis\"},{\"id\":\"0367bb33-c307-4980-82bd-e16eb94e0e47\",\"type\":\"Grid\"},{\"id\":\"fb4f448c-1d84-49f5-9908-6e33a979cb3e\",\"type\":\"BoxAnnotation\"}],\"title\":\"...\",\"tool_events\":{\"id\":\"31138e57-0e7e-4733-b108-d47c11b6970c\",\"type\":\"ToolEvents\"},\"tools\":[{\"id\":\"17e1525f-437c-4361-836d-97f294a0cafb\",\"type\":\"PanTool\"},{\"id\":\"caae0900-0aa7-4faa-b58e-a7f01364bd7b\",\"type\":\"WheelZoomTool\"},{\"id\":\"89a1cc0f-adbd-4e57-b710-3d017b831503\",\"type\":\"BoxZoomTool\"},{\"id\":\"0793b2af-e532-4c39-9cae-bd9c3b87bc12\",\"type\":\"PreviewSaveTool\"},{\"id\":\"3f61a6de-2497-4671-8f8b-d18d134c05df\",\"type\":\"ResizeTool\"},{\"id\":\"482dd468-911a-4701-9345-ba6d83fd52a3\",\"type\":\"ResetTool\"},{\"id\":\"c82ac87c-dae0-4d0b-ad35-707c025fd462\",\"type\":\"HelpTool\"}],\"x_range\":{\"id\":\"504de2a8-ecd9-4a48-8ea9-b42f68f33d9c\",\"type\":\"DataRange1d\"},\"y_range\":{\"id\":\"aad9dd45-1c37-4035-801c-70ea5528ddf2\",\"type\":\"DataRange1d\"}},\"id\":\"35555809-2b8c-403b-9f3e-cd7c20984f30\",\"subtype\":\"Figure\",\"type\":\"Plot\"},{\"attributes\":{},\"id\":\"8d19d3a5-445e-406d-9665-066502ee48d1\",\"type\":\"BasicTickFormatter\"},{\"attributes\":{\"axis_label\":\"x\",\"formatter\":{\"id\":\"feaafce6-5549-4edb-8854-340455d29125\",\"type\":\"BasicTickFormatter\"},\"plot\":{\"id\":\"eb2ed2ae-c7db-4586-bd59-6b77fce2f46f\",\"subtype\":\"Figure\",\"type\":\"Plot\"},\"ticker\":{\"id\":\"f87bfda6-9ff4-4e74-b837-c6fbf80c44e3\",\"type\":\"BasicTicker\"}},\"id\":\"06c217c5-843a-4c5d-aea8-1833ef42ad78\",\"type\":\"LinearAxis\"},{\"attributes\":{\"data_source\":{\"id\":\"3d14d6bb-3a22-429d-96a7-a5af7a6f9dca\",\"type\":\"ColumnDataSource\"},\"glyph\":{\"id\":\"21882eff-ecb2-416c-ae00-d15dd5f36fcf\",\"type\":\"Circle\"},\"hover_glyph\":null,\"nonselection_glyph\":{\"id\":\"8e5daad3-7323-412b-b390-8178c2b0ba53\",\"type\":\"Circle\"},\"selection_glyph\":null},\"id\":\"74503e4a-300f-4cd3-af29-6dbb1c3820c0\",\"type\":\"GlyphRenderer\"},{\"attributes\":{\"plot\":{\"id\":\"a17d40ed-dc66-4163-81fa-d38a9240c4a0\",\"subtype\":\"Figure\",\"type\":\"Plot\"}},\"id\":\"91d0ac94-c4e1-4a7b-929a-aa57c0d63315\",\"type\":\"WheelZoomTool\"},{\"attributes\":{},\"id\":\"1055cdb3-249e-45d4-9f43-93342ec735de\",\"type\":\"BasicTickFormatter\"},{\"attributes\":{},\"id\":\"f87bfda6-9ff4-4e74-b837-c6fbf80c44e3\",\"type\":\"BasicTicker\"},{\"attributes\":{},\"id\":\"3996a22e-d9ea-4e65-b446-e14107009f18\",\"type\":\"BasicTickFormatter\"},{\"attributes\":{\"below\":[{\"id\":\"0037ddda-7d2e-49b5-bf73-88e7eb739ac7\",\"type\":\"LinearAxis\"}],\"left\":[{\"id\":\"1d4a61d9-649c-479d-bf8d-a0475f93b4ba\",\"type\":\"LinearAxis\"}],\"renderers\":[{\"id\":\"0037ddda-7d2e-49b5-bf73-88e7eb739ac7\",\"type\":\"LinearAxis\"},{\"id\":\"4d9d8475-dadf-4719-be03-3259deb71277\",\"type\":\"Grid\"},{\"id\":\"1d4a61d9-649c-479d-bf8d-a0475f93b4ba\",\"type\":\"LinearAxis\"},{\"id\":\"0670978b-c53b-4c2e-8e97-30972f3afdbe\",\"type\":\"Grid\"},{\"id\":\"b477d96e-148d-46cb-b190-036308d1d17b\",\"type\":\"BoxAnnotation\"},{\"id\":\"1def99a3-0773-4527-b60a-1b056b3eba1c\",\"type\":\"GlyphRenderer\"}],\"title\":\"...\",\"tool_events\":{\"id\":\"34f7ba4a-0478-4f98-a7e8-7c4a218b1d28\",\"type\":\"ToolEvents\"},\"tools\":[{\"id\":\"cb7bd27d-e397-4c60-8279-02c68cccc514\",\"type\":\"PanTool\"},{\"id\":\"21cca979-2971-4142-a162-767228cb074e\",\"type\":\"WheelZoomTool\"},{\"id\":\"e8bd7457-2509-491e-b11d-91c81790c7f0\",\"type\":\"BoxZoomTool\"},{\"id\":\"da913247-37a5-4c00-9ea9-548094f2ad47\",\"type\":\"PreviewSaveTool\"},{\"id\":\"c82f416a-db1e-464a-8fc0-3c8e4cf704af\",\"type\":\"ResizeTool\"},{\"id\":\"30b5150a-a7a5-4141-a7d9-a35d3001c97d\",\"type\":\"ResetTool\"},{\"id\":\"4797858d-db68-4baf-834b-91fdab307bb4\",\"type\":\"HelpTool\"}],\"x_range\":{\"id\":\"996ea66d-81a3-40ae-8351-2dd1b4aabdcd\",\"type\":\"DataRange1d\"},\"y_range\":{\"id\":\"3e2d9d50-0a85-4278-b82d-4f22cd75f744\",\"type\":\"DataRange1d\"}},\"id\":\"6d38d003-1d41-42f4-9a1a-aff1d6e20dd9\",\"subtype\":\"Figure\",\"type\":\"Plot\"},{\"attributes\":{\"plot\":{\"id\":\"cd2c2f6f-392d-4676-8c8d-beb231b9476f\",\"subtype\":\"Figure\",\"type\":\"Plot\"},\"ticker\":{\"id\":\"0589a589-7609-4064-8501-7ca80d197253\",\"type\":\"BasicTicker\"}},\"id\":\"33e9ed34-8559-495d-a6aa-bc55ddc7dc8d\",\"type\":\"Grid\"},{\"attributes\":{},\"id\":\"32f8861a-f067-496b-b2e5-8965b7960240\",\"type\":\"BasicTickFormatter\"},{\"attributes\":{\"plot\":{\"id\":\"ff84ddd6-bae0-4e2b-b1be-8fab5838765f\",\"subtype\":\"Figure\",\"type\":\"Plot\"}},\"id\":\"23f82239-63a2-45fe-a545-f8d40936f820\",\"type\":\"HelpTool\"},{\"attributes\":{\"below\":[{\"id\":\"06c217c5-843a-4c5d-aea8-1833ef42ad78\",\"type\":\"LinearAxis\"}],\"left\":[{\"id\":\"c2fdddc9-2ba1-4775-b20d-9d0dd0132e77\",\"type\":\"LinearAxis\"}],\"renderers\":[{\"id\":\"06c217c5-843a-4c5d-aea8-1833ef42ad78\",\"type\":\"LinearAxis\"},{\"id\":\"04d87bb1-cf00-4550-925b-8ca4c822ca44\",\"type\":\"Grid\"},{\"id\":\"c2fdddc9-2ba1-4775-b20d-9d0dd0132e77\",\"type\":\"LinearAxis\"},{\"id\":\"e8e735a6-8b26-4544-833e-7fdf96df08a0\",\"type\":\"Grid\"},{\"id\":\"19d4c56d-1c3b-40c0-a29b-4667e8f1778d\",\"type\":\"BoxAnnotation\"}],\"title\":\"...\",\"tool_events\":{\"id\":\"fa06d9af-7a65-4d42-abd3-de2fd2a32007\",\"type\":\"ToolEvents\"},\"tools\":[{\"id\":\"c75189e8-ace0-4530-b19d-0249e3045591\",\"type\":\"PanTool\"},{\"id\":\"dfb6ceef-7b03-4b59-8c53-a0643c53a930\",\"type\":\"WheelZoomTool\"},{\"id\":\"15d1bc8e-8275-4901-aea0-c5425a34fbf9\",\"type\":\"BoxZoomTool\"},{\"id\":\"a594696a-815e-4e68-abc5-60a224065cd9\",\"type\":\"PreviewSaveTool\"},{\"id\":\"8ab41401-c454-4f5b-91ea-e2aa446725e5\",\"type\":\"ResizeTool\"},{\"id\":\"628a17eb-4f5a-4085-af38-f3fe74e04a34\",\"type\":\"ResetTool\"},{\"id\":\"cc80a7bd-2856-4fae-90ea-480a5d0765ae\",\"type\":\"HelpTool\"}],\"x_range\":{\"id\":\"fbe7e309-1db5-4442-80ed-7cd3a403ce44\",\"type\":\"DataRange1d\"},\"y_range\":{\"id\":\"1e23037a-35a9-4e5d-879c-f13a7252484b\",\"type\":\"DataRange1d\"}},\"id\":\"eb2ed2ae-c7db-4586-bd59-6b77fce2f46f\",\"subtype\":\"Figure\",\"type\":\"Plot\"},{\"attributes\":{\"dimension\":1,\"plot\":{\"id\":\"6d38d003-1d41-42f4-9a1a-aff1d6e20dd9\",\"subtype\":\"Figure\",\"type\":\"Plot\"},\"ticker\":{\"id\":\"aee2ccb8-add8-4b3e-85fb-bd5105259b07\",\"type\":\"BasicTicker\"}},\"id\":\"0670978b-c53b-4c2e-8e97-30972f3afdbe\",\"type\":\"Grid\"},{\"attributes\":{\"fill_alpha\":{\"value\":0.1},\"fill_color\":{\"value\":\"#1f77b4\"},\"line_alpha\":{\"value\":0.1},\"line_color\":{\"value\":\"#1f77b4\"},\"size\":{\"units\":\"screen\",\"value\":10},\"x\":{\"field\":\"x\"},\"y\":{\"field\":\"y\"}},\"id\":\"15486148-969d-4059-addb-09d00a9de3bc\",\"type\":\"Circle\"},{\"attributes\":{\"callback\":null},\"id\":\"d201ece3-76d0-42d1-9a44-8981d61719b8\",\"type\":\"DataRange1d\"},{\"attributes\":{\"plot\":{\"id\":\"2bd22feb-e80d-4d9b-8aa4-34a1d95b312f\",\"subtype\":\"Figure\",\"type\":\"Plot\"},\"ticker\":{\"id\":\"6a0bd6ca-86c0-4a8c-9a1d-49efd28c1f00\",\"type\":\"BasicTicker\"}},\"id\":\"2f807367-759d-4c95-9952-2dd8b18d3d39\",\"type\":\"Grid\"},{\"attributes\":{\"overlay\":{\"id\":\"e4dc8cfe-c1e0-4c5d-9dd0-a944b46133a1\",\"type\":\"BoxAnnotation\"},\"plot\":{\"id\":\"5074032b-a087-4bf2-9030-d771ce3ea291\",\"subtype\":\"Figure\",\"type\":\"Plot\"}},\"id\":\"6e9b95b8-3d22-4af9-8129-105a6d6044a4\",\"type\":\"BoxZoomTool\"},{\"attributes\":{\"overlay\":{\"id\":\"05baef77-39d2-4414-8365-7be0d9dbeb2f\",\"type\":\"BoxAnnotation\"},\"plot\":{\"id\":\"0af3afab-4339-4f60-abbb-7938838d6da3\",\"subtype\":\"Figure\",\"type\":\"Plot\"}},\"id\":\"1954a63f-4a91-4af2-b1ed-927f36fc1806\",\"type\":\"BoxZoomTool\"},{\"attributes\":{\"dimension\":1,\"plot\":{\"id\":\"cd2c2f6f-392d-4676-8c8d-beb231b9476f\",\"subtype\":\"Figure\",\"type\":\"Plot\"},\"ticker\":{\"id\":\"99a20263-ce95-49b9-a4ed-2ae1200555c9\",\"type\":\"BasicTicker\"}},\"id\":\"7976bc7f-5ee8-48bc-9cb3-29e820479e0d\",\"type\":\"Grid\"},{\"attributes\":{},\"id\":\"2d4fc5ca-8bdb-488a-bc15-1b66fd4732ea\",\"type\":\"BasicTicker\"},{\"attributes\":{\"plot\":{\"id\":\"a17d40ed-dc66-4163-81fa-d38a9240c4a0\",\"subtype\":\"Figure\",\"type\":\"Plot\"},\"ticker\":{\"id\":\"117781f1-2b1a-42fb-b45e-145c9c9b9140\",\"type\":\"BasicTicker\"}},\"id\":\"07ab25d2-03ed-4027-bd35-c87cb22cb70c\",\"type\":\"Grid\"},{\"attributes\":{},\"id\":\"a7d4a077-beea-4987-b13c-6382bce16c8e\",\"type\":\"BasicTickFormatter\"},{\"attributes\":{},\"id\":\"feaafce6-5549-4edb-8854-340455d29125\",\"type\":\"BasicTickFormatter\"},{\"attributes\":{\"callback\":null},\"id\":\"3e2d9d50-0a85-4278-b82d-4f22cd75f744\",\"type\":\"DataRange1d\"},{\"attributes\":{\"plot\":{\"id\":\"2bd22feb-e80d-4d9b-8aa4-34a1d95b312f\",\"subtype\":\"Figure\",\"type\":\"Plot\"}},\"id\":\"9b25b7db-7eb3-4fcb-a53d-3ac3981f60e5\",\"type\":\"WheelZoomTool\"},{\"attributes\":{\"plot\":{\"id\":\"0af3afab-4339-4f60-abbb-7938838d6da3\",\"subtype\":\"Figure\",\"type\":\"Plot\"}},\"id\":\"d33da74a-f707-4bb5-b1e2-a800e5fcd165\",\"type\":\"ResizeTool\"},{\"attributes\":{\"plot\":{\"id\":\"a17d40ed-dc66-4163-81fa-d38a9240c4a0\",\"subtype\":\"Figure\",\"type\":\"Plot\"}},\"id\":\"6fef42c9-6785-4267-8fa0-ab8946df8532\",\"type\":\"HelpTool\"},{\"attributes\":{},\"id\":\"ac0dcca5-4d06-46ee-8be6-950ab6a6c5a5\",\"type\":\"BasicTickFormatter\"},{\"attributes\":{},\"id\":\"ae076ed9-d038-4122-abb8-04d8c507e96a\",\"type\":\"BasicTickFormatter\"},{\"attributes\":{\"below\":[{\"id\":\"1da8e12b-8f0a-4b20-a6d3-f1524c828427\",\"type\":\"LinearAxis\"}],\"left\":[{\"id\":\"581ce15d-dd51-4182-a8cb-a2d326f7af72\",\"type\":\"LinearAxis\"}],\"renderers\":[{\"id\":\"1da8e12b-8f0a-4b20-a6d3-f1524c828427\",\"type\":\"LinearAxis\"},{\"id\":\"466d7dd4-c340-4d78-a8d4-ad3bc689b9b3\",\"type\":\"Grid\"},{\"id\":\"581ce15d-dd51-4182-a8cb-a2d326f7af72\",\"type\":\"LinearAxis\"},{\"id\":\"2f8043ff-495a-4343-8e57-00c967e5a31a\",\"type\":\"Grid\"},{\"id\":\"06e36175-8178-4acf-8924-38a8184dfd82\",\"type\":\"BoxAnnotation\"}],\"title\":\"...\",\"tool_events\":{\"id\":\"a792f6fd-00a9-49d6-9449-a344bd2601c5\",\"type\":\"ToolEvents\"},\"tools\":[{\"id\":\"f8f4edfa-e6b7-4520-b1d4-1580e6c54be8\",\"type\":\"PanTool\"},{\"id\":\"f7cd892d-7a98-44c7-b5da-1e6e96ee4df8\",\"type\":\"WheelZoomTool\"},{\"id\":\"2b403c42-331a-4d80-8f5d-bb09721f6f1f\",\"type\":\"BoxZoomTool\"},{\"id\":\"684fb966-7c8f-41ba-9e1e-36840464f979\",\"type\":\"PreviewSaveTool\"},{\"id\":\"a379a866-ff80-49db-baaf-15e9303df097\",\"type\":\"ResizeTool\"},{\"id\":\"772b7e1c-8a45-40ab-a559-23be2ff00078\",\"type\":\"ResetTool\"},{\"id\":\"23f82239-63a2-45fe-a545-f8d40936f820\",\"type\":\"HelpTool\"}],\"x_range\":{\"id\":\"171a1ea3-e0c0-4908-bbd0-f05d8472c344\",\"type\":\"DataRange1d\"},\"y_range\":{\"id\":\"43f43df3-4d11-4701-bb71-31697e0bdbb7\",\"type\":\"DataRange1d\"}},\"id\":\"ff84ddd6-bae0-4e2b-b1be-8fab5838765f\",\"subtype\":\"Figure\",\"type\":\"Plot\"},{\"attributes\":{\"overlay\":{\"id\":\"06e36175-8178-4acf-8924-38a8184dfd82\",\"type\":\"BoxAnnotation\"},\"plot\":{\"id\":\"ff84ddd6-bae0-4e2b-b1be-8fab5838765f\",\"subtype\":\"Figure\",\"type\":\"Plot\"}},\"id\":\"2b403c42-331a-4d80-8f5d-bb09721f6f1f\",\"type\":\"BoxZoomTool\"},{\"attributes\":{\"fill_alpha\":{\"value\":0.2},\"fill_color\":{\"field\":\"fill_color\"},\"line_color\":{\"field\":\"line_color\"},\"size\":{\"units\":\"screen\",\"value\":10},\"x\":{\"field\":\"x\"},\"y\":{\"field\":\"y\"}},\"id\":\"21882eff-ecb2-416c-ae00-d15dd5f36fcf\",\"type\":\"Circle\"},{\"attributes\":{\"plot\":{\"id\":\"35555809-2b8c-403b-9f3e-cd7c20984f30\",\"subtype\":\"Figure\",\"type\":\"Plot\"}},\"id\":\"0793b2af-e532-4c39-9cae-bd9c3b87bc12\",\"type\":\"PreviewSaveTool\"},{\"attributes\":{\"dimension\":1,\"plot\":{\"id\":\"2bd22feb-e80d-4d9b-8aa4-34a1d95b312f\",\"subtype\":\"Figure\",\"type\":\"Plot\"},\"ticker\":{\"id\":\"a0b649e6-64dd-485f-be85-6b6e869e6db3\",\"type\":\"BasicTicker\"}},\"id\":\"ff33a7f2-d43b-41af-b91d-bbe9ade36ae9\",\"type\":\"Grid\"},{\"attributes\":{},\"id\":\"6b7578b1-e50c-4eba-9dda-c9e37c6bdc41\",\"type\":\"BasicTicker\"},{\"attributes\":{\"callback\":null},\"id\":\"171a1ea3-e0c0-4908-bbd0-f05d8472c344\",\"type\":\"DataRange1d\"},{\"attributes\":{\"plot\":{\"id\":\"35555809-2b8c-403b-9f3e-cd7c20984f30\",\"subtype\":\"Figure\",\"type\":\"Plot\"}},\"id\":\"caae0900-0aa7-4faa-b58e-a7f01364bd7b\",\"type\":\"WheelZoomTool\"},{\"attributes\":{\"bottom_units\":\"screen\",\"fill_alpha\":{\"value\":0.5},\"fill_color\":{\"value\":\"lightgrey\"},\"left_units\":\"screen\",\"level\":\"overlay\",\"line_alpha\":{\"value\":1.0},\"line_color\":{\"value\":\"black\"},\"line_dash\":[4,4],\"line_width\":{\"value\":2},\"plot\":null,\"render_mode\":\"css\",\"right_units\":\"screen\",\"top_units\":\"screen\"},\"id\":\"b477d96e-148d-46cb-b190-036308d1d17b\",\"type\":\"BoxAnnotation\"},{\"attributes\":{\"fill_alpha\":{\"value\":0.2},\"fill_color\":{\"field\":\"fill_color\"},\"line_color\":{\"field\":\"line_color\"},\"size\":{\"units\":\"screen\",\"value\":10},\"x\":{\"field\":\"x\"},\"y\":{\"field\":\"y\"}},\"id\":\"b2eb8813-8b24-4f76-b0b7-648a985900ce\",\"type\":\"Circle\"},{\"attributes\":{\"plot\":{\"id\":\"0af3afab-4339-4f60-abbb-7938838d6da3\",\"subtype\":\"Figure\",\"type\":\"Plot\"},\"ticker\":{\"id\":\"f6f061be-c4f1-4663-b7e0-6112666e9daa\",\"type\":\"BasicTicker\"}},\"id\":\"a323214c-9875-48e5-b4cf-a316d2c350df\",\"type\":\"Grid\"},{\"attributes\":{},\"id\":\"2550c363-9c49-4a3e-aab4-385d59ba83df\",\"type\":\"BasicTicker\"},{\"attributes\":{\"plot\":{\"id\":\"cd2c2f6f-392d-4676-8c8d-beb231b9476f\",\"subtype\":\"Figure\",\"type\":\"Plot\"}},\"id\":\"0243ef98-5f45-4847-a020-2ef3a09a0226\",\"type\":\"ResetTool\"},{\"attributes\":{\"callback\":null},\"id\":\"996ea66d-81a3-40ae-8351-2dd1b4aabdcd\",\"type\":\"DataRange1d\"},{\"attributes\":{\"plot\":{\"id\":\"0af3afab-4339-4f60-abbb-7938838d6da3\",\"subtype\":\"Figure\",\"type\":\"Plot\"}},\"id\":\"33d68040-c019-4f7b-9457-0cc05920cc7e\",\"type\":\"WheelZoomTool\"},{\"attributes\":{\"callback\":null},\"id\":\"cc5cee7b-067f-4963-997f-73242c7db738\",\"type\":\"DataRange1d\"},{\"attributes\":{\"dimension\":1,\"plot\":{\"id\":\"ff84ddd6-bae0-4e2b-b1be-8fab5838765f\",\"subtype\":\"Figure\",\"type\":\"Plot\"},\"ticker\":{\"id\":\"ce384f53-0b7c-482e-89d5-70d4b44b0b7e\",\"type\":\"BasicTicker\"}},\"id\":\"2f8043ff-495a-4343-8e57-00c967e5a31a\",\"type\":\"Grid\"},{\"attributes\":{\"dimension\":1,\"plot\":{\"id\":\"5074032b-a087-4bf2-9030-d771ce3ea291\",\"subtype\":\"Figure\",\"type\":\"Plot\"},\"ticker\":{\"id\":\"acf12f65-f566-426c-b2aa-8f72a068fc59\",\"type\":\"BasicTicker\"}},\"id\":\"84ce75cc-4a1c-497a-8b97-ec86fbafd542\",\"type\":\"Grid\"},{\"attributes\":{\"fill_alpha\":{\"value\":0.1},\"fill_color\":{\"value\":\"#1f77b4\"},\"line_alpha\":{\"value\":0.1},\"line_color\":{\"value\":\"#1f77b4\"},\"size\":{\"units\":\"screen\",\"value\":10},\"x\":{\"field\":\"x\"},\"y\":{\"field\":\"y\"}},\"id\":\"8e5daad3-7323-412b-b390-8178c2b0ba53\",\"type\":\"Circle\"},{\"attributes\":{\"callback\":null},\"id\":\"28bf120f-50fc-4b5b-a3bb-8edaf3548432\",\"type\":\"DataRange1d\"},{\"attributes\":{\"axis_label\":\"x\",\"formatter\":{\"id\":\"e1d224cd-6e8e-4026-9879-3c8f19c9ade8\",\"type\":\"BasicTickFormatter\"},\"plot\":{\"id\":\"6d38d003-1d41-42f4-9a1a-aff1d6e20dd9\",\"subtype\":\"Figure\",\"type\":\"Plot\"},\"ticker\":{\"id\":\"d14d88c1-a6e5-432d-b556-f21ed48d9aa6\",\"type\":\"BasicTicker\"}},\"id\":\"0037ddda-7d2e-49b5-bf73-88e7eb739ac7\",\"type\":\"LinearAxis\"},{\"attributes\":{\"plot\":{\"id\":\"5074032b-a087-4bf2-9030-d771ce3ea291\",\"subtype\":\"Figure\",\"type\":\"Plot\"}},\"id\":\"367847be-96be-40ed-8842-87714a7105c8\",\"type\":\"WheelZoomTool\"},{\"attributes\":{\"plot\":{\"id\":\"6d38d003-1d41-42f4-9a1a-aff1d6e20dd9\",\"subtype\":\"Figure\",\"type\":\"Plot\"},\"ticker\":{\"id\":\"d14d88c1-a6e5-432d-b556-f21ed48d9aa6\",\"type\":\"BasicTicker\"}},\"id\":\"4d9d8475-dadf-4719-be03-3259deb71277\",\"type\":\"Grid\"},{\"attributes\":{},\"id\":\"fa06d9af-7a65-4d42-abd3-de2fd2a32007\",\"type\":\"ToolEvents\"},{\"attributes\":{\"plot\":{\"id\":\"eb2ed2ae-c7db-4586-bd59-6b77fce2f46f\",\"subtype\":\"Figure\",\"type\":\"Plot\"}},\"id\":\"a594696a-815e-4e68-abc5-60a224065cd9\",\"type\":\"PreviewSaveTool\"},{\"attributes\":{\"plot\":{\"id\":\"26b14274-243c-4d5c-b2a6-dfc61bd23aa5\",\"subtype\":\"Figure\",\"type\":\"Plot\"}},\"id\":\"40124547-7e18-4cf5-bb74-ffd80d2014fd\",\"type\":\"WheelZoomTool\"},{\"attributes\":{},\"id\":\"3dac90e4-1d4d-4107-b597-9b4fd29f666e\",\"type\":\"BasicTickFormatter\"},{\"attributes\":{\"bottom_units\":\"screen\",\"fill_alpha\":{\"value\":0.5},\"fill_color\":{\"value\":\"lightgrey\"},\"left_units\":\"screen\",\"level\":\"overlay\",\"line_alpha\":{\"value\":1.0},\"line_color\":{\"value\":\"black\"},\"line_dash\":[4,4],\"line_width\":{\"value\":2},\"plot\":null,\"render_mode\":\"css\",\"right_units\":\"screen\",\"top_units\":\"screen\"},\"id\":\"19d4c56d-1c3b-40c0-a29b-4667e8f1778d\",\"type\":\"BoxAnnotation\"},{\"attributes\":{},\"id\":\"6a0bd6ca-86c0-4a8c-9a1d-49efd28c1f00\",\"type\":\"BasicTicker\"},{\"attributes\":{\"plot\":{\"id\":\"cd2c2f6f-392d-4676-8c8d-beb231b9476f\",\"subtype\":\"Figure\",\"type\":\"Plot\"}},\"id\":\"6282e241-e3e6-453c-86bf-fe54c786b2c1\",\"type\":\"PreviewSaveTool\"},{\"attributes\":{},\"id\":\"0b172434-af27-49f6-be35-147f468ef2a0\",\"type\":\"BasicTickFormatter\"},{\"attributes\":{\"callback\":null,\"column_names\":[\"y\",\"x\",\"line_color\",\"fill_color\"],\"data\":{\"fill_color\":[\"blue\",\"red\",\"green\",\"red\",\"green\",\"blue\",\"red\",\"green\",\"blue\",\"red\",\"green\",\"red\",\"green\",\"red\",\"blue\",\"green\",\"red\",\"red\",\"blue\",\"green\",\"blue\",\"blue\",\"red\",\"green\",\"red\",\"green\",\"red\",\"blue\",\"blue\",\"red\",\"green\"],\"line_color\":[\"blue\",\"red\",\"green\",\"red\",\"green\",\"blue\",\"red\",\"green\",\"blue\",\"red\",\"green\",\"red\",\"green\",\"red\",\"blue\",\"green\",\"red\",\"red\",\"blue\",\"green\",\"blue\",\"blue\",\"red\",\"green\",\"red\",\"green\",\"red\",\"blue\",\"blue\",\"red\",\"green\"],\"x\":[10.738749268263307,0.35801992359979096,0.9500062978395108,3.0140961845133454,1.7222881476181902,8.347450502413567,2.9429690705772478,1.1260309366807648,8.01066066612329,5.649308711504697,0.6561668447698306,2.9760063910946712,2.380423217394,1.8951233759809658,9.83369868940322,-0.9533089432058829,3.39271130922079,4.24480850058618,10.076458267891356,0.5792266247637508,8.76884405704329,9.585090288455074,1.3220257520558614,2.4690770664648123,3.0445461703010297,4.671605528134274,5.293273233593514,7.967044260936644,8.982891918254786,3.3405970915392365,1.2337751247401123],\"y\":[5.451755928213711,10.404793766430107,2.8735624713618924,9.75007012814203,5.849997496311276,5.115443898845982,11.574813273232882,4.195327341120622,8.29931331010906,10.61015973175893,0.22485724939858365,7.411556806413929,1.7070472917817519,10.879422426538413,8.577788356666996,3.5003690807617285,10.9267633223789,14.207465636423295,4.764306946315238,4.126608873164084,6.758935788426798,6.884575736985941,9.378571202689406,0.6393662223366011,10.448755313556841,1.6600261523772042,9.137129751484213,6.062789720854456,5.795841439804483,7.2429942391273165,1.6963758943228038]}},\"id\":\"fd71d5a1-132f-4503-9296-75c99b4930d9\",\"type\":\"ColumnDataSource\"},{\"attributes\":{\"axis_label\":\"y\",\"formatter\":{\"id\":\"48a21825-6d9f-45a7-86c5-3c9cdfcbfb81\",\"type\":\"BasicTickFormatter\"},\"plot\":{\"id\":\"5074032b-a087-4bf2-9030-d771ce3ea291\",\"subtype\":\"Figure\",\"type\":\"Plot\"},\"ticker\":{\"id\":\"acf12f65-f566-426c-b2aa-8f72a068fc59\",\"type\":\"BasicTicker\"}},\"id\":\"9cd2e920-2e00-44c8-becf-4f8e9e403b2f\",\"type\":\"LinearAxis\"},{\"attributes\":{\"axis_label\":\"y\",\"formatter\":{\"id\":\"8d19d3a5-445e-406d-9665-066502ee48d1\",\"type\":\"BasicTickFormatter\"},\"plot\":{\"id\":\"6d38d003-1d41-42f4-9a1a-aff1d6e20dd9\",\"subtype\":\"Figure\",\"type\":\"Plot\"},\"ticker\":{\"id\":\"aee2ccb8-add8-4b3e-85fb-bd5105259b07\",\"type\":\"BasicTicker\"}},\"id\":\"1d4a61d9-649c-479d-bf8d-a0475f93b4ba\",\"type\":\"LinearAxis\"},{\"attributes\":{\"callback\":null},\"id\":\"43f43df3-4d11-4701-bb71-31697e0bdbb7\",\"type\":\"DataRange1d\"},{\"attributes\":{\"plot\":{\"id\":\"eb2ed2ae-c7db-4586-bd59-6b77fce2f46f\",\"subtype\":\"Figure\",\"type\":\"Plot\"}},\"id\":\"628a17eb-4f5a-4085-af38-f3fe74e04a34\",\"type\":\"ResetTool\"},{\"attributes\":{\"axis_label\":\"x\",\"formatter\":{\"id\":\"d707369d-e91e-424d-b8ce-78833e03050a\",\"type\":\"BasicTickFormatter\"},\"plot\":{\"id\":\"35555809-2b8c-403b-9f3e-cd7c20984f30\",\"subtype\":\"Figure\",\"type\":\"Plot\"},\"ticker\":{\"id\":\"6b7578b1-e50c-4eba-9dda-c9e37c6bdc41\",\"type\":\"BasicTicker\"}},\"id\":\"88eb7750-ff5a-4c8d-9446-448ee233e40c\",\"type\":\"LinearAxis\"},{\"attributes\":{\"plot\":{\"id\":\"eb2ed2ae-c7db-4586-bd59-6b77fce2f46f\",\"subtype\":\"Figure\",\"type\":\"Plot\"}},\"id\":\"dfb6ceef-7b03-4b59-8c53-a0643c53a930\",\"type\":\"WheelZoomTool\"},{\"attributes\":{\"plot\":{\"id\":\"ff84ddd6-bae0-4e2b-b1be-8fab5838765f\",\"subtype\":\"Figure\",\"type\":\"Plot\"}},\"id\":\"684fb966-7c8f-41ba-9e1e-36840464f979\",\"type\":\"PreviewSaveTool\"},{\"attributes\":{},\"id\":\"ea4ff64f-fc60-43bf-a9bd-d49abc9b8536\",\"type\":\"ToolEvents\"},{\"attributes\":{\"callback\":null},\"id\":\"9afd0adc-6ea6-43e3-9bda-77d8dee87254\",\"type\":\"DataRange1d\"},{\"attributes\":{\"below\":[{\"id\":\"43d46b8b-f447-428f-a1d1-3911c56e11b6\",\"type\":\"LinearAxis\"}],\"left\":[{\"id\":\"5e1d397b-3848-4c30-b787-6583d6ee21c9\",\"type\":\"LinearAxis\"}],\"renderers\":[{\"id\":\"43d46b8b-f447-428f-a1d1-3911c56e11b6\",\"type\":\"LinearAxis\"},{\"id\":\"07ab25d2-03ed-4027-bd35-c87cb22cb70c\",\"type\":\"Grid\"},{\"id\":\"5e1d397b-3848-4c30-b787-6583d6ee21c9\",\"type\":\"LinearAxis\"},{\"id\":\"26e00367-11e5-4509-b8be-117e8942330f\",\"type\":\"Grid\"},{\"id\":\"69b03b15-b3bc-4273-a591-eb532f0a5dcf\",\"type\":\"BoxAnnotation\"}],\"title\":\"...\",\"tool_events\":{\"id\":\"41adec30-66dc-45ec-8bd4-e2d9024f3991\",\"type\":\"ToolEvents\"},\"tools\":[{\"id\":\"d4f40d71-341d-4034-bdfa-f42630f69c0c\",\"type\":\"PanTool\"},{\"id\":\"91d0ac94-c4e1-4a7b-929a-aa57c0d63315\",\"type\":\"WheelZoomTool\"},{\"id\":\"6405e769-1065-403a-a0c2-737dcbeed08e\",\"type\":\"BoxZoomTool\"},{\"id\":\"44b75964-60b8-45ae-8a93-28ab80bf1564\",\"type\":\"PreviewSaveTool\"},{\"id\":\"ca603c54-0ce6-4712-9c3c-3d0d4e749514\",\"type\":\"ResizeTool\"},{\"id\":\"902fcb0f-73d9-4440-ab7a-0f59f4beb0b9\",\"type\":\"ResetTool\"},{\"id\":\"6fef42c9-6785-4267-8fa0-ab8946df8532\",\"type\":\"HelpTool\"}],\"x_range\":{\"id\":\"ca53484d-12b7-4a62-9d28-cad712b03dd1\",\"type\":\"DataRange1d\"},\"y_range\":{\"id\":\"c4bc062a-1d31-40d9-b9ed-55eae36fe8e6\",\"type\":\"DataRange1d\"}},\"id\":\"a17d40ed-dc66-4163-81fa-d38a9240c4a0\",\"subtype\":\"Figure\",\"type\":\"Plot\"},{\"attributes\":{\"dimension\":1,\"plot\":{\"id\":\"35555809-2b8c-403b-9f3e-cd7c20984f30\",\"subtype\":\"Figure\",\"type\":\"Plot\"},\"ticker\":{\"id\":\"d461a5df-40d2-4678-ae8d-5f27ffa9956b\",\"type\":\"BasicTicker\"}},\"id\":\"0367bb33-c307-4980-82bd-e16eb94e0e47\",\"type\":\"Grid\"},{\"attributes\":{\"plot\":{\"id\":\"0af3afab-4339-4f60-abbb-7938838d6da3\",\"subtype\":\"Figure\",\"type\":\"Plot\"}},\"id\":\"55f9b521-1474-48ce-87cf-4b621d007a93\",\"type\":\"HelpTool\"},{\"attributes\":{\"callback\":null},\"id\":\"7ff18dfd-a698-430c-a083-3895135ac697\",\"type\":\"DataRange1d\"},{\"attributes\":{\"below\":[{\"id\":\"165880c6-4cb3-46e8-a16c-72056ae86cce\",\"type\":\"LinearAxis\"}],\"left\":[{\"id\":\"fcbb48cf-e67e-4441-be8f-e4ca482e5c17\",\"type\":\"LinearAxis\"}],\"renderers\":[{\"id\":\"165880c6-4cb3-46e8-a16c-72056ae86cce\",\"type\":\"LinearAxis\"},{\"id\":\"33e9ed34-8559-495d-a6aa-bc55ddc7dc8d\",\"type\":\"Grid\"},{\"id\":\"fcbb48cf-e67e-4441-be8f-e4ca482e5c17\",\"type\":\"LinearAxis\"},{\"id\":\"7976bc7f-5ee8-48bc-9cb3-29e820479e0d\",\"type\":\"Grid\"},{\"id\":\"ff1a456d-a04c-40ce-8325-30f84eb6385c\",\"type\":\"BoxAnnotation\"}],\"title\":\"...\",\"tool_events\":{\"id\":\"9602a9b5-33c3-42a4-b699-d80a66d5f5da\",\"type\":\"ToolEvents\"},\"tools\":[{\"id\":\"11b7645c-59b1-460e-a76e-7eece2a78132\",\"type\":\"PanTool\"},{\"id\":\"e140b2d7-73ba-4296-be19-b64eacb9017e\",\"type\":\"WheelZoomTool\"},{\"id\":\"d7bfaef7-c9fa-473b-b667-719750379ea6\",\"type\":\"BoxZoomTool\"},{\"id\":\"6282e241-e3e6-453c-86bf-fe54c786b2c1\",\"type\":\"PreviewSaveTool\"},{\"id\":\"ae5509ba-405a-4396-9dc1-6c3bd1b4dd30\",\"type\":\"ResizeTool\"},{\"id\":\"0243ef98-5f45-4847-a020-2ef3a09a0226\",\"type\":\"ResetTool\"},{\"id\":\"e2348868-68f4-41f9-a37c-37ccbb5e6930\",\"type\":\"HelpTool\"}],\"x_range\":{\"id\":\"9afd0adc-6ea6-43e3-9bda-77d8dee87254\",\"type\":\"DataRange1d\"},\"y_range\":{\"id\":\"4039d94c-e43a-4070-b77b-4898e820c26d\",\"type\":\"DataRange1d\"}},\"id\":\"cd2c2f6f-392d-4676-8c8d-beb231b9476f\",\"subtype\":\"Figure\",\"type\":\"Plot\"},{\"attributes\":{\"axis_label\":\"y\",\"formatter\":{\"id\":\"3996a22e-d9ea-4e65-b446-e14107009f18\",\"type\":\"BasicTickFormatter\"},\"plot\":{\"id\":\"cd2c2f6f-392d-4676-8c8d-beb231b9476f\",\"subtype\":\"Figure\",\"type\":\"Plot\"},\"ticker\":{\"id\":\"99a20263-ce95-49b9-a4ed-2ae1200555c9\",\"type\":\"BasicTicker\"}},\"id\":\"fcbb48cf-e67e-4441-be8f-e4ca482e5c17\",\"type\":\"LinearAxis\"},{\"attributes\":{},\"id\":\"d461a5df-40d2-4678-ae8d-5f27ffa9956b\",\"type\":\"BasicTicker\"},{\"attributes\":{\"plot\":{\"id\":\"ff84ddd6-bae0-4e2b-b1be-8fab5838765f\",\"subtype\":\"Figure\",\"type\":\"Plot\"}},\"id\":\"f7cd892d-7a98-44c7-b5da-1e6e96ee4df8\",\"type\":\"WheelZoomTool\"},{\"attributes\":{},\"id\":\"a0b649e6-64dd-485f-be85-6b6e869e6db3\",\"type\":\"BasicTicker\"},{\"attributes\":{\"plot\":{\"id\":\"ff84ddd6-bae0-4e2b-b1be-8fab5838765f\",\"subtype\":\"Figure\",\"type\":\"Plot\"}},\"id\":\"f8f4edfa-e6b7-4520-b1d4-1580e6c54be8\",\"type\":\"PanTool\"},{\"attributes\":{\"bottom_units\":\"screen\",\"fill_alpha\":{\"value\":0.5},\"fill_color\":{\"value\":\"lightgrey\"},\"left_units\":\"screen\",\"level\":\"overlay\",\"line_alpha\":{\"value\":1.0},\"line_color\":{\"value\":\"black\"},\"line_dash\":[4,4],\"line_width\":{\"value\":2},\"plot\":null,\"render_mode\":\"css\",\"right_units\":\"screen\",\"top_units\":\"screen\"},\"id\":\"4db8eb76-88bc-4272-ae70-74280210a23f\",\"type\":\"BoxAnnotation\"},{\"attributes\":{\"overlay\":{\"id\":\"4db8eb76-88bc-4272-ae70-74280210a23f\",\"type\":\"BoxAnnotation\"},\"plot\":{\"id\":\"26b14274-243c-4d5c-b2a6-dfc61bd23aa5\",\"subtype\":\"Figure\",\"type\":\"Plot\"}},\"id\":\"a7210148-12b1-4fab-bd6a-db0d713b00c1\",\"type\":\"BoxZoomTool\"},{\"attributes\":{\"callback\":null},\"id\":\"4039d94c-e43a-4070-b77b-4898e820c26d\",\"type\":\"DataRange1d\"},{\"attributes\":{\"plot\":{\"id\":\"35555809-2b8c-403b-9f3e-cd7c20984f30\",\"subtype\":\"Figure\",\"type\":\"Plot\"},\"ticker\":{\"id\":\"6b7578b1-e50c-4eba-9dda-c9e37c6bdc41\",\"type\":\"BasicTicker\"}},\"id\":\"ba18af0b-9a70-44f0-9c58-b1764c957c11\",\"type\":\"Grid\"},{\"attributes\":{\"plot\":{\"id\":\"35555809-2b8c-403b-9f3e-cd7c20984f30\",\"subtype\":\"Figure\",\"type\":\"Plot\"}},\"id\":\"17e1525f-437c-4361-836d-97f294a0cafb\",\"type\":\"PanTool\"},{\"attributes\":{},\"id\":\"ce384f53-0b7c-482e-89d5-70d4b44b0b7e\",\"type\":\"BasicTicker\"},{\"attributes\":{},\"id\":\"31138e57-0e7e-4733-b108-d47c11b6970c\",\"type\":\"ToolEvents\"},{\"attributes\":{\"axis_label\":\"x\",\"formatter\":{\"id\":\"a4fcdc6b-8adb-4c2d-bf7f-b562e1126652\",\"type\":\"BasicTickFormatter\"},\"plot\":{\"id\":\"0af3afab-4339-4f60-abbb-7938838d6da3\",\"subtype\":\"Figure\",\"type\":\"Plot\"},\"ticker\":{\"id\":\"f6f061be-c4f1-4663-b7e0-6112666e9daa\",\"type\":\"BasicTicker\"}},\"id\":\"65b44d15-fd40-463b-ab9f-4d751aeb7760\",\"type\":\"LinearAxis\"},{\"attributes\":{\"plot\":{\"id\":\"6d38d003-1d41-42f4-9a1a-aff1d6e20dd9\",\"subtype\":\"Figure\",\"type\":\"Plot\"}},\"id\":\"30b5150a-a7a5-4141-a7d9-a35d3001c97d\",\"type\":\"ResetTool\"},{\"attributes\":{\"plot\":{\"id\":\"2bd22feb-e80d-4d9b-8aa4-34a1d95b312f\",\"subtype\":\"Figure\",\"type\":\"Plot\"}},\"id\":\"20166bba-8e81-4e99-8f56-97565f8db517\",\"type\":\"ResizeTool\"},{\"attributes\":{\"data_source\":{\"id\":\"fd71d5a1-132f-4503-9296-75c99b4930d9\",\"type\":\"ColumnDataSource\"},\"glyph\":{\"id\":\"b2eb8813-8b24-4f76-b0b7-648a985900ce\",\"type\":\"Circle\"},\"hover_glyph\":null,\"nonselection_glyph\":{\"id\":\"3eb45d87-fabd-42ef-9fde-aef392d10f9a\",\"type\":\"Circle\"},\"selection_glyph\":null},\"id\":\"1def99a3-0773-4527-b60a-1b056b3eba1c\",\"type\":\"GlyphRenderer\"},{\"attributes\":{\"plot\":{\"id\":\"a17d40ed-dc66-4163-81fa-d38a9240c4a0\",\"subtype\":\"Figure\",\"type\":\"Plot\"}},\"id\":\"ca603c54-0ce6-4712-9c3c-3d0d4e749514\",\"type\":\"ResizeTool\"},{\"attributes\":{\"overlay\":{\"id\":\"69b03b15-b3bc-4273-a591-eb532f0a5dcf\",\"type\":\"BoxAnnotation\"},\"plot\":{\"id\":\"a17d40ed-dc66-4163-81fa-d38a9240c4a0\",\"subtype\":\"Figure\",\"type\":\"Plot\"}},\"id\":\"6405e769-1065-403a-a0c2-737dcbeed08e\",\"type\":\"BoxZoomTool\"},{\"attributes\":{\"bottom_units\":\"screen\",\"fill_alpha\":{\"value\":0.5},\"fill_color\":{\"value\":\"lightgrey\"},\"left_units\":\"screen\",\"level\":\"overlay\",\"line_alpha\":{\"value\":1.0},\"line_color\":{\"value\":\"black\"},\"line_dash\":[4,4],\"line_width\":{\"value\":2},\"plot\":null,\"render_mode\":\"css\",\"right_units\":\"screen\",\"top_units\":\"screen\"},\"id\":\"fb4f448c-1d84-49f5-9908-6e33a979cb3e\",\"type\":\"BoxAnnotation\"},{\"attributes\":{\"dimension\":1,\"plot\":{\"id\":\"eb2ed2ae-c7db-4586-bd59-6b77fce2f46f\",\"subtype\":\"Figure\",\"type\":\"Plot\"},\"ticker\":{\"id\":\"4f5ba5d6-4d9d-4d60-b441-049eef3b79eb\",\"type\":\"BasicTicker\"}},\"id\":\"e8e735a6-8b26-4544-833e-7fdf96df08a0\",\"type\":\"Grid\"},{\"attributes\":{},\"id\":\"9b7d5704-a988-4c01-9df8-25cf4fe78303\",\"type\":\"BasicTicker\"},{\"attributes\":{},\"id\":\"5b863151-2692-4708-a9e2-d282e58ed34b\",\"type\":\"BasicTickFormatter\"},{\"attributes\":{\"fill_alpha\":{\"value\":0.2},\"fill_color\":{\"field\":\"fill_color\"},\"line_color\":{\"field\":\"line_color\"},\"size\":{\"units\":\"screen\",\"value\":10},\"x\":{\"field\":\"x\"},\"y\":{\"field\":\"y\"}},\"id\":\"58804069-cf30-4b74-968e-fdbb4d072624\",\"type\":\"Circle\"},{\"attributes\":{\"callback\":null},\"id\":\"c4bc062a-1d31-40d9-b9ed-55eae36fe8e6\",\"type\":\"DataRange1d\"},{\"attributes\":{\"plot\":{\"id\":\"6d38d003-1d41-42f4-9a1a-aff1d6e20dd9\",\"subtype\":\"Figure\",\"type\":\"Plot\"}},\"id\":\"21cca979-2971-4142-a162-767228cb074e\",\"type\":\"WheelZoomTool\"},{\"attributes\":{},\"id\":\"34f7ba4a-0478-4f98-a7e8-7c4a218b1d28\",\"type\":\"ToolEvents\"},{\"attributes\":{\"plot\":{\"id\":\"cd2c2f6f-392d-4676-8c8d-beb231b9476f\",\"subtype\":\"Figure\",\"type\":\"Plot\"}},\"id\":\"e140b2d7-73ba-4296-be19-b64eacb9017e\",\"type\":\"WheelZoomTool\"},{\"attributes\":{},\"id\":\"13aadb21-c4d0-49e0-8922-17662109c273\",\"type\":\"BasicTickFormatter\"},{\"attributes\":{\"callback\":null},\"id\":\"504de2a8-ecd9-4a48-8ea9-b42f68f33d9c\",\"type\":\"DataRange1d\"},{\"attributes\":{},\"id\":\"d707369d-e91e-424d-b8ce-78833e03050a\",\"type\":\"BasicTickFormatter\"},{\"attributes\":{\"plot\":{\"id\":\"5074032b-a087-4bf2-9030-d771ce3ea291\",\"subtype\":\"Figure\",\"type\":\"Plot\"},\"ticker\":{\"id\":\"7e3db2b3-34ec-4da2-a111-bf48801b9520\",\"type\":\"BasicTicker\"}},\"id\":\"c8e8d9ed-3dee-4af2-a20f-b83e7694594c\",\"type\":\"Grid\"},{\"attributes\":{\"overlay\":{\"id\":\"b477d96e-148d-46cb-b190-036308d1d17b\",\"type\":\"BoxAnnotation\"},\"plot\":{\"id\":\"6d38d003-1d41-42f4-9a1a-aff1d6e20dd9\",\"subtype\":\"Figure\",\"type\":\"Plot\"}},\"id\":\"e8bd7457-2509-491e-b11d-91c81790c7f0\",\"type\":\"BoxZoomTool\"},{\"attributes\":{\"plot\":{\"id\":\"0af3afab-4339-4f60-abbb-7938838d6da3\",\"subtype\":\"Figure\",\"type\":\"Plot\"}},\"id\":\"93ca314f-2a52-4a05-9a39-5beadc86a760\",\"type\":\"ResetTool\"},{\"attributes\":{\"plot\":{\"id\":\"eb2ed2ae-c7db-4586-bd59-6b77fce2f46f\",\"subtype\":\"Figure\",\"type\":\"Plot\"}},\"id\":\"8ab41401-c454-4f5b-91ea-e2aa446725e5\",\"type\":\"ResizeTool\"},{\"attributes\":{},\"id\":\"99a20263-ce95-49b9-a4ed-2ae1200555c9\",\"type\":\"BasicTicker\"},{\"attributes\":{},\"id\":\"409d2230-1846-4ec0-a46a-8e991a6a02a2\",\"type\":\"ToolEvents\"},{\"attributes\":{\"below\":[{\"id\":\"4c301ddf-f93a-4121-a38b-90d757511507\",\"type\":\"LinearAxis\"}],\"left\":[{\"id\":\"18c3ddf4-c205-4edb-b644-1910eefb6bdb\",\"type\":\"LinearAxis\"}],\"renderers\":[{\"id\":\"4c301ddf-f93a-4121-a38b-90d757511507\",\"type\":\"LinearAxis\"},{\"id\":\"2f807367-759d-4c95-9952-2dd8b18d3d39\",\"type\":\"Grid\"},{\"id\":\"18c3ddf4-c205-4edb-b644-1910eefb6bdb\",\"type\":\"LinearAxis\"},{\"id\":\"ff33a7f2-d43b-41af-b91d-bbe9ade36ae9\",\"type\":\"Grid\"},{\"id\":\"75513afa-2d3f-45d4-8e5c-79679613cab6\",\"type\":\"BoxAnnotation\"},{\"id\":\"74503e4a-300f-4cd3-af29-6dbb1c3820c0\",\"type\":\"GlyphRenderer\"}],\"title\":\"...\",\"tool_events\":{\"id\":\"409d2230-1846-4ec0-a46a-8e991a6a02a2\",\"type\":\"ToolEvents\"},\"tools\":[{\"id\":\"20be48d4-27d8-41ec-b807-73a5230b6c0b\",\"type\":\"PanTool\"},{\"id\":\"9b25b7db-7eb3-4fcb-a53d-3ac3981f60e5\",\"type\":\"WheelZoomTool\"},{\"id\":\"833f17c3-2742-4124-9a6b-c7bf6a9d60af\",\"type\":\"BoxZoomTool\"},{\"id\":\"f16ed521-180c-482e-a7b4-89d6fb0b0a1f\",\"type\":\"PreviewSaveTool\"},{\"id\":\"20166bba-8e81-4e99-8f56-97565f8db517\",\"type\":\"ResizeTool\"},{\"id\":\"af40b065-0937-42d7-b126-cc91db4367af\",\"type\":\"ResetTool\"},{\"id\":\"a26db03c-998c-4155-8527-f708f6c1f91b\",\"type\":\"HelpTool\"}],\"x_range\":{\"id\":\"28adf044-5c96-45bc-9ab1-ff0471a5b6d3\",\"type\":\"DataRange1d\"},\"y_range\":{\"id\":\"cc5cee7b-067f-4963-997f-73242c7db738\",\"type\":\"DataRange1d\"}},\"id\":\"2bd22feb-e80d-4d9b-8aa4-34a1d95b312f\",\"subtype\":\"Figure\",\"type\":\"Plot\"},{\"attributes\":{\"bottom_units\":\"screen\",\"fill_alpha\":{\"value\":0.5},\"fill_color\":{\"value\":\"lightgrey\"},\"left_units\":\"screen\",\"level\":\"overlay\",\"line_alpha\":{\"value\":1.0},\"line_color\":{\"value\":\"black\"},\"line_dash\":[4,4],\"line_width\":{\"value\":2},\"plot\":null,\"render_mode\":\"css\",\"right_units\":\"screen\",\"top_units\":\"screen\"},\"id\":\"e4dc8cfe-c1e0-4c5d-9dd0-a944b46133a1\",\"type\":\"BoxAnnotation\"},{\"attributes\":{\"plot\":{\"id\":\"35555809-2b8c-403b-9f3e-cd7c20984f30\",\"subtype\":\"Figure\",\"type\":\"Plot\"}},\"id\":\"3f61a6de-2497-4671-8f8b-d18d134c05df\",\"type\":\"ResizeTool\"},{\"attributes\":{},\"id\":\"41adec30-66dc-45ec-8bd4-e2d9024f3991\",\"type\":\"ToolEvents\"},{\"attributes\":{\"axis_label\":\"x\",\"formatter\":{\"id\":\"1055cdb3-249e-45d4-9f43-93342ec735de\",\"type\":\"BasicTickFormatter\"},\"plot\":{\"id\":\"2bd22feb-e80d-4d9b-8aa4-34a1d95b312f\",\"subtype\":\"Figure\",\"type\":\"Plot\"},\"ticker\":{\"id\":\"6a0bd6ca-86c0-4a8c-9a1d-49efd28c1f00\",\"type\":\"BasicTicker\"}},\"id\":\"4c301ddf-f93a-4121-a38b-90d757511507\",\"type\":\"LinearAxis\"},{\"attributes\":{\"callback\":null},\"id\":\"fbe7e309-1db5-4442-80ed-7cd3a403ce44\",\"type\":\"DataRange1d\"},{\"attributes\":{\"below\":[{\"id\":\"65b44d15-fd40-463b-ab9f-4d751aeb7760\",\"type\":\"LinearAxis\"}],\"left\":[{\"id\":\"1c2e0f09-ca89-4da6-9301-50db26d85d24\",\"type\":\"LinearAxis\"}],\"renderers\":[{\"id\":\"65b44d15-fd40-463b-ab9f-4d751aeb7760\",\"type\":\"LinearAxis\"},{\"id\":\"a323214c-9875-48e5-b4cf-a316d2c350df\",\"type\":\"Grid\"},{\"id\":\"1c2e0f09-ca89-4da6-9301-50db26d85d24\",\"type\":\"LinearAxis\"},{\"id\":\"b071a99f-95b0-4c30-b44c-28d8cc707bdb\",\"type\":\"Grid\"},{\"id\":\"05baef77-39d2-4414-8365-7be0d9dbeb2f\",\"type\":\"BoxAnnotation\"}],\"title\":\"...\",\"tool_events\":{\"id\":\"ea4ff64f-fc60-43bf-a9bd-d49abc9b8536\",\"type\":\"ToolEvents\"},\"tools\":[{\"id\":\"576ba762-5bab-49c3-b956-0ec887d43af5\",\"type\":\"PanTool\"},{\"id\":\"33d68040-c019-4f7b-9457-0cc05920cc7e\",\"type\":\"WheelZoomTool\"},{\"id\":\"1954a63f-4a91-4af2-b1ed-927f36fc1806\",\"type\":\"BoxZoomTool\"},{\"id\":\"675eb19f-4902-42db-97a8-dab58530f57b\",\"type\":\"PreviewSaveTool\"},{\"id\":\"d33da74a-f707-4bb5-b1e2-a800e5fcd165\",\"type\":\"ResizeTool\"},{\"id\":\"93ca314f-2a52-4a05-9a39-5beadc86a760\",\"type\":\"ResetTool\"},{\"id\":\"55f9b521-1474-48ce-87cf-4b621d007a93\",\"type\":\"HelpTool\"}],\"x_range\":{\"id\":\"d201ece3-76d0-42d1-9a44-8981d61719b8\",\"type\":\"DataRange1d\"},\"y_range\":{\"id\":\"7ff18dfd-a698-430c-a083-3895135ac697\",\"type\":\"DataRange1d\"}},\"id\":\"0af3afab-4339-4f60-abbb-7938838d6da3\",\"subtype\":\"Figure\",\"type\":\"Plot\"},{\"attributes\":{},\"id\":\"7fff75b7-8847-446a-abc7-baa5ea468636\",\"type\":\"BasicTicker\"},{\"attributes\":{\"axis_label\":\"x\",\"formatter\":{\"id\":\"ac0dcca5-4d06-46ee-8be6-950ab6a6c5a5\",\"type\":\"BasicTickFormatter\"},\"plot\":{\"id\":\"5074032b-a087-4bf2-9030-d771ce3ea291\",\"subtype\":\"Figure\",\"type\":\"Plot\"},\"ticker\":{\"id\":\"7e3db2b3-34ec-4da2-a111-bf48801b9520\",\"type\":\"BasicTicker\"}},\"id\":\"b5f3df44-4bb1-478d-9171-e5b410439ff8\",\"type\":\"LinearAxis\"},{\"attributes\":{},\"id\":\"a792f6fd-00a9-49d6-9449-a344bd2601c5\",\"type\":\"ToolEvents\"},{\"attributes\":{\"axis_label\":\"y\",\"formatter\":{\"id\":\"3dac90e4-1d4d-4107-b597-9b4fd29f666e\",\"type\":\"BasicTickFormatter\"},\"plot\":{\"id\":\"0af3afab-4339-4f60-abbb-7938838d6da3\",\"subtype\":\"Figure\",\"type\":\"Plot\"},\"ticker\":{\"id\":\"7fff75b7-8847-446a-abc7-baa5ea468636\",\"type\":\"BasicTicker\"}},\"id\":\"1c2e0f09-ca89-4da6-9301-50db26d85d24\",\"type\":\"LinearAxis\"},{\"attributes\":{\"bottom_units\":\"screen\",\"fill_alpha\":{\"value\":0.5},\"fill_color\":{\"value\":\"lightgrey\"},\"left_units\":\"screen\",\"level\":\"overlay\",\"line_alpha\":{\"value\":1.0},\"line_color\":{\"value\":\"black\"},\"line_dash\":[4,4],\"line_width\":{\"value\":2},\"plot\":null,\"render_mode\":\"css\",\"right_units\":\"screen\",\"top_units\":\"screen\"},\"id\":\"06e36175-8178-4acf-8924-38a8184dfd82\",\"type\":\"BoxAnnotation\"},{\"attributes\":{\"plot\":{\"id\":\"6d38d003-1d41-42f4-9a1a-aff1d6e20dd9\",\"subtype\":\"Figure\",\"type\":\"Plot\"}},\"id\":\"c82f416a-db1e-464a-8fc0-3c8e4cf704af\",\"type\":\"ResizeTool\"},{\"attributes\":{\"plot\":{\"id\":\"cd2c2f6f-392d-4676-8c8d-beb231b9476f\",\"subtype\":\"Figure\",\"type\":\"Plot\"}},\"id\":\"e2348868-68f4-41f9-a37c-37ccbb5e6930\",\"type\":\"HelpTool\"},{\"attributes\":{\"callback\":null},\"id\":\"19373858-8520-4aba-9505-f28dbe07d3ce\",\"type\":\"DataRange1d\"},{\"attributes\":{\"axis_label\":\"x\",\"formatter\":{\"id\":\"ae076ed9-d038-4122-abb8-04d8c507e96a\",\"type\":\"BasicTickFormatter\"},\"plot\":{\"id\":\"26b14274-243c-4d5c-b2a6-dfc61bd23aa5\",\"subtype\":\"Figure\",\"type\":\"Plot\"},\"ticker\":{\"id\":\"858aae18-fb1e-4998-94c3-ed588a02c4fd\",\"type\":\"BasicTicker\"}},\"id\":\"97f9a0ff-6511-4683-afc7-728bde561a71\",\"type\":\"LinearAxis\"},{\"attributes\":{\"plot\":{\"id\":\"eb2ed2ae-c7db-4586-bd59-6b77fce2f46f\",\"subtype\":\"Figure\",\"type\":\"Plot\"}},\"id\":\"cc80a7bd-2856-4fae-90ea-480a5d0765ae\",\"type\":\"HelpTool\"},{\"attributes\":{},\"id\":\"98b181e8-988e-4ea8-9528-1260bc5ce0fe\",\"type\":\"ToolEvents\"},{\"attributes\":{\"plot\":{\"id\":\"26b14274-243c-4d5c-b2a6-dfc61bd23aa5\",\"subtype\":\"Figure\",\"type\":\"Plot\"}},\"id\":\"f34a4591-8af5-4e18-a853-b9904c17165f\",\"type\":\"PreviewSaveTool\"},{\"attributes\":{\"plot\":{\"id\":\"a17d40ed-dc66-4163-81fa-d38a9240c4a0\",\"subtype\":\"Figure\",\"type\":\"Plot\"}},\"id\":\"902fcb0f-73d9-4440-ab7a-0f59f4beb0b9\",\"type\":\"ResetTool\"},{\"attributes\":{\"plot\":{\"id\":\"a17d40ed-dc66-4163-81fa-d38a9240c4a0\",\"subtype\":\"Figure\",\"type\":\"Plot\"}},\"id\":\"44b75964-60b8-45ae-8a93-28ab80bf1564\",\"type\":\"PreviewSaveTool\"},{\"attributes\":{\"plot\":{\"id\":\"5074032b-a087-4bf2-9030-d771ce3ea291\",\"subtype\":\"Figure\",\"type\":\"Plot\"}},\"id\":\"b50c0607-c180-4739-8bef-eb2526eae18f\",\"type\":\"PanTool\"},{\"attributes\":{},\"id\":\"48a21825-6d9f-45a7-86c5-3c9cdfcbfb81\",\"type\":\"BasicTickFormatter\"},{\"attributes\":{\"bottom_units\":\"screen\",\"fill_alpha\":{\"value\":0.5},\"fill_color\":{\"value\":\"lightgrey\"},\"left_units\":\"screen\",\"level\":\"overlay\",\"line_alpha\":{\"value\":1.0},\"line_color\":{\"value\":\"black\"},\"line_dash\":[4,4],\"line_width\":{\"value\":2},\"plot\":null,\"render_mode\":\"css\",\"right_units\":\"screen\",\"top_units\":\"screen\"},\"id\":\"05baef77-39d2-4414-8365-7be0d9dbeb2f\",\"type\":\"BoxAnnotation\"},{\"attributes\":{\"plot\":{\"id\":\"2bd22feb-e80d-4d9b-8aa4-34a1d95b312f\",\"subtype\":\"Figure\",\"type\":\"Plot\"}},\"id\":\"af40b065-0937-42d7-b126-cc91db4367af\",\"type\":\"ResetTool\"},{\"attributes\":{\"plot\":{\"id\":\"5074032b-a087-4bf2-9030-d771ce3ea291\",\"subtype\":\"Figure\",\"type\":\"Plot\"}},\"id\":\"bd036d29-2723-4111-8580-317c6e261a8f\",\"type\":\"HelpTool\"},{\"attributes\":{\"plot\":{\"id\":\"ff84ddd6-bae0-4e2b-b1be-8fab5838765f\",\"subtype\":\"Figure\",\"type\":\"Plot\"}},\"id\":\"772b7e1c-8a45-40ab-a559-23be2ff00078\",\"type\":\"ResetTool\"},{\"attributes\":{\"plot\":{\"id\":\"0af3afab-4339-4f60-abbb-7938838d6da3\",\"subtype\":\"Figure\",\"type\":\"Plot\"}},\"id\":\"675eb19f-4902-42db-97a8-dab58530f57b\",\"type\":\"PreviewSaveTool\"},{\"attributes\":{\"axis_label\":\"y\",\"formatter\":{\"id\":\"bf98551c-356d-452e-9563-8e5a752425de\",\"type\":\"BasicTickFormatter\"},\"plot\":{\"id\":\"26b14274-243c-4d5c-b2a6-dfc61bd23aa5\",\"subtype\":\"Figure\",\"type\":\"Plot\"},\"ticker\":{\"id\":\"2550c363-9c49-4a3e-aab4-385d59ba83df\",\"type\":\"BasicTicker\"}},\"id\":\"012b5cbe-d151-405e-9ed5-c8e0debc07eb\",\"type\":\"LinearAxis\"},{\"attributes\":{\"dimension\":1,\"plot\":{\"id\":\"a17d40ed-dc66-4163-81fa-d38a9240c4a0\",\"subtype\":\"Figure\",\"type\":\"Plot\"},\"ticker\":{\"id\":\"9b7d5704-a988-4c01-9df8-25cf4fe78303\",\"type\":\"BasicTicker\"}},\"id\":\"26e00367-11e5-4509-b8be-117e8942330f\",\"type\":\"Grid\"},{\"attributes\":{},\"id\":\"acf12f65-f566-426c-b2aa-8f72a068fc59\",\"type\":\"BasicTicker\"},{\"attributes\":{},\"id\":\"d14d88c1-a6e5-432d-b556-f21ed48d9aa6\",\"type\":\"BasicTicker\"},{\"attributes\":{\"axis_label\":\"x\",\"formatter\":{\"id\":\"32f8861a-f067-496b-b2e5-8965b7960240\",\"type\":\"BasicTickFormatter\"},\"plot\":{\"id\":\"ff84ddd6-bae0-4e2b-b1be-8fab5838765f\",\"subtype\":\"Figure\",\"type\":\"Plot\"},\"ticker\":{\"id\":\"2d4fc5ca-8bdb-488a-bc15-1b66fd4732ea\",\"type\":\"BasicTicker\"}},\"id\":\"1da8e12b-8f0a-4b20-a6d3-f1524c828427\",\"type\":\"LinearAxis\"},{\"attributes\":{\"axis_label\":\"y\",\"formatter\":{\"id\":\"0b172434-af27-49f6-be35-147f468ef2a0\",\"type\":\"BasicTickFormatter\"},\"plot\":{\"id\":\"eb2ed2ae-c7db-4586-bd59-6b77fce2f46f\",\"subtype\":\"Figure\",\"type\":\"Plot\"},\"ticker\":{\"id\":\"4f5ba5d6-4d9d-4d60-b441-049eef3b79eb\",\"type\":\"BasicTicker\"}},\"id\":\"c2fdddc9-2ba1-4775-b20d-9d0dd0132e77\",\"type\":\"LinearAxis\"},{\"attributes\":{},\"id\":\"a4fcdc6b-8adb-4c2d-bf7f-b562e1126652\",\"type\":\"BasicTickFormatter\"},{\"attributes\":{\"callback\":null},\"id\":\"ca53484d-12b7-4a62-9d28-cad712b03dd1\",\"type\":\"DataRange1d\"},{\"attributes\":{\"below\":[{\"id\":\"b5f3df44-4bb1-478d-9171-e5b410439ff8\",\"type\":\"LinearAxis\"}],\"left\":[{\"id\":\"9cd2e920-2e00-44c8-becf-4f8e9e403b2f\",\"type\":\"LinearAxis\"}],\"renderers\":[{\"id\":\"b5f3df44-4bb1-478d-9171-e5b410439ff8\",\"type\":\"LinearAxis\"},{\"id\":\"c8e8d9ed-3dee-4af2-a20f-b83e7694594c\",\"type\":\"Grid\"},{\"id\":\"9cd2e920-2e00-44c8-becf-4f8e9e403b2f\",\"type\":\"LinearAxis\"},{\"id\":\"84ce75cc-4a1c-497a-8b97-ec86fbafd542\",\"type\":\"Grid\"},{\"id\":\"e4dc8cfe-c1e0-4c5d-9dd0-a944b46133a1\",\"type\":\"BoxAnnotation\"},{\"id\":\"0027cc7f-f413-4d0a-8d4f-b71786a0fc08\",\"type\":\"GlyphRenderer\"}],\"title\":\"...\",\"tool_events\":{\"id\":\"b6c9541c-59eb-42ca-8345-18a4be06b99b\",\"type\":\"ToolEvents\"},\"tools\":[{\"id\":\"b50c0607-c180-4739-8bef-eb2526eae18f\",\"type\":\"PanTool\"},{\"id\":\"367847be-96be-40ed-8842-87714a7105c8\",\"type\":\"WheelZoomTool\"},{\"id\":\"6e9b95b8-3d22-4af9-8129-105a6d6044a4\",\"type\":\"BoxZoomTool\"},{\"id\":\"fc4cfd47-531d-4542-b37b-63be1e303214\",\"type\":\"PreviewSaveTool\"},{\"id\":\"01060dd2-9cce-45bf-b73e-c6a1e9969e3d\",\"type\":\"ResizeTool\"},{\"id\":\"c4559401-2992-4022-a82d-64e63381fba0\",\"type\":\"ResetTool\"},{\"id\":\"bd036d29-2723-4111-8580-317c6e261a8f\",\"type\":\"HelpTool\"}],\"x_range\":{\"id\":\"19373858-8520-4aba-9505-f28dbe07d3ce\",\"type\":\"DataRange1d\"},\"y_range\":{\"id\":\"3b4f27e7-39d9-4806-b4cc-106034222bca\",\"type\":\"DataRange1d\"}},\"id\":\"5074032b-a087-4bf2-9030-d771ce3ea291\",\"subtype\":\"Figure\",\"type\":\"Plot\"},{\"attributes\":{\"plot\":{\"id\":\"5074032b-a087-4bf2-9030-d771ce3ea291\",\"subtype\":\"Figure\",\"type\":\"Plot\"}},\"id\":\"01060dd2-9cce-45bf-b73e-c6a1e9969e3d\",\"type\":\"ResizeTool\"},{\"attributes\":{},\"id\":\"9602a9b5-33c3-42a4-b699-d80a66d5f5da\",\"type\":\"ToolEvents\"},{\"attributes\":{\"bottom_units\":\"screen\",\"fill_alpha\":{\"value\":0.5},\"fill_color\":{\"value\":\"lightgrey\"},\"left_units\":\"screen\",\"level\":\"overlay\",\"line_alpha\":{\"value\":1.0},\"line_color\":{\"value\":\"black\"},\"line_dash\":[4,4],\"line_width\":{\"value\":2},\"plot\":null,\"render_mode\":\"css\",\"right_units\":\"screen\",\"top_units\":\"screen\"},\"id\":\"69b03b15-b3bc-4273-a591-eb532f0a5dcf\",\"type\":\"BoxAnnotation\"},{\"attributes\":{\"plot\":{\"id\":\"ff84ddd6-bae0-4e2b-b1be-8fab5838765f\",\"subtype\":\"Figure\",\"type\":\"Plot\"}},\"id\":\"a379a866-ff80-49db-baaf-15e9303df097\",\"type\":\"ResizeTool\"},{\"attributes\":{\"plot\":{\"id\":\"2bd22feb-e80d-4d9b-8aa4-34a1d95b312f\",\"subtype\":\"Figure\",\"type\":\"Plot\"}},\"id\":\"20be48d4-27d8-41ec-b807-73a5230b6c0b\",\"type\":\"PanTool\"},{\"attributes\":{\"callback\":null},\"id\":\"28adf044-5c96-45bc-9ab1-ff0471a5b6d3\",\"type\":\"DataRange1d\"},{\"attributes\":{},\"id\":\"aee2ccb8-add8-4b3e-85fb-bd5105259b07\",\"type\":\"BasicTicker\"},{\"attributes\":{\"callback\":null},\"id\":\"82ceae3f-0838-4a39-b173-db7b656f09ac\",\"type\":\"DataRange1d\"},{\"attributes\":{},\"id\":\"f6f061be-c4f1-4663-b7e0-6112666e9daa\",\"type\":\"BasicTicker\"},{\"attributes\":{\"plot\":{\"id\":\"26b14274-243c-4d5c-b2a6-dfc61bd23aa5\",\"subtype\":\"Figure\",\"type\":\"Plot\"}},\"id\":\"29eb253f-a9c7-4334-ae24-c07660e9ed8c\",\"type\":\"ResizeTool\"},{\"attributes\":{\"callback\":null},\"id\":\"3b4f27e7-39d9-4806-b4cc-106034222bca\",\"type\":\"DataRange1d\"},{\"attributes\":{\"plot\":{\"id\":\"2bd22feb-e80d-4d9b-8aa4-34a1d95b312f\",\"subtype\":\"Figure\",\"type\":\"Plot\"}},\"id\":\"f16ed521-180c-482e-a7b4-89d6fb0b0a1f\",\"type\":\"PreviewSaveTool\"},{\"attributes\":{\"plot\":{\"id\":\"6d38d003-1d41-42f4-9a1a-aff1d6e20dd9\",\"subtype\":\"Figure\",\"type\":\"Plot\"}},\"id\":\"cb7bd27d-e397-4c60-8279-02c68cccc514\",\"type\":\"PanTool\"},{\"attributes\":{\"plot\":{\"id\":\"5074032b-a087-4bf2-9030-d771ce3ea291\",\"subtype\":\"Figure\",\"type\":\"Plot\"}},\"id\":\"c4559401-2992-4022-a82d-64e63381fba0\",\"type\":\"ResetTool\"},{\"attributes\":{},\"id\":\"bf98551c-356d-452e-9563-8e5a752425de\",\"type\":\"BasicTickFormatter\"},{\"attributes\":{},\"id\":\"b6c9541c-59eb-42ca-8345-18a4be06b99b\",\"type\":\"ToolEvents\"},{\"attributes\":{},\"id\":\"f2d9b55c-83f1-4cb5-ad06-6aa51f572df6\",\"type\":\"BasicTickFormatter\"},{\"attributes\":{\"plot\":{\"id\":\"0af3afab-4339-4f60-abbb-7938838d6da3\",\"subtype\":\"Figure\",\"type\":\"Plot\"}},\"id\":\"576ba762-5bab-49c3-b956-0ec887d43af5\",\"type\":\"PanTool\"},{\"attributes\":{},\"id\":\"0589a589-7609-4064-8501-7ca80d197253\",\"type\":\"BasicTicker\"},{\"attributes\":{\"plot\":{\"id\":\"26b14274-243c-4d5c-b2a6-dfc61bd23aa5\",\"subtype\":\"Figure\",\"type\":\"Plot\"}},\"id\":\"64ab71cd-3ab4-4595-82c1-a1c2735722d3\",\"type\":\"HelpTool\"},{\"attributes\":{},\"id\":\"7e3db2b3-34ec-4da2-a111-bf48801b9520\",\"type\":\"BasicTicker\"},{\"attributes\":{},\"id\":\"e1d224cd-6e8e-4026-9879-3c8f19c9ade8\",\"type\":\"BasicTickFormatter\"},{\"attributes\":{\"dimension\":1,\"plot\":{\"id\":\"0af3afab-4339-4f60-abbb-7938838d6da3\",\"subtype\":\"Figure\",\"type\":\"Plot\"},\"ticker\":{\"id\":\"7fff75b7-8847-446a-abc7-baa5ea468636\",\"type\":\"BasicTicker\"}},\"id\":\"b071a99f-95b0-4c30-b44c-28d8cc707bdb\",\"type\":\"Grid\"},{\"attributes\":{\"axis_label\":\"y\",\"formatter\":{\"id\":\"5b863151-2692-4708-a9e2-d282e58ed34b\",\"type\":\"BasicTickFormatter\"},\"plot\":{\"id\":\"2bd22feb-e80d-4d9b-8aa4-34a1d95b312f\",\"subtype\":\"Figure\",\"type\":\"Plot\"},\"ticker\":{\"id\":\"a0b649e6-64dd-485f-be85-6b6e869e6db3\",\"type\":\"BasicTicker\"}},\"id\":\"18c3ddf4-c205-4edb-b644-1910eefb6bdb\",\"type\":\"LinearAxis\"},{\"attributes\":{\"bottom_units\":\"screen\",\"fill_alpha\":{\"value\":0.5},\"fill_color\":{\"value\":\"lightgrey\"},\"left_units\":\"screen\",\"level\":\"overlay\",\"line_alpha\":{\"value\":1.0},\"line_color\":{\"value\":\"black\"},\"line_dash\":[4,4],\"line_width\":{\"value\":2},\"plot\":null,\"render_mode\":\"css\",\"right_units\":\"screen\",\"top_units\":\"screen\"},\"id\":\"75513afa-2d3f-45d4-8e5c-79679613cab6\",\"type\":\"BoxAnnotation\"},{\"attributes\":{\"axis_label\":\"x\",\"formatter\":{\"id\":\"f2d9b55c-83f1-4cb5-ad06-6aa51f572df6\",\"type\":\"BasicTickFormatter\"},\"plot\":{\"id\":\"cd2c2f6f-392d-4676-8c8d-beb231b9476f\",\"subtype\":\"Figure\",\"type\":\"Plot\"},\"ticker\":{\"id\":\"0589a589-7609-4064-8501-7ca80d197253\",\"type\":\"BasicTicker\"}},\"id\":\"165880c6-4cb3-46e8-a16c-72056ae86cce\",\"type\":\"LinearAxis\"},{\"attributes\":{\"plot\":{\"id\":\"26b14274-243c-4d5c-b2a6-dfc61bd23aa5\",\"subtype\":\"Figure\",\"type\":\"Plot\"}},\"id\":\"03189520-cd4c-4c6a-a9c1-e78674a95b82\",\"type\":\"PanTool\"},{\"attributes\":{\"overlay\":{\"id\":\"fb4f448c-1d84-49f5-9908-6e33a979cb3e\",\"type\":\"BoxAnnotation\"},\"plot\":{\"id\":\"35555809-2b8c-403b-9f3e-cd7c20984f30\",\"subtype\":\"Figure\",\"type\":\"Plot\"}},\"id\":\"89a1cc0f-adbd-4e57-b710-3d017b831503\",\"type\":\"BoxZoomTool\"},{\"attributes\":{\"axis_label\":\"x\",\"formatter\":{\"id\":\"a7d4a077-beea-4987-b13c-6382bce16c8e\",\"type\":\"BasicTickFormatter\"},\"plot\":{\"id\":\"a17d40ed-dc66-4163-81fa-d38a9240c4a0\",\"subtype\":\"Figure\",\"type\":\"Plot\"},\"ticker\":{\"id\":\"117781f1-2b1a-42fb-b45e-145c9c9b9140\",\"type\":\"BasicTicker\"}},\"id\":\"43d46b8b-f447-428f-a1d1-3911c56e11b6\",\"type\":\"LinearAxis\"},{\"attributes\":{\"callback\":null},\"id\":\"1e23037a-35a9-4e5d-879c-f13a7252484b\",\"type\":\"DataRange1d\"},{\"attributes\":{\"plot\":{\"id\":\"35555809-2b8c-403b-9f3e-cd7c20984f30\",\"subtype\":\"Figure\",\"type\":\"Plot\"}},\"id\":\"482dd468-911a-4701-9345-ba6d83fd52a3\",\"type\":\"ResetTool\"},{\"attributes\":{\"bottom_units\":\"screen\",\"fill_alpha\":{\"value\":0.5},\"fill_color\":{\"value\":\"lightgrey\"},\"left_units\":\"screen\",\"level\":\"overlay\",\"line_alpha\":{\"value\":1.0},\"line_color\":{\"value\":\"black\"},\"line_dash\":[4,4],\"line_width\":{\"value\":2},\"plot\":null,\"render_mode\":\"css\",\"right_units\":\"screen\",\"top_units\":\"screen\"},\"id\":\"ff1a456d-a04c-40ce-8325-30f84eb6385c\",\"type\":\"BoxAnnotation\"}],\"root_ids\":[\"26b14274-243c-4d5c-b2a6-dfc61bd23aa5\",\"5074032b-a087-4bf2-9030-d771ce3ea291\",\"0af3afab-4339-4f60-abbb-7938838d6da3\",\"a17d40ed-dc66-4163-81fa-d38a9240c4a0\",\"35555809-2b8c-403b-9f3e-cd7c20984f30\",\"ff84ddd6-bae0-4e2b-b1be-8fab5838765f\",\"eb2ed2ae-c7db-4586-bd59-6b77fce2f46f\",\"cd2c2f6f-392d-4676-8c8d-beb231b9476f\",\"6d38d003-1d41-42f4-9a1a-aff1d6e20dd9\",\"2bd22feb-e80d-4d9b-8aa4-34a1d95b312f\"]},\"title\":\"Bokeh Application\",\"version\":\"0.11.1\"}};\n",
       "            var render_items = [{\"docid\":\"ec92ef4d-e48a-4d88-a025-e010d28e0bf0\",\"elementid\":\"eabd57b4-fd70-4d2a-8afe-f1a62a2443cb\",\"modelid\":\"2bd22feb-e80d-4d9b-8aa4-34a1d95b312f\",\"notebook_comms_target\":\"659d268a-e6b5-48f4-8d30-3a00eaa8b23d\"}];\n",
       "            \n",
       "            Bokeh.embed.embed_items(docs_json, render_items);\n",
       "        });\n",
       "      },\n",
       "      function(Bokeh) {\n",
       "      }\n",
       "    ];\n",
       "  \n",
       "    function run_inline_js() {\n",
       "      for (var i = 0; i < inline_js.length; i++) {\n",
       "        inline_js[i](window.Bokeh);\n",
       "      }\n",
       "    }\n",
       "  \n",
       "    if (window._bokeh_is_loading === 0) {\n",
       "      console.log(\"Bokeh: BokehJS loaded, going straight to plotting\");\n",
       "      run_inline_js();\n",
       "    } else {\n",
       "      load_libs(js_urls, function() {\n",
       "        console.log(\"Bokeh: BokehJS plotting callback run at\", now());\n",
       "        run_inline_js();\n",
       "      });\n",
       "    }\n",
       "  }(this));\n",
       "</script>"
      ]
     },
     "metadata": {},
     "output_type": "display_data"
    },
    {
     "data": {
      "text/html": [
       "<p><code>&lt;Bokeh Notebook handle for <strong>In[30]</strong>&gt;</code></p>"
      ],
      "text/plain": [
       "<bokeh.io._CommsHandle at 0x11a5e1a50>"
      ]
     },
     "execution_count": 30,
     "metadata": {},
     "output_type": "execute_result"
    }
   ],
   "source": [
    "from bokeh.plotting import figure, show, output_file\n",
    "\n",
    "\n",
    "colormap = {'K0': 'red', 'K1': 'green', 'K2': 'blue'}\n",
    "markermap = {'K0': 'square', 'K1': 'triangle', 'K2': 'circle'}\n",
    "\n",
    "colors = [colormap[x] for x in df['id']]\n",
    "markers = [markermap[x] for x in df['id']]\n",
    "\n",
    "p = figure(title = \"...\")\n",
    "p.xaxis.axis_label = 'x'\n",
    "p.yaxis.axis_label = 'y'\n",
    "\n",
    "p.circle(df[\"x\"], df[\"y\"], color=colors, fill_alpha=0.2, size=10)\n",
    "\n",
    "#p.scatter(df[\"x\"], df[\"y\"], marker=markers, line_color=\"navy\", fill_color=\"orange\", alpha=0.5, fill_alpha=0.2, size=15)\n",
    "\n",
    "show(p)"
   ]
  },
  {
   "cell_type": "code",
   "execution_count": 22,
   "metadata": {
    "collapsed": false
   },
   "outputs": [
    {
     "ename": "TypeError",
     "evalue": "'list' object is not callable",
     "output_type": "error",
     "traceback": [
      "\u001b[0;31m---------------------------------------------------------------------------\u001b[0m",
      "\u001b[0;31mTypeError\u001b[0m                                 Traceback (most recent call last)",
      "\u001b[0;32m<ipython-input-22-e6188a0e3078>\u001b[0m in \u001b[0;36m<module>\u001b[0;34m()\u001b[0m\n\u001b[0;32m----> 1\u001b[0;31m \u001b[0mmarkers\u001b[0m\u001b[0;34m(\u001b[0m\u001b[0;34m)\u001b[0m\u001b[0;34m\u001b[0m\u001b[0m\n\u001b[0m",
      "\u001b[0;31mTypeError\u001b[0m: 'list' object is not callable"
     ]
    }
   ],
   "source": [
    "markers()"
   ]
  },
  {
   "cell_type": "code",
   "execution_count": 23,
   "metadata": {
    "collapsed": true
   },
   "outputs": [],
   "source": [
    "from bokeh.plotting import markers"
   ]
  },
  {
   "cell_type": "code",
   "execution_count": 24,
   "metadata": {
    "collapsed": false
   },
   "outputs": [
    {
     "name": "stdout",
     "output_type": "stream",
     "text": [
      "Available markers: \n",
      " - asterisk\n",
      " - circle\n",
      " - circle_cross\n",
      " - circle_x\n",
      " - cross\n",
      " - diamond\n",
      " - diamond_cross\n",
      " - inverted_triangle\n",
      " - square\n",
      " - square_x\n",
      " - square_cross\n",
      " - triangle\n",
      " - x\n",
      " - *\n",
      " - +\n",
      " - o\n",
      " - ox\n",
      " - o+\n"
     ]
    }
   ],
   "source": [
    "markers()"
   ]
  },
  {
   "cell_type": "code",
   "execution_count": null,
   "metadata": {
    "collapsed": true
   },
   "outputs": [],
   "source": []
  }
 ],
 "metadata": {
  "kernelspec": {
   "display_name": "Python 2",
   "language": "python",
   "name": "python2"
  },
  "language_info": {
   "codemirror_mode": {
    "name": "ipython",
    "version": 2
   },
   "file_extension": ".py",
   "mimetype": "text/x-python",
   "name": "python",
   "nbconvert_exporter": "python",
   "pygments_lexer": "ipython2",
   "version": "2.7.12"
  }
 },
 "nbformat": 4,
 "nbformat_minor": 0
}
