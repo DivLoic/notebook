{
 "cells": [
  {
   "cell_type": "code",
   "execution_count": 1,
   "metadata": {
    "collapsed": true
   },
   "outputs": [],
   "source": [
    "# coding: utf-8"
   ]
  },
  {
   "cell_type": "markdown",
   "metadata": {},
   "source": [
    "### TP - Kafka lab"
   ]
  },
  {
   "cell_type": "code",
   "execution_count": 2,
   "metadata": {
    "collapsed": false
   },
   "outputs": [
    {
     "data": {
      "text/plain": [
       "'\\n    author: Lo\\xc3\\xafc M. DIVAD\\n    date: 2016-10-20\\n    see also: ...\\n'"
      ]
     },
     "execution_count": 2,
     "metadata": {},
     "output_type": "execute_result"
    }
   ],
   "source": [
    "\"\"\"\n",
    "    author: Loïc M. DIVAD\n",
    "    date: 2016-10-20\n",
    "    see also: ...\n",
    "\"\"\""
   ]
  },
  {
   "cell_type": "code",
   "execution_count": 15,
   "metadata": {
    "collapsed": true
   },
   "outputs": [],
   "source": [
    "import os\n",
    "import sys\n",
    "import json\n",
    "import time\n",
    "import logging\n",
    "import urllib3\n",
    "import random\n",
    "import pandas as pd\n",
    "from datetime import datetime\n",
    "from optparse import OptionParser"
   ]
  },
  {
   "cell_type": "code",
   "execution_count": 4,
   "metadata": {
    "collapsed": true
   },
   "outputs": [],
   "source": [
    "\n",
    "# import re"
   ]
  },
  {
   "cell_type": "code",
   "execution_count": 5,
   "metadata": {
    "collapsed": true
   },
   "outputs": [],
   "source": [
    "# path mock\n",
    "class optMock:\n",
    "    def __init__(self):\n",
    "        self.folder = '~/Github/ReportX/TP-kafka/data/'"
   ]
  },
  {
   "cell_type": "code",
   "execution_count": 6,
   "metadata": {
    "collapsed": true
   },
   "outputs": [],
   "source": [
    "# constant\n",
    "METRICS = [\n",
    "    \"date_time\", \n",
    "    \"posa_continent\", \n",
    "    \"srch_destination_type_id\", \n",
    "    \"user_id\", \"is_mobile\", \n",
    "    \"channel\", \"is_booking\"\n",
    "]\n",
    "\n",
    "LOG_FORMAT = '%(asctime)s [ %(levelname)s ] : %(message)s'\n",
    "\n",
    "DATE_FORMAT = '%Y-%m-%d %X'"
   ]
  },
  {
   "cell_type": "code",
   "execution_count": 7,
   "metadata": {
    "collapsed": true
   },
   "outputs": [],
   "source": [
    "# functions\n",
    "\n",
    "def to_date(t, DT=DATE_FORMAT):\n",
    "    return datetime.strptime(y, DATE_FORMAT)\n",
    "\n",
    "def waitingTime(y):\n",
    "    return (y[1] - y[0]) / 1000"
   ]
  },
  {
   "cell_type": "code",
   "execution_count": 8,
   "metadata": {
    "collapsed": false
   },
   "outputs": [],
   "source": [
    "optparser = OptionParser()\n",
    "optparser.add_option(\"-d\", \"--data\", dest=\"folder\", default=\"~/data/\", help=\"path to the file train.csv\")\n",
    "#optparser.add_option(\"-l\", \"--docleft\", dest=\"left\", type=\"int\", help=\"\")\n",
    "\n",
    "if 'ipykernel' not in sys.modules:\n",
    "    options, args = optparser.parse_args()\n",
    "else:\n",
    "    options = optMock()"
   ]
  },
  {
   "cell_type": "code",
   "execution_count": 9,
   "metadata": {
    "collapsed": true
   },
   "outputs": [],
   "source": [
    "# loggin\n",
    "logging.basicConfig(format=LOG_FORMAT)\n",
    "log = logging.getLogger()\n",
    "log.setLevel(logging.INFO)"
   ]
  },
  {
   "cell_type": "code",
   "execution_count": null,
   "metadata": {
    "collapsed": false
   },
   "outputs": [],
   "source": []
  },
  {
   "cell_type": "code",
   "execution_count": 10,
   "metadata": {
    "collapsed": false
   },
   "outputs": [
    {
     "name": "stdout",
     "output_type": "stream",
     "text": [
      "<class 'pandas.tslib.Timestamp'>\n"
     ]
    },
    {
     "name": "stderr",
     "output_type": "stream",
     "text": [
      "/Users/loicmdivad/lmdadm/lib/anaconda/lib/python2.7/site-packages/ipykernel/__main__.py:7: FutureWarning: sort(columns=....) is deprecated, use sort_values(by=.....)\n"
     ]
    }
   ],
   "source": [
    "if __name__ == \"__main__\":\n",
    "    \n",
    "    log.info(\"Loading the dataframe: %s\"%options.folder)\n",
    "    df = pd.DataFrame.from_csv(options.folder + '_train.csv', index_col=None)\n",
    "    \n",
    "    log.info(\"Sorting the dataframe by timestamp\")\n",
    "    df.sort([\"date_time\"], ascending=True, inplace=True)\n",
    "    \n",
    "    log.info(\"Sorting over. droping the index\")\n",
    "    df = df.reset_index(drop=True)\n",
    "    \n",
    "    log.info(\"dtypes date_time -> to datetime.datetime\")\n",
    "    df.date_time = df.date_time.apply(lambda y: datetime.strptime(y, DATE_FORMAT))\n",
    "    \n",
    "    start = df.date_time[0]\n",
    "    print type(start)\n",
    "    log.info(\"First date of logs : %s\"%start)\n",
    "    \n",
    "    df[\"timestamp\"] = df.date_time.apply(lambda y: (y - start).total_seconds())\n",
    "    \n",
    "    df[\"wait\"] = pd.Series.rolling(df.timestamp, window=2).apply(lambda y: (y[1] - y[0]) / 10000 )\n",
    "    \n",
    "    df.wait.fillna(0.0, inplace=True)\n",
    "    "
   ]
  },
  {
   "cell_type": "code",
   "execution_count": 11,
   "metadata": {
    "collapsed": false
   },
   "outputs": [
    {
     "data": {
      "text/html": [
       "<div>\n",
       "<table border=\"1\" class=\"dataframe\">\n",
       "  <thead>\n",
       "    <tr style=\"text-align: right;\">\n",
       "      <th></th>\n",
       "      <th>date_time</th>\n",
       "      <th>timestamp</th>\n",
       "      <th>wait</th>\n",
       "      <th>site_name</th>\n",
       "      <th>posa_continent</th>\n",
       "    </tr>\n",
       "  </thead>\n",
       "  <tbody>\n",
       "    <tr>\n",
       "      <th>0</th>\n",
       "      <td>2013-01-10 18:04:37</td>\n",
       "      <td>0.0</td>\n",
       "      <td>0.0000</td>\n",
       "      <td>37</td>\n",
       "      <td>1</td>\n",
       "    </tr>\n",
       "    <tr>\n",
       "      <th>1</th>\n",
       "      <td>2013-01-10 18:24:37</td>\n",
       "      <td>1200.0</td>\n",
       "      <td>0.1200</td>\n",
       "      <td>37</td>\n",
       "      <td>1</td>\n",
       "    </tr>\n",
       "    <tr>\n",
       "      <th>2</th>\n",
       "      <td>2013-01-10 18:26:40</td>\n",
       "      <td>1323.0</td>\n",
       "      <td>0.0123</td>\n",
       "      <td>37</td>\n",
       "      <td>1</td>\n",
       "    </tr>\n",
       "    <tr>\n",
       "      <th>3</th>\n",
       "      <td>2013-01-10 18:30:08</td>\n",
       "      <td>1531.0</td>\n",
       "      <td>0.0208</td>\n",
       "      <td>37</td>\n",
       "      <td>1</td>\n",
       "    </tr>\n",
       "    <tr>\n",
       "      <th>4</th>\n",
       "      <td>2013-01-10 18:30:27</td>\n",
       "      <td>1550.0</td>\n",
       "      <td>0.0019</td>\n",
       "      <td>37</td>\n",
       "      <td>1</td>\n",
       "    </tr>\n",
       "  </tbody>\n",
       "</table>\n",
       "</div>"
      ],
      "text/plain": [
       "            date_time  timestamp    wait  site_name  posa_continent\n",
       "0 2013-01-10 18:04:37        0.0  0.0000         37               1\n",
       "1 2013-01-10 18:24:37     1200.0  0.1200         37               1\n",
       "2 2013-01-10 18:26:40     1323.0  0.0123         37               1\n",
       "3 2013-01-10 18:30:08     1531.0  0.0208         37               1\n",
       "4 2013-01-10 18:30:27     1550.0  0.0019         37               1"
      ]
     },
     "execution_count": 11,
     "metadata": {},
     "output_type": "execute_result"
    }
   ],
   "source": [
    "#df[[\"date_time\", \"site_name\", \"posa_continent\"]].head()\n",
    "#df[[\"date_time\", \"timestamp\", \"site_name\", \"posa_continent\"]].head()\n",
    "df[[\"date_time\", \"timestamp\", \"wait\", \"site_name\", \"posa_continent\"]].head()"
   ]
  },
  {
   "cell_type": "code",
   "execution_count": 12,
   "metadata": {
    "collapsed": false
   },
   "outputs": [
    {
     "data": {
      "text/plain": [
       "array(['date_time', 'site_name', 'posa_continent', 'user_location_country',\n",
       "       'user_location_region', 'user_location_city',\n",
       "       'orig_destination_distance', 'user_id', 'is_mobile', 'is_package',\n",
       "       'channel', 'srch_ci', 'srch_co', 'srch_adults_cnt',\n",
       "       'srch_children_cnt', 'srch_rm_cnt', 'srch_destination_id',\n",
       "       'srch_destination_type_id', 'is_booking', 'cnt', 'hotel_continent',\n",
       "       'hotel_country', 'hotel_market', 'hotel_cluster', 'timestamp',\n",
       "       'wait'], dtype=object)"
      ]
     },
     "execution_count": 12,
     "metadata": {},
     "output_type": "execute_result"
    }
   ],
   "source": [
    "df.columns.values"
   ]
  },
  {
   "cell_type": "code",
   "execution_count": 13,
   "metadata": {
    "collapsed": false
   },
   "outputs": [
    {
     "data": {
      "text/plain": [
       "array([1, 3, 2, 4])"
      ]
     },
     "execution_count": 13,
     "metadata": {},
     "output_type": "execute_result"
    }
   ],
   "source": [
    "df.posa_continent.unique()"
   ]
  },
  {
   "cell_type": "code",
   "execution_count": 14,
   "metadata": {
    "collapsed": false
   },
   "outputs": [
    {
     "name": "stdout",
     "output_type": "stream",
     "text": [
      "0.0\n",
      "0.12\n",
      "0.0123\n",
      "0.0208\n",
      "0.0019\n",
      "6.7505\n",
      "145.9778\n",
      "0.0048\n",
      "0.0045\n",
      "156.432\n",
      "8.1547\n"
     ]
    },
    {
     "ename": "KeyboardInterrupt",
     "evalue": "",
     "output_type": "error",
     "traceback": [
      "\u001b[0;31m---------------------------------------------------------------------------\u001b[0m",
      "\u001b[0;31mKeyboardInterrupt\u001b[0m                         Traceback (most recent call last)",
      "\u001b[0;32m<ipython-input-14-d7b2952c2eeb>\u001b[0m in \u001b[0;36m<module>\u001b[0;34m()\u001b[0m\n\u001b[1;32m      1\u001b[0m \u001b[0;32mfor\u001b[0m \u001b[0midx\u001b[0m\u001b[0;34m,\u001b[0m \u001b[0mrow\u001b[0m \u001b[0;32min\u001b[0m \u001b[0mdf\u001b[0m\u001b[0;34m.\u001b[0m\u001b[0miterrows\u001b[0m\u001b[0;34m(\u001b[0m\u001b[0;34m)\u001b[0m\u001b[0;34m:\u001b[0m\u001b[0;34m\u001b[0m\u001b[0m\n\u001b[1;32m      2\u001b[0m     \u001b[0;32mprint\u001b[0m \u001b[0mrow\u001b[0m\u001b[0;34m.\u001b[0m\u001b[0mwait\u001b[0m\u001b[0;34m\u001b[0m\u001b[0m\n\u001b[0;32m----> 3\u001b[0;31m     \u001b[0mtime\u001b[0m\u001b[0;34m.\u001b[0m\u001b[0msleep\u001b[0m\u001b[0;34m(\u001b[0m\u001b[0mrow\u001b[0m\u001b[0;34m.\u001b[0m\u001b[0mwait\u001b[0m\u001b[0;34m)\u001b[0m\u001b[0;34m\u001b[0m\u001b[0m\n\u001b[0m\u001b[1;32m      4\u001b[0m     \u001b[0mlog\u001b[0m\u001b[0;34m.\u001b[0m\u001b[0minfo\u001b[0m\u001b[0;34m(\u001b[0m\u001b[0mrow\u001b[0m\u001b[0;34m[\u001b[0m\u001b[0mMETRICS\u001b[0m\u001b[0;34m[\u001b[0m\u001b[0;34m:\u001b[0m\u001b[0;36m2\u001b[0m\u001b[0;34m]\u001b[0m\u001b[0;34m]\u001b[0m\u001b[0;34m.\u001b[0m\u001b[0mto_dict\u001b[0m\u001b[0;34m(\u001b[0m\u001b[0;34m)\u001b[0m\u001b[0;34m)\u001b[0m\u001b[0;34m\u001b[0m\u001b[0m\n\u001b[1;32m      5\u001b[0m     \u001b[0;31m#if idx > 5:\u001b[0m\u001b[0;34m\u001b[0m\u001b[0;34m\u001b[0m\u001b[0m\n",
      "\u001b[0;31mKeyboardInterrupt\u001b[0m: "
     ]
    }
   ],
   "source": [
    "for idx, row in df.iterrows():\n",
    "    print row.wait\n",
    "    time.sleep(row.wait)\n",
    "    log.info(row[METRICS[:2]].to_dict())\n",
    "    #if idx > 5:\n",
    "    #    break"
   ]
  },
  {
   "cell_type": "code",
   "execution_count": 26,
   "metadata": {
    "collapsed": false
   },
   "outputs": [
    {
     "data": {
      "text/plain": [
       "70.63059463199927"
      ]
     },
     "execution_count": 26,
     "metadata": {},
     "output_type": "execute_result"
    }
   ],
   "source": []
  },
  {
   "cell_type": "code",
   "execution_count": null,
   "metadata": {
    "collapsed": true
   },
   "outputs": [],
   "source": []
  }
 ],
 "metadata": {
  "kernelspec": {
   "display_name": "Python 2",
   "language": "python",
   "name": "python2"
  },
  "language_info": {
   "codemirror_mode": {
    "name": "ipython",
    "version": 2
   },
   "file_extension": ".py",
   "mimetype": "text/x-python",
   "name": "python",
   "nbconvert_exporter": "python",
   "pygments_lexer": "ipython2",
   "version": "2.7.12"
  }
 },
 "nbformat": 4,
 "nbformat_minor": 0
}
