{
 "cells": [
  {
   "cell_type": "code",
   "execution_count": 1,
   "metadata": {
    "collapsed": false
   },
   "outputs": [
    {
     "data": {
      "text/plain": [
       "'\\n    author: Lo\\xc3\\xafc M. DIVAD\\n    date: 2016-10-02\\n    see also: http://ergast.com/mrd/\\n'"
      ]
     },
     "execution_count": 1,
     "metadata": {},
     "output_type": "execute_result"
    }
   ],
   "source": [
    "# coding: utf-8\n",
    "\n",
    "\"\"\"\n",
    "    author: Loïc M. DIVAD\n",
    "    date: 2016-10-02\n",
    "    see also: http://ergast.com/mrd/\n",
    "\"\"\""
   ]
  },
  {
   "cell_type": "markdown",
   "metadata": {},
   "source": [
    "## RethinkDB "
   ]
  },
  {
   "cell_type": "code",
   "execution_count": 2,
   "metadata": {
    "collapsed": true
   },
   "outputs": [],
   "source": [
    "import rethinkdb as r"
   ]
  },
  {
   "cell_type": "markdown",
   "metadata": {},
   "source": [
    "### ergast api\n"
   ]
  },
  {
   "cell_type": "code",
   "execution_count": 3,
   "metadata": {
    "collapsed": true
   },
   "outputs": [],
   "source": [
    "import json\n",
    "import urllib3\n",
    "import pandas as pd"
   ]
  },
  {
   "cell_type": "code",
   "execution_count": 4,
   "metadata": {
    "collapsed": true
   },
   "outputs": [],
   "source": [
    "### constants"
   ]
  },
  {
   "cell_type": "code",
   "execution_count": 5,
   "metadata": {
    "collapsed": true
   },
   "outputs": [],
   "source": [
    "API = \"http://ergast.com/api/f1\"\n",
    "HTTP = urllib3.PoolManager()"
   ]
  },
  {
   "cell_type": "code",
   "execution_count": 6,
   "metadata": {
    "collapsed": true
   },
   "outputs": [],
   "source": [
    "### functions"
   ]
  },
  {
   "cell_type": "code",
   "execution_count": 7,
   "metadata": {
    "collapsed": true
   },
   "outputs": [],
   "source": [
    "def f1():\n",
    "    pass"
   ]
  },
  {
   "cell_type": "code",
   "execution_count": 8,
   "metadata": {
    "collapsed": false
   },
   "outputs": [
    {
     "name": "stdout",
     "output_type": "stream",
     "text": [
      "http://ergast.com/api/f1/2001/last\n"
     ]
    }
   ],
   "source": [
    "print \"%s/%s/%s\"%(API,2001,\"last\")\n",
    "res = HTTP.request(\"GET\", \"%s/%s.json\"%(API,2001))\n",
    "f1dict = json.loads(res.data)"
   ]
  },
  {
   "cell_type": "code",
   "execution_count": 9,
   "metadata": {
    "collapsed": false
   },
   "outputs": [
    {
     "data": {
      "text/plain": [
       "[u'xmlns', u'url', u'series', u'limit', u'offset', u'total', u'RaceTable']"
      ]
     },
     "execution_count": 9,
     "metadata": {},
     "output_type": "execute_result"
    }
   ],
   "source": [
    "f1dict[u'MRData'].keys()"
   ]
  },
  {
   "cell_type": "code",
   "execution_count": 10,
   "metadata": {
    "collapsed": false
   },
   "outputs": [
    {
     "data": {
      "text/plain": [
       "[u'url', u'circuitId', u'Location', u'circuitName']"
      ]
     },
     "execution_count": 10,
     "metadata": {},
     "output_type": "execute_result"
    }
   ],
   "source": [
    "f1dict[u'MRData'][u'RaceTable'][u'Races'][0]['Circuit'].keys()"
   ]
  },
  {
   "cell_type": "code",
   "execution_count": 11,
   "metadata": {
    "collapsed": false
   },
   "outputs": [],
   "source": [
    "f1df = pd.DataFrame(f1dict[u'MRData'][u'RaceTable'][u'Races'])"
   ]
  },
  {
   "cell_type": "code",
   "execution_count": 17,
   "metadata": {
    "collapsed": false
   },
   "outputs": [
    {
     "data": {
      "text/html": [
       "<div>\n",
       "<table border=\"1\" class=\"dataframe\">\n",
       "  <thead>\n",
       "    <tr style=\"text-align: right;\">\n",
       "      <th></th>\n",
       "      <th>Circuit</th>\n",
       "      <th>date</th>\n",
       "      <th>raceName</th>\n",
       "      <th>round</th>\n",
       "      <th>season</th>\n",
       "      <th>url</th>\n",
       "    </tr>\n",
       "  </thead>\n",
       "  <tbody>\n",
       "    <tr>\n",
       "      <th>0</th>\n",
       "      <td>{u'url': u'http://en.wikipedia.org/wiki/Melbou...</td>\n",
       "      <td>2001-03-04</td>\n",
       "      <td>Australian Grand Prix</td>\n",
       "      <td>1</td>\n",
       "      <td>2001</td>\n",
       "      <td>http://en.wikipedia.org/wiki/2001_Australian_G...</td>\n",
       "    </tr>\n",
       "    <tr>\n",
       "      <th>1</th>\n",
       "      <td>{u'url': u'http://en.wikipedia.org/wiki/Sepang...</td>\n",
       "      <td>2001-03-18</td>\n",
       "      <td>Malaysian Grand Prix</td>\n",
       "      <td>2</td>\n",
       "      <td>2001</td>\n",
       "      <td>http://en.wikipedia.org/wiki/2001_Malaysian_Gr...</td>\n",
       "    </tr>\n",
       "    <tr>\n",
       "      <th>2</th>\n",
       "      <td>{u'url': u'http://en.wikipedia.org/wiki/Aut%C3...</td>\n",
       "      <td>2001-04-01</td>\n",
       "      <td>Brazilian Grand Prix</td>\n",
       "      <td>3</td>\n",
       "      <td>2001</td>\n",
       "      <td>http://en.wikipedia.org/wiki/2001_Brazilian_Gr...</td>\n",
       "    </tr>\n",
       "    <tr>\n",
       "      <th>3</th>\n",
       "      <td>{u'url': u'http://en.wikipedia.org/wiki/Autodr...</td>\n",
       "      <td>2001-04-15</td>\n",
       "      <td>San Marino Grand Prix</td>\n",
       "      <td>4</td>\n",
       "      <td>2001</td>\n",
       "      <td>http://en.wikipedia.org/wiki/2001_San_Marino_G...</td>\n",
       "    </tr>\n",
       "    <tr>\n",
       "      <th>4</th>\n",
       "      <td>{u'url': u'http://en.wikipedia.org/wiki/Circui...</td>\n",
       "      <td>2001-04-29</td>\n",
       "      <td>Spanish Grand Prix</td>\n",
       "      <td>5</td>\n",
       "      <td>2001</td>\n",
       "      <td>http://en.wikipedia.org/wiki/2001_Spanish_Gran...</td>\n",
       "    </tr>\n",
       "  </tbody>\n",
       "</table>\n",
       "</div>"
      ],
      "text/plain": [
       "                                             Circuit        date  \\\n",
       "0  {u'url': u'http://en.wikipedia.org/wiki/Melbou...  2001-03-04   \n",
       "1  {u'url': u'http://en.wikipedia.org/wiki/Sepang...  2001-03-18   \n",
       "2  {u'url': u'http://en.wikipedia.org/wiki/Aut%C3...  2001-04-01   \n",
       "3  {u'url': u'http://en.wikipedia.org/wiki/Autodr...  2001-04-15   \n",
       "4  {u'url': u'http://en.wikipedia.org/wiki/Circui...  2001-04-29   \n",
       "\n",
       "                raceName round season  \\\n",
       "0  Australian Grand Prix     1   2001   \n",
       "1   Malaysian Grand Prix     2   2001   \n",
       "2   Brazilian Grand Prix     3   2001   \n",
       "3  San Marino Grand Prix     4   2001   \n",
       "4     Spanish Grand Prix     5   2001   \n",
       "\n",
       "                                                 url  \n",
       "0  http://en.wikipedia.org/wiki/2001_Australian_G...  \n",
       "1  http://en.wikipedia.org/wiki/2001_Malaysian_Gr...  \n",
       "2  http://en.wikipedia.org/wiki/2001_Brazilian_Gr...  \n",
       "3  http://en.wikipedia.org/wiki/2001_San_Marino_G...  \n",
       "4  http://en.wikipedia.org/wiki/2001_Spanish_Gran...  "
      ]
     },
     "execution_count": 17,
     "metadata": {},
     "output_type": "execute_result"
    }
   ],
   "source": [
    "f1df.head()"
   ]
  },
  {
   "cell_type": "code",
   "execution_count": 14,
   "metadata": {
    "collapsed": false
   },
   "outputs": [],
   "source": [
    "#map(lambda r: r.keys(), f1df[['Circuit']])"
   ]
  },
  {
   "cell_type": "code",
   "execution_count": 16,
   "metadata": {
    "collapsed": false
   },
   "outputs": [],
   "source": [
    "#f1df[[u'url', u'circuitId', u'Location', u'circuitName']] = f1df['Circuit'].apply(key2cell)"
   ]
  },
  {
   "cell_type": "code",
   "execution_count": 26,
   "metadata": {
    "collapsed": false
   },
   "outputs": [],
   "source": [
    "r.connect('ns370799.ip-91-121-193.eu', 28015).repl()\n",
    "\n",
    "for gp in f1dict[u'MRData'][u'RaceTable'][u'Races']:\n",
    "    r.db('series').table('f1_gp').insert(gp).run()\n"
   ]
  },
  {
   "cell_type": "code",
   "execution_count": null,
   "metadata": {
    "collapsed": true
   },
   "outputs": [],
   "source": []
  }
 ],
 "metadata": {
  "kernelspec": {
   "display_name": "Python 2",
   "language": "python",
   "name": "python2"
  },
  "language_info": {
   "codemirror_mode": {
    "name": "ipython",
    "version": 2
   },
   "file_extension": ".py",
   "mimetype": "text/x-python",
   "name": "python",
   "nbconvert_exporter": "python",
   "pygments_lexer": "ipython2",
   "version": "2.7.12"
  }
 },
 "nbformat": 4,
 "nbformat_minor": 0
}
