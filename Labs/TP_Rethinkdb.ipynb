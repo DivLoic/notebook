{
 "cells": [
  {
   "cell_type": "code",
   "execution_count": 2,
   "metadata": {
    "collapsed": false
   },
   "outputs": [],
   "source": [
    "# coding: utf-8"
   ]
  },
  {
   "cell_type": "raw",
   "metadata": {},
   "source": [
    "\"\"\"\n",
    "    author: Loïc M. DIVAD\n",
    "    date: 2016-10-02\n",
    "    see also: http://ergast.com/mrd/\n",
    "\"\"\""
   ]
  },
  {
   "cell_type": "markdown",
   "metadata": {},
   "source": [
    "## RethinkDB "
   ]
  },
  {
   "cell_type": "code",
   "execution_count": 3,
   "metadata": {
    "collapsed": true
   },
   "outputs": [],
   "source": [
    "import rethinkdb as r"
   ]
  },
  {
   "cell_type": "markdown",
   "metadata": {},
   "source": [
    "### ergast api"
   ]
  },
  {
   "cell_type": "code",
   "execution_count": 4,
   "metadata": {
    "collapsed": true
   },
   "outputs": [],
   "source": [
    "import json\n",
    "import urllib3\n",
    "import pandas as pd"
   ]
  },
  {
   "cell_type": "code",
   "execution_count": 5,
   "metadata": {
    "collapsed": true
   },
   "outputs": [],
   "source": [
    "### constants"
   ]
  },
  {
   "cell_type": "code",
   "execution_count": 6,
   "metadata": {
    "collapsed": true
   },
   "outputs": [],
   "source": [
    "API = \"http://ergast.com/api/f1\"\n",
    "HTTP = urllib3.PoolManager()"
   ]
  },
  {
   "cell_type": "code",
   "execution_count": 7,
   "metadata": {
    "collapsed": true
   },
   "outputs": [],
   "source": [
    "### functions"
   ]
  },
  {
   "cell_type": "code",
   "execution_count": 8,
   "metadata": {
    "collapsed": false
   },
   "outputs": [],
   "source": [
    "def api(*argv):\n",
    "    \"\"\" \"\"\"\n",
    "    url = (\"%s/\"*len(argv))[:-1] + \".json\"\n",
    "    query = url%tuple(argv)\n",
    "    print(query)\n",
    "    return json.loads(HTTP.request(\"GET\", query).data)\n",
    "\n",
    "def f1():\n",
    "    pass"
   ]
  },
  {
   "cell_type": "code",
   "execution_count": 9,
   "metadata": {
    "collapsed": false,
    "scrolled": false
   },
   "outputs": [
    {
     "name": "stdout",
     "output_type": "stream",
     "text": [
      "http://ergast.com/api/f1/2001/last.json\n"
     ]
    },
    {
     "data": {
      "text/plain": [
       "{u'MRData': {u'RaceTable': {u'Races': [{u'Circuit': {u'Location': {u'country': u'Japan',\n",
       "       u'lat': u'34.8431',\n",
       "       u'locality': u'Suzuka',\n",
       "       u'long': u'136.541'},\n",
       "      u'circuitId': u'suzuka',\n",
       "      u'circuitName': u'Suzuka Circuit',\n",
       "      u'url': u'http://en.wikipedia.org/wiki/Suzuka_Circuit'},\n",
       "     u'date': u'2001-10-14',\n",
       "     u'raceName': u'Japanese Grand Prix',\n",
       "     u'round': u'17',\n",
       "     u'season': u'2001',\n",
       "     u'url': u'http://en.wikipedia.org/wiki/2001_Japanese_Grand_Prix'}],\n",
       "   u'round': u'17',\n",
       "   u'season': u'2001'},\n",
       "  u'limit': u'30',\n",
       "  u'offset': u'0',\n",
       "  u'series': u'f1',\n",
       "  u'total': u'1',\n",
       "  u'url': u'http://ergast.com/api/f1/2001/last.json',\n",
       "  u'xmlns': u'http://ergast.com/mrd/1.4'}}"
      ]
     },
     "execution_count": 9,
     "metadata": {},
     "output_type": "execute_result"
    }
   ],
   "source": [
    "api(API,2001,\"last\")"
   ]
  },
  {
   "cell_type": "markdown",
   "metadata": {},
   "source": [
    "### GP Views"
   ]
  },
  {
   "cell_type": "code",
   "execution_count": 10,
   "metadata": {
    "collapsed": false
   },
   "outputs": [
    {
     "name": "stdout",
     "output_type": "stream",
     "text": [
      "http://ergast.com/api/f1/2001.json\n"
     ]
    }
   ],
   "source": [
    "f1dict = api(API,2001)"
   ]
  },
  {
   "cell_type": "code",
   "execution_count": 11,
   "metadata": {
    "collapsed": false
   },
   "outputs": [
    {
     "data": {
      "text/plain": [
       "[u'MRData']"
      ]
     },
     "execution_count": 11,
     "metadata": {},
     "output_type": "execute_result"
    }
   ],
   "source": [
    "f1dict.keys()"
   ]
  },
  {
   "cell_type": "code",
   "execution_count": 12,
   "metadata": {
    "collapsed": false
   },
   "outputs": [
    {
     "data": {
      "text/plain": [
       "[u'xmlns', u'url', u'series', u'limit', u'offset', u'total', u'RaceTable']"
      ]
     },
     "execution_count": 12,
     "metadata": {},
     "output_type": "execute_result"
    }
   ],
   "source": [
    "f1dict[u'MRData'].keys()"
   ]
  },
  {
   "cell_type": "code",
   "execution_count": 13,
   "metadata": {
    "collapsed": false
   },
   "outputs": [
    {
     "data": {
      "text/plain": [
       "u'http://ergast.com/api/f1/2001.json'"
      ]
     },
     "execution_count": 13,
     "metadata": {},
     "output_type": "execute_result"
    }
   ],
   "source": [
    "f1dict[u'MRData'][u'url']"
   ]
  },
  {
   "cell_type": "code",
   "execution_count": 14,
   "metadata": {
    "collapsed": false
   },
   "outputs": [
    {
     "data": {
      "text/plain": [
       "[u'url', u'circuitId', u'Location', u'circuitName']"
      ]
     },
     "execution_count": 14,
     "metadata": {},
     "output_type": "execute_result"
    }
   ],
   "source": [
    "f1dict[u'MRData'][u'RaceTable'][u'Races'][0]['Circuit'].keys()"
   ]
  },
  {
   "cell_type": "code",
   "execution_count": 15,
   "metadata": {
    "collapsed": false
   },
   "outputs": [],
   "source": [
    "f1df = pd.DataFrame(f1dict[u'MRData'][u'RaceTable'][u'Races'])"
   ]
  },
  {
   "cell_type": "code",
   "execution_count": 16,
   "metadata": {
    "collapsed": false
   },
   "outputs": [
    {
     "data": {
      "text/html": [
       "<div>\n",
       "<table border=\"1\" class=\"dataframe\">\n",
       "  <thead>\n",
       "    <tr style=\"text-align: right;\">\n",
       "      <th></th>\n",
       "      <th>Circuit</th>\n",
       "      <th>date</th>\n",
       "      <th>raceName</th>\n",
       "      <th>round</th>\n",
       "      <th>season</th>\n",
       "      <th>url</th>\n",
       "    </tr>\n",
       "  </thead>\n",
       "  <tbody>\n",
       "    <tr>\n",
       "      <th>0</th>\n",
       "      <td>{u'url': u'http://en.wikipedia.org/wiki/Melbou...</td>\n",
       "      <td>2001-03-04</td>\n",
       "      <td>Australian Grand Prix</td>\n",
       "      <td>1</td>\n",
       "      <td>2001</td>\n",
       "      <td>http://en.wikipedia.org/wiki/2001_Australian_G...</td>\n",
       "    </tr>\n",
       "    <tr>\n",
       "      <th>1</th>\n",
       "      <td>{u'url': u'http://en.wikipedia.org/wiki/Sepang...</td>\n",
       "      <td>2001-03-18</td>\n",
       "      <td>Malaysian Grand Prix</td>\n",
       "      <td>2</td>\n",
       "      <td>2001</td>\n",
       "      <td>http://en.wikipedia.org/wiki/2001_Malaysian_Gr...</td>\n",
       "    </tr>\n",
       "    <tr>\n",
       "      <th>2</th>\n",
       "      <td>{u'url': u'http://en.wikipedia.org/wiki/Aut%C3...</td>\n",
       "      <td>2001-04-01</td>\n",
       "      <td>Brazilian Grand Prix</td>\n",
       "      <td>3</td>\n",
       "      <td>2001</td>\n",
       "      <td>http://en.wikipedia.org/wiki/2001_Brazilian_Gr...</td>\n",
       "    </tr>\n",
       "    <tr>\n",
       "      <th>3</th>\n",
       "      <td>{u'url': u'http://en.wikipedia.org/wiki/Autodr...</td>\n",
       "      <td>2001-04-15</td>\n",
       "      <td>San Marino Grand Prix</td>\n",
       "      <td>4</td>\n",
       "      <td>2001</td>\n",
       "      <td>http://en.wikipedia.org/wiki/2001_San_Marino_G...</td>\n",
       "    </tr>\n",
       "    <tr>\n",
       "      <th>4</th>\n",
       "      <td>{u'url': u'http://en.wikipedia.org/wiki/Circui...</td>\n",
       "      <td>2001-04-29</td>\n",
       "      <td>Spanish Grand Prix</td>\n",
       "      <td>5</td>\n",
       "      <td>2001</td>\n",
       "      <td>http://en.wikipedia.org/wiki/2001_Spanish_Gran...</td>\n",
       "    </tr>\n",
       "  </tbody>\n",
       "</table>\n",
       "</div>"
      ],
      "text/plain": [
       "                                             Circuit        date  \\\n",
       "0  {u'url': u'http://en.wikipedia.org/wiki/Melbou...  2001-03-04   \n",
       "1  {u'url': u'http://en.wikipedia.org/wiki/Sepang...  2001-03-18   \n",
       "2  {u'url': u'http://en.wikipedia.org/wiki/Aut%C3...  2001-04-01   \n",
       "3  {u'url': u'http://en.wikipedia.org/wiki/Autodr...  2001-04-15   \n",
       "4  {u'url': u'http://en.wikipedia.org/wiki/Circui...  2001-04-29   \n",
       "\n",
       "                raceName round season  \\\n",
       "0  Australian Grand Prix     1   2001   \n",
       "1   Malaysian Grand Prix     2   2001   \n",
       "2   Brazilian Grand Prix     3   2001   \n",
       "3  San Marino Grand Prix     4   2001   \n",
       "4     Spanish Grand Prix     5   2001   \n",
       "\n",
       "                                                 url  \n",
       "0  http://en.wikipedia.org/wiki/2001_Australian_G...  \n",
       "1  http://en.wikipedia.org/wiki/2001_Malaysian_Gr...  \n",
       "2  http://en.wikipedia.org/wiki/2001_Brazilian_Gr...  \n",
       "3  http://en.wikipedia.org/wiki/2001_San_Marino_G...  \n",
       "4  http://en.wikipedia.org/wiki/2001_Spanish_Gran...  "
      ]
     },
     "execution_count": 16,
     "metadata": {},
     "output_type": "execute_result"
    }
   ],
   "source": [
    "f1df.head()"
   ]
  },
  {
   "cell_type": "code",
   "execution_count": 17,
   "metadata": {
    "collapsed": false
   },
   "outputs": [
    {
     "data": {
      "text/plain": [
       "u'http://en.wikipedia.org/wiki/2001_Australian_Grand_Prix'"
      ]
     },
     "execution_count": 17,
     "metadata": {},
     "output_type": "execute_result"
    }
   ],
   "source": [
    "f1df.url[0]"
   ]
  },
  {
   "cell_type": "code",
   "execution_count": 18,
   "metadata": {
    "collapsed": false
   },
   "outputs": [],
   "source": [
    "circuits = f1df.Circuit"
   ]
  },
  {
   "cell_type": "code",
   "execution_count": 19,
   "metadata": {
    "collapsed": false
   },
   "outputs": [
    {
     "data": {
      "text/plain": [
       "{u'Location': {u'country': u'Australia',\n",
       "  u'lat': u'-37.8497',\n",
       "  u'locality': u'Melbourne',\n",
       "  u'long': u'144.968'},\n",
       " u'circuitId': u'albert_park',\n",
       " u'circuitName': u'Albert Park Grand Prix Circuit',\n",
       " u'url': u'http://en.wikipedia.org/wiki/Melbourne_Grand_Prix_Circuit'}"
      ]
     },
     "execution_count": 19,
     "metadata": {},
     "output_type": "execute_result"
    }
   ],
   "source": [
    "circuits[0]"
   ]
  },
  {
   "cell_type": "markdown",
   "metadata": {
    "collapsed": false
   },
   "source": [
    "### Driver view"
   ]
  },
  {
   "cell_type": "code",
   "execution_count": 20,
   "metadata": {
    "collapsed": false
   },
   "outputs": [
    {
     "name": "stdout",
     "output_type": "stream",
     "text": [
      "http://ergast.com/api/f1/drivers.json\n"
     ]
    }
   ],
   "source": [
    "driverdict = api(API, \"drivers\")"
   ]
  },
  {
   "cell_type": "code",
   "execution_count": 21,
   "metadata": {
    "collapsed": false
   },
   "outputs": [
    {
     "data": {
      "text/plain": [
       "[u'xmlns', u'url', u'series', u'limit', u'offset', u'total', u'DriverTable']"
      ]
     },
     "execution_count": 21,
     "metadata": {},
     "output_type": "execute_result"
    }
   ],
   "source": [
    "driverdict['MRData'].keys()"
   ]
  },
  {
   "cell_type": "code",
   "execution_count": 22,
   "metadata": {
    "collapsed": false,
    "scrolled": false
   },
   "outputs": [
    {
     "data": {
      "text/html": [
       "<div>\n",
       "<table border=\"1\" class=\"dataframe\">\n",
       "  <thead>\n",
       "    <tr style=\"text-align: right;\">\n",
       "      <th></th>\n",
       "      <th>code</th>\n",
       "      <th>dateOfBirth</th>\n",
       "      <th>driverId</th>\n",
       "      <th>familyName</th>\n",
       "      <th>givenName</th>\n",
       "      <th>nationality</th>\n",
       "      <th>permanentNumber</th>\n",
       "      <th>url</th>\n",
       "    </tr>\n",
       "  </thead>\n",
       "  <tbody>\n",
       "    <tr>\n",
       "      <th>0</th>\n",
       "      <td>NaN</td>\n",
       "      <td>1932-07-10</td>\n",
       "      <td>abate</td>\n",
       "      <td>Abate</td>\n",
       "      <td>Carlo</td>\n",
       "      <td>Italian</td>\n",
       "      <td>NaN</td>\n",
       "      <td>http://en.wikipedia.org/wiki/Carlo_Mario_Abate</td>\n",
       "    </tr>\n",
       "    <tr>\n",
       "      <th>1</th>\n",
       "      <td>NaN</td>\n",
       "      <td>1913-03-21</td>\n",
       "      <td>abecassis</td>\n",
       "      <td>Abecassis</td>\n",
       "      <td>George</td>\n",
       "      <td>British</td>\n",
       "      <td>NaN</td>\n",
       "      <td>http://en.wikipedia.org/wiki/George_Abecassis</td>\n",
       "    </tr>\n",
       "    <tr>\n",
       "      <th>2</th>\n",
       "      <td>NaN</td>\n",
       "      <td>1957-11-27</td>\n",
       "      <td>acheson</td>\n",
       "      <td>Acheson</td>\n",
       "      <td>Kenny</td>\n",
       "      <td>British</td>\n",
       "      <td>NaN</td>\n",
       "      <td>http://en.wikipedia.org/wiki/Kenny_Acheson</td>\n",
       "    </tr>\n",
       "    <tr>\n",
       "      <th>3</th>\n",
       "      <td>NaN</td>\n",
       "      <td>1960-11-19</td>\n",
       "      <td>adams</td>\n",
       "      <td>Adams</td>\n",
       "      <td>Philippe</td>\n",
       "      <td>Belgian</td>\n",
       "      <td>NaN</td>\n",
       "      <td>http://en.wikipedia.org/wiki/Philippe_Adams</td>\n",
       "    </tr>\n",
       "    <tr>\n",
       "      <th>4</th>\n",
       "      <td>NaN</td>\n",
       "      <td>1912-12-15</td>\n",
       "      <td>ader</td>\n",
       "      <td>Ader</td>\n",
       "      <td>Walt</td>\n",
       "      <td>American</td>\n",
       "      <td>NaN</td>\n",
       "      <td>http://en.wikipedia.org/wiki/Walt_Ader</td>\n",
       "    </tr>\n",
       "    <tr>\n",
       "      <th>5</th>\n",
       "      <td>NaN</td>\n",
       "      <td>1921-11-05</td>\n",
       "      <td>adolff</td>\n",
       "      <td>Adolff</td>\n",
       "      <td>Kurt</td>\n",
       "      <td>German</td>\n",
       "      <td>NaN</td>\n",
       "      <td>http://en.wikipedia.org/wiki/Kurt_Adolff</td>\n",
       "    </tr>\n",
       "    <tr>\n",
       "      <th>6</th>\n",
       "      <td>NaN</td>\n",
       "      <td>1913-08-21</td>\n",
       "      <td>agabashian</td>\n",
       "      <td>Agabashian</td>\n",
       "      <td>Fred</td>\n",
       "      <td>American</td>\n",
       "      <td>NaN</td>\n",
       "      <td>http://en.wikipedia.org/wiki/Fred_Agabashian</td>\n",
       "    </tr>\n",
       "    <tr>\n",
       "      <th>7</th>\n",
       "      <td>NaN</td>\n",
       "      <td>1940-04-19</td>\n",
       "      <td>ahrens</td>\n",
       "      <td>Ahrens</td>\n",
       "      <td>Kurt</td>\n",
       "      <td>German</td>\n",
       "      <td>NaN</td>\n",
       "      <td>http://en.wikipedia.org/wiki/Kurt_Ahrens,_Jr.</td>\n",
       "    </tr>\n",
       "    <tr>\n",
       "      <th>8</th>\n",
       "      <td>ALB</td>\n",
       "      <td>1979-04-16</td>\n",
       "      <td>albers</td>\n",
       "      <td>Albers</td>\n",
       "      <td>Christijan</td>\n",
       "      <td>Dutch</td>\n",
       "      <td>NaN</td>\n",
       "      <td>http://en.wikipedia.org/wiki/Christijan_Albers</td>\n",
       "    </tr>\n",
       "    <tr>\n",
       "      <th>9</th>\n",
       "      <td>NaN</td>\n",
       "      <td>1956-12-23</td>\n",
       "      <td>alboreto</td>\n",
       "      <td>Alboreto</td>\n",
       "      <td>Michele</td>\n",
       "      <td>Italian</td>\n",
       "      <td>NaN</td>\n",
       "      <td>http://en.wikipedia.org/wiki/Michele_Alboreto</td>\n",
       "    </tr>\n",
       "    <tr>\n",
       "      <th>10</th>\n",
       "      <td>NaN</td>\n",
       "      <td>1964-06-11</td>\n",
       "      <td>alesi</td>\n",
       "      <td>Alesi</td>\n",
       "      <td>Jean</td>\n",
       "      <td>French</td>\n",
       "      <td>NaN</td>\n",
       "      <td>http://en.wikipedia.org/wiki/Jean_Alesi</td>\n",
       "    </tr>\n",
       "    <tr>\n",
       "      <th>11</th>\n",
       "      <td>ALG</td>\n",
       "      <td>1990-03-23</td>\n",
       "      <td>alguersuari</td>\n",
       "      <td>Alguersuari</td>\n",
       "      <td>Jaime</td>\n",
       "      <td>Spanish</td>\n",
       "      <td>NaN</td>\n",
       "      <td>http://en.wikipedia.org/wiki/Jaime_Alguersuari</td>\n",
       "    </tr>\n",
       "    <tr>\n",
       "      <th>12</th>\n",
       "      <td>NaN</td>\n",
       "      <td>1954-07-27</td>\n",
       "      <td>alliot</td>\n",
       "      <td>Alliot</td>\n",
       "      <td>Philippe</td>\n",
       "      <td>French</td>\n",
       "      <td>NaN</td>\n",
       "      <td>http://en.wikipedia.org/wiki/Philippe_Alliot</td>\n",
       "    </tr>\n",
       "    <tr>\n",
       "      <th>13</th>\n",
       "      <td>NaN</td>\n",
       "      <td>1932-02-08</td>\n",
       "      <td>allison</td>\n",
       "      <td>Allison</td>\n",
       "      <td>Cliff</td>\n",
       "      <td>British</td>\n",
       "      <td>NaN</td>\n",
       "      <td>http://en.wikipedia.org/wiki/Cliff_Allison</td>\n",
       "    </tr>\n",
       "    <tr>\n",
       "      <th>14</th>\n",
       "      <td>ALO</td>\n",
       "      <td>1981-07-29</td>\n",
       "      <td>alonso</td>\n",
       "      <td>Alonso</td>\n",
       "      <td>Fernando</td>\n",
       "      <td>Spanish</td>\n",
       "      <td>14</td>\n",
       "      <td>http://en.wikipedia.org/wiki/Fernando_Alonso</td>\n",
       "    </tr>\n",
       "    <tr>\n",
       "      <th>15</th>\n",
       "      <td>NaN</td>\n",
       "      <td>1962-07-20</td>\n",
       "      <td>amati</td>\n",
       "      <td>Amati</td>\n",
       "      <td>Giovanna</td>\n",
       "      <td>Italian</td>\n",
       "      <td>NaN</td>\n",
       "      <td>http://en.wikipedia.org/wiki/Giovanna_Amati</td>\n",
       "    </tr>\n",
       "    <tr>\n",
       "      <th>16</th>\n",
       "      <td>NaN</td>\n",
       "      <td>1929-01-19</td>\n",
       "      <td>amick</td>\n",
       "      <td>Amick</td>\n",
       "      <td>Red</td>\n",
       "      <td>American</td>\n",
       "      <td>NaN</td>\n",
       "      <td>http://en.wikipedia.org/wiki/Red_Amick</td>\n",
       "    </tr>\n",
       "    <tr>\n",
       "      <th>17</th>\n",
       "      <td>NaN</td>\n",
       "      <td>1924-10-24</td>\n",
       "      <td>george_amick</td>\n",
       "      <td>Amick</td>\n",
       "      <td>George</td>\n",
       "      <td>American</td>\n",
       "      <td>NaN</td>\n",
       "      <td>http://en.wikipedia.org/wiki/George_Amick</td>\n",
       "    </tr>\n",
       "    <tr>\n",
       "      <th>18</th>\n",
       "      <td>NaN</td>\n",
       "      <td>1943-07-20</td>\n",
       "      <td>amon</td>\n",
       "      <td>Amon</td>\n",
       "      <td>Chris</td>\n",
       "      <td>New Zealander</td>\n",
       "      <td>NaN</td>\n",
       "      <td>http://en.wikipedia.org/wiki/Chris_Amon</td>\n",
       "    </tr>\n",
       "    <tr>\n",
       "      <th>19</th>\n",
       "      <td>NaN</td>\n",
       "      <td>1931-05-19</td>\n",
       "      <td>anderson</td>\n",
       "      <td>Anderson</td>\n",
       "      <td>Bob</td>\n",
       "      <td>British</td>\n",
       "      <td>NaN</td>\n",
       "      <td>http://en.wikipedia.org/wiki/Bob_Anderson_(rac...</td>\n",
       "    </tr>\n",
       "    <tr>\n",
       "      <th>20</th>\n",
       "      <td>NaN</td>\n",
       "      <td>1939-12-28</td>\n",
       "      <td>andersson</td>\n",
       "      <td>Andersson</td>\n",
       "      <td>Conny</td>\n",
       "      <td>Swedish</td>\n",
       "      <td>NaN</td>\n",
       "      <td>http://en.wikipedia.org/wiki/Conny_Andersson</td>\n",
       "    </tr>\n",
       "    <tr>\n",
       "      <th>21</th>\n",
       "      <td>NaN</td>\n",
       "      <td>1962-10-02</td>\n",
       "      <td>andretti</td>\n",
       "      <td>Andretti</td>\n",
       "      <td>Michael</td>\n",
       "      <td>American</td>\n",
       "      <td>NaN</td>\n",
       "      <td>http://en.wikipedia.org/wiki/Michael_Andretti</td>\n",
       "    </tr>\n",
       "    <tr>\n",
       "      <th>22</th>\n",
       "      <td>NaN</td>\n",
       "      <td>1940-02-28</td>\n",
       "      <td>mario_andretti</td>\n",
       "      <td>Andretti</td>\n",
       "      <td>Mario</td>\n",
       "      <td>American</td>\n",
       "      <td>NaN</td>\n",
       "      <td>http://en.wikipedia.org/wiki/Mario_Andretti</td>\n",
       "    </tr>\n",
       "    <tr>\n",
       "      <th>23</th>\n",
       "      <td>NaN</td>\n",
       "      <td>1920-06-15</td>\n",
       "      <td>andrews</td>\n",
       "      <td>Andrews</td>\n",
       "      <td>Keith</td>\n",
       "      <td>American</td>\n",
       "      <td>NaN</td>\n",
       "      <td>http://en.wikipedia.org/wiki/Keith_Andrews_(dr...</td>\n",
       "    </tr>\n",
       "    <tr>\n",
       "      <th>24</th>\n",
       "      <td>NaN</td>\n",
       "      <td>1965-10-07</td>\n",
       "      <td>apicella</td>\n",
       "      <td>Apicella</td>\n",
       "      <td>Marco</td>\n",
       "      <td>Italian</td>\n",
       "      <td>NaN</td>\n",
       "      <td>http://en.wikipedia.org/wiki/Marco_Apicella</td>\n",
       "    </tr>\n",
       "    <tr>\n",
       "      <th>25</th>\n",
       "      <td>NaN</td>\n",
       "      <td>1918-10-12</td>\n",
       "      <td>armi</td>\n",
       "      <td>Armi</td>\n",
       "      <td>Frank</td>\n",
       "      <td>American</td>\n",
       "      <td>NaN</td>\n",
       "      <td>http://en.wikipedia.org/wiki/Frank_Armi</td>\n",
       "    </tr>\n",
       "    <tr>\n",
       "      <th>26</th>\n",
       "      <td>NaN</td>\n",
       "      <td>1926-05-30</td>\n",
       "      <td>arnold</td>\n",
       "      <td>Arnold</td>\n",
       "      <td>Chuck</td>\n",
       "      <td>American</td>\n",
       "      <td>NaN</td>\n",
       "      <td>http://en.wikipedia.org/wiki/Chuck_Arnold</td>\n",
       "    </tr>\n",
       "    <tr>\n",
       "      <th>27</th>\n",
       "      <td>NaN</td>\n",
       "      <td>1948-07-04</td>\n",
       "      <td>arnoux</td>\n",
       "      <td>Arnoux</td>\n",
       "      <td>René</td>\n",
       "      <td>French</td>\n",
       "      <td>NaN</td>\n",
       "      <td>http://en.wikipedia.org/wiki/Ren%C3%A9_Arnoux</td>\n",
       "    </tr>\n",
       "    <tr>\n",
       "      <th>28</th>\n",
       "      <td>NaN</td>\n",
       "      <td>1933-11-08</td>\n",
       "      <td>arundell</td>\n",
       "      <td>Arundell</td>\n",
       "      <td>Peter</td>\n",
       "      <td>British</td>\n",
       "      <td>NaN</td>\n",
       "      <td>http://en.wikipedia.org/wiki/Peter_Arundell</td>\n",
       "    </tr>\n",
       "    <tr>\n",
       "      <th>29</th>\n",
       "      <td>NaN</td>\n",
       "      <td>1918-07-13</td>\n",
       "      <td>ascari</td>\n",
       "      <td>Ascari</td>\n",
       "      <td>Alberto</td>\n",
       "      <td>Italian</td>\n",
       "      <td>NaN</td>\n",
       "      <td>http://en.wikipedia.org/wiki/Alberto_Ascari</td>\n",
       "    </tr>\n",
       "  </tbody>\n",
       "</table>\n",
       "</div>"
      ],
      "text/plain": [
       "   code dateOfBirth        driverId   familyName   givenName    nationality  \\\n",
       "0   NaN  1932-07-10           abate        Abate       Carlo        Italian   \n",
       "1   NaN  1913-03-21       abecassis    Abecassis      George        British   \n",
       "2   NaN  1957-11-27         acheson      Acheson       Kenny        British   \n",
       "3   NaN  1960-11-19           adams        Adams    Philippe        Belgian   \n",
       "4   NaN  1912-12-15            ader         Ader        Walt       American   \n",
       "5   NaN  1921-11-05          adolff       Adolff        Kurt         German   \n",
       "6   NaN  1913-08-21      agabashian   Agabashian        Fred       American   \n",
       "7   NaN  1940-04-19          ahrens       Ahrens        Kurt         German   \n",
       "8   ALB  1979-04-16          albers       Albers  Christijan          Dutch   \n",
       "9   NaN  1956-12-23        alboreto     Alboreto     Michele        Italian   \n",
       "10  NaN  1964-06-11           alesi        Alesi        Jean         French   \n",
       "11  ALG  1990-03-23     alguersuari  Alguersuari       Jaime        Spanish   \n",
       "12  NaN  1954-07-27          alliot       Alliot    Philippe         French   \n",
       "13  NaN  1932-02-08         allison      Allison       Cliff        British   \n",
       "14  ALO  1981-07-29          alonso       Alonso    Fernando        Spanish   \n",
       "15  NaN  1962-07-20           amati        Amati    Giovanna        Italian   \n",
       "16  NaN  1929-01-19           amick        Amick         Red       American   \n",
       "17  NaN  1924-10-24    george_amick        Amick      George       American   \n",
       "18  NaN  1943-07-20            amon         Amon       Chris  New Zealander   \n",
       "19  NaN  1931-05-19        anderson     Anderson         Bob        British   \n",
       "20  NaN  1939-12-28       andersson    Andersson       Conny        Swedish   \n",
       "21  NaN  1962-10-02        andretti     Andretti     Michael       American   \n",
       "22  NaN  1940-02-28  mario_andretti     Andretti       Mario       American   \n",
       "23  NaN  1920-06-15         andrews      Andrews       Keith       American   \n",
       "24  NaN  1965-10-07        apicella     Apicella       Marco        Italian   \n",
       "25  NaN  1918-10-12            armi         Armi       Frank       American   \n",
       "26  NaN  1926-05-30          arnold       Arnold       Chuck       American   \n",
       "27  NaN  1948-07-04          arnoux       Arnoux        René         French   \n",
       "28  NaN  1933-11-08        arundell     Arundell       Peter        British   \n",
       "29  NaN  1918-07-13          ascari       Ascari     Alberto        Italian   \n",
       "\n",
       "   permanentNumber                                                url  \n",
       "0              NaN     http://en.wikipedia.org/wiki/Carlo_Mario_Abate  \n",
       "1              NaN      http://en.wikipedia.org/wiki/George_Abecassis  \n",
       "2              NaN         http://en.wikipedia.org/wiki/Kenny_Acheson  \n",
       "3              NaN        http://en.wikipedia.org/wiki/Philippe_Adams  \n",
       "4              NaN             http://en.wikipedia.org/wiki/Walt_Ader  \n",
       "5              NaN           http://en.wikipedia.org/wiki/Kurt_Adolff  \n",
       "6              NaN       http://en.wikipedia.org/wiki/Fred_Agabashian  \n",
       "7              NaN      http://en.wikipedia.org/wiki/Kurt_Ahrens,_Jr.  \n",
       "8              NaN     http://en.wikipedia.org/wiki/Christijan_Albers  \n",
       "9              NaN      http://en.wikipedia.org/wiki/Michele_Alboreto  \n",
       "10             NaN            http://en.wikipedia.org/wiki/Jean_Alesi  \n",
       "11             NaN     http://en.wikipedia.org/wiki/Jaime_Alguersuari  \n",
       "12             NaN       http://en.wikipedia.org/wiki/Philippe_Alliot  \n",
       "13             NaN         http://en.wikipedia.org/wiki/Cliff_Allison  \n",
       "14              14       http://en.wikipedia.org/wiki/Fernando_Alonso  \n",
       "15             NaN        http://en.wikipedia.org/wiki/Giovanna_Amati  \n",
       "16             NaN             http://en.wikipedia.org/wiki/Red_Amick  \n",
       "17             NaN          http://en.wikipedia.org/wiki/George_Amick  \n",
       "18             NaN            http://en.wikipedia.org/wiki/Chris_Amon  \n",
       "19             NaN  http://en.wikipedia.org/wiki/Bob_Anderson_(rac...  \n",
       "20             NaN       http://en.wikipedia.org/wiki/Conny_Andersson  \n",
       "21             NaN      http://en.wikipedia.org/wiki/Michael_Andretti  \n",
       "22             NaN        http://en.wikipedia.org/wiki/Mario_Andretti  \n",
       "23             NaN  http://en.wikipedia.org/wiki/Keith_Andrews_(dr...  \n",
       "24             NaN        http://en.wikipedia.org/wiki/Marco_Apicella  \n",
       "25             NaN            http://en.wikipedia.org/wiki/Frank_Armi  \n",
       "26             NaN          http://en.wikipedia.org/wiki/Chuck_Arnold  \n",
       "27             NaN      http://en.wikipedia.org/wiki/Ren%C3%A9_Arnoux  \n",
       "28             NaN        http://en.wikipedia.org/wiki/Peter_Arundell  \n",
       "29             NaN        http://en.wikipedia.org/wiki/Alberto_Ascari  "
      ]
     },
     "execution_count": 22,
     "metadata": {},
     "output_type": "execute_result"
    }
   ],
   "source": [
    "pd.DataFrame(driverdict['MRData']['DriverTable']['Drivers'])#.head()"
   ]
  },
  {
   "cell_type": "code",
   "execution_count": 23,
   "metadata": {
    "collapsed": false,
    "scrolled": true
   },
   "outputs": [
    {
     "name": "stdout",
     "output_type": "stream",
     "text": [
      "http://ergast.com/api/f1/2016/driverStandings.json\n"
     ]
    }
   ],
   "source": [
    "standing = api(API, 2016, \"driverStandings\")"
   ]
  },
  {
   "cell_type": "code",
   "execution_count": 28,
   "metadata": {
    "collapsed": false
   },
   "outputs": [
    {
     "data": {
      "text/html": [
       "<div>\n",
       "<table border=\"1\" class=\"dataframe\">\n",
       "  <thead>\n",
       "    <tr style=\"text-align: right;\">\n",
       "      <th></th>\n",
       "      <th>Constructors</th>\n",
       "      <th>Driver</th>\n",
       "      <th>points</th>\n",
       "      <th>position</th>\n",
       "      <th>positionText</th>\n",
       "      <th>wins</th>\n",
       "    </tr>\n",
       "  </thead>\n",
       "  <tbody>\n",
       "    <tr>\n",
       "      <th>0</th>\n",
       "      <td>[{u'url': u'http://en.wikipedia.org/wiki/Merce...</td>\n",
       "      <td>{u'code': u'ROS', u'url': u'http://en.wikipedi...</td>\n",
       "      <td>385</td>\n",
       "      <td>1</td>\n",
       "      <td>1</td>\n",
       "      <td>9</td>\n",
       "    </tr>\n",
       "    <tr>\n",
       "      <th>1</th>\n",
       "      <td>[{u'url': u'http://en.wikipedia.org/wiki/Merce...</td>\n",
       "      <td>{u'code': u'HAM', u'url': u'http://en.wikipedi...</td>\n",
       "      <td>380</td>\n",
       "      <td>2</td>\n",
       "      <td>2</td>\n",
       "      <td>10</td>\n",
       "    </tr>\n",
       "    <tr>\n",
       "      <th>2</th>\n",
       "      <td>[{u'url': u'http://en.wikipedia.org/wiki/Red_B...</td>\n",
       "      <td>{u'code': u'RIC', u'url': u'http://en.wikipedi...</td>\n",
       "      <td>256</td>\n",
       "      <td>3</td>\n",
       "      <td>3</td>\n",
       "      <td>1</td>\n",
       "    </tr>\n",
       "    <tr>\n",
       "      <th>3</th>\n",
       "      <td>[{u'url': u'http://en.wikipedia.org/wiki/Scude...</td>\n",
       "      <td>{u'code': u'VET', u'url': u'http://en.wikipedi...</td>\n",
       "      <td>212</td>\n",
       "      <td>4</td>\n",
       "      <td>4</td>\n",
       "      <td>0</td>\n",
       "    </tr>\n",
       "    <tr>\n",
       "      <th>4</th>\n",
       "      <td>[{u'url': u'http://en.wikipedia.org/wiki/Scude...</td>\n",
       "      <td>{u'code': u'VES', u'url': u'http://en.wikipedi...</td>\n",
       "      <td>204</td>\n",
       "      <td>5</td>\n",
       "      <td>5</td>\n",
       "      <td>1</td>\n",
       "    </tr>\n",
       "    <tr>\n",
       "      <th>5</th>\n",
       "      <td>[{u'url': u'http://en.wikipedia.org/wiki/Scude...</td>\n",
       "      <td>{u'code': u'RAI', u'url': u'http://en.wikipedi...</td>\n",
       "      <td>186</td>\n",
       "      <td>6</td>\n",
       "      <td>6</td>\n",
       "      <td>0</td>\n",
       "    </tr>\n",
       "    <tr>\n",
       "      <th>6</th>\n",
       "      <td>[{u'url': u'http://en.wikipedia.org/wiki/Force...</td>\n",
       "      <td>{u'code': u'PER', u'url': u'http://en.wikipedi...</td>\n",
       "      <td>101</td>\n",
       "      <td>7</td>\n",
       "      <td>7</td>\n",
       "      <td>0</td>\n",
       "    </tr>\n",
       "    <tr>\n",
       "      <th>7</th>\n",
       "      <td>[{u'url': u'http://en.wikipedia.org/wiki/Willi...</td>\n",
       "      <td>{u'code': u'BOT', u'url': u'http://en.wikipedi...</td>\n",
       "      <td>85</td>\n",
       "      <td>8</td>\n",
       "      <td>8</td>\n",
       "      <td>0</td>\n",
       "    </tr>\n",
       "    <tr>\n",
       "      <th>8</th>\n",
       "      <td>[{u'url': u'http://en.wikipedia.org/wiki/Force...</td>\n",
       "      <td>{u'code': u'HUL', u'url': u'http://en.wikipedi...</td>\n",
       "      <td>72</td>\n",
       "      <td>9</td>\n",
       "      <td>9</td>\n",
       "      <td>0</td>\n",
       "    </tr>\n",
       "    <tr>\n",
       "      <th>9</th>\n",
       "      <td>[{u'url': u'http://en.wikipedia.org/wiki/McLar...</td>\n",
       "      <td>{u'code': u'ALO', u'url': u'http://en.wikipedi...</td>\n",
       "      <td>54</td>\n",
       "      <td>10</td>\n",
       "      <td>10</td>\n",
       "      <td>0</td>\n",
       "    </tr>\n",
       "    <tr>\n",
       "      <th>10</th>\n",
       "      <td>[{u'url': u'http://en.wikipedia.org/wiki/Willi...</td>\n",
       "      <td>{u'code': u'MAS', u'url': u'http://en.wikipedi...</td>\n",
       "      <td>53</td>\n",
       "      <td>11</td>\n",
       "      <td>11</td>\n",
       "      <td>0</td>\n",
       "    </tr>\n",
       "    <tr>\n",
       "      <th>11</th>\n",
       "      <td>[{u'url': u'http://en.wikipedia.org/wiki/Scude...</td>\n",
       "      <td>{u'code': u'SAI', u'url': u'http://en.wikipedi...</td>\n",
       "      <td>46</td>\n",
       "      <td>12</td>\n",
       "      <td>12</td>\n",
       "      <td>0</td>\n",
       "    </tr>\n",
       "    <tr>\n",
       "      <th>12</th>\n",
       "      <td>[{u'url': u'http://en.wikipedia.org/wiki/Haas_...</td>\n",
       "      <td>{u'code': u'GRO', u'url': u'http://en.wikipedi...</td>\n",
       "      <td>29</td>\n",
       "      <td>13</td>\n",
       "      <td>13</td>\n",
       "      <td>0</td>\n",
       "    </tr>\n",
       "    <tr>\n",
       "      <th>13</th>\n",
       "      <td>[{u'url': u'http://en.wikipedia.org/wiki/Red_B...</td>\n",
       "      <td>{u'code': u'KVY', u'url': u'http://en.wikipedi...</td>\n",
       "      <td>25</td>\n",
       "      <td>14</td>\n",
       "      <td>14</td>\n",
       "      <td>0</td>\n",
       "    </tr>\n",
       "    <tr>\n",
       "      <th>14</th>\n",
       "      <td>[{u'url': u'http://en.wikipedia.org/wiki/McLar...</td>\n",
       "      <td>{u'code': u'BUT', u'url': u'http://en.wikipedi...</td>\n",
       "      <td>21</td>\n",
       "      <td>15</td>\n",
       "      <td>15</td>\n",
       "      <td>0</td>\n",
       "    </tr>\n",
       "    <tr>\n",
       "      <th>15</th>\n",
       "      <td>[{u'url': u'http://en.wikipedia.org/wiki/Renau...</td>\n",
       "      <td>{u'code': u'MAG', u'url': u'http://en.wikipedi...</td>\n",
       "      <td>7</td>\n",
       "      <td>16</td>\n",
       "      <td>16</td>\n",
       "      <td>0</td>\n",
       "    </tr>\n",
       "    <tr>\n",
       "      <th>16</th>\n",
       "      <td>[{u'url': u'http://en.wikipedia.org/wiki/Saube...</td>\n",
       "      <td>{u'code': u'NAS', u'url': u'http://en.wikipedi...</td>\n",
       "      <td>2</td>\n",
       "      <td>17</td>\n",
       "      <td>17</td>\n",
       "      <td>0</td>\n",
       "    </tr>\n",
       "    <tr>\n",
       "      <th>17</th>\n",
       "      <td>[{u'url': u'http://en.wikipedia.org/wiki/Renau...</td>\n",
       "      <td>{u'code': u'PAL', u'url': u'http://en.wikipedi...</td>\n",
       "      <td>1</td>\n",
       "      <td>18</td>\n",
       "      <td>18</td>\n",
       "      <td>0</td>\n",
       "    </tr>\n",
       "    <tr>\n",
       "      <th>18</th>\n",
       "      <td>[{u'url': u'http://en.wikipedia.org/wiki/Manor...</td>\n",
       "      <td>{u'code': u'WEH', u'url': u'http://en.wikipedi...</td>\n",
       "      <td>1</td>\n",
       "      <td>19</td>\n",
       "      <td>19</td>\n",
       "      <td>0</td>\n",
       "    </tr>\n",
       "    <tr>\n",
       "      <th>19</th>\n",
       "      <td>[{u'url': u'http://en.wikipedia.org/wiki/McLar...</td>\n",
       "      <td>{u'code': u'VAN', u'url': u'http://en.wikipedi...</td>\n",
       "      <td>1</td>\n",
       "      <td>20</td>\n",
       "      <td>20</td>\n",
       "      <td>0</td>\n",
       "    </tr>\n",
       "    <tr>\n",
       "      <th>20</th>\n",
       "      <td>[{u'url': u'http://en.wikipedia.org/wiki/Haas_...</td>\n",
       "      <td>{u'code': u'GUT', u'url': u'http://en.wikipedi...</td>\n",
       "      <td>0</td>\n",
       "      <td>21</td>\n",
       "      <td>21</td>\n",
       "      <td>0</td>\n",
       "    </tr>\n",
       "    <tr>\n",
       "      <th>21</th>\n",
       "      <td>[{u'url': u'http://en.wikipedia.org/wiki/Saube...</td>\n",
       "      <td>{u'code': u'ERI', u'url': u'http://en.wikipedi...</td>\n",
       "      <td>0</td>\n",
       "      <td>22</td>\n",
       "      <td>22</td>\n",
       "      <td>0</td>\n",
       "    </tr>\n",
       "    <tr>\n",
       "      <th>22</th>\n",
       "      <td>[{u'url': u'http://en.wikipedia.org/wiki/Manor...</td>\n",
       "      <td>{u'code': u'OCO', u'url': u'http://en.wikipedi...</td>\n",
       "      <td>0</td>\n",
       "      <td>23</td>\n",
       "      <td>23</td>\n",
       "      <td>0</td>\n",
       "    </tr>\n",
       "    <tr>\n",
       "      <th>23</th>\n",
       "      <td>[{u'url': u'http://en.wikipedia.org/wiki/Manor...</td>\n",
       "      <td>{u'code': u'HAR', u'url': u'http://en.wikipedi...</td>\n",
       "      <td>0</td>\n",
       "      <td>24</td>\n",
       "      <td>24</td>\n",
       "      <td>0</td>\n",
       "    </tr>\n",
       "  </tbody>\n",
       "</table>\n",
       "</div>"
      ],
      "text/plain": [
       "                                         Constructors  \\\n",
       "0   [{u'url': u'http://en.wikipedia.org/wiki/Merce...   \n",
       "1   [{u'url': u'http://en.wikipedia.org/wiki/Merce...   \n",
       "2   [{u'url': u'http://en.wikipedia.org/wiki/Red_B...   \n",
       "3   [{u'url': u'http://en.wikipedia.org/wiki/Scude...   \n",
       "4   [{u'url': u'http://en.wikipedia.org/wiki/Scude...   \n",
       "5   [{u'url': u'http://en.wikipedia.org/wiki/Scude...   \n",
       "6   [{u'url': u'http://en.wikipedia.org/wiki/Force...   \n",
       "7   [{u'url': u'http://en.wikipedia.org/wiki/Willi...   \n",
       "8   [{u'url': u'http://en.wikipedia.org/wiki/Force...   \n",
       "9   [{u'url': u'http://en.wikipedia.org/wiki/McLar...   \n",
       "10  [{u'url': u'http://en.wikipedia.org/wiki/Willi...   \n",
       "11  [{u'url': u'http://en.wikipedia.org/wiki/Scude...   \n",
       "12  [{u'url': u'http://en.wikipedia.org/wiki/Haas_...   \n",
       "13  [{u'url': u'http://en.wikipedia.org/wiki/Red_B...   \n",
       "14  [{u'url': u'http://en.wikipedia.org/wiki/McLar...   \n",
       "15  [{u'url': u'http://en.wikipedia.org/wiki/Renau...   \n",
       "16  [{u'url': u'http://en.wikipedia.org/wiki/Saube...   \n",
       "17  [{u'url': u'http://en.wikipedia.org/wiki/Renau...   \n",
       "18  [{u'url': u'http://en.wikipedia.org/wiki/Manor...   \n",
       "19  [{u'url': u'http://en.wikipedia.org/wiki/McLar...   \n",
       "20  [{u'url': u'http://en.wikipedia.org/wiki/Haas_...   \n",
       "21  [{u'url': u'http://en.wikipedia.org/wiki/Saube...   \n",
       "22  [{u'url': u'http://en.wikipedia.org/wiki/Manor...   \n",
       "23  [{u'url': u'http://en.wikipedia.org/wiki/Manor...   \n",
       "\n",
       "                                               Driver points position  \\\n",
       "0   {u'code': u'ROS', u'url': u'http://en.wikipedi...    385        1   \n",
       "1   {u'code': u'HAM', u'url': u'http://en.wikipedi...    380        2   \n",
       "2   {u'code': u'RIC', u'url': u'http://en.wikipedi...    256        3   \n",
       "3   {u'code': u'VET', u'url': u'http://en.wikipedi...    212        4   \n",
       "4   {u'code': u'VES', u'url': u'http://en.wikipedi...    204        5   \n",
       "5   {u'code': u'RAI', u'url': u'http://en.wikipedi...    186        6   \n",
       "6   {u'code': u'PER', u'url': u'http://en.wikipedi...    101        7   \n",
       "7   {u'code': u'BOT', u'url': u'http://en.wikipedi...     85        8   \n",
       "8   {u'code': u'HUL', u'url': u'http://en.wikipedi...     72        9   \n",
       "9   {u'code': u'ALO', u'url': u'http://en.wikipedi...     54       10   \n",
       "10  {u'code': u'MAS', u'url': u'http://en.wikipedi...     53       11   \n",
       "11  {u'code': u'SAI', u'url': u'http://en.wikipedi...     46       12   \n",
       "12  {u'code': u'GRO', u'url': u'http://en.wikipedi...     29       13   \n",
       "13  {u'code': u'KVY', u'url': u'http://en.wikipedi...     25       14   \n",
       "14  {u'code': u'BUT', u'url': u'http://en.wikipedi...     21       15   \n",
       "15  {u'code': u'MAG', u'url': u'http://en.wikipedi...      7       16   \n",
       "16  {u'code': u'NAS', u'url': u'http://en.wikipedi...      2       17   \n",
       "17  {u'code': u'PAL', u'url': u'http://en.wikipedi...      1       18   \n",
       "18  {u'code': u'WEH', u'url': u'http://en.wikipedi...      1       19   \n",
       "19  {u'code': u'VAN', u'url': u'http://en.wikipedi...      1       20   \n",
       "20  {u'code': u'GUT', u'url': u'http://en.wikipedi...      0       21   \n",
       "21  {u'code': u'ERI', u'url': u'http://en.wikipedi...      0       22   \n",
       "22  {u'code': u'OCO', u'url': u'http://en.wikipedi...      0       23   \n",
       "23  {u'code': u'HAR', u'url': u'http://en.wikipedi...      0       24   \n",
       "\n",
       "   positionText wins  \n",
       "0             1    9  \n",
       "1             2   10  \n",
       "2             3    1  \n",
       "3             4    0  \n",
       "4             5    1  \n",
       "5             6    0  \n",
       "6             7    0  \n",
       "7             8    0  \n",
       "8             9    0  \n",
       "9            10    0  \n",
       "10           11    0  \n",
       "11           12    0  \n",
       "12           13    0  \n",
       "13           14    0  \n",
       "14           15    0  \n",
       "15           16    0  \n",
       "16           17    0  \n",
       "17           18    0  \n",
       "18           19    0  \n",
       "19           20    0  \n",
       "20           21    0  \n",
       "21           22    0  \n",
       "22           23    0  \n",
       "23           24    0  "
      ]
     },
     "execution_count": 28,
     "metadata": {},
     "output_type": "execute_result"
    }
   ],
   "source": [
    "pd.DataFrame(standing['MRData']['StandingsTable']['StandingsLists'][0]['DriverStandings'])"
   ]
  },
  {
   "cell_type": "code",
   "execution_count": 26,
   "metadata": {
    "collapsed": false
   },
   "outputs": [],
   "source": [
    "r.connect('ns370799.ip-91-121-193.eu', 28015).repl()\n",
    "\n",
    "for gp in f1dict[u'MRData'][u'RaceTable'][u'Races']:\n",
    "    r.db('series').table('f1_gp').insert(gp).run()\n"
   ]
  }
 ],
 "metadata": {
  "kernelspec": {
   "display_name": "Python 2",
   "language": "python",
   "name": "python2"
  },
  "language_info": {
   "codemirror_mode": {
    "name": "ipython",
    "version": 2
   },
   "file_extension": ".py",
   "mimetype": "text/x-python",
   "name": "python",
   "nbconvert_exporter": "python",
   "pygments_lexer": "ipython2",
   "version": "2.7.12"
  }
 },
 "nbformat": 4,
 "nbformat_minor": 0
}
