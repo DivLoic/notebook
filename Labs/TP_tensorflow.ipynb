{
 "cells": [
  {
   "cell_type": "code",
   "execution_count": null,
   "metadata": {
    "collapsed": true
   },
   "outputs": [],
   "source": []
  },
  {
   "cell_type": "code",
   "execution_count": null,
   "metadata": {
    "collapsed": true
   },
   "outputs": [],
   "source": []
  },
  {
   "cell_type": "code",
   "execution_count": null,
   "metadata": {
    "collapsed": true
   },
   "outputs": [],
   "source": [
    "## Construction d'un graphe simple\n",
    "import tensorflow as tf\n",
    " \n",
    "# Create a Constant op that produces a 1x2 matrix.\n",
    "matrix1 = tf.constant([[3., 3.]])\n",
    " \n",
    "# Create another Constant that produces a 2x1 matrix.\n",
    "matrix2 = tf.constant([[2.], [2.]])\n",
    " \n",
    "# Create a matmul op that performs the matrix multiplication of matrix1 by matrix2.\n",
    "product = tf.matmul(matrix1, matrix2)"
   ]
  },
  {
   "cell_type": "code",
   "execution_count": null,
   "metadata": {
    "collapsed": false
   },
   "outputs": [],
   "source": [
    "## Execution du graphe\n",
    "# Launch the default graph.\n",
    "sess = tf.Session()\n",
    " \n",
    "# Call the session 'run()' method to run the matmul op.\n",
    "result = sess.run(product)\n",
    "print(result)\n",
    " \n",
    "# You can call multiple operations at the same time\n",
    "res_product, res_matrix1 = sess.run([product, matrix1])\n",
    "print(res_matrix1)\n",
    " \n",
    "# Close the session\n",
    "sess.close()"
   ]
  },
  {
   "cell_type": "code",
   "execution_count": null,
   "metadata": {
    "collapsed": false
   },
   "outputs": [],
   "source": [
    "## Execution et fermeture automatique de Session\n",
    "with tf.Session() as sess:\n",
    "    result = sess.run(product)\n",
    "    print(result)"
   ]
  },
  {
   "cell_type": "code",
   "execution_count": null,
   "metadata": {
    "collapsed": true
   },
   "outputs": [],
   "source": [
    "## Définition d'une constante\n",
    "const = tf.constant([2., 1.])\n",
    "\n",
    "## Définition d'une Variable\n",
    "counter = tf.Variable(0, name=\"counter\")"
   ]
  },
  {
   "cell_type": "code",
   "execution_count": null,
   "metadata": {
    "collapsed": false
   },
   "outputs": [],
   "source": [
    "## Increment d'une Variable\n",
    "# Counter Variable definition\n",
    "counter = tf.Variable(0, name=\"counter\")\n",
    " \n",
    "# Creation of a constant\n",
    "one = tf.constant(1)\n",
    " \n",
    "# Operations to perform in order to increment the variable value\n",
    "new_value = tf.add(counter, one)\n",
    "update = tf.assign(counter, new_value)\n",
    " \n",
    "# Initialize all variables\n",
    "init_op = tf.global_variables_initializer()\n",
    " \n",
    "# Increment the value of the variable in a session\n",
    "with tf.Session() as sess:\n",
    "    sess.run(init_op)\n",
    "    for _ in range(5):\n",
    "        sess.run(update)\n",
    "        print(sess.run(counter))"
   ]
  },
  {
   "cell_type": "raw",
   "metadata": {},
   "source": [
    "## Initialisation d'une variable de poids\n",
    "# Initialization of a Variable as a Tensor full of zeros\n",
    "weights = tf.Variable(tf.zeros([image_pixels, num_classes]))\n",
    " \n",
    "# Initialization of a Variable as a Tensor with small random values\n",
    "weights = tf.Variable(tf.truncated_normal(shape=[num_pixels, num_classes], stddev=0.1))"
   ]
  },
  {
   "cell_type": "code",
   "execution_count": null,
   "metadata": {
    "collapsed": false
   },
   "outputs": [],
   "source": [
    "## Création d'un Placeholder\n",
    "simple_placeholder = tf.placeholder(tf.float32)\n",
    "\n",
    "\n",
    "## Utilisation d'un Placeholder\n",
    "# Instanciation of two Placeholders\n",
    "input1 = tf.placeholder(tf.float32)\n",
    "input2 = tf.placeholder(tf.float32)\n",
    " \n",
    "# Multiplication operation\n",
    "output = tf.multiply(input1, input2)\n",
    " \n",
    "# Graph execution, we need to feed the placeholders\n",
    "with tf.Session() as sess:\n",
    "    result = sess.run(output, feed_dict={input1: [7.], input2: [2.]})\n",
    "    print(result)"
   ]
  },
  {
   "cell_type": "markdown",
   "metadata": {},
   "source": [
    "tensorboard --logdir=\"/tmp/tf_logs\""
   ]
  },
  {
   "cell_type": "code",
   "execution_count": null,
   "metadata": {
    "collapsed": false
   },
   "outputs": [],
   "source": [
    "## Compteur avec intégration TensorBoard\n",
    "# Counter Variable definition\n",
    "with tf.name_scope('counter'):\n",
    "    counter = tf.Variable(1, name=\"counter\")\n",
    "    tf.summary.scalar('counter', counter)\n",
    "\n",
    "    \n",
    "# Creation of a constant    \n",
    "two_op = tf.constant(2, name=\"const\")\n",
    " \n",
    "# Operations to perform in order to increment the variable value\n",
    "new_value = tf.multiply(counter, two_op)\n",
    "update = tf.assign(counter, new_value)\n",
    " \n",
    "merged = tf.summary.merge_all()\n",
    " \n",
    "# Initialize all variables\n",
    "init_op = tf.global_variables_initializer()\n",
    " \n",
    "with tf.Session() as sess:\n",
    "    # Increment the value of the variable in a session\n",
    "    sess.run(init_op)\n",
    " \n",
    "    summary_writer = tf.summary.FileWriter(\"/tmp/nn_test\", sess.graph)\n",
    " \n",
    "    for i in range(5):\n",
    "        summary, _ = sess.run([merged, update])\n",
    "        summary_writer.add_summary(summary, i)\n",
    "        print(sess.run(counter))"
   ]
  },
  {
   "cell_type": "markdown",
   "metadata": {},
   "source": [
    "### 2 TensorFlow & Deep Learning - Episode 2 - Notre premier Réseau de Neurones"
   ]
  },
  {
   "cell_type": "code",
   "execution_count": null,
   "metadata": {
    "collapsed": false
   },
   "outputs": [],
   "source": [
    "## input\n",
    "with tf.name_scope(\"input\"):\n",
    "    x = tf.placeholder(tf.float32, shape=(None, num_pixels))\n",
    "    y = tf.placeholder(tf.float32, shape=(None, num_classes))"
   ]
  },
  {
   "cell_type": "code",
   "execution_count": null,
   "metadata": {
    "collapsed": false
   },
   "outputs": [],
   "source": [
    "## Inférence\n",
    "with tf.name_scope(\"softmax\"):\n",
    "    # Model parameters\n",
    "    weights = tf.Variable(tf.zeros([num_pixels, num_classes]))\n",
    "    biases = tf.Variable(tf.zeros([num_classes]))\n",
    " \n",
    "    softmax = tf.nn.softmax(tf.matmul(x, weights) + biases)"
   ]
  },
  {
   "cell_type": "code",
   "execution_count": null,
   "metadata": {
    "collapsed": true
   },
   "outputs": [],
   "source": [
    "## Summary associé au softmax\n",
    "# Softmax values histogram\n",
    "tf.summary.histogram(softmax.op.name + '/activations', softmax)"
   ]
  },
  {
   "cell_type": "code",
   "execution_count": null,
   "metadata": {
    "collapsed": true
   },
   "outputs": [],
   "source": [
    "## Loss\n",
    "with tf.name_scope(\"cross_entropy\"):\n",
    "    labels = tf.cast(labels, tf.int64)\n",
    "    cross_entropy = tf.nn.sparse_softmax_cross_entropy_with_logits(logits, labels)\n",
    "    cross_entropy_mean = tf.reduce_mean(cross_entropy, name=\"cross_entropy\")\n",
    " \n",
    "    tf.summary.scalar(\"cross_entropy\", cross_entropy_mean)"
   ]
  },
  {
   "cell_type": "code",
   "execution_count": null,
   "metadata": {
    "collapsed": true
   },
   "outputs": [],
   "source": [
    "## Train\n",
    "with tf.name_scope(\"train\"):\n",
    "# Optimizer\n",
    "   optimizer = tf.train.GradientDescentOptimizer(learning_rate)\n",
    "    \n",
    "# Use the optimizer to apply the gradients that minimize the loss \n",
    "#(and also increment the global step counter) as a single training step.\n",
    "   train_op = optimizer.minimize(loss, global_step=global_step)"
   ]
  }
 ],
 "metadata": {
  "kernelspec": {
   "display_name": "Python 2",
   "language": "python",
   "name": "python2"
  },
  "language_info": {
   "codemirror_mode": {
    "name": "ipython",
    "version": 2
   },
   "file_extension": ".py",
   "mimetype": "text/x-python",
   "name": "python",
   "nbconvert_exporter": "python",
   "pygments_lexer": "ipython2",
   "version": "2.7.12"
  }
 },
 "nbformat": 4,
 "nbformat_minor": 0
}
