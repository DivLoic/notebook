{
 "cells": [
  {
   "cell_type": "code",
   "execution_count": 110,
   "metadata": {
    "collapsed": true
   },
   "outputs": [],
   "source": [
    "# -*- coding: utf8 -*-"
   ]
  },
  {
   "cell_type": "code",
   "execution_count": 111,
   "metadata": {
    "collapsed": false
   },
   "outputs": [],
   "source": [
    "import os\n",
    "import re\n",
    "import sys\n",
    "import time\n",
    "import pandas as pd\n",
    "from optparse import OptionParser"
   ]
  },
  {
   "cell_type": "code",
   "execution_count": 112,
   "metadata": {
    "collapsed": true
   },
   "outputs": [],
   "source": [
    "PARAM_OUTPUT = '~/mvs_convertion' + time.strftime(\"%Y_%m_%d_%H-%M-%S\") + '.csv'\n",
    "param_config = '/Users/LoicMDIVAD/Documents/workspace/python/fixed_fields_coverter/DUN_CONF.txt'\n",
    "param_file = '/Users/LoicMDIVAD/Documents/workspace/python/fixed_fields_coverter/DUN2.txt'\n",
    "param_output = '/Users/LoicMDIVAD/Documents/workspace/python/fixed_fields_coverter/DUN.csv'"
   ]
  },
  {
   "cell_type": "code",
   "execution_count": 113,
   "metadata": {
    "collapsed": false
   },
   "outputs": [],
   "source": [
    "class Mapper(object):\n",
    "    def __init__(self, file_path, config_path):\n",
    "        self.file_path = file_path\n",
    "        self.config_path = config_path\n",
    "        self.config = []\n",
    "    \n",
    "    #TODO: deal with not absolute path\n",
    "    def _load_config(self):\n",
    "        if os.path.isfile(self.config_path):\n",
    "            with open(self.config_path, 'r') as conf:\n",
    "                c = 0 \n",
    "                for line in conf:\n",
    "                    key, val = tuple(line.split(';'))\n",
    "                    try:\n",
    "                        self.config.insert(c ,(key,int(re.search('\\d+', val).group(0))))\n",
    "                    except:\n",
    "                        pass\n",
    "                    c += 1\n",
    "        else:\n",
    "            raise Exception('Aucune configuration n\\' a été retrouvée.')\n",
    "        \n",
    "    def _get_header(self):\n",
    "        head = ''\n",
    "        for key, val in self.config:\n",
    "            head = head + key + ';'\n",
    "        return head\n",
    "            \n",
    "    def _map_one(self, line):\n",
    "        start = 0\n",
    "        row = ''\n",
    "        for col, limit in self.config:\n",
    "            row = row + line[start:start+limit].strip() + ';' \n",
    "        return row\n",
    "            \n",
    "    def _build_file(self):\n",
    "        csv = open(param_output, 'w')\n",
    "        csv.write(self._get_header() + '\\n')\n",
    "         \n",
    "        if os.path.isfile(self.file_path):\n",
    "            with open(self.file_path, 'r') as data:\n",
    "                for line in data:\n",
    "                    csv.write(self._map_one(line) + '\\n')\n",
    "                    \n",
    "        csv.close()\n",
    "\n",
    "        \n",
    "    def process(self):\n",
    "        self._load_config()\n",
    "        self._build_file()\n",
    "        "
   ]
  },
  {
   "cell_type": "code",
   "execution_count": 114,
   "metadata": {
    "collapsed": false
   },
   "outputs": [
    {
     "name": "stdout",
     "output_type": "stream",
     "text": [
      "hello\n"
     ]
    }
   ],
   "source": [
    "if __name__ == '__main__':\n",
    "    parser = OptionParser()\n",
    "    parser.add_option(\"-f\", \"--file\", dest=\"file\", default='', help=\"Ficher mvs a trnasformer\")\n",
    "    parser.add_option(\"-c\", \"--config\", dest=\"config\", default='', help=\"Fichier de configuration\")\n",
    "    \n",
    "    m = Mapper(param_file,param_config)\n",
    "    m.process()"
   ]
  },
  {
   "cell_type": "code",
   "execution_count": null,
   "metadata": {
    "collapsed": true
   },
   "outputs": [],
   "source": []
  },
  {
   "cell_type": "code",
   "execution_count": null,
   "metadata": {
    "collapsed": true
   },
   "outputs": [],
   "source": []
  }
 ],
 "metadata": {
  "kernelspec": {
   "display_name": "Python 2",
   "language": "python",
   "name": "python2"
  },
  "language_info": {
   "codemirror_mode": {
    "name": "ipython",
    "version": 2
   },
   "file_extension": ".py",
   "mimetype": "text/x-python",
   "name": "python",
   "nbconvert_exporter": "python",
   "pygments_lexer": "ipython2",
   "version": "2.7.10"
  }
 },
 "nbformat": 4,
 "nbformat_minor": 0
}
