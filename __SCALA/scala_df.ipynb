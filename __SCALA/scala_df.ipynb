{
 "cells": [
  {
   "cell_type": "code",
   "execution_count": 1,
   "metadata": {
    "collapsed": false
   },
   "outputs": [
    {
     "data": {
      "text/plain": []
     },
     "metadata": {},
     "output_type": "display_data"
    }
   ],
   "source": [
    "/**\n",
    "* Created by loicmdivad \n",
    "**/"
   ]
  },
  {
   "cell_type": "code",
   "execution_count": 2,
   "metadata": {
    "collapsed": false
   },
   "outputs": [
    {
     "name": "stdout",
     "output_type": "stream",
     "text": [
      "20 new artifact(s)\n"
     ]
    },
    {
     "name": "stderr",
     "output_type": "stream",
     "text": [
      "20 new artifacts in macro\n",
      "20 new artifacts in runtime\n",
      "20 new artifacts in compile\n"
     ]
    },
    {
     "data": {
      "text/plain": []
     },
     "metadata": {},
     "output_type": "display_data"
    }
   ],
   "source": [
    "classpath.add(\"org.scala-saddle\" %% \"saddle-core\" % \"1.3.+\")"
   ]
  },
  {
   "cell_type": "code",
   "execution_count": 4,
   "metadata": {
    "collapsed": false
   },
   "outputs": [
    {
     "data": {
      "text/plain": [
       "\u001b[32mimport \u001b[36morg.saddle._\u001b[0m\n",
       "\u001b[32mimport \u001b[36morg.saddle.io._\u001b[0m"
      ]
     },
     "metadata": {},
     "output_type": "display_data"
    }
   ],
   "source": [
    "import org.saddle._\n",
    "import org.saddle.io._"
   ]
  },
  {
   "cell_type": "code",
   "execution_count": 6,
   "metadata": {
    "collapsed": false
   },
   "outputs": [
    {
     "data": {
      "text/plain": [
       "\u001b[36mfile\u001b[0m: \u001b[32mCsvFile\u001b[0m = CsvFile(power.csv, encoding: UTF-8)\n",
       "\u001b[36mframe\u001b[0m: \u001b[32mFrame\u001b[0m[\u001b[32mInt\u001b[0m, \u001b[32mInt\u001b[0m, \u001b[32mString\u001b[0m] = [151 x 7]\n",
       "                   0        1          2    3             4      5                      6 \n",
       "       ------------- -------- ---------- ---- ------------- ------ ---------------------- \n",
       "  0 ->          Name Postcode       Date Unit Meter Reading Output Installed Capacity KW  \n",
       "  1 ->     Building3  BS4 4BJ 20/01/2014  KWh         11964     32                   9.87 \n",
       "  2 ->     Building4 BS10 5SW 20/01/2014  KWh         28470     70                     24 \n",
       "  3 -> Building0008A BS10 6DS 20/01/2014  KWh         18642     52                  15.36 \n",
       "  4 ->    Building11  BS3 2QG 20/01/2014  KWh          4566      3                  25.23 \n",
       "...\n",
       "146 ->    Building24  BS2 9UX 15/01/2014  KWh         18504     31                  17.76 \n",
       "147 ->    Building15  BS1 6RB 15/01/2014  KWh         10252     12                    9.6 \n",
       "\u001b[33m...\u001b[0m"
      ]
     },
     "metadata": {},
     "output_type": "display_data"
    }
   ],
   "source": [
    "val file = CsvFile(\"power.csv\")\n",
    "val frame = CsvParser.parse(file)"
   ]
  },
  {
   "cell_type": "code",
   "execution_count": 8,
   "metadata": {
    "collapsed": false
   },
   "outputs": [
    {
     "data": {
      "text/plain": [
       "\u001b[36mres7\u001b[0m: \u001b[32mFrame\u001b[0m[\u001b[32mInt\u001b[0m, \u001b[32mInt\u001b[0m, \u001b[32mString\u001b[0m] = [151 x 1]\n",
       "                   4 \n",
       "       ------------- \n",
       "  0 -> Meter Reading \n",
       "  1 ->         11964 \n",
       "  2 ->         28470 \n",
       "  3 ->         18642 \n",
       "  4 ->          4566 \n",
       "...\n",
       "146 ->         18504 \n",
       "147 ->         10252 \n",
       "148 ->          9089 \n",
       "149 ->         23107 \n",
       "150 ->          7764 \n"
      ]
     },
     "metadata": {},
     "output_type": "display_data"
    }
   ],
   "source": [
    "frame.col(Array(4))"
   ]
  },
  {
   "cell_type": "code",
   "execution_count": null,
   "metadata": {
    "collapsed": true
   },
   "outputs": [],
   "source": []
  }
 ],
 "metadata": {
  "kernelspec": {
   "display_name": "Scala 2.11",
   "language": "scala211",
   "name": "scala211"
  },
  "language_info": {
   "codemirror_mode": "text/x-scala",
   "file_extension": ".scala",
   "mimetype": "text/x-scala",
   "name": "scala211",
   "pygments_lexer": "scala",
   "version": "2.11.8"
  }
 },
 "nbformat": 4,
 "nbformat_minor": 0
}
