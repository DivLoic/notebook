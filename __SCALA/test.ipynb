{
 "cells": [
  {
   "cell_type": "code",
   "execution_count": 1,
   "metadata": {
    "collapsed": false
   },
   "outputs": [
    {
     "data": {
      "text/plain": [
       "\u001b[36mhello\u001b[0m: \u001b[32mString\u001b[0m = \u001b[32m\"Hello, Scala!\"\u001b[0m\n",
       "\u001b[36mres0_1\u001b[0m: \u001b[32mString\u001b[0m = \u001b[32m\"/Users/loicmdivad\"\u001b[0m\n",
       "\u001b[36mres0_2\u001b[0m: \u001b[32mString\u001b[0m = \u001b[32m\"/Library/Java/JavaVirtualMachines/jdk1.8.0_92.jdk/Contents/Home\"\u001b[0m"
      ]
     },
     "metadata": {},
     "output_type": "display_data"
    }
   ],
   "source": [
    "val hello = \"Hello, Scala!\"\n",
    "sys.env(\"HOME\")\n",
    "sys.env(\"JAVA_HOME\")"
   ]
  },
  {
   "cell_type": "code",
   "execution_count": 2,
   "metadata": {
    "collapsed": false
   },
   "outputs": [
    {
     "data": {
      "text/plain": [
       "defined \u001b[32mfunction \u001b[36mgetUseless\u001b[0m\n",
       "defined \u001b[32mfunction \u001b[36mprintUseless\u001b[0m"
      ]
     },
     "metadata": {},
     "output_type": "display_data"
    }
   ],
   "source": [
    "def getUseless(): String = \"Here is a useless getter\"\n",
    "\n",
    "def printUseless(): Unit = println(\"Here is a useless printer\")"
   ]
  },
  {
   "cell_type": "code",
   "execution_count": 3,
   "metadata": {
    "collapsed": false
   },
   "outputs": [
    {
     "name": "stdout",
     "output_type": "stream",
     "text": [
      "Here is a useless printer\n"
     ]
    },
    {
     "data": {
      "text/plain": [
       "\u001b[36mres2_0\u001b[0m: \u001b[32mString\u001b[0m = \u001b[32m\"Here is a useless getter\"\u001b[0m"
      ]
     },
     "metadata": {},
     "output_type": "display_data"
    }
   ],
   "source": [
    "getUseless()\n",
    "printUseless()"
   ]
  },
  {
   "cell_type": "code",
   "execution_count": 4,
   "metadata": {
    "collapsed": false
   },
   "outputs": [
    {
     "data": {
      "text/plain": [
       "\u001b[36mwords\u001b[0m: \u001b[32mList\u001b[0m[\u001b[32mString\u001b[0m] = \u001b[33mList\u001b[0m(\u001b[32m\"foo\"\u001b[0m, \u001b[32m\"bar\"\u001b[0m, \u001b[32m\"this\"\u001b[0m, \u001b[32m\"make\"\u001b[0m, \u001b[32m\"no\"\u001b[0m, \u001b[32m\"sens\"\u001b[0m)"
      ]
     },
     "metadata": {},
     "output_type": "display_data"
    }
   ],
   "source": [
    "val words :List[String] = \"foo\":: \"bar\" :: \"this\" :: \"make\" :: \"no\" :: \"sens\" :: Nil"
   ]
  },
  {
   "cell_type": "code",
   "execution_count": 5,
   "metadata": {
    "collapsed": false
   },
   "outputs": [
    {
     "name": "stdout",
     "output_type": "stream",
     "text": [
      "foo \t has letters in 3\n",
      "bar \t has letters in 3\n",
      "this \t has letters in 4\n",
      "make \t has letters in 4\n",
      "no \t has letters in 2\n",
      "sens \t has letters in 4\n"
     ]
    },
    {
     "data": {
      "text/plain": []
     },
     "metadata": {},
     "output_type": "display_data"
    }
   ],
   "source": [
    "for(w <- words){\n",
    "    println(s\"$w \\t has letters in ${w.size}\")\n",
    "}"
   ]
  },
  {
   "cell_type": "code",
   "execution_count": 6,
   "metadata": {
    "collapsed": false
   },
   "outputs": [
    {
     "data": {
      "text/plain": [
       "defined \u001b[32mtrait \u001b[36mfoo\u001b[0m"
      ]
     },
     "metadata": {},
     "output_type": "display_data"
    }
   ],
   "source": [
    "trait foo {\n",
    "    def shoot(): String\n",
    "}"
   ]
  },
  {
   "cell_type": "code",
   "execution_count": 6,
   "metadata": {
    "collapsed": false
   },
   "outputs": [
    {
     "ename": "",
     "evalue": "",
     "output_type": "error",
     "traceback": [
      "\u001b[31mMain.scala:24: class SuperFoo needs to be abstract, since method shoot in trait foo of type ()String is not defined",
      "              class SuperFoo extends foo{",
      "                    ^\u001b[0m"
     ]
    }
   ],
   "source": [
    "/* missing method example */\n",
    "class SuperFoo extends foo{\n",
    "    def complaine() = \"Ouch!\"   \n",
    "    def cry() = \":'(\"\n",
    "}"
   ]
  },
  {
   "cell_type": "code",
   "execution_count": 7,
   "metadata": {
    "collapsed": false
   },
   "outputs": [
    {
     "data": {
      "text/plain": [
       "defined \u001b[32mclass \u001b[36mFinalFoo\u001b[0m"
      ]
     },
     "metadata": {},
     "output_type": "display_data"
    }
   ],
   "source": [
    "class FinalFoo extends foo {\n",
    "    override def shoot(): String = \"Poow!!!\"\n",
    "    def complaine() = \"Ouch!\"\n",
    "    def cry() = \":'(\"\n",
    "}"
   ]
  },
  {
   "cell_type": "code",
   "execution_count": null,
   "metadata": {
    "collapsed": true
   },
   "outputs": [],
   "source": []
  }
 ],
 "metadata": {
  "kernelspec": {
   "display_name": "Scala 2.11",
   "language": "scala211",
   "name": "scala211"
  },
  "language_info": {
   "codemirror_mode": "text/x-scala",
   "file_extension": ".scala",
   "mimetype": "text/x-scala",
   "name": "scala211",
   "pygments_lexer": "scala",
   "version": "2.11.8"
  }
 },
 "nbformat": 4,
 "nbformat_minor": 0
}
