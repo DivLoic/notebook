{
 "cells": [
  {
   "cell_type": "code",
   "execution_count": 7,
   "metadata": {
    "collapsed": false
   },
   "outputs": [
    {
     "data": {
      "text/plain": [
       "\u001b[36mhello\u001b[0m: \u001b[32mString\u001b[0m = \u001b[32m\"Hello, Scala\"\u001b[0m\n",
       "\u001b[36mres6_1\u001b[0m: \u001b[32mString\u001b[0m = \u001b[32m\"/Users/LoicMDIVAD\"\u001b[0m"
      ]
     },
     "metadata": {},
     "output_type": "display_data"
    }
   ],
   "source": [
    "val hello = \"Hello, Scala\"\n",
    "sys.env(\"HOME\")"
   ]
  },
  {
   "cell_type": "code",
   "execution_count": 10,
   "metadata": {
    "collapsed": false
   },
   "outputs": [
    {
     "data": {
      "text/plain": [
       "defined \u001b[32mfunction \u001b[36mtail\u001b[0m"
      ]
     },
     "metadata": {},
     "output_type": "display_data"
    }
   ],
   "source": [
    "def tail() = {\n",
    "    println(\"some random string\")\n",
    "}"
   ]
  },
  {
   "cell_type": "code",
   "execution_count": 11,
   "metadata": {
    "collapsed": false
   },
   "outputs": [
    {
     "name": "stdout",
     "output_type": "stream",
     "text": [
      "some random string\n"
     ]
    },
    {
     "data": {
      "text/plain": []
     },
     "metadata": {},
     "output_type": "display_data"
    }
   ],
   "source": [
    "tail()"
   ]
  },
  {
   "cell_type": "code",
   "execution_count": 1,
   "metadata": {
    "collapsed": false
   },
   "outputs": [
    {
     "data": {
      "text/plain": [
       "\u001b[36ma\u001b[0m: \u001b[32mString\u001b[0m = \u001b[32m\"aaa\"\u001b[0m"
      ]
     },
     "metadata": {},
     "output_type": "display_data"
    }
   ],
   "source": [
    "val a = \"aaa\""
   ]
  },
  {
   "cell_type": "code",
   "execution_count": 2,
   "metadata": {
    "collapsed": false
   },
   "outputs": [
    {
     "data": {
      "text/plain": [
       "\u001b[36mres1\u001b[0m: \u001b[32mInt\u001b[0m = \u001b[32m3\u001b[0m"
      ]
     },
     "metadata": {},
     "output_type": "display_data"
    }
   ],
   "source": [
    "a.size"
   ]
  },
  {
   "cell_type": "code",
   "execution_count": 3,
   "metadata": {
    "collapsed": false
   },
   "outputs": [
    {
     "data": {
      "text/plain": [
       "\u001b[36mwords\u001b[0m: \u001b[32mList\u001b[0m[\u001b[32mString\u001b[0m] = \u001b[33mList\u001b[0m(\u001b[32m\"this\"\u001b[0m, \u001b[32m\"is\"\u001b[0m, \u001b[32m\"an\"\u001b[0m, \u001b[32m\"other\"\u001b[0m, \u001b[32m\"words\"\u001b[0m, \u001b[32m\"count\"\u001b[0m, \u001b[32m\"again\"\u001b[0m)\n",
       "\u001b[36mcount\u001b[0m: \u001b[32mList\u001b[0m[\u001b[32mString\u001b[0m] = \u001b[33mList\u001b[0m(\n",
       "  \u001b[32m\"this is a word composed of 4 letters\"\u001b[0m,\n",
       "  \u001b[32m\"is is a word composed of 2 letters\"\u001b[0m,\n",
       "  \u001b[32m\"an is a word composed of 2 letters\"\u001b[0m,\n",
       "  \u001b[32m\"other is a word composed of 5 letters\"\u001b[0m,\n",
       "  \u001b[32m\"words is a word composed of 5 letters\"\u001b[0m,\n",
       "  \u001b[32m\"count is a word composed of 5 letters\"\u001b[0m,\n",
       "  \u001b[32m\"again is a word composed of 5 letters\"\u001b[0m\n",
       ")"
      ]
     },
     "metadata": {},
     "output_type": "display_data"
    }
   ],
   "source": [
    "val words :List[String] = \"this\":: \"is\" :: \"an\" :: \"other\" :: \"words\" :: \"count\" :: \"again\" :: Nil\n",
    "val count = for{w <- words} yield s\"$w is a word composed of ${w.size} letters\" "
   ]
  },
  {
   "cell_type": "code",
   "execution_count": 4,
   "metadata": {
    "collapsed": false
   },
   "outputs": [
    {
     "name": "stdout",
     "output_type": "stream",
     "text": [
      "this is a word composed of 4 letters\n",
      "is is a word composed of 2 letters\n",
      "an is a word composed of 2 letters\n",
      "other is a word composed of 5 letters\n",
      "words is a word composed of 5 letters\n",
      "count is a word composed of 5 letters\n",
      "again is a word composed of 5 letters\n"
     ]
    },
    {
     "data": {
      "text/plain": []
     },
     "metadata": {},
     "output_type": "display_data"
    }
   ],
   "source": [
    "for{c <- count} println(c)"
   ]
  },
  {
   "cell_type": "code",
   "execution_count": 5,
   "metadata": {
    "collapsed": false
   },
   "outputs": [
    {
     "data": {
      "text/plain": [
       "\u001b[36mres4\u001b[0m: \u001b[32mString\u001b[0m = \u001b[32m\"/Users/LoicMDIVAD\"\u001b[0m"
      ]
     },
     "metadata": {},
     "output_type": "display_data"
    }
   ],
   "source": []
  },
  {
   "cell_type": "code",
   "execution_count": null,
   "metadata": {
    "collapsed": true
   },
   "outputs": [],
   "source": []
  }
 ],
 "metadata": {
  "kernelspec": {
   "display_name": "Scala 2.11",
   "language": "scala211",
   "name": "scala211"
  },
  "language_info": {
   "codemirror_mode": "text/x-scala",
   "file_extension": ".scala",
   "mimetype": "text/x-scala",
   "name": "scala211",
   "pygments_lexer": "scala",
   "version": "2.11.7"
  }
 },
 "nbformat": 4,
 "nbformat_minor": 0
}
