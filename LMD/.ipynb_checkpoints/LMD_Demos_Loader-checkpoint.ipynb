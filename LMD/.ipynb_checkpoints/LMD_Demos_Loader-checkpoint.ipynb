{
 "cells": [
  {
   "cell_type": "code",
   "execution_count": null,
   "metadata": {
    "collapsed": true
   },
   "outputs": [],
   "source": [
    "# coding: utf8"
   ]
  },
  {
   "cell_type": "markdown",
   "metadata": {},
   "source": [
    "#Import"
   ]
  },
  {
   "cell_type": "code",
   "execution_count": null,
   "metadata": {
    "collapsed": true
   },
   "outputs": [],
   "source": [
    "import os\n",
    "import sys\n",
    "import json\n",
    "import pprint\n",
    "from pyes import *\n",
    "from datetime import date, datetime"
   ]
  },
  {
   "cell_type": "markdown",
   "metadata": {},
   "source": [
    "#Confinguration"
   ]
  },
  {
   "cell_type": "code",
   "execution_count": null,
   "metadata": {
    "collapsed": true
   },
   "outputs": [],
   "source": []
  },
  {
   "cell_type": "markdown",
   "metadata": {},
   "source": [
    "#Class project"
   ]
  },
  {
   "cell_type": "code",
   "execution_count": null,
   "metadata": {
    "collapsed": false
   },
   "outputs": [],
   "source": [
    "class demo(object):\n",
    "    \"\"\"\n",
    "    \"\"\"\n",
    "    \n",
    "    def __init__(self, title='title of the demo', desc='...', Type='bonnus', date=date.today(), html=u'index.html'):\n",
    "        self.title = title\n",
    "        self.date = date\n",
    "        self.source = html\n",
    "        self.demoType = Type\n",
    "        self.description = desc\n",
    "        \n",
    "        self.tools = self.credits = self.seeAlso =[]\n",
    "        self.score = 1.0\n",
    "    \n",
    "    @classmethod\n",
    "    def addAttributes(attr, values):\n",
    "        for v in values:\n",
    "            if v not in attr: attr.append(v)\n",
    "                \n",
    "    def addTools(self, values):\n",
    "        addAttributes(self.tools, values)\n",
    "        \n",
    "    def addCredits(self, values):\n",
    "        addAttributes(self.credits, values)\n",
    "    \n",
    "    def addSeeAlso(self, values):\n",
    "        addAttributes(self.seeAlso, values)\n",
    "                \n",
    "    @property\n",
    "    def show(self):\n",
    "        return {u'title': self.title,\n",
    "           u'description': self.description,\n",
    "           u'type': self.demoType,\n",
    "           u'date': self.date.strftime(u'%Y-%m-%d'),\n",
    "           u'source': self.source,\n",
    "           u'tools': self.tools,\n",
    "           u'credits': self.credits,\n",
    "           u'seeAlso': self.seeAlso\n",
    "          }\n"
   ]
  },
  {
   "cell_type": "markdown",
   "metadata": {},
   "source": [
    "#Loader"
   ]
  },
  {
   "cell_type": "markdown",
   "metadata": {},
   "source": [
    "### connection"
   ]
  },
  {
   "cell_type": "code",
   "execution_count": null,
   "metadata": {
    "collapsed": true
   },
   "outputs": [],
   "source": [
    "esConn = ES('127.0.0.1:9200')"
   ]
  },
  {
   "cell_type": "raw",
   "metadata": {},
   "source": [
    "#creat indes\n",
    "esConn.indices.create_index(\"lmd\")"
   ]
  },
  {
   "cell_type": "code",
   "execution_count": null,
   "metadata": {
    "collapsed": true
   },
   "outputs": [],
   "source": [
    "#add mapping\n",
    "mapping = {}"
   ]
  },
  {
   "cell_type": "code",
   "execution_count": null,
   "metadata": {
    "collapsed": false
   },
   "outputs": [],
   "source": [
    "d = demo(title='title of the demo N°1', Type='db')"
   ]
  },
  {
   "cell_type": "code",
   "execution_count": null,
   "metadata": {
    "collapsed": false
   },
   "outputs": [],
   "source": [
    "d = demo(title=u'2012/2013 Paris cars crash', Type=u'graph', html=u'cars_one.html')\n",
    "d.description = u'Which types of vehicule are involve in accidents for this period?'\n",
    "d.date = date(2015, 4, 20)"
   ]
  },
  {
   "cell_type": "code",
   "execution_count": null,
   "metadata": {
    "collapsed": false
   },
   "outputs": [],
   "source": [
    "esConn.index(d.show, 'lmd', 'demo')"
   ]
  },
  {
   "cell_type": "code",
   "execution_count": null,
   "metadata": {
    "collapsed": true
   },
   "outputs": [],
   "source": []
  }
 ],
 "metadata": {
  "kernelspec": {
   "display_name": "Python 2",
   "language": "python",
   "name": "python2"
  },
  "language_info": {
   "codemirror_mode": {
    "name": "ipython",
    "version": 2
   },
   "file_extension": ".py",
   "mimetype": "text/x-python",
   "name": "python",
   "nbconvert_exporter": "python",
   "pygments_lexer": "ipython2",
   "version": "2.7.9"
  }
 },
 "nbformat": 4,
 "nbformat_minor": 0
}
