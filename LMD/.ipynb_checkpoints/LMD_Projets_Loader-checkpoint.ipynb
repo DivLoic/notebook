{
 "cells": [
  {
   "cell_type": "code",
   "execution_count": 16,
   "metadata": {
    "collapsed": true
   },
   "outputs": [],
   "source": [
    "# coding: utf8"
   ]
  },
  {
   "cell_type": "markdown",
   "metadata": {},
   "source": [
    "#Import"
   ]
  },
  {
   "cell_type": "code",
   "execution_count": 17,
   "metadata": {
    "collapsed": true
   },
   "outputs": [],
   "source": [
    "import os\n",
    "import sys\n",
    "import json\n",
    "import pprint\n",
    "from pyes import *\n",
    "from datetime import date"
   ]
  },
  {
   "cell_type": "markdown",
   "metadata": {},
   "source": [
    "#Confinguration"
   ]
  },
  {
   "cell_type": "code",
   "execution_count": null,
   "metadata": {
    "collapsed": true
   },
   "outputs": [],
   "source": []
  },
  {
   "cell_type": "markdown",
   "metadata": {},
   "source": [
    "#Class project"
   ]
  },
  {
   "cell_type": "code",
   "execution_count": 58,
   "metadata": {
    "collapsed": false
   },
   "outputs": [],
   "source": [
    "class project():\n",
    "    \"\"\"\n",
    "    \"\"\"\n",
    "    \n",
    "    def __init__(self, name, desc='...', date=date.today(), link='#', icon='', team=''):\n",
    "        self.name = name\n",
    "        self.description = desc\n",
    "        self.date = date\n",
    "        self.link = link\n",
    "        self.icon = icon\n",
    "        self.team = team\n",
    "        \n",
    "        self.fellows = []\n",
    "        self.technologies = []\n",
    "        \n",
    "        self._id = 0\n",
    "        \n",
    "    @classmethod\n",
    "    def setId(self, _id):\n",
    "        self._id = _id\n",
    "        \n",
    "    @property\n",
    "    def getId(self):\n",
    "        return self._id\n",
    "    \n",
    "    def addFellows(self, fellows=[]):\n",
    "        for f in fellows: \n",
    "            if f not in self.fellows: self.fellows.append(f)\n",
    "\n",
    "    def addTech(self, tech=[]):\n",
    "        for t in tech: \n",
    "            if t not in self.technologies: self.technologies.append(t)\n",
    "    \n",
    "    @property\n",
    "    def show(self):\n",
    "        return {u'name': self.name,\n",
    "           u'description': self.description,\n",
    "           u'date': self.date.strftime(u'%Y-%m-%d'),\n",
    "           u'link': self.link,\n",
    "           u'icon': self.icon,\n",
    "           u'team': self.team,\n",
    "           u'fellows': self.fellows,\n",
    "           u'technologies': self.technologies\n",
    "          }"
   ]
  },
  {
   "cell_type": "markdown",
   "metadata": {},
   "source": [
    "#Loader"
   ]
  },
  {
   "cell_type": "markdown",
   "metadata": {},
   "source": [
    "### connection"
   ]
  },
  {
   "cell_type": "code",
   "execution_count": 48,
   "metadata": {
    "collapsed": true
   },
   "outputs": [],
   "source": [
    "esConn = ES('127.0.0.1:9200')"
   ]
  },
  {
   "cell_type": "raw",
   "metadata": {},
   "source": [
    "#creat indes\n",
    "esConn.indices.create_index(\"lmd\")"
   ]
  },
  {
   "cell_type": "code",
   "execution_count": 49,
   "metadata": {
    "collapsed": false
   },
   "outputs": [],
   "source": [
    "#add mapping\n",
    "mapping = {}"
   ]
  },
  {
   "cell_type": "code",
   "execution_count": 54,
   "metadata": {
    "collapsed": false
   },
   "outputs": [],
   "source": [
    "weshare = project(name=u'weshare',\n",
    "                  desc=u'...', \n",
    "                  date=date(2013, 10, 1),\n",
    "                  link=u'www.weshareG8B.com',\n",
    "                  icon=u'pro/weshare.png', team=u'G8B')\n",
    "\n",
    "weshare.addFellows([u'matthieu', u'Sara', u'Mimi', u'Thibault', u'Jordan'])\n",
    "weshare.addTech([u'PHP', u'JavaScript', u'MySQl'])"
   ]
  },
  {
   "cell_type": "code",
   "execution_count": 55,
   "metadata": {
    "collapsed": false
   },
   "outputs": [
    {
     "data": {
      "text/plain": [
       "{u'date': '2013-10-01',\n",
       " u'description': u'...',\n",
       " u'fellows': [u'matthieu', u'Sara', u'Mimi', u'Thibault', u'Jordan'],\n",
       " u'icon': u'pro/weshare.png',\n",
       " u'link': u'www.weshareG8B.com',\n",
       " u'name': u'weshare',\n",
       " u'team': u'G8B',\n",
       " u'technologies': [u'PHP', u'JavaScript', u'MySQl']}"
      ]
     },
     "execution_count": 55,
     "metadata": {},
     "output_type": "execute_result"
    }
   ],
   "source": [
    "weshare.show"
   ]
  },
  {
   "cell_type": "code",
   "execution_count": null,
   "metadata": {
    "collapsed": true
   },
   "outputs": [],
   "source": [
    "esConn.index(weshare.show, 'lmd', 'project', 1)"
   ]
  }
 ],
 "metadata": {
  "kernelspec": {
   "display_name": "Python 2",
   "language": "python",
   "name": "python2"
  },
  "language_info": {
   "codemirror_mode": {
    "name": "ipython",
    "version": 2
   },
   "file_extension": ".py",
   "mimetype": "text/x-python",
   "name": "python",
   "nbconvert_exporter": "python",
   "pygments_lexer": "ipython2",
   "version": "2.7.9"
  }
 },
 "nbformat": 4,
 "nbformat_minor": 0
}
