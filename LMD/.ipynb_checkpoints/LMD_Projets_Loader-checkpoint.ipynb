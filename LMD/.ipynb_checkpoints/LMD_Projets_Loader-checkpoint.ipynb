{
 "cells": [
  {
   "cell_type": "code",
   "execution_count": 20,
   "metadata": {
    "collapsed": true
   },
   "outputs": [],
   "source": [
    "# coding: utf8"
   ]
  },
  {
   "cell_type": "markdown",
   "metadata": {},
   "source": [
    "#Import"
   ]
  },
  {
   "cell_type": "code",
   "execution_count": 21,
   "metadata": {
    "collapsed": true
   },
   "outputs": [],
   "source": [
    "import os\n",
    "import sys\n",
    "import json\n",
    "import pprint\n",
    "from pyes import *\n",
    "from datetime import date"
   ]
  },
  {
   "cell_type": "markdown",
   "metadata": {},
   "source": [
    "#Confinguration"
   ]
  },
  {
   "cell_type": "code",
   "execution_count": null,
   "metadata": {
    "collapsed": true
   },
   "outputs": [],
   "source": []
  },
  {
   "cell_type": "markdown",
   "metadata": {},
   "source": [
    "#Class project"
   ]
  },
  {
   "cell_type": "code",
   "execution_count": 22,
   "metadata": {
    "collapsed": false
   },
   "outputs": [],
   "source": [
    "class project():\n",
    "    \"\"\"\n",
    "    \"\"\"\n",
    "    \n",
    "    def __init__(self, name, desc='...', date=date.today(), link='#', icon='', team=''):\n",
    "        self.name = name\n",
    "        self.description = desc\n",
    "        self.date = date\n",
    "        self.link = link\n",
    "        self.icon = icon\n",
    "        self.team = team\n",
    "        \n",
    "        self.coworkers = []\n",
    "        self.technologies = []\n",
    "        \n",
    "        self._id = 0\n",
    "        \n",
    "    @classmethod\n",
    "    def setId(self, _id):\n",
    "        self._id = _id\n",
    "        \n",
    "    @property\n",
    "    def getId(self):\n",
    "        return self._id\n",
    "    \n",
    "    def addCoworkers(self, coworkers=[]):\n",
    "        for f in coworkers: \n",
    "            if f not in self.coworkers: self.coworkers.append(f)\n",
    "\n",
    "    def addTech(self, tech=[]):\n",
    "        for t in tech: \n",
    "            if t not in self.technologies: self.technologies.append(t)\n",
    "    \n",
    "    @property\n",
    "    def show(self):\n",
    "        return {u'name': self.name,\n",
    "           u'description': self.description,\n",
    "           u'date': self.date.strftime(u'%Y-%m-%d'),\n",
    "           u'link': self.link,\n",
    "           u'icon': self.icon,\n",
    "           u'team': self.team,\n",
    "           u'coworkers': self.coworkers,\n",
    "           u'technologies': self.technologies\n",
    "          }"
   ]
  },
  {
   "cell_type": "markdown",
   "metadata": {},
   "source": [
    "#Loader"
   ]
  },
  {
   "cell_type": "markdown",
   "metadata": {},
   "source": [
    "### connection"
   ]
  },
  {
   "cell_type": "code",
   "execution_count": 23,
   "metadata": {
    "collapsed": true
   },
   "outputs": [],
   "source": [
    "esConn = ES('127.0.0.1:9200')"
   ]
  },
  {
   "cell_type": "raw",
   "metadata": {
    "collapsed": false
   },
   "source": [
    "#creat indes\n",
    "esConn.indices.create_index(\"lmd\")"
   ]
  },
  {
   "cell_type": "code",
   "execution_count": 24,
   "metadata": {
    "collapsed": false
   },
   "outputs": [],
   "source": [
    "#add mapping\n",
    "mapping = {}"
   ]
  },
  {
   "cell_type": "code",
   "execution_count": 25,
   "metadata": {
    "collapsed": false
   },
   "outputs": [],
   "source": [
    "weshare = project(name=u'weshare',\n",
    "                  desc=u'...', \n",
    "                  date=date(2013, 10, 1),\n",
    "                  link=u'http://weshareG8B.com',\n",
    "                  icon=u'weshare.svg', team=u'G8B')\n",
    "\n",
    "weshare.addCoworkers([1 + 4, 9 + 4, 10 + 4, 7 + 4, 8 + 4])\n",
    "weshare.addTech([u'PHP', u'JavaScript', u'MySQl'])"
   ]
  },
  {
   "cell_type": "code",
   "execution_count": 26,
   "metadata": {
    "collapsed": true
   },
   "outputs": [],
   "source": [
    "flat = project(name=u'FlatRacing',\n",
    "                  desc=u'...', \n",
    "                  date=date(2014, 3, 1),\n",
    "                  link=u'http://flatracing.github.io',\n",
    "                  icon=u'flatracing.svg', team=u'DivPuib')\n",
    "\n",
    "flat.addCoworkers([1 + 4])\n",
    "flat.addTech([u'JAVA / JavaScript'])"
   ]
  },
  {
   "cell_type": "code",
   "execution_count": 27,
   "metadata": {
    "collapsed": true
   },
   "outputs": [],
   "source": [
    "isepapp = project(name=u'Isepapp',\n",
    "                  desc=u'...', \n",
    "                  date=date(2015, 4, 1),\n",
    "                  link=u'http://Isepapp-purpledemo.com',\n",
    "                  icon=u'isepapp.svg', team=u'PurpleConsulting')\n",
    "\n",
    "isepapp.addCoworkers([2 + 4, 5 + 4, 4 + 4])\n",
    "isepapp.addTech([u'JAVA', u'MySQl', u'jQuery', u'Bootstrap'])"
   ]
  },
  {
   "cell_type": "code",
   "execution_count": 28,
   "metadata": {
    "collapsed": true
   },
   "outputs": [],
   "source": [
    "lmd = project(name=u'This web site is also a project (',\n",
    "                  desc=u'...', \n",
    "                  date=date(2015, 4, 1),\n",
    "                  link=u'',\n",
    "                  icon=u'dd.svg', team=u'Me')\n",
    "\n",
    "lmd.addTech([u'Ember.js', u'Skeleton.css', u'Divshot'])"
   ]
  },
  {
   "cell_type": "code",
   "execution_count": 29,
   "metadata": {
    "collapsed": false
   },
   "outputs": [
    {
     "data": {
      "text/plain": [
       "{u'_id': u'1',\n",
       " u'_index': u'lmd',\n",
       " u'_type': u'project',\n",
       " u'_version': 2,\n",
       " u'created': False}"
      ]
     },
     "execution_count": 29,
     "metadata": {},
     "output_type": "execute_result"
    }
   ],
   "source": [
    "esConn.index(weshare.show, 'lmd', 'project', 1)"
   ]
  },
  {
   "cell_type": "code",
   "execution_count": 30,
   "metadata": {
    "collapsed": false
   },
   "outputs": [
    {
     "data": {
      "text/plain": [
       "{u'_id': u'2',\n",
       " u'_index': u'lmd',\n",
       " u'_type': u'project',\n",
       " u'_version': 2,\n",
       " u'created': False}"
      ]
     },
     "execution_count": 30,
     "metadata": {},
     "output_type": "execute_result"
    }
   ],
   "source": [
    "esConn.index(flat.show, 'lmd', 'project', 2)"
   ]
  },
  {
   "cell_type": "code",
   "execution_count": 31,
   "metadata": {
    "collapsed": false
   },
   "outputs": [
    {
     "data": {
      "text/plain": [
       "{u'_id': u'3',\n",
       " u'_index': u'lmd',\n",
       " u'_type': u'project',\n",
       " u'_version': 2,\n",
       " u'created': False}"
      ]
     },
     "execution_count": 31,
     "metadata": {},
     "output_type": "execute_result"
    }
   ],
   "source": [
    "esConn.index(isepapp.show, 'lmd', 'project', 3)"
   ]
  },
  {
   "cell_type": "code",
   "execution_count": 32,
   "metadata": {
    "collapsed": false
   },
   "outputs": [
    {
     "data": {
      "text/plain": [
       "{u'_id': u'4',\n",
       " u'_index': u'lmd',\n",
       " u'_type': u'project',\n",
       " u'_version': 2,\n",
       " u'created': False}"
      ]
     },
     "execution_count": 32,
     "metadata": {},
     "output_type": "execute_result"
    }
   ],
   "source": [
    "esConn.index(lmd.show, 'lmd', 'project', 4)"
   ]
  },
  {
   "cell_type": "code",
   "execution_count": null,
   "metadata": {
    "collapsed": true
   },
   "outputs": [],
   "source": []
  }
 ],
 "metadata": {
  "kernelspec": {
   "display_name": "Python 2",
   "language": "python",
   "name": "python2"
  },
  "language_info": {
   "codemirror_mode": {
    "name": "ipython",
    "version": 2
   },
   "file_extension": ".py",
   "mimetype": "text/x-python",
   "name": "python",
   "nbconvert_exporter": "python",
   "pygments_lexer": "ipython2",
   "version": "2.7.9"
  }
 },
 "nbformat": 4,
 "nbformat_minor": 0
}
