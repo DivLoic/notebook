{
 "cells": [
  {
   "cell_type": "code",
   "execution_count": 1,
   "metadata": {
    "collapsed": true
   },
   "outputs": [],
   "source": [
    "# coding: utf8"
   ]
  },
  {
   "cell_type": "markdown",
   "metadata": {},
   "source": [
    "#Import"
   ]
  },
  {
   "cell_type": "code",
   "execution_count": 2,
   "metadata": {
    "collapsed": true
   },
   "outputs": [],
   "source": [
    "import os\n",
    "import sys\n",
    "import json\n",
    "import pprint\n",
    "from pyes import *\n",
    "from datetime import date"
   ]
  },
  {
   "cell_type": "markdown",
   "metadata": {},
   "source": [
    "#Confinguration"
   ]
  },
  {
   "cell_type": "code",
   "execution_count": null,
   "metadata": {
    "collapsed": true
   },
   "outputs": [],
   "source": []
  },
  {
   "cell_type": "code",
   "execution_count": 3,
   "metadata": {
    "collapsed": true
   },
   "outputs": [],
   "source": [
    "#Class coworker"
   ]
  },
  {
   "cell_type": "code",
   "execution_count": 4,
   "metadata": {
    "collapsed": true
   },
   "outputs": [],
   "source": [
    "class coworker():\n",
    "    \"\"\"\n",
    "    \"\"\"\n",
    "    \n",
    "    def __init__(self, firstName, lastName, alias, link=\"#\"):\n",
    "        self.firstName = firstName\n",
    "        self.lastName = lastName\n",
    "        self.alias = alias\n",
    "        \n",
    "        self.link = link\n",
    "    \n",
    "    @property\n",
    "    def fullName(self):\n",
    "        return self.firstName + u' ' + self.lastName\n",
    "    \n",
    "    \n",
    "    @property\n",
    "    def doc(self):\n",
    "        return { u'firstName': self.firstName,\n",
    "                 u'lastName': self.lastName,\n",
    "                 u'alias': self.alias,\n",
    "                 u'link': self.link\n",
    "                }"
   ]
  },
  {
   "cell_type": "code",
   "execution_count": 5,
   "metadata": {
    "collapsed": true
   },
   "outputs": [],
   "source": [
    "esConn = ES('127.0.0.1:9200')\n",
    "coworkers = []"
   ]
  },
  {
   "cell_type": "code",
   "execution_count": 6,
   "metadata": {
    "collapsed": false
   },
   "outputs": [],
   "source": [
    "Matthieu = coworker(u'Matthieu', u'Puibaraud', u'Matthieu')\n",
    "coworkers.append(Matthieu)"
   ]
  },
  {
   "cell_type": "code",
   "execution_count": 7,
   "metadata": {
    "collapsed": true
   },
   "outputs": [],
   "source": [
    "Zovena = coworker(u'Zovena', u'Kaneswaran', u'Zovena')\n",
    "coworkers.append(Zovena)"
   ]
  },
  {
   "cell_type": "code",
   "execution_count": 8,
   "metadata": {
    "collapsed": true
   },
   "outputs": [],
   "source": [
    "Romain = coworker(u'Romain', u'Philippe', u'Romain')\n",
    "coworkers.append(Romain)"
   ]
  },
  {
   "cell_type": "code",
   "execution_count": 9,
   "metadata": {
    "collapsed": true
   },
   "outputs": [],
   "source": [
    "Billy = coworker(u'Narisely', u'Rasolomalala', u'Billy')\n",
    "coworkers.append(Billy)"
   ]
  },
  {
   "cell_type": "code",
   "execution_count": 10,
   "metadata": {
    "collapsed": true
   },
   "outputs": [],
   "source": [
    "Delphine = coworker(u'Delphine', u'Chanthavong', u'Delphine C.')\n",
    "coworkers.append(Delphine)"
   ]
  },
  {
   "cell_type": "code",
   "execution_count": 11,
   "metadata": {
    "collapsed": true
   },
   "outputs": [],
   "source": [
    "Thibault = coworker(u'Thibault', u'Dlv', u'Thibault Dlv')\n",
    "coworkers.append(Thibault)"
   ]
  },
  {
   "cell_type": "code",
   "execution_count": 12,
   "metadata": {
    "collapsed": true
   },
   "outputs": [],
   "source": [
    "Jordan = coworker(u'Jordan', u'Sportes', u'Jordan')\n",
    "coworkers.append(Jordan)"
   ]
  },
  {
   "cell_type": "code",
   "execution_count": 13,
   "metadata": {
    "collapsed": true
   },
   "outputs": [],
   "source": [
    "Sara = coworker(u'Sara', u'Benazzouz', u'Sara B.')\n",
    "coworkers.append(Sara)"
   ]
  },
  {
   "cell_type": "code",
   "execution_count": 14,
   "metadata": {
    "collapsed": true
   },
   "outputs": [],
   "source": [
    "Mimi = coworker(u'Meryam', u'Fertini', u'Meryam')\n",
    "coworkers.append(Mimi)"
   ]
  },
  {
   "cell_type": "code",
   "execution_count": 15,
   "metadata": {
    "collapsed": false
   },
   "outputs": [],
   "source": [
    "for idx, worker in enumerate(coworkers):\n",
    "    esConn.index(worker.doc, 'lmd', 'coworker', idx + 5)"
   ]
  },
  {
   "cell_type": "code",
   "execution_count": 16,
   "metadata": {
    "collapsed": false
   },
   "outputs": [
    {
     "name": "stdout",
     "output_type": "stream",
     "text": [
      "[<__main__.coworker instance at 0x716d38293248>, <__main__.coworker instance at 0x716d38293368>, <__main__.coworker instance at 0x716d38293440>, <__main__.coworker instance at 0x716d38293518>, <__main__.coworker instance at 0x716d382935f0>, <__main__.coworker instance at 0x716d382936c8>, <__main__.coworker instance at 0x716d382937a0>, <__main__.coworker instance at 0x716d38293878>, <__main__.coworker instance at 0x716d38293950>]\n"
     ]
    }
   ],
   "source": [
    "print (coworkers)"
   ]
  },
  {
   "cell_type": "code",
   "execution_count": null,
   "metadata": {
    "collapsed": false
   },
   "outputs": [],
   "source": []
  }
 ],
 "metadata": {
  "kernelspec": {
   "display_name": "Python 2",
   "language": "python",
   "name": "python2"
  },
  "language_info": {
   "codemirror_mode": {
    "name": "ipython",
    "version": 2
   },
   "file_extension": ".py",
   "mimetype": "text/x-python",
   "name": "python",
   "nbconvert_exporter": "python",
   "pygments_lexer": "ipython2",
   "version": "2.7.9"
  }
 },
 "nbformat": 4,
 "nbformat_minor": 0
}
