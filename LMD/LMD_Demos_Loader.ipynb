{
 "cells": [
  {
   "cell_type": "code",
   "execution_count": 13,
   "metadata": {
    "collapsed": true
   },
   "outputs": [],
   "source": [
    "# coding: utf8"
   ]
  },
  {
   "cell_type": "markdown",
   "metadata": {},
   "source": [
    "#Import"
   ]
  },
  {
   "cell_type": "code",
   "execution_count": 14,
   "metadata": {
    "collapsed": true
   },
   "outputs": [],
   "source": [
    "import os\n",
    "import sys\n",
    "import json\n",
    "import pprint\n",
    "import urllib3\n",
    "import pandas as pd\n",
    "from urllib3 import make_headers\n",
    "from datetime import datetime, date"
   ]
  },
  {
   "cell_type": "markdown",
   "metadata": {},
   "source": [
    "#Confinguration"
   ]
  },
  {
   "cell_type": "code",
   "execution_count": 15,
   "metadata": {
    "collapsed": false
   },
   "outputs": [
    {
     "data": {
      "text/plain": [
       "{'accept-encoding': 'gzip,deflate'}"
      ]
     },
     "execution_count": 15,
     "metadata": {},
     "output_type": "execute_result"
    }
   ],
   "source": [
    "pp = pprint.PrettyPrinter(indent=4)\n",
    "http = urllib3.PoolManager()\n",
    "make_headers(accept_encoding=True)"
   ]
  },
  {
   "cell_type": "code",
   "execution_count": 16,
   "metadata": {
    "collapsed": true
   },
   "outputs": [],
   "source": [
    "HERE = os.getcwd() + '/'\n",
    "index = 'lmd'\n",
    "typeidx = 'demo'\n",
    "host = os.environ['LMD_ELASTIC_HOST']\n",
    "PROJECTS_CSV = u'demos.csv' "
   ]
  },
  {
   "cell_type": "markdown",
   "metadata": {},
   "source": [
    "#Class Demo"
   ]
  },
  {
   "cell_type": "code",
   "execution_count": 17,
   "metadata": {
    "collapsed": false
   },
   "outputs": [],
   "source": [
    "class Demo(object):\n",
    "    \"\"\"\n",
    "    \"\"\"\n",
    "    \n",
    "    def __init__(self, title='title of the demo', desc='...', Type='bonnus', date=date.today(), html=u'index.html'):\n",
    "        self._id = ''\n",
    "        \n",
    "        self.title = title\n",
    "        self.date = date\n",
    "        self.source = html\n",
    "        self.demoType = Type\n",
    "        self.description = desc\n",
    "        \n",
    "        self.tools = []\n",
    "        self.credits = []\n",
    "        self.seeAlso = []\n",
    "        self.score = 1.0\n",
    "    \n",
    "    def __addAttributes(self, attr, values):\n",
    "        for v in values:\n",
    "            if v not in attr: attr.append(v)\n",
    "                \n",
    "    def addTools(self, values):\n",
    "        self.__addAttributes(self.tools, values)\n",
    "        \n",
    "    def addCredits(self, values):\n",
    "        self.__addAttributes(self.credits, values)\n",
    "    \n",
    "    def addSeeAlso(self, values):\n",
    "        self.__addAttributes(self.seeAlso, values)\n",
    "                \n",
    "    @staticmethod\n",
    "    def linkAlias(field, listsep=\"|\", attrsep=\",\", na=''):\n",
    "        tab = field.split(listsep)\n",
    "        if field == na or len(tab) < 1:\n",
    "            return list()\n",
    "        else:\n",
    "            return map(lambda y: {u'alias': y.split(attrsep)[0],\\\n",
    "                                  u'link': y.split(attrsep)[1]}, tab)\n",
    "        \n",
    "        \n",
    "    @property\n",
    "    def show(self):\n",
    "        return {u'title': self.title,\n",
    "           u'description': self.description,\n",
    "           u'type': self.demoType,\n",
    "           u'date': self.date.strftime(u'%Y-%m-%d'),\n",
    "           u'source': self.source,\n",
    "           u'tools': self.tools,\n",
    "           u'credits': self.credits,\n",
    "           u'seeAlso': self.seeAlso\n",
    "          }\n",
    "    \n",
    "    # TODO: Play with heritage and delete this for project/demo/coworker\n",
    "    @property\n",
    "    def showstr(self):\n",
    "        return json.dumps(self.show)\n"
   ]
  },
  {
   "cell_type": "markdown",
   "metadata": {},
   "source": [
    "#Loader"
   ]
  },
  {
   "cell_type": "markdown",
   "metadata": {},
   "source": [
    "### connection"
   ]
  },
  {
   "cell_type": "raw",
   "metadata": {},
   "source": [
    "es = Elasticsearch(['https://' + host + ':8080'], use_ssl=True, verify_certs=True)"
   ]
  },
  {
   "cell_type": "code",
   "execution_count": 18,
   "metadata": {
    "collapsed": false
   },
   "outputs": [
    {
     "name": "stdout",
     "output_type": "stream",
     "text": [
      "{   u'cluster_name': u'elasticsearch',\n",
      "    u'name': u'Iron Man',\n",
      "    u'tagline': u'You Know, for Search',\n",
      "    u'version': {   u'build_hash': u'72cd1f1a3eee09505e036106146dc1949dc5dc87',\n",
      "                    u'build_snapshot': False,\n",
      "                    u'build_timestamp': u'2015-11-18T22:40:03Z',\n",
      "                    u'lucene_version': u'5.3.1',\n",
      "                    u'number': u'2.1.0'}}\n"
     ]
    }
   ],
   "source": [
    "res = http.request('GET', host)\n",
    "pp.pprint(json.loads(res.data))"
   ]
  },
  {
   "cell_type": "code",
   "execution_count": 19,
   "metadata": {
    "collapsed": false
   },
   "outputs": [],
   "source": [
    "df = pd.read_csv(HERE + PROJECTS_CSV, sep=';', lineterminator=u'\\r')"
   ]
  },
  {
   "cell_type": "code",
   "execution_count": 20,
   "metadata": {
    "collapsed": false
   },
   "outputs": [
    {
     "data": {
      "text/html": [
       "<div>\n",
       "<table border=\"1\" class=\"dataframe\">\n",
       "  <thead>\n",
       "    <tr style=\"text-align: right;\">\n",
       "      <th></th>\n",
       "      <th>id</th>\n",
       "      <th>title</th>\n",
       "      <th>description</th>\n",
       "      <th>type</th>\n",
       "      <th>date</th>\n",
       "      <th>source</th>\n",
       "      <th>tools</th>\n",
       "      <th>seeAlso</th>\n",
       "      <th>credits</th>\n",
       "    </tr>\n",
       "  </thead>\n",
       "  <tbody>\n",
       "    <tr>\n",
       "      <th>0</th>\n",
       "      <td>_carcrashone</td>\n",
       "      <td>Paris car accidents 12/13</td>\n",
       "      <td>Which types of vehicule are involved in accide...</td>\n",
       "      <td>graph</td>\n",
       "      <td>20/04/15</td>\n",
       "      <td>cars_one.html</td>\n",
       "      <td>python|spark|D3.js</td>\n",
       "      <td>map on same subject,/player/_carcrashtwo|#link...</td>\n",
       "      <td>thx to @kentenglish for all the chart tips,htt...</td>\n",
       "    </tr>\n",
       "    <tr>\n",
       "      <th>1</th>\n",
       "      <td>_carcrashtwo</td>\n",
       "      <td>Paris car accidents per rings</td>\n",
       "      <td>Lets have a look the accident distribution in ...</td>\n",
       "      <td>graph</td>\n",
       "      <td>21/04/15</td>\n",
       "      <td>cars_two.html</td>\n",
       "      <td>python|spark|D3.js</td>\n",
       "      <td>pie on the same subject,/player/_carcrashone|l...</td>\n",
       "      <td></td>\n",
       "    </tr>\n",
       "    <tr>\n",
       "      <th>2</th>\n",
       "      <td>_composite</td>\n",
       "      <td>Design pattern move: Composite</td>\n",
       "      <td></td>\n",
       "      <td>code</td>\n",
       "      <td>23/06/15</td>\n",
       "      <td></td>\n",
       "      <td></td>\n",
       "      <td></td>\n",
       "      <td></td>\n",
       "    </tr>\n",
       "    <tr>\n",
       "      <th>3</th>\n",
       "      <td>_blank2</td>\n",
       "      <td>a blank demo</td>\n",
       "      <td>X</td>\n",
       "      <td>ml</td>\n",
       "      <td></td>\n",
       "      <td></td>\n",
       "      <td></td>\n",
       "      <td></td>\n",
       "      <td></td>\n",
       "    </tr>\n",
       "    <tr>\n",
       "      <th>4</th>\n",
       "      <td>_blank</td>\n",
       "      <td>a blank demo2</td>\n",
       "      <td>X</td>\n",
       "      <td>db</td>\n",
       "      <td></td>\n",
       "      <td></td>\n",
       "      <td></td>\n",
       "      <td></td>\n",
       "      <td></td>\n",
       "    </tr>\n",
       "  </tbody>\n",
       "</table>\n",
       "</div>"
      ],
      "text/plain": [
       "             id                           title  \\\n",
       "0  _carcrashone       Paris car accidents 12/13   \n",
       "1  _carcrashtwo   Paris car accidents per rings   \n",
       "2    _composite  Design pattern move: Composite   \n",
       "3       _blank2                    a blank demo   \n",
       "4        _blank                   a blank demo2   \n",
       "\n",
       "                                         description   type      date  \\\n",
       "0  Which types of vehicule are involved in accide...  graph  20/04/15   \n",
       "1  Lets have a look the accident distribution in ...  graph  21/04/15   \n",
       "2                                                      code  23/06/15   \n",
       "3                                                  X     ml             \n",
       "4                                                  X     db             \n",
       "\n",
       "          source               tools  \\\n",
       "0  cars_one.html  python|spark|D3.js   \n",
       "1  cars_two.html  python|spark|D3.js   \n",
       "2                                      \n",
       "3                                      \n",
       "4                                      \n",
       "\n",
       "                                             seeAlso  \\\n",
       "0  map on same subject,/player/_carcrashtwo|#link...   \n",
       "1  pie on the same subject,/player/_carcrashone|l...   \n",
       "2                                                      \n",
       "3                                                      \n",
       "4                                                      \n",
       "\n",
       "                                             credits  \n",
       "0  thx to @kentenglish for all the chart tips,htt...  \n",
       "1                                                     \n",
       "2                                                     \n",
       "3                                                     \n",
       "4                                                     "
      ]
     },
     "execution_count": 20,
     "metadata": {},
     "output_type": "execute_result"
    }
   ],
   "source": [
    "df = df.fillna(value='')\n",
    "df.head()"
   ]
  },
  {
   "cell_type": "code",
   "execution_count": 21,
   "metadata": {
    "collapsed": false
   },
   "outputs": [],
   "source": [
    "for idx, p in df.iterrows():\n",
    "    d = Demo(title=p['title'], Type=p['type'], html=p['source'])\n",
    "    d.description = p['description']\n",
    "    d.addTools(p['tools'].split('|'))\n",
    "    d.addCredits(Demo.linkAlias(p['credits']))\n",
    "    d.addSeeAlso(Demo.linkAlias(p['seeAlso']))\n",
    "    d.id = p['id']\n",
    "    try:\n",
    "        d.date = datetime.strptime(p[u'date'], u'%d/%m/%y')\n",
    "    except:\n",
    "        d.date = datetime.today()\n",
    "        \n",
    "    #pp.pprint(d.show)\n",
    "    http.request('POST','/'.join([host, index, typeidx, p[u'id']]), body=d.showstr)\n",
    "    "
   ]
  },
  {
   "cell_type": "code",
   "execution_count": null,
   "metadata": {
    "collapsed": true
   },
   "outputs": [],
   "source": []
  },
  {
   "cell_type": "markdown",
   "metadata": {},
   "source": [
    "#Update "
   ]
  },
  {
   "cell_type": "markdown",
   "metadata": {
    "collapsed": false
   },
   "source": [
    "### find the document"
   ]
  },
  {
   "cell_type": "code",
   "execution_count": null,
   "metadata": {
    "collapsed": true
   },
   "outputs": [],
   "source": []
  },
  {
   "cell_type": "markdown",
   "metadata": {
    "collapsed": true
   },
   "source": [
    "### Perform update"
   ]
  },
  {
   "cell_type": "code",
   "execution_count": 23,
   "metadata": {
    "collapsed": false
   },
   "outputs": [],
   "source": [
    "tools = [u'Spark', u'D3.js']"
   ]
  },
  {
   "cell_type": "markdown",
   "metadata": {},
   "source": [
    "### Save"
   ]
  },
  {
   "cell_type": "code",
   "execution_count": null,
   "metadata": {
    "collapsed": true
   },
   "outputs": [],
   "source": []
  }
 ],
 "metadata": {
  "kernelspec": {
   "display_name": "Python 2",
   "language": "python",
   "name": "python2"
  },
  "language_info": {
   "codemirror_mode": {
    "name": "ipython",
    "version": 2
   },
   "file_extension": ".py",
   "mimetype": "text/x-python",
   "name": "python",
   "nbconvert_exporter": "python",
   "pygments_lexer": "ipython2",
   "version": "2.7.10"
  }
 },
 "nbformat": 4,
 "nbformat_minor": 0
}
