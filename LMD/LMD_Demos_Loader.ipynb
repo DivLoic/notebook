{
 "cells": [
  {
   "cell_type": "code",
   "execution_count": null,
   "metadata": {
    "collapsed": true
   },
   "outputs": [],
   "source": [
    "# coding: utf8"
   ]
  },
  {
   "cell_type": "markdown",
   "metadata": {},
   "source": [
    "#Import"
   ]
  },
  {
   "cell_type": "code",
   "execution_count": null,
   "metadata": {
    "collapsed": true
   },
   "outputs": [],
   "source": [
    "import os\n",
    "import sys\n",
    "import json\n",
    "import pprint\n",
    "from pyes import *\n",
    "from datetime import date, datetime"
   ]
  },
  {
   "cell_type": "markdown",
   "metadata": {},
   "source": [
    "#Confinguration"
   ]
  },
  {
   "cell_type": "code",
   "execution_count": null,
   "metadata": {
    "collapsed": true
   },
   "outputs": [],
   "source": []
  },
  {
   "cell_type": "markdown",
   "metadata": {},
   "source": [
    "#Class project"
   ]
  },
  {
   "cell_type": "code",
   "execution_count": null,
   "metadata": {
    "collapsed": false
   },
   "outputs": [],
   "source": [
    "class Demo(object):\n",
    "    \"\"\"\n",
    "    \"\"\"\n",
    "    \n",
    "    def __init__(self, title='title of the demo', desc='...', Type='bonnus', date=date.today(), html=u'index.html'):\n",
    "        self._id = ''\n",
    "        \n",
    "        self.title = title\n",
    "        self.date = date\n",
    "        self.source = html\n",
    "        self.demoType = Type\n",
    "        self.description = desc\n",
    "        \n",
    "        self.tools = []\n",
    "        self.credits = []\n",
    "        self.seeAlso = []\n",
    "        self.score = 1.0\n",
    "    \n",
    "    \n",
    "    @classmethod\n",
    "    def fetch(self, idx, elastic=ES('127.0.0.1:9200')):\n",
    "        doc = elastic.get('lmd', 'demo', idx)\n",
    "        \n",
    "        d = Demo(doc.title, doc.description, doc.Type, datetime.strptime(doc.date,\"%Y-%m-%d\"), doc.source)\n",
    "        \n",
    "        d.addTools(doc.tools)\n",
    "        d.addCredits(doc.credits)\n",
    "        #d.seeAlso(doc.seeAlso)\n",
    "        \n",
    "        d._id = idx\n",
    "        \n",
    "        return d\n",
    "    \n",
    "    def __addAttributes(self, attr, values):\n",
    "        for v in values:\n",
    "            if v not in attr: attr.append(v)\n",
    "                \n",
    "    def addTools(self, values):\n",
    "        self.__addAttributes(self.tools, values)\n",
    "        \n",
    "    def addCredits(self, values):\n",
    "        self.__addAttributes(self.credits, values)\n",
    "    \n",
    "    def addSeeAlso(self, values):\n",
    "        self.__addAttributes(self.seeAlso, values)\n",
    "                \n",
    "    @property\n",
    "    def show(self):\n",
    "        return {u'title': self.title,\n",
    "           u'description': self.description,\n",
    "           u'type': self.demoType,\n",
    "           u'date': self.date.strftime(u'%Y-%m-%d'),\n",
    "           u'source': self.source,\n",
    "           u'tools': self.tools,\n",
    "           u'credits': self.credits,\n",
    "           u'seeAlso': self.seeAlso\n",
    "          }\n"
   ]
  },
  {
   "cell_type": "markdown",
   "metadata": {},
   "source": [
    "#Loader"
   ]
  },
  {
   "cell_type": "markdown",
   "metadata": {},
   "source": [
    "### connection"
   ]
  },
  {
   "cell_type": "code",
   "execution_count": null,
   "metadata": {
    "collapsed": true
   },
   "outputs": [],
   "source": [
    "esConn = ES('127.0.0.1:9200')"
   ]
  },
  {
   "cell_type": "raw",
   "metadata": {},
   "source": [
    "#creat indes\n",
    "esConn.indices.create_index(\"lmd\")"
   ]
  },
  {
   "cell_type": "code",
   "execution_count": null,
   "metadata": {
    "collapsed": true
   },
   "outputs": [],
   "source": [
    "#add mapping\n",
    "mapping = {}"
   ]
  },
  {
   "cell_type": "code",
   "execution_count": null,
   "metadata": {
    "collapsed": false
   },
   "outputs": [],
   "source": [
    "d = Demo(title='title of the demo N°2', Type='code')"
   ]
  },
  {
   "cell_type": "code",
   "execution_count": null,
   "metadata": {
    "collapsed": false
   },
   "outputs": [],
   "source": [
    "d = Demo(title=u'2012/2013 Paris car accidents', Type=u'graph', html=u'cars_one.html')\n",
    "\n",
    "d.description = u'Which types of vehicule are involved in accidents for this period?'\n",
    "\n",
    "d.addTools([u'Spark',u'Python',u'D3.js'])\n",
    "\n",
    "d.addSeeAlso([\n",
    "        {u'alias': u'the how it works...', u'link': u'/player/zbbvevhberbv'},\n",
    "        {u'alias': u'MapReduce with Spark on .csv files', u'link': u'/player/zUCVrbv'}\n",
    "    ])\n",
    "\n",
    "#d.addCredits([u'<a href=\"https://twitter.com/kentenglish\">@kentenglish</a> who intruduce to me the legend trick on <a href=\"http://zeroviscosity.com\">zeroviscosity</a>',\n",
    "#              u'You can find the open data on <a href=\"http://opendata.paris.fr/explore/dataset/accidentologie/?tab=table\">opendata.paris</a>',])\n",
    "d.date = date(2015, 4, 20)"
   ]
  },
  {
   "cell_type": "code",
   "execution_count": null,
   "metadata": {
    "collapsed": false
   },
   "outputs": [],
   "source": [
    "d.show"
   ]
  },
  {
   "cell_type": "code",
   "execution_count": null,
   "metadata": {
    "collapsed": false
   },
   "outputs": [],
   "source": [
    "esConn.index(d.show, 'lmd', 'demo')"
   ]
  },
  {
   "cell_type": "code",
   "execution_count": null,
   "metadata": {
    "collapsed": true
   },
   "outputs": [],
   "source": []
  },
  {
   "cell_type": "markdown",
   "metadata": {},
   "source": [
    "#Update "
   ]
  },
  {
   "cell_type": "markdown",
   "metadata": {
    "collapsed": false
   },
   "source": [
    "### find the document"
   ]
  },
  {
   "cell_type": "code",
   "execution_count": null,
   "metadata": {
    "collapsed": false
   },
   "outputs": [],
   "source": [
    "doc = Demo.fetch('AU8jgcj2gzIYf3juNf_8', esConn)"
   ]
  },
  {
   "cell_type": "code",
   "execution_count": null,
   "metadata": {
    "collapsed": false
   },
   "outputs": [],
   "source": [
    "d.show"
   ]
  },
  {
   "cell_type": "markdown",
   "metadata": {
    "collapsed": true
   },
   "source": [
    "### Perform update"
   ]
  },
  {
   "cell_type": "code",
   "execution_count": null,
   "metadata": {
    "collapsed": true
   },
   "outputs": [],
   "source": [
    "doc.tools = [u'Spark', u'D3.js']"
   ]
  },
  {
   "cell_type": "markdown",
   "metadata": {},
   "source": [
    "### Save"
   ]
  },
  {
   "cell_type": "code",
   "execution_count": null,
   "metadata": {
    "collapsed": false
   },
   "outputs": [],
   "source": [
    "esConn.index(doc.show, u'lmd', u'demo', doc._id)"
   ]
  },
  {
   "cell_type": "code",
   "execution_count": null,
   "metadata": {
    "collapsed": true
   },
   "outputs": [],
   "source": []
  }
 ],
 "metadata": {
  "kernelspec": {
   "display_name": "Python 2",
   "language": "python",
   "name": "python2"
  },
  "language_info": {
   "codemirror_mode": {
    "name": "ipython",
    "version": 2
   },
   "file_extension": ".py",
   "mimetype": "text/x-python",
   "name": "python",
   "nbconvert_exporter": "python",
   "pygments_lexer": "ipython2",
   "version": "2.7.9"
  }
 },
 "nbformat": 4,
 "nbformat_minor": 0
}
