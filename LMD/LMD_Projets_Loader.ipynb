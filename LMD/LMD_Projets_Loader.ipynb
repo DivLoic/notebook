{
 "cells": [
  {
   "cell_type": "code",
   "execution_count": 81,
   "metadata": {
    "collapsed": true
   },
   "outputs": [],
   "source": [
    "# coding: utf8"
   ]
  },
  {
   "cell_type": "markdown",
   "metadata": {},
   "source": [
    "#Import"
   ]
  },
  {
   "cell_type": "code",
   "execution_count": 82,
   "metadata": {
    "collapsed": true
   },
   "outputs": [],
   "source": [
    "import os\n",
    "import sys\n",
    "import json\n",
    "import pprint\n",
    "import urllib3\n",
    "import pandas as pd\n",
    "from urllib3 import make_headers\n",
    "from datetime import datetime, date"
   ]
  },
  {
   "cell_type": "markdown",
   "metadata": {},
   "source": [
    "#Confinguration"
   ]
  },
  {
   "cell_type": "code",
   "execution_count": 83,
   "metadata": {
    "collapsed": false
   },
   "outputs": [
    {
     "data": {
      "text/plain": [
       "{'accept-encoding': 'gzip,deflate'}"
      ]
     },
     "execution_count": 83,
     "metadata": {},
     "output_type": "execute_result"
    }
   ],
   "source": [
    "pp = pprint.PrettyPrinter(indent=4)\n",
    "http = urllib3.PoolManager()\n",
    "make_headers(accept_encoding=True)"
   ]
  },
  {
   "cell_type": "code",
   "execution_count": 84,
   "metadata": {
    "collapsed": false
   },
   "outputs": [],
   "source": [
    "HERE = os.getcwd() + '/'\n",
    "index = 'lmd'\n",
    "typeidx = 'project'\n",
    "host = os.environ['LMD_ELASTIC_HOST']\n",
    "PROJECTS_CSV = u'projects.csv' "
   ]
  },
  {
   "cell_type": "markdown",
   "metadata": {},
   "source": [
    "#Class Project"
   ]
  },
  {
   "cell_type": "code",
   "execution_count": 85,
   "metadata": {
    "collapsed": false
   },
   "outputs": [],
   "source": [
    "class Project():\n",
    "    \"\"\"\n",
    "    \"\"\"\n",
    "    \n",
    "    def __init__(self, name, desc='...', date=date.today(), link='#', icon='', team=''):\n",
    "        self.name = name\n",
    "        self.description = desc\n",
    "        self.date = date\n",
    "        self.link = link\n",
    "        self.icon = icon\n",
    "        self.team = team\n",
    "        \n",
    "        self.coworkers = []\n",
    "        self.technologies = []\n",
    "        \n",
    "        self._id = 0\n",
    "        \n",
    "    def setId(self, _id):\n",
    "        self._id = _id\n",
    "        \n",
    "    @property\n",
    "    def getId(self):\n",
    "        return self._id\n",
    "    \n",
    "    def addCoworkers(self, coworkers=[]):\n",
    "        for f in coworkers: \n",
    "            if f not in self.coworkers: self.coworkers.append(f)\n",
    "\n",
    "    def addTech(self, tech=[]):\n",
    "        for t in tech: \n",
    "            if t not in self.technologies: self.technologies.append(t)\n",
    "    \n",
    "    @property\n",
    "    def show(self):\n",
    "        return {u'name': self.name,\n",
    "           u'description': self.description,\n",
    "           u'date': self.date.strftime(u'%Y-%m-%d'),\n",
    "           u'link': self.link,\n",
    "           u'icon': self.icon,\n",
    "           u'team': self.team,\n",
    "           u'coworkers': self.coworkers,\n",
    "           u'technologies': self.technologies\n",
    "          }\n",
    "    \n",
    "    @property\n",
    "    def showstr(self):\n",
    "        return json.dumps(self.show)"
   ]
  },
  {
   "cell_type": "markdown",
   "metadata": {},
   "source": [
    "#Loader"
   ]
  },
  {
   "cell_type": "markdown",
   "metadata": {},
   "source": [
    "### connection"
   ]
  },
  {
   "cell_type": "raw",
   "metadata": {
    "collapsed": false
   },
   "source": [
    "es = Elasticsearch(['https://' + host + ':8080'], use_ssl=True, verify_certs=True)"
   ]
  },
  {
   "cell_type": "code",
   "execution_count": 86,
   "metadata": {
    "collapsed": false
   },
   "outputs": [
    {
     "name": "stdout",
     "output_type": "stream",
     "text": [
      "{   u'cluster_name': u'elasticsearch',\n",
      "    u'name': u'Iron Man',\n",
      "    u'tagline': u'You Know, for Search',\n",
      "    u'version': {   u'build_hash': u'72cd1f1a3eee09505e036106146dc1949dc5dc87',\n",
      "                    u'build_snapshot': False,\n",
      "                    u'build_timestamp': u'2015-11-18T22:40:03Z',\n",
      "                    u'lucene_version': u'5.3.1',\n",
      "                    u'number': u'2.1.0'}}\n"
     ]
    }
   ],
   "source": [
    "res = http.request('GET', host)\n",
    "pp.pprint(json.loads(res.data))"
   ]
  },
  {
   "cell_type": "raw",
   "metadata": {},
   "source": [
    "#create index\n",
    "res = http.request('POST', host + '/' + index)\n",
    "pp.pprint(json.loads(res.data))"
   ]
  },
  {
   "cell_type": "raw",
   "metadata": {
    "collapsed": false
   },
   "source": [
    "#add mapping\n",
    "mapping = {}"
   ]
  },
  {
   "cell_type": "code",
   "execution_count": 87,
   "metadata": {
    "collapsed": false
   },
   "outputs": [],
   "source": [
    "df = pd.read_csv(HERE + PROJECTS_CSV, sep=';', lineterminator=u'\\r')"
   ]
  },
  {
   "cell_type": "code",
   "execution_count": 88,
   "metadata": {
    "collapsed": false
   },
   "outputs": [
    {
     "data": {
      "text/html": [
       "<div>\n",
       "<table border=\"1\" class=\"dataframe\">\n",
       "  <thead>\n",
       "    <tr style=\"text-align: right;\">\n",
       "      <th></th>\n",
       "      <th>id</th>\n",
       "      <th>name</th>\n",
       "      <th>description</th>\n",
       "      <th>date</th>\n",
       "      <th>link</th>\n",
       "      <th>icon</th>\n",
       "      <th>team</th>\n",
       "      <th>coworkers</th>\n",
       "      <th>technologies</th>\n",
       "    </tr>\n",
       "  </thead>\n",
       "  <tbody>\n",
       "    <tr>\n",
       "      <th>0</th>\n",
       "      <td>_weshare</td>\n",
       "      <td>weshare</td>\n",
       "      <td>NaN</td>\n",
       "      <td>01/10/13</td>\n",
       "      <td>http://weshare-isepdev.rhcloud.com/</td>\n",
       "      <td>weshare.svg</td>\n",
       "      <td>G8B</td>\n",
       "      <td>1|9|6|7|8</td>\n",
       "      <td>PHP|JavaScript|MySQl</td>\n",
       "    </tr>\n",
       "    <tr>\n",
       "      <th>1</th>\n",
       "      <td>_flatracing</td>\n",
       "      <td>FlatRacing</td>\n",
       "      <td>NaN</td>\n",
       "      <td>01/03/14</td>\n",
       "      <td>http://flatracing.github.io</td>\n",
       "      <td>flatracing.svg</td>\n",
       "      <td>Div&amp;Puib</td>\n",
       "      <td>1</td>\n",
       "      <td>JAVA (with JavaScript verison)</td>\n",
       "    </tr>\n",
       "    <tr>\n",
       "      <th>2</th>\n",
       "      <td>_isepapp</td>\n",
       "      <td>Isepapp</td>\n",
       "      <td>NaN</td>\n",
       "      <td>01/03/15</td>\n",
       "      <td>http://purple-isepdev.rhcloud.com/Isepapp</td>\n",
       "      <td>isepapp.svg</td>\n",
       "      <td>PurpleConsulting</td>\n",
       "      <td>2|5|4</td>\n",
       "      <td>JAVA|MySQl|jQuery|Bootstrap</td>\n",
       "    </tr>\n",
       "  </tbody>\n",
       "</table>\n",
       "</div>"
      ],
      "text/plain": [
       "            id        name  description      date  \\\n",
       "0     _weshare     weshare          NaN  01/10/13   \n",
       "1  _flatracing  FlatRacing          NaN  01/03/14   \n",
       "2     _isepapp     Isepapp          NaN  01/03/15   \n",
       "\n",
       "                                        link            icon  \\\n",
       "0        http://weshare-isepdev.rhcloud.com/     weshare.svg   \n",
       "1                http://flatracing.github.io  flatracing.svg   \n",
       "2  http://purple-isepdev.rhcloud.com/Isepapp     isepapp.svg   \n",
       "\n",
       "               team  coworkers                    technologies  \n",
       "0               G8B  1|9|6|7|8            PHP|JavaScript|MySQl  \n",
       "1          Div&Puib          1  JAVA (with JavaScript verison)  \n",
       "2  PurpleConsulting      2|5|4     JAVA|MySQl|jQuery|Bootstrap  "
      ]
     },
     "execution_count": 88,
     "metadata": {},
     "output_type": "execute_result"
    }
   ],
   "source": [
    "df.head()"
   ]
  },
  {
   "cell_type": "code",
   "execution_count": 89,
   "metadata": {
    "collapsed": false
   },
   "outputs": [],
   "source": [
    "for idx, p in df.iterrows():\n",
    "    pro = Project(name = p[u'name'],\n",
    "                  desc = u'...', \n",
    "                  date = datetime.strptime(p[u'date'], u'%d/%m/%y'),\n",
    "                  link = p[u'link'],\n",
    "                  icon = p[u'icon'], team = p[u'team'])\n",
    "    pro.addCoworkers(p[u'coworkers'].split('|'))\n",
    "    pro.addTech(p[u'technologies'].split('|'))\n",
    "    #response = esConn.index(pro.show, 'lmd', 'project', p[u'id'])\n",
    "    http.request('POST','/'.join([host, index, typeidx, p[u'id']]), body=pro.showstr)\n",
    "    #pp.pprint(pro.show)"
   ]
  },
  {
   "cell_type": "code",
   "execution_count": null,
   "metadata": {
    "collapsed": true
   },
   "outputs": [],
   "source": []
  },
  {
   "cell_type": "code",
   "execution_count": null,
   "metadata": {
    "collapsed": true
   },
   "outputs": [],
   "source": []
  },
  {
   "cell_type": "code",
   "execution_count": 90,
   "metadata": {
    "collapsed": true
   },
   "outputs": [],
   "source": [
    "lmd = Project(name=u'This web site is also a project (',\n",
    "                  desc=u'...', \n",
    "                  date=date(2015, 4, 1),\n",
    "                  link=u'',\n",
    "                  icon=u'dd.svg', team=u'Me')\n",
    "lmd.addTech([u'Ember.js', u'Skeleton.css', u'Divshot'])"
   ]
  },
  {
   "cell_type": "code",
   "execution_count": 91,
   "metadata": {
    "collapsed": true
   },
   "outputs": [],
   "source": [
    "#curl -XDELETE http://localhost:9200/lmd/project/?pretty\n",
    "#http.request('DELETE', )"
   ]
  },
  {
   "cell_type": "code",
   "execution_count": null,
   "metadata": {
    "collapsed": true
   },
   "outputs": [],
   "source": []
  },
  {
   "cell_type": "code",
   "execution_count": null,
   "metadata": {
    "collapsed": false
   },
   "outputs": [],
   "source": []
  }
 ],
 "metadata": {
  "kernelspec": {
   "display_name": "Python 2",
   "language": "python",
   "name": "python2"
  },
  "language_info": {
   "codemirror_mode": {
    "name": "ipython",
    "version": 2
   },
   "file_extension": ".py",
   "mimetype": "text/x-python",
   "name": "python",
   "nbconvert_exporter": "python",
   "pygments_lexer": "ipython2",
   "version": "2.7.10"
  }
 },
 "nbformat": 4,
 "nbformat_minor": 0
}
