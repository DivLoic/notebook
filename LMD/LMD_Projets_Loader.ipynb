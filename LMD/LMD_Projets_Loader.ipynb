{
 "cells": [
  {
   "cell_type": "code",
   "execution_count": null,
   "metadata": {
    "collapsed": true
   },
   "outputs": [],
   "source": [
    "# coding: utf8"
   ]
  },
  {
   "cell_type": "markdown",
   "metadata": {},
   "source": [
    "#Import"
   ]
  },
  {
   "cell_type": "code",
   "execution_count": null,
   "metadata": {
    "collapsed": true
   },
   "outputs": [],
   "source": [
    "import os\n",
    "import sys\n",
    "import json\n",
    "import pprint\n",
    "from pyes import *\n",
    "import pandas as pd\n",
    "pp = pprint.PrettyPrinter(indent=4)\n",
    "from datetime import datetime, date"
   ]
  },
  {
   "cell_type": "markdown",
   "metadata": {},
   "source": [
    "#Confinguration"
   ]
  },
  {
   "cell_type": "code",
   "execution_count": null,
   "metadata": {
    "collapsed": false
   },
   "outputs": [],
   "source": [
    "HERE = os.getcwd() + '/'\n",
    "PROJECTS_CSV = u'projects.csv' "
   ]
  },
  {
   "cell_type": "markdown",
   "metadata": {},
   "source": [
    "#Class project"
   ]
  },
  {
   "cell_type": "code",
   "execution_count": null,
   "metadata": {
    "collapsed": false
   },
   "outputs": [],
   "source": [
    "class project():\n",
    "    \"\"\"\n",
    "    \"\"\"\n",
    "    \n",
    "    def __init__(self, name, desc='...', date=date.today(), link='#', icon='', team=''):\n",
    "        self.name = name\n",
    "        self.description = desc\n",
    "        self.date = date\n",
    "        self.link = link\n",
    "        self.icon = icon\n",
    "        self.team = team\n",
    "        \n",
    "        self.coworkers = []\n",
    "        self.technologies = []\n",
    "        \n",
    "        self._id = 0\n",
    "        \n",
    "    def setId(self, _id):\n",
    "        self._id = _id\n",
    "        \n",
    "    @property\n",
    "    def getId(self):\n",
    "        return self._id\n",
    "    \n",
    "    def addCoworkers(self, coworkers=[]):\n",
    "        for f in coworkers: \n",
    "            if f not in self.coworkers: self.coworkers.append(f)\n",
    "\n",
    "    def addTech(self, tech=[]):\n",
    "        for t in tech: \n",
    "            if t not in self.technologies: self.technologies.append(t)\n",
    "    \n",
    "    @property\n",
    "    def show(self):\n",
    "        return {u'name': self.name,\n",
    "           u'description': self.description,\n",
    "           u'date': self.date.strftime(u'%Y-%m-%d'),\n",
    "           u'link': self.link,\n",
    "           u'icon': self.icon,\n",
    "           u'team': self.team,\n",
    "           u'coworkers': self.coworkers,\n",
    "           u'technologies': self.technologies\n",
    "          }"
   ]
  },
  {
   "cell_type": "markdown",
   "metadata": {},
   "source": [
    "#Loader"
   ]
  },
  {
   "cell_type": "markdown",
   "metadata": {},
   "source": [
    "### connection"
   ]
  },
  {
   "cell_type": "code",
   "execution_count": null,
   "metadata": {
    "collapsed": true
   },
   "outputs": [],
   "source": [
    "esConn = ES('127.0.0.1:9200')"
   ]
  },
  {
   "cell_type": "raw",
   "metadata": {
    "collapsed": false
   },
   "source": [
    "#creat indes\n",
    "esConn.indices.create_index(\"lmd\")"
   ]
  },
  {
   "cell_type": "code",
   "execution_count": null,
   "metadata": {
    "collapsed": false
   },
   "outputs": [],
   "source": [
    "#add mapping\n",
    "mapping = {}"
   ]
  },
  {
   "cell_type": "code",
   "execution_count": null,
   "metadata": {
    "collapsed": false
   },
   "outputs": [],
   "source": [
    "df = pd.read_csv(HERE + PROJECTS_CSV, sep=';', lineterminator=u'\\r')"
   ]
  },
  {
   "cell_type": "code",
   "execution_count": null,
   "metadata": {
    "collapsed": false
   },
   "outputs": [],
   "source": [
    "df.head()"
   ]
  },
  {
   "cell_type": "code",
   "execution_count": null,
   "metadata": {
    "collapsed": false
   },
   "outputs": [],
   "source": [
    "for idx, p in df.iterrows():\n",
    "    pro = project(name = p[u'name'],\n",
    "                  desc = u'...', \n",
    "                  date = datetime.strptime(p[u'date'], u'%d/%m/%y'),\n",
    "                  link = p[u'link'],\n",
    "                  icon = p[u'icon'], team = p[u'team'])\n",
    "    pro.addCoworkers(p[u'coworkers'].split('|'))\n",
    "    pro.addTech(p[u'technologies'].split('|'))\n",
    "    response = esConn.index(pro.show, 'lmd', 'project', p[u'id'])\n",
    "    pp.pprint(response)\n",
    "    #pp.pprint(pro.show)"
   ]
  },
  {
   "cell_type": "code",
   "execution_count": null,
   "metadata": {
    "collapsed": true
   },
   "outputs": [],
   "source": [
    "lmd = project(name=u'This web site is also a project (',\n",
    "                  desc=u'...', \n",
    "                  date=date(2015, 4, 1),\n",
    "                  link=u'',\n",
    "                  icon=u'dd.svg', team=u'Me')\n",
    "\n",
    "lmd.addTech([u'Ember.js', u'Skeleton.css', u'Divshot'])"
   ]
  },
  {
   "cell_type": "code",
   "execution_count": null,
   "metadata": {
    "collapsed": false
   },
   "outputs": [],
   "source": [
    "esConn.index(lmd.show, 'lmd', 'project')"
   ]
  },
  {
   "cell_type": "code",
   "execution_count": null,
   "metadata": {
    "collapsed": true
   },
   "outputs": [],
   "source": [
    "#curl -XDELETE http://localhost:9200/lmd/project/?pretty\n",
    "esConn.delete('lmd', 'project', '', bulk=False)"
   ]
  },
  {
   "cell_type": "code",
   "execution_count": null,
   "metadata": {
    "collapsed": false
   },
   "outputs": [],
   "source": [
    "#esConn.get('lmd', 'project', None)"
   ]
  },
  {
   "cell_type": "code",
   "execution_count": null,
   "metadata": {
    "collapsed": true
   },
   "outputs": [],
   "source": []
  },
  {
   "cell_type": "code",
   "execution_count": null,
   "metadata": {
    "collapsed": false
   },
   "outputs": [],
   "source": []
  }
 ],
 "metadata": {
  "kernelspec": {
   "display_name": "Python 2",
   "language": "python",
   "name": "python2"
  },
  "language_info": {
   "codemirror_mode": {
    "name": "ipython",
    "version": 2
   },
   "file_extension": ".py",
   "mimetype": "text/x-python",
   "name": "python",
   "nbconvert_exporter": "python",
   "pygments_lexer": "ipython2",
   "version": "2.7.10"
  }
 },
 "nbformat": 4,
 "nbformat_minor": 0
}
