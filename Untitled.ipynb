{
 "cells": [
  {
   "cell_type": "code",
   "execution_count": 1,
   "metadata": {
    "collapsed": true
   },
   "outputs": [],
   "source": [
    "import random\n",
    "import math"
   ]
  },
  {
   "cell_type": "code",
   "execution_count": 3,
   "metadata": {
    "collapsed": true
   },
   "outputs": [],
   "source": [
    "y = []\n",
    "_y = []"
   ]
  },
  {
   "cell_type": "code",
   "execution_count": 5,
   "metadata": {
    "collapsed": false
   },
   "outputs": [],
   "source": [
    "for x in range(31):\n",
    "    y.append(random.gauss(371695.0, 206080.8))"
   ]
  },
  {
   "cell_type": "code",
   "execution_count": 7,
   "metadata": {
    "collapsed": false
   },
   "outputs": [],
   "source": [
    "for x in range(31):\n",
    "    _y.append(random.gauss(324114.0, 152240.8))"
   ]
  },
  {
   "cell_type": "code",
   "execution_count": 8,
   "metadata": {
    "collapsed": false
   },
   "outputs": [
    {
     "data": {
      "text/plain": [
       "[538493.6150424294,\n",
       " 524302.7965410782,\n",
       " 594515.2581496444,\n",
       " 882580.6515564353,\n",
       " 94837.33481101505,\n",
       " 224380.88932894438,\n",
       " 152026.15525936036,\n",
       " 519735.81878420204,\n",
       " 348516.8152322746,\n",
       " 480451.7739333383,\n",
       " 295137.1247458147,\n",
       " 104342.77104171074,\n",
       " 353008.61926179845,\n",
       " 859472.518696855,\n",
       " 372084.57563305367,\n",
       " 353328.57339640317,\n",
       " 510854.14938603085,\n",
       " 250980.805237205,\n",
       " 354270.7608472178,\n",
       " 661639.9290039073,\n",
       " 589826.6559733892,\n",
       " 392000.49049700086,\n",
       " 325716.28701585013,\n",
       " 530844.0191975811,\n",
       " 530081.5804293427,\n",
       " 193793.55209094772,\n",
       " 111264.01650785143,\n",
       " 216967.35462329682,\n",
       " 578345.4641356118,\n",
       " 706280.026933332,\n",
       " 504642.3367473184]"
      ]
     },
     "execution_count": 8,
     "metadata": {},
     "output_type": "execute_result"
    }
   ],
   "source": [
    "y"
   ]
  },
  {
   "cell_type": "code",
   "execution_count": 9,
   "metadata": {
    "collapsed": false
   },
   "outputs": [
    {
     "data": {
      "text/plain": [
       "[443255.0462334302,\n",
       " 348059.70062593656,\n",
       " 384877.8766929306,\n",
       " 358869.7273988897,\n",
       " 301033.9124046645,\n",
       " 588107.070225169,\n",
       " 305548.34882215474,\n",
       " -42550.70719558315,\n",
       " 415071.36118795804,\n",
       " 426850.22805250523,\n",
       " 459964.01724979613,\n",
       " 428167.36584730115,\n",
       " 449624.44787433156,\n",
       " 80996.09927745163,\n",
       " 165551.9811594612,\n",
       " 275919.25552038086,\n",
       " 372963.2992532342,\n",
       " 264335.56263177755,\n",
       " -32171.007882045582,\n",
       " 398428.7623110911,\n",
       " 251855.27856728382,\n",
       " 350663.19063162984,\n",
       " 308887.9870581713,\n",
       " 424490.58862100035,\n",
       " 283865.61247797316,\n",
       " 479678.2345064329,\n",
       " 427527.2098542511,\n",
       " 248966.5963787054,\n",
       " 337728.7075905824,\n",
       " 289511.01708957343,\n",
       " 98865.95980714308]"
      ]
     },
     "execution_count": 9,
     "metadata": {},
     "output_type": "execute_result"
    }
   ],
   "source": [
    "_y"
   ]
  },
  {
   "cell_type": "code",
   "execution_count": null,
   "metadata": {
    "collapsed": true
   },
   "outputs": [],
   "source": []
  }
 ],
 "metadata": {
  "kernelspec": {
   "display_name": "Python 2",
   "language": "python",
   "name": "python2"
  },
  "language_info": {
   "codemirror_mode": {
    "name": "ipython",
    "version": 2
   },
   "file_extension": ".py",
   "mimetype": "text/x-python",
   "name": "python",
   "nbconvert_exporter": "python",
   "pygments_lexer": "ipython2",
   "version": "2.7.12"
  }
 },
 "nbformat": 4,
 "nbformat_minor": 0
}
