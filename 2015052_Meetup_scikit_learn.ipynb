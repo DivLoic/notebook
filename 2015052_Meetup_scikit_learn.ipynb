{
 "cells": [
  {
   "cell_type": "code",
   "execution_count": null,
   "metadata": {
    "collapsed": true
   },
   "outputs": [],
   "source": [
    "romain.jouin@memorandum.pro"
   ]
  },
  {
   "cell_type": "markdown",
   "metadata": {},
   "source": []
  },
  {
   "cell_type": "markdown",
   "metadata": {},
   "source": [
    "# Fondamentaux du Machine Learning"
   ]
  },
  {
   "cell_type": "markdown",
   "metadata": {},
   "source": [
    "L'objectif majeur du Machine Learning est de prévoir une valeur de sortie en fonction d'un ensemble de valeurs en  entrée. Par exemple, prévoir le prix d'un appartement en fonction du nombre de mètres carrés. \n",
    "\n",
    "La problématique principale de cet exercice est que nous ne connaissons jamais tous les paramètres influençant la valeur de sortie. Par exemple pour l'appartement, quid de la ville dans laquelle se situe l'appartement, du numéro de l'étage, de l'orientation des fenêtres, de l'état du parquet, du bruit dans la rue, de l'empressement du propriétaire à vendre ? Tous ces paramètres ne sont pas forcément fournis, et d'autres ne peuvent pas être connus (nombre d'acheteurs potentiels,  vice caché, goût de l'acheteur, 'coup de coeur'...).\n",
    "\n",
    "Par conséquent nous savons uniquement que nous ne savosn pas tout. Il va falloir faire avec, et s'appuyer sur les mesures que nous avons pour déterminer la variable de sortie. C'est l'objectif du Machine Learning en mode supervisé.\n",
    "\n",
    "Il existe aussi un Machine Learning non supervisé qui consiste à chercher des ensembles homogènes dans des données. On parle de clustering."
   ]
  },
  {
   "cell_type": "markdown",
   "metadata": {},
   "source": [
    "## Régression et classification"
   ]
  },
  {
   "cell_type": "markdown",
   "metadata": {},
   "source": [
    "Le type de variable de sortie peut être soit un nombre, soit une catégorie (mot, un label). Ce sont deux cas légérement distincts : on parlera de \"régression\" pour prévoir un nombre (par exemple le prix d'un appartement), et de \"classification\" pour prévoir une catégorie (par exemple le type d'appartement : \"F1 / F2 / F3\"...).\n"
   ]
  },
  {
   "cell_type": "markdown",
   "metadata": {},
   "source": [
    "## Apprentissage supervisé et non supervisé"
   ]
  },
  {
   "cell_type": "markdown",
   "metadata": {},
   "source": [
    "Deux grands types d'apprentissage existent : \n",
    "\n",
    "1) supervisé : En apprentissage supervisé, nous fournissons des exemples de paires connues entre des mesures (étage, nomnre de mètre carrés, nombre de chambres) et des valeurs de sorties (historique de prix de vente). Nous posons l'hypothèse que dans le futur nous aurons accés aux mesures, sans connaître la variable de sortie. Il va donc falloir apprendre à prévoir la variable de sortie à partie du jeux de mesures que nous prévoyons de recevoir à l'avenir.\n",
    "\n",
    "2) non supervisé : En apprentissage non supervisé la problématique est différente : nous cherchons à trouver des groupes se ressemblant dans les données fournies. "
   ]
  },
  {
   "cell_type": "markdown",
   "metadata": {},
   "source": [
    "## Caractéristiques des algorithmes : biais et variance"
   ]
  },
  {
   "cell_type": "markdown",
   "metadata": {},
   "source": [
    "Pour un algorithme supervisé, on a en entrée un jeu d'entrainement (où les caractéristiques des appartements et leurs prix sont connus) et un jeu de test (où seuls les caractéristiques des appartements sont donnés à l'algorithme, qui doit alors prévoir le prix).\n",
    "\n",
    "L'algorithme apprend sur le jeu d'entrainement, et on mesure sa performance sur sa capacité à répondre correctement sur le jeu de test. En plus du fait que tout l'univers n'est pas connu, il y a deux raisons principales qui font que les algorithmes supervisé se trompent : \n",
    "\n",
    "1) ils sont biaisés : c'est l'erreur de fait - un algorithme supervisé se trompe, voilà tout. L'erreur est presque indépendante de ce qu'on lui donne en entrée. \n",
    "\n",
    "2) ils varient : c'est les changements dans les prédictions selon les données entrées en test (si je ne donne que des appartements à paris pour apprendre et qu'ensuite j'essaie de prévoir des prix à Lyon, l'algorithme va probablement prévoir des prix trop élevés. Par contre si je lui donne en entrée un mix de prix parisiens et lyonnais, alors l'algorithme va sans doute mieux prévoir. C'est donc un algorithme qui varie selon les données d'entrées, on parle de variance.)\n",
    "\n",
    "On souhaitera donc réduire le biais et la variance.\n",
    "    "
   ]
  },
  {
   "cell_type": "markdown",
   "metadata": {},
   "source": [
    "# Import pour Scikit Learn"
   ]
  },
  {
   "cell_type": "code",
   "execution_count": 10,
   "metadata": {
    "collapsed": false
   },
   "outputs": [],
   "source": [
    "\"\"\"\n",
    "            IMPORTS\n",
    "\"\"\"\n",
    "from __future__ import division\n",
    "import matplotlib\n",
    "import numpy as np\n",
    "import matplotlib.pyplot as plt\n",
    "from datetime import datetime\n",
    "%matplotlib inline"
   ]
  },
  {
   "cell_type": "markdown",
   "metadata": {},
   "source": [
    "# Régression linéaire"
   ]
  },
  {
   "cell_type": "markdown",
   "metadata": {},
   "source": [
    "En deux dimensions le plus simple est de faire passer une droite entre les poins, selon la méthode des moindres carrés."
   ]
  },
  {
   "cell_type": "code",
   "execution_count": 86,
   "metadata": {
    "collapsed": false
   },
   "outputs": [
    {
     "data": {
      "image/png": "[encoded data removed]",
      "text/plain": [
       "<matplotlib.figure.Figure at 0x11642a250>"
      ]
     },
     "metadata": {},
     "output_type": "display_data"
    }
   ],
   "source": [
    "diametres = [[6], [8], [10], [14],   [18]]\n",
    "prix = [[7], [9], [13], [17.5], [18]]\n",
    "\n",
    "plt.figure()\n",
    "plt.title('Prix des pizzas Vs diametre')\n",
    "plt.xlabel('Diametre')\n",
    "plt.ylabel('Prix')\n",
    "plt.plot(diametres, prix, 'k.')\n",
    "plt.axis([0, 25, 0, 25])\n",
    "plt.grid(True)\n",
    "plt.show()"
   ]
  },
  {
   "cell_type": "markdown",
   "metadata": {},
   "source": [
    "## Création et set up d'un modèle"
   ]
  },
  {
   "cell_type": "code",
   "execution_count": 87,
   "metadata": {
    "collapsed": false
   },
   "outputs": [
    {
     "name": "stdout",
     "output_type": "stream",
     "text": [
      "Pour un diametre de 12 on predit un prix de  13.68\n"
     ]
    }
   ],
   "source": [
    "from sklearn.linear_model import LinearRegression\n",
    "# creation du modele\n",
    "model = LinearRegression()\n",
    "# apprentissage\n",
    "model.fit(diametres, prix)\n",
    "# question\n",
    "diametre_a_predire = 12\n",
    "# prediction :\n",
    "prediction = model.predict(diametre_a_predire)\n",
    "#affichage :\n",
    "print \"Pour un diametre de %s on predit un prix de  %.2f\"%(diametre_a_predire, prediction)"
   ]
  },
  {
   "cell_type": "markdown",
   "metadata": {},
   "source": [
    "##Utilisation d'un modèle"
   ]
  },
  {
   "cell_type": "code",
   "execution_count": 91,
   "metadata": {
    "collapsed": true
   },
   "outputs": [],
   "source": [
    "diametre_a_predire = 25\n",
    "prevision = model.predict(diametre_a_predire)"
   ]
  },
  {
   "cell_type": "code",
   "execution_count": 92,
   "metadata": {
    "collapsed": false
   },
   "outputs": [
    {
     "data": {
      "image/png": "[encoded data removed]",
      "text/plain": [
       "<matplotlib.figure.Figure at 0x1133db050>"
      ]
     },
     "metadata": {},
     "output_type": "display_data"
    }
   ],
   "source": [
    "plt.figure()\n",
    "plt.title('Prix des pizzas Vs diametre')\n",
    "plt.xlabel('Diametre')\n",
    "plt.ylabel('Prix')\n",
    "plt.plot(diametre, prix, 'k.')\n",
    "plt.plot([[0],  [diametre_a_predire]],[model.intercept_, [prevision]], 'g-')\n",
    "plt.axis([0, 25, 0, 25])\n",
    "plt.grid(True)\n",
    "plt.show()"
   ]
  },
  {
   "cell_type": "code",
   "execution_count": 89,
   "metadata": {
    "collapsed": false
   },
   "outputs": [
    {
     "name": "stdout",
     "output_type": "stream",
     "text": [
      "[[ 0.9762931]]\n"
     ]
    }
   ],
   "source": [
    "# pente de la doite\n",
    "print model.coef_"
   ]
  },
  {
   "cell_type": "code",
   "execution_count": 79,
   "metadata": {
    "collapsed": false
   },
   "outputs": [
    {
     "name": "stdout",
     "output_type": "stream",
     "text": [
      "[ 1.96551724]\n"
     ]
    }
   ],
   "source": [
    "# valeurà zéo : \n",
    "print model.intercept_"
   ]
  },
  {
   "cell_type": "code",
   "execution_count": 90,
   "metadata": {
    "collapsed": false
   },
   "outputs": [
    {
     "data": {
      "text/plain": [
       "array([[ 13.68103448]])"
      ]
     },
     "execution_count": 90,
     "metadata": {},
     "output_type": "execute_result"
    }
   ],
   "source": [
    "# calcul de la prédiction\n",
    "prediction = model.intercept_ + model.coef_ * diametre_a_predire\n",
    "prediction"
   ]
  },
  {
   "cell_type": "markdown",
   "metadata": {},
   "source": [
    "## Noter le modèle"
   ]
  },
  {
   "cell_type": "code",
   "execution_count": 93,
   "metadata": {
    "collapsed": false
   },
   "outputs": [
    {
     "data": {
      "text/plain": [
       "array([[  7.82327586],\n",
       "       [  9.77586207],\n",
       "       [ 11.72844828],\n",
       "       [ 15.63362069],\n",
       "       [ 19.5387931 ]])"
      ]
     },
     "execution_count": 93,
     "metadata": {},
     "output_type": "execute_result"
    }
   ],
   "source": [
    "# valeur d'entrées prédite par le modèle créé : \n",
    "model.predict(diametres)"
   ]
  },
  {
   "cell_type": "code",
   "execution_count": 99,
   "metadata": {
    "collapsed": false
   },
   "outputs": [
    {
     "data": {
      "text/plain": [
       "array([[ 0.82327586],\n",
       "       [ 0.77586207],\n",
       "       [-1.27155172],\n",
       "       [-1.86637931],\n",
       "       [ 1.5387931 ]])"
      ]
     },
     "execution_count": 99,
     "metadata": {},
     "output_type": "execute_result"
    }
   ],
   "source": [
    "# Erreur de prédiction sur les valeurs d'entrée : \n",
    "erreurs = model.predict(diametres) - prix\n",
    "erreurs"
   ]
  },
  {
   "cell_type": "code",
   "execution_count": 106,
   "metadata": {
    "collapsed": false
   },
   "outputs": [
    {
     "data": {
      "text/plain": [
       "1.7495689655172406"
      ]
     },
     "execution_count": 106,
     "metadata": {},
     "output_type": "execute_result"
    }
   ],
   "source": [
    "#Erreur moyenne :\n",
    "square_error = [erreur*erreur for erreur in erreurs ]\n",
    "moyenne_des_erreurs = np.mean(square_error)\n",
    "moyenne_des_erreurs"
   ]
  },
  {
   "cell_type": "code",
   "execution_count": 109,
   "metadata": {
    "collapsed": false
   },
   "outputs": [
    {
     "data": {
      "text/plain": [
       "0.91000159642401024"
      ]
     },
     "execution_count": 109,
     "metadata": {},
     "output_type": "execute_result"
    }
   ],
   "source": [
    "# Scoring du modèle sur les  prix d'apprentissage (méthode r-squared):\n",
    "model.score(diametres, prix)"
   ]
  },
  {
   "cell_type": "markdown",
   "metadata": {},
   "source": [
    "##Tester le modèle"
   ]
  },
  {
   "cell_type": "code",
   "execution_count": 111,
   "metadata": {
    "collapsed": false
   },
   "outputs": [
    {
     "data": {
      "text/plain": [
       "array([[  9.77586207],\n",
       "       [ 10.75215517],\n",
       "       [ 12.70474138],\n",
       "       [ 17.5862069 ],\n",
       "       [ 13.68103448]])"
      ]
     },
     "execution_count": 111,
     "metadata": {},
     "output_type": "execute_result"
    }
   ],
   "source": [
    "# Une fois le modèle appris, nous pouvons le tester sur de nouvelles entrées :\n",
    "nouveaux_diametres = [[8],  [9],   [11], [16], [12]]\n",
    "nouveaux_prix = [[11], [8.5], [15], [18], [11]]\n",
    "# Prediction des prix par les diametres :\n",
    "model.predict(nouveaux_diametres)"
   ]
  },
  {
   "cell_type": "code",
   "execution_count": 112,
   "metadata": {
    "collapsed": false
   },
   "outputs": [
    {
     "data": {
      "text/plain": [
       "array([[-1.22413793],\n",
       "       [ 2.25215517],\n",
       "       [-2.29525862],\n",
       "       [-0.4137931 ],\n",
       "       [ 2.68103448]])"
      ]
     },
     "execution_count": 112,
     "metadata": {},
     "output_type": "execute_result"
    }
   ],
   "source": [
    "#Erreur de prédiction:\n",
    "nouvelles_erreurs = model.predict(nouveaux_diametres)  - nouveaux_prix\n",
    "nouvelles_erreurs"
   ]
  },
  {
   "cell_type": "code",
   "execution_count": 113,
   "metadata": {
    "collapsed": false
   },
   "outputs": [
    {
     "data": {
      "text/plain": [
       "3.8396198721759802"
      ]
     },
     "execution_count": 113,
     "metadata": {},
     "output_type": "execute_result"
    }
   ],
   "source": [
    "#Nouvelle Erreur moyenne :\n",
    "square_error = [erreur*erreur for erreur in nouvelles_erreurs ]\n",
    "moyenne_des_erreurs = np.mean(square_error)\n",
    "moyenne_des_erreurs\n"
   ]
  },
  {
   "cell_type": "code",
   "execution_count": 114,
   "metadata": {
    "collapsed": false
   },
   "outputs": [
    {
     "data": {
      "text/plain": [
       "0.6620052929422553"
      ]
     },
     "execution_count": 114,
     "metadata": {},
     "output_type": "execute_result"
    }
   ],
   "source": [
    "#scoring sur de nouveaux prix:\n",
    "model.score(nouveaux_diametres, nouveaux_prix)"
   ]
  },
  {
   "cell_type": "markdown",
   "metadata": {},
   "source": [
    "Le modèle explique 66% de la variance"
   ]
  },
  {
   "cell_type": "markdown",
   "metadata": {},
   "source": [
    "# Régression linéaire sur plusieurs colonnes"
   ]
  },
  {
   "cell_type": "code",
   "execution_count": 1,
   "metadata": {
    "collapsed": false
   },
   "outputs": [
    {
     "data": {
      "text/plain": [
       "0.93364567605175108"
      ]
     },
     "execution_count": 1,
     "metadata": {},
     "output_type": "execute_result"
    }
   ],
   "source": [
    "from sklearn.linear_model import LinearRegression\n",
    "#nouveaux jeu d'apprentissage : \n",
    "diametre__nb_ingredients = [[6, 2], [8, 1], [10, 4], [14, 2], [18, 2]]\n",
    "prix = [[7],    [9],    [13],    [17.5],  [18]]\n",
    "# création d'un modèle :\n",
    "model = LinearRegression()\n",
    "# apprentissage :\n",
    "model.fit(diametre__nb_ingredients, prix)\n",
    "# scoring sur le jeu d'apprentissage : \n",
    "model.score(diametre__nb_ingredients, prix)"
   ]
  },
  {
   "cell_type": "code",
   "execution_count": 2,
   "metadata": {
    "collapsed": false
   },
   "outputs": [
    {
     "name": "stdout",
     "output_type": "stream",
     "text": [
      "Prediction: 9.66, Reel: 11.00, Erreur = 1.34\n",
      "Prediction: 10.63, Reel: 8.50, Erreur = -2.13\n",
      "Prediction: 12.57, Reel: 15.00, Erreur = 2.43\n",
      "Prediction: 17.42, Reel: 18.00, Erreur = 0.58\n",
      "Prediction: 14.23, Reel: 11.00, Erreur = -3.23\n"
     ]
    }
   ],
   "source": [
    "diametre__nb_ingredients_test = [[8, 2], [9, 2], [11, 2], [16, 2], [12, 3]]\n",
    "prix_test = [[11],   [8.5],  [15],    [18],    [11]]\n",
    "predictions = model.predict(diametre__nb_ingredients_test)\n",
    "for i, prediction in enumerate(predictions):\n",
    "    print 'Prediction: %.2f, Reel: %.2f, Erreur = %.2f' % (prediction[0], prix_test[i][0], prix_test[i][0] - prediction[0] )"
   ]
  },
  {
   "cell_type": "code",
   "execution_count": 3,
   "metadata": {
    "collapsed": false
   },
   "outputs": [
    {
     "data": {
      "text/plain": [
       "0.59476354155807987"
      ]
     },
     "execution_count": 3,
     "metadata": {},
     "output_type": "execute_result"
    }
   ],
   "source": [
    "model.score(diametre__nb_ingredients_test, prix_test)"
   ]
  },
  {
   "cell_type": "markdown",
   "metadata": {},
   "source": [
    "# Régression polynomiale"
   ]
  },
  {
   "cell_type": "markdown",
   "metadata": {},
   "source": [
    "Nous avons vu une relation linéaire entre les composantes, mais le monde est plus complexe et il est possible que les relations soient polynomiales... représentées par une courbe !"
   ]
  },
  {
   "cell_type": "code",
   "execution_count": 200,
   "metadata": {
    "collapsed": false
   },
   "outputs": [
    {
     "data": {
      "text/plain": [
       "0.9816421639597428"
      ]
     },
     "execution_count": 200,
     "metadata": {},
     "output_type": "execute_result"
    }
   ],
   "source": [
    "\"\"\"\n",
    "    Préprocessing des vecteurs d'entrée en polynome de degré deux :\n",
    "\"\"\"\n",
    "# import de la librairie :\n",
    "from sklearn.preprocessing import PolynomialFeatures\n",
    "# Création d'un objet de conversion en polynome :\n",
    "quadratic = PolynomialFeatures(degree=2)\n",
    "# Préprocessing des diamétres :\n",
    "diametres_quadratic = quadratic.fit_transform(diametres)\n",
    "\"\"\"\n",
    "    Création d' un modèle linéaire sur ces features quadratics\n",
    "\"\"\"\n",
    "modele_lineaire = LinearRegression()\n",
    "modele_lineaire.fit(diametres_quadratic, prix)\n",
    "# scoring sur les inputs d'entrée :\n",
    "modele_lineaire.score(diametres_quadratic, prix)"
   ]
  },
  {
   "cell_type": "code",
   "execution_count": 199,
   "metadata": {
    "collapsed": false
   },
   "outputs": [
    {
     "data": {
      "text/plain": [
       "[0, 25, 0, 25]"
      ]
     },
     "execution_count": 199,
     "metadata": {},
     "output_type": "execute_result"
    },
    {
     "data": {
      "image/png": "[encoded data removed]",
      "text/plain": [
       "<matplotlib.figure.Figure at 0x116df0fd0>"
      ]
     },
     "metadata": {},
     "output_type": "display_data"
    }
   ],
   "source": [
    "\"\"\"\n",
    "    PLOTTING de tous les prix pour des diamétres entre 0 et 25\n",
    "\"\"\" \n",
    "# Création d'un objet de conversion en polynome :\n",
    "quadratic = PolynomialFeatures(degree=2)\n",
    "\n",
    "nouveaux_diametres_de_0_a_25 = np.linspace(0,25,100).reshape(100, 1)# un vecteur de prix de 0 à 100 alignés\n",
    "# Préprocessin des diamètres :\n",
    "diametres_quadratic_0_a_25  = quadratic.fit_transform(nouveaux_diametres_de_0_a_25)\n",
    "\n",
    "\"\"\"\n",
    "        Modèle linéaire sur les features linéaires\n",
    "\"\"\"\n",
    "# on recrée un modèle linéaire\n",
    "modele_lineaire = LinearRegression()\n",
    "# on apprend sur les diametres linéaires :\n",
    "modele_lineaire.fit(diametres, prix)\n",
    "# on créé une représentation artificielle de ce modèle:\n",
    "predictions_lineaire = modele_lineaire.predict(nouveaux_diametres_de_0_a_25)\n",
    "\n",
    "\"\"\"\n",
    "    Modèle linéaire sur les features polynomialisées\n",
    "\"\"\"\n",
    "#on crée un modèle linéaire sur les features polynomiales\n",
    "modele_quadratic = LinearRegression()\n",
    "# on apprend sur les anciens diametres\n",
    "modele_quadratic.fit(diametres_quadratic, prix)\n",
    "# on prédit sur les nouveaux :\n",
    "predictions_quadratic = modele_quadratic.predict(diametres_quadratic_0_a_25) \n",
    "\"\"\"\n",
    "    Display\n",
    "\"\"\"\n",
    "plt.scatter(diametres, prix)\n",
    "plt.plot(diametres_de_0_a_25,predictions_lineaire)# affichage\n",
    "plt.plot(diametres_de_0_a_25,predictions_quadratic)\n",
    "plt.axis([0,25,0,25])\n"
   ]
  },
  {
   "cell_type": "markdown",
   "metadata": {},
   "source": [
    "# Classification"
   ]
  },
  {
   "cell_type": "markdown",
   "metadata": {},
   "source": [
    "## Mesure de performance dans la classification"
   ]
  },
  {
   "cell_type": "markdown",
   "metadata": {},
   "source": [
    "Une erreur de prédiction est plus ou moins grave : se tromper sur le diagnostic d'un cancer ou sur le prix d'une pizza n'a pas la même conséquence. Par conséquent il faudra trouver des moyens de pénaliser les erreurs aux conséquences les plus graves dans la vie réelle. C'est l'enjeu d'un set up métier.\n",
    "\n",
    "Pour les tâches de classification, l existe des mesures de performances qui sont indépendantes de cet environnement. Imaginons une classification des tumeurs en 'cancerreuse', 'non cancerreuse', on peut alors calculer : \n",
    "\n",
    "a) les vrais positifs : le nombre de cellule classées cancerreuse, et réellement cancerreuse \n",
    "\n",
    "b) les vrais négatifs : le nombre de celluls classées non cancerreuse, et réellement non cancereuses\n",
    "\n",
    "c) les faux positifs : le nombre de cellule classées cancerreuse, alors qu'elles ne l'étaient pas\n",
    "\n",
    "d) les faux négatifs : le nombre de cellule classées non cancerreuses, alors qu'elles l'étaient.\n",
    "\n",
    "Visiblement, nous cherchons un maximum de (a) et (b). Par contre (c) peut induire des examens médicaux en trop, mais est moins génant que (d) où l'on risque de ne plus s'occuper d'un malade que l'on a déclaré sain.\n",
    "\n",
    "Ainsi on calcul différentes mesures de la qualité de la prédiction à partir de ces 4 chiffres : \n",
    "1) l'accuité : c'est le nombre de bonne réponses (a+b) divisés par le nombre de réponses \n",
    "\n",
    "2) la précision : c'est, quand l'algorithme donne un résultat positif, le pourcentage de fois qu'il a raison. Les résultats positifs sont les \"vrais positifs\" (a) et les \"faux positifs\" (c). En divisant (a) par (a+c) on a une mesure de la confiance que l'on peut donner à l'algotihme : quand il me dit qu'il y a un cancer, il a raison à n%. On parle de précision.\n",
    "\n",
    "3) Le rappel : on calcul le nombre de tumeurs cancerreuse réelle : c'est les vrais positifs + les faux négatifs (a+d). Et on divise le nombre de tumeurs déclarés cancerreuse par le nombre réel de cellule cancerreuse (a). On obtient donc (a /(a+d)), c'est le rappel : le pourcentage de cellule cancerreuse effectivement trouvé."
   ]
  },
  {
   "cell_type": "markdown",
   "metadata": {},
   "source": [
    "# Perceptron"
   ]
  },
  {
   "cell_type": "markdown",
   "metadata": {},
   "source": [
    "Le perceptron est un algorithme de classification binaire sur des classes O / 1. Il utilise un neurone pour prendre sa décision. Un neurone est une fonction qui prend en paramètre plusieurs entrées, et calcule une sortie. \n",
    "\n",
    "sortie = activation_function( sum ( wi *xi) + b )\n",
    "\n",
    "xi sont les entrées (valeurs des variables : diamètre des pizzas)\n",
    "wi sont les paramètres du modèles (changera à chaque tour)\n",
    "b est le biais (constante)\n",
    "activation_function : type de neurone choisi (fonction utilisée : heaviside step : on prédit \"classe 1\" si la somme > 0, \"classe 0\" sinon.)\n",
    "\n",
    "Le perceptron lit les entrées une à une, et corrige ses poids w à chaque ligne. Au début les wi sont mis proches de 0, et la valeur prédite est comparée au réel. \n",
    "On update les poids selon la formule : \n",
    "\n",
    "prochain_wi = wi_actuel + taux_d_apprentissage * ( vrai_classe - prédiction ) * valeur_de_la_feature\n",
    "\n",
    "On voit que l'erreur est calculée : vrai_classe - prédiction. Si la prédiction est vraie, alors l'erreur vaut 0 et dans ce cas le prochain_wi vaudra le wi_actuel.\n",
    "Sinon l'erreur vaut 1 et alors on multiplie la valeur de la feature par le taux_d_apprentissage, que l'on ajoute au paramètre actuel. Ainsi le wi s'incrémente-t-il d'un pourcentage du poids de la valeur de la feature.\n",
    "\n",
    "Ce système est fait pour chaque ligne, et les poids varient d'une ligne à l'autre. C'est un apprentissage quasi en ligne.\n",
    "\n",
    "\n",
    "\n",
    "\n"
   ]
  },
  {
   "cell_type": "code",
   "execution_count": 215,
   "metadata": {
    "collapsed": false
   },
   "outputs": [
    {
     "data": {
      "image/png": "[encoded data removed]",
      "text/plain": [
       "<matplotlib.figure.Figure at 0x116d87b10>"
      ]
     },
     "metadata": {},
     "output_type": "display_data"
    }
   ],
   "source": [
    "import numpy as np\n",
    "import matplotlib.pyplot as plt\n",
    "\n",
    "X = np.array([\n",
    "    [0.2, 0.1],\n",
    "    [0.4, 0.6],\n",
    "    [0.5, 0.2],\n",
    "    [0.7, 0.9]\n",
    "])\n",
    "\n",
    "y = [0, 0, 0, 1]\n",
    "\n",
    "markers = ['.', 'x']\n",
    "plt.scatter(X[:3, 0], X[:3, 1], marker='.', s=400)\n",
    "plt.scatter(X[3, 0], X[3, 1], marker='x', s=400)\n",
    "plt.xlabel('Proportion of the day spent sleeping')\n",
    "plt.ylabel('Proportion of the day spent being grumpy')\n",
    "plt.title('Kittens and Adult Cats')\n",
    "plt.show()"
   ]
  },
  {
   "cell_type": "code",
   "execution_count": 214,
   "metadata": {
    "collapsed": false
   },
   "outputs": [
    {
     "name": "stdout",
     "output_type": "stream",
     "text": [
      "\n",
      "Starting epoch 1\n",
      "-- Epoch 1\n",
      "Norm: 0.42, NNZs: 2, Bias: 0.000000, T: 4, Avg. loss: 0.455000\n",
      "Total training time: 0.00 seconds.\n",
      "[ 0.] [[-0.3 -0.3]]\n"
     ]
    },
    {
     "data": {
      "image/png": "[encoded data removed]",
      "text/plain": [
       "<matplotlib.figure.Figure at 0x116d8a450>"
      ]
     },
     "metadata": {},
     "output_type": "display_data"
    },
    {
     "name": "stdout",
     "output_type": "stream",
     "text": [
      "\n",
      "Starting epoch 2\n",
      "-- Epoch 1\n",
      "Norm: 0.42, NNZs: 2, Bias: 0.000000, T: 4, Avg. loss: 0.455000\n",
      "Total training time: 0.00 seconds.\n",
      "-- Epoch 2\n",
      "Norm: 1.12, NNZs: 2, Bias: 0.000000, T: 8, Avg. loss: 0.385000\n",
      "Total training time: 0.00 seconds.\n",
      "[ 0.] [[-0.5 -1. ]]\n"
     ]
    },
    {
     "data": {
      "image/png": "[encoded data removed]",
      "text/plain": [
       "<matplotlib.figure.Figure at 0x116c90d90>"
      ]
     },
     "metadata": {},
     "output_type": "display_data"
    },
    {
     "name": "stdout",
     "output_type": "stream",
     "text": [
      "\n",
      "Starting epoch 3\n",
      "-- Epoch 1\n",
      "Norm: 0.42, NNZs: 2, Bias: 0.000000, T: 4, Avg. loss: 0.455000\n",
      "Total training time: 0.00 seconds.\n",
      "-- Epoch 2\n",
      "Norm: 1.12, NNZs: 2, Bias: 0.000000, T: 8, Avg. loss: 0.385000\n",
      "Total training time: 0.00 seconds.\n",
      "-- Epoch 3\n",
      "Norm: 0.95, NNZs: 2, Bias: 1.000000, T: 12, Avg. loss: 0.273333\n",
      "Total training time: 0.00 seconds.\n",
      "[ 1.] [[-0.3 -0.9]]\n",
      "converged in epoch 3\n"
     ]
    },
    {
     "data": {
      "image/png": "[encoded data removed]",
      "text/plain": [
       "<matplotlib.figure.Figure at 0x11654ac10>"
      ]
     },
     "metadata": {},
     "output_type": "display_data"
    }
   ],
   "source": [
    "from sklearn.linear_model import Perceptron\n",
    "import matplotlib.pyplot as plt\n",
    "import numpy as np\n",
    "\n",
    "X = np.array([\n",
    "    [0.2, 0.1],\n",
    "    [0.4, 0.6],\n",
    "    [0.5, 0.2],\n",
    "    [0.7, 0.9]\n",
    "])\n",
    "X_test = np.array([\n",
    "    [0.7, 0.8]\n",
    "])\n",
    "\n",
    "Y = np.array([1, 1, 1, 0])\n",
    "h = 0.02\n",
    "\n",
    "# create a mesh to plot in\n",
    "x_min, x_max = X[:, 0].min() - 1, X[:, 0].max() + 1\n",
    "y_min, y_max = X[:, 1].min() - 1, X[:, 1].max() + 1\n",
    "xx, yy = np.meshgrid(np.arange(x_min, x_max, h),\n",
    "                     np.arange(y_min, y_max, h))\n",
    "fig = plt.figure()\n",
    "\n",
    "for e in range(1, 7):\n",
    "    print '\\nStarting epoch', e\n",
    "    clf = Perceptron(n_iter=e, verbose=5).fit(X, Y)\n",
    "    print clf.intercept_, clf.coef_\n",
    "    Z = clf.predict(np.c_[xx.ravel(), yy.ravel()])\n",
    "    Z = Z.reshape(xx.shape)\n",
    "    # fig.add_subplot(1, 5, e)\n",
    "    plt.contourf(xx, yy, Z, cmap=plt.cm.Paired)\n",
    "    # ax.contourf(xx, yy, Z, cmap=plt.cm.Paired)\n",
    "    # Plot also the training points\n",
    "    plt.scatter(X[:, 0], X[:, 1], c=Y, cmap=plt.cm.Paired)\n",
    "    plt.title('Epoch %s' % e)\n",
    "\n",
    "    if clf.score(X, Y) == 1:\n",
    "        print 'converged in epoch', e\n",
    "        break\n",
    "    plt.show()"
   ]
  },
  {
   "cell_type": "markdown",
   "metadata": {},
   "source": [
    "# Arbre de décision"
   ]
  },
  {
   "cell_type": "markdown",
   "metadata": {},
   "source": [
    "Un arbre de décision pose des questions les une à la suite des autres. Il faut trouver des questions pertinentes : qui permettent de cataloguer les éléments, sans trop les exclure. \n",
    "\n",
    "A chaque étape nous aurons un mixte de différentes classes. Les meilleures questions sont celles qui réduisent ce mixte. Nous pouvons le mesurer par la mesure de l'entropie.\n",
    "\n",
    "Pour chaque niveau de l'arbre nous pouvons mesurer l'entropie des feuilles : \n",
    "\n",
    "entropie origine =  - sum ( proba( classe) * log (proba(classe) )  )\n",
    "\n",
    "Ensuite nous créons des questions pour diminuer l'entropie. Nous pouvons calculer l'entropie de chaque feuille :\n",
    "\n",
    "entropie d'une feuille =  - sum ( proba( classe) * log (proba(classe) )  )\n",
    "\n",
    "Une trop bonne question peut poser problème : si on a un sous-set avec 1 seul élément, son entropie passe à 0 (on est sûr de la réponse). Par contre l'entropie de l'autre côté ne baissera que très peu.\n",
    "Il faut donc trouver un bon équilibre. On parle de \"Gain d'information\". \n",
    "\n",
    "Le gain d'information est une comparaison entre l'entropie du noeud précédent et celui du noeud créé en dessous.\n",
    "\n",
    "gain d'information\n",
    "= \n",
    "entropie( niveau au dessus) - sum (entropy(chaque_niveau_en_dessous) * nb_variable_du_niveau_inferieur / nb_de_variable_du_niveau_superieur )\n",
    "\n",
    "On cherchera donc des arbres qui trouvent un bon compromis entre une réduction de l'entropie et un gain d'information.\n",
    "\n",
    "\n",
    "\n",
    "Il faut réduire l'entropy de chaque sous-set.\n"
   ]
  },
  {
   "cell_type": "code",
   "execution_count": 369,
   "metadata": {
    "collapsed": false
   },
   "outputs": [
    {
     "data": {
      "text/plain": [
       "1.0"
      ]
     },
     "execution_count": 369,
     "metadata": {},
     "output_type": "execute_result"
    }
   ],
   "source": [
    "from sklearn import datasets\n",
    "from sklearn.tree import DecisionTreeClassifier\n",
    "X, y = datasets.make_classification(n_samples=1000, n_features=20)\n",
    "dt = DecisionTreeClassifier()\n",
    "dt.fit(X, y)\n",
    "preds = dt.predict(X)\n",
    "(y == preds).mean()"
   ]
  },
  {
   "cell_type": "code",
   "execution_count": 370,
   "metadata": {
    "collapsed": true
   },
   "outputs": [],
   "source": [
    "def several_decision_tree(n_tree, X, y, n_col =5):\n",
    "    import math\n",
    "    import time\n",
    "    debut = time.time()\n",
    "    training = np.random.choice([True, False], p=[0.75, 0.25], size=len(y))\n",
    "    n_ligne = int(math.ceil(n_tree/n_col))\n",
    "    f, ax = plt.subplots(n_ligne, n_col, figsize=(2*n_col, 2*n_ligne) )\n",
    "    plt.subplots_adjust(wspace = .4)\n",
    "    plt.subplots_adjust(hspace = .4)\n",
    "    accuracies = []\n",
    "    tree_index = 0\n",
    "    n_features = X.shape[1]\n",
    "    for depth in np.arange(1, n_tree+1):\n",
    "        dt = DecisionTreeClassifier(max_depth=depth)\n",
    "        dt.fit(X[training], y[training])\n",
    "        preds = dt.predict(X[~training])\n",
    "        accuracy = (preds == y[~training]).mean()\n",
    "        accuracies.append(accuracy)\n",
    "        ne0 = dt.feature_importances_!=0\n",
    "        vrai = [x for x in ne0 if x]\n",
    "        y_comp = dt.feature_importances_[ne0]\n",
    "        x_comp = np.arange(len(dt.feature_importances_))[ne0]\n",
    "        r = \"A %.3f \"%(accuracy,)\n",
    "        \n",
    "        local_ligne = math.floor(tree_index/n_col)\n",
    "        local_col = tree_index - n_col *local_ligne\n",
    "        \n",
    "        ax[local_ligne][local_col].set_xlim(0,20)\n",
    "        \n",
    "        ax[local_ligne][local_col].set_ylim( 0,1)\n",
    "        ax[local_ligne][local_col].set_title(r)\n",
    "        ax[local_ligne][local_col].bar(x_comp, y_comp, align='center')\n",
    "        tree_index += 1\n",
    "    f, ax = plt.subplots(figsize=(7,5))\n",
    "    ax.plot(range(1, n_tree+1), accuracies)\n",
    "\n",
    "    duree = time.time()-debut\n",
    "    print \"best tree = %s with accuracy = %s \"%(accuracies.index(max(accuracies)), max(accuracies))\n",
    "    print \"%s tree in %.2f sec\"%(n_tree, duree)"
   ]
  },
  {
   "cell_type": "code",
   "execution_count": 372,
   "metadata": {
    "collapsed": false
   },
   "outputs": [
    {
     "name": "stdout",
     "output_type": "stream",
     "text": [
      "best tree = 3 with accuracy = 0.953781512605 \n",
      "6 tree in 0.39 sec\n",
      "best tree = 1 with accuracy = 0.936758893281 \n",
      "10 tree in 0.59 sec\n",
      "best tree = 1 with accuracy = 0.948 \n",
      "20 tree in 1.08 sec\n"
     ]
    },
    {
     "data": {
      "image/png": "[encoded data removed]",
      "text/plain": [
       "<matplotlib.figure.Figure at 0x116d871d0>"
      ]
     },
     "metadata": {},
     "output_type": "display_data"
    },
    {
     "data": {
      "image/png": "[encoded data removed]",
      "text/plain": [
       "<matplotlib.figure.Figure at 0x117425290>"
      ]
     },
     "metadata": {},
     "output_type": "display_data"
    },
    {
     "data": {
      "image/png": "[encoded data removed]",
      "text/plain": [
       "<matplotlib.figure.Figure at 0x116d87290>"
      ]
     },
     "metadata": {},
     "output_type": "display_data"
    },
    {
     "data": {
      "image/png": "[encoded data removed]",
      "text/plain": [
       "<matplotlib.figure.Figure at 0x117c5dc50>"
      ]
     },
     "metadata": {},
     "output_type": "display_data"
    },
    {
     "data": {
      "image/png": "[encoded data removed]",
      "text/plain": [
       "<matplotlib.figure.Figure at 0x116cdf410>"
      ]
     },
     "metadata": {},
     "output_type": "display_data"
    },
    {
     "data": {
      "image/png": "[encoded data removed]",
      "text/plain": [
       "<matplotlib.figure.Figure at 0x119ed5b50>"
      ]
     },
     "metadata": {},
     "output_type": "display_data"
    }
   ],
   "source": [
    "several_decision_tree(6, X, y)\n",
    "several_decision_tree(10, X, y)\n",
    "several_decision_tree(20, X, y)"
   ]
  },
  {
   "cell_type": "markdown",
   "metadata": {},
   "source": [
    "# Utiliser des Forêts d'arbre"
   ]
  },
  {
   "cell_type": "markdown",
   "metadata": {},
   "source": [
    "Les classifieurs font des erreurs de biais et de variance. Chacun à sa manière. Pour améliorer la prédiction, il est préférable de demander à plusieurs arbre qu'elle est sa prédiction, et de faire une moyenne des prédictions. C'est l'un des principes des forêts aléatoires."
   ]
  },
  {
   "cell_type": "code",
   "execution_count": 374,
   "metadata": {
    "collapsed": false
   },
   "outputs": [
    {
     "name": "stdout",
     "output_type": "stream",
     "text": [
      "0.994\n"
     ]
    }
   ],
   "source": [
    "from sklearn.ensemble import RandomForestClassifier\n",
    "forest = RandomForestClassifier()\n",
    "forest.fit(X,y)\n",
    "print (y==forest.predict(X)).mean()\n"
   ]
  },
  {
   "cell_type": "code",
   "execution_count": 380,
   "metadata": {
    "collapsed": false
   },
   "outputs": [
    {
     "name": "stdout",
     "output_type": "stream",
     "text": [
      "Feature ranking:\n",
      "1. feature 13 (0.456400)\n",
      "2. feature 1 (0.168063)\n",
      "3. feature 16 (0.151131)\n",
      "4. feature 15 (0.090905)\n",
      "5. feature 17 (0.014483)\n",
      "6. feature 3 (0.012531)\n",
      "7. feature 19 (0.011692)\n",
      "8. feature 11 (0.010608)\n",
      "9. feature 12 (0.010331)\n",
      "10. feature 18 (0.009422)\n"
     ]
    },
    {
     "data": {
      "image/png": "[encoded data removed]",
      "text/plain": [
       "<matplotlib.figure.Figure at 0x119ecfdd0>"
      ]
     },
     "metadata": {},
     "output_type": "display_data"
    }
   ],
   "source": [
    "importances = forest.feature_importances_\n",
    "std = np.std([tree.feature_importances_ for tree in forest.estimators_], axis=0)\n",
    "indices = np.argsort(importances)[::-1]\n",
    "\n",
    "# Print the feature ranking\n",
    "print(\"Feature ranking:\")\n",
    "\n",
    "for f in range(10):\n",
    "    print(\"%d. feature %d (%f)\" % (f + 1, indices[f], importances[indices[f]]))\n",
    "\n",
    "# Plot the feature importances of the forest\n",
    "plt.figure()\n",
    "plt.title(\"Feature importances\")\n",
    "plt.bar(range(10), importances[indices][:10],color=\"r\", yerr=std[indices][:10], align=\"center\")\n",
    "plt.xticks(range(10), indices)\n",
    "plt.xlim([-1, 10])\n",
    "plt.show()"
   ]
  }
 ],
 "metadata": {
  "kernelspec": {
   "display_name": "Python 2",
   "language": "python",
   "name": "python2"
  },
  "language_info": {
   "codemirror_mode": {
    "name": "ipython",
    "version": 2
   },
   "file_extension": ".py",
   "mimetype": "text/x-python",
   "name": "python",
   "nbconvert_exporter": "python",
   "pygments_lexer": "ipython2",
   "version": "2.7.6"
  }
 },
 "nbformat": 4,
 "nbformat_minor": 0
}
