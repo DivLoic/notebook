{
 "metadata": {
  "name": "",
  "signature": "sha256:8123ca0cd599b3c5edbb670d766d37e3e713b739ef1d3e7c401916125ac44656"
 },
 "nbformat": 3,
 "nbformat_minor": 0,
 "worksheets": [
  {
   "cells": [
    {
     "cell_type": "code",
     "collapsed": false,
     "input": [
      "import pandas\n",
      "import pymongo\n",
      "from bson.code import Code"
     ],
     "language": "python",
     "metadata": {},
     "outputs": [],
     "prompt_number": 16
    },
    {
     "cell_type": "code",
     "collapsed": false,
     "input": [
      "db = pymongo.MongoClient().lapins"
     ],
     "language": "python",
     "metadata": {},
     "outputs": [],
     "prompt_number": 17
    },
    {
     "cell_type": "code",
     "collapsed": false,
     "input": [
      "mapp = Code(\"\"\" \n",
      "            function() {\n",
      "                this.regime.forEach(function(r){\n",
      "                    emit(r,1);\n",
      "                });\n",
      "            }\n",
      "            \"\"\")"
     ],
     "language": "python",
     "metadata": {},
     "outputs": [],
     "prompt_number": 18
    },
    {
     "cell_type": "code",
     "collapsed": false,
     "input": [
      "red = Code(\"\"\" \n",
      "            function(key, tab) {\n",
      "                var sum = 0;\n",
      "                for(var i; i < tab.length - 1; i++){\n",
      "                    sum += values[i];\n",
      "                }\n",
      "                return sum;\n",
      "            }\n",
      "\n",
      "            \"\"\")"
     ],
     "language": "python",
     "metadata": {},
     "outputs": [],
     "prompt_number": 19
    },
    {
     "cell_type": "code",
     "collapsed": false,
     "input": [
      "result = db.france.map_reduce(mapp, red, \"mapred_bunny\", query={\"genre\":\"h\"})"
     ],
     "language": "python",
     "metadata": {},
     "outputs": [],
     "prompt_number": 23
    },
    {
     "cell_type": "code",
     "collapsed": false,
     "input": [],
     "language": "python",
     "metadata": {},
     "outputs": []
    }
   ],
   "metadata": {}
  }
 ]
}